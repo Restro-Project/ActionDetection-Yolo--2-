{
 "cells": [
  {
   "cell_type": "markdown",
   "metadata": {},
   "source": [
    "# **Klasifikasi Gerakan untuk Rehabilitasi Stroke Menggunakan LSTM**\n",
    "Dataset yang akan digunakan adalah 10 video gerakan rehabilitasi untuk pasien stroke yang ditemukan di Internet.\n",
    "\n",
    "Proyek ini bertujuan untuk mendeteksi gerakan ...."
   ]
  },
  {
   "cell_type": "markdown",
   "metadata": {},
   "source": [
    "# **1. Import Library**"
   ]
  },
  {
   "cell_type": "code",
   "execution_count": 8,
   "metadata": {
    "execution": {
     "iopub.execute_input": "2025-05-26T03:55:59.703751Z",
     "iopub.status.busy": "2025-05-26T03:55:59.703426Z",
     "iopub.status.idle": "2025-05-26T03:57:37.190720Z",
     "shell.execute_reply": "2025-05-26T03:57:37.189459Z",
     "shell.execute_reply.started": "2025-05-26T03:55:59.703727Z"
    },
    "trusted": true
   },
   "outputs": [
    {
     "name": "stdout",
     "output_type": "stream",
     "text": [
      "Requirement already satisfied: ultralytics in c:\\users\\m fathurrahman\\videos\\laskar ai\\actiondetection-yolo--2-\\coba\\lib\\site-packages (8.3.144)\n",
      "Requirement already satisfied: opencv-python in c:\\users\\m fathurrahman\\videos\\laskar ai\\actiondetection-yolo--2-\\coba\\lib\\site-packages (4.11.0.86)\n",
      "Requirement already satisfied: numpy>=1.23.0 in c:\\users\\m fathurrahman\\videos\\laskar ai\\actiondetection-yolo--2-\\coba\\lib\\site-packages (from ultralytics) (2.1.3)\n",
      "Requirement already satisfied: matplotlib>=3.3.0 in c:\\users\\m fathurrahman\\videos\\laskar ai\\actiondetection-yolo--2-\\coba\\lib\\site-packages (from ultralytics) (3.10.3)\n",
      "Requirement already satisfied: pillow>=7.1.2 in c:\\users\\m fathurrahman\\videos\\laskar ai\\actiondetection-yolo--2-\\coba\\lib\\site-packages (from ultralytics) (11.2.1)\n",
      "Requirement already satisfied: pyyaml>=5.3.1 in c:\\users\\m fathurrahman\\videos\\laskar ai\\actiondetection-yolo--2-\\coba\\lib\\site-packages (from ultralytics) (6.0.2)\n",
      "Requirement already satisfied: requests>=2.23.0 in c:\\users\\m fathurrahman\\videos\\laskar ai\\actiondetection-yolo--2-\\coba\\lib\\site-packages (from ultralytics) (2.32.3)\n",
      "Requirement already satisfied: scipy>=1.4.1 in c:\\users\\m fathurrahman\\videos\\laskar ai\\actiondetection-yolo--2-\\coba\\lib\\site-packages (from ultralytics) (1.15.3)\n",
      "Requirement already satisfied: torch>=1.8.0 in c:\\users\\m fathurrahman\\videos\\laskar ai\\actiondetection-yolo--2-\\coba\\lib\\site-packages (from ultralytics) (2.7.0)\n",
      "Requirement already satisfied: torchvision>=0.9.0 in c:\\users\\m fathurrahman\\videos\\laskar ai\\actiondetection-yolo--2-\\coba\\lib\\site-packages (from ultralytics) (0.22.0)\n",
      "Requirement already satisfied: tqdm>=4.64.0 in c:\\users\\m fathurrahman\\videos\\laskar ai\\actiondetection-yolo--2-\\coba\\lib\\site-packages (from ultralytics) (4.67.1)\n",
      "Requirement already satisfied: psutil in c:\\users\\m fathurrahman\\videos\\laskar ai\\actiondetection-yolo--2-\\coba\\lib\\site-packages (from ultralytics) (7.0.0)\n",
      "Requirement already satisfied: py-cpuinfo in c:\\users\\m fathurrahman\\videos\\laskar ai\\actiondetection-yolo--2-\\coba\\lib\\site-packages (from ultralytics) (9.0.0)\n",
      "Requirement already satisfied: pandas>=1.1.4 in c:\\users\\m fathurrahman\\videos\\laskar ai\\actiondetection-yolo--2-\\coba\\lib\\site-packages (from ultralytics) (2.2.3)\n",
      "Requirement already satisfied: ultralytics-thop>=2.0.0 in c:\\users\\m fathurrahman\\videos\\laskar ai\\actiondetection-yolo--2-\\coba\\lib\\site-packages (from ultralytics) (2.0.14)\n",
      "Requirement already satisfied: contourpy>=1.0.1 in c:\\users\\m fathurrahman\\videos\\laskar ai\\actiondetection-yolo--2-\\coba\\lib\\site-packages (from matplotlib>=3.3.0->ultralytics) (1.3.2)\n",
      "Requirement already satisfied: cycler>=0.10 in c:\\users\\m fathurrahman\\videos\\laskar ai\\actiondetection-yolo--2-\\coba\\lib\\site-packages (from matplotlib>=3.3.0->ultralytics) (0.12.1)\n",
      "Requirement already satisfied: fonttools>=4.22.0 in c:\\users\\m fathurrahman\\videos\\laskar ai\\actiondetection-yolo--2-\\coba\\lib\\site-packages (from matplotlib>=3.3.0->ultralytics) (4.58.0)\n",
      "Requirement already satisfied: kiwisolver>=1.3.1 in c:\\users\\m fathurrahman\\videos\\laskar ai\\actiondetection-yolo--2-\\coba\\lib\\site-packages (from matplotlib>=3.3.0->ultralytics) (1.4.8)\n",
      "Requirement already satisfied: packaging>=20.0 in c:\\users\\m fathurrahman\\videos\\laskar ai\\actiondetection-yolo--2-\\coba\\lib\\site-packages (from matplotlib>=3.3.0->ultralytics) (25.0)\n",
      "Requirement already satisfied: pyparsing>=2.3.1 in c:\\users\\m fathurrahman\\videos\\laskar ai\\actiondetection-yolo--2-\\coba\\lib\\site-packages (from matplotlib>=3.3.0->ultralytics) (3.2.3)\n",
      "Requirement already satisfied: python-dateutil>=2.7 in c:\\users\\m fathurrahman\\videos\\laskar ai\\actiondetection-yolo--2-\\coba\\lib\\site-packages (from matplotlib>=3.3.0->ultralytics) (2.9.0.post0)\n",
      "Requirement already satisfied: pytz>=2020.1 in c:\\users\\m fathurrahman\\videos\\laskar ai\\actiondetection-yolo--2-\\coba\\lib\\site-packages (from pandas>=1.1.4->ultralytics) (2025.2)\n",
      "Requirement already satisfied: tzdata>=2022.7 in c:\\users\\m fathurrahman\\videos\\laskar ai\\actiondetection-yolo--2-\\coba\\lib\\site-packages (from pandas>=1.1.4->ultralytics) (2025.2)\n",
      "Requirement already satisfied: six>=1.5 in c:\\users\\m fathurrahman\\videos\\laskar ai\\actiondetection-yolo--2-\\coba\\lib\\site-packages (from python-dateutil>=2.7->matplotlib>=3.3.0->ultralytics) (1.17.0)\n",
      "Requirement already satisfied: charset-normalizer<4,>=2 in c:\\users\\m fathurrahman\\videos\\laskar ai\\actiondetection-yolo--2-\\coba\\lib\\site-packages (from requests>=2.23.0->ultralytics) (3.4.2)\n",
      "Requirement already satisfied: idna<4,>=2.5 in c:\\users\\m fathurrahman\\videos\\laskar ai\\actiondetection-yolo--2-\\coba\\lib\\site-packages (from requests>=2.23.0->ultralytics) (3.10)\n",
      "Requirement already satisfied: urllib3<3,>=1.21.1 in c:\\users\\m fathurrahman\\videos\\laskar ai\\actiondetection-yolo--2-\\coba\\lib\\site-packages (from requests>=2.23.0->ultralytics) (2.4.0)\n",
      "Requirement already satisfied: certifi>=2017.4.17 in c:\\users\\m fathurrahman\\videos\\laskar ai\\actiondetection-yolo--2-\\coba\\lib\\site-packages (from requests>=2.23.0->ultralytics) (2025.4.26)\n",
      "Requirement already satisfied: filelock in c:\\users\\m fathurrahman\\videos\\laskar ai\\actiondetection-yolo--2-\\coba\\lib\\site-packages (from torch>=1.8.0->ultralytics) (3.18.0)\n",
      "Requirement already satisfied: typing-extensions>=4.10.0 in c:\\users\\m fathurrahman\\videos\\laskar ai\\actiondetection-yolo--2-\\coba\\lib\\site-packages (from torch>=1.8.0->ultralytics) (4.13.2)\n",
      "Requirement already satisfied: sympy>=1.13.3 in c:\\users\\m fathurrahman\\videos\\laskar ai\\actiondetection-yolo--2-\\coba\\lib\\site-packages (from torch>=1.8.0->ultralytics) (1.14.0)\n",
      "Requirement already satisfied: networkx in c:\\users\\m fathurrahman\\videos\\laskar ai\\actiondetection-yolo--2-\\coba\\lib\\site-packages (from torch>=1.8.0->ultralytics) (3.4.2)\n",
      "Requirement already satisfied: jinja2 in c:\\users\\m fathurrahman\\videos\\laskar ai\\actiondetection-yolo--2-\\coba\\lib\\site-packages (from torch>=1.8.0->ultralytics) (3.1.6)\n",
      "Requirement already satisfied: fsspec in c:\\users\\m fathurrahman\\videos\\laskar ai\\actiondetection-yolo--2-\\coba\\lib\\site-packages (from torch>=1.8.0->ultralytics) (2025.5.1)\n",
      "Requirement already satisfied: mpmath<1.4,>=1.1.0 in c:\\users\\m fathurrahman\\videos\\laskar ai\\actiondetection-yolo--2-\\coba\\lib\\site-packages (from sympy>=1.13.3->torch>=1.8.0->ultralytics) (1.3.0)\n",
      "Requirement already satisfied: colorama in c:\\users\\m fathurrahman\\videos\\laskar ai\\actiondetection-yolo--2-\\coba\\lib\\site-packages (from tqdm>=4.64.0->ultralytics) (0.4.6)\n",
      "Requirement already satisfied: MarkupSafe>=2.0 in c:\\users\\m fathurrahman\\videos\\laskar ai\\actiondetection-yolo--2-\\coba\\lib\\site-packages (from jinja2->torch>=1.8.0->ultralytics) (3.0.2)\n",
      "Note: you may need to restart the kernel to use updated packages.\n"
     ]
    }
   ],
   "source": [
    "pip install ultralytics opencv-python"
   ]
  },
  {
   "cell_type": "code",
   "execution_count": 9,
   "metadata": {
    "execution": {
     "iopub.execute_input": "2025-05-26T03:57:37.193675Z",
     "iopub.status.busy": "2025-05-26T03:57:37.193282Z",
     "iopub.status.idle": "2025-05-26T03:57:37.199435Z",
     "shell.execute_reply": "2025-05-26T03:57:37.198253Z",
     "shell.execute_reply.started": "2025-05-26T03:57:37.193639Z"
    },
    "trusted": true
   },
   "outputs": [],
   "source": [
    "# pip install tensorflow"
   ]
  },
  {
   "cell_type": "code",
   "execution_count": 10,
   "metadata": {
    "execution": {
     "iopub.execute_input": "2025-05-26T03:57:37.200913Z",
     "iopub.status.busy": "2025-05-26T03:57:37.200648Z",
     "iopub.status.idle": "2025-05-26T03:57:59.976232Z",
     "shell.execute_reply": "2025-05-26T03:57:59.975179Z",
     "shell.execute_reply.started": "2025-05-26T03:57:37.200891Z"
    },
    "trusted": true
   },
   "outputs": [],
   "source": [
    "import os\n",
    "import cv2\n",
    "import pandas as pd\n",
    "import numpy as np\n",
    "import time\n",
    "import seaborn as sns\n",
    "import tensorflow as tf\n",
    "\n",
    "from matplotlib import pyplot as plt\n",
    "from tqdm import tqdm\n",
    "from collections import defaultdict, deque\n",
    "from sklearn.model_selection import GroupShuffleSplit\n",
    "from sklearn.metrics import classification_report, confusion_matrix, accuracy_score, precision_recall_fscore_support\n",
    "from tensorflow.keras.utils import to_categorical\n",
    "from tensorflow.keras.models import Sequential\n",
    "from tensorflow.keras.layers import LSTM, Dense, Dropout, BatchNormalization, GRU, Conv1D, GlobalAveragePooling1D\n",
    "from tensorflow.keras.callbacks import EarlyStopping, ModelCheckpoint, ReduceLROnPlateau\n",
    "from tensorflow.keras.models import load_model\n",
    "from tensorflow.keras.optimizers import Adam"
   ]
  },
  {
   "cell_type": "code",
   "execution_count": 11,
   "metadata": {},
   "outputs": [
    {
     "name": "stdout",
     "output_type": "stream",
     "text": [
      "c:\\Users\\M Fathurrahman\\Videos\\LASKAR AI\\ActionDetection-Yolo--2-\\coba\\Scripts\\python.exe\n",
      "3.10.9 (tags/v3.10.9:1dd9be6, Dec  6 2022, 20:01:21) [MSC v.1934 64 bit (AMD64)]\n"
     ]
    }
   ],
   "source": [
    "import sys\n",
    "print(sys.executable)\n",
    "print(sys.version)\n"
   ]
  },
  {
   "cell_type": "code",
   "execution_count": 12,
   "metadata": {},
   "outputs": [],
   "source": [
    "!pip install seaborn\n"
   ]
  },
  {
   "cell_type": "code",
   "execution_count": 13,
   "metadata": {},
   "outputs": [],
   "source": [
    "!pip install seaborn matplotlib tqdm\n"
   ]
  },
  {
   "cell_type": "markdown",
   "metadata": {},
   "source": [
    "# **2. Memuat Dataset**"
   ]
  },
  {
   "cell_type": "code",
   "execution_count": 14,
   "metadata": {
    "execution": {
     "iopub.execute_input": "2025-05-26T03:57:59.978413Z",
     "iopub.status.busy": "2025-05-26T03:57:59.977463Z",
     "iopub.status.idle": "2025-05-26T03:58:00.012291Z",
     "shell.execute_reply": "2025-05-26T03:58:00.011037Z",
     "shell.execute_reply.started": "2025-05-26T03:57:59.978374Z"
    },
    "trusted": true
   },
   "outputs": [
    {
     "name": "stdout",
     "output_type": "stream",
     "text": [
      "Kelas terdeteksi: ['Angkat Pinggul', 'Angkat Tangan', 'Lutut Turun', 'Naikan Kepalan Kedepan', 'Rentangkan'] \n",
      "\n"
     ]
    }
   ],
   "source": [
    "# Setup Folders for Collection\n",
    "VIDEO_DIR = 'dataset_video' \n",
    "sequence_length = 30         # frame per sequence\n",
    "stride = sequence_length      \n",
    "augment_mirror    = True     # hanya untuk train video\n",
    "test_video_idx  = -1         # video ke-berapa per kelas utk hold-out (-1 = terakhir)\n",
    "RANDOM_SEED     = 42\n",
    "TRAIN_VIDS, TEST_VIDS = {}, {}\n",
    "\n",
    "actions = sorted([d for d in os.listdir(VIDEO_DIR)\n",
    "                  if os.path.isdir(os.path.join(VIDEO_DIR,d))])\n",
    "print('Kelas terdeteksi:', actions, '\\n')\n",
    "\n",
    "vid_dict = defaultdict(list)   # {action: [video_path, …]}\n",
    "for act in actions:\n",
    "    for f in sorted(os.listdir(os.path.join(VIDEO_DIR,act))):\n",
    "        if f.lower().endswith(('.mp4','.mov','.avi','.mkv')):\n",
    "            vid_dict[act].append(os.path.join(VIDEO_DIR,act,f))"
   ]
  },
  {
   "cell_type": "markdown",
   "metadata": {},
   "source": [
    "# **3. Exploratory Data Analysis (EDA)**"
   ]
  },
  {
   "cell_type": "code",
   "execution_count": 15,
   "metadata": {
    "execution": {
     "iopub.execute_input": "2025-05-26T03:58:00.015593Z",
     "iopub.status.busy": "2025-05-26T03:58:00.015242Z",
     "iopub.status.idle": "2025-05-26T03:58:00.025437Z",
     "shell.execute_reply": "2025-05-26T03:58:00.022937Z",
     "shell.execute_reply.started": "2025-05-26T03:58:00.015559Z"
    },
    "trusted": true
   },
   "outputs": [
    {
     "name": "stdout",
     "output_type": "stream",
     "text": [
      "['Angkat Pinggul', 'Angkat Tangan', 'Lutut Turun', 'Naikan Kepalan Kedepan', 'Rentangkan']\n"
     ]
    }
   ],
   "source": [
    "print(os.listdir(VIDEO_DIR))"
   ]
  },
  {
   "cell_type": "code",
   "execution_count": 16,
   "metadata": {
    "execution": {
     "iopub.execute_input": "2025-05-26T03:58:00.027243Z",
     "iopub.status.busy": "2025-05-26T03:58:00.026795Z",
     "iopub.status.idle": "2025-05-26T03:58:00.052179Z",
     "shell.execute_reply": "2025-05-26T03:58:00.050489Z",
     "shell.execute_reply.started": "2025-05-26T03:58:00.027206Z"
    },
    "trusted": true
   },
   "outputs": [
    {
     "data": {
      "text/plain": [
       "5"
      ]
     },
     "execution_count": 16,
     "metadata": {},
     "output_type": "execute_result"
    }
   ],
   "source": [
    "VIDEO_DIR = 'dataset_video'\n",
    "len(os.listdir(VIDEO_DIR))"
   ]
  },
  {
   "cell_type": "code",
   "execution_count": 17,
   "metadata": {
    "execution": {
     "iopub.execute_input": "2025-05-26T03:58:00.054401Z",
     "iopub.status.busy": "2025-05-26T03:58:00.053438Z",
     "iopub.status.idle": "2025-05-26T03:58:01.937362Z",
     "shell.execute_reply": "2025-05-26T03:58:01.936181Z",
     "shell.execute_reply.started": "2025-05-26T03:58:00.054365Z"
    },
    "trusted": true
   },
   "outputs": [
    {
     "data": {
      "text/html": [
       "<div>\n",
       "<style scoped>\n",
       "    .dataframe tbody tr th:only-of-type {\n",
       "        vertical-align: middle;\n",
       "    }\n",
       "\n",
       "    .dataframe tbody tr th {\n",
       "        vertical-align: top;\n",
       "    }\n",
       "\n",
       "    .dataframe thead th {\n",
       "        text-align: right;\n",
       "    }\n",
       "</style>\n",
       "<table border=\"1\" class=\"dataframe\">\n",
       "  <thead>\n",
       "    <tr style=\"text-align: right;\">\n",
       "      <th></th>\n",
       "      <th>action</th>\n",
       "      <th>video</th>\n",
       "      <th>fps</th>\n",
       "      <th>frames</th>\n",
       "      <th>duration</th>\n",
       "    </tr>\n",
       "  </thead>\n",
       "  <tbody>\n",
       "    <tr>\n",
       "      <th>0</th>\n",
       "      <td>Angkat Pinggul</td>\n",
       "      <td>1.MOV</td>\n",
       "      <td>59.953704</td>\n",
       "      <td>259</td>\n",
       "      <td>4.320000</td>\n",
       "    </tr>\n",
       "    <tr>\n",
       "      <th>1</th>\n",
       "      <td>Angkat Pinggul</td>\n",
       "      <td>10.mp4</td>\n",
       "      <td>30.000000</td>\n",
       "      <td>104</td>\n",
       "      <td>3.466667</td>\n",
       "    </tr>\n",
       "    <tr>\n",
       "      <th>2</th>\n",
       "      <td>Angkat Pinggul</td>\n",
       "      <td>2.MOV</td>\n",
       "      <td>59.957326</td>\n",
       "      <td>281</td>\n",
       "      <td>4.686667</td>\n",
       "    </tr>\n",
       "    <tr>\n",
       "      <th>3</th>\n",
       "      <td>Angkat Pinggul</td>\n",
       "      <td>3.mp4</td>\n",
       "      <td>24.919779</td>\n",
       "      <td>146</td>\n",
       "      <td>5.858800</td>\n",
       "    </tr>\n",
       "    <tr>\n",
       "      <th>4</th>\n",
       "      <td>Angkat Pinggul</td>\n",
       "      <td>4.mp4</td>\n",
       "      <td>24.919583</td>\n",
       "      <td>149</td>\n",
       "      <td>5.979233</td>\n",
       "    </tr>\n",
       "    <tr>\n",
       "      <th>5</th>\n",
       "      <td>Angkat Pinggul</td>\n",
       "      <td>5.mp4</td>\n",
       "      <td>24.912027</td>\n",
       "      <td>202</td>\n",
       "      <td>8.108533</td>\n",
       "    </tr>\n",
       "    <tr>\n",
       "      <th>6</th>\n",
       "      <td>Angkat Pinggul</td>\n",
       "      <td>6.mp4</td>\n",
       "      <td>24.927840</td>\n",
       "      <td>114</td>\n",
       "      <td>4.573200</td>\n",
       "    </tr>\n",
       "    <tr>\n",
       "      <th>7</th>\n",
       "      <td>Angkat Pinggul</td>\n",
       "      <td>7.mp4</td>\n",
       "      <td>30.000000</td>\n",
       "      <td>139</td>\n",
       "      <td>4.633333</td>\n",
       "    </tr>\n",
       "    <tr>\n",
       "      <th>8</th>\n",
       "      <td>Angkat Pinggul</td>\n",
       "      <td>8.mp4</td>\n",
       "      <td>30.000000</td>\n",
       "      <td>157</td>\n",
       "      <td>5.233333</td>\n",
       "    </tr>\n",
       "    <tr>\n",
       "      <th>9</th>\n",
       "      <td>Angkat Pinggul</td>\n",
       "      <td>9.mp4</td>\n",
       "      <td>30.000000</td>\n",
       "      <td>145</td>\n",
       "      <td>4.833333</td>\n",
       "    </tr>\n",
       "    <tr>\n",
       "      <th>10</th>\n",
       "      <td>Angkat Tangan</td>\n",
       "      <td>1.mp4</td>\n",
       "      <td>24.926164</td>\n",
       "      <td>119</td>\n",
       "      <td>4.774100</td>\n",
       "    </tr>\n",
       "    <tr>\n",
       "      <th>11</th>\n",
       "      <td>Angkat Tangan</td>\n",
       "      <td>10.mp4</td>\n",
       "      <td>30.000000</td>\n",
       "      <td>108</td>\n",
       "      <td>3.600000</td>\n",
       "    </tr>\n",
       "    <tr>\n",
       "      <th>12</th>\n",
       "      <td>Angkat Tangan</td>\n",
       "      <td>2.mp4</td>\n",
       "      <td>24.936774</td>\n",
       "      <td>94</td>\n",
       "      <td>3.769533</td>\n",
       "    </tr>\n",
       "    <tr>\n",
       "      <th>13</th>\n",
       "      <td>Angkat Tangan</td>\n",
       "      <td>3.mp4</td>\n",
       "      <td>30.000000</td>\n",
       "      <td>134</td>\n",
       "      <td>4.466667</td>\n",
       "    </tr>\n",
       "    <tr>\n",
       "      <th>14</th>\n",
       "      <td>Angkat Tangan</td>\n",
       "      <td>4.mp4</td>\n",
       "      <td>30.000000</td>\n",
       "      <td>89</td>\n",
       "      <td>2.966667</td>\n",
       "    </tr>\n",
       "    <tr>\n",
       "      <th>15</th>\n",
       "      <td>Angkat Tangan</td>\n",
       "      <td>5.mp4</td>\n",
       "      <td>30.000000</td>\n",
       "      <td>112</td>\n",
       "      <td>3.733333</td>\n",
       "    </tr>\n",
       "    <tr>\n",
       "      <th>16</th>\n",
       "      <td>Angkat Tangan</td>\n",
       "      <td>6.mp4</td>\n",
       "      <td>30.000000</td>\n",
       "      <td>126</td>\n",
       "      <td>4.200000</td>\n",
       "    </tr>\n",
       "    <tr>\n",
       "      <th>17</th>\n",
       "      <td>Angkat Tangan</td>\n",
       "      <td>7.mp4</td>\n",
       "      <td>30.000000</td>\n",
       "      <td>112</td>\n",
       "      <td>3.733333</td>\n",
       "    </tr>\n",
       "    <tr>\n",
       "      <th>18</th>\n",
       "      <td>Angkat Tangan</td>\n",
       "      <td>8.mp4</td>\n",
       "      <td>30.000000</td>\n",
       "      <td>103</td>\n",
       "      <td>3.433333</td>\n",
       "    </tr>\n",
       "    <tr>\n",
       "      <th>19</th>\n",
       "      <td>Angkat Tangan</td>\n",
       "      <td>9.mp4</td>\n",
       "      <td>30.000000</td>\n",
       "      <td>111</td>\n",
       "      <td>3.700000</td>\n",
       "    </tr>\n",
       "    <tr>\n",
       "      <th>20</th>\n",
       "      <td>Lutut Turun</td>\n",
       "      <td>1.MOV</td>\n",
       "      <td>59.957627</td>\n",
       "      <td>283</td>\n",
       "      <td>4.720000</td>\n",
       "    </tr>\n",
       "    <tr>\n",
       "      <th>21</th>\n",
       "      <td>Lutut Turun</td>\n",
       "      <td>10.mp4</td>\n",
       "      <td>30.000000</td>\n",
       "      <td>89</td>\n",
       "      <td>2.966667</td>\n",
       "    </tr>\n",
       "    <tr>\n",
       "      <th>22</th>\n",
       "      <td>Lutut Turun</td>\n",
       "      <td>2.MOV</td>\n",
       "      <td>59.955752</td>\n",
       "      <td>271</td>\n",
       "      <td>4.520000</td>\n",
       "    </tr>\n",
       "    <tr>\n",
       "      <th>23</th>\n",
       "      <td>Lutut Turun</td>\n",
       "      <td>3.mp4</td>\n",
       "      <td>24.924060</td>\n",
       "      <td>128</td>\n",
       "      <td>5.135600</td>\n",
       "    </tr>\n",
       "    <tr>\n",
       "      <th>24</th>\n",
       "      <td>Lutut Turun</td>\n",
       "      <td>4.mp4</td>\n",
       "      <td>24.925291</td>\n",
       "      <td>124</td>\n",
       "      <td>4.974867</td>\n",
       "    </tr>\n",
       "    <tr>\n",
       "      <th>25</th>\n",
       "      <td>Lutut Turun</td>\n",
       "      <td>5.mp4</td>\n",
       "      <td>24.924060</td>\n",
       "      <td>128</td>\n",
       "      <td>5.135600</td>\n",
       "    </tr>\n",
       "    <tr>\n",
       "      <th>26</th>\n",
       "      <td>Lutut Turun</td>\n",
       "      <td>6.mp4</td>\n",
       "      <td>24.932373</td>\n",
       "      <td>102</td>\n",
       "      <td>4.091067</td>\n",
       "    </tr>\n",
       "    <tr>\n",
       "      <th>27</th>\n",
       "      <td>Lutut Turun</td>\n",
       "      <td>7.mp4</td>\n",
       "      <td>30.000000</td>\n",
       "      <td>151</td>\n",
       "      <td>5.033333</td>\n",
       "    </tr>\n",
       "    <tr>\n",
       "      <th>28</th>\n",
       "      <td>Lutut Turun</td>\n",
       "      <td>8.mp4</td>\n",
       "      <td>30.000000</td>\n",
       "      <td>148</td>\n",
       "      <td>4.933333</td>\n",
       "    </tr>\n",
       "    <tr>\n",
       "      <th>29</th>\n",
       "      <td>Lutut Turun</td>\n",
       "      <td>9.mp4</td>\n",
       "      <td>30.000000</td>\n",
       "      <td>125</td>\n",
       "      <td>4.166667</td>\n",
       "    </tr>\n",
       "    <tr>\n",
       "      <th>30</th>\n",
       "      <td>Naikan Kepalan Kedepan</td>\n",
       "      <td>1.mp4</td>\n",
       "      <td>24.928120</td>\n",
       "      <td>113</td>\n",
       "      <td>4.533033</td>\n",
       "    </tr>\n",
       "    <tr>\n",
       "      <th>31</th>\n",
       "      <td>Naikan Kepalan Kedepan</td>\n",
       "      <td>10.mp4</td>\n",
       "      <td>30.000000</td>\n",
       "      <td>154</td>\n",
       "      <td>5.133333</td>\n",
       "    </tr>\n",
       "    <tr>\n",
       "      <th>32</th>\n",
       "      <td>Naikan Kepalan Kedepan</td>\n",
       "      <td>2.mp4</td>\n",
       "      <td>24.918153</td>\n",
       "      <td>154</td>\n",
       "      <td>6.180233</td>\n",
       "    </tr>\n",
       "    <tr>\n",
       "      <th>33</th>\n",
       "      <td>Naikan Kepalan Kedepan</td>\n",
       "      <td>3.mp4</td>\n",
       "      <td>24.924060</td>\n",
       "      <td>128</td>\n",
       "      <td>5.135600</td>\n",
       "    </tr>\n",
       "    <tr>\n",
       "      <th>34</th>\n",
       "      <td>Naikan Kepalan Kedepan</td>\n",
       "      <td>4.mp4</td>\n",
       "      <td>24.917590</td>\n",
       "      <td>160</td>\n",
       "      <td>6.421167</td>\n",
       "    </tr>\n",
       "    <tr>\n",
       "      <th>35</th>\n",
       "      <td>Naikan Kepalan Kedepan</td>\n",
       "      <td>5.MOV</td>\n",
       "      <td>59.956395</td>\n",
       "      <td>275</td>\n",
       "      <td>4.586667</td>\n",
       "    </tr>\n",
       "    <tr>\n",
       "      <th>36</th>\n",
       "      <td>Naikan Kepalan Kedepan</td>\n",
       "      <td>6.MOV</td>\n",
       "      <td>59.956553</td>\n",
       "      <td>276</td>\n",
       "      <td>4.603333</td>\n",
       "    </tr>\n",
       "    <tr>\n",
       "      <th>37</th>\n",
       "      <td>Naikan Kepalan Kedepan</td>\n",
       "      <td>7.mp4</td>\n",
       "      <td>30.000000</td>\n",
       "      <td>214</td>\n",
       "      <td>7.133333</td>\n",
       "    </tr>\n",
       "    <tr>\n",
       "      <th>38</th>\n",
       "      <td>Naikan Kepalan Kedepan</td>\n",
       "      <td>8.mp4</td>\n",
       "      <td>30.000000</td>\n",
       "      <td>136</td>\n",
       "      <td>4.533333</td>\n",
       "    </tr>\n",
       "    <tr>\n",
       "      <th>39</th>\n",
       "      <td>Naikan Kepalan Kedepan</td>\n",
       "      <td>9.mp4</td>\n",
       "      <td>30.000000</td>\n",
       "      <td>166</td>\n",
       "      <td>5.533333</td>\n",
       "    </tr>\n",
       "    <tr>\n",
       "      <th>40</th>\n",
       "      <td>Rentangkan</td>\n",
       "      <td>1.mp4</td>\n",
       "      <td>24.933678</td>\n",
       "      <td>99</td>\n",
       "      <td>3.970533</td>\n",
       "    </tr>\n",
       "    <tr>\n",
       "      <th>41</th>\n",
       "      <td>Rentangkan</td>\n",
       "      <td>10.mp4</td>\n",
       "      <td>30.000000</td>\n",
       "      <td>146</td>\n",
       "      <td>4.866667</td>\n",
       "    </tr>\n",
       "    <tr>\n",
       "      <th>42</th>\n",
       "      <td>Rentangkan</td>\n",
       "      <td>2.mp4</td>\n",
       "      <td>24.927208</td>\n",
       "      <td>119</td>\n",
       "      <td>4.773900</td>\n",
       "    </tr>\n",
       "    <tr>\n",
       "      <th>43</th>\n",
       "      <td>Rentangkan</td>\n",
       "      <td>3.mp4</td>\n",
       "      <td>24.936774</td>\n",
       "      <td>94</td>\n",
       "      <td>3.769533</td>\n",
       "    </tr>\n",
       "    <tr>\n",
       "      <th>44</th>\n",
       "      <td>Rentangkan</td>\n",
       "      <td>4.mp4</td>\n",
       "      <td>24.923631</td>\n",
       "      <td>130</td>\n",
       "      <td>5.215933</td>\n",
       "    </tr>\n",
       "    <tr>\n",
       "      <th>45</th>\n",
       "      <td>Rentangkan</td>\n",
       "      <td>5.MOV</td>\n",
       "      <td>29.971182</td>\n",
       "      <td>156</td>\n",
       "      <td>5.205000</td>\n",
       "    </tr>\n",
       "    <tr>\n",
       "      <th>46</th>\n",
       "      <td>Rentangkan</td>\n",
       "      <td>6.MOV</td>\n",
       "      <td>59.970312</td>\n",
       "      <td>202</td>\n",
       "      <td>3.368333</td>\n",
       "    </tr>\n",
       "    <tr>\n",
       "      <th>47</th>\n",
       "      <td>Rentangkan</td>\n",
       "      <td>7.mp4</td>\n",
       "      <td>30.000000</td>\n",
       "      <td>142</td>\n",
       "      <td>4.733333</td>\n",
       "    </tr>\n",
       "    <tr>\n",
       "      <th>48</th>\n",
       "      <td>Rentangkan</td>\n",
       "      <td>8.mp4</td>\n",
       "      <td>30.000000</td>\n",
       "      <td>155</td>\n",
       "      <td>5.166667</td>\n",
       "    </tr>\n",
       "    <tr>\n",
       "      <th>49</th>\n",
       "      <td>Rentangkan</td>\n",
       "      <td>9.mp4</td>\n",
       "      <td>30.000000</td>\n",
       "      <td>103</td>\n",
       "      <td>3.433333</td>\n",
       "    </tr>\n",
       "  </tbody>\n",
       "</table>\n",
       "</div>"
      ],
      "text/plain": [
       "                    action   video        fps  frames  duration\n",
       "0           Angkat Pinggul   1.MOV  59.953704     259  4.320000\n",
       "1           Angkat Pinggul  10.mp4  30.000000     104  3.466667\n",
       "2           Angkat Pinggul   2.MOV  59.957326     281  4.686667\n",
       "3           Angkat Pinggul   3.mp4  24.919779     146  5.858800\n",
       "4           Angkat Pinggul   4.mp4  24.919583     149  5.979233\n",
       "5           Angkat Pinggul   5.mp4  24.912027     202  8.108533\n",
       "6           Angkat Pinggul   6.mp4  24.927840     114  4.573200\n",
       "7           Angkat Pinggul   7.mp4  30.000000     139  4.633333\n",
       "8           Angkat Pinggul   8.mp4  30.000000     157  5.233333\n",
       "9           Angkat Pinggul   9.mp4  30.000000     145  4.833333\n",
       "10           Angkat Tangan   1.mp4  24.926164     119  4.774100\n",
       "11           Angkat Tangan  10.mp4  30.000000     108  3.600000\n",
       "12           Angkat Tangan   2.mp4  24.936774      94  3.769533\n",
       "13           Angkat Tangan   3.mp4  30.000000     134  4.466667\n",
       "14           Angkat Tangan   4.mp4  30.000000      89  2.966667\n",
       "15           Angkat Tangan   5.mp4  30.000000     112  3.733333\n",
       "16           Angkat Tangan   6.mp4  30.000000     126  4.200000\n",
       "17           Angkat Tangan   7.mp4  30.000000     112  3.733333\n",
       "18           Angkat Tangan   8.mp4  30.000000     103  3.433333\n",
       "19           Angkat Tangan   9.mp4  30.000000     111  3.700000\n",
       "20             Lutut Turun   1.MOV  59.957627     283  4.720000\n",
       "21             Lutut Turun  10.mp4  30.000000      89  2.966667\n",
       "22             Lutut Turun   2.MOV  59.955752     271  4.520000\n",
       "23             Lutut Turun   3.mp4  24.924060     128  5.135600\n",
       "24             Lutut Turun   4.mp4  24.925291     124  4.974867\n",
       "25             Lutut Turun   5.mp4  24.924060     128  5.135600\n",
       "26             Lutut Turun   6.mp4  24.932373     102  4.091067\n",
       "27             Lutut Turun   7.mp4  30.000000     151  5.033333\n",
       "28             Lutut Turun   8.mp4  30.000000     148  4.933333\n",
       "29             Lutut Turun   9.mp4  30.000000     125  4.166667\n",
       "30  Naikan Kepalan Kedepan   1.mp4  24.928120     113  4.533033\n",
       "31  Naikan Kepalan Kedepan  10.mp4  30.000000     154  5.133333\n",
       "32  Naikan Kepalan Kedepan   2.mp4  24.918153     154  6.180233\n",
       "33  Naikan Kepalan Kedepan   3.mp4  24.924060     128  5.135600\n",
       "34  Naikan Kepalan Kedepan   4.mp4  24.917590     160  6.421167\n",
       "35  Naikan Kepalan Kedepan   5.MOV  59.956395     275  4.586667\n",
       "36  Naikan Kepalan Kedepan   6.MOV  59.956553     276  4.603333\n",
       "37  Naikan Kepalan Kedepan   7.mp4  30.000000     214  7.133333\n",
       "38  Naikan Kepalan Kedepan   8.mp4  30.000000     136  4.533333\n",
       "39  Naikan Kepalan Kedepan   9.mp4  30.000000     166  5.533333\n",
       "40              Rentangkan   1.mp4  24.933678      99  3.970533\n",
       "41              Rentangkan  10.mp4  30.000000     146  4.866667\n",
       "42              Rentangkan   2.mp4  24.927208     119  4.773900\n",
       "43              Rentangkan   3.mp4  24.936774      94  3.769533\n",
       "44              Rentangkan   4.mp4  24.923631     130  5.215933\n",
       "45              Rentangkan   5.MOV  29.971182     156  5.205000\n",
       "46              Rentangkan   6.MOV  59.970312     202  3.368333\n",
       "47              Rentangkan   7.mp4  30.000000     142  4.733333\n",
       "48              Rentangkan   8.mp4  30.000000     155  5.166667\n",
       "49              Rentangkan   9.mp4  30.000000     103  3.433333"
      ]
     },
     "metadata": {},
     "output_type": "display_data"
    },
    {
     "data": {
      "image/png": "[encoded data removed]",
      "text/plain": [
       "<Figure size 640x480 with 1 Axes>"
      ]
     },
     "metadata": {},
     "output_type": "display_data"
    }
   ],
   "source": [
    "rows=[]\n",
    "for act in actions:\n",
    "    for vp in vid_dict[act]:\n",
    "        cap=cv2.VideoCapture(vp)\n",
    "        fps  = cap.get(cv2.CAP_PROP_FPS) or 30\n",
    "        nfrm = int(cap.get(cv2.CAP_PROP_FRAME_COUNT))\n",
    "        dur  = nfrm/fps\n",
    "        rows.append(dict(action=act, video=os.path.basename(vp),\n",
    "                         fps=fps, frames=nfrm, duration=dur))\n",
    "        cap.release()\n",
    "df=pd.DataFrame(rows)\n",
    "display(df)\n",
    "sns.barplot(data=df,x='action',y='duration')\n",
    "plt.xticks(rotation=45); plt.title('Durasi per Video'); plt.show()"
   ]
  },
  {
   "cell_type": "markdown",
   "metadata": {},
   "source": [
    "# **4. Preprocessing**"
   ]
  },
  {
   "cell_type": "markdown",
   "metadata": {},
   "source": [
    "### Ekstraksi Keypoints\n"
   ]
  },
  {
   "cell_type": "code",
   "execution_count": 18,
   "metadata": {
    "execution": {
     "iopub.execute_input": "2025-05-26T03:58:01.938922Z",
     "iopub.status.busy": "2025-05-26T03:58:01.938575Z",
     "iopub.status.idle": "2025-05-26T04:14:40.154106Z",
     "shell.execute_reply": "2025-05-26T04:14:40.153295Z",
     "shell.execute_reply.started": "2025-05-26T03:58:01.938898Z"
    },
    "trusted": true
   },
   "outputs": [
    {
     "name": "stderr",
     "output_type": "stream",
     "text": [
      "Proses Angkat Pinggul:  10%|█         | 1/10 [00:13<02:02, 13.61s/it]"
     ]
    },
    {
     "name": "stdout",
     "output_type": "stream",
     "text": [
      "✅ Keypoint disimpan: keypoints\\Angkat Pinggul\\1.npy\n"
     ]
    },
    {
     "name": "stderr",
     "output_type": "stream",
     "text": [
      "Proses Angkat Pinggul:  20%|██        | 2/10 [00:18<01:07,  8.42s/it]"
     ]
    },
    {
     "name": "stdout",
     "output_type": "stream",
     "text": [
      "✅ Keypoint disimpan: keypoints\\Angkat Pinggul\\10.npy\n"
     ]
    },
    {
     "name": "stderr",
     "output_type": "stream",
     "text": [
      "Proses Angkat Pinggul:  30%|███       | 3/10 [00:30<01:10, 10.01s/it]"
     ]
    },
    {
     "name": "stdout",
     "output_type": "stream",
     "text": [
      "✅ Keypoint disimpan: keypoints\\Angkat Pinggul\\2.npy\n"
     ]
    },
    {
     "name": "stderr",
     "output_type": "stream",
     "text": [
      "Proses Angkat Pinggul:  40%|████      | 4/10 [00:35<00:49,  8.30s/it]"
     ]
    },
    {
     "name": "stdout",
     "output_type": "stream",
     "text": [
      "✅ Keypoint disimpan: keypoints\\Angkat Pinggul\\3.npy\n"
     ]
    },
    {
     "name": "stderr",
     "output_type": "stream",
     "text": [
      "Proses Angkat Pinggul:  50%|█████     | 5/10 [00:41<00:36,  7.40s/it]"
     ]
    },
    {
     "name": "stdout",
     "output_type": "stream",
     "text": [
      "✅ Keypoint disimpan: keypoints\\Angkat Pinggul\\4.npy\n"
     ]
    },
    {
     "name": "stderr",
     "output_type": "stream",
     "text": [
      "Proses Angkat Pinggul:  60%|██████    | 6/10 [00:49<00:30,  7.55s/it]"
     ]
    },
    {
     "name": "stdout",
     "output_type": "stream",
     "text": [
      "✅ Keypoint disimpan: keypoints\\Angkat Pinggul\\5.npy\n"
     ]
    },
    {
     "name": "stderr",
     "output_type": "stream",
     "text": [
      "Proses Angkat Pinggul:  70%|███████   | 7/10 [00:54<00:19,  6.53s/it]"
     ]
    },
    {
     "name": "stdout",
     "output_type": "stream",
     "text": [
      "✅ Keypoint disimpan: keypoints\\Angkat Pinggul\\6.npy\n"
     ]
    },
    {
     "name": "stderr",
     "output_type": "stream",
     "text": [
      "Proses Angkat Pinggul:  80%|████████  | 8/10 [01:00<00:12,  6.37s/it]"
     ]
    },
    {
     "name": "stdout",
     "output_type": "stream",
     "text": [
      "✅ Keypoint disimpan: keypoints\\Angkat Pinggul\\7.npy\n"
     ]
    },
    {
     "name": "stderr",
     "output_type": "stream",
     "text": [
      "Proses Angkat Pinggul:  90%|█████████ | 9/10 [01:06<00:06,  6.52s/it]"
     ]
    },
    {
     "name": "stdout",
     "output_type": "stream",
     "text": [
      "✅ Keypoint disimpan: keypoints\\Angkat Pinggul\\8.npy\n"
     ]
    },
    {
     "name": "stderr",
     "output_type": "stream",
     "text": [
      "Proses Angkat Pinggul: 100%|██████████| 10/10 [01:13<00:00,  7.33s/it]\n"
     ]
    },
    {
     "name": "stdout",
     "output_type": "stream",
     "text": [
      "✅ Keypoint disimpan: keypoints\\Angkat Pinggul\\9.npy\n"
     ]
    },
    {
     "name": "stderr",
     "output_type": "stream",
     "text": [
      "Proses Angkat Tangan:  10%|█         | 1/10 [00:04<00:42,  4.68s/it]"
     ]
    },
    {
     "name": "stdout",
     "output_type": "stream",
     "text": [
      "✅ Keypoint disimpan: keypoints\\Angkat Tangan\\1.npy\n"
     ]
    },
    {
     "name": "stderr",
     "output_type": "stream",
     "text": [
      "Proses Angkat Tangan:  20%|██        | 2/10 [00:09<00:38,  4.79s/it]"
     ]
    },
    {
     "name": "stdout",
     "output_type": "stream",
     "text": [
      "✅ Keypoint disimpan: keypoints\\Angkat Tangan\\10.npy\n"
     ]
    },
    {
     "name": "stderr",
     "output_type": "stream",
     "text": [
      "Proses Angkat Tangan:  30%|███       | 3/10 [00:13<00:29,  4.28s/it]"
     ]
    },
    {
     "name": "stdout",
     "output_type": "stream",
     "text": [
      "✅ Keypoint disimpan: keypoints\\Angkat Tangan\\2.npy\n"
     ]
    },
    {
     "name": "stderr",
     "output_type": "stream",
     "text": [
      "Proses Angkat Tangan:  40%|████      | 4/10 [00:19<00:29,  4.89s/it]"
     ]
    },
    {
     "name": "stdout",
     "output_type": "stream",
     "text": [
      "✅ Keypoint disimpan: keypoints\\Angkat Tangan\\3.npy\n"
     ]
    },
    {
     "name": "stderr",
     "output_type": "stream",
     "text": [
      "Proses Angkat Tangan:  50%|█████     | 5/10 [00:23<00:22,  4.59s/it]"
     ]
    },
    {
     "name": "stdout",
     "output_type": "stream",
     "text": [
      "✅ Keypoint disimpan: keypoints\\Angkat Tangan\\4.npy\n"
     ]
    },
    {
     "name": "stderr",
     "output_type": "stream",
     "text": [
      "Proses Angkat Tangan:  60%|██████    | 6/10 [00:28<00:18,  4.71s/it]"
     ]
    },
    {
     "name": "stdout",
     "output_type": "stream",
     "text": [
      "✅ Keypoint disimpan: keypoints\\Angkat Tangan\\5.npy\n"
     ]
    },
    {
     "name": "stderr",
     "output_type": "stream",
     "text": [
      "Proses Angkat Tangan:  70%|███████   | 7/10 [00:33<00:14,  4.96s/it]"
     ]
    },
    {
     "name": "stdout",
     "output_type": "stream",
     "text": [
      "✅ Keypoint disimpan: keypoints\\Angkat Tangan\\6.npy\n"
     ]
    },
    {
     "name": "stderr",
     "output_type": "stream",
     "text": [
      "Proses Angkat Tangan:  80%|████████  | 8/10 [00:38<00:09,  4.93s/it]"
     ]
    },
    {
     "name": "stdout",
     "output_type": "stream",
     "text": [
      "✅ Keypoint disimpan: keypoints\\Angkat Tangan\\7.npy\n"
     ]
    },
    {
     "name": "stderr",
     "output_type": "stream",
     "text": [
      "Proses Angkat Tangan:  90%|█████████ | 9/10 [00:42<00:04,  4.80s/it]"
     ]
    },
    {
     "name": "stdout",
     "output_type": "stream",
     "text": [
      "✅ Keypoint disimpan: keypoints\\Angkat Tangan\\8.npy\n"
     ]
    },
    {
     "name": "stderr",
     "output_type": "stream",
     "text": [
      "Proses Angkat Tangan: 100%|██████████| 10/10 [00:47<00:00,  4.77s/it]\n"
     ]
    },
    {
     "name": "stdout",
     "output_type": "stream",
     "text": [
      "✅ Keypoint disimpan: keypoints\\Angkat Tangan\\9.npy\n"
     ]
    },
    {
     "name": "stderr",
     "output_type": "stream",
     "text": [
      "Proses Lutut Turun:  10%|█         | 1/10 [00:12<01:51, 12.38s/it]"
     ]
    },
    {
     "name": "stdout",
     "output_type": "stream",
     "text": [
      "✅ Keypoint disimpan: keypoints\\Lutut Turun\\1.npy\n"
     ]
    },
    {
     "name": "stderr",
     "output_type": "stream",
     "text": [
      "Proses Lutut Turun:  20%|██        | 2/10 [00:16<00:58,  7.33s/it]"
     ]
    },
    {
     "name": "stdout",
     "output_type": "stream",
     "text": [
      "✅ Keypoint disimpan: keypoints\\Lutut Turun\\10.npy\n"
     ]
    },
    {
     "name": "stderr",
     "output_type": "stream",
     "text": [
      "Proses Lutut Turun:  30%|███       | 3/10 [00:27<01:05,  9.37s/it]"
     ]
    },
    {
     "name": "stdout",
     "output_type": "stream",
     "text": [
      "✅ Keypoint disimpan: keypoints\\Lutut Turun\\2.npy\n"
     ]
    },
    {
     "name": "stderr",
     "output_type": "stream",
     "text": [
      "Proses Lutut Turun:  40%|████      | 4/10 [00:33<00:45,  7.66s/it]"
     ]
    },
    {
     "name": "stdout",
     "output_type": "stream",
     "text": [
      "✅ Keypoint disimpan: keypoints\\Lutut Turun\\3.npy\n"
     ]
    },
    {
     "name": "stderr",
     "output_type": "stream",
     "text": [
      "Proses Lutut Turun:  50%|█████     | 5/10 [00:37<00:33,  6.63s/it]"
     ]
    },
    {
     "name": "stdout",
     "output_type": "stream",
     "text": [
      "✅ Keypoint disimpan: keypoints\\Lutut Turun\\4.npy\n"
     ]
    },
    {
     "name": "stderr",
     "output_type": "stream",
     "text": [
      "Proses Lutut Turun:  60%|██████    | 6/10 [00:42<00:24,  6.06s/it]"
     ]
    },
    {
     "name": "stdout",
     "output_type": "stream",
     "text": [
      "✅ Keypoint disimpan: keypoints\\Lutut Turun\\5.npy\n"
     ]
    },
    {
     "name": "stderr",
     "output_type": "stream",
     "text": [
      "Proses Lutut Turun:  70%|███████   | 7/10 [00:46<00:16,  5.38s/it]"
     ]
    },
    {
     "name": "stdout",
     "output_type": "stream",
     "text": [
      "✅ Keypoint disimpan: keypoints\\Lutut Turun\\6.npy\n"
     ]
    },
    {
     "name": "stderr",
     "output_type": "stream",
     "text": [
      "Proses Lutut Turun:  80%|████████  | 8/10 [00:53<00:11,  5.77s/it]"
     ]
    },
    {
     "name": "stdout",
     "output_type": "stream",
     "text": [
      "✅ Keypoint disimpan: keypoints\\Lutut Turun\\7.npy\n"
     ]
    },
    {
     "name": "stderr",
     "output_type": "stream",
     "text": [
      "Proses Lutut Turun:  90%|█████████ | 9/10 [00:59<00:05,  5.98s/it]"
     ]
    },
    {
     "name": "stdout",
     "output_type": "stream",
     "text": [
      "✅ Keypoint disimpan: keypoints\\Lutut Turun\\8.npy\n"
     ]
    },
    {
     "name": "stderr",
     "output_type": "stream",
     "text": [
      "Proses Lutut Turun: 100%|██████████| 10/10 [01:05<00:00,  6.53s/it]\n"
     ]
    },
    {
     "name": "stdout",
     "output_type": "stream",
     "text": [
      "✅ Keypoint disimpan: keypoints\\Lutut Turun\\9.npy\n"
     ]
    },
    {
     "name": "stderr",
     "output_type": "stream",
     "text": [
      "Proses Naikan Kepalan Kedepan:  10%|█         | 1/10 [00:04<00:39,  4.39s/it]"
     ]
    },
    {
     "name": "stdout",
     "output_type": "stream",
     "text": [
      "✅ Keypoint disimpan: keypoints\\Naikan Kepalan Kedepan\\1.npy\n"
     ]
    },
    {
     "name": "stderr",
     "output_type": "stream",
     "text": [
      "Proses Naikan Kepalan Kedepan:  20%|██        | 2/10 [00:11<00:46,  5.76s/it]"
     ]
    },
    {
     "name": "stdout",
     "output_type": "stream",
     "text": [
      "✅ Keypoint disimpan: keypoints\\Naikan Kepalan Kedepan\\10.npy\n"
     ]
    },
    {
     "name": "stderr",
     "output_type": "stream",
     "text": [
      "Proses Naikan Kepalan Kedepan:  30%|███       | 3/10 [00:17<00:41,  5.86s/it]"
     ]
    },
    {
     "name": "stdout",
     "output_type": "stream",
     "text": [
      "✅ Keypoint disimpan: keypoints\\Naikan Kepalan Kedepan\\2.npy\n"
     ]
    },
    {
     "name": "stderr",
     "output_type": "stream",
     "text": [
      "Proses Naikan Kepalan Kedepan:  40%|████      | 4/10 [00:22<00:33,  5.51s/it]"
     ]
    },
    {
     "name": "stdout",
     "output_type": "stream",
     "text": [
      "✅ Keypoint disimpan: keypoints\\Naikan Kepalan Kedepan\\3.npy\n"
     ]
    },
    {
     "name": "stderr",
     "output_type": "stream",
     "text": [
      "Proses Naikan Kepalan Kedepan:  50%|█████     | 5/10 [00:28<00:28,  5.73s/it]"
     ]
    },
    {
     "name": "stdout",
     "output_type": "stream",
     "text": [
      "✅ Keypoint disimpan: keypoints\\Naikan Kepalan Kedepan\\4.npy\n"
     ]
    },
    {
     "name": "stderr",
     "output_type": "stream",
     "text": [
      "Proses Naikan Kepalan Kedepan:  60%|██████    | 6/10 [00:40<00:31,  7.85s/it]"
     ]
    },
    {
     "name": "stdout",
     "output_type": "stream",
     "text": [
      "✅ Keypoint disimpan: keypoints\\Naikan Kepalan Kedepan\\5.npy\n"
     ]
    },
    {
     "name": "stderr",
     "output_type": "stream",
     "text": [
      "Proses Naikan Kepalan Kedepan:  70%|███████   | 7/10 [00:52<00:27,  9.20s/it]"
     ]
    },
    {
     "name": "stdout",
     "output_type": "stream",
     "text": [
      "✅ Keypoint disimpan: keypoints\\Naikan Kepalan Kedepan\\6.npy\n"
     ]
    },
    {
     "name": "stderr",
     "output_type": "stream",
     "text": [
      "Proses Naikan Kepalan Kedepan:  80%|████████  | 8/10 [01:01<00:18,  9.14s/it]"
     ]
    },
    {
     "name": "stdout",
     "output_type": "stream",
     "text": [
      "✅ Keypoint disimpan: keypoints\\Naikan Kepalan Kedepan\\7.npy\n"
     ]
    },
    {
     "name": "stderr",
     "output_type": "stream",
     "text": [
      "Proses Naikan Kepalan Kedepan:  90%|█████████ | 9/10 [01:07<00:08,  8.11s/it]"
     ]
    },
    {
     "name": "stdout",
     "output_type": "stream",
     "text": [
      "✅ Keypoint disimpan: keypoints\\Naikan Kepalan Kedepan\\8.npy\n"
     ]
    },
    {
     "name": "stderr",
     "output_type": "stream",
     "text": [
      "Proses Naikan Kepalan Kedepan: 100%|██████████| 10/10 [01:14<00:00,  7.41s/it]\n"
     ]
    },
    {
     "name": "stdout",
     "output_type": "stream",
     "text": [
      "✅ Keypoint disimpan: keypoints\\Naikan Kepalan Kedepan\\9.npy\n"
     ]
    },
    {
     "name": "stderr",
     "output_type": "stream",
     "text": [
      "Proses Rentangkan:  10%|█         | 1/10 [00:03<00:34,  3.83s/it]"
     ]
    },
    {
     "name": "stdout",
     "output_type": "stream",
     "text": [
      "✅ Keypoint disimpan: keypoints\\Rentangkan\\1.npy\n"
     ]
    },
    {
     "name": "stderr",
     "output_type": "stream",
     "text": [
      "Proses Rentangkan:  20%|██        | 2/10 [00:09<00:41,  5.21s/it]"
     ]
    },
    {
     "name": "stdout",
     "output_type": "stream",
     "text": [
      "✅ Keypoint disimpan: keypoints\\Rentangkan\\10.npy\n"
     ]
    },
    {
     "name": "stderr",
     "output_type": "stream",
     "text": [
      "Proses Rentangkan:  30%|███       | 3/10 [00:14<00:34,  4.91s/it]"
     ]
    },
    {
     "name": "stdout",
     "output_type": "stream",
     "text": [
      "✅ Keypoint disimpan: keypoints\\Rentangkan\\2.npy\n"
     ]
    },
    {
     "name": "stderr",
     "output_type": "stream",
     "text": [
      "Proses Rentangkan:  40%|████      | 4/10 [00:18<00:26,  4.41s/it]"
     ]
    },
    {
     "name": "stdout",
     "output_type": "stream",
     "text": [
      "✅ Keypoint disimpan: keypoints\\Rentangkan\\3.npy\n"
     ]
    },
    {
     "name": "stderr",
     "output_type": "stream",
     "text": [
      "Proses Rentangkan:  50%|█████     | 5/10 [00:23<00:23,  4.62s/it]"
     ]
    },
    {
     "name": "stdout",
     "output_type": "stream",
     "text": [
      "✅ Keypoint disimpan: keypoints\\Rentangkan\\4.npy\n"
     ]
    },
    {
     "name": "stderr",
     "output_type": "stream",
     "text": [
      "Proses Rentangkan:  60%|██████    | 6/10 [00:30<00:21,  5.43s/it]"
     ]
    },
    {
     "name": "stdout",
     "output_type": "stream",
     "text": [
      "✅ Keypoint disimpan: keypoints\\Rentangkan\\5.npy\n"
     ]
    },
    {
     "name": "stderr",
     "output_type": "stream",
     "text": [
      "Proses Rentangkan:  70%|███████   | 7/10 [00:39<00:19,  6.54s/it]"
     ]
    },
    {
     "name": "stdout",
     "output_type": "stream",
     "text": [
      "✅ Keypoint disimpan: keypoints\\Rentangkan\\6.npy\n"
     ]
    },
    {
     "name": "stderr",
     "output_type": "stream",
     "text": [
      "Proses Rentangkan:  80%|████████  | 8/10 [00:45<00:12,  6.36s/it]"
     ]
    },
    {
     "name": "stdout",
     "output_type": "stream",
     "text": [
      "✅ Keypoint disimpan: keypoints\\Rentangkan\\7.npy\n"
     ]
    },
    {
     "name": "stderr",
     "output_type": "stream",
     "text": [
      "Proses Rentangkan:  90%|█████████ | 9/10 [00:51<00:06,  6.44s/it]"
     ]
    },
    {
     "name": "stdout",
     "output_type": "stream",
     "text": [
      "✅ Keypoint disimpan: keypoints\\Rentangkan\\8.npy\n"
     ]
    },
    {
     "name": "stderr",
     "output_type": "stream",
     "text": [
      "Proses Rentangkan: 100%|██████████| 10/10 [00:56<00:00,  5.60s/it]"
     ]
    },
    {
     "name": "stdout",
     "output_type": "stream",
     "text": [
      "✅ Keypoint disimpan: keypoints\\Rentangkan\\9.npy\n"
     ]
    },
    {
     "name": "stderr",
     "output_type": "stream",
     "text": [
      "\n"
     ]
    }
   ],
   "source": [
    "import os\n",
    "import cv2\n",
    "import numpy as np\n",
    "from ultralytics import YOLO\n",
    "from tqdm import tqdm\n",
    "\n",
    "# ---------------------------\n",
    "# Inisialisasi Model YOLOv8\n",
    "# ---------------------------\n",
    "model = YOLO(\"yolov8n-pose.pt\")  \n",
    "\n",
    "# ---------------------------\n",
    "# Pengaturan Folder\n",
    "# ---------------------------\n",
    "video_root = \"dataset_video\"  \n",
    "keypoint_root = \"keypoints\"    \n",
    "\n",
    "# Daftar aksi (label gerakan)\n",
    "actions = [\"Angkat Pinggul\", \"Angkat Tangan\", \"Lutut Turun\", \"Naikan Kepalan Kedepan\", \"Rentangkan\"]\n",
    "\n",
    "# ---------------------------\n",
    "# Ekstraksi Keypoint\n",
    "# ---------------------------\n",
    "for action in actions:\n",
    "    video_dir = os.path.join(video_root, action)\n",
    "    save_dir = os.path.join(keypoint_root, action)\n",
    "    os.makedirs(save_dir, exist_ok=True)\n",
    "\n",
    "    for video_name in tqdm(os.listdir(video_dir), desc=f\"Proses {action}\"):\n",
    "        video_path = os.path.join(video_dir, video_name)\n",
    "        cap = cv2.VideoCapture(video_path)\n",
    "        sequence = []\n",
    "\n",
    "        while True:\n",
    "            ret, frame = cap.read()\n",
    "            if not ret:\n",
    "                break\n",
    "\n",
    "            results = model.predict(source=frame, conf=0.5, save=False, verbose=False)\n",
    "            keypoints = results[0].keypoints\n",
    "\n",
    "            if keypoints is not None and len(keypoints.xy) > 0:\n",
    "                # Ambil keypoint orang pertama\n",
    "                kps = keypoints.xy[0].cpu().numpy()  # shape: (17, 2)\n",
    "                if kps.shape[0] == 17:  # pastikan 17 keypoints\n",
    "                    sequence.append(kps.flatten())  # shape: (34,) = 17 keypoints × 2 (x, y)\n",
    "\n",
    "        cap.release()\n",
    "\n",
    "        # Simpan hanya jika ada keypoint valid\n",
    "        if len(sequence) > 0:\n",
    "            try:\n",
    "                sequence = np.array(sequence)  # shape: (n_frames, 34)\n",
    "                save_path = os.path.join(save_dir, video_name.replace(\".MOV\", \".npy\").replace(\".mp4\", \".npy\"))\n",
    "                np.save(save_path, sequence)\n",
    "                print(f\"✅ Keypoint disimpan: {save_path}\")\n",
    "            except ValueError as e:\n",
    "                print(f\"❌ Gagal menyimpan {video_name}: {e}\")\n",
    "        else:\n",
    "            print(f\"⚠️ Tidak ada keypoint di {video_name}\")\n"
   ]
  },
  {
   "cell_type": "code",
   "execution_count": 19,
   "metadata": {
    "execution": {
     "iopub.execute_input": "2025-05-26T04:14:40.157507Z",
     "iopub.status.busy": "2025-05-26T04:14:40.155193Z",
     "iopub.status.idle": "2025-05-26T04:15:07.204581Z",
     "shell.execute_reply": "2025-05-26T04:15:07.203608Z",
     "shell.execute_reply.started": "2025-05-26T04:14:40.157471Z"
    },
    "trusted": true
   },
   "outputs": [
    {
     "name": "stdout",
     "output_type": "stream",
     "text": [
      "✅ Hasil berhasil disimpan ke output_pose.mp4\n"
     ]
    }
   ],
   "source": [
    "import cv2\n",
    "from ultralytics import YOLO\n",
    "\n",
    "model = YOLO(\"yolov8n-pose.pt\")\n",
    "\n",
    "video_path = \"/kaggle/input/dataset/dataset_video/Rentangkan/5.MOV\"\n",
    "cap = cv2.VideoCapture(video_path)\n",
    "\n",
    "# Dapatkan ukuran frame\n",
    "frame_width = int(cap.get(cv2.CAP_PROP_FRAME_WIDTH))\n",
    "frame_height = int(cap.get(cv2.CAP_PROP_FRAME_HEIGHT))\n",
    "fps = int(cap.get(cv2.CAP_PROP_FPS))\n",
    "\n",
    "# Inisialisasi writer untuk menyimpan video hasil\n",
    "out = cv2.VideoWriter('output_pose.mp4',\n",
    "                      cv2.VideoWriter_fourcc(*'mp4v'),\n",
    "                      fps, (frame_width, frame_height))\n",
    "\n",
    "while True:\n",
    "    ret, frame = cap.read()\n",
    "    if not ret:\n",
    "        break\n",
    "\n",
    "    results = model.predict(source=frame, save=False, conf=0.3)\n",
    "    annotated_frame = results[0].plot()\n",
    "    out.write(annotated_frame)\n",
    "\n",
    "cap.release()\n",
    "out.release()\n",
    "print(\"✅ Hasil berhasil disimpan ke output_pose.mp4\")\n"
   ]
  },
  {
   "cell_type": "markdown",
   "metadata": {},
   "source": [
    "### Persiapan Dataset untuk Training\n"
   ]
  },
  {
   "cell_type": "code",
   "execution_count": 20,
   "metadata": {
    "execution": {
     "iopub.execute_input": "2025-05-26T04:15:07.205837Z",
     "iopub.status.busy": "2025-05-26T04:15:07.205573Z",
     "iopub.status.idle": "2025-05-26T04:15:07.228506Z",
     "shell.execute_reply": "2025-05-26T04:15:07.227368Z",
     "shell.execute_reply.started": "2025-05-26T04:15:07.205817Z"
    },
    "trusted": true
   },
   "outputs": [
    {
     "name": "stdout",
     "output_type": "stream",
     "text": [
      "Data shape: (50, 30, 34)\n",
      "Labels shape: (50,)\n",
      "Groups shape: (50,)\n"
     ]
    }
   ],
   "source": [
    "import os\n",
    "import numpy as np\n",
    "from sklearn.model_selection import GroupShuffleSplit\n",
    "\n",
    "# Misal direktori keypoints per aksi sudah ada\n",
    "keypoint_root = \"keypoints\"\n",
    "actions = [\"Angkat Pinggul\", \"Angkat Tangan\", \"Lutut Turun\", \"Naikan Kepalan Kedepan\", \"Rentangkan\"]\n",
    "\n",
    "X, y, groups = [], [], []\n",
    "\n",
    "# Loop untuk load semua data .npy\n",
    "for idx, action in enumerate(actions):\n",
    "    action_dir = os.path.join(keypoint_root, action)\n",
    "    # Pastikan direktori aksi ada untuk menghindari error\n",
    "    if not os.path.exists(action_dir):\n",
    "        print(f\"Direktori '{action_dir}' tidak ditemukan. Melewati aksi ini.\")\n",
    "        continue\n",
    "\n",
    "    for file in os.listdir(action_dir):\n",
    "        if file.endswith('.npy'):\n",
    "            filepath = os.path.join(action_dir, file)\n",
    "            seq = np.load(filepath)  # bentuk: (n_frames, n_features)\n",
    "            \n",
    "            desired_frames = 30 # Panjang sequence yang diinginkan\n",
    "            \n",
    "            # --- Perubahan di SINI: Menggunakan Resampling ---\n",
    "            original_n_frames = seq.shape[0]\n",
    "            \n",
    "            if original_n_frames == 0:\n",
    "                # Jika tidak ada frame, buat array nol dengan shape yang sesuai\n",
    "                # Menggunakan shape dari keypoint_cols (asumsi semua keypoint punya jumlah fitur yang sama)\n",
    "                # Anda perlu memastikan seq.shape[1] valid, mungkin dari keypoint_cols\n",
    "                # Untuk keamanan, asumsikan n_features = 34 seperti diskusi sebelumnya\n",
    "                n_features = 34 \n",
    "                resampled_seq = np.zeros((desired_frames, n_features))\n",
    "            else:\n",
    "                # Buat indeks untuk resampling secara merata dari durasi asli\n",
    "                # np.linspace akan menghasilkan float, jadi perlu diubah ke int untuk indexing\n",
    "                indices = np.linspace(0, original_n_frames - 1, num=desired_frames, dtype=int)\n",
    "                resampled_seq = seq[indices]\n",
    "            \n",
    "            X.append(resampled_seq)\n",
    "            y.append(idx)  # label encoded numerik\n",
    "            \n",
    "            # Mengambil group ID dari nama file, asumsi format 'videoID_namagerakan.npy'\n",
    "            # Atau sesuaikan jika format file Anda berbeda (misal: '1.npy')\n",
    "            # groups.append(file.split('_')[0])\n",
    "            groups.append(file.split('.')[0]) # Mengasumsikan nama file seperti '1.npy'\n",
    "            # Jika nama file 'videoID_action.npy', gunakan file.split('_')[0]\n",
    "\n",
    "X = np.array(X)  # shape (N_samples, timesteps, features)\n",
    "y = np.array(y)\n",
    "groups = np.array(groups)\n",
    "\n",
    "print(\"Data shape:\", X.shape)\n",
    "print(\"Labels shape:\", y.shape)\n",
    "print(\"Groups shape:\", groups.shape)"
   ]
  },
  {
   "cell_type": "markdown",
   "metadata": {},
   "source": [
    "### Split Data"
   ]
  },
  {
   "cell_type": "code",
   "execution_count": 21,
   "metadata": {
    "execution": {
     "iopub.execute_input": "2025-05-26T04:15:07.230660Z",
     "iopub.status.busy": "2025-05-26T04:15:07.229765Z",
     "iopub.status.idle": "2025-05-26T04:15:07.237646Z",
     "shell.execute_reply": "2025-05-26T04:15:07.235875Z",
     "shell.execute_reply.started": "2025-05-26T04:15:07.230623Z"
    },
    "trusted": true
   },
   "outputs": [],
   "source": [
    "# Fungsi augmentasi: tambahkan noise Gaussian pada keypoint\n",
    "def augment_data(X, noise_level=0.01):\n",
    "    noise = np.random.normal(loc=0.0, scale=noise_level, size=X.shape)\n",
    "    X_aug = X + noise\n",
    "    return X_aug\n"
   ]
  },
  {
   "cell_type": "code",
   "execution_count": 22,
   "metadata": {
    "execution": {
     "iopub.execute_input": "2025-05-26T04:15:07.239386Z",
     "iopub.status.busy": "2025-05-26T04:15:07.239007Z",
     "iopub.status.idle": "2025-05-26T04:15:07.269690Z",
     "shell.execute_reply": "2025-05-26T04:15:07.268598Z",
     "shell.execute_reply.started": "2025-05-26T04:15:07.239359Z"
    },
    "trusted": true
   },
   "outputs": [
    {
     "name": "stdout",
     "output_type": "stream",
     "text": [
      "Train shape: (40, 30, 34)\n",
      "Validation shape: (10, 30, 34)\n"
     ]
    }
   ],
   "source": [
    "RANDOM_SEED = 42\n",
    "gss = GroupShuffleSplit(n_splits=1, test_size=0.2, random_state=RANDOM_SEED)\n",
    "\n",
    "train_idx, val_idx = next(gss.split(X, y, groups))\n",
    "\n",
    "X_train, y_train = X[train_idx], y[train_idx]\n",
    "X_val, y_val = X[val_idx], y[val_idx]\n",
    "\n",
    "print(\"Train shape:\", X_train.shape)\n",
    "print(\"Validation shape:\", X_val.shape)\n",
    "\n",
    "# Augmentasi hanya di data train\n",
    "X_train_aug = augment_data(X_train, noise_level=0.01)\n"
   ]
  },
  {
   "cell_type": "markdown",
   "metadata": {},
   "source": [
    "### One-hot encode label"
   ]
  },
  {
   "cell_type": "code",
   "execution_count": 23,
   "metadata": {
    "execution": {
     "iopub.execute_input": "2025-05-26T04:15:07.271033Z",
     "iopub.status.busy": "2025-05-26T04:15:07.270747Z",
     "iopub.status.idle": "2025-05-26T04:15:07.293589Z",
     "shell.execute_reply": "2025-05-26T04:15:07.292419Z",
     "shell.execute_reply.started": "2025-05-26T04:15:07.271003Z"
    },
    "trusted": true
   },
   "outputs": [
    {
     "name": "stdout",
     "output_type": "stream",
     "text": [
      "3.10.9 (tags/v3.10.9:1dd9be6, Dec  6 2022, 20:01:21) [MSC v.1934 64 bit (AMD64)]\n"
     ]
    }
   ],
   "source": [
    "import sys\n",
    "print(sys.version)\n"
   ]
  },
  {
   "cell_type": "code",
   "execution_count": 24,
   "metadata": {
    "execution": {
     "iopub.execute_input": "2025-05-26T04:15:07.297820Z",
     "iopub.status.busy": "2025-05-26T04:15:07.297401Z",
     "iopub.status.idle": "2025-05-26T04:15:07.321511Z",
     "shell.execute_reply": "2025-05-26T04:15:07.319960Z",
     "shell.execute_reply.started": "2025-05-26T04:15:07.297795Z"
    },
    "trusted": true
   },
   "outputs": [
    {
     "name": "stdout",
     "output_type": "stream",
     "text": [
      "X_train shape: (40, 30, 34)\n",
      "y_train shape: (40, 5)\n"
     ]
    }
   ],
   "source": [
    "num_classes = len(actions)\n",
    "y_train = to_categorical(y_train, num_classes=num_classes)\n",
    "y_val = to_categorical(y_val, num_classes=num_classes)\n",
    "\n",
    "# Cek dimensi input dan output\n",
    "print(\"X_train shape:\", X_train_aug.shape)     # contoh: (jumlah_sample, 30, 34)\n",
    "print(\"y_train shape:\", y_train.shape)     # contoh: (jumlah_sample, num_classes)"
   ]
  },
  {
   "cell_type": "markdown",
   "metadata": {},
   "source": [
    "# **5. Pembangunan Model**"
   ]
  },
  {
   "cell_type": "markdown",
   "metadata": {},
   "source": [
    "## **a. Pelatihan Model**"
   ]
  },
  {
   "cell_type": "code",
   "execution_count": 25,
   "metadata": {
    "execution": {
     "iopub.execute_input": "2025-05-26T04:15:07.323008Z",
     "iopub.status.busy": "2025-05-26T04:15:07.322638Z",
     "iopub.status.idle": "2025-05-26T04:15:07.342785Z",
     "shell.execute_reply": "2025-05-26T04:15:07.341723Z",
     "shell.execute_reply.started": "2025-05-26T04:15:07.322975Z"
    },
    "trusted": true
   },
   "outputs": [
    {
     "name": "stdout",
     "output_type": "stream",
     "text": [
      "Shape y_train: (40, 5)\n",
      "Shape y_val: (10, 5)\n",
      "Jumlah kelas: 5\n"
     ]
    }
   ],
   "source": [
    "print(\"Shape y_train:\", y_train.shape)\n",
    "print(\"Shape y_val:\", y_val.shape)\n",
    "print(\"Jumlah kelas:\", len(actions))\n"
   ]
  },
  {
   "cell_type": "code",
   "execution_count": 26,
   "metadata": {
    "execution": {
     "iopub.execute_input": "2025-05-26T04:15:07.344284Z",
     "iopub.status.busy": "2025-05-26T04:15:07.343876Z",
     "iopub.status.idle": "2025-05-26T04:15:07.366618Z",
     "shell.execute_reply": "2025-05-26T04:15:07.365500Z",
     "shell.execute_reply.started": "2025-05-26T04:15:07.344248Z"
    },
    "trusted": true
   },
   "outputs": [
    {
     "data": {
      "text/plain": [
       "'# Ambil nilai dari shape input untuk digunakan di model\\nsequence_length = X_train_aug.shape[1]         # contoh: 30\\nnum_features = X_train_aug.shape[2]            # contoh: 34'"
      ]
     },
     "execution_count": 26,
     "metadata": {},
     "output_type": "execute_result"
    }
   ],
   "source": [
    "'''# Ambil nilai dari shape input untuk digunakan di model\n",
    "sequence_length = X_train_aug.shape[1]         # contoh: 30\n",
    "num_features = X_train_aug.shape[2]            # contoh: 34'''"
   ]
  },
  {
   "cell_type": "code",
   "execution_count": 27,
   "metadata": {},
   "outputs": [],
   "source": [
    "from sklearn.preprocessing import StandardScaler\n",
    "\n",
    "# Normalisasi data\n",
    "scaler = StandardScaler()\n",
    "\n",
    "# Flatten data agar bisa di-scaler, lalu reshape kembali\n",
    "sequence_length = X_train_aug.shape[1]\n",
    "feature_size = X_train_aug.shape[2]\n",
    "\n",
    "X_train_flat = X_train_aug.reshape(-1, feature_size)\n",
    "X_train_scaled = scaler.fit_transform(X_train_flat).reshape(-1, sequence_length, feature_size)\n",
    "\n",
    "X_val_flat = X_val.reshape(-1, feature_size)\n",
    "X_val_scaled = scaler.transform(X_val_flat).reshape(-1, sequence_length, feature_size)"
   ]
  },
  {
   "cell_type": "code",
   "execution_count": 28,
   "metadata": {},
   "outputs": [
    {
     "name": "stdout",
     "output_type": "stream",
     "text": [
      "Epoch 1/150\n"
     ]
    },
    {
     "name": "stderr",
     "output_type": "stream",
     "text": [
      "c:\\Users\\M Fathurrahman\\Videos\\LASKAR AI\\ActionDetection-Yolo--2-\\coba\\lib\\site-packages\\keras\\src\\layers\\rnn\\rnn.py:199: UserWarning: Do not pass an `input_shape`/`input_dim` argument to a layer. When using Sequential models, prefer using an `Input(shape)` object as the first layer in the model instead.\n",
      "  super().__init__(**kwargs)\n"
     ]
    },
    {
     "name": "stdout",
     "output_type": "stream",
     "text": [
      "\n",
      "Epoch 1: val_loss improved from inf to 0.82165, saving model to lstm_best.keras\n",
      "10/10 - 2s - 166ms/step - categorical_accuracy: 0.4500 - loss: 1.3645 - val_categorical_accuracy: 1.0000 - val_loss: 0.8216 - learning_rate: 0.0100\n",
      "Epoch 2/150\n",
      "\n",
      "Epoch 2: val_loss improved from 0.82165 to 0.45703, saving model to lstm_best.keras\n",
      "10/10 - 0s - 14ms/step - categorical_accuracy: 0.6250 - loss: 0.8440 - val_categorical_accuracy: 1.0000 - val_loss: 0.4570 - learning_rate: 0.0100\n",
      "Epoch 3/150\n",
      "\n",
      "Epoch 3: val_loss improved from 0.45703 to 0.37485, saving model to lstm_best.keras\n",
      "10/10 - 0s - 13ms/step - categorical_accuracy: 0.6500 - loss: 0.7256 - val_categorical_accuracy: 0.8000 - val_loss: 0.3748 - learning_rate: 0.0100\n",
      "Epoch 4/150\n",
      "\n",
      "Epoch 4: val_loss did not improve from 0.37485\n",
      "10/10 - 0s - 11ms/step - categorical_accuracy: 0.7500 - loss: 0.6301 - val_categorical_accuracy: 0.9000 - val_loss: 0.4287 - learning_rate: 0.0100\n",
      "Epoch 5/150\n",
      "\n",
      "Epoch 5: val_loss improved from 0.37485 to 0.18065, saving model to lstm_best.keras\n",
      "10/10 - 0s - 13ms/step - categorical_accuracy: 0.7500 - loss: 0.5138 - val_categorical_accuracy: 1.0000 - val_loss: 0.1806 - learning_rate: 0.0100\n",
      "Epoch 6/150\n",
      "\n",
      "Epoch 6: val_loss did not improve from 0.18065\n",
      "10/10 - 0s - 10ms/step - categorical_accuracy: 0.8250 - loss: 0.4128 - val_categorical_accuracy: 0.8000 - val_loss: 0.2247 - learning_rate: 0.0100\n",
      "Epoch 7/150\n",
      "\n",
      "Epoch 7: val_loss did not improve from 0.18065\n",
      "10/10 - 0s - 11ms/step - categorical_accuracy: 0.8500 - loss: 0.3842 - val_categorical_accuracy: 0.8000 - val_loss: 0.2940 - learning_rate: 0.0100\n",
      "Epoch 8/150\n",
      "\n",
      "Epoch 8: val_loss improved from 0.18065 to 0.15788, saving model to lstm_best.keras\n",
      "10/10 - 0s - 13ms/step - categorical_accuracy: 0.9000 - loss: 0.2690 - val_categorical_accuracy: 1.0000 - val_loss: 0.1579 - learning_rate: 0.0100\n",
      "Epoch 9/150\n",
      "\n",
      "Epoch 9: val_loss improved from 0.15788 to 0.13457, saving model to lstm_best.keras\n",
      "10/10 - 0s - 13ms/step - categorical_accuracy: 0.9500 - loss: 0.1947 - val_categorical_accuracy: 1.0000 - val_loss: 0.1346 - learning_rate: 0.0100\n",
      "Epoch 10/150\n",
      "\n",
      "Epoch 10: val_loss did not improve from 0.13457\n",
      "10/10 - 0s - 10ms/step - categorical_accuracy: 0.8750 - loss: 0.1984 - val_categorical_accuracy: 0.8000 - val_loss: 0.3400 - learning_rate: 0.0100\n",
      "Epoch 11/150\n",
      "\n",
      "Epoch 11: val_loss did not improve from 0.13457\n",
      "10/10 - 0s - 10ms/step - categorical_accuracy: 0.9000 - loss: 0.2480 - val_categorical_accuracy: 0.8000 - val_loss: 0.3091 - learning_rate: 0.0100\n",
      "Epoch 12/150\n",
      "\n",
      "Epoch 12: val_loss did not improve from 0.13457\n",
      "10/10 - 0s - 10ms/step - categorical_accuracy: 0.8750 - loss: 0.4194 - val_categorical_accuracy: 0.8000 - val_loss: 0.4228 - learning_rate: 0.0100\n",
      "Epoch 13/150\n",
      "\n",
      "Epoch 13: val_loss did not improve from 0.13457\n",
      "10/10 - 0s - 10ms/step - categorical_accuracy: 0.8500 - loss: 0.4170 - val_categorical_accuracy: 1.0000 - val_loss: 0.1347 - learning_rate: 0.0100\n",
      "Epoch 14/150\n",
      "\n",
      "Epoch 14: val_loss did not improve from 0.13457\n",
      "\n",
      "Epoch 14: ReduceLROnPlateau reducing learning rate to 0.004999999888241291.\n",
      "10/10 - 0s - 10ms/step - categorical_accuracy: 0.8000 - loss: 0.3604 - val_categorical_accuracy: 0.8000 - val_loss: 0.3576 - learning_rate: 0.0100\n",
      "Epoch 14: early stopping\n",
      "Restoring model weights from the end of the best epoch: 9.\n"
     ]
    }
   ],
   "source": [
    "from tensorflow.keras.models import Sequential\n",
    "from tensorflow.keras.layers import LSTM, Dense, Dropout, BatchNormalization\n",
    "from tensorflow.keras.optimizers import Adam\n",
    "from tensorflow.keras.callbacks import EarlyStopping, ModelCheckpoint, ReduceLROnPlateau\n",
    "\n",
    "'''model_lstm = Sequential([\n",
    "    # Lapisan LSTM pertama dengan normalisasi\n",
    "    LSTM(64, return_sequences=True, input_shape=(X_train_scaled.shape[1], X_train_scaled.shape[2])),\n",
    "    BatchNormalization(),\n",
    "    Dropout(0.2),\n",
    "\n",
    "    # Lapisan LSTM kedua dengan normalisasi\n",
    "    LSTM(64, return_sequences=False),\n",
    "    BatchNormalization(),\n",
    "    Dropout(0.2),\n",
    "\n",
    "    # Fully connected layer dengan normalisasi\n",
    "    Dense(32, activation='relu'),\n",
    "    BatchNormalization(),\n",
    "    Dropout(0.3),\n",
    "\n",
    "    # Layer output dengan softmax untuk klasifikasi\n",
    "    Dense(num_classes, activation='softmax')\n",
    "])'''\n",
    "\n",
    "model_lstm = Sequential([\n",
    "    LSTM(32, return_sequences=False, input_shape=(X_train_aug.shape[1], X_train_aug.shape[2])),\n",
    "    Dropout(0.2),\n",
    "    \n",
    "    Dense(32, activation='relu'),\n",
    "    Dropout(0.2),\n",
    "    \n",
    "    Dense(num_classes, activation='softmax')\n",
    "])\n",
    "\n",
    "# Compile model\n",
    "model_lstm.compile(\n",
    "    optimizer=Adam(learning_rate=1e-2),\n",
    "    loss='categorical_crossentropy',\n",
    "    metrics=['categorical_accuracy']\n",
    ")\n",
    "\n",
    "# Callbacks untuk training\n",
    "callbacks_lstm = [\n",
    "    EarlyStopping(monitor='val_loss', patience=5, restore_best_weights=True, verbose=1),\n",
    "    ModelCheckpoint('lstm_best.keras', monitor='val_loss', save_best_only=True, verbose=1),\n",
    "    ReduceLROnPlateau(factor=0.5, patience=5, verbose=1)\n",
    "]\n",
    "\n",
    "# Training model\n",
    "history_lstm = model_lstm.fit(\n",
    "    X_train_scaled, y_train,\n",
    "    validation_data=(X_val_scaled, y_val),\n",
    "    epochs=150,\n",
    "    batch_size=4, \n",
    "    shuffle=True,\n",
    "    callbacks=callbacks_lstm,\n",
    "    verbose=2\n",
    ")"
   ]
  },
  {
   "cell_type": "markdown",
   "metadata": {},
   "source": [
    "## GRU"
   ]
  },
  {
   "cell_type": "code",
   "execution_count": 29,
   "metadata": {
    "execution": {
     "iopub.execute_input": "2025-05-26T04:15:58.585392Z",
     "iopub.status.busy": "2025-05-26T04:15:58.584768Z",
     "iopub.status.idle": "2025-05-26T04:16:51.855439Z",
     "shell.execute_reply": "2025-05-26T04:16:51.854422Z",
     "shell.execute_reply.started": "2025-05-26T04:15:58.585365Z"
    },
    "trusted": true
   },
   "outputs": [
    {
     "name": "stdout",
     "output_type": "stream",
     "text": [
      "Epoch 1/150\n",
      "\n",
      "Epoch 1: val_loss improved from inf to 1.83285, saving model to gru_best.keras\n",
      "2/2 - 4s - 2s/step - categorical_accuracy: 0.1000 - loss: 3.1221 - val_categorical_accuracy: 0.0000e+00 - val_loss: 1.8329 - learning_rate: 1.0000e-04\n",
      "Epoch 2/150\n",
      "\n",
      "Epoch 2: val_loss improved from 1.83285 to 1.81296, saving model to gru_best.keras\n",
      "2/2 - 0s - 91ms/step - categorical_accuracy: 0.1500 - loss: 3.4166 - val_categorical_accuracy: 0.0000e+00 - val_loss: 1.8130 - learning_rate: 1.0000e-04\n",
      "Epoch 3/150\n",
      "\n",
      "Epoch 3: val_loss improved from 1.81296 to 1.79346, saving model to gru_best.keras\n",
      "2/2 - 0s - 84ms/step - categorical_accuracy: 0.1000 - loss: 3.1166 - val_categorical_accuracy: 0.0000e+00 - val_loss: 1.7935 - learning_rate: 1.0000e-04\n",
      "Epoch 4/150\n",
      "\n",
      "Epoch 4: val_loss improved from 1.79346 to 1.78230, saving model to gru_best.keras\n",
      "2/2 - 0s - 83ms/step - categorical_accuracy: 0.1750 - loss: 2.8142 - val_categorical_accuracy: 0.0000e+00 - val_loss: 1.7823 - learning_rate: 1.0000e-04\n",
      "Epoch 5/150\n",
      "\n",
      "Epoch 5: val_loss improved from 1.78230 to 1.76912, saving model to gru_best.keras\n",
      "2/2 - 0s - 82ms/step - categorical_accuracy: 0.2000 - loss: 2.5158 - val_categorical_accuracy: 0.0000e+00 - val_loss: 1.7691 - learning_rate: 1.0000e-04\n",
      "Epoch 6/150\n",
      "\n",
      "Epoch 6: val_loss improved from 1.76912 to 1.75588, saving model to gru_best.keras\n",
      "2/2 - 0s - 82ms/step - categorical_accuracy: 0.2500 - loss: 2.5880 - val_categorical_accuracy: 0.0000e+00 - val_loss: 1.7559 - learning_rate: 1.0000e-04\n",
      "Epoch 7/150\n",
      "\n",
      "Epoch 7: val_loss improved from 1.75588 to 1.74430, saving model to gru_best.keras\n",
      "2/2 - 0s - 82ms/step - categorical_accuracy: 0.2500 - loss: 2.2769 - val_categorical_accuracy: 0.0000e+00 - val_loss: 1.7443 - learning_rate: 1.0000e-04\n",
      "Epoch 8/150\n",
      "\n",
      "Epoch 8: val_loss improved from 1.74430 to 1.72967, saving model to gru_best.keras\n",
      "2/2 - 0s - 82ms/step - categorical_accuracy: 0.3000 - loss: 2.1851 - val_categorical_accuracy: 0.0000e+00 - val_loss: 1.7297 - learning_rate: 1.0000e-04\n",
      "Epoch 9/150\n",
      "\n",
      "Epoch 9: val_loss improved from 1.72967 to 1.71144, saving model to gru_best.keras\n",
      "2/2 - 0s - 80ms/step - categorical_accuracy: 0.3000 - loss: 2.2833 - val_categorical_accuracy: 0.0000e+00 - val_loss: 1.7114 - learning_rate: 1.0000e-04\n",
      "Epoch 10/150\n",
      "\n",
      "Epoch 10: val_loss improved from 1.71144 to 1.69243, saving model to gru_best.keras\n",
      "2/2 - 0s - 81ms/step - categorical_accuracy: 0.2000 - loss: 2.5056 - val_categorical_accuracy: 0.1000 - val_loss: 1.6924 - learning_rate: 1.0000e-04\n",
      "Epoch 11/150\n",
      "\n",
      "Epoch 11: val_loss improved from 1.69243 to 1.67701, saving model to gru_best.keras\n",
      "2/2 - 0s - 81ms/step - categorical_accuracy: 0.2250 - loss: 1.8039 - val_categorical_accuracy: 0.1000 - val_loss: 1.6770 - learning_rate: 1.0000e-04\n",
      "Epoch 12/150\n",
      "\n",
      "Epoch 12: val_loss improved from 1.67701 to 1.66346, saving model to gru_best.keras\n",
      "2/2 - 0s - 83ms/step - categorical_accuracy: 0.2500 - loss: 2.6173 - val_categorical_accuracy: 0.1000 - val_loss: 1.6635 - learning_rate: 1.0000e-04\n",
      "Epoch 13/150\n",
      "\n",
      "Epoch 13: val_loss improved from 1.66346 to 1.65110, saving model to gru_best.keras\n",
      "2/2 - 0s - 81ms/step - categorical_accuracy: 0.4000 - loss: 1.7800 - val_categorical_accuracy: 0.1000 - val_loss: 1.6511 - learning_rate: 1.0000e-04\n",
      "Epoch 14/150\n",
      "\n",
      "Epoch 14: val_loss improved from 1.65110 to 1.63929, saving model to gru_best.keras\n",
      "2/2 - 0s - 85ms/step - categorical_accuracy: 0.3000 - loss: 2.1061 - val_categorical_accuracy: 0.1000 - val_loss: 1.6393 - learning_rate: 1.0000e-04\n",
      "Epoch 15/150\n",
      "\n",
      "Epoch 15: val_loss improved from 1.63929 to 1.62626, saving model to gru_best.keras\n",
      "2/2 - 0s - 83ms/step - categorical_accuracy: 0.3750 - loss: 1.6441 - val_categorical_accuracy: 0.2000 - val_loss: 1.6263 - learning_rate: 1.0000e-04\n",
      "Epoch 16/150\n",
      "\n",
      "Epoch 16: val_loss improved from 1.62626 to 1.61387, saving model to gru_best.keras\n",
      "2/2 - 0s - 89ms/step - categorical_accuracy: 0.3500 - loss: 1.9713 - val_categorical_accuracy: 0.2000 - val_loss: 1.6139 - learning_rate: 1.0000e-04\n",
      "Epoch 17/150\n",
      "\n",
      "Epoch 17: val_loss improved from 1.61387 to 1.60135, saving model to gru_best.keras\n",
      "2/2 - 0s - 84ms/step - categorical_accuracy: 0.3000 - loss: 1.6737 - val_categorical_accuracy: 0.2000 - val_loss: 1.6014 - learning_rate: 1.0000e-04\n",
      "Epoch 18/150\n",
      "\n",
      "Epoch 18: val_loss improved from 1.60135 to 1.58783, saving model to gru_best.keras\n",
      "2/2 - 0s - 81ms/step - categorical_accuracy: 0.3750 - loss: 1.7737 - val_categorical_accuracy: 0.3000 - val_loss: 1.5878 - learning_rate: 1.0000e-04\n",
      "Epoch 19/150\n",
      "\n",
      "Epoch 19: val_loss improved from 1.58783 to 1.57421, saving model to gru_best.keras\n",
      "2/2 - 0s - 80ms/step - categorical_accuracy: 0.4750 - loss: 1.5088 - val_categorical_accuracy: 0.3000 - val_loss: 1.5742 - learning_rate: 1.0000e-04\n",
      "Epoch 20/150\n",
      "\n",
      "Epoch 20: val_loss improved from 1.57421 to 1.56070, saving model to gru_best.keras\n",
      "2/2 - 0s - 82ms/step - categorical_accuracy: 0.5250 - loss: 1.1885 - val_categorical_accuracy: 0.3000 - val_loss: 1.5607 - learning_rate: 1.0000e-04\n",
      "Epoch 21/150\n",
      "\n",
      "Epoch 21: val_loss improved from 1.56070 to 1.54599, saving model to gru_best.keras\n",
      "2/2 - 0s - 80ms/step - categorical_accuracy: 0.6000 - loss: 1.3053 - val_categorical_accuracy: 0.3000 - val_loss: 1.5460 - learning_rate: 1.0000e-04\n",
      "Epoch 22/150\n",
      "\n",
      "Epoch 22: val_loss improved from 1.54599 to 1.52933, saving model to gru_best.keras\n",
      "2/2 - 0s - 81ms/step - categorical_accuracy: 0.5500 - loss: 1.4959 - val_categorical_accuracy: 0.3000 - val_loss: 1.5293 - learning_rate: 1.0000e-04\n",
      "Epoch 23/150\n",
      "\n",
      "Epoch 23: val_loss improved from 1.52933 to 1.51009, saving model to gru_best.keras\n",
      "2/2 - 0s - 83ms/step - categorical_accuracy: 0.4750 - loss: 1.8832 - val_categorical_accuracy: 0.3000 - val_loss: 1.5101 - learning_rate: 1.0000e-04\n",
      "Epoch 24/150\n",
      "\n",
      "Epoch 24: val_loss improved from 1.51009 to 1.49243, saving model to gru_best.keras\n",
      "2/2 - 0s - 85ms/step - categorical_accuracy: 0.6250 - loss: 0.9077 - val_categorical_accuracy: 0.3000 - val_loss: 1.4924 - learning_rate: 1.0000e-04\n",
      "Epoch 25/150\n",
      "\n",
      "Epoch 25: val_loss improved from 1.49243 to 1.47425, saving model to gru_best.keras\n",
      "2/2 - 0s - 83ms/step - categorical_accuracy: 0.4500 - loss: 1.5282 - val_categorical_accuracy: 0.3000 - val_loss: 1.4742 - learning_rate: 1.0000e-04\n",
      "Epoch 26/150\n",
      "\n",
      "Epoch 26: val_loss improved from 1.47425 to 1.45663, saving model to gru_best.keras\n",
      "2/2 - 0s - 90ms/step - categorical_accuracy: 0.5000 - loss: 1.1586 - val_categorical_accuracy: 0.3000 - val_loss: 1.4566 - learning_rate: 1.0000e-04\n",
      "Epoch 27/150\n",
      "\n",
      "Epoch 27: val_loss improved from 1.45663 to 1.44057, saving model to gru_best.keras\n",
      "2/2 - 0s - 82ms/step - categorical_accuracy: 0.5250 - loss: 1.4999 - val_categorical_accuracy: 0.3000 - val_loss: 1.4406 - learning_rate: 1.0000e-04\n",
      "Epoch 28/150\n",
      "\n",
      "Epoch 28: val_loss improved from 1.44057 to 1.42370, saving model to gru_best.keras\n",
      "2/2 - 0s - 83ms/step - categorical_accuracy: 0.5000 - loss: 1.2909 - val_categorical_accuracy: 0.3000 - val_loss: 1.4237 - learning_rate: 1.0000e-04\n",
      "Epoch 29/150\n",
      "\n",
      "Epoch 29: val_loss improved from 1.42370 to 1.40564, saving model to gru_best.keras\n",
      "2/2 - 0s - 84ms/step - categorical_accuracy: 0.5250 - loss: 1.2395 - val_categorical_accuracy: 0.3000 - val_loss: 1.4056 - learning_rate: 1.0000e-04\n",
      "Epoch 30/150\n",
      "\n",
      "Epoch 30: val_loss improved from 1.40564 to 1.38480, saving model to gru_best.keras\n",
      "2/2 - 0s - 81ms/step - categorical_accuracy: 0.5000 - loss: 1.5567 - val_categorical_accuracy: 0.6000 - val_loss: 1.3848 - learning_rate: 1.0000e-04\n",
      "Epoch 31/150\n",
      "\n",
      "Epoch 31: val_loss improved from 1.38480 to 1.36332, saving model to gru_best.keras\n",
      "2/2 - 0s - 79ms/step - categorical_accuracy: 0.5250 - loss: 1.2353 - val_categorical_accuracy: 0.7000 - val_loss: 1.3633 - learning_rate: 1.0000e-04\n",
      "Epoch 32/150\n",
      "\n",
      "Epoch 32: val_loss improved from 1.36332 to 1.34658, saving model to gru_best.keras\n",
      "2/2 - 0s - 80ms/step - categorical_accuracy: 0.3250 - loss: 1.7309 - val_categorical_accuracy: 0.8000 - val_loss: 1.3466 - learning_rate: 1.0000e-04\n",
      "Epoch 33/150\n",
      "\n",
      "Epoch 33: val_loss improved from 1.34658 to 1.33030, saving model to gru_best.keras\n",
      "2/2 - 0s - 80ms/step - categorical_accuracy: 0.5500 - loss: 1.0915 - val_categorical_accuracy: 0.8000 - val_loss: 1.3303 - learning_rate: 1.0000e-04\n",
      "Epoch 34/150\n",
      "\n",
      "Epoch 34: val_loss improved from 1.33030 to 1.31248, saving model to gru_best.keras\n",
      "2/2 - 0s - 79ms/step - categorical_accuracy: 0.3750 - loss: 1.4257 - val_categorical_accuracy: 0.8000 - val_loss: 1.3125 - learning_rate: 1.0000e-04\n",
      "Epoch 35/150\n",
      "\n",
      "Epoch 35: val_loss improved from 1.31248 to 1.29488, saving model to gru_best.keras\n",
      "2/2 - 0s - 81ms/step - categorical_accuracy: 0.4500 - loss: 1.4000 - val_categorical_accuracy: 0.8000 - val_loss: 1.2949 - learning_rate: 1.0000e-04\n",
      "Epoch 36/150\n",
      "\n",
      "Epoch 36: val_loss improved from 1.29488 to 1.27626, saving model to gru_best.keras\n",
      "2/2 - 0s - 81ms/step - categorical_accuracy: 0.6000 - loss: 0.9871 - val_categorical_accuracy: 0.8000 - val_loss: 1.2763 - learning_rate: 1.0000e-04\n",
      "Epoch 37/150\n",
      "\n",
      "Epoch 37: val_loss improved from 1.27626 to 1.25784, saving model to gru_best.keras\n",
      "2/2 - 0s - 82ms/step - categorical_accuracy: 0.6250 - loss: 0.9971 - val_categorical_accuracy: 0.8000 - val_loss: 1.2578 - learning_rate: 1.0000e-04\n",
      "Epoch 38/150\n",
      "\n",
      "Epoch 38: val_loss improved from 1.25784 to 1.23907, saving model to gru_best.keras\n",
      "2/2 - 0s - 83ms/step - categorical_accuracy: 0.6250 - loss: 1.0469 - val_categorical_accuracy: 0.8000 - val_loss: 1.2391 - learning_rate: 1.0000e-04\n",
      "Epoch 39/150\n",
      "\n",
      "Epoch 39: val_loss improved from 1.23907 to 1.21912, saving model to gru_best.keras\n",
      "2/2 - 0s - 85ms/step - categorical_accuracy: 0.6500 - loss: 0.9805 - val_categorical_accuracy: 0.8000 - val_loss: 1.2191 - learning_rate: 1.0000e-04\n",
      "Epoch 40/150\n",
      "\n",
      "Epoch 40: val_loss improved from 1.21912 to 1.19869, saving model to gru_best.keras\n",
      "2/2 - 0s - 84ms/step - categorical_accuracy: 0.5250 - loss: 1.2215 - val_categorical_accuracy: 0.8000 - val_loss: 1.1987 - learning_rate: 1.0000e-04\n",
      "Epoch 41/150\n",
      "\n",
      "Epoch 41: val_loss improved from 1.19869 to 1.17806, saving model to gru_best.keras\n",
      "2/2 - 0s - 84ms/step - categorical_accuracy: 0.5500 - loss: 1.0446 - val_categorical_accuracy: 0.8000 - val_loss: 1.1781 - learning_rate: 1.0000e-04\n",
      "Epoch 42/150\n",
      "\n",
      "Epoch 42: val_loss improved from 1.17806 to 1.15812, saving model to gru_best.keras\n",
      "2/2 - 0s - 82ms/step - categorical_accuracy: 0.5500 - loss: 1.1741 - val_categorical_accuracy: 0.8000 - val_loss: 1.1581 - learning_rate: 1.0000e-04\n",
      "Epoch 43/150\n",
      "\n",
      "Epoch 43: val_loss improved from 1.15812 to 1.13693, saving model to gru_best.keras\n",
      "2/2 - 0s - 80ms/step - categorical_accuracy: 0.6000 - loss: 1.0190 - val_categorical_accuracy: 0.8000 - val_loss: 1.1369 - learning_rate: 1.0000e-04\n",
      "Epoch 44/150\n",
      "\n",
      "Epoch 44: val_loss improved from 1.13693 to 1.11768, saving model to gru_best.keras\n",
      "2/2 - 0s - 80ms/step - categorical_accuracy: 0.6500 - loss: 1.0476 - val_categorical_accuracy: 0.8000 - val_loss: 1.1177 - learning_rate: 1.0000e-04\n",
      "Epoch 45/150\n",
      "\n",
      "Epoch 45: val_loss improved from 1.11768 to 1.09692, saving model to gru_best.keras\n",
      "2/2 - 0s - 78ms/step - categorical_accuracy: 0.6750 - loss: 0.8545 - val_categorical_accuracy: 0.8000 - val_loss: 1.0969 - learning_rate: 1.0000e-04\n",
      "Epoch 46/150\n",
      "\n",
      "Epoch 46: val_loss improved from 1.09692 to 1.07797, saving model to gru_best.keras\n",
      "2/2 - 0s - 80ms/step - categorical_accuracy: 0.6500 - loss: 0.8407 - val_categorical_accuracy: 0.9000 - val_loss: 1.0780 - learning_rate: 1.0000e-04\n",
      "Epoch 47/150\n",
      "\n",
      "Epoch 47: val_loss improved from 1.07797 to 1.06080, saving model to gru_best.keras\n",
      "2/2 - 0s - 82ms/step - categorical_accuracy: 0.6500 - loss: 0.9227 - val_categorical_accuracy: 0.9000 - val_loss: 1.0608 - learning_rate: 1.0000e-04\n",
      "Epoch 48/150\n",
      "\n",
      "Epoch 48: val_loss improved from 1.06080 to 1.04910, saving model to gru_best.keras\n",
      "2/2 - 0s - 84ms/step - categorical_accuracy: 0.7250 - loss: 0.7251 - val_categorical_accuracy: 0.9000 - val_loss: 1.0491 - learning_rate: 1.0000e-04\n",
      "Epoch 49/150\n",
      "\n",
      "Epoch 49: val_loss improved from 1.04910 to 1.03857, saving model to gru_best.keras\n",
      "2/2 - 0s - 83ms/step - categorical_accuracy: 0.7750 - loss: 0.7200 - val_categorical_accuracy: 0.9000 - val_loss: 1.0386 - learning_rate: 1.0000e-04\n",
      "Epoch 50/150\n",
      "\n",
      "Epoch 50: val_loss improved from 1.03857 to 1.02661, saving model to gru_best.keras\n",
      "2/2 - 0s - 83ms/step - categorical_accuracy: 0.7000 - loss: 0.7188 - val_categorical_accuracy: 0.9000 - val_loss: 1.0266 - learning_rate: 1.0000e-04\n",
      "Epoch 51/150\n",
      "\n",
      "Epoch 51: val_loss improved from 1.02661 to 1.01725, saving model to gru_best.keras\n",
      "2/2 - 0s - 84ms/step - categorical_accuracy: 0.5750 - loss: 0.9185 - val_categorical_accuracy: 0.9000 - val_loss: 1.0173 - learning_rate: 1.0000e-04\n",
      "Epoch 52/150\n",
      "\n",
      "Epoch 52: val_loss improved from 1.01725 to 1.00953, saving model to gru_best.keras\n",
      "2/2 - 0s - 83ms/step - categorical_accuracy: 0.7750 - loss: 0.6856 - val_categorical_accuracy: 0.9000 - val_loss: 1.0095 - learning_rate: 1.0000e-04\n",
      "Epoch 53/150\n",
      "\n",
      "Epoch 53: val_loss improved from 1.00953 to 0.99651, saving model to gru_best.keras\n",
      "2/2 - 0s - 83ms/step - categorical_accuracy: 0.5750 - loss: 1.0312 - val_categorical_accuracy: 0.9000 - val_loss: 0.9965 - learning_rate: 1.0000e-04\n",
      "Epoch 54/150\n",
      "\n",
      "Epoch 54: val_loss improved from 0.99651 to 0.97899, saving model to gru_best.keras\n",
      "2/2 - 0s - 81ms/step - categorical_accuracy: 0.5750 - loss: 1.0481 - val_categorical_accuracy: 0.9000 - val_loss: 0.9790 - learning_rate: 1.0000e-04\n",
      "Epoch 55/150\n",
      "\n",
      "Epoch 55: val_loss improved from 0.97899 to 0.96696, saving model to gru_best.keras\n",
      "2/2 - 0s - 81ms/step - categorical_accuracy: 0.6500 - loss: 0.7356 - val_categorical_accuracy: 0.9000 - val_loss: 0.9670 - learning_rate: 1.0000e-04\n",
      "Epoch 56/150\n",
      "\n",
      "Epoch 56: val_loss improved from 0.96696 to 0.95234, saving model to gru_best.keras\n",
      "2/2 - 0s - 80ms/step - categorical_accuracy: 0.6250 - loss: 0.8463 - val_categorical_accuracy: 0.9000 - val_loss: 0.9523 - learning_rate: 1.0000e-04\n",
      "Epoch 57/150\n",
      "\n",
      "Epoch 57: val_loss improved from 0.95234 to 0.93860, saving model to gru_best.keras\n",
      "2/2 - 0s - 80ms/step - categorical_accuracy: 0.6000 - loss: 0.9436 - val_categorical_accuracy: 0.9000 - val_loss: 0.9386 - learning_rate: 1.0000e-04\n",
      "Epoch 58/150\n",
      "\n",
      "Epoch 58: val_loss improved from 0.93860 to 0.93143, saving model to gru_best.keras\n",
      "2/2 - 0s - 80ms/step - categorical_accuracy: 0.6250 - loss: 1.0545 - val_categorical_accuracy: 0.9000 - val_loss: 0.9314 - learning_rate: 1.0000e-04\n",
      "Epoch 59/150\n",
      "\n",
      "Epoch 59: val_loss improved from 0.93143 to 0.91813, saving model to gru_best.keras\n",
      "2/2 - 0s - 81ms/step - categorical_accuracy: 0.7250 - loss: 0.6778 - val_categorical_accuracy: 0.9000 - val_loss: 0.9181 - learning_rate: 1.0000e-04\n",
      "Epoch 60/150\n",
      "\n",
      "Epoch 60: val_loss improved from 0.91813 to 0.89755, saving model to gru_best.keras\n",
      "2/2 - 0s - 82ms/step - categorical_accuracy: 0.7500 - loss: 0.7901 - val_categorical_accuracy: 0.9000 - val_loss: 0.8976 - learning_rate: 1.0000e-04\n",
      "Epoch 61/150\n",
      "\n",
      "Epoch 61: val_loss improved from 0.89755 to 0.87807, saving model to gru_best.keras\n",
      "2/2 - 0s - 81ms/step - categorical_accuracy: 0.8000 - loss: 0.5191 - val_categorical_accuracy: 0.9000 - val_loss: 0.8781 - learning_rate: 1.0000e-04\n",
      "Epoch 62/150\n",
      "\n",
      "Epoch 62: val_loss improved from 0.87807 to 0.86271, saving model to gru_best.keras\n",
      "2/2 - 0s - 84ms/step - categorical_accuracy: 0.6500 - loss: 0.7890 - val_categorical_accuracy: 0.8000 - val_loss: 0.8627 - learning_rate: 1.0000e-04\n",
      "Epoch 63/150\n",
      "\n",
      "Epoch 63: val_loss improved from 0.86271 to 0.84753, saving model to gru_best.keras\n",
      "2/2 - 0s - 84ms/step - categorical_accuracy: 0.7250 - loss: 0.6386 - val_categorical_accuracy: 0.8000 - val_loss: 0.8475 - learning_rate: 1.0000e-04\n",
      "Epoch 64/150\n",
      "\n",
      "Epoch 64: val_loss improved from 0.84753 to 0.83077, saving model to gru_best.keras\n",
      "2/2 - 0s - 84ms/step - categorical_accuracy: 0.8000 - loss: 0.6386 - val_categorical_accuracy: 0.8000 - val_loss: 0.8308 - learning_rate: 1.0000e-04\n",
      "Epoch 65/150\n",
      "\n",
      "Epoch 65: val_loss improved from 0.83077 to 0.81390, saving model to gru_best.keras\n",
      "2/2 - 0s - 83ms/step - categorical_accuracy: 0.5250 - loss: 1.0110 - val_categorical_accuracy: 0.9000 - val_loss: 0.8139 - learning_rate: 1.0000e-04\n",
      "Epoch 66/150\n",
      "\n",
      "Epoch 66: val_loss improved from 0.81390 to 0.79599, saving model to gru_best.keras\n",
      "2/2 - 0s - 80ms/step - categorical_accuracy: 0.7000 - loss: 0.7645 - val_categorical_accuracy: 1.0000 - val_loss: 0.7960 - learning_rate: 1.0000e-04\n",
      "Epoch 67/150\n",
      "\n",
      "Epoch 67: val_loss improved from 0.79599 to 0.78053, saving model to gru_best.keras\n",
      "2/2 - 0s - 80ms/step - categorical_accuracy: 0.7250 - loss: 0.6495 - val_categorical_accuracy: 1.0000 - val_loss: 0.7805 - learning_rate: 1.0000e-04\n",
      "Epoch 68/150\n",
      "\n",
      "Epoch 68: val_loss improved from 0.78053 to 0.76422, saving model to gru_best.keras\n",
      "2/2 - 0s - 80ms/step - categorical_accuracy: 0.6750 - loss: 0.7277 - val_categorical_accuracy: 1.0000 - val_loss: 0.7642 - learning_rate: 1.0000e-04\n",
      "Epoch 69/150\n",
      "\n",
      "Epoch 69: val_loss improved from 0.76422 to 0.74888, saving model to gru_best.keras\n",
      "2/2 - 0s - 81ms/step - categorical_accuracy: 0.7750 - loss: 0.5061 - val_categorical_accuracy: 1.0000 - val_loss: 0.7489 - learning_rate: 1.0000e-04\n",
      "Epoch 70/150\n",
      "\n",
      "Epoch 70: val_loss improved from 0.74888 to 0.73480, saving model to gru_best.keras\n",
      "2/2 - 0s - 81ms/step - categorical_accuracy: 0.8250 - loss: 0.4420 - val_categorical_accuracy: 1.0000 - val_loss: 0.7348 - learning_rate: 1.0000e-04\n",
      "Epoch 71/150\n",
      "\n",
      "Epoch 71: val_loss improved from 0.73480 to 0.72191, saving model to gru_best.keras\n",
      "2/2 - 0s - 84ms/step - categorical_accuracy: 0.6500 - loss: 0.9139 - val_categorical_accuracy: 1.0000 - val_loss: 0.7219 - learning_rate: 1.0000e-04\n",
      "Epoch 72/150\n",
      "\n",
      "Epoch 72: val_loss improved from 0.72191 to 0.70741, saving model to gru_best.keras\n",
      "2/2 - 0s - 82ms/step - categorical_accuracy: 0.7500 - loss: 0.7360 - val_categorical_accuracy: 1.0000 - val_loss: 0.7074 - learning_rate: 1.0000e-04\n",
      "Epoch 73/150\n",
      "\n",
      "Epoch 73: val_loss improved from 0.70741 to 0.70163, saving model to gru_best.keras\n",
      "2/2 - 0s - 88ms/step - categorical_accuracy: 0.7000 - loss: 0.6910 - val_categorical_accuracy: 0.9000 - val_loss: 0.7016 - learning_rate: 1.0000e-04\n",
      "Epoch 74/150\n",
      "\n",
      "Epoch 74: val_loss improved from 0.70163 to 0.68863, saving model to gru_best.keras\n",
      "2/2 - 0s - 84ms/step - categorical_accuracy: 0.7250 - loss: 0.6622 - val_categorical_accuracy: 0.9000 - val_loss: 0.6886 - learning_rate: 1.0000e-04\n",
      "Epoch 75/150\n",
      "\n",
      "Epoch 75: val_loss improved from 0.68863 to 0.67318, saving model to gru_best.keras\n",
      "2/2 - 0s - 83ms/step - categorical_accuracy: 0.8000 - loss: 0.6178 - val_categorical_accuracy: 0.9000 - val_loss: 0.6732 - learning_rate: 1.0000e-04\n",
      "Epoch 76/150\n",
      "\n",
      "Epoch 76: val_loss improved from 0.67318 to 0.66436, saving model to gru_best.keras\n",
      "2/2 - 0s - 83ms/step - categorical_accuracy: 0.8750 - loss: 0.3894 - val_categorical_accuracy: 0.9000 - val_loss: 0.6644 - learning_rate: 1.0000e-04\n",
      "Epoch 77/150\n",
      "\n",
      "Epoch 77: val_loss improved from 0.66436 to 0.65306, saving model to gru_best.keras\n",
      "2/2 - 0s - 83ms/step - categorical_accuracy: 0.6250 - loss: 0.7865 - val_categorical_accuracy: 0.9000 - val_loss: 0.6531 - learning_rate: 1.0000e-04\n",
      "Epoch 78/150\n",
      "\n",
      "Epoch 78: val_loss improved from 0.65306 to 0.64173, saving model to gru_best.keras\n",
      "2/2 - 0s - 81ms/step - categorical_accuracy: 0.8000 - loss: 0.6669 - val_categorical_accuracy: 0.9000 - val_loss: 0.6417 - learning_rate: 1.0000e-04\n",
      "Epoch 79/150\n",
      "\n",
      "Epoch 79: val_loss improved from 0.64173 to 0.63208, saving model to gru_best.keras\n",
      "2/2 - 0s - 80ms/step - categorical_accuracy: 0.7250 - loss: 0.5912 - val_categorical_accuracy: 0.9000 - val_loss: 0.6321 - learning_rate: 1.0000e-04\n",
      "Epoch 80/150\n",
      "\n",
      "Epoch 80: val_loss improved from 0.63208 to 0.62331, saving model to gru_best.keras\n",
      "2/2 - 0s - 80ms/step - categorical_accuracy: 0.7500 - loss: 0.6048 - val_categorical_accuracy: 0.9000 - val_loss: 0.6233 - learning_rate: 1.0000e-04\n",
      "Epoch 81/150\n",
      "\n",
      "Epoch 81: val_loss improved from 0.62331 to 0.61470, saving model to gru_best.keras\n",
      "2/2 - 0s - 81ms/step - categorical_accuracy: 0.8000 - loss: 0.4556 - val_categorical_accuracy: 0.9000 - val_loss: 0.6147 - learning_rate: 1.0000e-04\n",
      "Epoch 82/150\n",
      "\n",
      "Epoch 82: val_loss improved from 0.61470 to 0.60665, saving model to gru_best.keras\n",
      "2/2 - 0s - 81ms/step - categorical_accuracy: 0.8250 - loss: 0.4916 - val_categorical_accuracy: 0.9000 - val_loss: 0.6066 - learning_rate: 1.0000e-04\n",
      "Epoch 83/150\n",
      "\n",
      "Epoch 83: val_loss improved from 0.60665 to 0.59687, saving model to gru_best.keras\n",
      "2/2 - 0s - 84ms/step - categorical_accuracy: 0.6750 - loss: 0.6553 - val_categorical_accuracy: 0.9000 - val_loss: 0.5969 - learning_rate: 1.0000e-04\n",
      "Epoch 84/150\n",
      "\n",
      "Epoch 84: val_loss improved from 0.59687 to 0.57320, saving model to gru_best.keras\n",
      "2/2 - 0s - 81ms/step - categorical_accuracy: 0.8250 - loss: 0.4035 - val_categorical_accuracy: 0.9000 - val_loss: 0.5732 - learning_rate: 1.0000e-04\n",
      "Epoch 85/150\n",
      "\n",
      "Epoch 85: val_loss improved from 0.57320 to 0.55150, saving model to gru_best.keras\n",
      "2/2 - 0s - 81ms/step - categorical_accuracy: 0.8750 - loss: 0.4526 - val_categorical_accuracy: 0.9000 - val_loss: 0.5515 - learning_rate: 1.0000e-04\n",
      "Epoch 86/150\n",
      "\n",
      "Epoch 86: val_loss improved from 0.55150 to 0.53419, saving model to gru_best.keras\n",
      "2/2 - 0s - 83ms/step - categorical_accuracy: 0.7750 - loss: 0.5013 - val_categorical_accuracy: 0.9000 - val_loss: 0.5342 - learning_rate: 1.0000e-04\n",
      "Epoch 87/150\n",
      "\n",
      "Epoch 87: val_loss improved from 0.53419 to 0.52233, saving model to gru_best.keras\n",
      "2/2 - 0s - 119ms/step - categorical_accuracy: 0.8500 - loss: 0.3667 - val_categorical_accuracy: 0.9000 - val_loss: 0.5223 - learning_rate: 1.0000e-04\n",
      "Epoch 88/150\n",
      "\n",
      "Epoch 88: val_loss improved from 0.52233 to 0.52026, saving model to gru_best.keras\n",
      "2/2 - 0s - 103ms/step - categorical_accuracy: 0.7500 - loss: 0.6673 - val_categorical_accuracy: 0.9000 - val_loss: 0.5203 - learning_rate: 1.0000e-04\n",
      "Epoch 89/150\n",
      "\n",
      "Epoch 89: val_loss did not improve from 0.52026\n",
      "2/2 - 0s - 67ms/step - categorical_accuracy: 0.7000 - loss: 0.9230 - val_categorical_accuracy: 0.9000 - val_loss: 0.5276 - learning_rate: 1.0000e-04\n",
      "Epoch 90/150\n",
      "\n",
      "Epoch 90: val_loss did not improve from 0.52026\n",
      "2/2 - 0s - 64ms/step - categorical_accuracy: 0.7500 - loss: 0.5884 - val_categorical_accuracy: 0.9000 - val_loss: 0.5256 - learning_rate: 1.0000e-04\n",
      "Epoch 91/150\n",
      "\n",
      "Epoch 91: val_loss did not improve from 0.52026\n",
      "2/2 - 0s - 59ms/step - categorical_accuracy: 0.7750 - loss: 0.5854 - val_categorical_accuracy: 0.9000 - val_loss: 0.5211 - learning_rate: 1.0000e-04\n",
      "Epoch 92/150\n",
      "\n",
      "Epoch 92: val_loss improved from 0.52026 to 0.51188, saving model to gru_best.keras\n",
      "2/2 - 0s - 84ms/step - categorical_accuracy: 0.8250 - loss: 0.5548 - val_categorical_accuracy: 0.9000 - val_loss: 0.5119 - learning_rate: 1.0000e-04\n",
      "Epoch 93/150\n",
      "\n",
      "Epoch 93: val_loss improved from 0.51188 to 0.50411, saving model to gru_best.keras\n",
      "2/2 - 0s - 91ms/step - categorical_accuracy: 0.8250 - loss: 0.5465 - val_categorical_accuracy: 0.9000 - val_loss: 0.5041 - learning_rate: 1.0000e-04\n",
      "Epoch 94/150\n",
      "\n",
      "Epoch 94: val_loss improved from 0.50411 to 0.49852, saving model to gru_best.keras\n",
      "2/2 - 0s - 88ms/step - categorical_accuracy: 0.7500 - loss: 0.5567 - val_categorical_accuracy: 0.9000 - val_loss: 0.4985 - learning_rate: 1.0000e-04\n",
      "Epoch 95/150\n",
      "\n",
      "Epoch 95: val_loss improved from 0.49852 to 0.49289, saving model to gru_best.keras\n",
      "2/2 - 0s - 100ms/step - categorical_accuracy: 0.7750 - loss: 0.4782 - val_categorical_accuracy: 0.9000 - val_loss: 0.4929 - learning_rate: 1.0000e-04\n",
      "Epoch 96/150\n",
      "\n",
      "Epoch 96: val_loss improved from 0.49289 to 0.48747, saving model to gru_best.keras\n",
      "2/2 - 0s - 85ms/step - categorical_accuracy: 0.8250 - loss: 0.5647 - val_categorical_accuracy: 0.9000 - val_loss: 0.4875 - learning_rate: 1.0000e-04\n",
      "Epoch 97/150\n",
      "\n",
      "Epoch 97: val_loss improved from 0.48747 to 0.48399, saving model to gru_best.keras\n",
      "2/2 - 0s - 83ms/step - categorical_accuracy: 0.7750 - loss: 0.5086 - val_categorical_accuracy: 0.9000 - val_loss: 0.4840 - learning_rate: 1.0000e-04\n",
      "Epoch 98/150\n",
      "\n",
      "Epoch 98: val_loss improved from 0.48399 to 0.47911, saving model to gru_best.keras\n",
      "2/2 - 0s - 83ms/step - categorical_accuracy: 0.7750 - loss: 0.4874 - val_categorical_accuracy: 0.9000 - val_loss: 0.4791 - learning_rate: 1.0000e-04\n",
      "Epoch 99/150\n",
      "\n",
      "Epoch 99: val_loss improved from 0.47911 to 0.47013, saving model to gru_best.keras\n",
      "2/2 - 0s - 84ms/step - categorical_accuracy: 0.8500 - loss: 0.5026 - val_categorical_accuracy: 0.9000 - val_loss: 0.4701 - learning_rate: 1.0000e-04\n",
      "Epoch 100/150\n",
      "\n",
      "Epoch 100: val_loss improved from 0.47013 to 0.45884, saving model to gru_best.keras\n",
      "2/2 - 0s - 82ms/step - categorical_accuracy: 0.7500 - loss: 0.6743 - val_categorical_accuracy: 0.9000 - val_loss: 0.4588 - learning_rate: 1.0000e-04\n",
      "Epoch 101/150\n",
      "\n",
      "Epoch 101: val_loss improved from 0.45884 to 0.44762, saving model to gru_best.keras\n",
      "2/2 - 0s - 82ms/step - categorical_accuracy: 0.8000 - loss: 0.4137 - val_categorical_accuracy: 0.9000 - val_loss: 0.4476 - learning_rate: 1.0000e-04\n",
      "Epoch 102/150\n",
      "\n",
      "Epoch 102: val_loss improved from 0.44762 to 0.43796, saving model to gru_best.keras\n",
      "2/2 - 0s - 82ms/step - categorical_accuracy: 0.8250 - loss: 0.5003 - val_categorical_accuracy: 0.9000 - val_loss: 0.4380 - learning_rate: 1.0000e-04\n",
      "Epoch 103/150\n",
      "\n",
      "Epoch 103: val_loss improved from 0.43796 to 0.42906, saving model to gru_best.keras\n",
      "2/2 - 0s - 81ms/step - categorical_accuracy: 0.8250 - loss: 0.3632 - val_categorical_accuracy: 0.9000 - val_loss: 0.4291 - learning_rate: 1.0000e-04\n",
      "Epoch 104/150\n",
      "\n",
      "Epoch 104: val_loss improved from 0.42906 to 0.42261, saving model to gru_best.keras\n",
      "2/2 - 0s - 82ms/step - categorical_accuracy: 0.8500 - loss: 0.6158 - val_categorical_accuracy: 0.9000 - val_loss: 0.4226 - learning_rate: 1.0000e-04\n",
      "Epoch 105/150\n",
      "\n",
      "Epoch 105: val_loss improved from 0.42261 to 0.41710, saving model to gru_best.keras\n",
      "2/2 - 0s - 80ms/step - categorical_accuracy: 0.9250 - loss: 0.2891 - val_categorical_accuracy: 0.9000 - val_loss: 0.4171 - learning_rate: 1.0000e-04\n",
      "Epoch 106/150\n",
      "\n",
      "Epoch 106: val_loss improved from 0.41710 to 0.41289, saving model to gru_best.keras\n",
      "2/2 - 0s - 82ms/step - categorical_accuracy: 0.8750 - loss: 0.4160 - val_categorical_accuracy: 0.9000 - val_loss: 0.4129 - learning_rate: 1.0000e-04\n",
      "Epoch 107/150\n",
      "\n",
      "Epoch 107: val_loss improved from 0.41289 to 0.40713, saving model to gru_best.keras\n",
      "2/2 - 0s - 83ms/step - categorical_accuracy: 0.9250 - loss: 0.2652 - val_categorical_accuracy: 0.9000 - val_loss: 0.4071 - learning_rate: 1.0000e-04\n",
      "Epoch 108/150\n",
      "\n",
      "Epoch 108: val_loss improved from 0.40713 to 0.39477, saving model to gru_best.keras\n",
      "2/2 - 0s - 83ms/step - categorical_accuracy: 0.8000 - loss: 0.5063 - val_categorical_accuracy: 0.9000 - val_loss: 0.3948 - learning_rate: 1.0000e-04\n",
      "Epoch 109/150\n",
      "\n",
      "Epoch 109: val_loss improved from 0.39477 to 0.38474, saving model to gru_best.keras\n",
      "2/2 - 0s - 87ms/step - categorical_accuracy: 0.8750 - loss: 0.3983 - val_categorical_accuracy: 0.9000 - val_loss: 0.3847 - learning_rate: 1.0000e-04\n",
      "Epoch 110/150\n",
      "\n",
      "Epoch 110: val_loss improved from 0.38474 to 0.37742, saving model to gru_best.keras\n",
      "2/2 - 0s - 94ms/step - categorical_accuracy: 0.8500 - loss: 0.4271 - val_categorical_accuracy: 0.9000 - val_loss: 0.3774 - learning_rate: 1.0000e-04\n",
      "Epoch 111/150\n",
      "\n",
      "Epoch 111: val_loss improved from 0.37742 to 0.36956, saving model to gru_best.keras\n",
      "2/2 - 0s - 90ms/step - categorical_accuracy: 0.8500 - loss: 0.3661 - val_categorical_accuracy: 0.9000 - val_loss: 0.3696 - learning_rate: 1.0000e-04\n",
      "Epoch 112/150\n",
      "\n",
      "Epoch 112: val_loss improved from 0.36956 to 0.36361, saving model to gru_best.keras\n",
      "2/2 - 0s - 90ms/step - categorical_accuracy: 0.9000 - loss: 0.4383 - val_categorical_accuracy: 0.9000 - val_loss: 0.3636 - learning_rate: 1.0000e-04\n",
      "Epoch 113/150\n",
      "\n",
      "Epoch 113: val_loss improved from 0.36361 to 0.35494, saving model to gru_best.keras\n",
      "2/2 - 0s - 86ms/step - categorical_accuracy: 0.8000 - loss: 0.6021 - val_categorical_accuracy: 0.9000 - val_loss: 0.3549 - learning_rate: 1.0000e-04\n",
      "Epoch 114/150\n",
      "\n",
      "Epoch 114: val_loss improved from 0.35494 to 0.34461, saving model to gru_best.keras\n",
      "2/2 - 0s - 84ms/step - categorical_accuracy: 0.8000 - loss: 0.3893 - val_categorical_accuracy: 0.9000 - val_loss: 0.3446 - learning_rate: 1.0000e-04\n",
      "Epoch 115/150\n",
      "\n",
      "Epoch 115: val_loss improved from 0.34461 to 0.33503, saving model to gru_best.keras\n",
      "2/2 - 0s - 86ms/step - categorical_accuracy: 0.8000 - loss: 0.5134 - val_categorical_accuracy: 0.9000 - val_loss: 0.3350 - learning_rate: 1.0000e-04\n",
      "Epoch 116/150\n",
      "\n",
      "Epoch 116: val_loss improved from 0.33503 to 0.32772, saving model to gru_best.keras\n",
      "2/2 - 0s - 87ms/step - categorical_accuracy: 0.8250 - loss: 0.4926 - val_categorical_accuracy: 0.9000 - val_loss: 0.3277 - learning_rate: 1.0000e-04\n",
      "Epoch 117/150\n",
      "\n",
      "Epoch 117: val_loss improved from 0.32772 to 0.31760, saving model to gru_best.keras\n",
      "2/2 - 0s - 88ms/step - categorical_accuracy: 0.8500 - loss: 0.4579 - val_categorical_accuracy: 0.9000 - val_loss: 0.3176 - learning_rate: 1.0000e-04\n",
      "Epoch 118/150\n",
      "\n",
      "Epoch 118: val_loss improved from 0.31760 to 0.30990, saving model to gru_best.keras\n",
      "2/2 - 0s - 89ms/step - categorical_accuracy: 0.8250 - loss: 0.3330 - val_categorical_accuracy: 0.9000 - val_loss: 0.3099 - learning_rate: 1.0000e-04\n",
      "Epoch 119/150\n",
      "\n",
      "Epoch 119: val_loss improved from 0.30990 to 0.30204, saving model to gru_best.keras\n",
      "2/2 - 0s - 89ms/step - categorical_accuracy: 0.8750 - loss: 0.2946 - val_categorical_accuracy: 0.9000 - val_loss: 0.3020 - learning_rate: 1.0000e-04\n",
      "Epoch 120/150\n",
      "\n",
      "Epoch 120: val_loss improved from 0.30204 to 0.29386, saving model to gru_best.keras\n",
      "2/2 - 0s - 96ms/step - categorical_accuracy: 0.8000 - loss: 0.3739 - val_categorical_accuracy: 0.9000 - val_loss: 0.2939 - learning_rate: 1.0000e-04\n",
      "Epoch 121/150\n",
      "\n",
      "Epoch 121: val_loss improved from 0.29386 to 0.28666, saving model to gru_best.keras\n",
      "2/2 - 0s - 91ms/step - categorical_accuracy: 0.9250 - loss: 0.2576 - val_categorical_accuracy: 0.9000 - val_loss: 0.2867 - learning_rate: 1.0000e-04\n",
      "Epoch 122/150\n",
      "\n",
      "Epoch 122: val_loss improved from 0.28666 to 0.28349, saving model to gru_best.keras\n",
      "2/2 - 0s - 85ms/step - categorical_accuracy: 0.8000 - loss: 0.3888 - val_categorical_accuracy: 0.9000 - val_loss: 0.2835 - learning_rate: 1.0000e-04\n",
      "Epoch 123/150\n",
      "\n",
      "Epoch 123: val_loss improved from 0.28349 to 0.28220, saving model to gru_best.keras\n",
      "2/2 - 0s - 84ms/step - categorical_accuracy: 0.9000 - loss: 0.3541 - val_categorical_accuracy: 0.9000 - val_loss: 0.2822 - learning_rate: 1.0000e-04\n",
      "Epoch 124/150\n",
      "\n",
      "Epoch 124: val_loss improved from 0.28220 to 0.28027, saving model to gru_best.keras\n",
      "2/2 - 0s - 84ms/step - categorical_accuracy: 0.8750 - loss: 0.3714 - val_categorical_accuracy: 0.9000 - val_loss: 0.2803 - learning_rate: 1.0000e-04\n",
      "Epoch 125/150\n",
      "\n",
      "Epoch 125: val_loss improved from 0.28027 to 0.27335, saving model to gru_best.keras\n",
      "2/2 - 0s - 80ms/step - categorical_accuracy: 0.9250 - loss: 0.2225 - val_categorical_accuracy: 0.9000 - val_loss: 0.2734 - learning_rate: 1.0000e-04\n",
      "Epoch 126/150\n",
      "\n",
      "Epoch 126: val_loss improved from 0.27335 to 0.26328, saving model to gru_best.keras\n",
      "2/2 - 0s - 81ms/step - categorical_accuracy: 0.7250 - loss: 0.5602 - val_categorical_accuracy: 0.9000 - val_loss: 0.2633 - learning_rate: 1.0000e-04\n",
      "Epoch 127/150\n",
      "\n",
      "Epoch 127: val_loss improved from 0.26328 to 0.25949, saving model to gru_best.keras\n",
      "2/2 - 0s - 81ms/step - categorical_accuracy: 0.8750 - loss: 0.3679 - val_categorical_accuracy: 0.9000 - val_loss: 0.2595 - learning_rate: 1.0000e-04\n",
      "Epoch 128/150\n",
      "\n",
      "Epoch 128: val_loss improved from 0.25949 to 0.25605, saving model to gru_best.keras\n",
      "2/2 - 0s - 80ms/step - categorical_accuracy: 0.9250 - loss: 0.2507 - val_categorical_accuracy: 0.9000 - val_loss: 0.2561 - learning_rate: 1.0000e-04\n",
      "Epoch 129/150\n",
      "\n",
      "Epoch 129: val_loss improved from 0.25605 to 0.25370, saving model to gru_best.keras\n",
      "2/2 - 0s - 84ms/step - categorical_accuracy: 0.9250 - loss: 0.4024 - val_categorical_accuracy: 0.9000 - val_loss: 0.2537 - learning_rate: 1.0000e-04\n",
      "Epoch 130/150\n",
      "\n",
      "Epoch 130: val_loss did not improve from 0.25370\n",
      "2/2 - 0s - 58ms/step - categorical_accuracy: 0.9250 - loss: 0.3054 - val_categorical_accuracy: 0.9000 - val_loss: 0.2547 - learning_rate: 1.0000e-04\n",
      "Epoch 131/150\n",
      "\n",
      "Epoch 131: val_loss improved from 0.25370 to 0.25342, saving model to gru_best.keras\n",
      "2/2 - 0s - 82ms/step - categorical_accuracy: 0.8250 - loss: 0.3275 - val_categorical_accuracy: 0.9000 - val_loss: 0.2534 - learning_rate: 1.0000e-04\n",
      "Epoch 132/150\n",
      "\n",
      "Epoch 132: val_loss improved from 0.25342 to 0.25153, saving model to gru_best.keras\n",
      "2/2 - 0s - 85ms/step - categorical_accuracy: 0.8000 - loss: 0.3693 - val_categorical_accuracy: 0.9000 - val_loss: 0.2515 - learning_rate: 1.0000e-04\n",
      "Epoch 133/150\n",
      "\n",
      "Epoch 133: val_loss improved from 0.25153 to 0.24699, saving model to gru_best.keras\n",
      "2/2 - 0s - 84ms/step - categorical_accuracy: 0.8250 - loss: 0.3871 - val_categorical_accuracy: 0.9000 - val_loss: 0.2470 - learning_rate: 1.0000e-04\n",
      "Epoch 134/150\n",
      "\n",
      "Epoch 134: val_loss improved from 0.24699 to 0.24199, saving model to gru_best.keras\n",
      "2/2 - 0s - 85ms/step - categorical_accuracy: 0.8750 - loss: 0.3018 - val_categorical_accuracy: 0.9000 - val_loss: 0.2420 - learning_rate: 1.0000e-04\n",
      "Epoch 135/150\n",
      "\n",
      "Epoch 135: val_loss improved from 0.24199 to 0.23710, saving model to gru_best.keras\n",
      "2/2 - 0s - 83ms/step - categorical_accuracy: 0.9250 - loss: 0.1902 - val_categorical_accuracy: 0.9000 - val_loss: 0.2371 - learning_rate: 1.0000e-04\n",
      "Epoch 136/150\n",
      "\n",
      "Epoch 136: val_loss improved from 0.23710 to 0.23451, saving model to gru_best.keras\n",
      "2/2 - 0s - 82ms/step - categorical_accuracy: 0.9000 - loss: 0.2745 - val_categorical_accuracy: 0.9000 - val_loss: 0.2345 - learning_rate: 1.0000e-04\n",
      "Epoch 137/150\n",
      "\n",
      "Epoch 137: val_loss did not improve from 0.23451\n",
      "2/2 - 0s - 58ms/step - categorical_accuracy: 0.9000 - loss: 0.3429 - val_categorical_accuracy: 0.9000 - val_loss: 0.2363 - learning_rate: 1.0000e-04\n",
      "Epoch 138/150\n",
      "\n",
      "Epoch 138: val_loss improved from 0.23451 to 0.23406, saving model to gru_best.keras\n",
      "2/2 - 0s - 80ms/step - categorical_accuracy: 0.9250 - loss: 0.3050 - val_categorical_accuracy: 0.9000 - val_loss: 0.2341 - learning_rate: 1.0000e-04\n",
      "Epoch 139/150\n",
      "\n",
      "Epoch 139: val_loss improved from 0.23406 to 0.20778, saving model to gru_best.keras\n",
      "2/2 - 0s - 80ms/step - categorical_accuracy: 0.8500 - loss: 0.4388 - val_categorical_accuracy: 0.9000 - val_loss: 0.2078 - learning_rate: 1.0000e-04\n",
      "Epoch 140/150\n",
      "\n",
      "Epoch 140: val_loss improved from 0.20778 to 0.20013, saving model to gru_best.keras\n",
      "2/2 - 0s - 81ms/step - categorical_accuracy: 0.9000 - loss: 0.3641 - val_categorical_accuracy: 0.9000 - val_loss: 0.2001 - learning_rate: 1.0000e-04\n",
      "Epoch 141/150\n",
      "\n",
      "Epoch 141: val_loss improved from 0.20013 to 0.19583, saving model to gru_best.keras\n",
      "2/2 - 0s - 83ms/step - categorical_accuracy: 0.8750 - loss: 0.3430 - val_categorical_accuracy: 0.9000 - val_loss: 0.1958 - learning_rate: 1.0000e-04\n",
      "Epoch 142/150\n",
      "\n",
      "Epoch 142: val_loss improved from 0.19583 to 0.19037, saving model to gru_best.keras\n",
      "2/2 - 0s - 81ms/step - categorical_accuracy: 0.8750 - loss: 0.4185 - val_categorical_accuracy: 0.9000 - val_loss: 0.1904 - learning_rate: 1.0000e-04\n",
      "Epoch 143/150\n",
      "\n",
      "Epoch 143: val_loss improved from 0.19037 to 0.18564, saving model to gru_best.keras\n",
      "2/2 - 0s - 82ms/step - categorical_accuracy: 0.8750 - loss: 0.3026 - val_categorical_accuracy: 0.9000 - val_loss: 0.1856 - learning_rate: 1.0000e-04\n",
      "Epoch 144/150\n",
      "\n",
      "Epoch 144: val_loss improved from 0.18564 to 0.18092, saving model to gru_best.keras\n",
      "2/2 - 0s - 85ms/step - categorical_accuracy: 0.8500 - loss: 0.3554 - val_categorical_accuracy: 0.9000 - val_loss: 0.1809 - learning_rate: 1.0000e-04\n",
      "Epoch 145/150\n",
      "\n",
      "Epoch 145: val_loss improved from 0.18092 to 0.17471, saving model to gru_best.keras\n",
      "2/2 - 0s - 86ms/step - categorical_accuracy: 0.9000 - loss: 0.3063 - val_categorical_accuracy: 0.9000 - val_loss: 0.1747 - learning_rate: 1.0000e-04\n",
      "Epoch 146/150\n",
      "\n",
      "Epoch 146: val_loss improved from 0.17471 to 0.16995, saving model to gru_best.keras\n",
      "2/2 - 0s - 86ms/step - categorical_accuracy: 0.8750 - loss: 0.4215 - val_categorical_accuracy: 0.9000 - val_loss: 0.1699 - learning_rate: 1.0000e-04\n",
      "Epoch 147/150\n",
      "\n",
      "Epoch 147: val_loss improved from 0.16995 to 0.16351, saving model to gru_best.keras\n",
      "2/2 - 0s - 83ms/step - categorical_accuracy: 0.9250 - loss: 0.3216 - val_categorical_accuracy: 0.9000 - val_loss: 0.1635 - learning_rate: 1.0000e-04\n",
      "Epoch 148/150\n",
      "\n",
      "Epoch 148: val_loss improved from 0.16351 to 0.15697, saving model to gru_best.keras\n",
      "2/2 - 0s - 83ms/step - categorical_accuracy: 0.9500 - loss: 0.2189 - val_categorical_accuracy: 0.9000 - val_loss: 0.1570 - learning_rate: 1.0000e-04\n",
      "Epoch 149/150\n",
      "\n",
      "Epoch 149: val_loss improved from 0.15697 to 0.15345, saving model to gru_best.keras\n",
      "2/2 - 0s - 79ms/step - categorical_accuracy: 0.9000 - loss: 0.2806 - val_categorical_accuracy: 0.9000 - val_loss: 0.1535 - learning_rate: 1.0000e-04\n",
      "Epoch 150/150\n",
      "\n",
      "Epoch 150: val_loss improved from 0.15345 to 0.15239, saving model to gru_best.keras\n",
      "2/2 - 0s - 79ms/step - categorical_accuracy: 0.9000 - loss: 0.3465 - val_categorical_accuracy: 0.9000 - val_loss: 0.1524 - learning_rate: 1.0000e-04\n"
     ]
    }
   ],
   "source": [
    "# Ambil dimensi input dari X_train\n",
    "'''sequence_length = X_train.shape[1]  # jumlah langkah waktu (timesteps)\n",
    "feature_size = X_train.shape[2]     # jumlah fitur per timestep'''\n",
    "\n",
    "# Model GRU\n",
    "model_gru = Sequential([\n",
    "    GRU(128, return_sequences=True, input_shape=(X_train_scaled.shape[1], X_train_scaled.shape[2])),\n",
    "    BatchNormalization(),\n",
    "    Dropout(0.4),\n",
    "\n",
    "    GRU(128, return_sequences=True),\n",
    "    BatchNormalization(),\n",
    "    Dropout(0.4),\n",
    "\n",
    "    GRU(64),\n",
    "    Dense(128, activation='relu'),\n",
    "    BatchNormalization(),\n",
    "    Dropout(0.5),\n",
    "\n",
    "    Dense(len(actions), activation='softmax')  # Pastikan 'actions' adalah daftar label unik\n",
    "])\n",
    "\n",
    "# Kompilasi model\n",
    "model_gru.compile(\n",
    "    optimizer=Adam(1e-4),\n",
    "    loss='categorical_crossentropy',\n",
    "    metrics=['categorical_accuracy']\n",
    ")\n",
    "\n",
    "# Callback\n",
    "callbacks_gru = [\n",
    "    EarlyStopping(patience=10, restore_best_weights=True, monitor='val_loss'),\n",
    "    ModelCheckpoint('gru_best.keras', monitor='val_loss', save_best_only=True, verbose=1),\n",
    "    ReduceLROnPlateau(patience=5, factor=0.5, verbose=1)\n",
    "]\n",
    "\n",
    "# Training model\n",
    "history_gru = model_gru.fit(\n",
    "    X_train, y_train,\n",
    "    epochs=150,\n",
    "    batch_size=32,\n",
    "    validation_data=(X_val, y_val),\n",
    "    callbacks=callbacks_gru,\n",
    "    verbose=2\n",
    ")"
   ]
  },
  {
   "cell_type": "code",
   "execution_count": 30,
   "metadata": {
    "execution": {
     "iopub.execute_input": "2025-05-26T04:16:51.857719Z",
     "iopub.status.busy": "2025-05-26T04:16:51.857325Z",
     "iopub.status.idle": "2025-05-26T04:17:25.392478Z",
     "shell.execute_reply": "2025-05-26T04:17:25.391568Z",
     "shell.execute_reply.started": "2025-05-26T04:16:51.857694Z"
    },
    "trusted": true
   },
   "outputs": [
    {
     "name": "stdout",
     "output_type": "stream",
     "text": [
      "Epoch 1/150\n"
     ]
    },
    {
     "name": "stderr",
     "output_type": "stream",
     "text": [
      "c:\\Users\\M Fathurrahman\\Videos\\LASKAR AI\\ActionDetection-Yolo--2-\\coba\\lib\\site-packages\\keras\\src\\layers\\convolutional\\base_conv.py:113: UserWarning: Do not pass an `input_shape`/`input_dim` argument to a layer. When using Sequential models, prefer using an `Input(shape)` object as the first layer in the model instead.\n",
      "  super().__init__(activity_regularizer=activity_regularizer, **kwargs)\n"
     ]
    },
    {
     "name": "stdout",
     "output_type": "stream",
     "text": [
      "\n",
      "Epoch 1: val_loss improved from inf to 1.53066, saving model to cnn_best.keras\n",
      "2/2 - 2s - 918ms/step - categorical_accuracy: 0.3000 - loss: 2.5758 - val_categorical_accuracy: 0.3000 - val_loss: 1.5307 - learning_rate: 1.0000e-04\n",
      "Epoch 2/150\n",
      "\n",
      "Epoch 2: val_loss improved from 1.53066 to 1.46691, saving model to cnn_best.keras\n",
      "2/2 - 0s - 68ms/step - categorical_accuracy: 0.3250 - loss: 1.8382 - val_categorical_accuracy: 0.5000 - val_loss: 1.4669 - learning_rate: 1.0000e-04\n",
      "Epoch 3/150\n",
      "\n",
      "Epoch 3: val_loss improved from 1.46691 to 1.40742, saving model to cnn_best.keras\n",
      "2/2 - 0s - 69ms/step - categorical_accuracy: 0.5000 - loss: 1.6100 - val_categorical_accuracy: 0.5000 - val_loss: 1.4074 - learning_rate: 1.0000e-04\n",
      "Epoch 4/150\n",
      "\n",
      "Epoch 4: val_loss improved from 1.40742 to 1.34995, saving model to cnn_best.keras\n",
      "2/2 - 0s - 69ms/step - categorical_accuracy: 0.6000 - loss: 1.2542 - val_categorical_accuracy: 0.6000 - val_loss: 1.3499 - learning_rate: 1.0000e-04\n",
      "Epoch 5/150\n",
      "\n",
      "Epoch 5: val_loss improved from 1.34995 to 1.29341, saving model to cnn_best.keras\n",
      "2/2 - 0s - 68ms/step - categorical_accuracy: 0.5750 - loss: 1.1293 - val_categorical_accuracy: 0.6000 - val_loss: 1.2934 - learning_rate: 1.0000e-04\n",
      "Epoch 6/150\n",
      "\n",
      "Epoch 6: val_loss improved from 1.29341 to 1.24092, saving model to cnn_best.keras\n",
      "2/2 - 0s - 69ms/step - categorical_accuracy: 0.7000 - loss: 0.8031 - val_categorical_accuracy: 0.7000 - val_loss: 1.2409 - learning_rate: 1.0000e-04\n",
      "Epoch 7/150\n",
      "\n",
      "Epoch 7: val_loss improved from 1.24092 to 1.19385, saving model to cnn_best.keras\n",
      "2/2 - 0s - 70ms/step - categorical_accuracy: 0.6500 - loss: 0.7877 - val_categorical_accuracy: 0.8000 - val_loss: 1.1939 - learning_rate: 1.0000e-04\n",
      "Epoch 8/150\n",
      "\n",
      "Epoch 8: val_loss improved from 1.19385 to 1.15171, saving model to cnn_best.keras\n",
      "2/2 - 0s - 75ms/step - categorical_accuracy: 0.8000 - loss: 0.5728 - val_categorical_accuracy: 0.8000 - val_loss: 1.1517 - learning_rate: 1.0000e-04\n",
      "Epoch 9/150\n",
      "\n",
      "Epoch 9: val_loss improved from 1.15171 to 1.11592, saving model to cnn_best.keras\n",
      "2/2 - 0s - 75ms/step - categorical_accuracy: 0.8000 - loss: 0.6246 - val_categorical_accuracy: 0.8000 - val_loss: 1.1159 - learning_rate: 1.0000e-04\n",
      "Epoch 10/150\n",
      "\n",
      "Epoch 10: val_loss improved from 1.11592 to 1.08307, saving model to cnn_best.keras\n",
      "2/2 - 0s - 74ms/step - categorical_accuracy: 0.8750 - loss: 0.4943 - val_categorical_accuracy: 1.0000 - val_loss: 1.0831 - learning_rate: 1.0000e-04\n",
      "Epoch 11/150\n",
      "\n",
      "Epoch 11: val_loss improved from 1.08307 to 1.05500, saving model to cnn_best.keras\n",
      "2/2 - 0s - 80ms/step - categorical_accuracy: 0.8750 - loss: 0.4495 - val_categorical_accuracy: 1.0000 - val_loss: 1.0550 - learning_rate: 1.0000e-04\n",
      "Epoch 12/150\n",
      "\n",
      "Epoch 12: val_loss improved from 1.05500 to 1.02942, saving model to cnn_best.keras\n",
      "2/2 - 0s - 73ms/step - categorical_accuracy: 0.8750 - loss: 0.5156 - val_categorical_accuracy: 1.0000 - val_loss: 1.0294 - learning_rate: 1.0000e-04\n",
      "Epoch 13/150\n",
      "\n",
      "Epoch 13: val_loss improved from 1.02942 to 1.00257, saving model to cnn_best.keras\n",
      "2/2 - 0s - 70ms/step - categorical_accuracy: 0.7500 - loss: 0.5507 - val_categorical_accuracy: 1.0000 - val_loss: 1.0026 - learning_rate: 1.0000e-04\n",
      "Epoch 14/150\n",
      "\n",
      "Epoch 14: val_loss improved from 1.00257 to 0.97560, saving model to cnn_best.keras\n",
      "2/2 - 0s - 67ms/step - categorical_accuracy: 0.8250 - loss: 0.4333 - val_categorical_accuracy: 1.0000 - val_loss: 0.9756 - learning_rate: 1.0000e-04\n",
      "Epoch 15/150\n",
      "\n",
      "Epoch 15: val_loss improved from 0.97560 to 0.95175, saving model to cnn_best.keras\n",
      "2/2 - 0s - 70ms/step - categorical_accuracy: 0.9250 - loss: 0.4773 - val_categorical_accuracy: 1.0000 - val_loss: 0.9518 - learning_rate: 1.0000e-04\n",
      "Epoch 16/150\n",
      "\n",
      "Epoch 16: val_loss improved from 0.95175 to 0.93042, saving model to cnn_best.keras\n",
      "2/2 - 0s - 69ms/step - categorical_accuracy: 0.9000 - loss: 0.3685 - val_categorical_accuracy: 1.0000 - val_loss: 0.9304 - learning_rate: 1.0000e-04\n",
      "Epoch 17/150\n",
      "\n",
      "Epoch 17: val_loss improved from 0.93042 to 0.91213, saving model to cnn_best.keras\n",
      "2/2 - 0s - 70ms/step - categorical_accuracy: 0.9000 - loss: 0.4310 - val_categorical_accuracy: 1.0000 - val_loss: 0.9121 - learning_rate: 1.0000e-04\n",
      "Epoch 18/150\n",
      "\n",
      "Epoch 18: val_loss improved from 0.91213 to 0.89670, saving model to cnn_best.keras\n",
      "2/2 - 0s - 68ms/step - categorical_accuracy: 0.9500 - loss: 0.2606 - val_categorical_accuracy: 1.0000 - val_loss: 0.8967 - learning_rate: 1.0000e-04\n",
      "Epoch 19/150\n",
      "\n",
      "Epoch 19: val_loss improved from 0.89670 to 0.88333, saving model to cnn_best.keras\n",
      "2/2 - 0s - 70ms/step - categorical_accuracy: 0.9000 - loss: 0.4701 - val_categorical_accuracy: 1.0000 - val_loss: 0.8833 - learning_rate: 1.0000e-04\n",
      "Epoch 20/150\n",
      "\n",
      "Epoch 20: val_loss improved from 0.88333 to 0.87320, saving model to cnn_best.keras\n",
      "2/2 - 0s - 68ms/step - categorical_accuracy: 0.8500 - loss: 0.3873 - val_categorical_accuracy: 1.0000 - val_loss: 0.8732 - learning_rate: 1.0000e-04\n",
      "Epoch 21/150\n",
      "\n",
      "Epoch 21: val_loss improved from 0.87320 to 0.86397, saving model to cnn_best.keras\n",
      "2/2 - 0s - 69ms/step - categorical_accuracy: 0.9000 - loss: 0.2382 - val_categorical_accuracy: 1.0000 - val_loss: 0.8640 - learning_rate: 1.0000e-04\n",
      "Epoch 22/150\n",
      "\n",
      "Epoch 22: val_loss improved from 0.86397 to 0.85368, saving model to cnn_best.keras\n",
      "2/2 - 0s - 76ms/step - categorical_accuracy: 0.9000 - loss: 0.3188 - val_categorical_accuracy: 1.0000 - val_loss: 0.8537 - learning_rate: 1.0000e-04\n",
      "Epoch 23/150\n",
      "\n",
      "Epoch 23: val_loss improved from 0.85368 to 0.84206, saving model to cnn_best.keras\n",
      "2/2 - 0s - 78ms/step - categorical_accuracy: 0.9250 - loss: 0.2138 - val_categorical_accuracy: 1.0000 - val_loss: 0.8421 - learning_rate: 1.0000e-04\n",
      "Epoch 24/150\n",
      "\n",
      "Epoch 24: val_loss improved from 0.84206 to 0.82836, saving model to cnn_best.keras\n",
      "2/2 - 0s - 74ms/step - categorical_accuracy: 0.8750 - loss: 0.4164 - val_categorical_accuracy: 1.0000 - val_loss: 0.8284 - learning_rate: 1.0000e-04\n",
      "Epoch 25/150\n",
      "\n",
      "Epoch 25: val_loss improved from 0.82836 to 0.81175, saving model to cnn_best.keras\n",
      "2/2 - 0s - 72ms/step - categorical_accuracy: 0.9000 - loss: 0.2821 - val_categorical_accuracy: 1.0000 - val_loss: 0.8118 - learning_rate: 1.0000e-04\n",
      "Epoch 26/150\n",
      "\n",
      "Epoch 26: val_loss improved from 0.81175 to 0.79470, saving model to cnn_best.keras\n",
      "2/2 - 0s - 78ms/step - categorical_accuracy: 0.9250 - loss: 0.3798 - val_categorical_accuracy: 1.0000 - val_loss: 0.7947 - learning_rate: 1.0000e-04\n",
      "Epoch 27/150\n",
      "\n",
      "Epoch 27: val_loss improved from 0.79470 to 0.77596, saving model to cnn_best.keras\n",
      "2/2 - 0s - 76ms/step - categorical_accuracy: 0.8750 - loss: 0.2953 - val_categorical_accuracy: 1.0000 - val_loss: 0.7760 - learning_rate: 1.0000e-04\n",
      "Epoch 28/150\n",
      "\n",
      "Epoch 28: val_loss improved from 0.77596 to 0.75784, saving model to cnn_best.keras\n",
      "2/2 - 0s - 68ms/step - categorical_accuracy: 0.9000 - loss: 0.3120 - val_categorical_accuracy: 1.0000 - val_loss: 0.7578 - learning_rate: 1.0000e-04\n",
      "Epoch 29/150\n",
      "\n",
      "Epoch 29: val_loss improved from 0.75784 to 0.74129, saving model to cnn_best.keras\n",
      "2/2 - 0s - 69ms/step - categorical_accuracy: 0.8500 - loss: 0.3976 - val_categorical_accuracy: 1.0000 - val_loss: 0.7413 - learning_rate: 1.0000e-04\n",
      "Epoch 30/150\n",
      "\n",
      "Epoch 30: val_loss improved from 0.74129 to 0.72598, saving model to cnn_best.keras\n",
      "2/2 - 0s - 68ms/step - categorical_accuracy: 0.9000 - loss: 0.2567 - val_categorical_accuracy: 1.0000 - val_loss: 0.7260 - learning_rate: 1.0000e-04\n",
      "Epoch 31/150\n",
      "\n",
      "Epoch 31: val_loss improved from 0.72598 to 0.71143, saving model to cnn_best.keras\n",
      "2/2 - 0s - 72ms/step - categorical_accuracy: 0.9250 - loss: 0.2259 - val_categorical_accuracy: 1.0000 - val_loss: 0.7114 - learning_rate: 1.0000e-04\n",
      "Epoch 32/150\n",
      "\n",
      "Epoch 32: val_loss improved from 0.71143 to 0.69912, saving model to cnn_best.keras\n",
      "2/2 - 0s - 69ms/step - categorical_accuracy: 0.9250 - loss: 0.4026 - val_categorical_accuracy: 1.0000 - val_loss: 0.6991 - learning_rate: 1.0000e-04\n",
      "Epoch 33/150\n",
      "\n",
      "Epoch 33: val_loss improved from 0.69912 to 0.69063, saving model to cnn_best.keras\n",
      "2/2 - 0s - 70ms/step - categorical_accuracy: 0.9500 - loss: 0.1883 - val_categorical_accuracy: 1.0000 - val_loss: 0.6906 - learning_rate: 1.0000e-04\n",
      "Epoch 34/150\n",
      "\n",
      "Epoch 34: val_loss improved from 0.69063 to 0.68210, saving model to cnn_best.keras\n",
      "2/2 - 0s - 69ms/step - categorical_accuracy: 0.9000 - loss: 0.4041 - val_categorical_accuracy: 1.0000 - val_loss: 0.6821 - learning_rate: 1.0000e-04\n",
      "Epoch 35/150\n",
      "\n",
      "Epoch 35: val_loss improved from 0.68210 to 0.67609, saving model to cnn_best.keras\n",
      "2/2 - 0s - 70ms/step - categorical_accuracy: 0.9500 - loss: 0.2399 - val_categorical_accuracy: 1.0000 - val_loss: 0.6761 - learning_rate: 1.0000e-04\n",
      "Epoch 36/150\n",
      "\n",
      "Epoch 36: val_loss improved from 0.67609 to 0.66959, saving model to cnn_best.keras\n",
      "2/2 - 0s - 74ms/step - categorical_accuracy: 0.9500 - loss: 0.2174 - val_categorical_accuracy: 0.9000 - val_loss: 0.6696 - learning_rate: 1.0000e-04\n",
      "Epoch 37/150\n",
      "\n",
      "Epoch 37: val_loss improved from 0.66959 to 0.66400, saving model to cnn_best.keras\n",
      "2/2 - 0s - 74ms/step - categorical_accuracy: 0.9250 - loss: 0.2096 - val_categorical_accuracy: 0.9000 - val_loss: 0.6640 - learning_rate: 1.0000e-04\n",
      "Epoch 38/150\n",
      "\n",
      "Epoch 38: val_loss improved from 0.66400 to 0.65927, saving model to cnn_best.keras\n",
      "2/2 - 0s - 72ms/step - categorical_accuracy: 0.9250 - loss: 0.1838 - val_categorical_accuracy: 0.9000 - val_loss: 0.6593 - learning_rate: 1.0000e-04\n",
      "Epoch 39/150\n",
      "\n",
      "Epoch 39: val_loss improved from 0.65927 to 0.65366, saving model to cnn_best.keras\n",
      "2/2 - 0s - 76ms/step - categorical_accuracy: 0.9750 - loss: 0.1667 - val_categorical_accuracy: 0.9000 - val_loss: 0.6537 - learning_rate: 1.0000e-04\n",
      "Epoch 40/150\n",
      "\n",
      "Epoch 40: val_loss improved from 0.65366 to 0.64631, saving model to cnn_best.keras\n",
      "2/2 - 0s - 74ms/step - categorical_accuracy: 0.9500 - loss: 0.2424 - val_categorical_accuracy: 0.9000 - val_loss: 0.6463 - learning_rate: 1.0000e-04\n",
      "Epoch 41/150\n",
      "\n",
      "Epoch 41: val_loss improved from 0.64631 to 0.63701, saving model to cnn_best.keras\n",
      "2/2 - 0s - 72ms/step - categorical_accuracy: 0.9750 - loss: 0.2943 - val_categorical_accuracy: 0.9000 - val_loss: 0.6370 - learning_rate: 1.0000e-04\n",
      "Epoch 42/150\n",
      "\n",
      "Epoch 42: val_loss improved from 0.63701 to 0.62800, saving model to cnn_best.keras\n",
      "2/2 - 0s - 69ms/step - categorical_accuracy: 0.9750 - loss: 0.1269 - val_categorical_accuracy: 0.9000 - val_loss: 0.6280 - learning_rate: 1.0000e-04\n",
      "Epoch 43/150\n",
      "\n",
      "Epoch 43: val_loss improved from 0.62800 to 0.61885, saving model to cnn_best.keras\n",
      "2/2 - 0s - 69ms/step - categorical_accuracy: 0.9750 - loss: 0.0871 - val_categorical_accuracy: 0.8000 - val_loss: 0.6189 - learning_rate: 1.0000e-04\n",
      "Epoch 44/150\n",
      "\n",
      "Epoch 44: val_loss improved from 0.61885 to 0.61218, saving model to cnn_best.keras\n",
      "2/2 - 0s - 69ms/step - categorical_accuracy: 0.9500 - loss: 0.2055 - val_categorical_accuracy: 0.8000 - val_loss: 0.6122 - learning_rate: 1.0000e-04\n",
      "Epoch 45/150\n",
      "\n",
      "Epoch 45: val_loss improved from 0.61218 to 0.60744, saving model to cnn_best.keras\n",
      "2/2 - 0s - 69ms/step - categorical_accuracy: 1.0000 - loss: 0.1055 - val_categorical_accuracy: 0.8000 - val_loss: 0.6074 - learning_rate: 1.0000e-04\n",
      "Epoch 46/150\n",
      "\n",
      "Epoch 46: val_loss improved from 0.60744 to 0.60337, saving model to cnn_best.keras\n",
      "2/2 - 0s - 69ms/step - categorical_accuracy: 0.9250 - loss: 0.2211 - val_categorical_accuracy: 0.8000 - val_loss: 0.6034 - learning_rate: 1.0000e-04\n",
      "Epoch 47/150\n",
      "\n",
      "Epoch 47: val_loss improved from 0.60337 to 0.59835, saving model to cnn_best.keras\n",
      "2/2 - 0s - 71ms/step - categorical_accuracy: 0.9750 - loss: 0.1228 - val_categorical_accuracy: 0.8000 - val_loss: 0.5983 - learning_rate: 1.0000e-04\n",
      "Epoch 48/150\n",
      "\n",
      "Epoch 48: val_loss improved from 0.59835 to 0.58839, saving model to cnn_best.keras\n",
      "2/2 - 0s - 68ms/step - categorical_accuracy: 0.9250 - loss: 0.2836 - val_categorical_accuracy: 0.8000 - val_loss: 0.5884 - learning_rate: 1.0000e-04\n",
      "Epoch 49/150\n",
      "\n",
      "Epoch 49: val_loss improved from 0.58839 to 0.57575, saving model to cnn_best.keras\n",
      "2/2 - 0s - 70ms/step - categorical_accuracy: 0.9750 - loss: 0.0944 - val_categorical_accuracy: 0.8000 - val_loss: 0.5758 - learning_rate: 1.0000e-04\n",
      "Epoch 50/150\n",
      "\n",
      "Epoch 50: val_loss improved from 0.57575 to 0.56431, saving model to cnn_best.keras\n",
      "2/2 - 0s - 76ms/step - categorical_accuracy: 0.9500 - loss: 0.1903 - val_categorical_accuracy: 0.8000 - val_loss: 0.5643 - learning_rate: 1.0000e-04\n",
      "Epoch 51/150\n",
      "\n",
      "Epoch 51: val_loss improved from 0.56431 to 0.55162, saving model to cnn_best.keras\n",
      "2/2 - 0s - 75ms/step - categorical_accuracy: 0.9500 - loss: 0.2031 - val_categorical_accuracy: 0.8000 - val_loss: 0.5516 - learning_rate: 1.0000e-04\n",
      "Epoch 52/150\n",
      "\n",
      "Epoch 52: val_loss improved from 0.55162 to 0.54089, saving model to cnn_best.keras\n",
      "2/2 - 0s - 72ms/step - categorical_accuracy: 0.9750 - loss: 0.0988 - val_categorical_accuracy: 0.8000 - val_loss: 0.5409 - learning_rate: 1.0000e-04\n",
      "Epoch 53/150\n",
      "\n",
      "Epoch 53: val_loss improved from 0.54089 to 0.53094, saving model to cnn_best.keras\n",
      "2/2 - 0s - 73ms/step - categorical_accuracy: 0.9500 - loss: 0.1881 - val_categorical_accuracy: 0.8000 - val_loss: 0.5309 - learning_rate: 1.0000e-04\n",
      "Epoch 54/150\n",
      "\n",
      "Epoch 54: val_loss improved from 0.53094 to 0.52117, saving model to cnn_best.keras\n",
      "2/2 - 0s - 73ms/step - categorical_accuracy: 0.9500 - loss: 0.1031 - val_categorical_accuracy: 0.8000 - val_loss: 0.5212 - learning_rate: 1.0000e-04\n",
      "Epoch 55/150\n",
      "\n",
      "Epoch 55: val_loss improved from 0.52117 to 0.51264, saving model to cnn_best.keras\n",
      "2/2 - 0s - 70ms/step - categorical_accuracy: 0.9750 - loss: 0.1248 - val_categorical_accuracy: 0.8000 - val_loss: 0.5126 - learning_rate: 1.0000e-04\n",
      "Epoch 56/150\n",
      "\n",
      "Epoch 56: val_loss improved from 0.51264 to 0.50409, saving model to cnn_best.keras\n",
      "2/2 - 0s - 69ms/step - categorical_accuracy: 1.0000 - loss: 0.0695 - val_categorical_accuracy: 0.8000 - val_loss: 0.5041 - learning_rate: 1.0000e-04\n",
      "Epoch 57/150\n",
      "\n",
      "Epoch 57: val_loss improved from 0.50409 to 0.49598, saving model to cnn_best.keras\n",
      "2/2 - 0s - 70ms/step - categorical_accuracy: 0.9750 - loss: 0.1248 - val_categorical_accuracy: 0.8000 - val_loss: 0.4960 - learning_rate: 1.0000e-04\n",
      "Epoch 58/150\n",
      "\n",
      "Epoch 58: val_loss improved from 0.49598 to 0.48900, saving model to cnn_best.keras\n",
      "2/2 - 0s - 69ms/step - categorical_accuracy: 0.9500 - loss: 0.1713 - val_categorical_accuracy: 0.8000 - val_loss: 0.4890 - learning_rate: 1.0000e-04\n",
      "Epoch 59/150\n",
      "\n",
      "Epoch 59: val_loss improved from 0.48900 to 0.48279, saving model to cnn_best.keras\n",
      "2/2 - 0s - 69ms/step - categorical_accuracy: 0.9500 - loss: 0.2075 - val_categorical_accuracy: 0.8000 - val_loss: 0.4828 - learning_rate: 1.0000e-04\n",
      "Epoch 60/150\n",
      "\n",
      "Epoch 60: val_loss improved from 0.48279 to 0.47570, saving model to cnn_best.keras\n",
      "2/2 - 0s - 68ms/step - categorical_accuracy: 1.0000 - loss: 0.0939 - val_categorical_accuracy: 0.9000 - val_loss: 0.4757 - learning_rate: 1.0000e-04\n",
      "Epoch 61/150\n",
      "\n",
      "Epoch 61: val_loss improved from 0.47570 to 0.46839, saving model to cnn_best.keras\n",
      "2/2 - 0s - 67ms/step - categorical_accuracy: 0.9000 - loss: 0.1862 - val_categorical_accuracy: 0.9000 - val_loss: 0.4684 - learning_rate: 1.0000e-04\n",
      "Epoch 62/150\n",
      "\n",
      "Epoch 62: val_loss improved from 0.46839 to 0.45949, saving model to cnn_best.keras\n",
      "2/2 - 0s - 71ms/step - categorical_accuracy: 0.9750 - loss: 0.1918 - val_categorical_accuracy: 0.9000 - val_loss: 0.4595 - learning_rate: 1.0000e-04\n",
      "Epoch 63/150\n",
      "\n",
      "Epoch 63: val_loss improved from 0.45949 to 0.45214, saving model to cnn_best.keras\n",
      "2/2 - 0s - 71ms/step - categorical_accuracy: 0.9500 - loss: 0.1668 - val_categorical_accuracy: 0.9000 - val_loss: 0.4521 - learning_rate: 1.0000e-04\n",
      "Epoch 64/150\n",
      "\n",
      "Epoch 64: val_loss improved from 0.45214 to 0.44244, saving model to cnn_best.keras\n",
      "2/2 - 0s - 73ms/step - categorical_accuracy: 0.9750 - loss: 0.1198 - val_categorical_accuracy: 0.9000 - val_loss: 0.4424 - learning_rate: 1.0000e-04\n",
      "Epoch 65/150\n",
      "\n",
      "Epoch 65: val_loss improved from 0.44244 to 0.43358, saving model to cnn_best.keras\n",
      "2/2 - 0s - 72ms/step - categorical_accuracy: 1.0000 - loss: 0.0844 - val_categorical_accuracy: 0.9000 - val_loss: 0.4336 - learning_rate: 1.0000e-04\n",
      "Epoch 66/150\n",
      "\n",
      "Epoch 66: val_loss improved from 0.43358 to 0.42449, saving model to cnn_best.keras\n",
      "2/2 - 0s - 72ms/step - categorical_accuracy: 0.9500 - loss: 0.1376 - val_categorical_accuracy: 0.9000 - val_loss: 0.4245 - learning_rate: 1.0000e-04\n",
      "Epoch 67/150\n",
      "\n",
      "Epoch 67: val_loss improved from 0.42449 to 0.41267, saving model to cnn_best.keras\n",
      "2/2 - 0s - 72ms/step - categorical_accuracy: 0.9750 - loss: 0.1370 - val_categorical_accuracy: 0.9000 - val_loss: 0.4127 - learning_rate: 1.0000e-04\n",
      "Epoch 68/150\n",
      "\n",
      "Epoch 68: val_loss improved from 0.41267 to 0.40072, saving model to cnn_best.keras\n",
      "2/2 - 0s - 71ms/step - categorical_accuracy: 0.9750 - loss: 0.1322 - val_categorical_accuracy: 0.9000 - val_loss: 0.4007 - learning_rate: 1.0000e-04\n",
      "Epoch 69/150\n",
      "\n",
      "Epoch 69: val_loss improved from 0.40072 to 0.38824, saving model to cnn_best.keras\n",
      "2/2 - 0s - 69ms/step - categorical_accuracy: 0.9500 - loss: 0.1400 - val_categorical_accuracy: 0.9000 - val_loss: 0.3882 - learning_rate: 1.0000e-04\n",
      "Epoch 70/150\n",
      "\n",
      "Epoch 70: val_loss improved from 0.38824 to 0.37808, saving model to cnn_best.keras\n",
      "2/2 - 0s - 68ms/step - categorical_accuracy: 0.9500 - loss: 0.1308 - val_categorical_accuracy: 0.9000 - val_loss: 0.3781 - learning_rate: 1.0000e-04\n",
      "Epoch 71/150\n",
      "\n",
      "Epoch 71: val_loss improved from 0.37808 to 0.36940, saving model to cnn_best.keras\n",
      "2/2 - 0s - 69ms/step - categorical_accuracy: 0.9750 - loss: 0.1469 - val_categorical_accuracy: 0.9000 - val_loss: 0.3694 - learning_rate: 1.0000e-04\n",
      "Epoch 72/150\n",
      "\n",
      "Epoch 72: val_loss improved from 0.36940 to 0.36299, saving model to cnn_best.keras\n",
      "2/2 - 0s - 70ms/step - categorical_accuracy: 0.9750 - loss: 0.1475 - val_categorical_accuracy: 0.9000 - val_loss: 0.3630 - learning_rate: 1.0000e-04\n",
      "Epoch 73/150\n",
      "\n",
      "Epoch 73: val_loss improved from 0.36299 to 0.35963, saving model to cnn_best.keras\n",
      "2/2 - 0s - 69ms/step - categorical_accuracy: 0.9750 - loss: 0.1043 - val_categorical_accuracy: 0.9000 - val_loss: 0.3596 - learning_rate: 1.0000e-04\n",
      "Epoch 74/150\n",
      "\n",
      "Epoch 74: val_loss improved from 0.35963 to 0.35639, saving model to cnn_best.keras\n",
      "2/2 - 0s - 67ms/step - categorical_accuracy: 0.9250 - loss: 0.1318 - val_categorical_accuracy: 0.9000 - val_loss: 0.3564 - learning_rate: 1.0000e-04\n",
      "Epoch 75/150\n",
      "\n",
      "Epoch 75: val_loss improved from 0.35639 to 0.35224, saving model to cnn_best.keras\n",
      "2/2 - 0s - 69ms/step - categorical_accuracy: 0.9250 - loss: 0.1694 - val_categorical_accuracy: 0.9000 - val_loss: 0.3522 - learning_rate: 1.0000e-04\n",
      "Epoch 76/150\n",
      "\n",
      "Epoch 76: val_loss improved from 0.35224 to 0.34523, saving model to cnn_best.keras\n",
      "2/2 - 0s - 69ms/step - categorical_accuracy: 0.9500 - loss: 0.1122 - val_categorical_accuracy: 0.9000 - val_loss: 0.3452 - learning_rate: 1.0000e-04\n",
      "Epoch 77/150\n",
      "\n",
      "Epoch 77: val_loss improved from 0.34523 to 0.34001, saving model to cnn_best.keras\n",
      "2/2 - 0s - 70ms/step - categorical_accuracy: 0.9750 - loss: 0.0820 - val_categorical_accuracy: 0.9000 - val_loss: 0.3400 - learning_rate: 1.0000e-04\n",
      "Epoch 78/150\n",
      "\n",
      "Epoch 78: val_loss improved from 0.34001 to 0.33471, saving model to cnn_best.keras\n",
      "2/2 - 0s - 72ms/step - categorical_accuracy: 0.9250 - loss: 0.1529 - val_categorical_accuracy: 0.9000 - val_loss: 0.3347 - learning_rate: 1.0000e-04\n",
      "Epoch 79/150\n",
      "\n",
      "Epoch 79: val_loss improved from 0.33471 to 0.32969, saving model to cnn_best.keras\n",
      "2/2 - 0s - 73ms/step - categorical_accuracy: 1.0000 - loss: 0.0608 - val_categorical_accuracy: 0.9000 - val_loss: 0.3297 - learning_rate: 1.0000e-04\n",
      "Epoch 80/150\n",
      "\n",
      "Epoch 80: val_loss improved from 0.32969 to 0.32516, saving model to cnn_best.keras\n",
      "2/2 - 0s - 73ms/step - categorical_accuracy: 0.9750 - loss: 0.1222 - val_categorical_accuracy: 0.9000 - val_loss: 0.3252 - learning_rate: 1.0000e-04\n",
      "Epoch 81/150\n",
      "\n",
      "Epoch 81: val_loss improved from 0.32516 to 0.31797, saving model to cnn_best.keras\n",
      "2/2 - 0s - 79ms/step - categorical_accuracy: 0.9000 - loss: 0.3986 - val_categorical_accuracy: 0.9000 - val_loss: 0.3180 - learning_rate: 1.0000e-04\n",
      "Epoch 82/150\n",
      "\n",
      "Epoch 82: val_loss improved from 0.31797 to 0.31373, saving model to cnn_best.keras\n",
      "2/2 - 0s - 73ms/step - categorical_accuracy: 1.0000 - loss: 0.0761 - val_categorical_accuracy: 0.9000 - val_loss: 0.3137 - learning_rate: 1.0000e-04\n",
      "Epoch 83/150\n",
      "\n",
      "Epoch 83: val_loss improved from 0.31373 to 0.30978, saving model to cnn_best.keras\n",
      "2/2 - 0s - 68ms/step - categorical_accuracy: 0.9750 - loss: 0.0943 - val_categorical_accuracy: 0.9000 - val_loss: 0.3098 - learning_rate: 1.0000e-04\n",
      "Epoch 84/150\n",
      "\n",
      "Epoch 84: val_loss improved from 0.30978 to 0.30629, saving model to cnn_best.keras\n",
      "2/2 - 0s - 70ms/step - categorical_accuracy: 0.9500 - loss: 0.1223 - val_categorical_accuracy: 0.9000 - val_loss: 0.3063 - learning_rate: 1.0000e-04\n",
      "Epoch 85/150\n",
      "\n",
      "Epoch 85: val_loss improved from 0.30629 to 0.30319, saving model to cnn_best.keras\n",
      "2/2 - 0s - 70ms/step - categorical_accuracy: 0.9750 - loss: 0.0727 - val_categorical_accuracy: 0.9000 - val_loss: 0.3032 - learning_rate: 1.0000e-04\n",
      "Epoch 86/150\n",
      "\n",
      "Epoch 86: val_loss improved from 0.30319 to 0.30237, saving model to cnn_best.keras\n",
      "2/2 - 0s - 69ms/step - categorical_accuracy: 0.9750 - loss: 0.1083 - val_categorical_accuracy: 0.9000 - val_loss: 0.3024 - learning_rate: 1.0000e-04\n",
      "Epoch 87/150\n",
      "\n",
      "Epoch 87: val_loss improved from 0.30237 to 0.30006, saving model to cnn_best.keras\n",
      "2/2 - 0s - 70ms/step - categorical_accuracy: 0.9250 - loss: 0.3309 - val_categorical_accuracy: 0.9000 - val_loss: 0.3001 - learning_rate: 1.0000e-04\n",
      "Epoch 88/150\n",
      "\n",
      "Epoch 88: val_loss improved from 0.30006 to 0.29690, saving model to cnn_best.keras\n",
      "2/2 - 0s - 70ms/step - categorical_accuracy: 0.9750 - loss: 0.1517 - val_categorical_accuracy: 0.9000 - val_loss: 0.2969 - learning_rate: 1.0000e-04\n",
      "Epoch 89/150\n",
      "\n",
      "Epoch 89: val_loss improved from 0.29690 to 0.29210, saving model to cnn_best.keras\n",
      "2/2 - 0s - 69ms/step - categorical_accuracy: 0.9500 - loss: 0.1604 - val_categorical_accuracy: 0.9000 - val_loss: 0.2921 - learning_rate: 1.0000e-04\n",
      "Epoch 90/150\n",
      "\n",
      "Epoch 90: val_loss improved from 0.29210 to 0.28839, saving model to cnn_best.keras\n",
      "2/2 - 0s - 69ms/step - categorical_accuracy: 0.9500 - loss: 0.1252 - val_categorical_accuracy: 0.9000 - val_loss: 0.2884 - learning_rate: 1.0000e-04\n",
      "Epoch 91/150\n",
      "\n",
      "Epoch 91: val_loss improved from 0.28839 to 0.28686, saving model to cnn_best.keras\n",
      "2/2 - 0s - 74ms/step - categorical_accuracy: 0.9750 - loss: 0.1022 - val_categorical_accuracy: 0.9000 - val_loss: 0.2869 - learning_rate: 1.0000e-04\n",
      "Epoch 92/150\n",
      "\n",
      "Epoch 92: val_loss improved from 0.28686 to 0.28125, saving model to cnn_best.keras\n",
      "2/2 - 0s - 74ms/step - categorical_accuracy: 0.9750 - loss: 0.1098 - val_categorical_accuracy: 0.9000 - val_loss: 0.2812 - learning_rate: 1.0000e-04\n",
      "Epoch 93/150\n",
      "\n",
      "Epoch 93: val_loss improved from 0.28125 to 0.27785, saving model to cnn_best.keras\n",
      "2/2 - 0s - 71ms/step - categorical_accuracy: 0.9250 - loss: 0.2085 - val_categorical_accuracy: 0.9000 - val_loss: 0.2779 - learning_rate: 1.0000e-04\n",
      "Epoch 94/150\n",
      "\n",
      "Epoch 94: val_loss improved from 0.27785 to 0.27385, saving model to cnn_best.keras\n",
      "2/2 - 0s - 73ms/step - categorical_accuracy: 0.9500 - loss: 0.0913 - val_categorical_accuracy: 0.9000 - val_loss: 0.2738 - learning_rate: 1.0000e-04\n",
      "Epoch 95/150\n",
      "\n",
      "Epoch 95: val_loss improved from 0.27385 to 0.26857, saving model to cnn_best.keras\n",
      "2/2 - 0s - 72ms/step - categorical_accuracy: 0.9500 - loss: 0.1467 - val_categorical_accuracy: 0.9000 - val_loss: 0.2686 - learning_rate: 1.0000e-04\n",
      "Epoch 96/150\n",
      "\n",
      "Epoch 96: val_loss improved from 0.26857 to 0.25802, saving model to cnn_best.keras\n",
      "2/2 - 0s - 70ms/step - categorical_accuracy: 0.9500 - loss: 0.1288 - val_categorical_accuracy: 0.9000 - val_loss: 0.2580 - learning_rate: 1.0000e-04\n",
      "Epoch 97/150\n",
      "\n",
      "Epoch 97: val_loss improved from 0.25802 to 0.24888, saving model to cnn_best.keras\n",
      "2/2 - 0s - 68ms/step - categorical_accuracy: 1.0000 - loss: 0.0921 - val_categorical_accuracy: 0.9000 - val_loss: 0.2489 - learning_rate: 1.0000e-04\n",
      "Epoch 98/150\n",
      "\n",
      "Epoch 98: val_loss improved from 0.24888 to 0.24188, saving model to cnn_best.keras\n",
      "2/2 - 0s - 68ms/step - categorical_accuracy: 0.9500 - loss: 0.1483 - val_categorical_accuracy: 0.9000 - val_loss: 0.2419 - learning_rate: 1.0000e-04\n",
      "Epoch 99/150\n",
      "\n",
      "Epoch 99: val_loss improved from 0.24188 to 0.23566, saving model to cnn_best.keras\n",
      "2/2 - 0s - 70ms/step - categorical_accuracy: 0.9500 - loss: 0.1899 - val_categorical_accuracy: 0.9000 - val_loss: 0.2357 - learning_rate: 1.0000e-04\n",
      "Epoch 100/150\n",
      "\n",
      "Epoch 100: val_loss improved from 0.23566 to 0.22779, saving model to cnn_best.keras\n",
      "2/2 - 0s - 67ms/step - categorical_accuracy: 0.9750 - loss: 0.1067 - val_categorical_accuracy: 0.9000 - val_loss: 0.2278 - learning_rate: 1.0000e-04\n",
      "Epoch 101/150\n",
      "\n",
      "Epoch 101: val_loss improved from 0.22779 to 0.22002, saving model to cnn_best.keras\n",
      "2/2 - 0s - 70ms/step - categorical_accuracy: 0.9250 - loss: 0.1745 - val_categorical_accuracy: 0.9000 - val_loss: 0.2200 - learning_rate: 1.0000e-04\n",
      "Epoch 102/150\n",
      "\n",
      "Epoch 102: val_loss improved from 0.22002 to 0.20917, saving model to cnn_best.keras\n",
      "2/2 - 0s - 70ms/step - categorical_accuracy: 1.0000 - loss: 0.0764 - val_categorical_accuracy: 0.9000 - val_loss: 0.2092 - learning_rate: 1.0000e-04\n",
      "Epoch 103/150\n",
      "\n",
      "Epoch 103: val_loss improved from 0.20917 to 0.19922, saving model to cnn_best.keras\n",
      "2/2 - 0s - 69ms/step - categorical_accuracy: 0.9750 - loss: 0.1176 - val_categorical_accuracy: 0.9000 - val_loss: 0.1992 - learning_rate: 1.0000e-04\n",
      "Epoch 104/150\n",
      "\n",
      "Epoch 104: val_loss improved from 0.19922 to 0.19039, saving model to cnn_best.keras\n",
      "2/2 - 0s - 69ms/step - categorical_accuracy: 0.9500 - loss: 0.1588 - val_categorical_accuracy: 0.9000 - val_loss: 0.1904 - learning_rate: 1.0000e-04\n",
      "Epoch 105/150\n",
      "\n",
      "Epoch 105: val_loss improved from 0.19039 to 0.18538, saving model to cnn_best.keras\n",
      "2/2 - 0s - 73ms/step - categorical_accuracy: 0.9500 - loss: 0.1345 - val_categorical_accuracy: 0.9000 - val_loss: 0.1854 - learning_rate: 1.0000e-04\n",
      "Epoch 106/150\n",
      "\n",
      "Epoch 106: val_loss improved from 0.18538 to 0.18083, saving model to cnn_best.keras\n",
      "2/2 - 0s - 74ms/step - categorical_accuracy: 0.9750 - loss: 0.1173 - val_categorical_accuracy: 1.0000 - val_loss: 0.1808 - learning_rate: 1.0000e-04\n",
      "Epoch 107/150\n",
      "\n",
      "Epoch 107: val_loss improved from 0.18083 to 0.17634, saving model to cnn_best.keras\n",
      "2/2 - 0s - 76ms/step - categorical_accuracy: 0.9250 - loss: 0.1796 - val_categorical_accuracy: 1.0000 - val_loss: 0.1763 - learning_rate: 1.0000e-04\n",
      "Epoch 108/150\n",
      "\n",
      "Epoch 108: val_loss improved from 0.17634 to 0.17160, saving model to cnn_best.keras\n",
      "2/2 - 0s - 75ms/step - categorical_accuracy: 0.9500 - loss: 0.2798 - val_categorical_accuracy: 1.0000 - val_loss: 0.1716 - learning_rate: 1.0000e-04\n",
      "Epoch 109/150\n",
      "\n",
      "Epoch 109: val_loss improved from 0.17160 to 0.16736, saving model to cnn_best.keras\n",
      "2/2 - 0s - 72ms/step - categorical_accuracy: 0.9750 - loss: 0.0770 - val_categorical_accuracy: 1.0000 - val_loss: 0.1674 - learning_rate: 1.0000e-04\n",
      "Epoch 110/150\n",
      "\n",
      "Epoch 110: val_loss improved from 0.16736 to 0.16330, saving model to cnn_best.keras\n",
      "2/2 - 0s - 71ms/step - categorical_accuracy: 0.9500 - loss: 0.1369 - val_categorical_accuracy: 1.0000 - val_loss: 0.1633 - learning_rate: 1.0000e-04\n",
      "Epoch 111/150\n",
      "\n",
      "Epoch 111: val_loss improved from 0.16330 to 0.16167, saving model to cnn_best.keras\n",
      "2/2 - 0s - 69ms/step - categorical_accuracy: 0.9750 - loss: 0.0568 - val_categorical_accuracy: 1.0000 - val_loss: 0.1617 - learning_rate: 1.0000e-04\n",
      "Epoch 112/150\n",
      "\n",
      "Epoch 112: val_loss improved from 0.16167 to 0.15887, saving model to cnn_best.keras\n",
      "2/2 - 0s - 69ms/step - categorical_accuracy: 0.9500 - loss: 0.1133 - val_categorical_accuracy: 1.0000 - val_loss: 0.1589 - learning_rate: 1.0000e-04\n",
      "Epoch 113/150\n",
      "\n",
      "Epoch 113: val_loss improved from 0.15887 to 0.15356, saving model to cnn_best.keras\n",
      "2/2 - 0s - 70ms/step - categorical_accuracy: 0.9500 - loss: 0.1098 - val_categorical_accuracy: 1.0000 - val_loss: 0.1536 - learning_rate: 1.0000e-04\n",
      "Epoch 114/150\n",
      "\n",
      "Epoch 114: val_loss improved from 0.15356 to 0.14940, saving model to cnn_best.keras\n",
      "2/2 - 0s - 69ms/step - categorical_accuracy: 0.9500 - loss: 0.1371 - val_categorical_accuracy: 1.0000 - val_loss: 0.1494 - learning_rate: 1.0000e-04\n",
      "Epoch 115/150\n",
      "\n",
      "Epoch 115: val_loss improved from 0.14940 to 0.14657, saving model to cnn_best.keras\n",
      "2/2 - 0s - 73ms/step - categorical_accuracy: 0.9750 - loss: 0.1617 - val_categorical_accuracy: 1.0000 - val_loss: 0.1466 - learning_rate: 1.0000e-04\n",
      "Epoch 116/150\n",
      "\n",
      "Epoch 116: val_loss improved from 0.14657 to 0.14315, saving model to cnn_best.keras\n",
      "2/2 - 0s - 68ms/step - categorical_accuracy: 0.9750 - loss: 0.0780 - val_categorical_accuracy: 1.0000 - val_loss: 0.1431 - learning_rate: 1.0000e-04\n",
      "Epoch 117/150\n",
      "\n",
      "Epoch 117: val_loss improved from 0.14315 to 0.14009, saving model to cnn_best.keras\n",
      "2/2 - 0s - 71ms/step - categorical_accuracy: 0.9750 - loss: 0.1234 - val_categorical_accuracy: 1.0000 - val_loss: 0.1401 - learning_rate: 1.0000e-04\n",
      "Epoch 118/150\n",
      "\n",
      "Epoch 118: val_loss improved from 0.14009 to 0.13629, saving model to cnn_best.keras\n",
      "2/2 - 0s - 70ms/step - categorical_accuracy: 0.9500 - loss: 0.1271 - val_categorical_accuracy: 1.0000 - val_loss: 0.1363 - learning_rate: 1.0000e-04\n",
      "Epoch 119/150\n",
      "\n",
      "Epoch 119: val_loss did not improve from 0.13629\n",
      "2/2 - 0s - 46ms/step - categorical_accuracy: 0.9750 - loss: 0.1364 - val_categorical_accuracy: 1.0000 - val_loss: 0.1370 - learning_rate: 1.0000e-04\n",
      "Epoch 120/150\n",
      "\n",
      "Epoch 120: val_loss did not improve from 0.13629\n",
      "2/2 - 0s - 46ms/step - categorical_accuracy: 0.9500 - loss: 0.2316 - val_categorical_accuracy: 1.0000 - val_loss: 0.1391 - learning_rate: 1.0000e-04\n",
      "Epoch 121/150\n",
      "\n",
      "Epoch 121: val_loss did not improve from 0.13629\n",
      "2/2 - 0s - 46ms/step - categorical_accuracy: 0.9500 - loss: 0.1660 - val_categorical_accuracy: 1.0000 - val_loss: 0.1391 - learning_rate: 1.0000e-04\n",
      "Epoch 122/150\n",
      "\n",
      "Epoch 122: val_loss did not improve from 0.13629\n",
      "2/2 - 0s - 48ms/step - categorical_accuracy: 0.9750 - loss: 0.0555 - val_categorical_accuracy: 1.0000 - val_loss: 0.1412 - learning_rate: 1.0000e-04\n",
      "Epoch 123/150\n",
      "\n",
      "Epoch 123: val_loss did not improve from 0.13629\n",
      "\n",
      "Epoch 123: ReduceLROnPlateau reducing learning rate to 4.999999873689376e-05.\n",
      "2/2 - 0s - 50ms/step - categorical_accuracy: 0.9750 - loss: 0.0635 - val_categorical_accuracy: 1.0000 - val_loss: 0.1437 - learning_rate: 1.0000e-04\n",
      "Epoch 124/150\n",
      "\n",
      "Epoch 124: val_loss did not improve from 0.13629\n",
      "2/2 - 0s - 46ms/step - categorical_accuracy: 1.0000 - loss: 0.0432 - val_categorical_accuracy: 1.0000 - val_loss: 0.1433 - learning_rate: 5.0000e-05\n",
      "Epoch 125/150\n",
      "\n",
      "Epoch 125: val_loss did not improve from 0.13629\n",
      "2/2 - 0s - 46ms/step - categorical_accuracy: 0.9500 - loss: 0.1844 - val_categorical_accuracy: 1.0000 - val_loss: 0.1425 - learning_rate: 5.0000e-05\n",
      "Epoch 126/150\n",
      "\n",
      "Epoch 126: val_loss did not improve from 0.13629\n",
      "2/2 - 0s - 45ms/step - categorical_accuracy: 0.9750 - loss: 0.0640 - val_categorical_accuracy: 1.0000 - val_loss: 0.1403 - learning_rate: 5.0000e-05\n",
      "Epoch 127/150\n",
      "\n",
      "Epoch 127: val_loss did not improve from 0.13629\n",
      "2/2 - 0s - 44ms/step - categorical_accuracy: 0.9750 - loss: 0.1255 - val_categorical_accuracy: 1.0000 - val_loss: 0.1365 - learning_rate: 5.0000e-05\n",
      "Epoch 128/150\n",
      "\n",
      "Epoch 128: val_loss improved from 0.13629 to 0.13357, saving model to cnn_best.keras\n",
      "2/2 - 0s - 67ms/step - categorical_accuracy: 0.9500 - loss: 0.1007 - val_categorical_accuracy: 1.0000 - val_loss: 0.1336 - learning_rate: 5.0000e-05\n",
      "Epoch 129/150\n",
      "\n",
      "Epoch 129: val_loss improved from 0.13357 to 0.13134, saving model to cnn_best.keras\n",
      "2/2 - 0s - 70ms/step - categorical_accuracy: 1.0000 - loss: 0.0417 - val_categorical_accuracy: 1.0000 - val_loss: 0.1313 - learning_rate: 5.0000e-05\n",
      "Epoch 130/150\n",
      "\n",
      "Epoch 130: val_loss improved from 0.13134 to 0.12924, saving model to cnn_best.keras\n",
      "2/2 - 0s - 68ms/step - categorical_accuracy: 0.9500 - loss: 0.1110 - val_categorical_accuracy: 1.0000 - val_loss: 0.1292 - learning_rate: 5.0000e-05\n",
      "Epoch 131/150\n",
      "\n",
      "Epoch 131: val_loss improved from 0.12924 to 0.12512, saving model to cnn_best.keras\n",
      "2/2 - 0s - 70ms/step - categorical_accuracy: 0.9250 - loss: 0.1565 - val_categorical_accuracy: 1.0000 - val_loss: 0.1251 - learning_rate: 5.0000e-05\n",
      "Epoch 132/150\n",
      "\n",
      "Epoch 132: val_loss improved from 0.12512 to 0.11946, saving model to cnn_best.keras\n",
      "2/2 - 0s - 82ms/step - categorical_accuracy: 0.9500 - loss: 0.0705 - val_categorical_accuracy: 1.0000 - val_loss: 0.1195 - learning_rate: 5.0000e-05\n",
      "Epoch 133/150\n",
      "\n",
      "Epoch 133: val_loss improved from 0.11946 to 0.11418, saving model to cnn_best.keras\n",
      "2/2 - 0s - 70ms/step - categorical_accuracy: 0.9500 - loss: 0.1966 - val_categorical_accuracy: 1.0000 - val_loss: 0.1142 - learning_rate: 5.0000e-05\n",
      "Epoch 134/150\n",
      "\n",
      "Epoch 134: val_loss improved from 0.11418 to 0.10976, saving model to cnn_best.keras\n",
      "2/2 - 0s - 68ms/step - categorical_accuracy: 0.9750 - loss: 0.1057 - val_categorical_accuracy: 1.0000 - val_loss: 0.1098 - learning_rate: 5.0000e-05\n",
      "Epoch 135/150\n",
      "\n",
      "Epoch 135: val_loss improved from 0.10976 to 0.10450, saving model to cnn_best.keras\n",
      "2/2 - 0s - 69ms/step - categorical_accuracy: 0.9500 - loss: 0.1468 - val_categorical_accuracy: 1.0000 - val_loss: 0.1045 - learning_rate: 5.0000e-05\n",
      "Epoch 136/150\n",
      "\n",
      "Epoch 136: val_loss improved from 0.10450 to 0.10046, saving model to cnn_best.keras\n",
      "2/2 - 0s - 71ms/step - categorical_accuracy: 1.0000 - loss: 0.0388 - val_categorical_accuracy: 1.0000 - val_loss: 0.1005 - learning_rate: 5.0000e-05\n",
      "Epoch 137/150\n",
      "\n",
      "Epoch 137: val_loss improved from 0.10046 to 0.09638, saving model to cnn_best.keras\n",
      "2/2 - 0s - 73ms/step - categorical_accuracy: 1.0000 - loss: 0.0409 - val_categorical_accuracy: 1.0000 - val_loss: 0.0964 - learning_rate: 5.0000e-05\n",
      "Epoch 138/150\n",
      "\n",
      "Epoch 138: val_loss improved from 0.09638 to 0.09221, saving model to cnn_best.keras\n",
      "2/2 - 0s - 78ms/step - categorical_accuracy: 0.9750 - loss: 0.0719 - val_categorical_accuracy: 1.0000 - val_loss: 0.0922 - learning_rate: 5.0000e-05\n",
      "Epoch 139/150\n",
      "\n",
      "Epoch 139: val_loss improved from 0.09221 to 0.08827, saving model to cnn_best.keras\n",
      "2/2 - 0s - 70ms/step - categorical_accuracy: 0.9750 - loss: 0.1427 - val_categorical_accuracy: 1.0000 - val_loss: 0.0883 - learning_rate: 5.0000e-05\n",
      "Epoch 140/150\n",
      "\n",
      "Epoch 140: val_loss improved from 0.08827 to 0.08427, saving model to cnn_best.keras\n",
      "2/2 - 0s - 73ms/step - categorical_accuracy: 0.9500 - loss: 0.2090 - val_categorical_accuracy: 1.0000 - val_loss: 0.0843 - learning_rate: 5.0000e-05\n",
      "Epoch 141/150\n",
      "\n",
      "Epoch 141: val_loss improved from 0.08427 to 0.08131, saving model to cnn_best.keras\n",
      "2/2 - 0s - 69ms/step - categorical_accuracy: 0.9750 - loss: 0.0905 - val_categorical_accuracy: 1.0000 - val_loss: 0.0813 - learning_rate: 5.0000e-05\n",
      "Epoch 142/150\n",
      "\n",
      "Epoch 142: val_loss improved from 0.08131 to 0.07897, saving model to cnn_best.keras\n",
      "2/2 - 0s - 130ms/step - categorical_accuracy: 0.9750 - loss: 0.1059 - val_categorical_accuracy: 1.0000 - val_loss: 0.0790 - learning_rate: 5.0000e-05\n",
      "Epoch 143/150\n",
      "\n",
      "Epoch 143: val_loss improved from 0.07897 to 0.07740, saving model to cnn_best.keras\n",
      "2/2 - 0s - 75ms/step - categorical_accuracy: 0.9500 - loss: 0.1293 - val_categorical_accuracy: 1.0000 - val_loss: 0.0774 - learning_rate: 5.0000e-05\n",
      "Epoch 144/150\n",
      "\n",
      "Epoch 144: val_loss improved from 0.07740 to 0.07598, saving model to cnn_best.keras\n",
      "2/2 - 0s - 68ms/step - categorical_accuracy: 0.9000 - loss: 0.1577 - val_categorical_accuracy: 1.0000 - val_loss: 0.0760 - learning_rate: 5.0000e-05\n",
      "Epoch 145/150\n",
      "\n",
      "Epoch 145: val_loss improved from 0.07598 to 0.07482, saving model to cnn_best.keras\n",
      "2/2 - 0s - 70ms/step - categorical_accuracy: 0.9750 - loss: 0.0944 - val_categorical_accuracy: 1.0000 - val_loss: 0.0748 - learning_rate: 5.0000e-05\n",
      "Epoch 146/150\n",
      "\n",
      "Epoch 146: val_loss improved from 0.07482 to 0.07428, saving model to cnn_best.keras\n",
      "2/2 - 0s - 77ms/step - categorical_accuracy: 0.9250 - loss: 0.2349 - val_categorical_accuracy: 1.0000 - val_loss: 0.0743 - learning_rate: 5.0000e-05\n",
      "Epoch 147/150\n",
      "\n",
      "Epoch 147: val_loss did not improve from 0.07428\n",
      "2/2 - 0s - 47ms/step - categorical_accuracy: 0.9500 - loss: 0.0963 - val_categorical_accuracy: 1.0000 - val_loss: 0.0767 - learning_rate: 5.0000e-05\n",
      "Epoch 148/150\n",
      "\n",
      "Epoch 148: val_loss did not improve from 0.07428\n",
      "2/2 - 0s - 48ms/step - categorical_accuracy: 0.9750 - loss: 0.1320 - val_categorical_accuracy: 1.0000 - val_loss: 0.0778 - learning_rate: 5.0000e-05\n",
      "Epoch 149/150\n",
      "\n",
      "Epoch 149: val_loss did not improve from 0.07428\n",
      "2/2 - 0s - 48ms/step - categorical_accuracy: 0.9750 - loss: 0.0978 - val_categorical_accuracy: 1.0000 - val_loss: 0.0781 - learning_rate: 5.0000e-05\n",
      "Epoch 150/150\n",
      "\n",
      "Epoch 150: val_loss did not improve from 0.07428\n",
      "2/2 - 0s - 49ms/step - categorical_accuracy: 0.9750 - loss: 0.0829 - val_categorical_accuracy: 1.0000 - val_loss: 0.0789 - learning_rate: 5.0000e-05\n",
      "Restoring model weights from the end of the best epoch: 146.\n"
     ]
    }
   ],
   "source": [
    "import numpy as np\n",
    "from tensorflow.keras.models import Sequential\n",
    "from tensorflow.keras.layers import Conv1D, BatchNormalization, Dropout, GlobalAveragePooling1D, Dense\n",
    "from tensorflow.keras.optimizers import Adam\n",
    "from tensorflow.keras.callbacks import EarlyStopping, ModelCheckpoint, ReduceLROnPlateau\n",
    "from sklearn.preprocessing import StandardScaler\n",
    "\n",
    "'''# Misal X_train, X_val, y_train, y_val sudah ada\n",
    "\n",
    "# Contoh: ambil shape dari X_train\n",
    "sequence_length = X_train.shape[1]  # 30\n",
    "feature_size = X_train.shape[2]     # 34\n",
    "\n",
    "# Normalisasi fitur secara per fitur (feature-wise) untuk setiap timestep\n",
    "scaler = StandardScaler()\n",
    "\n",
    "# Flatten data agar bisa di-scaler, lalu reshape kembali\n",
    "X_train_flat = X_train.reshape(-1, feature_size)\n",
    "X_train_scaled = scaler.fit_transform(X_train_flat).reshape(-1, sequence_length, feature_size)\n",
    "\n",
    "X_val_flat = X_val.reshape(-1, feature_size)\n",
    "X_val_scaled = scaler.transform(X_val_flat).reshape(-1, sequence_length, feature_size)\n",
    "\n",
    "# Pastikan actions adalah list label yang sesuai dengan jumlah kelas\n",
    "num_classes = len(actions)  # misal actions = ['walking', 'running', 'jumping', ...]'''\n",
    "\n",
    "# Definisi model 1D CNN\n",
    "model_cnn = Sequential([\n",
    "    Conv1D(256, kernel_size=9, dilation_rate=2, activation='relu', input_shape=(X_train_scaled.shape[1], X_train_scaled.shape[2]), padding='same'),\n",
    "    BatchNormalization(), \n",
    "    Dropout(0.4),\n",
    "\n",
    "    Conv1D(256, kernel_size=5, activation='relu', padding='same'),\n",
    "    BatchNormalization(), \n",
    "    Dropout(0.4),\n",
    "\n",
    "    GlobalAveragePooling1D(),\n",
    "    Dense(128, activation='relu'),\n",
    "    BatchNormalization(), \n",
    "    Dropout(0.5),\n",
    "    Dense(num_classes, activation='softmax')\n",
    "])\n",
    "\n",
    "# Compile model\n",
    "model_cnn.compile(optimizer=Adam(1e-4),\n",
    "                  loss='categorical_crossentropy',\n",
    "                  metrics=['categorical_accuracy'])\n",
    "\n",
    "# Callbacks untuk early stopping, checkpoint, dan learning rate scheduler\n",
    "callbacks_cnn = [\n",
    "    EarlyStopping(patience=10, restore_best_weights=True, monitor='val_loss', verbose=1),\n",
    "    ModelCheckpoint('cnn_best.keras', monitor='val_loss', save_best_only=True, verbose=1),\n",
    "    ReduceLROnPlateau(patience=5, factor=0.5, verbose=1)\n",
    "]\n",
    "\n",
    "# Training model\n",
    "history_cnn = model_cnn.fit(\n",
    "    X_train_scaled, y_train,\n",
    "    epochs=150,\n",
    "    batch_size=32,\n",
    "    validation_data=(X_val_scaled, y_val),\n",
    "    callbacks=callbacks_cnn,\n",
    "    verbose=2\n",
    ")\n"
   ]
  },
  {
   "cell_type": "markdown",
   "metadata": {},
   "source": [
    "# Grafik"
   ]
  },
  {
   "cell_type": "code",
   "execution_count": 31,
   "metadata": {
    "execution": {
     "iopub.execute_input": "2025-05-26T04:17:25.394752Z",
     "iopub.status.busy": "2025-05-26T04:17:25.394189Z",
     "iopub.status.idle": "2025-05-26T04:17:26.252475Z",
     "shell.execute_reply": "2025-05-26T04:17:26.251187Z",
     "shell.execute_reply.started": "2025-05-26T04:17:25.394729Z"
    },
    "trusted": true
   },
   "outputs": [
    {
     "data": {
      "image/png": "[encoded data removed]",
      "text/plain": [
       "<Figure size 640x480 with 1 Axes>"
      ]
     },
     "metadata": {},
     "output_type": "display_data"
    },
    {
     "data": {
      "image/png": "[encoded data removed]",
      "text/plain": [
       "<Figure size 640x480 with 1 Axes>"
      ]
     },
     "metadata": {},
     "output_type": "display_data"
    },
    {
     "data": {
      "image/png": "[encoded data removed]",
      "text/plain": [
       "<Figure size 640x480 with 1 Axes>"
      ]
     },
     "metadata": {},
     "output_type": "display_data"
    },
    {
     "data": {
      "image/png": "[encoded data removed]",
      "text/plain": [
       "<Figure size 640x480 with 1 Axes>"
      ]
     },
     "metadata": {},
     "output_type": "display_data"
    }
   ],
   "source": [
    "plt.figure()\n",
    "plt.plot(history_lstm.history['categorical_accuracy'], label='LSTM')\n",
    "plt.plot(history_gru.history['categorical_accuracy'], label='GRU')\n",
    "plt.plot(history_cnn.history['categorical_accuracy'], label='CNN')\n",
    "plt.legend() \n",
    "plt.title(\"Train Accuracy\")\n",
    "\n",
    "plt.figure()\n",
    "plt.plot(history_lstm.history['val_categorical_accuracy'], label='LSTM')\n",
    "plt.plot(history_gru.history['val_categorical_accuracy'], label='GRU')\n",
    "plt.plot(history_cnn.history['val_categorical_accuracy'], label='CNN')\n",
    "plt.legend()\n",
    "plt.title(\"Val Accuracy\")\n",
    "\n",
    "plt.figure()\n",
    "plt.plot(history_lstm.history['loss'], label='LSTM')\n",
    "plt.plot(history_gru.history['loss'], label='GRU')\n",
    "plt.plot(history_cnn.history['loss'], label='CNN')\n",
    "plt.legend()\n",
    "plt.title(\"Train Loss\")\n",
    "plt.show()\n",
    "\n",
    "plt.figure()\n",
    "plt.plot(history_lstm.history['val_loss'], label='LSTM')\n",
    "plt.plot(history_gru.history['val_loss'], label='GRU')\n",
    "plt.plot(history_cnn.history['val_loss'], label='CNN')\n",
    "plt.legend()\n",
    "plt.title(\"Val Loss\")\n",
    "plt.show()"
   ]
  },
  {
   "cell_type": "markdown",
   "metadata": {},
   "source": [
    "## **b. Evaluasi Model**"
   ]
  },
  {
   "cell_type": "code",
   "execution_count": 32,
   "metadata": {
    "execution": {
     "iopub.execute_input": "2025-05-26T04:17:26.254049Z",
     "iopub.status.busy": "2025-05-26T04:17:26.253767Z",
     "iopub.status.idle": "2025-05-26T04:17:30.191774Z",
     "shell.execute_reply": "2025-05-26T04:17:30.190739Z",
     "shell.execute_reply.started": "2025-05-26T04:17:26.254026Z"
    },
    "trusted": true
   },
   "outputs": [
    {
     "name": "stdout",
     "output_type": "stream",
     "text": [
      "\n",
      "=== Validation Performance ===\n"
     ]
    },
    {
     "data": {
      "text/html": [
       "<div>\n",
       "<style scoped>\n",
       "    .dataframe tbody tr th:only-of-type {\n",
       "        vertical-align: middle;\n",
       "    }\n",
       "\n",
       "    .dataframe tbody tr th {\n",
       "        vertical-align: top;\n",
       "    }\n",
       "\n",
       "    .dataframe thead th {\n",
       "        text-align: right;\n",
       "    }\n",
       "</style>\n",
       "<table border=\"1\" class=\"dataframe\">\n",
       "  <thead>\n",
       "    <tr style=\"text-align: right;\">\n",
       "      <th></th>\n",
       "      <th>acc</th>\n",
       "      <th>prec</th>\n",
       "      <th>rec</th>\n",
       "      <th>f1</th>\n",
       "    </tr>\n",
       "    <tr>\n",
       "      <th>model</th>\n",
       "      <th></th>\n",
       "      <th></th>\n",
       "      <th></th>\n",
       "      <th></th>\n",
       "    </tr>\n",
       "  </thead>\n",
       "  <tbody>\n",
       "    <tr>\n",
       "      <th>LSTM</th>\n",
       "      <td>0.5</td>\n",
       "      <td>0.457</td>\n",
       "      <td>0.5</td>\n",
       "      <td>0.422</td>\n",
       "    </tr>\n",
       "    <tr>\n",
       "      <th>GRU</th>\n",
       "      <td>0.9</td>\n",
       "      <td>0.933</td>\n",
       "      <td>0.9</td>\n",
       "      <td>0.893</td>\n",
       "    </tr>\n",
       "    <tr>\n",
       "      <th>CNN</th>\n",
       "      <td>0.6</td>\n",
       "      <td>0.413</td>\n",
       "      <td>0.6</td>\n",
       "      <td>0.474</td>\n",
       "    </tr>\n",
       "  </tbody>\n",
       "</table>\n",
       "</div>"
      ],
      "text/plain": [
       "       acc   prec  rec     f1\n",
       "model                        \n",
       "LSTM   0.5  0.457  0.5  0.422\n",
       "GRU    0.9  0.933  0.9  0.893\n",
       "CNN    0.6  0.413  0.6  0.474"
      ]
     },
     "metadata": {},
     "output_type": "display_data"
    },
    {
     "data": {
      "image/png": "[encoded data removed]",
      "text/plain": [
       "<Figure size 600x400 with 2 Axes>"
      ]
     },
     "metadata": {},
     "output_type": "display_data"
    },
    {
     "name": "stdout",
     "output_type": "stream",
     "text": [
      "                        precision    recall  f1-score   support\n",
      "\n",
      "        Angkat Pinggul       1.00      1.00      1.00         2\n",
      "         Angkat Tangan       0.67      1.00      0.80         2\n",
      "           Lutut Turun       1.00      1.00      1.00         2\n",
      "Naikan Kepalan Kedepan       1.00      1.00      1.00         2\n",
      "            Rentangkan       1.00      0.50      0.67         2\n",
      "\n",
      "              accuracy                           0.90        10\n",
      "             macro avg       0.93      0.90      0.89        10\n",
      "          weighted avg       0.93      0.90      0.89        10\n",
      "\n"
     ]
    }
   ],
   "source": [
    "\n",
    "from sklearn.metrics import accuracy_score, precision_recall_fscore_support, confusion_matrix, classification_report\n",
    "from sklearn.model_selection import GroupShuffleSplit\n",
    "from tensorflow.keras.models import load_model\n",
    "# =========================\n",
    "# 2. Fungsi Evaluasi di Validation Set\n",
    "# =========================\n",
    "def eval_val(model):\n",
    "    y_prob = model.predict(X_val, verbose=0)\n",
    "    y_pred = np.argmax(y_prob, axis=1)\n",
    "    y_true = np.argmax(y_val, axis=1)\n",
    "    acc = accuracy_score(y_true, y_pred)\n",
    "    prec, rec, f1, _ = precision_recall_fscore_support(\n",
    "        y_true, y_pred, average='macro', zero_division=0)\n",
    "    return acc, prec, rec, f1, y_true, y_pred\n",
    "\n",
    "# =========================\n",
    "# 3. Evaluasi Semua Model\n",
    "# =========================\n",
    "models = {\n",
    "    'LSTM': 'lstm_best.keras',\n",
    "    'GRU': 'gru_best.keras',\n",
    "    'CNN': 'cnn_best.keras'\n",
    "}\n",
    "\n",
    "scores = []\n",
    "\n",
    "for name, fpath in models.items():\n",
    "    m = load_model(fpath)\n",
    "    acc, prec, rec, f1, _, _ = eval_val(m)\n",
    "    scores.append(dict(model=name, acc=acc, prec=prec, rec=rec, f1=f1))\n",
    "\n",
    "print('\\n=== Validation Performance ===')\n",
    "perf = pd.DataFrame(scores).set_index('model').round(3)\n",
    "display(perf)\n",
    "\n",
    "# =========================\n",
    "# 4. Model Terbaik + Confusion Matrix\n",
    "# =========================\n",
    "best = perf['f1'].idxmax()\n",
    "best_model = load_model(models[best])\n",
    "acc, prec, rec, f1, y_true, y_pred = eval_val(best_model)\n",
    "\n",
    "cm = confusion_matrix(y_true, y_pred, labels=range(len(actions)))\n",
    "plt.figure(figsize=(6, 4))\n",
    "sns.heatmap(cm, annot=True, fmt='d',\n",
    "            xticklabels=actions, yticklabels=actions, cmap='Blues')\n",
    "plt.title(f'Confusion Matrix – {best} (Validation)')\n",
    "plt.xlabel('Predicted')\n",
    "plt.ylabel('True')\n",
    "plt.show()\n",
    "\n",
    "print(classification_report(y_true, y_pred, target_names=actions, zero_division=0))"
   ]
  },
  {
   "cell_type": "code",
   "execution_count": 33,
   "metadata": {
    "execution": {
     "iopub.execute_input": "2025-05-26T04:27:13.441890Z",
     "iopub.status.busy": "2025-05-26T04:27:13.441483Z",
     "iopub.status.idle": "2025-05-26T04:27:13.493763Z",
     "shell.execute_reply": "2025-05-26T04:27:13.492923Z",
     "shell.execute_reply.started": "2025-05-26T04:27:13.441866Z"
    },
    "trusted": true
   },
   "outputs": [
    {
     "data": {
      "text/plain": [
       "'c:\\\\kaggle\\\\working\\\\keypoints.zip'"
      ]
     },
     "execution_count": 33,
     "metadata": {},
     "output_type": "execute_result"
    }
   ],
   "source": [
    "import shutil\n",
    "\n",
    "# Kompres folder 'keypoint' jadi 'keypoint.zip' di direktori kerja\n",
    "shutil.make_archive('/kaggle/working/keypoints', 'zip', '/kaggle/working/keypoints')\n"
   ]
  },
  {
   "cell_type": "markdown",
   "metadata": {},
   "source": [
    "# **6. Inferensi Model**"
   ]
  },
  {
   "cell_type": "markdown",
   "metadata": {},
   "source": [
    "## **a. Inferensi Klasifikasi Gerakan**"
   ]
  },
  {
   "cell_type": "code",
   "execution_count": null,
   "metadata": {
    "execution": {
     "iopub.execute_input": "2025-05-26T04:17:30.193300Z",
     "iopub.status.busy": "2025-05-26T04:17:30.192931Z",
     "iopub.status.idle": "2025-05-26T04:17:30.355644Z",
     "shell.execute_reply": "2025-05-26T04:17:30.354317Z",
     "shell.execute_reply.started": "2025-05-26T04:17:30.193270Z"
    },
    "trusted": true
   },
   "outputs": [
    {
     "name": "stdout",
     "output_type": "stream",
     "text": [
      "\n",
      "0: 480x640 (no detections), 50.6ms\n",
      "Speed: 2.0ms preprocess, 50.6ms inference, 0.5ms postprocess per image at shape (1, 3, 480, 640)\n",
      "\n",
      "0: 480x640 (no detections), 42.3ms\n",
      "Speed: 1.8ms preprocess, 42.3ms inference, 0.9ms postprocess per image at shape (1, 3, 480, 640)\n",
      "\n",
      "0: 480x640 (no detections), 41.3ms\n",
      "Speed: 1.1ms preprocess, 41.3ms inference, 0.8ms postprocess per image at shape (1, 3, 480, 640)\n",
      "\n",
      "0: 480x640 (no detections), 40.7ms\n",
      "Speed: 1.1ms preprocess, 40.7ms inference, 0.6ms postprocess per image at shape (1, 3, 480, 640)\n",
      "\n",
      "0: 480x640 (no detections), 39.7ms\n",
      "Speed: 0.7ms preprocess, 39.7ms inference, 0.5ms postprocess per image at shape (1, 3, 480, 640)\n",
      "\n",
      "0: 480x640 (no detections), 41.7ms\n",
      "Speed: 1.1ms preprocess, 41.7ms inference, 0.6ms postprocess per image at shape (1, 3, 480, 640)\n",
      "\n",
      "0: 480x640 (no detections), 40.4ms\n",
      "Speed: 0.8ms preprocess, 40.4ms inference, 0.5ms postprocess per image at shape (1, 3, 480, 640)\n",
      "\n",
      "0: 480x640 (no detections), 40.7ms\n",
      "Speed: 0.9ms preprocess, 40.7ms inference, 0.5ms postprocess per image at shape (1, 3, 480, 640)\n",
      "\n",
      "0: 480x640 (no detections), 40.0ms\n",
      "Speed: 0.8ms preprocess, 40.0ms inference, 0.5ms postprocess per image at shape (1, 3, 480, 640)\n",
      "\n",
      "0: 480x640 (no detections), 40.4ms\n",
      "Speed: 1.1ms preprocess, 40.4ms inference, 0.5ms postprocess per image at shape (1, 3, 480, 640)\n",
      "\n",
      "0: 480x640 (no detections), 39.0ms\n",
      "Speed: 0.7ms preprocess, 39.0ms inference, 0.6ms postprocess per image at shape (1, 3, 480, 640)\n",
      "\n",
      "0: 480x640 (no detections), 39.6ms\n",
      "Speed: 0.7ms preprocess, 39.6ms inference, 0.6ms postprocess per image at shape (1, 3, 480, 640)\n",
      "\n",
      "0: 480x640 (no detections), 37.9ms\n",
      "Speed: 0.7ms preprocess, 37.9ms inference, 0.7ms postprocess per image at shape (1, 3, 480, 640)\n",
      "\n",
      "0: 480x640 (no detections), 41.2ms\n",
      "Speed: 0.7ms preprocess, 41.2ms inference, 0.5ms postprocess per image at shape (1, 3, 480, 640)\n",
      "\n",
      "0: 480x640 (no detections), 40.3ms\n",
      "Speed: 0.9ms preprocess, 40.3ms inference, 0.6ms postprocess per image at shape (1, 3, 480, 640)\n",
      "\n",
      "0: 480x640 (no detections), 39.3ms\n",
      "Speed: 0.7ms preprocess, 39.3ms inference, 0.5ms postprocess per image at shape (1, 3, 480, 640)\n",
      "\n",
      "0: 480x640 (no detections), 37.0ms\n",
      "Speed: 1.0ms preprocess, 37.0ms inference, 0.5ms postprocess per image at shape (1, 3, 480, 640)\n",
      "\n",
      "0: 480x640 (no detections), 40.1ms\n",
      "Speed: 1.1ms preprocess, 40.1ms inference, 0.5ms postprocess per image at shape (1, 3, 480, 640)\n",
      "\n",
      "0: 480x640 (no detections), 42.2ms\n",
      "Speed: 1.0ms preprocess, 42.2ms inference, 0.6ms postprocess per image at shape (1, 3, 480, 640)\n",
      "\n",
      "0: 480x640 (no detections), 40.6ms\n",
      "Speed: 0.8ms preprocess, 40.6ms inference, 0.6ms postprocess per image at shape (1, 3, 480, 640)\n",
      "\n",
      "0: 480x640 (no detections), 41.1ms\n",
      "Speed: 0.9ms preprocess, 41.1ms inference, 0.6ms postprocess per image at shape (1, 3, 480, 640)\n",
      "\n",
      "0: 480x640 (no detections), 42.8ms\n",
      "Speed: 0.8ms preprocess, 42.8ms inference, 0.6ms postprocess per image at shape (1, 3, 480, 640)\n",
      "\n",
      "0: 480x640 (no detections), 41.4ms\n",
      "Speed: 0.9ms preprocess, 41.4ms inference, 0.6ms postprocess per image at shape (1, 3, 480, 640)\n",
      "\n",
      "0: 480x640 (no detections), 40.8ms\n",
      "Speed: 1.1ms preprocess, 40.8ms inference, 0.5ms postprocess per image at shape (1, 3, 480, 640)\n",
      "\n",
      "0: 480x640 (no detections), 39.0ms\n",
      "Speed: 0.9ms preprocess, 39.0ms inference, 0.5ms postprocess per image at shape (1, 3, 480, 640)\n",
      "\n",
      "0: 480x640 (no detections), 41.4ms\n",
      "Speed: 0.9ms preprocess, 41.4ms inference, 0.5ms postprocess per image at shape (1, 3, 480, 640)\n",
      "\n",
      "0: 480x640 (no detections), 42.4ms\n",
      "Speed: 1.1ms preprocess, 42.4ms inference, 0.5ms postprocess per image at shape (1, 3, 480, 640)\n",
      "\n",
      "0: 480x640 (no detections), 41.7ms\n",
      "Speed: 0.9ms preprocess, 41.7ms inference, 0.6ms postprocess per image at shape (1, 3, 480, 640)\n",
      "\n",
      "0: 480x640 (no detections), 39.8ms\n",
      "Speed: 1.0ms preprocess, 39.8ms inference, 0.6ms postprocess per image at shape (1, 3, 480, 640)\n",
      "\n",
      "0: 480x640 (no detections), 42.5ms\n",
      "Speed: 0.9ms preprocess, 42.5ms inference, 0.6ms postprocess per image at shape (1, 3, 480, 640)\n"
     ]
    },
    {
     "ename": "ValueError",
     "evalue": "Exception encountered when calling GRUCell.call().\n\n\u001b[1mDimensions must be equal, but are 0 and 34 for '{{node sequential_1_1/gru_1/gru_cell_1/MatMul}} = MatMul[T=DT_FLOAT, grad_a=false, grad_b=false, transpose_a=false, transpose_b=false](sequential_1_1/gru_1/strided_slice_1, sequential_1_1/gru_1/gru_cell_1/Cast/ReadVariableOp)' with input shapes: [1,0], [34,384].\u001b[0m\n\nArguments received by GRUCell.call():\n  • inputs=tf.Tensor(shape=(1, 0), dtype=float32)\n  • states=('tf.Tensor(shape=(1, 128), dtype=float32)',)\n  • training=False",
     "output_type": "error",
     "traceback": [
      "\u001b[1;31m---------------------------------------------------------------------------\u001b[0m",
      "\u001b[1;31mValueError\u001b[0m                                Traceback (most recent call last)",
      "Cell \u001b[1;32mIn[34], line 47\u001b[0m\n\u001b[0;32m     45\u001b[0m \u001b[38;5;28;01mif\u001b[39;00m \u001b[38;5;28mlen\u001b[39m(buf) \u001b[38;5;241m==\u001b[39m SEQ_LEN:\n\u001b[0;32m     46\u001b[0m     seq_input \u001b[38;5;241m=\u001b[39m np\u001b[38;5;241m.\u001b[39mexpand_dims(np\u001b[38;5;241m.\u001b[39marray(buf), axis\u001b[38;5;241m=\u001b[39m\u001b[38;5;241m0\u001b[39m)  \u001b[38;5;66;03m# (1, SEQ_LEN, 51)\u001b[39;00m\n\u001b[1;32m---> 47\u001b[0m     probs \u001b[38;5;241m=\u001b[39m \u001b[43mlstm_model\u001b[49m\u001b[38;5;241;43m.\u001b[39;49m\u001b[43mpredict\u001b[49m\u001b[43m(\u001b[49m\u001b[43mseq_input\u001b[49m\u001b[43m,\u001b[49m\u001b[43m \u001b[49m\u001b[43mverbose\u001b[49m\u001b[38;5;241;43m=\u001b[39;49m\u001b[38;5;241;43m0\u001b[39;49m\u001b[43m)\u001b[49m[\u001b[38;5;241m0\u001b[39m]  \u001b[38;5;66;03m# output probabilitas per kelas\u001b[39;00m\n\u001b[0;32m     48\u001b[0m     idx_pred \u001b[38;5;241m=\u001b[39m np\u001b[38;5;241m.\u001b[39margmax(probs)\n\u001b[0;32m     49\u001b[0m     conf \u001b[38;5;241m=\u001b[39m probs[idx_pred]\n",
      "File \u001b[1;32mc:\\Users\\M Fathurrahman\\Videos\\LASKAR AI\\ActionDetection-Yolo--2-\\coba\\lib\\site-packages\\keras\\src\\utils\\traceback_utils.py:122\u001b[0m, in \u001b[0;36mfilter_traceback.<locals>.error_handler\u001b[1;34m(*args, **kwargs)\u001b[0m\n\u001b[0;32m    119\u001b[0m     filtered_tb \u001b[38;5;241m=\u001b[39m _process_traceback_frames(e\u001b[38;5;241m.\u001b[39m__traceback__)\n\u001b[0;32m    120\u001b[0m     \u001b[38;5;66;03m# To get the full stack trace, call:\u001b[39;00m\n\u001b[0;32m    121\u001b[0m     \u001b[38;5;66;03m# `keras.config.disable_traceback_filtering()`\u001b[39;00m\n\u001b[1;32m--> 122\u001b[0m     \u001b[38;5;28;01mraise\u001b[39;00m e\u001b[38;5;241m.\u001b[39mwith_traceback(filtered_tb) \u001b[38;5;28;01mfrom\u001b[39;00m\u001b[38;5;250m \u001b[39m\u001b[38;5;28;01mNone\u001b[39;00m\n\u001b[0;32m    123\u001b[0m \u001b[38;5;28;01mfinally\u001b[39;00m:\n\u001b[0;32m    124\u001b[0m     \u001b[38;5;28;01mdel\u001b[39;00m filtered_tb\n",
      "File \u001b[1;32mc:\\Users\\M Fathurrahman\\Videos\\LASKAR AI\\ActionDetection-Yolo--2-\\coba\\lib\\site-packages\\keras\\src\\utils\\traceback_utils.py:122\u001b[0m, in \u001b[0;36mfilter_traceback.<locals>.error_handler\u001b[1;34m(*args, **kwargs)\u001b[0m\n\u001b[0;32m    119\u001b[0m     filtered_tb \u001b[38;5;241m=\u001b[39m _process_traceback_frames(e\u001b[38;5;241m.\u001b[39m__traceback__)\n\u001b[0;32m    120\u001b[0m     \u001b[38;5;66;03m# To get the full stack trace, call:\u001b[39;00m\n\u001b[0;32m    121\u001b[0m     \u001b[38;5;66;03m# `keras.config.disable_traceback_filtering()`\u001b[39;00m\n\u001b[1;32m--> 122\u001b[0m     \u001b[38;5;28;01mraise\u001b[39;00m e\u001b[38;5;241m.\u001b[39mwith_traceback(filtered_tb) \u001b[38;5;28;01mfrom\u001b[39;00m\u001b[38;5;250m \u001b[39m\u001b[38;5;28;01mNone\u001b[39;00m\n\u001b[0;32m    123\u001b[0m \u001b[38;5;28;01mfinally\u001b[39;00m:\n\u001b[0;32m    124\u001b[0m     \u001b[38;5;28;01mdel\u001b[39;00m filtered_tb\n",
      "\u001b[1;31mValueError\u001b[0m: Exception encountered when calling GRUCell.call().\n\n\u001b[1mDimensions must be equal, but are 0 and 34 for '{{node sequential_1_1/gru_1/gru_cell_1/MatMul}} = MatMul[T=DT_FLOAT, grad_a=false, grad_b=false, transpose_a=false, transpose_b=false](sequential_1_1/gru_1/strided_slice_1, sequential_1_1/gru_1/gru_cell_1/Cast/ReadVariableOp)' with input shapes: [1,0], [34,384].\u001b[0m\n\nArguments received by GRUCell.call():\n  • inputs=tf.Tensor(shape=(1, 0), dtype=float32)\n  • states=('tf.Tensor(shape=(1, 128), dtype=float32)',)\n  • training=False"
     ]
    },
    {
     "ename": "",
     "evalue": "",
     "output_type": "error",
     "traceback": [
      "\u001b[1;31mThe Kernel crashed while executing code in the current cell or a previous cell. \n",
      "\u001b[1;31mPlease review the code in the cell(s) to identify a possible cause of the failure. \n",
      "\u001b[1;31mClick <a href='https://aka.ms/vscodeJupyterKernelCrash'>here</a> for more info. \n",
      "\u001b[1;31mView Jupyter <a href='command:jupyter.viewOutput'>log</a> for further details."
     ]
    }
   ],
   "source": [
    "import cv2\n",
    "import numpy as np\n",
    "from ultralytics import YOLO\n",
    "from tensorflow.keras.models import load_model\n",
    "from collections import deque\n",
    "\n",
    "# ------------ Parameter ---------------\n",
    "SEQ_LEN       = 30\n",
    "DETECT_THRESH = 0.6\n",
    "LABELS = np.array(['Angkat Pinggul', 'Kaki Kebelakang', 'Lutut Turun', 'Naikan Kepalan Kedepan', 'Rentangkan'])\n",
    "\n",
    "# ------------ Load model ---------------\n",
    "pose_model = YOLO('yolov8n-pose.pt')         # YOLOv8 pose model\n",
    "lstm_model = load_model('gru_best.keras')  # Model LSTM hasil training\n",
    "\n",
    "# ------------ Buffer sequence -----------\n",
    "buf = deque(maxlen=SEQ_LEN)\n",
    "\n",
    "cap = cv2.VideoCapture(0)\n",
    "\n",
    "while True:\n",
    "    ret, frame = cap.read()\n",
    "    if not ret:\n",
    "        break\n",
    "\n",
    "    # Inference YOLOv8 Pose\n",
    "    results = pose_model(frame)[0]\n",
    "\n",
    "    # Ekstrak keypoints orang pertama jika ada\n",
    "    if results.keypoints is not None and len(results.keypoints) > 0:\n",
    "        # Ambil data keypoints dari atribut data dan ubah ke numpy array\n",
    "        keypoints = results.keypoints.data.cpu().numpy()[0]  # (17, 3)\n",
    "\n",
    "        h, w, _ = frame.shape\n",
    "        pose_vec = []\n",
    "        for x, y, c in keypoints:\n",
    "            pose_vec.extend([x / w, y / h, c])\n",
    "        pose_vec = np.array(pose_vec, dtype='float32')\n",
    "    else:\n",
    "        pose_vec = np.zeros(17 * 3, dtype='float32')  # kalau gak ada pose\n",
    "\n",
    "    buf.append(pose_vec)\n",
    "\n",
    "    # Jika buffer sequence sudah penuh, infer LSTM\n",
    "    if len(buf) == SEQ_LEN:\n",
    "        seq_input = np.expand_dims(np.array(buf), axis=0)  # (1, SEQ_LEN, 51)\n",
    "        probs = lstm_model.predict(seq_input, verbose=0)[0]  # output probabilitas per kelas\n",
    "        idx_pred = np.argmax(probs)\n",
    "        conf = probs[idx_pred]\n",
    "        pred_label = LABELS[idx_pred]\n",
    "\n",
    "        # Tampilkan prediksi di frame\n",
    "        text = f\"Pose: {pred_label} ({conf*100:.1f}%)\"\n",
    "        cv2.putText(frame, text, (10, 30), cv2.FONT_HERSHEY_SIMPLEX,\n",
    "                    1, (0, 255, 0) if conf > DETECT_THRESH else (0, 0, 255), 2)\n",
    "\n",
    "    # Tampilkan hasil keypoints\n",
    "    annotated_frame = results.plot()\n",
    "    cv2.imshow('YOLOv8 Pose + LSTM', annotated_frame)\n",
    "\n",
    "    if cv2.waitKey(1) & 0xFF == 27:  # ESC keluar\n",
    "        break\n",
    "\n",
    "cap.release()\n",
    "cv2.destroyAllWindows()\n"
   ]
  },
  {
   "cell_type": "markdown",
   "metadata": {},
   "source": [
    "## **b. Inferensi Lanjutan**"
   ]
  },
  {
   "cell_type": "code",
   "execution_count": null,
   "metadata": {
    "execution": {
     "iopub.status.busy": "2025-05-26T04:17:30.356486Z",
     "iopub.status.idle": "2025-05-26T04:17:30.356869Z",
     "shell.execute_reply": "2025-05-26T04:17:30.356740Z",
     "shell.execute_reply.started": "2025-05-26T04:17:30.356724Z"
    },
    "trusted": true
   },
   "outputs": [],
   "source": [
    "import cv2\n",
    "import numpy as np\n",
    "import time\n",
    "from collections import deque\n",
    "from ultralytics import YOLO\n",
    "from tensorflow.keras.models import load_model\n",
    "\n",
    "# ---------- LABEL TETAP (sesuai training) ----------\n",
    "LABELS = np.array(['Angkat Pinggul',\n",
    "                   'Angkat Tangan',\n",
    "                   'Lutut Turun',\n",
    "                   'Naikan Kepalan Kedepan',\n",
    "                   'Rentangkan'])\n",
    "\n",
    "label2idx = {l: i for i, l in enumerate(LABELS)}\n",
    "\n",
    "# ---------- URUTAN LATIHAN (bebas diubah) ----------\n",
    "WORKFLOW = np.array(['Angkat Tangan','Naikan Kepalan Kedepan', 'Rentangkan'])\n",
    "\n",
    "# ---------- PARAMETER LAIN ----------\n",
    "SEQ_LEN = 30\n",
    "DETECT_THRESH = 0.60\n",
    "STABLE_FRAMES = 15\n",
    "EXER_TIME = 30\n",
    "POPUP_TIME = 10\n",
    "MODEL_PATH = 'lstm_best.keras'\n",
    "FONT = cv2.FONT_HERSHEY_SIMPLEX\n",
    "\n",
    "# ---------- MODEL & YOLO ----------\n",
    "model = load_model(MODEL_PATH)\n",
    "yolo_model = YOLO('yolov8n-pose.pt')  # Gunakan model YOLOv8 Pose\n",
    "\n",
    "# ---------- Fungsi Ekstraksi Keypoints ----------\n",
    "def extract_keypoints(results):\n",
    "    keypoints = results.keypoints\n",
    "    if keypoints is not None:\n",
    "        # Ambil keypoints dalam format [x, y, confidence]\n",
    "        kpts = keypoints.xy[0].cpu().numpy().flatten()\n",
    "    else:\n",
    "        kpts = np.zeros(17 * 3)  # 17 keypoints dengan [x, y, conf]\n",
    "    return kpts.astype('float32')\n",
    "\n",
    "# ------- Inisialisasi sebelum while ----------\n",
    "buf = deque(maxlen=SEQ_LEN)\n",
    "state = 'Belum Bergerak'\n",
    "idx_act = 0\n",
    "steady_ctr = 0\n",
    "t_ex_start = time.time()\n",
    "\n",
    "popup_phase = None  # None | 'result' | 'prep'\n",
    "popup_start = None\n",
    "score = {w: None for w in WORKFLOW}\n",
    "last_pred, last_conf = '-', 0.0\n",
    "\n",
    "cap = cv2.VideoCapture(0)\n",
    "while cap.isOpened() and idx_act < len(WORKFLOW):\n",
    "    ok, frame = cap.read()\n",
    "    if not ok:\n",
    "        break\n",
    "\n",
    "    # ------------ YOLO Pose Estimation -------------\n",
    "    results = yolo_model.predict(frame, verbose=False)\n",
    "    bgr = frame.copy()\n",
    "\n",
    "    # ------------ Gambar Keypoints -------------\n",
    "    if results and results[0].keypoints is not None:\n",
    "        for kp in results[0].keypoints.xy:\n",
    "            for x, y in kp.cpu().numpy():\n",
    "                cv2.circle(bgr, (int(x), int(y)), 3, (0, 255, 0), -1)\n",
    "\n",
    "    # =====================================================\n",
    "    # ===============  (1)  INFERENCE  ====================\n",
    "    # =====================================================\n",
    "    keypoints = extract_keypoints(results[0])\n",
    "    buf.append(keypoints)\n",
    "    if len(buf) == SEQ_LEN and popup_phase is None:  # jangan infer saat popup\n",
    "        prob = model.predict(np.expand_dims(buf, 0), verbose=0)[0]\n",
    "        idx_pred = int(np.argmax(prob))\n",
    "        last_pred = LABELS[idx_pred]\n",
    "        last_conf = float(prob[idx_pred])\n",
    "\n",
    "        target_lbl = WORKFLOW[idx_act]\n",
    "        same_act = (last_pred == target_lbl) and (last_conf >= DETECT_THRESH)\n",
    "        steady_ctr = steady_ctr + 1 if same_act else 0\n",
    "\n",
    "        if state == 'Belum Bergerak' and steady_ctr >= STABLE_FRAMES:\n",
    "            state = 'Sudah Setengah Gerakan'\n",
    "            t_half = time.time()\n",
    "\n",
    "        elif state == 'Sudah Setengah Gerakan':\n",
    "            if steady_ctr >= STABLE_FRAMES and time.time() - t_half > 1.0:\n",
    "                state = 'Gerakan Berhasil'\n",
    "                score[target_lbl] = True\n",
    "                popup_phase = 'result'  # ← tampilkan hasil, tunggu ENTER\n",
    "\n",
    "        if last_conf < 0.20:\n",
    "            state = 'Belum Bergerak'\n",
    "            steady_ctr = 0\n",
    "\n",
    "    # =====================================================\n",
    "    # ===============  (2)  TIMER  ========================\n",
    "    # =====================================================\n",
    "    remaining = EXER_TIME - int(time.time() - t_ex_start)\n",
    "    if popup_phase is None and remaining <= 0:\n",
    "        state = 'Gerakan Gagal'\n",
    "        score[WORKFLOW[idx_act]] = False\n",
    "        popup_phase = 'result'\n",
    "\n",
    "    # =====================================================\n",
    "    # ===============  (3)  POP-UP  =======================\n",
    "    # =====================================================\n",
    "    if popup_phase is not None:\n",
    "        remaining = max(0, remaining)  # ← mencegah nilai negatif\n",
    "\n",
    "        key = cv2.waitKey(10) & 0xFF\n",
    "        if popup_phase == 'result':\n",
    "            # ---------- layar hasil ----------\n",
    "            cv2.rectangle(bgr, (40, 140), (600, 270), (0, 0, 0), -1)\n",
    "            cv2.putText(bgr,\n",
    "                        f'Gerakan {WORKFLOW[idx_act]} : '\n",
    "                        + ('BERHASIL' if score[WORKFLOW[idx_act]] else 'GAGAL'),\n",
    "                        (60, 190), FONT, 0.8, (255, 255, 255), 2)\n",
    "\n",
    "            if idx_act + 1 < len(WORKFLOW):\n",
    "                cv2.putText(bgr, 'Tekan ENTER untuk lanjut',\n",
    "                            (60, 230), FONT, 0.7, (0, 255, 255), 2)\n",
    "            else:\n",
    "                cv2.putText(bgr, 'Sesi selesai, tekan ESC untuk keluar',\n",
    "                            (60, 230), FONT, 0.7, (0, 255, 255), 2)\n",
    "\n",
    "            # -------- tunggu ENTER ----------\n",
    "            if key in (13, 10):  # ENTER key\n",
    "                popup_phase = 'prep'\n",
    "                popup_start = time.time()\n",
    "\n",
    "        elif popup_phase == 'prep':\n",
    "            # ---------- hitung mundur ----------\n",
    "            elap = time.time() - popup_start\n",
    "            cnt = POPUP_TIME - int(elap)\n",
    "\n",
    "            cv2.rectangle(bgr, (40, 140), (600, 270), (0, 0, 0), -1)\n",
    "            cv2.putText(bgr, f'Siapkan gerakan : {WORKFLOW[idx_act+1]}',\n",
    "                        (60, 190), FONT, 0.7, (255, 255, 255), 2)\n",
    "            cv2.putText(bgr, f'Mulai dalam {cnt:02d} dtk',\n",
    "                        (60, 230), FONT, 0.9, (0, 255, 255), 2)\n",
    "\n",
    "            if elap >= POPUP_TIME:\n",
    "                # reset ke gerakan berikutnya\n",
    "                idx_act += 1\n",
    "                if idx_act == len(WORKFLOW):\n",
    "                    break\n",
    "                state = 'Belum Bergerak'\n",
    "                steady_ctr = 0\n",
    "                buf.clear()\n",
    "                t_ex_start = time.time()\n",
    "                popup_phase = None\n",
    "\n",
    "        cv2.imshow('Rehab-Assist', bgr)\n",
    "        if key == 27:  # ESC\n",
    "            break\n",
    "        continue\n",
    "\n",
    "    # =====================================================\n",
    "    # ===============  (4)  HUD  ==========================\n",
    "    # =====================================================\n",
    "    cv2.rectangle(bgr, (0, 0), (640, 60), (0, 0, 0), -1)\n",
    "    cv2.putText(bgr,\n",
    "                f'Aksi: {WORKFLOW[idx_act]}   |   Timer: {remaining:02d}s',\n",
    "                (10, 25), FONT, 0.6, (255, 255, 255), 2)\n",
    "\n",
    "    det_txt = f\"{last_pred if last_pred != '-' else '-'} ({last_conf*100:4.0f}%)\"\n",
    "    cv2.putText(bgr,\n",
    "                f'Deteksi: {det_txt}',\n",
    "                (10, 50), FONT, 0.6, (0, 255, 255), 2)\n",
    "\n",
    "    cv2.rectangle(bgr, (0, 440), (640, 480), (0, 0, 0), -1)\n",
    "    cv2.putText(bgr, f'Status: {state}', (10, 470), FONT, 0.7, (0, 255, 255), 2)\n",
    "\n",
    "    key = cv2.waitKey(10) & 0xFF\n",
    "    if key == 27:  # ESC\n",
    "        break\n",
    "\n",
    "    cv2.imshow('Rehab-Assist', bgr)\n",
    "\n",
    "cap.release()\n",
    "cv2.destroyAllWindows()\n"
   ]
  },
  {
   "cell_type": "code",
   "execution_count": null,
   "metadata": {},
   "outputs": [
    {
     "name": "stdout",
     "output_type": "stream",
     "text": [
      "Skor akhir:\n",
      "Angkat Tangan            : ✗\n"
     ]
    }
   ],
   "source": [
    "print('Skor akhir:')\n",
    "for act in WORKFLOW:  # Menggunakan WORKFLOW karena urutan aksi latihan sudah ditentukan\n",
    "    status = \"✓\" if score[act] else \"✗\"\n",
    "    print(f'{act:<25}: {status}')"
   ]
  },
  {
   "cell_type": "code",
   "execution_count": null,
   "metadata": {},
   "outputs": [
    {
     "name": "stdout",
     "output_type": "stream",
     "text": [
      "Probabilitas per gerakan:\n",
      "Angkat Pinggul: 0.0028\n",
      "Angkat Tangan: 0.0391\n",
      "Lutut Turun: 0.0637\n",
      "Naikan Kepalan Kedepan: 0.8888\n",
      "Rentangkan: 0.0057\n"
     ]
    }
   ],
   "source": [
    "print(\"Probabilitas per gerakan:\")\n",
    "for label, p in zip(LABELS, prob):\n",
    "    print(f\"{label}: {p:.4f}\")"
   ]
  },
  {
   "cell_type": "code",
   "execution_count": null,
   "metadata": {
    "execution": {
     "iopub.status.busy": "2025-05-26T04:17:30.358190Z",
     "iopub.status.idle": "2025-05-26T04:17:30.358612Z",
     "shell.execute_reply": "2025-05-26T04:17:30.358406Z",
     "shell.execute_reply.started": "2025-05-26T04:17:30.358389Z"
    },
    "trusted": true
   },
   "outputs": [],
   "source": [
    "pip freeze requirements.txt"
   ]
  },
  {
   "cell_type": "code",
   "execution_count": null,
   "metadata": {},
   "outputs": [],
   "source": [
    "# DETEKSI 1 GERAKAN \n",
    "import cv2\n",
    "import numpy as np\n",
    "import time\n",
    "from ultralytics import YOLO\n",
    "from tensorflow.keras.models import load_model\n",
    "from gesture_feedback import (feedback_kaki_ke_belakang, feedback_lutut_turun, \n",
    "                              feedback_naikan_kepalan_kedepan, feedback_pinggul_naik, feedback_rentangkan)\n",
    "\n",
    "# ---------- Load Model LSTM ----------\n",
    "MODEL_PATH = 'lstm_best.keras'\n",
    "model = load_model(MODEL_PATH)\n",
    "\n",
    "# ---------- Inisialisasi Model YOLO ----------\n",
    "yolo_model = YOLO('yolov8n-pose.pt')\n",
    "\n",
    "# ---------- Mapping Gesture ke Feedback ----------\n",
    "gesture_feedback_map = {\n",
    "    \"kaki_ke_belakang\": feedback_kaki_ke_belakang,\n",
    "    \"lutut_turun\": feedback_lutut_turun,\n",
    "    \"naikan_kepalan_kedepan\": feedback_naikan_kepalan_kedepan,\n",
    "    \"pinggul_naik\": feedback_pinggul_naik,\n",
    "    \"rentangkan\": feedback_rentangkan,\n",
    "}\n",
    "\n",
    "# ---------- Pilih Gesture yang Ingin Dicek ----------\n",
    "gesture_to_check = \"Rentangkan\"  # Ganti sesuai kebutuhan\n",
    "\n",
    "# ---------- Parameter Inferensi ----------\n",
    "SEQ_LEN = 30  # Panjang history gerakan\n",
    "DETECT_THRESH = 0.60  # Ambang batas keyakinan deteksi\n",
    "\n",
    "buf = []  # Buffer untuk menyimpan urutan keypoints\n",
    "\n",
    "# ---------- Fungsi Ekstraksi Keypoints ----------\n",
    "def extract_yolo_keypoints(results):\n",
    "    # Always return a fixed-length array (34,) for 17 keypoints [x, y]\n",
    "    num_kpts = 17 * 2\n",
    "    if results is None or results.keypoints is None:\n",
    "        return np.zeros(num_kpts, dtype='float32')\n",
    "    keypoints = results.keypoints.xy[0].cpu().numpy().flatten()\n",
    "    # Pad or slice to ensure fixed length\n",
    "    if keypoints.shape[0] < num_kpts:\n",
    "        keypoints = np.pad(keypoints, (0, num_kpts - keypoints.shape[0]), mode='constant')\n",
    "    elif keypoints.shape[0] > num_kpts:\n",
    "        keypoints = keypoints[:num_kpts]\n",
    "    return keypoints.astype('float32')\n",
    "\n",
    "\n",
    "# ---------- Jalankan Kamera dan Deteksi Gesture ----------\n",
    "cap = cv2.VideoCapture(0)\n",
    "while cap.isOpened():\n",
    "    ret, frame = cap.read()\n",
    "    if not ret:\n",
    "        break\n",
    "\n",
    "    results = yolo_model.predict(frame, verbose=False)\n",
    "    keypoints = extract_yolo_keypoints(results[0])  # Ambil keypoints\n",
    "    buf.append(keypoints)\n",
    "\n",
    "    # Simpan hanya SEQ_LEN frame terakhir\n",
    "    if len(buf) > SEQ_LEN:\n",
    "        buf.pop(0)\n",
    "\n",
    "    # ---------- Lakukan Inferensi Menggunakan LSTM ----------\n",
    "    if len(buf) == SEQ_LEN:\n",
    "        prob = model.predict(np.expand_dims(buf, axis=0), verbose=0)[0]\n",
    "        idx_pred = int(np.argmax(prob))\n",
    "        last_conf = float(prob[idx_pred])\n",
    "\n",
    "        # ---------- Berikan Feedback ----------\n",
    "        feedback = \"Belum Terdeteksi\"\n",
    "        if gesture_to_check in gesture_feedback_map:\n",
    "            feedback_function = gesture_feedback_map[gesture_to_check]\n",
    "            feedback = feedback_function(keypoints)\n",
    "\n",
    "        # ---------- Tampilkan Hasil Inferensi ----------\n",
    "        cv2.putText(frame, f'Gesture: {gesture_to_check}', (10, 30),\n",
    "                    cv2.FONT_HERSHEY_SIMPLEX, 0.8, (0, 255, 255), 2)\n",
    "        cv2.putText(frame, feedback, (10, 60),\n",
    "                    cv2.FONT_HERSHEY_SIMPLEX, 0.9, (0, 255, 0), 2)\n",
    "\n",
    "        prob_text = f'Confidence: {last_conf:.2f}'\n",
    "        cv2.putText(frame, prob_text, (10, 90),\n",
    "                    cv2.FONT_HERSHEY_SIMPLEX, 0.7, (0, 0, 255), 2)\n",
    "\n",
    "    # ---------- Gambar Keypoints ----------\n",
    "    if keypoints is not None:\n",
    "        for i in range(0, len(keypoints), 2):\n",
    "            x, y = int(keypoints[i]), int(keypoints[i + 1])\n",
    "            cv2.circle(frame, (x, y), 3, (0, 255, 0), -1)\n",
    "\n",
    "    cv2.imshow('Gesture Feedback', frame)\n",
    "\n",
    "    if cv2.waitKey(5) & 0xFF == ord('q'):\n",
    "        break\n",
    "\n",
    "cap.release()\n",
    "cv2.destroyAllWindows()\n"
   ]
  }
 ],
 "metadata": {
  "kaggle": {
   "accelerator": "none",
   "dataSources": [
    {
     "datasetId": 7513841,
     "sourceId": 11951552,
     "sourceType": "datasetVersion"
    },
    {
     "modelId": 355971,
     "modelInstanceId": 334950,
     "sourceId": 410154,
     "sourceType": "modelInstanceVersion"
    }
   ],
   "dockerImageVersionId": 31040,
   "isGpuEnabled": false,
   "isInternetEnabled": true,
   "language": "python",
   "sourceType": "notebook"
  },
  "kernelspec": {
   "display_name": "coba",
   "language": "python",
   "name": "python3"
  },
  "language_info": {
   "codemirror_mode": {
    "name": "ipython",
    "version": 3
   },
   "file_extension": ".py",
   "mimetype": "text/x-python",
   "name": "python",
   "nbconvert_exporter": "python",
   "pygments_lexer": "ipython3",
   "version": "3.10.9"
  }
 },
 "nbformat": 4,
 "nbformat_minor": 4
}
