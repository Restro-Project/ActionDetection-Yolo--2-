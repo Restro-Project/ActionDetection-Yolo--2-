{
 "cells": [
  {
   "cell_type": "markdown",
   "metadata": {},
   "source": [
    "# **Klasifikasi Gerakan untuk Rehabilitasi Stroke Menggunakan LSTM**\n",
    "Dataset yang akan digunakan adalah 10 video gerakan rehabilitasi untuk pasien stroke yang ditemukan di Internet.\n",
    "\n",
    "Proyek ini bertujuan untuk mendeteksi gerakan ...."
   ]
  },
  {
   "cell_type": "markdown",
   "metadata": {},
   "source": [
    "# **1. Import Library**"
   ]
  },
  {
   "cell_type": "code",
   "execution_count": 33,
   "metadata": {
    "execution": {
     "iopub.execute_input": "2025-05-26T03:57:37.200913Z",
     "iopub.status.busy": "2025-05-26T03:57:37.200648Z",
     "iopub.status.idle": "2025-05-26T03:57:59.976232Z",
     "shell.execute_reply": "2025-05-26T03:57:59.975179Z",
     "shell.execute_reply.started": "2025-05-26T03:57:37.200891Z"
    },
    "trusted": true
   },
   "outputs": [],
   "source": [
    "import os\n",
    "import cv2\n",
    "import pandas as pd\n",
    "import numpy as np\n",
    "import time\n",
    "import seaborn as sns\n",
    "import tensorflow as tf\n",
    "from matplotlib import pyplot as plt\n",
    "from tqdm import tqdm\n",
    "from collections import defaultdict, deque\n",
    "from sklearn.model_selection import GroupShuffleSplit\n",
    "from sklearn.metrics import classification_report, confusion_matrix, accuracy_score, precision_recall_fscore_support\n",
    "from tensorflow.keras.utils import to_categorical\n",
    "from tensorflow.keras.models import Sequential, load_model\n",
    "from tensorflow.keras.layers import LSTM, Dense, Dropout, BatchNormalization, GRU, Conv1D, GlobalAveragePooling1D\n",
    "from tensorflow.keras.callbacks import EarlyStopping, ModelCheckpoint, ReduceLROnPlateau\n",
    "from tensorflow.keras.optimizers import Adam\n",
    "from ultralytics import YOLO\n",
    "from sklearn.preprocessing import StandardScaler"
   ]
  },
  {
   "cell_type": "markdown",
   "metadata": {},
   "source": [
    "# **2. Memuat Dataset**"
   ]
  },
  {
   "cell_type": "code",
   "execution_count": 34,
   "metadata": {
    "execution": {
     "iopub.execute_input": "2025-05-26T03:57:59.978413Z",
     "iopub.status.busy": "2025-05-26T03:57:59.977463Z",
     "iopub.status.idle": "2025-05-26T03:58:00.012291Z",
     "shell.execute_reply": "2025-05-26T03:58:00.011037Z",
     "shell.execute_reply.started": "2025-05-26T03:57:59.978374Z"
    },
    "trusted": true
   },
   "outputs": [
    {
     "name": "stdout",
     "output_type": "stream",
     "text": [
      "Kelas terdeteksi: ['Angkat Pinggul', 'Angkat Tangan', 'Lutut Turun', 'Naikan Kepalan Kedepan', 'Rentangkan'] \n",
      "\n"
     ]
    }
   ],
   "source": [
    "# --- 2. Memuat Dataset ---\n",
    "# Setup Folders for Collection\n",
    "VIDEO_DIR = 'dataset_video' \n",
    "sequence_length = 30         # frame per sequence (akan di-resample ke sini)\n",
    "RANDOM_SEED     = 42\n",
    "\n",
    "actions = sorted([d for d in os.listdir(VIDEO_DIR)\n",
    "                  if os.path.isdir(os.path.join(VIDEO_DIR,d))])\n",
    "print('Kelas terdeteksi:', actions, '\\n')\n",
    "\n",
    "vid_dict = defaultdict(list)   # {action: [video_path, …]}\n",
    "for act in actions:\n",
    "    for f in sorted(os.listdir(os.path.join(VIDEO_DIR,act))):\n",
    "        if f.lower().endswith(('.mp4','.mov','.avi','.mkv')):\\\n",
    "            vid_dict[act].append(os.path.join(VIDEO_DIR,act,f))\n"
   ]
  },
  {
   "cell_type": "markdown",
   "metadata": {},
   "source": [
    "# **3. Exploratory Data Analysis (EDA)**"
   ]
  },
  {
   "cell_type": "code",
   "execution_count": 35,
   "metadata": {
    "execution": {
     "iopub.execute_input": "2025-05-26T03:58:00.054401Z",
     "iopub.status.busy": "2025-05-26T03:58:00.053438Z",
     "iopub.status.idle": "2025-05-26T03:58:01.937362Z",
     "shell.execute_reply": "2025-05-26T03:58:01.936181Z",
     "shell.execute_reply.started": "2025-05-26T03:58:00.054365Z"
    },
    "trusted": true
   },
   "outputs": [
    {
     "data": {
      "text/html": [
       "<div>\n",
       "<style scoped>\n",
       "    .dataframe tbody tr th:only-of-type {\n",
       "        vertical-align: middle;\n",
       "    }\n",
       "\n",
       "    .dataframe tbody tr th {\n",
       "        vertical-align: top;\n",
       "    }\n",
       "\n",
       "    .dataframe thead th {\n",
       "        text-align: right;\n",
       "    }\n",
       "</style>\n",
       "<table border=\"1\" class=\"dataframe\">\n",
       "  <thead>\n",
       "    <tr style=\"text-align: right;\">\n",
       "      <th></th>\n",
       "      <th>action</th>\n",
       "      <th>video</th>\n",
       "      <th>fps</th>\n",
       "      <th>frames</th>\n",
       "      <th>duration</th>\n",
       "    </tr>\n",
       "  </thead>\n",
       "  <tbody>\n",
       "    <tr>\n",
       "      <th>0</th>\n",
       "      <td>Angkat Pinggul</td>\n",
       "      <td>1.MOV</td>\n",
       "      <td>59.953704</td>\n",
       "      <td>259</td>\n",
       "      <td>4.320000</td>\n",
       "    </tr>\n",
       "    <tr>\n",
       "      <th>1</th>\n",
       "      <td>Angkat Pinggul</td>\n",
       "      <td>10.mp4</td>\n",
       "      <td>30.000000</td>\n",
       "      <td>104</td>\n",
       "      <td>3.466667</td>\n",
       "    </tr>\n",
       "    <tr>\n",
       "      <th>2</th>\n",
       "      <td>Angkat Pinggul</td>\n",
       "      <td>11.mp4</td>\n",
       "      <td>29.836711</td>\n",
       "      <td>153</td>\n",
       "      <td>5.127911</td>\n",
       "    </tr>\n",
       "    <tr>\n",
       "      <th>3</th>\n",
       "      <td>Angkat Pinggul</td>\n",
       "      <td>12.mp4</td>\n",
       "      <td>30.031600</td>\n",
       "      <td>134</td>\n",
       "      <td>4.461967</td>\n",
       "    </tr>\n",
       "    <tr>\n",
       "      <th>4</th>\n",
       "      <td>Angkat Pinggul</td>\n",
       "      <td>13.mp4</td>\n",
       "      <td>30.031612</td>\n",
       "      <td>114</td>\n",
       "      <td>3.796000</td>\n",
       "    </tr>\n",
       "    <tr>\n",
       "      <th>...</th>\n",
       "      <td>...</td>\n",
       "      <td>...</td>\n",
       "      <td>...</td>\n",
       "      <td>...</td>\n",
       "      <td>...</td>\n",
       "    </tr>\n",
       "    <tr>\n",
       "      <th>95</th>\n",
       "      <td>Rentangkan</td>\n",
       "      <td>5.MOV</td>\n",
       "      <td>29.971182</td>\n",
       "      <td>156</td>\n",
       "      <td>5.205000</td>\n",
       "    </tr>\n",
       "    <tr>\n",
       "      <th>96</th>\n",
       "      <td>Rentangkan</td>\n",
       "      <td>6.MOV</td>\n",
       "      <td>59.970312</td>\n",
       "      <td>202</td>\n",
       "      <td>3.368333</td>\n",
       "    </tr>\n",
       "    <tr>\n",
       "      <th>97</th>\n",
       "      <td>Rentangkan</td>\n",
       "      <td>7.mp4</td>\n",
       "      <td>30.000000</td>\n",
       "      <td>142</td>\n",
       "      <td>4.733333</td>\n",
       "    </tr>\n",
       "    <tr>\n",
       "      <th>98</th>\n",
       "      <td>Rentangkan</td>\n",
       "      <td>8.mp4</td>\n",
       "      <td>30.000000</td>\n",
       "      <td>155</td>\n",
       "      <td>5.166667</td>\n",
       "    </tr>\n",
       "    <tr>\n",
       "      <th>99</th>\n",
       "      <td>Rentangkan</td>\n",
       "      <td>9.mp4</td>\n",
       "      <td>30.000000</td>\n",
       "      <td>103</td>\n",
       "      <td>3.433333</td>\n",
       "    </tr>\n",
       "  </tbody>\n",
       "</table>\n",
       "<p>100 rows × 5 columns</p>\n",
       "</div>"
      ],
      "text/plain": [
       "            action   video        fps  frames  duration\n",
       "0   Angkat Pinggul   1.MOV  59.953704     259  4.320000\n",
       "1   Angkat Pinggul  10.mp4  30.000000     104  3.466667\n",
       "2   Angkat Pinggul  11.mp4  29.836711     153  5.127911\n",
       "3   Angkat Pinggul  12.mp4  30.031600     134  4.461967\n",
       "4   Angkat Pinggul  13.mp4  30.031612     114  3.796000\n",
       "..             ...     ...        ...     ...       ...\n",
       "95      Rentangkan   5.MOV  29.971182     156  5.205000\n",
       "96      Rentangkan   6.MOV  59.970312     202  3.368333\n",
       "97      Rentangkan   7.mp4  30.000000     142  4.733333\n",
       "98      Rentangkan   8.mp4  30.000000     155  5.166667\n",
       "99      Rentangkan   9.mp4  30.000000     103  3.433333\n",
       "\n",
       "[100 rows x 5 columns]"
      ]
     },
     "metadata": {},
     "output_type": "display_data"
    },
    {
     "data": {
      "image/png": "[encoded data removed]",
      "text/plain": [
       "<Figure size 640x480 with 1 Axes>"
      ]
     },
     "metadata": {},
     "output_type": "display_data"
    }
   ],
   "source": [
    "# --- 3. Exploratory Data Analysis (EDA) ---\n",
    "rows=[]\n",
    "for act in actions:\n",
    "    for vp in vid_dict[act]:\n",
    "        cap=cv2.VideoCapture(vp)\n",
    "        fps  = cap.get(cv2.CAP_PROP_FPS) or 30\n",
    "        nfrm = int(cap.get(cv2.CAP_PROP_FRAME_COUNT))\n",
    "        dur  = nfrm/fps\n",
    "        rows.append(dict(action=act, video=os.path.basename(vp),\\\n",
    "                         fps=fps, frames=nfrm, duration=dur))\n",
    "        cap.release()\n",
    "df=pd.DataFrame(rows)\n",
    "display(df)\n",
    "sns.barplot(data=df,x='action',y='duration')\n",
    "plt.xticks(rotation=45); plt.title('Durasi per Video'); plt.show()"
   ]
  },
  {
   "cell_type": "markdown",
   "metadata": {},
   "source": [
    "# **4. Preprocessing**"
   ]
  },
  {
   "cell_type": "markdown",
   "metadata": {},
   "source": [
    "### Ekstraksi Keypoints\n"
   ]
  },
  {
   "cell_type": "code",
   "execution_count": 36,
   "metadata": {
    "execution": {
     "iopub.execute_input": "2025-05-26T03:58:01.938922Z",
     "iopub.status.busy": "2025-05-26T03:58:01.938575Z",
     "iopub.status.idle": "2025-05-26T04:14:40.154106Z",
     "shell.execute_reply": "2025-05-26T04:14:40.153295Z",
     "shell.execute_reply.started": "2025-05-26T03:58:01.938898Z"
    },
    "trusted": true
   },
   "outputs": [
    {
     "name": "stdout",
     "output_type": "stream",
     "text": [
      "\n",
      "--- Ekstraksi Keypoints ---\n"
     ]
    },
    {
     "name": "stderr",
     "output_type": "stream",
     "text": [
      "Proses Angkat Pinggul:   5%|▌         | 1/20 [00:11<03:45, 11.87s/it]"
     ]
    },
    {
     "name": "stdout",
     "output_type": "stream",
     "text": [
      "✅ Keypoint disimpan: keypoints Rombak Preprocessing\\Angkat Pinggul\\1.npy\n"
     ]
    },
    {
     "name": "stderr",
     "output_type": "stream",
     "text": [
      "Proses Angkat Pinggul:  10%|█         | 2/20 [00:16<02:16,  7.59s/it]"
     ]
    },
    {
     "name": "stdout",
     "output_type": "stream",
     "text": [
      "✅ Keypoint disimpan: keypoints Rombak Preprocessing\\Angkat Pinggul\\10.npy\n"
     ]
    },
    {
     "name": "stderr",
     "output_type": "stream",
     "text": [
      "Proses Angkat Pinggul:  15%|█▌        | 3/20 [00:23<02:04,  7.34s/it]"
     ]
    },
    {
     "name": "stdout",
     "output_type": "stream",
     "text": [
      "✅ Keypoint disimpan: keypoints Rombak Preprocessing\\Angkat Pinggul\\11.npy\n"
     ]
    },
    {
     "name": "stderr",
     "output_type": "stream",
     "text": [
      "Proses Angkat Pinggul:  20%|██        | 4/20 [00:29<01:49,  6.86s/it]"
     ]
    },
    {
     "name": "stdout",
     "output_type": "stream",
     "text": [
      "✅ Keypoint disimpan: keypoints Rombak Preprocessing\\Angkat Pinggul\\12.npy\n"
     ]
    },
    {
     "name": "stderr",
     "output_type": "stream",
     "text": [
      "Proses Angkat Pinggul:  25%|██▌       | 5/20 [00:34<01:32,  6.15s/it]"
     ]
    },
    {
     "name": "stdout",
     "output_type": "stream",
     "text": [
      "✅ Keypoint disimpan: keypoints Rombak Preprocessing\\Angkat Pinggul\\13.npy\n"
     ]
    },
    {
     "name": "stderr",
     "output_type": "stream",
     "text": [
      "Proses Angkat Pinggul:  30%|███       | 6/20 [00:40<01:27,  6.23s/it]"
     ]
    },
    {
     "name": "stdout",
     "output_type": "stream",
     "text": [
      "✅ Keypoint disimpan: keypoints Rombak Preprocessing\\Angkat Pinggul\\14.npy\n"
     ]
    },
    {
     "name": "stderr",
     "output_type": "stream",
     "text": [
      "Proses Angkat Pinggul:  35%|███▌      | 7/20 [00:47<01:22,  6.33s/it]"
     ]
    },
    {
     "name": "stdout",
     "output_type": "stream",
     "text": [
      "✅ Keypoint disimpan: keypoints Rombak Preprocessing\\Angkat Pinggul\\15.npy\n"
     ]
    },
    {
     "name": "stderr",
     "output_type": "stream",
     "text": [
      "Proses Angkat Pinggul:  40%|████      | 8/20 [00:54<01:19,  6.61s/it]"
     ]
    },
    {
     "name": "stdout",
     "output_type": "stream",
     "text": [
      "✅ Keypoint disimpan: keypoints Rombak Preprocessing\\Angkat Pinggul\\16.npy\n"
     ]
    },
    {
     "name": "stderr",
     "output_type": "stream",
     "text": [
      "Proses Angkat Pinggul:  45%|████▌     | 9/20 [01:00<01:09,  6.28s/it]"
     ]
    },
    {
     "name": "stdout",
     "output_type": "stream",
     "text": [
      "✅ Keypoint disimpan: keypoints Rombak Preprocessing\\Angkat Pinggul\\17.npy\n"
     ]
    },
    {
     "name": "stderr",
     "output_type": "stream",
     "text": [
      "Proses Angkat Pinggul:  50%|█████     | 10/20 [01:05<00:59,  5.99s/it]"
     ]
    },
    {
     "name": "stdout",
     "output_type": "stream",
     "text": [
      "✅ Keypoint disimpan: keypoints Rombak Preprocessing\\Angkat Pinggul\\18.npy\n"
     ]
    },
    {
     "name": "stderr",
     "output_type": "stream",
     "text": [
      "Proses Angkat Pinggul:  55%|█████▌    | 11/20 [01:12<00:56,  6.33s/it]"
     ]
    },
    {
     "name": "stdout",
     "output_type": "stream",
     "text": [
      "✅ Keypoint disimpan: keypoints Rombak Preprocessing\\Angkat Pinggul\\19.npy\n"
     ]
    },
    {
     "name": "stderr",
     "output_type": "stream",
     "text": [
      "Proses Angkat Pinggul:  60%|██████    | 12/20 [01:25<01:05,  8.24s/it]"
     ]
    },
    {
     "name": "stdout",
     "output_type": "stream",
     "text": [
      "✅ Keypoint disimpan: keypoints Rombak Preprocessing\\Angkat Pinggul\\2.npy\n"
     ]
    },
    {
     "name": "stderr",
     "output_type": "stream",
     "text": [
      "Proses Angkat Pinggul:  65%|██████▌   | 13/20 [01:32<00:55,  7.88s/it]"
     ]
    },
    {
     "name": "stdout",
     "output_type": "stream",
     "text": [
      "✅ Keypoint disimpan: keypoints Rombak Preprocessing\\Angkat Pinggul\\20.npy\n"
     ]
    },
    {
     "name": "stderr",
     "output_type": "stream",
     "text": [
      "Proses Angkat Pinggul:  70%|███████   | 14/20 [01:38<00:43,  7.24s/it]"
     ]
    },
    {
     "name": "stdout",
     "output_type": "stream",
     "text": [
      "✅ Keypoint disimpan: keypoints Rombak Preprocessing\\Angkat Pinggul\\3.npy\n"
     ]
    },
    {
     "name": "stderr",
     "output_type": "stream",
     "text": [
      "Proses Angkat Pinggul:  75%|███████▌  | 15/20 [01:44<00:34,  6.85s/it]"
     ]
    },
    {
     "name": "stdout",
     "output_type": "stream",
     "text": [
      "✅ Keypoint disimpan: keypoints Rombak Preprocessing\\Angkat Pinggul\\4.npy\n"
     ]
    },
    {
     "name": "stderr",
     "output_type": "stream",
     "text": [
      "Proses Angkat Pinggul:  80%|████████  | 16/20 [01:52<00:28,  7.20s/it]"
     ]
    },
    {
     "name": "stdout",
     "output_type": "stream",
     "text": [
      "✅ Keypoint disimpan: keypoints Rombak Preprocessing\\Angkat Pinggul\\5.npy\n"
     ]
    },
    {
     "name": "stderr",
     "output_type": "stream",
     "text": [
      "Proses Angkat Pinggul:  85%|████████▌ | 17/20 [01:56<00:19,  6.39s/it]"
     ]
    },
    {
     "name": "stdout",
     "output_type": "stream",
     "text": [
      "✅ Keypoint disimpan: keypoints Rombak Preprocessing\\Angkat Pinggul\\6.npy\n"
     ]
    },
    {
     "name": "stderr",
     "output_type": "stream",
     "text": [
      "Proses Angkat Pinggul:  90%|█████████ | 18/20 [02:02<00:12,  6.34s/it]"
     ]
    },
    {
     "name": "stdout",
     "output_type": "stream",
     "text": [
      "✅ Keypoint disimpan: keypoints Rombak Preprocessing\\Angkat Pinggul\\7.npy\n"
     ]
    },
    {
     "name": "stderr",
     "output_type": "stream",
     "text": [
      "Proses Angkat Pinggul:  95%|█████████▌| 19/20 [02:10<00:06,  6.74s/it]"
     ]
    },
    {
     "name": "stdout",
     "output_type": "stream",
     "text": [
      "✅ Keypoint disimpan: keypoints Rombak Preprocessing\\Angkat Pinggul\\8.npy\n"
     ]
    },
    {
     "name": "stderr",
     "output_type": "stream",
     "text": [
      "Proses Angkat Pinggul: 100%|██████████| 20/20 [02:16<00:00,  6.84s/it]\n"
     ]
    },
    {
     "name": "stdout",
     "output_type": "stream",
     "text": [
      "✅ Keypoint disimpan: keypoints Rombak Preprocessing\\Angkat Pinggul\\9.npy\n"
     ]
    },
    {
     "name": "stderr",
     "output_type": "stream",
     "text": [
      "Proses Angkat Tangan:   5%|▌         | 1/20 [00:04<01:31,  4.82s/it]"
     ]
    },
    {
     "name": "stdout",
     "output_type": "stream",
     "text": [
      "✅ Keypoint disimpan: keypoints Rombak Preprocessing\\Angkat Tangan\\1.npy\n"
     ]
    },
    {
     "name": "stderr",
     "output_type": "stream",
     "text": [
      "Proses Angkat Tangan:  10%|█         | 2/20 [00:09<01:26,  4.81s/it]"
     ]
    },
    {
     "name": "stdout",
     "output_type": "stream",
     "text": [
      "✅ Keypoint disimpan: keypoints Rombak Preprocessing\\Angkat Tangan\\10.npy\n"
     ]
    },
    {
     "name": "stderr",
     "output_type": "stream",
     "text": [
      "Proses Angkat Tangan:  15%|█▌        | 3/20 [00:14<01:23,  4.91s/it]"
     ]
    },
    {
     "name": "stdout",
     "output_type": "stream",
     "text": [
      "✅ Keypoint disimpan: keypoints Rombak Preprocessing\\Angkat Tangan\\11.npy\n"
     ]
    },
    {
     "name": "stderr",
     "output_type": "stream",
     "text": [
      "Proses Angkat Tangan:  20%|██        | 4/20 [00:20<01:24,  5.27s/it]"
     ]
    },
    {
     "name": "stdout",
     "output_type": "stream",
     "text": [
      "✅ Keypoint disimpan: keypoints Rombak Preprocessing\\Angkat Tangan\\12.npy\n"
     ]
    },
    {
     "name": "stderr",
     "output_type": "stream",
     "text": [
      "Proses Angkat Tangan:  25%|██▌       | 5/20 [00:23<01:07,  4.50s/it]"
     ]
    },
    {
     "name": "stdout",
     "output_type": "stream",
     "text": [
      "✅ Keypoint disimpan: keypoints Rombak Preprocessing\\Angkat Tangan\\13.npy\n"
     ]
    },
    {
     "name": "stderr",
     "output_type": "stream",
     "text": [
      "Proses Angkat Tangan:  30%|███       | 6/20 [00:29<01:10,  5.04s/it]"
     ]
    },
    {
     "name": "stdout",
     "output_type": "stream",
     "text": [
      "✅ Keypoint disimpan: keypoints Rombak Preprocessing\\Angkat Tangan\\14.npy\n"
     ]
    },
    {
     "name": "stderr",
     "output_type": "stream",
     "text": [
      "Proses Angkat Tangan:  35%|███▌      | 7/20 [00:36<01:11,  5.48s/it]"
     ]
    },
    {
     "name": "stdout",
     "output_type": "stream",
     "text": [
      "✅ Keypoint disimpan: keypoints Rombak Preprocessing\\Angkat Tangan\\15.npy\n"
     ]
    },
    {
     "name": "stderr",
     "output_type": "stream",
     "text": [
      "Proses Angkat Tangan:  40%|████      | 8/20 [00:41<01:07,  5.61s/it]"
     ]
    },
    {
     "name": "stdout",
     "output_type": "stream",
     "text": [
      "✅ Keypoint disimpan: keypoints Rombak Preprocessing\\Angkat Tangan\\16.npy\n"
     ]
    },
    {
     "name": "stderr",
     "output_type": "stream",
     "text": [
      "Proses Angkat Tangan:  45%|████▌     | 9/20 [00:47<01:01,  5.55s/it]"
     ]
    },
    {
     "name": "stdout",
     "output_type": "stream",
     "text": [
      "✅ Keypoint disimpan: keypoints Rombak Preprocessing\\Angkat Tangan\\17.npy\n"
     ]
    },
    {
     "name": "stderr",
     "output_type": "stream",
     "text": [
      "Proses Angkat Tangan:  50%|█████     | 10/20 [00:51<00:50,  5.08s/it]"
     ]
    },
    {
     "name": "stdout",
     "output_type": "stream",
     "text": [
      "✅ Keypoint disimpan: keypoints Rombak Preprocessing\\Angkat Tangan\\18.npy\n"
     ]
    },
    {
     "name": "stderr",
     "output_type": "stream",
     "text": [
      "Proses Angkat Tangan:  55%|█████▌    | 11/20 [00:57<00:47,  5.33s/it]"
     ]
    },
    {
     "name": "stdout",
     "output_type": "stream",
     "text": [
      "✅ Keypoint disimpan: keypoints Rombak Preprocessing\\Angkat Tangan\\19.npy\n"
     ]
    },
    {
     "name": "stderr",
     "output_type": "stream",
     "text": [
      "Proses Angkat Tangan:  60%|██████    | 12/20 [01:01<00:39,  4.90s/it]"
     ]
    },
    {
     "name": "stdout",
     "output_type": "stream",
     "text": [
      "✅ Keypoint disimpan: keypoints Rombak Preprocessing\\Angkat Tangan\\2.npy\n"
     ]
    },
    {
     "name": "stderr",
     "output_type": "stream",
     "text": [
      "Proses Angkat Tangan:  65%|██████▌   | 13/20 [01:06<00:34,  4.95s/it]"
     ]
    },
    {
     "name": "stdout",
     "output_type": "stream",
     "text": [
      "✅ Keypoint disimpan: keypoints Rombak Preprocessing\\Angkat Tangan\\20.npy\n"
     ]
    },
    {
     "name": "stderr",
     "output_type": "stream",
     "text": [
      "Proses Angkat Tangan:  70%|███████   | 14/20 [01:12<00:31,  5.26s/it]"
     ]
    },
    {
     "name": "stdout",
     "output_type": "stream",
     "text": [
      "✅ Keypoint disimpan: keypoints Rombak Preprocessing\\Angkat Tangan\\3.npy\n"
     ]
    },
    {
     "name": "stderr",
     "output_type": "stream",
     "text": [
      "Proses Angkat Tangan:  75%|███████▌  | 15/20 [01:16<00:24,  4.96s/it]"
     ]
    },
    {
     "name": "stdout",
     "output_type": "stream",
     "text": [
      "✅ Keypoint disimpan: keypoints Rombak Preprocessing\\Angkat Tangan\\4.npy\n"
     ]
    },
    {
     "name": "stderr",
     "output_type": "stream",
     "text": [
      "Proses Angkat Tangan:  80%|████████  | 16/20 [01:21<00:20,  5.12s/it]"
     ]
    },
    {
     "name": "stdout",
     "output_type": "stream",
     "text": [
      "✅ Keypoint disimpan: keypoints Rombak Preprocessing\\Angkat Tangan\\5.npy\n"
     ]
    },
    {
     "name": "stderr",
     "output_type": "stream",
     "text": [
      "Proses Angkat Tangan:  85%|████████▌ | 17/20 [01:28<00:16,  5.52s/it]"
     ]
    },
    {
     "name": "stdout",
     "output_type": "stream",
     "text": [
      "✅ Keypoint disimpan: keypoints Rombak Preprocessing\\Angkat Tangan\\6.npy\n"
     ]
    },
    {
     "name": "stderr",
     "output_type": "stream",
     "text": [
      "Proses Angkat Tangan:  90%|█████████ | 18/20 [01:34<00:11,  5.54s/it]"
     ]
    },
    {
     "name": "stdout",
     "output_type": "stream",
     "text": [
      "✅ Keypoint disimpan: keypoints Rombak Preprocessing\\Angkat Tangan\\7.npy\n"
     ]
    },
    {
     "name": "stderr",
     "output_type": "stream",
     "text": [
      "Proses Angkat Tangan:  95%|█████████▌| 19/20 [01:39<00:05,  5.54s/it]"
     ]
    },
    {
     "name": "stdout",
     "output_type": "stream",
     "text": [
      "✅ Keypoint disimpan: keypoints Rombak Preprocessing\\Angkat Tangan\\8.npy\n"
     ]
    },
    {
     "name": "stderr",
     "output_type": "stream",
     "text": [
      "Proses Angkat Tangan: 100%|██████████| 20/20 [01:45<00:00,  5.30s/it]\n"
     ]
    },
    {
     "name": "stdout",
     "output_type": "stream",
     "text": [
      "✅ Keypoint disimpan: keypoints Rombak Preprocessing\\Angkat Tangan\\9.npy\n"
     ]
    },
    {
     "name": "stderr",
     "output_type": "stream",
     "text": [
      "Proses Lutut Turun:   5%|▌         | 1/20 [00:14<04:31, 14.27s/it]"
     ]
    },
    {
     "name": "stdout",
     "output_type": "stream",
     "text": [
      "✅ Keypoint disimpan: keypoints Rombak Preprocessing\\Lutut Turun\\1.npy\n"
     ]
    },
    {
     "name": "stderr",
     "output_type": "stream",
     "text": [
      "Proses Lutut Turun:  10%|█         | 2/20 [00:19<02:44,  9.12s/it]"
     ]
    },
    {
     "name": "stdout",
     "output_type": "stream",
     "text": [
      "✅ Keypoint disimpan: keypoints Rombak Preprocessing\\Lutut Turun\\10.npy\n"
     ]
    },
    {
     "name": "stderr",
     "output_type": "stream",
     "text": [
      "Proses Lutut Turun:  15%|█▌        | 3/20 [00:28<02:30,  8.84s/it]"
     ]
    },
    {
     "name": "stdout",
     "output_type": "stream",
     "text": [
      "✅ Keypoint disimpan: keypoints Rombak Preprocessing\\Lutut Turun\\11.npy\n"
     ]
    },
    {
     "name": "stderr",
     "output_type": "stream",
     "text": [
      "Proses Lutut Turun:  20%|██        | 4/20 [00:37<02:20,  8.80s/it]"
     ]
    },
    {
     "name": "stdout",
     "output_type": "stream",
     "text": [
      "✅ Keypoint disimpan: keypoints Rombak Preprocessing\\Lutut Turun\\12.npy\n"
     ]
    },
    {
     "name": "stderr",
     "output_type": "stream",
     "text": [
      "Proses Lutut Turun:  25%|██▌       | 5/20 [00:45<02:12,  8.85s/it]"
     ]
    },
    {
     "name": "stdout",
     "output_type": "stream",
     "text": [
      "✅ Keypoint disimpan: keypoints Rombak Preprocessing\\Lutut Turun\\13.npy\n"
     ]
    },
    {
     "name": "stderr",
     "output_type": "stream",
     "text": [
      "Proses Lutut Turun:  30%|███       | 6/20 [00:52<01:54,  8.18s/it]"
     ]
    },
    {
     "name": "stdout",
     "output_type": "stream",
     "text": [
      "✅ Keypoint disimpan: keypoints Rombak Preprocessing\\Lutut Turun\\14.npy\n"
     ]
    },
    {
     "name": "stderr",
     "output_type": "stream",
     "text": [
      "Proses Lutut Turun:  35%|███▌      | 7/20 [00:58<01:35,  7.37s/it]"
     ]
    },
    {
     "name": "stdout",
     "output_type": "stream",
     "text": [
      "✅ Keypoint disimpan: keypoints Rombak Preprocessing\\Lutut Turun\\15.npy\n"
     ]
    },
    {
     "name": "stderr",
     "output_type": "stream",
     "text": [
      "Proses Lutut Turun:  40%|████      | 8/20 [01:04<01:23,  6.95s/it]"
     ]
    },
    {
     "name": "stdout",
     "output_type": "stream",
     "text": [
      "✅ Keypoint disimpan: keypoints Rombak Preprocessing\\Lutut Turun\\16.npy\n"
     ]
    },
    {
     "name": "stderr",
     "output_type": "stream",
     "text": [
      "Proses Lutut Turun:  45%|████▌     | 9/20 [01:11<01:15,  6.90s/it]"
     ]
    },
    {
     "name": "stdout",
     "output_type": "stream",
     "text": [
      "✅ Keypoint disimpan: keypoints Rombak Preprocessing\\Lutut Turun\\17.npy\n"
     ]
    },
    {
     "name": "stderr",
     "output_type": "stream",
     "text": [
      "Proses Lutut Turun:  50%|█████     | 10/20 [01:17<01:06,  6.62s/it]"
     ]
    },
    {
     "name": "stdout",
     "output_type": "stream",
     "text": [
      "✅ Keypoint disimpan: keypoints Rombak Preprocessing\\Lutut Turun\\18.npy\n"
     ]
    },
    {
     "name": "stderr",
     "output_type": "stream",
     "text": [
      "Proses Lutut Turun:  55%|█████▌    | 11/20 [01:24<00:59,  6.62s/it]"
     ]
    },
    {
     "name": "stdout",
     "output_type": "stream",
     "text": [
      "✅ Keypoint disimpan: keypoints Rombak Preprocessing\\Lutut Turun\\19.npy\n"
     ]
    },
    {
     "name": "stderr",
     "output_type": "stream",
     "text": [
      "Proses Lutut Turun:  60%|██████    | 12/20 [01:36<01:07,  8.40s/it]"
     ]
    },
    {
     "name": "stdout",
     "output_type": "stream",
     "text": [
      "✅ Keypoint disimpan: keypoints Rombak Preprocessing\\Lutut Turun\\2.npy\n"
     ]
    },
    {
     "name": "stderr",
     "output_type": "stream",
     "text": [
      "Proses Lutut Turun:  65%|██████▌   | 13/20 [01:43<00:56,  8.04s/it]"
     ]
    },
    {
     "name": "stdout",
     "output_type": "stream",
     "text": [
      "✅ Keypoint disimpan: keypoints Rombak Preprocessing\\Lutut Turun\\20.npy\n"
     ]
    },
    {
     "name": "stderr",
     "output_type": "stream",
     "text": [
      "Proses Lutut Turun:  70%|███████   | 14/20 [01:48<00:43,  7.18s/it]"
     ]
    },
    {
     "name": "stdout",
     "output_type": "stream",
     "text": [
      "✅ Keypoint disimpan: keypoints Rombak Preprocessing\\Lutut Turun\\3.npy\n"
     ]
    },
    {
     "name": "stderr",
     "output_type": "stream",
     "text": [
      "Proses Lutut Turun:  75%|███████▌  | 15/20 [01:53<00:32,  6.53s/it]"
     ]
    },
    {
     "name": "stdout",
     "output_type": "stream",
     "text": [
      "✅ Keypoint disimpan: keypoints Rombak Preprocessing\\Lutut Turun\\4.npy\n"
     ]
    },
    {
     "name": "stderr",
     "output_type": "stream",
     "text": [
      "Proses Lutut Turun:  80%|████████  | 16/20 [01:59<00:24,  6.15s/it]"
     ]
    },
    {
     "name": "stdout",
     "output_type": "stream",
     "text": [
      "✅ Keypoint disimpan: keypoints Rombak Preprocessing\\Lutut Turun\\5.npy\n"
     ]
    },
    {
     "name": "stderr",
     "output_type": "stream",
     "text": [
      "Proses Lutut Turun:  85%|████████▌ | 17/20 [02:03<00:16,  5.53s/it]"
     ]
    },
    {
     "name": "stdout",
     "output_type": "stream",
     "text": [
      "✅ Keypoint disimpan: keypoints Rombak Preprocessing\\Lutut Turun\\6.npy\n"
     ]
    },
    {
     "name": "stderr",
     "output_type": "stream",
     "text": [
      "Proses Lutut Turun:  90%|█████████ | 18/20 [02:09<00:11,  5.90s/it]"
     ]
    },
    {
     "name": "stdout",
     "output_type": "stream",
     "text": [
      "✅ Keypoint disimpan: keypoints Rombak Preprocessing\\Lutut Turun\\7.npy\n"
     ]
    },
    {
     "name": "stderr",
     "output_type": "stream",
     "text": [
      "Proses Lutut Turun:  95%|█████████▌| 19/20 [02:16<00:06,  6.07s/it]"
     ]
    },
    {
     "name": "stdout",
     "output_type": "stream",
     "text": [
      "✅ Keypoint disimpan: keypoints Rombak Preprocessing\\Lutut Turun\\8.npy\n"
     ]
    },
    {
     "name": "stderr",
     "output_type": "stream",
     "text": [
      "Proses Lutut Turun: 100%|██████████| 20/20 [02:21<00:00,  7.10s/it]\n"
     ]
    },
    {
     "name": "stdout",
     "output_type": "stream",
     "text": [
      "✅ Keypoint disimpan: keypoints Rombak Preprocessing\\Lutut Turun\\9.npy\n"
     ]
    },
    {
     "name": "stderr",
     "output_type": "stream",
     "text": [
      "Proses Naikan Kepalan Kedepan:   5%|▌         | 1/20 [00:04<01:25,  4.49s/it]"
     ]
    },
    {
     "name": "stdout",
     "output_type": "stream",
     "text": [
      "✅ Keypoint disimpan: keypoints Rombak Preprocessing\\Naikan Kepalan Kedepan\\1.npy\n"
     ]
    },
    {
     "name": "stderr",
     "output_type": "stream",
     "text": [
      "Proses Naikan Kepalan Kedepan:  10%|█         | 2/20 [00:11<01:51,  6.18s/it]"
     ]
    },
    {
     "name": "stdout",
     "output_type": "stream",
     "text": [
      "✅ Keypoint disimpan: keypoints Rombak Preprocessing\\Naikan Kepalan Kedepan\\10.npy\n"
     ]
    },
    {
     "name": "stderr",
     "output_type": "stream",
     "text": [
      "Proses Naikan Kepalan Kedepan:  15%|█▌        | 3/20 [00:16<01:35,  5.65s/it]"
     ]
    },
    {
     "name": "stdout",
     "output_type": "stream",
     "text": [
      "✅ Keypoint disimpan: keypoints Rombak Preprocessing\\Naikan Kepalan Kedepan\\11.npy\n"
     ]
    },
    {
     "name": "stderr",
     "output_type": "stream",
     "text": [
      "Proses Naikan Kepalan Kedepan:  20%|██        | 4/20 [00:24<01:39,  6.24s/it]"
     ]
    },
    {
     "name": "stdout",
     "output_type": "stream",
     "text": [
      "✅ Keypoint disimpan: keypoints Rombak Preprocessing\\Naikan Kepalan Kedepan\\12.npy\n"
     ]
    },
    {
     "name": "stderr",
     "output_type": "stream",
     "text": [
      "Proses Naikan Kepalan Kedepan:  25%|██▌       | 5/20 [00:31<01:42,  6.86s/it]"
     ]
    },
    {
     "name": "stdout",
     "output_type": "stream",
     "text": [
      "✅ Keypoint disimpan: keypoints Rombak Preprocessing\\Naikan Kepalan Kedepan\\13.npy\n"
     ]
    },
    {
     "name": "stderr",
     "output_type": "stream",
     "text": [
      "Proses Naikan Kepalan Kedepan:  30%|███       | 6/20 [00:39<01:37,  6.96s/it]"
     ]
    },
    {
     "name": "stdout",
     "output_type": "stream",
     "text": [
      "✅ Keypoint disimpan: keypoints Rombak Preprocessing\\Naikan Kepalan Kedepan\\14.npy\n"
     ]
    },
    {
     "name": "stderr",
     "output_type": "stream",
     "text": [
      "Proses Naikan Kepalan Kedepan:  35%|███▌      | 7/20 [00:46<01:30,  6.97s/it]"
     ]
    },
    {
     "name": "stdout",
     "output_type": "stream",
     "text": [
      "✅ Keypoint disimpan: keypoints Rombak Preprocessing\\Naikan Kepalan Kedepan\\15.npy\n"
     ]
    },
    {
     "name": "stderr",
     "output_type": "stream",
     "text": [
      "Proses Naikan Kepalan Kedepan:  40%|████      | 8/20 [00:53<01:25,  7.09s/it]"
     ]
    },
    {
     "name": "stdout",
     "output_type": "stream",
     "text": [
      "✅ Keypoint disimpan: keypoints Rombak Preprocessing\\Naikan Kepalan Kedepan\\16.npy\n"
     ]
    },
    {
     "name": "stderr",
     "output_type": "stream",
     "text": [
      "Proses Naikan Kepalan Kedepan:  45%|████▌     | 9/20 [01:01<01:19,  7.27s/it]"
     ]
    },
    {
     "name": "stdout",
     "output_type": "stream",
     "text": [
      "✅ Keypoint disimpan: keypoints Rombak Preprocessing\\Naikan Kepalan Kedepan\\17.npy\n"
     ]
    },
    {
     "name": "stderr",
     "output_type": "stream",
     "text": [
      "Proses Naikan Kepalan Kedepan:  50%|█████     | 10/20 [01:07<01:11,  7.11s/it]"
     ]
    },
    {
     "name": "stdout",
     "output_type": "stream",
     "text": [
      "✅ Keypoint disimpan: keypoints Rombak Preprocessing\\Naikan Kepalan Kedepan\\18.npy\n"
     ]
    },
    {
     "name": "stderr",
     "output_type": "stream",
     "text": [
      "Proses Naikan Kepalan Kedepan:  55%|█████▌    | 11/20 [01:15<01:06,  7.40s/it]"
     ]
    },
    {
     "name": "stdout",
     "output_type": "stream",
     "text": [
      "✅ Keypoint disimpan: keypoints Rombak Preprocessing\\Naikan Kepalan Kedepan\\19.npy\n"
     ]
    },
    {
     "name": "stderr",
     "output_type": "stream",
     "text": [
      "Proses Naikan Kepalan Kedepan:  60%|██████    | 12/20 [01:22<00:56,  7.10s/it]"
     ]
    },
    {
     "name": "stdout",
     "output_type": "stream",
     "text": [
      "✅ Keypoint disimpan: keypoints Rombak Preprocessing\\Naikan Kepalan Kedepan\\2.npy\n"
     ]
    },
    {
     "name": "stderr",
     "output_type": "stream",
     "text": [
      "Proses Naikan Kepalan Kedepan:  65%|██████▌   | 13/20 [01:30<00:51,  7.38s/it]"
     ]
    },
    {
     "name": "stdout",
     "output_type": "stream",
     "text": [
      "✅ Keypoint disimpan: keypoints Rombak Preprocessing\\Naikan Kepalan Kedepan\\20.npy\n"
     ]
    },
    {
     "name": "stderr",
     "output_type": "stream",
     "text": [
      "Proses Naikan Kepalan Kedepan:  70%|███████   | 14/20 [01:35<00:40,  6.77s/it]"
     ]
    },
    {
     "name": "stdout",
     "output_type": "stream",
     "text": [
      "✅ Keypoint disimpan: keypoints Rombak Preprocessing\\Naikan Kepalan Kedepan\\3.npy\n"
     ]
    },
    {
     "name": "stderr",
     "output_type": "stream",
     "text": [
      "Proses Naikan Kepalan Kedepan:  75%|███████▌  | 15/20 [01:42<00:33,  6.77s/it]"
     ]
    },
    {
     "name": "stdout",
     "output_type": "stream",
     "text": [
      "✅ Keypoint disimpan: keypoints Rombak Preprocessing\\Naikan Kepalan Kedepan\\4.npy\n"
     ]
    },
    {
     "name": "stderr",
     "output_type": "stream",
     "text": [
      "Proses Naikan Kepalan Kedepan:  80%|████████  | 16/20 [01:55<00:34,  8.73s/it]"
     ]
    },
    {
     "name": "stdout",
     "output_type": "stream",
     "text": [
      "✅ Keypoint disimpan: keypoints Rombak Preprocessing\\Naikan Kepalan Kedepan\\5.npy\n"
     ]
    },
    {
     "name": "stderr",
     "output_type": "stream",
     "text": [
      "Proses Naikan Kepalan Kedepan:  85%|████████▌ | 17/20 [02:09<00:30, 10.14s/it]"
     ]
    },
    {
     "name": "stdout",
     "output_type": "stream",
     "text": [
      "✅ Keypoint disimpan: keypoints Rombak Preprocessing\\Naikan Kepalan Kedepan\\6.npy\n"
     ]
    },
    {
     "name": "stderr",
     "output_type": "stream",
     "text": [
      "Proses Naikan Kepalan Kedepan:  90%|█████████ | 18/20 [02:19<00:20, 10.05s/it]"
     ]
    },
    {
     "name": "stdout",
     "output_type": "stream",
     "text": [
      "✅ Keypoint disimpan: keypoints Rombak Preprocessing\\Naikan Kepalan Kedepan\\7.npy\n"
     ]
    },
    {
     "name": "stderr",
     "output_type": "stream",
     "text": [
      "Proses Naikan Kepalan Kedepan:  95%|█████████▌| 19/20 [02:25<00:08,  8.95s/it]"
     ]
    },
    {
     "name": "stdout",
     "output_type": "stream",
     "text": [
      "✅ Keypoint disimpan: keypoints Rombak Preprocessing\\Naikan Kepalan Kedepan\\8.npy\n"
     ]
    },
    {
     "name": "stderr",
     "output_type": "stream",
     "text": [
      "Proses Naikan Kepalan Kedepan: 100%|██████████| 20/20 [02:32<00:00,  7.65s/it]\n"
     ]
    },
    {
     "name": "stdout",
     "output_type": "stream",
     "text": [
      "✅ Keypoint disimpan: keypoints Rombak Preprocessing\\Naikan Kepalan Kedepan\\9.npy\n"
     ]
    },
    {
     "name": "stderr",
     "output_type": "stream",
     "text": [
      "Proses Rentangkan:   5%|▌         | 1/20 [00:04<01:16,  4.01s/it]"
     ]
    },
    {
     "name": "stdout",
     "output_type": "stream",
     "text": [
      "✅ Keypoint disimpan: keypoints Rombak Preprocessing\\Rentangkan\\1.npy\n"
     ]
    },
    {
     "name": "stderr",
     "output_type": "stream",
     "text": [
      "Proses Rentangkan:  10%|█         | 2/20 [00:10<01:37,  5.39s/it]"
     ]
    },
    {
     "name": "stdout",
     "output_type": "stream",
     "text": [
      "✅ Keypoint disimpan: keypoints Rombak Preprocessing\\Rentangkan\\10.npy\n"
     ]
    },
    {
     "name": "stderr",
     "output_type": "stream",
     "text": [
      "Proses Rentangkan:  15%|█▌        | 3/20 [00:13<01:15,  4.43s/it]"
     ]
    },
    {
     "name": "stdout",
     "output_type": "stream",
     "text": [
      "✅ Keypoint disimpan: keypoints Rombak Preprocessing\\Rentangkan\\11.npy\n"
     ]
    },
    {
     "name": "stderr",
     "output_type": "stream",
     "text": [
      "Proses Rentangkan:  20%|██        | 4/20 [00:19<01:17,  4.82s/it]"
     ]
    },
    {
     "name": "stdout",
     "output_type": "stream",
     "text": [
      "✅ Keypoint disimpan: keypoints Rombak Preprocessing\\Rentangkan\\12.npy\n"
     ]
    },
    {
     "name": "stderr",
     "output_type": "stream",
     "text": [
      "Proses Rentangkan:  25%|██▌       | 5/20 [00:25<01:20,  5.39s/it]"
     ]
    },
    {
     "name": "stdout",
     "output_type": "stream",
     "text": [
      "✅ Keypoint disimpan: keypoints Rombak Preprocessing\\Rentangkan\\13.npy\n"
     ]
    },
    {
     "name": "stderr",
     "output_type": "stream",
     "text": [
      "Proses Rentangkan:  30%|███       | 6/20 [00:32<01:21,  5.81s/it]"
     ]
    },
    {
     "name": "stdout",
     "output_type": "stream",
     "text": [
      "✅ Keypoint disimpan: keypoints Rombak Preprocessing\\Rentangkan\\14.npy\n"
     ]
    },
    {
     "name": "stderr",
     "output_type": "stream",
     "text": [
      "Proses Rentangkan:  35%|███▌      | 7/20 [00:38<01:19,  6.09s/it]"
     ]
    },
    {
     "name": "stdout",
     "output_type": "stream",
     "text": [
      "✅ Keypoint disimpan: keypoints Rombak Preprocessing\\Rentangkan\\15.npy\n"
     ]
    },
    {
     "name": "stderr",
     "output_type": "stream",
     "text": [
      "Proses Rentangkan:  40%|████      | 8/20 [00:44<01:12,  6.01s/it]"
     ]
    },
    {
     "name": "stdout",
     "output_type": "stream",
     "text": [
      "✅ Keypoint disimpan: keypoints Rombak Preprocessing\\Rentangkan\\16.npy\n"
     ]
    },
    {
     "name": "stderr",
     "output_type": "stream",
     "text": [
      "Proses Rentangkan:  45%|████▌     | 9/20 [00:51<01:07,  6.14s/it]"
     ]
    },
    {
     "name": "stdout",
     "output_type": "stream",
     "text": [
      "✅ Keypoint disimpan: keypoints Rombak Preprocessing\\Rentangkan\\17.npy\n"
     ]
    },
    {
     "name": "stderr",
     "output_type": "stream",
     "text": [
      "Proses Rentangkan:  50%|█████     | 10/20 [00:56<00:58,  5.87s/it]"
     ]
    },
    {
     "name": "stdout",
     "output_type": "stream",
     "text": [
      "✅ Keypoint disimpan: keypoints Rombak Preprocessing\\Rentangkan\\18.npy\n"
     ]
    },
    {
     "name": "stderr",
     "output_type": "stream",
     "text": [
      "Proses Rentangkan:  55%|█████▌    | 11/20 [01:01<00:50,  5.57s/it]"
     ]
    },
    {
     "name": "stdout",
     "output_type": "stream",
     "text": [
      "✅ Keypoint disimpan: keypoints Rombak Preprocessing\\Rentangkan\\19.npy\n"
     ]
    },
    {
     "name": "stderr",
     "output_type": "stream",
     "text": [
      "Proses Rentangkan:  60%|██████    | 12/20 [01:05<00:42,  5.32s/it]"
     ]
    },
    {
     "name": "stdout",
     "output_type": "stream",
     "text": [
      "✅ Keypoint disimpan: keypoints Rombak Preprocessing\\Rentangkan\\2.npy\n"
     ]
    },
    {
     "name": "stderr",
     "output_type": "stream",
     "text": [
      "Proses Rentangkan:  65%|██████▌   | 13/20 [01:11<00:37,  5.35s/it]"
     ]
    },
    {
     "name": "stdout",
     "output_type": "stream",
     "text": [
      "✅ Keypoint disimpan: keypoints Rombak Preprocessing\\Rentangkan\\20.npy\n"
     ]
    },
    {
     "name": "stderr",
     "output_type": "stream",
     "text": [
      "Proses Rentangkan:  70%|███████   | 14/20 [01:15<00:29,  4.87s/it]"
     ]
    },
    {
     "name": "stdout",
     "output_type": "stream",
     "text": [
      "✅ Keypoint disimpan: keypoints Rombak Preprocessing\\Rentangkan\\3.npy\n"
     ]
    },
    {
     "name": "stderr",
     "output_type": "stream",
     "text": [
      "Proses Rentangkan:  75%|███████▌  | 15/20 [01:20<00:24,  4.98s/it]"
     ]
    },
    {
     "name": "stdout",
     "output_type": "stream",
     "text": [
      "✅ Keypoint disimpan: keypoints Rombak Preprocessing\\Rentangkan\\4.npy\n"
     ]
    },
    {
     "name": "stderr",
     "output_type": "stream",
     "text": [
      "Proses Rentangkan:  80%|████████  | 16/20 [01:27<00:22,  5.61s/it]"
     ]
    },
    {
     "name": "stdout",
     "output_type": "stream",
     "text": [
      "✅ Keypoint disimpan: keypoints Rombak Preprocessing\\Rentangkan\\5.npy\n"
     ]
    },
    {
     "name": "stderr",
     "output_type": "stream",
     "text": [
      "Proses Rentangkan:  85%|████████▌ | 17/20 [01:36<00:19,  6.57s/it]"
     ]
    },
    {
     "name": "stdout",
     "output_type": "stream",
     "text": [
      "✅ Keypoint disimpan: keypoints Rombak Preprocessing\\Rentangkan\\6.npy\n"
     ]
    },
    {
     "name": "stderr",
     "output_type": "stream",
     "text": [
      "Proses Rentangkan:  90%|█████████ | 18/20 [01:42<00:13,  6.55s/it]"
     ]
    },
    {
     "name": "stdout",
     "output_type": "stream",
     "text": [
      "✅ Keypoint disimpan: keypoints Rombak Preprocessing\\Rentangkan\\7.npy\n"
     ]
    },
    {
     "name": "stderr",
     "output_type": "stream",
     "text": [
      "Proses Rentangkan:  95%|█████████▌| 19/20 [01:49<00:06,  6.61s/it]"
     ]
    },
    {
     "name": "stdout",
     "output_type": "stream",
     "text": [
      "✅ Keypoint disimpan: keypoints Rombak Preprocessing\\Rentangkan\\8.npy\n"
     ]
    },
    {
     "name": "stderr",
     "output_type": "stream",
     "text": [
      "Proses Rentangkan: 100%|██████████| 20/20 [01:53<00:00,  5.70s/it]"
     ]
    },
    {
     "name": "stdout",
     "output_type": "stream",
     "text": [
      "✅ Keypoint disimpan: keypoints Rombak Preprocessing\\Rentangkan\\9.npy\n"
     ]
    },
    {
     "name": "stderr",
     "output_type": "stream",
     "text": [
      "\n"
     ]
    }
   ],
   "source": [
    "# --- 4. Preprocessing - Ekstraksi Keypoints ---\n",
    "print(\"\\n--- Ekstraksi Keypoints ---\")\n",
    "pose_model = YOLO(\"yolov8n-pose.pt\")  \n",
    "keypoint_root = \"keypoints Rombak Preprocessing\"    \n",
    "\n",
    "if not os.path.exists(keypoint_root):\n",
    "    os.makedirs(keypoint_root)\n",
    "\n",
    "for action in actions:\n",
    "    video_dir = os.path.join(VIDEO_DIR, action)\n",
    "    save_dir = os.path.join(keypoint_root, action)\n",
    "    os.makedirs(save_dir, exist_ok=True)\n",
    "\n",
    "    for video_name in tqdm(os.listdir(video_dir), desc=f\"Proses {action}\"):\n",
    "        video_path = os.path.join(video_dir, video_name)\n",
    "        cap = cv2.VideoCapture(video_path)\n",
    "        sequence = []\n",
    "\n",
    "        while True:\n",
    "            ret, frame = cap.read()\n",
    "            if not ret:\n",
    "                break\n",
    "\n",
    "            results = pose_model.predict(source=frame, conf=0.5, save=False, verbose=False)\n",
    "            \n",
    "            if results and len(results[0].keypoints.xy) > 0:\n",
    "                kps = results[0].keypoints.xy[0].cpu().numpy()  \n",
    "                \n",
    "                if kps.shape[0] == 17:  \n",
    "                    h, w, _ = frame.shape\n",
    "                    normalized_kps = kps / np.array([w, h])\n",
    "                    sequence.append(normalized_kps.flatten())  \n",
    "                else:\n",
    "                    sequence.append(np.zeros(17 * 2)) \n",
    "            else:\n",
    "                sequence.append(np.zeros(17 * 2))\n",
    "\n",
    "        cap.release()\n",
    "\n",
    "        if len(sequence) > 0:\n",
    "            try:\n",
    "                sequence = np.array(sequence)\n",
    "                save_path = os.path.join(save_dir, video_name.replace(\".MOV\", \".npy\").replace(\".mp4\", \".npy\"))\n",
    "                np.save(save_path, sequence)\n",
    "                print(f\"✅ Keypoint disimpan: {save_path}\")\n",
    "            except ValueError as e:\n",
    "                print(f\"❌ Gagal menyimpan {video_name}: {e}\")\n",
    "        else:\n",
    "            print(f\"⚠️ Tidak ada keypoint valid di {video_name}\")"
   ]
  },
  {
   "cell_type": "markdown",
   "metadata": {},
   "source": [
    "### Persiapan Dataset untuk Training\n"
   ]
  },
  {
   "cell_type": "code",
   "execution_count": 37,
   "metadata": {
    "execution": {
     "iopub.execute_input": "2025-05-26T04:15:07.205837Z",
     "iopub.status.busy": "2025-05-26T04:15:07.205573Z",
     "iopub.status.idle": "2025-05-26T04:15:07.228506Z",
     "shell.execute_reply": "2025-05-26T04:15:07.227368Z",
     "shell.execute_reply.started": "2025-05-26T04:15:07.205817Z"
    },
    "trusted": true
   },
   "outputs": [
    {
     "name": "stdout",
     "output_type": "stream",
     "text": [
      "\n",
      "--- Persiapan Dataset untuk Training ---\n",
      "Data shape: (100, 30, 34)\n",
      "Labels shape: (100,)\n",
      "Groups shape: (100,)\n"
     ]
    }
   ],
   "source": [
    "# --- 4. Preprocessing - Persiapan Dataset untuk Training ---\n",
    "print(\"\\n--- Persiapan Dataset untuk Training ---\")\n",
    "X, y, groups = [], [], []\n",
    "\n",
    "for idx, action in enumerate(actions):\n",
    "    action_dir = os.path.join(keypoint_root, action)\n",
    "    if not os.path.exists(action_dir):\n",
    "        print(f\"Direktori '{action_dir}' tidak ditemukan. Melewati aksi ini.\")\n",
    "        continue\n",
    "\n",
    "    for file in os.listdir(action_dir):\n",
    "        if file.endswith('.npy'):\n",
    "            filepath = os.path.join(action_dir, file)\n",
    "            seq = np.load(filepath)\n",
    "            \n",
    "            desired_frames = 30\n",
    "            \n",
    "            original_n_frames = seq.shape[0]\n",
    "            \n",
    "            if original_n_frames == 0:\n",
    "                n_features = 17 * 2\n",
    "                resampled_seq = np.zeros((desired_frames, n_features))\n",
    "            else:\n",
    "                indices = np.linspace(0, original_n_frames - 1, num=desired_frames, dtype=int)\n",
    "                resampled_seq = seq[indices]\n",
    "            \n",
    "            X.append(resampled_seq)\n",
    "            y.append(idx)\n",
    "            groups.append(os.path.basename(file).split('.')[0]) \n",
    "\n",
    "X = np.array(X)\n",
    "y = np.array(y)\n",
    "groups = np.array(groups)\n",
    "\n",
    "print(\"Data shape:\", X.shape)\n",
    "print(\"Labels shape:\", y.shape)\n",
    "print(\"Groups shape:\", groups.shape)"
   ]
  },
  {
   "cell_type": "markdown",
   "metadata": {},
   "source": [
    "### Split Data"
   ]
  },
  {
   "cell_type": "code",
   "execution_count": 38,
   "metadata": {
    "execution": {
     "iopub.execute_input": "2025-05-26T04:15:07.297820Z",
     "iopub.status.busy": "2025-05-26T04:15:07.297401Z",
     "iopub.status.idle": "2025-05-26T04:15:07.321511Z",
     "shell.execute_reply": "2025-05-26T04:15:07.319960Z",
     "shell.execute_reply.started": "2025-05-26T04:15:07.297795Z"
    },
    "trusted": true
   },
   "outputs": [
    {
     "name": "stdout",
     "output_type": "stream",
     "text": [
      "\n",
      "--- Split Data dan Augmentasi Data ---\n",
      "Train shape (sebelum augmentasi): (80, 30, 34)\n",
      "Validation shape: (20, 30, 34)\n"
     ]
    },
    {
     "name": "stderr",
     "output_type": "stream",
     "text": [
      "Augmentasi Kecepatan: 100%|██████████| 80/80 [00:00<00:00, 5736.68it/s]"
     ]
    },
    {
     "name": "stdout",
     "output_type": "stream",
     "text": [
      "X_train_aug_final shape: (240, 30, 34)\n",
      "y_train_one_hot shape: (240, 5)\n"
     ]
    },
    {
     "name": "stderr",
     "output_type": "stream",
     "text": [
      "\n"
     ]
    }
   ],
   "source": [
    "# --- 4. Preprocessing - Split Data dan Augmentasi Data ---\n",
    "print(\"\\n--- Split Data dan Augmentasi Data ---\")\n",
    "\n",
    "# Fungsi augmentasi: tambahkan noise Gaussian pada keypoint\n",
    "def augment_data_noise(X_data, noise_level=0.01):\n",
    "    noise = np.random.normal(loc=0.0, scale=noise_level, size=X_data.shape)\n",
    "    X_aug = X_data + noise\n",
    "    return X_aug\n",
    "\n",
    "# Fungsi augmentasi: mengubah kecepatan simulasi urutan keypoint (melalui resampling)\n",
    "def augment_data_speed(sequence, target_len, speed_factor_range=(0.7, 1.3)):\n",
    "    \"\"\"\n",
    "    Mengubah kecepatan simulasi urutan keypoint.\n",
    "    sequence: urutan keypoint asli (numpy array shape (SEQ_LEN, num_features))\n",
    "    target_len: panjang sequence yang diinginkan (harus sama dengan SEQ_LEN training)\n",
    "    speed_factor_range: tuple (min_factor, max_factor) untuk kecepatan.\n",
    "                       <1.0 = memperlambat, >1.0 = mempercepat.\n",
    "    \"\"\"\n",
    "    original_len = sequence.shape[0]\n",
    "    num_features = sequence.shape[1]\n",
    "\n",
    "    # Pilih faktor kecepatan acak\n",
    "    speed_factor = np.random.uniform(speed_factor_range[0], speed_factor_range[1])\n",
    "\n",
    "    # Hitung panjang baru berdasarkan faktor kecepatan\n",
    "    # Pastikan panjang baru minimal 1 frame untuk menghindari error linspace\n",
    "    new_len_float = original_len / speed_factor\n",
    "    new_len = max(1, int(new_len_float))\n",
    "    \n",
    "    # Buat indeks untuk mengambil frame dari sequence asli\n",
    "    indices = np.linspace(0, original_len - 1, num=new_len, dtype=int)\n",
    "    \n",
    "    # Resample sequence berdasarkan indeks baru\n",
    "    resampled_sequence = sequence[indices]\n",
    "\n",
    "    # Padding atau truncation agar sesuai target_len (SEQ_LEN)\n",
    "    if resampled_sequence.shape[0] > target_len:\n",
    "        return resampled_sequence[:target_len, :]\n",
    "    elif resampled_sequence.shape[0] < target_len:\n",
    "        pad_width = target_len - resampled_sequence.shape[0]\n",
    "        return np.pad(resampled_sequence, ((0, pad_width), (0, 0)), mode='constant')\n",
    "    else:\n",
    "        return resampled_sequence\n",
    "\n",
    "RANDOM_SEED = 42\n",
    "gss = GroupShuffleSplit(n_splits=1, test_size=0.2, random_state=RANDOM_SEED)\n",
    "\n",
    "train_idx, val_idx = next(gss.split(X, y, groups))\n",
    "\n",
    "X_train, y_train = X[train_idx], y[train_idx]\n",
    "X_val, y_val = X[val_idx], y[val_idx]\n",
    "\n",
    "print(\"Train shape (sebelum augmentasi):\", X_train.shape)\n",
    "print(\"Validation shape:\", X_val.shape)\n",
    "\n",
    "# --- Terapkan Augmentasi Kecepatan dan Noise ---\n",
    "X_train_augmented = []\n",
    "# Anda bisa mengatur berapa kali setiap sampel di-augmentasi (misal: 3x)\n",
    "NUM_SPEED_AUGMENTATIONS = 2 # Selain data asli, buat 2 variasi kecepatan\n",
    "for i in tqdm(range(X_train.shape[0]), desc=\"Augmentasi Kecepatan\"):\n",
    "    original_seq = X_train[i]\n",
    "    X_train_augmented.append(original_seq) # Tambahkan data asli\n",
    "    for _ in range(NUM_SPEED_AUGMENTATIONS):\n",
    "        speed_augmented_seq = augment_data_speed(original_seq, sequence_length, speed_factor_range=(0.7, 1.3))\n",
    "        X_train_augmented.append(speed_augmented_seq)\n",
    "\n",
    "X_train_augmented = np.array(X_train_augmented)\n",
    "\n",
    "# Terapkan noise pada data yang sudah diaugmentasi kecepatan\n",
    "X_train_aug_final = augment_data_noise(X_train_augmented, noise_level=0.005)\n",
    "\n",
    "# One-hot encode label (sesuaikan y_train_one_hot dengan jumlah sampel yang diaugmentasi)\n",
    "num_classes = len(actions)\n",
    "# Ulangi label y_train sesuai dengan jumlah augmentasi\n",
    "y_train_repeated = np.repeat(y_train, NUM_SPEED_AUGMENTATIONS + 1, axis=0)\n",
    "y_train_one_hot = to_categorical(y_train_repeated, num_classes=num_classes)\n",
    "y_val_one_hot = to_categorical(y_val, num_classes=num_classes)\n",
    "\n",
    "print(\"X_train_aug_final shape:\", X_train_aug_final.shape)\n",
    "print(\"y_train_one_hot shape:\", y_train_one_hot.shape)"
   ]
  },
  {
   "cell_type": "markdown",
   "metadata": {},
   "source": [
    "# **5. Pembangunan Model**"
   ]
  },
  {
   "cell_type": "markdown",
   "metadata": {},
   "source": [
    "## **a. Pelatihan Model**"
   ]
  },
  {
   "cell_type": "code",
   "execution_count": 39,
   "metadata": {},
   "outputs": [
    {
     "name": "stdout",
     "output_type": "stream",
     "text": [
      "\n",
      "--- Pembangunan dan Pelatihan Model ---\n",
      "X_train_scaled shape: (240, 30, 34)\n",
      "X_val_scaled shape: (20, 30, 34)\n"
     ]
    }
   ],
   "source": [
    "# --- 5. Pembangunan dan Pelatihan Model ---\n",
    "print(\"\\n--- Pembangunan dan Pelatihan Model ---\")\n",
    "\n",
    "scaler = StandardScaler()\n",
    "\n",
    "sequence_length = X_train_aug_final.shape[1]\n",
    "num_features = X_train_aug_final.shape[2]\n",
    "\n",
    "X_train_flat = X_train_aug_final.reshape(-1, num_features)\n",
    "X_train_scaled = scaler.fit_transform(X_train_flat).reshape(-1, sequence_length, num_features)\n",
    "\n",
    "X_val_flat = X_val.reshape(-1, num_features)\n",
    "X_val_scaled = scaler.transform(X_val_flat).reshape(-1, sequence_length, num_features)\n",
    "\n",
    "print(\"X_train_scaled shape:\", X_train_scaled.shape)\n",
    "print(\"X_val_scaled shape:\", X_val_scaled.shape)\n"
   ]
  },
  {
   "cell_type": "code",
   "execution_count": 40,
   "metadata": {},
   "outputs": [
    {
     "name": "stdout",
     "output_type": "stream",
     "text": [
      "\n",
      "--- Melatih Model LSTM ---\n",
      "Epoch 1/200\n"
     ]
    },
    {
     "name": "stderr",
     "output_type": "stream",
     "text": [
      "c:\\Users\\M Fathurrahman\\Videos\\LASKAR AI\\ActionDetection-Yolo--2-\\coba\\lib\\site-packages\\keras\\src\\layers\\rnn\\rnn.py:199: UserWarning: Do not pass an `input_shape`/`input_dim` argument to a layer. When using Sequential models, prefer using an `Input(shape)` object as the first layer in the model instead.\n",
      "  super().__init__(**kwargs)\n"
     ]
    },
    {
     "name": "stdout",
     "output_type": "stream",
     "text": [
      "\n",
      "Epoch 1: val_loss improved from inf to 1.62586, saving model to model rombak preprocessing augmentasi/lstm_best.keras\n",
      "30/30 - 2s - 58ms/step - categorical_accuracy: 0.2000 - loss: 1.7281 - val_categorical_accuracy: 0.2000 - val_loss: 1.6259 - learning_rate: 1.0000e-04\n",
      "Epoch 2/200\n",
      "\n",
      "Epoch 2: val_loss improved from 1.62586 to 1.54600, saving model to model rombak preprocessing augmentasi/lstm_best.keras\n",
      "30/30 - 0s - 7ms/step - categorical_accuracy: 0.2250 - loss: 1.6191 - val_categorical_accuracy: 0.3500 - val_loss: 1.5460 - learning_rate: 1.0000e-04\n",
      "Epoch 3/200\n",
      "\n",
      "Epoch 3: val_loss improved from 1.54600 to 1.47172, saving model to model rombak preprocessing augmentasi/lstm_best.keras\n",
      "30/30 - 0s - 7ms/step - categorical_accuracy: 0.3250 - loss: 1.5295 - val_categorical_accuracy: 0.4500 - val_loss: 1.4717 - learning_rate: 1.0000e-04\n",
      "Epoch 4/200\n",
      "\n",
      "Epoch 4: val_loss improved from 1.47172 to 1.40276, saving model to model rombak preprocessing augmentasi/lstm_best.keras\n",
      "30/30 - 0s - 7ms/step - categorical_accuracy: 0.3667 - loss: 1.4629 - val_categorical_accuracy: 0.6000 - val_loss: 1.4028 - learning_rate: 1.0000e-04\n",
      "Epoch 5/200\n",
      "\n",
      "Epoch 5: val_loss improved from 1.40276 to 1.34138, saving model to model rombak preprocessing augmentasi/lstm_best.keras\n",
      "30/30 - 0s - 7ms/step - categorical_accuracy: 0.3500 - loss: 1.4517 - val_categorical_accuracy: 0.7000 - val_loss: 1.3414 - learning_rate: 1.0000e-04\n",
      "Epoch 6/200\n",
      "\n",
      "Epoch 6: val_loss improved from 1.34138 to 1.27670, saving model to model rombak preprocessing augmentasi/lstm_best.keras\n",
      "30/30 - 0s - 9ms/step - categorical_accuracy: 0.4750 - loss: 1.3480 - val_categorical_accuracy: 0.7000 - val_loss: 1.2767 - learning_rate: 1.0000e-04\n",
      "Epoch 7/200\n",
      "\n",
      "Epoch 7: val_loss improved from 1.27670 to 1.21781, saving model to model rombak preprocessing augmentasi/lstm_best.keras\n",
      "30/30 - 0s - 7ms/step - categorical_accuracy: 0.4792 - loss: 1.3079 - val_categorical_accuracy: 0.7000 - val_loss: 1.2178 - learning_rate: 1.0000e-04\n",
      "Epoch 8/200\n",
      "\n",
      "Epoch 8: val_loss improved from 1.21781 to 1.16186, saving model to model rombak preprocessing augmentasi/lstm_best.keras\n",
      "30/30 - 0s - 8ms/step - categorical_accuracy: 0.5875 - loss: 1.2313 - val_categorical_accuracy: 0.7000 - val_loss: 1.1619 - learning_rate: 1.0000e-04\n",
      "Epoch 9/200\n",
      "\n",
      "Epoch 9: val_loss improved from 1.16186 to 1.10459, saving model to model rombak preprocessing augmentasi/lstm_best.keras\n",
      "30/30 - 0s - 8ms/step - categorical_accuracy: 0.6667 - loss: 1.1486 - val_categorical_accuracy: 0.7000 - val_loss: 1.1046 - learning_rate: 1.0000e-04\n",
      "Epoch 10/200\n",
      "\n",
      "Epoch 10: val_loss improved from 1.10459 to 1.05199, saving model to model rombak preprocessing augmentasi/lstm_best.keras\n",
      "30/30 - 0s - 7ms/step - categorical_accuracy: 0.6792 - loss: 1.0603 - val_categorical_accuracy: 0.7000 - val_loss: 1.0520 - learning_rate: 1.0000e-04\n",
      "Epoch 11/200\n",
      "\n",
      "Epoch 11: val_loss improved from 1.05199 to 1.00221, saving model to model rombak preprocessing augmentasi/lstm_best.keras\n",
      "30/30 - 0s - 7ms/step - categorical_accuracy: 0.6750 - loss: 1.0694 - val_categorical_accuracy: 0.7000 - val_loss: 1.0022 - learning_rate: 1.0000e-04\n",
      "Epoch 12/200\n",
      "\n",
      "Epoch 12: val_loss improved from 1.00221 to 0.95265, saving model to model rombak preprocessing augmentasi/lstm_best.keras\n",
      "30/30 - 0s - 7ms/step - categorical_accuracy: 0.6958 - loss: 1.0083 - val_categorical_accuracy: 0.7000 - val_loss: 0.9526 - learning_rate: 1.0000e-04\n",
      "Epoch 13/200\n",
      "\n",
      "Epoch 13: val_loss improved from 0.95265 to 0.90528, saving model to model rombak preprocessing augmentasi/lstm_best.keras\n",
      "30/30 - 0s - 8ms/step - categorical_accuracy: 0.7250 - loss: 0.9466 - val_categorical_accuracy: 0.7500 - val_loss: 0.9053 - learning_rate: 1.0000e-04\n",
      "Epoch 14/200\n",
      "\n",
      "Epoch 14: val_loss improved from 0.90528 to 0.86011, saving model to model rombak preprocessing augmentasi/lstm_best.keras\n",
      "30/30 - 0s - 7ms/step - categorical_accuracy: 0.7792 - loss: 0.8556 - val_categorical_accuracy: 0.7000 - val_loss: 0.8601 - learning_rate: 1.0000e-04\n",
      "Epoch 15/200\n",
      "\n",
      "Epoch 15: val_loss improved from 0.86011 to 0.81973, saving model to model rombak preprocessing augmentasi/lstm_best.keras\n",
      "30/30 - 0s - 7ms/step - categorical_accuracy: 0.8000 - loss: 0.7827 - val_categorical_accuracy: 0.7000 - val_loss: 0.8197 - learning_rate: 1.0000e-04\n",
      "Epoch 16/200\n",
      "\n",
      "Epoch 16: val_loss improved from 0.81973 to 0.77737, saving model to model rombak preprocessing augmentasi/lstm_best.keras\n",
      "30/30 - 0s - 7ms/step - categorical_accuracy: 0.7500 - loss: 0.7773 - val_categorical_accuracy: 0.7000 - val_loss: 0.7774 - learning_rate: 1.0000e-04\n",
      "Epoch 17/200\n",
      "\n",
      "Epoch 17: val_loss improved from 0.77737 to 0.73765, saving model to model rombak preprocessing augmentasi/lstm_best.keras\n",
      "30/30 - 0s - 7ms/step - categorical_accuracy: 0.8292 - loss: 0.6986 - val_categorical_accuracy: 0.7000 - val_loss: 0.7376 - learning_rate: 1.0000e-04\n",
      "Epoch 18/200\n",
      "\n",
      "Epoch 18: val_loss improved from 0.73765 to 0.69191, saving model to model rombak preprocessing augmentasi/lstm_best.keras\n",
      "30/30 - 0s - 7ms/step - categorical_accuracy: 0.8208 - loss: 0.6768 - val_categorical_accuracy: 0.8500 - val_loss: 0.6919 - learning_rate: 1.0000e-04\n",
      "Epoch 19/200\n",
      "\n",
      "Epoch 19: val_loss improved from 0.69191 to 0.65346, saving model to model rombak preprocessing augmentasi/lstm_best.keras\n",
      "30/30 - 0s - 7ms/step - categorical_accuracy: 0.8625 - loss: 0.5859 - val_categorical_accuracy: 0.8500 - val_loss: 0.6535 - learning_rate: 1.0000e-04\n",
      "Epoch 20/200\n",
      "\n",
      "Epoch 20: val_loss improved from 0.65346 to 0.60956, saving model to model rombak preprocessing augmentasi/lstm_best.keras\n",
      "30/30 - 0s - 7ms/step - categorical_accuracy: 0.8167 - loss: 0.6085 - val_categorical_accuracy: 0.8500 - val_loss: 0.6096 - learning_rate: 1.0000e-04\n",
      "Epoch 21/200\n",
      "\n",
      "Epoch 21: val_loss improved from 0.60956 to 0.57140, saving model to model rombak preprocessing augmentasi/lstm_best.keras\n",
      "30/30 - 0s - 7ms/step - categorical_accuracy: 0.8792 - loss: 0.5198 - val_categorical_accuracy: 0.9000 - val_loss: 0.5714 - learning_rate: 1.0000e-04\n",
      "Epoch 22/200\n",
      "\n",
      "Epoch 22: val_loss improved from 0.57140 to 0.53113, saving model to model rombak preprocessing augmentasi/lstm_best.keras\n",
      "30/30 - 0s - 7ms/step - categorical_accuracy: 0.8875 - loss: 0.5034 - val_categorical_accuracy: 0.9000 - val_loss: 0.5311 - learning_rate: 1.0000e-04\n",
      "Epoch 23/200\n",
      "\n",
      "Epoch 23: val_loss improved from 0.53113 to 0.48473, saving model to model rombak preprocessing augmentasi/lstm_best.keras\n",
      "30/30 - 0s - 7ms/step - categorical_accuracy: 0.9125 - loss: 0.4228 - val_categorical_accuracy: 0.9000 - val_loss: 0.4847 - learning_rate: 1.0000e-04\n",
      "Epoch 24/200\n",
      "\n",
      "Epoch 24: val_loss improved from 0.48473 to 0.44661, saving model to model rombak preprocessing augmentasi/lstm_best.keras\n",
      "30/30 - 0s - 10ms/step - categorical_accuracy: 0.9250 - loss: 0.4021 - val_categorical_accuracy: 0.9000 - val_loss: 0.4466 - learning_rate: 1.0000e-04\n",
      "Epoch 25/200\n",
      "\n",
      "Epoch 25: val_loss improved from 0.44661 to 0.41025, saving model to model rombak preprocessing augmentasi/lstm_best.keras\n",
      "30/30 - 0s - 7ms/step - categorical_accuracy: 0.9583 - loss: 0.3544 - val_categorical_accuracy: 0.9000 - val_loss: 0.4102 - learning_rate: 1.0000e-04\n",
      "Epoch 26/200\n",
      "\n",
      "Epoch 26: val_loss improved from 0.41025 to 0.38042, saving model to model rombak preprocessing augmentasi/lstm_best.keras\n",
      "30/30 - 0s - 7ms/step - categorical_accuracy: 0.9083 - loss: 0.3761 - val_categorical_accuracy: 0.9000 - val_loss: 0.3804 - learning_rate: 1.0000e-04\n",
      "Epoch 27/200\n",
      "\n",
      "Epoch 27: val_loss improved from 0.38042 to 0.34970, saving model to model rombak preprocessing augmentasi/lstm_best.keras\n",
      "30/30 - 0s - 7ms/step - categorical_accuracy: 0.9625 - loss: 0.3029 - val_categorical_accuracy: 0.9000 - val_loss: 0.3497 - learning_rate: 1.0000e-04\n",
      "Epoch 28/200\n",
      "\n",
      "Epoch 28: val_loss improved from 0.34970 to 0.32260, saving model to model rombak preprocessing augmentasi/lstm_best.keras\n",
      "30/30 - 0s - 7ms/step - categorical_accuracy: 0.9583 - loss: 0.2842 - val_categorical_accuracy: 0.9500 - val_loss: 0.3226 - learning_rate: 1.0000e-04\n",
      "Epoch 29/200\n",
      "\n",
      "Epoch 29: val_loss improved from 0.32260 to 0.28874, saving model to model rombak preprocessing augmentasi/lstm_best.keras\n",
      "30/30 - 0s - 7ms/step - categorical_accuracy: 0.9500 - loss: 0.2847 - val_categorical_accuracy: 1.0000 - val_loss: 0.2887 - learning_rate: 1.0000e-04\n",
      "Epoch 30/200\n",
      "\n",
      "Epoch 30: val_loss improved from 0.28874 to 0.25250, saving model to model rombak preprocessing augmentasi/lstm_best.keras\n",
      "30/30 - 0s - 7ms/step - categorical_accuracy: 0.9625 - loss: 0.2554 - val_categorical_accuracy: 1.0000 - val_loss: 0.2525 - learning_rate: 1.0000e-04\n",
      "Epoch 31/200\n",
      "\n",
      "Epoch 31: val_loss improved from 0.25250 to 0.23567, saving model to model rombak preprocessing augmentasi/lstm_best.keras\n",
      "30/30 - 0s - 7ms/step - categorical_accuracy: 0.9542 - loss: 0.2617 - val_categorical_accuracy: 1.0000 - val_loss: 0.2357 - learning_rate: 1.0000e-04\n",
      "Epoch 32/200\n",
      "\n",
      "Epoch 32: val_loss did not improve from 0.23567\n",
      "30/30 - 0s - 6ms/step - categorical_accuracy: 0.9667 - loss: 0.2561 - val_categorical_accuracy: 1.0000 - val_loss: 0.2360 - learning_rate: 1.0000e-04\n",
      "Epoch 33/200\n",
      "\n",
      "Epoch 33: val_loss improved from 0.23567 to 0.19713, saving model to model rombak preprocessing augmentasi/lstm_best.keras\n",
      "30/30 - 0s - 7ms/step - categorical_accuracy: 0.9667 - loss: 0.2247 - val_categorical_accuracy: 1.0000 - val_loss: 0.1971 - learning_rate: 1.0000e-04\n",
      "Epoch 34/200\n",
      "\n",
      "Epoch 34: val_loss improved from 0.19713 to 0.18104, saving model to model rombak preprocessing augmentasi/lstm_best.keras\n",
      "30/30 - 0s - 7ms/step - categorical_accuracy: 0.9583 - loss: 0.2069 - val_categorical_accuracy: 1.0000 - val_loss: 0.1810 - learning_rate: 1.0000e-04\n",
      "Epoch 35/200\n",
      "\n",
      "Epoch 35: val_loss improved from 0.18104 to 0.16289, saving model to model rombak preprocessing augmentasi/lstm_best.keras\n",
      "30/30 - 0s - 7ms/step - categorical_accuracy: 0.9667 - loss: 0.1863 - val_categorical_accuracy: 1.0000 - val_loss: 0.1629 - learning_rate: 1.0000e-04\n",
      "Epoch 36/200\n",
      "\n",
      "Epoch 36: val_loss improved from 0.16289 to 0.14914, saving model to model rombak preprocessing augmentasi/lstm_best.keras\n",
      "30/30 - 0s - 7ms/step - categorical_accuracy: 0.9833 - loss: 0.1734 - val_categorical_accuracy: 1.0000 - val_loss: 0.1491 - learning_rate: 1.0000e-04\n",
      "Epoch 37/200\n",
      "\n",
      "Epoch 37: val_loss improved from 0.14914 to 0.13949, saving model to model rombak preprocessing augmentasi/lstm_best.keras\n",
      "30/30 - 0s - 7ms/step - categorical_accuracy: 0.9750 - loss: 0.1515 - val_categorical_accuracy: 1.0000 - val_loss: 0.1395 - learning_rate: 1.0000e-04\n",
      "Epoch 38/200\n",
      "\n",
      "Epoch 38: val_loss improved from 0.13949 to 0.13538, saving model to model rombak preprocessing augmentasi/lstm_best.keras\n",
      "30/30 - 0s - 7ms/step - categorical_accuracy: 0.9833 - loss: 0.1680 - val_categorical_accuracy: 1.0000 - val_loss: 0.1354 - learning_rate: 1.0000e-04\n",
      "Epoch 39/200\n",
      "\n",
      "Epoch 39: val_loss did not improve from 0.13538\n",
      "30/30 - 0s - 6ms/step - categorical_accuracy: 0.9833 - loss: 0.1353 - val_categorical_accuracy: 1.0000 - val_loss: 0.1385 - learning_rate: 1.0000e-04\n",
      "Epoch 40/200\n",
      "\n",
      "Epoch 40: val_loss did not improve from 0.13538\n",
      "30/30 - 0s - 6ms/step - categorical_accuracy: 0.9583 - loss: 0.1744 - val_categorical_accuracy: 1.0000 - val_loss: 0.1706 - learning_rate: 1.0000e-04\n",
      "Epoch 41/200\n",
      "\n",
      "Epoch 41: val_loss improved from 0.13538 to 0.11650, saving model to model rombak preprocessing augmentasi/lstm_best.keras\n",
      "30/30 - 0s - 7ms/step - categorical_accuracy: 0.9792 - loss: 0.1657 - val_categorical_accuracy: 1.0000 - val_loss: 0.1165 - learning_rate: 1.0000e-04\n",
      "Epoch 42/200\n",
      "\n",
      "Epoch 42: val_loss improved from 0.11650 to 0.10807, saving model to model rombak preprocessing augmentasi/lstm_best.keras\n",
      "30/30 - 0s - 7ms/step - categorical_accuracy: 0.9792 - loss: 0.1451 - val_categorical_accuracy: 1.0000 - val_loss: 0.1081 - learning_rate: 1.0000e-04\n",
      "Epoch 43/200\n",
      "\n",
      "Epoch 43: val_loss improved from 0.10807 to 0.10752, saving model to model rombak preprocessing augmentasi/lstm_best.keras\n",
      "30/30 - 0s - 7ms/step - categorical_accuracy: 0.9875 - loss: 0.1477 - val_categorical_accuracy: 1.0000 - val_loss: 0.1075 - learning_rate: 1.0000e-04\n",
      "Epoch 44/200\n",
      "\n",
      "Epoch 44: val_loss improved from 0.10752 to 0.09968, saving model to model rombak preprocessing augmentasi/lstm_best.keras\n",
      "30/30 - 0s - 7ms/step - categorical_accuracy: 0.9917 - loss: 0.0911 - val_categorical_accuracy: 1.0000 - val_loss: 0.0997 - learning_rate: 1.0000e-04\n",
      "Epoch 45/200\n",
      "\n",
      "Epoch 45: val_loss did not improve from 0.09968\n",
      "30/30 - 0s - 6ms/step - categorical_accuracy: 0.9833 - loss: 0.1162 - val_categorical_accuracy: 1.0000 - val_loss: 0.1009 - learning_rate: 1.0000e-04\n",
      "Epoch 46/200\n",
      "\n",
      "Epoch 46: val_loss did not improve from 0.09968\n",
      "30/30 - 0s - 6ms/step - categorical_accuracy: 0.9875 - loss: 0.1095 - val_categorical_accuracy: 1.0000 - val_loss: 0.1269 - learning_rate: 1.0000e-04\n",
      "Epoch 47/200\n",
      "\n",
      "Epoch 47: val_loss improved from 0.09968 to 0.08788, saving model to model rombak preprocessing augmentasi/lstm_best.keras\n",
      "30/30 - 0s - 7ms/step - categorical_accuracy: 0.9792 - loss: 0.1052 - val_categorical_accuracy: 1.0000 - val_loss: 0.0879 - learning_rate: 1.0000e-04\n",
      "Epoch 48/200\n",
      "\n",
      "Epoch 48: val_loss improved from 0.08788 to 0.08398, saving model to model rombak preprocessing augmentasi/lstm_best.keras\n",
      "30/30 - 0s - 8ms/step - categorical_accuracy: 0.9833 - loss: 0.1177 - val_categorical_accuracy: 1.0000 - val_loss: 0.0840 - learning_rate: 1.0000e-04\n",
      "Epoch 49/200\n",
      "\n",
      "Epoch 49: val_loss improved from 0.08398 to 0.08160, saving model to model rombak preprocessing augmentasi/lstm_best.keras\n",
      "30/30 - 0s - 7ms/step - categorical_accuracy: 0.9875 - loss: 0.1138 - val_categorical_accuracy: 1.0000 - val_loss: 0.0816 - learning_rate: 1.0000e-04\n",
      "Epoch 50/200\n",
      "\n",
      "Epoch 50: val_loss improved from 0.08160 to 0.07588, saving model to model rombak preprocessing augmentasi/lstm_best.keras\n",
      "30/30 - 0s - 7ms/step - categorical_accuracy: 0.9792 - loss: 0.1073 - val_categorical_accuracy: 1.0000 - val_loss: 0.0759 - learning_rate: 1.0000e-04\n",
      "Epoch 51/200\n",
      "\n",
      "Epoch 51: val_loss did not improve from 0.07588\n",
      "30/30 - 0s - 6ms/step - categorical_accuracy: 0.9875 - loss: 0.0834 - val_categorical_accuracy: 1.0000 - val_loss: 0.0959 - learning_rate: 1.0000e-04\n",
      "Epoch 52/200\n",
      "\n",
      "Epoch 52: val_loss improved from 0.07588 to 0.07205, saving model to model rombak preprocessing augmentasi/lstm_best.keras\n",
      "30/30 - 0s - 7ms/step - categorical_accuracy: 0.9917 - loss: 0.0826 - val_categorical_accuracy: 1.0000 - val_loss: 0.0721 - learning_rate: 1.0000e-04\n",
      "Epoch 53/200\n",
      "\n",
      "Epoch 53: val_loss improved from 0.07205 to 0.06707, saving model to model rombak preprocessing augmentasi/lstm_best.keras\n",
      "30/30 - 0s - 7ms/step - categorical_accuracy: 0.9875 - loss: 0.0760 - val_categorical_accuracy: 1.0000 - val_loss: 0.0671 - learning_rate: 1.0000e-04\n",
      "Epoch 54/200\n",
      "\n",
      "Epoch 54: val_loss did not improve from 0.06707\n",
      "30/30 - 0s - 6ms/step - categorical_accuracy: 0.9875 - loss: 0.0703 - val_categorical_accuracy: 1.0000 - val_loss: 0.0675 - learning_rate: 1.0000e-04\n",
      "Epoch 55/200\n",
      "\n",
      "Epoch 55: val_loss improved from 0.06707 to 0.06514, saving model to model rombak preprocessing augmentasi/lstm_best.keras\n",
      "30/30 - 0s - 7ms/step - categorical_accuracy: 0.9958 - loss: 0.0657 - val_categorical_accuracy: 1.0000 - val_loss: 0.0651 - learning_rate: 1.0000e-04\n",
      "Epoch 56/200\n",
      "\n",
      "Epoch 56: val_loss improved from 0.06514 to 0.06180, saving model to model rombak preprocessing augmentasi/lstm_best.keras\n",
      "30/30 - 0s - 7ms/step - categorical_accuracy: 0.9833 - loss: 0.0826 - val_categorical_accuracy: 1.0000 - val_loss: 0.0618 - learning_rate: 1.0000e-04\n",
      "Epoch 57/200\n",
      "\n",
      "Epoch 57: val_loss improved from 0.06180 to 0.05700, saving model to model rombak preprocessing augmentasi/lstm_best.keras\n",
      "30/30 - 0s - 7ms/step - categorical_accuracy: 0.9917 - loss: 0.0613 - val_categorical_accuracy: 1.0000 - val_loss: 0.0570 - learning_rate: 1.0000e-04\n",
      "Epoch 58/200\n",
      "\n",
      "Epoch 58: val_loss did not improve from 0.05700\n",
      "30/30 - 0s - 6ms/step - categorical_accuracy: 0.9875 - loss: 0.0718 - val_categorical_accuracy: 1.0000 - val_loss: 0.0701 - learning_rate: 1.0000e-04\n",
      "Epoch 59/200\n",
      "\n",
      "Epoch 59: val_loss did not improve from 0.05700\n",
      "30/30 - 0s - 6ms/step - categorical_accuracy: 0.9917 - loss: 0.0648 - val_categorical_accuracy: 1.0000 - val_loss: 0.0582 - learning_rate: 1.0000e-04\n",
      "Epoch 60/200\n",
      "\n",
      "Epoch 60: val_loss improved from 0.05700 to 0.05532, saving model to model rombak preprocessing augmentasi/lstm_best.keras\n",
      "30/30 - 0s - 7ms/step - categorical_accuracy: 0.9750 - loss: 0.0965 - val_categorical_accuracy: 1.0000 - val_loss: 0.0553 - learning_rate: 1.0000e-04\n",
      "Epoch 61/200\n",
      "\n",
      "Epoch 61: val_loss improved from 0.05532 to 0.05174, saving model to model rombak preprocessing augmentasi/lstm_best.keras\n",
      "30/30 - 0s - 7ms/step - categorical_accuracy: 0.9875 - loss: 0.0689 - val_categorical_accuracy: 1.0000 - val_loss: 0.0517 - learning_rate: 1.0000e-04\n",
      "Epoch 62/200\n",
      "\n",
      "Epoch 62: val_loss improved from 0.05174 to 0.04993, saving model to model rombak preprocessing augmentasi/lstm_best.keras\n",
      "30/30 - 0s - 7ms/step - categorical_accuracy: 0.9917 - loss: 0.0562 - val_categorical_accuracy: 1.0000 - val_loss: 0.0499 - learning_rate: 1.0000e-04\n",
      "Epoch 63/200\n",
      "\n",
      "Epoch 63: val_loss improved from 0.04993 to 0.04776, saving model to model rombak preprocessing augmentasi/lstm_best.keras\n",
      "30/30 - 0s - 7ms/step - categorical_accuracy: 0.9875 - loss: 0.0644 - val_categorical_accuracy: 1.0000 - val_loss: 0.0478 - learning_rate: 1.0000e-04\n",
      "Epoch 64/200\n",
      "\n",
      "Epoch 64: val_loss improved from 0.04776 to 0.04498, saving model to model rombak preprocessing augmentasi/lstm_best.keras\n",
      "30/30 - 0s - 7ms/step - categorical_accuracy: 0.9958 - loss: 0.0397 - val_categorical_accuracy: 1.0000 - val_loss: 0.0450 - learning_rate: 1.0000e-04\n",
      "Epoch 65/200\n",
      "\n",
      "Epoch 65: val_loss did not improve from 0.04498\n",
      "30/30 - 0s - 6ms/step - categorical_accuracy: 0.9917 - loss: 0.0517 - val_categorical_accuracy: 1.0000 - val_loss: 0.0467 - learning_rate: 1.0000e-04\n",
      "Epoch 66/200\n",
      "\n",
      "Epoch 66: val_loss did not improve from 0.04498\n",
      "30/30 - 0s - 6ms/step - categorical_accuracy: 0.9875 - loss: 0.0531 - val_categorical_accuracy: 1.0000 - val_loss: 0.0461 - learning_rate: 1.0000e-04\n",
      "Epoch 67/200\n",
      "\n",
      "Epoch 67: val_loss did not improve from 0.04498\n",
      "30/30 - 0s - 6ms/step - categorical_accuracy: 0.9792 - loss: 0.0672 - val_categorical_accuracy: 1.0000 - val_loss: 0.0475 - learning_rate: 1.0000e-04\n",
      "Epoch 68/200\n",
      "\n",
      "Epoch 68: val_loss did not improve from 0.04498\n",
      "30/30 - 0s - 6ms/step - categorical_accuracy: 0.9917 - loss: 0.0575 - val_categorical_accuracy: 0.9000 - val_loss: 0.1429 - learning_rate: 1.0000e-04\n",
      "Epoch 69/200\n",
      "\n",
      "Epoch 69: val_loss improved from 0.04498 to 0.04112, saving model to model rombak preprocessing augmentasi/lstm_best.keras\n",
      "30/30 - 0s - 7ms/step - categorical_accuracy: 0.9875 - loss: 0.0526 - val_categorical_accuracy: 1.0000 - val_loss: 0.0411 - learning_rate: 1.0000e-04\n",
      "Epoch 70/200\n",
      "\n",
      "Epoch 70: val_loss did not improve from 0.04112\n",
      "30/30 - 0s - 6ms/step - categorical_accuracy: 0.9917 - loss: 0.0443 - val_categorical_accuracy: 1.0000 - val_loss: 0.0432 - learning_rate: 1.0000e-04\n",
      "Epoch 71/200\n",
      "\n",
      "Epoch 71: val_loss improved from 0.04112 to 0.03864, saving model to model rombak preprocessing augmentasi/lstm_best.keras\n",
      "30/30 - 0s - 7ms/step - categorical_accuracy: 0.9875 - loss: 0.0675 - val_categorical_accuracy: 1.0000 - val_loss: 0.0386 - learning_rate: 1.0000e-04\n",
      "Epoch 72/200\n",
      "\n",
      "Epoch 72: val_loss improved from 0.03864 to 0.03796, saving model to model rombak preprocessing augmentasi/lstm_best.keras\n",
      "30/30 - 0s - 7ms/step - categorical_accuracy: 0.9875 - loss: 0.0576 - val_categorical_accuracy: 1.0000 - val_loss: 0.0380 - learning_rate: 1.0000e-04\n",
      "Epoch 73/200\n",
      "\n",
      "Epoch 73: val_loss improved from 0.03796 to 0.03578, saving model to model rombak preprocessing augmentasi/lstm_best.keras\n",
      "30/30 - 0s - 7ms/step - categorical_accuracy: 0.9875 - loss: 0.0535 - val_categorical_accuracy: 1.0000 - val_loss: 0.0358 - learning_rate: 1.0000e-04\n",
      "Epoch 74/200\n",
      "\n",
      "Epoch 74: val_loss did not improve from 0.03578\n",
      "30/30 - 0s - 6ms/step - categorical_accuracy: 0.9875 - loss: 0.0435 - val_categorical_accuracy: 1.0000 - val_loss: 0.0379 - learning_rate: 1.0000e-04\n",
      "Epoch 75/200\n",
      "\n",
      "Epoch 75: val_loss did not improve from 0.03578\n",
      "30/30 - 0s - 6ms/step - categorical_accuracy: 0.9875 - loss: 0.0556 - val_categorical_accuracy: 1.0000 - val_loss: 0.0364 - learning_rate: 1.0000e-04\n",
      "Epoch 76/200\n",
      "\n",
      "Epoch 76: val_loss improved from 0.03578 to 0.03342, saving model to model rombak preprocessing augmentasi/lstm_best.keras\n",
      "30/30 - 0s - 7ms/step - categorical_accuracy: 0.9875 - loss: 0.0604 - val_categorical_accuracy: 1.0000 - val_loss: 0.0334 - learning_rate: 1.0000e-04\n",
      "Epoch 77/200\n",
      "\n",
      "Epoch 77: val_loss improved from 0.03342 to 0.03255, saving model to model rombak preprocessing augmentasi/lstm_best.keras\n",
      "30/30 - 0s - 7ms/step - categorical_accuracy: 0.9875 - loss: 0.0409 - val_categorical_accuracy: 1.0000 - val_loss: 0.0325 - learning_rate: 1.0000e-04\n",
      "Epoch 78/200\n",
      "\n",
      "Epoch 78: val_loss improved from 0.03255 to 0.03099, saving model to model rombak preprocessing augmentasi/lstm_best.keras\n",
      "30/30 - 0s - 7ms/step - categorical_accuracy: 0.9875 - loss: 0.0494 - val_categorical_accuracy: 1.0000 - val_loss: 0.0310 - learning_rate: 1.0000e-04\n",
      "Epoch 79/200\n",
      "\n",
      "Epoch 79: val_loss improved from 0.03099 to 0.03092, saving model to model rombak preprocessing augmentasi/lstm_best.keras\n",
      "30/30 - 0s - 8ms/step - categorical_accuracy: 0.9792 - loss: 0.0684 - val_categorical_accuracy: 1.0000 - val_loss: 0.0309 - learning_rate: 1.0000e-04\n",
      "Epoch 80/200\n",
      "\n",
      "Epoch 80: val_loss did not improve from 0.03092\n",
      "30/30 - 0s - 6ms/step - categorical_accuracy: 0.9917 - loss: 0.0365 - val_categorical_accuracy: 1.0000 - val_loss: 0.0336 - learning_rate: 1.0000e-04\n",
      "Epoch 81/200\n",
      "\n",
      "Epoch 81: val_loss did not improve from 0.03092\n",
      "30/30 - 0s - 6ms/step - categorical_accuracy: 0.9875 - loss: 0.0544 - val_categorical_accuracy: 1.0000 - val_loss: 0.0327 - learning_rate: 1.0000e-04\n",
      "Epoch 82/200\n",
      "\n",
      "Epoch 82: val_loss did not improve from 0.03092\n",
      "30/30 - 0s - 6ms/step - categorical_accuracy: 0.9917 - loss: 0.0420 - val_categorical_accuracy: 1.0000 - val_loss: 0.0395 - learning_rate: 1.0000e-04\n",
      "Epoch 83/200\n",
      "\n",
      "Epoch 83: val_loss did not improve from 0.03092\n",
      "30/30 - 0s - 6ms/step - categorical_accuracy: 0.9875 - loss: 0.0420 - val_categorical_accuracy: 0.9000 - val_loss: 0.3781 - learning_rate: 1.0000e-04\n",
      "Epoch 84/200\n",
      "\n",
      "Epoch 84: val_loss did not improve from 0.03092\n",
      "30/30 - 0s - 6ms/step - categorical_accuracy: 0.9833 - loss: 0.0429 - val_categorical_accuracy: 0.9000 - val_loss: 0.3568 - learning_rate: 1.0000e-04\n",
      "Epoch 85/200\n",
      "\n",
      "Epoch 85: val_loss did not improve from 0.03092\n",
      "30/30 - 0s - 6ms/step - categorical_accuracy: 0.9792 - loss: 0.0602 - val_categorical_accuracy: 1.0000 - val_loss: 0.0327 - learning_rate: 1.0000e-04\n",
      "Epoch 86/200\n",
      "\n",
      "Epoch 86: val_loss improved from 0.03092 to 0.03030, saving model to model rombak preprocessing augmentasi/lstm_best.keras\n",
      "30/30 - 0s - 7ms/step - categorical_accuracy: 0.9875 - loss: 0.0425 - val_categorical_accuracy: 1.0000 - val_loss: 0.0303 - learning_rate: 1.0000e-04\n",
      "Epoch 87/200\n",
      "\n",
      "Epoch 87: val_loss improved from 0.03030 to 0.02970, saving model to model rombak preprocessing augmentasi/lstm_best.keras\n",
      "30/30 - 0s - 7ms/step - categorical_accuracy: 0.9917 - loss: 0.0358 - val_categorical_accuracy: 1.0000 - val_loss: 0.0297 - learning_rate: 1.0000e-04\n",
      "Epoch 88/200\n",
      "\n",
      "Epoch 88: val_loss did not improve from 0.02970\n",
      "30/30 - 0s - 6ms/step - categorical_accuracy: 0.9875 - loss: 0.0501 - val_categorical_accuracy: 1.0000 - val_loss: 0.0308 - learning_rate: 1.0000e-04\n",
      "Epoch 89/200\n",
      "\n",
      "Epoch 89: val_loss did not improve from 0.02970\n",
      "30/30 - 0s - 6ms/step - categorical_accuracy: 0.9917 - loss: 0.0336 - val_categorical_accuracy: 1.0000 - val_loss: 0.0305 - learning_rate: 1.0000e-04\n",
      "Epoch 90/200\n",
      "\n",
      "Epoch 90: val_loss did not improve from 0.02970\n",
      "30/30 - 0s - 6ms/step - categorical_accuracy: 0.9917 - loss: 0.0390 - val_categorical_accuracy: 1.0000 - val_loss: 0.0378 - learning_rate: 1.0000e-04\n",
      "Epoch 91/200\n",
      "\n",
      "Epoch 91: val_loss did not improve from 0.02970\n",
      "30/30 - 0s - 6ms/step - categorical_accuracy: 0.9917 - loss: 0.0311 - val_categorical_accuracy: 1.0000 - val_loss: 0.0364 - learning_rate: 1.0000e-04\n",
      "Epoch 92/200\n",
      "\n",
      "Epoch 92: val_loss improved from 0.02970 to 0.02722, saving model to model rombak preprocessing augmentasi/lstm_best.keras\n",
      "30/30 - 0s - 7ms/step - categorical_accuracy: 0.9792 - loss: 0.0522 - val_categorical_accuracy: 1.0000 - val_loss: 0.0272 - learning_rate: 1.0000e-04\n",
      "Epoch 93/200\n",
      "\n",
      "Epoch 93: val_loss did not improve from 0.02722\n",
      "30/30 - 0s - 6ms/step - categorical_accuracy: 0.9833 - loss: 0.0473 - val_categorical_accuracy: 1.0000 - val_loss: 0.0283 - learning_rate: 1.0000e-04\n",
      "Epoch 94/200\n",
      "\n",
      "Epoch 94: val_loss improved from 0.02722 to 0.02693, saving model to model rombak preprocessing augmentasi/lstm_best.keras\n",
      "30/30 - 0s - 7ms/step - categorical_accuracy: 0.9792 - loss: 0.0496 - val_categorical_accuracy: 1.0000 - val_loss: 0.0269 - learning_rate: 1.0000e-04\n",
      "Epoch 95/200\n",
      "\n",
      "Epoch 95: val_loss did not improve from 0.02693\n",
      "30/30 - 0s - 6ms/step - categorical_accuracy: 0.9875 - loss: 0.0537 - val_categorical_accuracy: 1.0000 - val_loss: 0.0288 - learning_rate: 1.0000e-04\n",
      "Epoch 96/200\n",
      "\n",
      "Epoch 96: val_loss improved from 0.02693 to 0.02556, saving model to model rombak preprocessing augmentasi/lstm_best.keras\n",
      "30/30 - 0s - 7ms/step - categorical_accuracy: 0.9875 - loss: 0.0450 - val_categorical_accuracy: 1.0000 - val_loss: 0.0256 - learning_rate: 1.0000e-04\n",
      "Epoch 97/200\n",
      "\n",
      "Epoch 97: val_loss improved from 0.02556 to 0.02533, saving model to model rombak preprocessing augmentasi/lstm_best.keras\n",
      "30/30 - 0s - 7ms/step - categorical_accuracy: 0.9875 - loss: 0.0488 - val_categorical_accuracy: 1.0000 - val_loss: 0.0253 - learning_rate: 1.0000e-04\n",
      "Epoch 98/200\n",
      "\n",
      "Epoch 98: val_loss did not improve from 0.02533\n",
      "30/30 - 0s - 6ms/step - categorical_accuracy: 0.9833 - loss: 0.0457 - val_categorical_accuracy: 1.0000 - val_loss: 0.0280 - learning_rate: 1.0000e-04\n",
      "Epoch 99/200\n",
      "\n",
      "Epoch 99: val_loss did not improve from 0.02533\n",
      "30/30 - 0s - 6ms/step - categorical_accuracy: 0.9875 - loss: 0.0422 - val_categorical_accuracy: 1.0000 - val_loss: 0.0271 - learning_rate: 1.0000e-04\n",
      "Epoch 100/200\n",
      "\n",
      "Epoch 100: val_loss did not improve from 0.02533\n",
      "30/30 - 0s - 6ms/step - categorical_accuracy: 0.9917 - loss: 0.0440 - val_categorical_accuracy: 1.0000 - val_loss: 0.0273 - learning_rate: 1.0000e-04\n",
      "Epoch 101/200\n",
      "\n",
      "Epoch 101: val_loss did not improve from 0.02533\n",
      "30/30 - 0s - 6ms/step - categorical_accuracy: 0.9833 - loss: 0.0470 - val_categorical_accuracy: 1.0000 - val_loss: 0.0372 - learning_rate: 1.0000e-04\n",
      "Epoch 102/200\n",
      "\n",
      "Epoch 102: val_loss did not improve from 0.02533\n",
      "30/30 - 0s - 6ms/step - categorical_accuracy: 0.9917 - loss: 0.0417 - val_categorical_accuracy: 1.0000 - val_loss: 0.0295 - learning_rate: 1.0000e-04\n",
      "Epoch 103/200\n",
      "\n",
      "Epoch 103: val_loss did not improve from 0.02533\n",
      "30/30 - 0s - 6ms/step - categorical_accuracy: 0.9917 - loss: 0.0321 - val_categorical_accuracy: 1.0000 - val_loss: 0.0267 - learning_rate: 1.0000e-04\n",
      "Epoch 104/200\n",
      "\n",
      "Epoch 104: val_loss improved from 0.02533 to 0.02526, saving model to model rombak preprocessing augmentasi/lstm_best.keras\n",
      "30/30 - 0s - 7ms/step - categorical_accuracy: 0.9875 - loss: 0.0432 - val_categorical_accuracy: 1.0000 - val_loss: 0.0253 - learning_rate: 1.0000e-04\n",
      "Epoch 105/200\n",
      "\n",
      "Epoch 105: val_loss improved from 0.02526 to 0.02444, saving model to model rombak preprocessing augmentasi/lstm_best.keras\n",
      "30/30 - 0s - 7ms/step - categorical_accuracy: 0.9875 - loss: 0.0253 - val_categorical_accuracy: 1.0000 - val_loss: 0.0244 - learning_rate: 1.0000e-04\n",
      "Epoch 106/200\n",
      "\n",
      "Epoch 106: val_loss improved from 0.02444 to 0.02410, saving model to model rombak preprocessing augmentasi/lstm_best.keras\n",
      "30/30 - 0s - 8ms/step - categorical_accuracy: 0.9833 - loss: 0.0453 - val_categorical_accuracy: 1.0000 - val_loss: 0.0241 - learning_rate: 1.0000e-04\n",
      "Epoch 107/200\n",
      "\n",
      "Epoch 107: val_loss improved from 0.02410 to 0.02301, saving model to model rombak preprocessing augmentasi/lstm_best.keras\n",
      "30/30 - 0s - 7ms/step - categorical_accuracy: 0.9917 - loss: 0.0295 - val_categorical_accuracy: 1.0000 - val_loss: 0.0230 - learning_rate: 1.0000e-04\n",
      "Epoch 108/200\n",
      "\n",
      "Epoch 108: val_loss improved from 0.02301 to 0.02182, saving model to model rombak preprocessing augmentasi/lstm_best.keras\n",
      "30/30 - 0s - 7ms/step - categorical_accuracy: 0.9917 - loss: 0.0384 - val_categorical_accuracy: 1.0000 - val_loss: 0.0218 - learning_rate: 1.0000e-04\n",
      "Epoch 109/200\n",
      "\n",
      "Epoch 109: val_loss did not improve from 0.02182\n",
      "30/30 - 0s - 6ms/step - categorical_accuracy: 0.9833 - loss: 0.0357 - val_categorical_accuracy: 1.0000 - val_loss: 0.0220 - learning_rate: 1.0000e-04\n",
      "Epoch 110/200\n",
      "\n",
      "Epoch 110: val_loss did not improve from 0.02182\n",
      "30/30 - 0s - 6ms/step - categorical_accuracy: 1.0000 - loss: 0.0185 - val_categorical_accuracy: 1.0000 - val_loss: 0.0538 - learning_rate: 1.0000e-04\n",
      "Epoch 111/200\n",
      "\n",
      "Epoch 111: val_loss did not improve from 0.02182\n",
      "30/30 - 0s - 6ms/step - categorical_accuracy: 0.9833 - loss: 0.0315 - val_categorical_accuracy: 1.0000 - val_loss: 0.0347 - learning_rate: 1.0000e-04\n",
      "Epoch 112/200\n",
      "\n",
      "Epoch 112: val_loss did not improve from 0.02182\n",
      "30/30 - 0s - 6ms/step - categorical_accuracy: 0.9917 - loss: 0.0254 - val_categorical_accuracy: 1.0000 - val_loss: 0.0234 - learning_rate: 1.0000e-04\n",
      "Epoch 113/200\n",
      "\n",
      "Epoch 113: val_loss improved from 0.02182 to 0.02013, saving model to model rombak preprocessing augmentasi/lstm_best.keras\n",
      "30/30 - 0s - 7ms/step - categorical_accuracy: 0.9917 - loss: 0.0313 - val_categorical_accuracy: 1.0000 - val_loss: 0.0201 - learning_rate: 1.0000e-04\n",
      "Epoch 114/200\n",
      "\n",
      "Epoch 114: val_loss improved from 0.02013 to 0.01902, saving model to model rombak preprocessing augmentasi/lstm_best.keras\n",
      "30/30 - 0s - 7ms/step - categorical_accuracy: 1.0000 - loss: 0.0190 - val_categorical_accuracy: 1.0000 - val_loss: 0.0190 - learning_rate: 1.0000e-04\n",
      "Epoch 115/200\n",
      "\n",
      "Epoch 115: val_loss improved from 0.01902 to 0.01825, saving model to model rombak preprocessing augmentasi/lstm_best.keras\n",
      "30/30 - 0s - 7ms/step - categorical_accuracy: 0.9958 - loss: 0.0251 - val_categorical_accuracy: 1.0000 - val_loss: 0.0182 - learning_rate: 1.0000e-04\n",
      "Epoch 116/200\n",
      "\n",
      "Epoch 116: val_loss improved from 0.01825 to 0.01784, saving model to model rombak preprocessing augmentasi/lstm_best.keras\n",
      "30/30 - 0s - 7ms/step - categorical_accuracy: 0.9875 - loss: 0.0388 - val_categorical_accuracy: 1.0000 - val_loss: 0.0178 - learning_rate: 1.0000e-04\n",
      "Epoch 117/200\n",
      "\n",
      "Epoch 117: val_loss did not improve from 0.01784\n",
      "30/30 - 0s - 6ms/step - categorical_accuracy: 0.9917 - loss: 0.0291 - val_categorical_accuracy: 1.0000 - val_loss: 0.0194 - learning_rate: 1.0000e-04\n",
      "Epoch 118/200\n",
      "\n",
      "Epoch 118: val_loss did not improve from 0.01784\n",
      "30/30 - 0s - 6ms/step - categorical_accuracy: 0.9875 - loss: 0.0231 - val_categorical_accuracy: 1.0000 - val_loss: 0.0199 - learning_rate: 1.0000e-04\n",
      "Epoch 119/200\n",
      "\n",
      "Epoch 119: val_loss did not improve from 0.01784\n",
      "30/30 - 0s - 6ms/step - categorical_accuracy: 0.9792 - loss: 0.0412 - val_categorical_accuracy: 1.0000 - val_loss: 0.0210 - learning_rate: 1.0000e-04\n",
      "Epoch 120/200\n",
      "\n",
      "Epoch 120: val_loss did not improve from 0.01784\n",
      "30/30 - 0s - 6ms/step - categorical_accuracy: 0.9958 - loss: 0.0205 - val_categorical_accuracy: 1.0000 - val_loss: 0.0249 - learning_rate: 1.0000e-04\n",
      "Epoch 121/200\n",
      "\n",
      "Epoch 121: val_loss did not improve from 0.01784\n",
      "30/30 - 0s - 6ms/step - categorical_accuracy: 0.9875 - loss: 0.0295 - val_categorical_accuracy: 1.0000 - val_loss: 0.0232 - learning_rate: 1.0000e-04\n",
      "Epoch 122/200\n",
      "\n",
      "Epoch 122: val_loss did not improve from 0.01784\n",
      "30/30 - 0s - 6ms/step - categorical_accuracy: 0.9875 - loss: 0.0389 - val_categorical_accuracy: 1.0000 - val_loss: 0.0490 - learning_rate: 1.0000e-04\n",
      "Epoch 123/200\n",
      "\n",
      "Epoch 123: val_loss did not improve from 0.01784\n",
      "30/30 - 0s - 6ms/step - categorical_accuracy: 0.9958 - loss: 0.0252 - val_categorical_accuracy: 1.0000 - val_loss: 0.0453 - learning_rate: 1.0000e-04\n",
      "Epoch 124/200\n",
      "\n",
      "Epoch 124: val_loss did not improve from 0.01784\n",
      "30/30 - 0s - 6ms/step - categorical_accuracy: 0.9875 - loss: 0.0337 - val_categorical_accuracy: 1.0000 - val_loss: 0.0241 - learning_rate: 1.0000e-04\n",
      "Epoch 125/200\n",
      "\n",
      "Epoch 125: val_loss did not improve from 0.01784\n",
      "30/30 - 0s - 6ms/step - categorical_accuracy: 0.9917 - loss: 0.0263 - val_categorical_accuracy: 1.0000 - val_loss: 0.0266 - learning_rate: 1.0000e-04\n",
      "Epoch 126/200\n",
      "\n",
      "Epoch 126: val_loss did not improve from 0.01784\n",
      "\n",
      "Epoch 126: ReduceLROnPlateau reducing learning rate to 4.999999873689376e-05.\n",
      "30/30 - 0s - 6ms/step - categorical_accuracy: 0.9833 - loss: 0.0366 - val_categorical_accuracy: 1.0000 - val_loss: 0.0485 - learning_rate: 1.0000e-04\n",
      "Epoch 127/200\n",
      "\n",
      "Epoch 127: val_loss did not improve from 0.01784\n",
      "30/30 - 0s - 6ms/step - categorical_accuracy: 0.9875 - loss: 0.0295 - val_categorical_accuracy: 1.0000 - val_loss: 0.0367 - learning_rate: 5.0000e-05\n",
      "Epoch 128/200\n",
      "\n",
      "Epoch 128: val_loss did not improve from 0.01784\n",
      "30/30 - 0s - 7ms/step - categorical_accuracy: 0.9958 - loss: 0.0208 - val_categorical_accuracy: 1.0000 - val_loss: 0.0280 - learning_rate: 5.0000e-05\n",
      "Epoch 129/200\n",
      "\n",
      "Epoch 129: val_loss did not improve from 0.01784\n",
      "30/30 - 0s - 6ms/step - categorical_accuracy: 0.9917 - loss: 0.0213 - val_categorical_accuracy: 1.0000 - val_loss: 0.0271 - learning_rate: 5.0000e-05\n",
      "Epoch 130/200\n",
      "\n",
      "Epoch 130: val_loss did not improve from 0.01784\n",
      "30/30 - 0s - 7ms/step - categorical_accuracy: 0.9875 - loss: 0.0338 - val_categorical_accuracy: 1.0000 - val_loss: 0.0184 - learning_rate: 5.0000e-05\n",
      "Epoch 131/200\n",
      "\n",
      "Epoch 131: val_loss improved from 0.01784 to 0.01685, saving model to model rombak preprocessing augmentasi/lstm_best.keras\n",
      "30/30 - 0s - 7ms/step - categorical_accuracy: 0.9917 - loss: 0.0292 - val_categorical_accuracy: 1.0000 - val_loss: 0.0169 - learning_rate: 5.0000e-05\n",
      "Epoch 132/200\n",
      "\n",
      "Epoch 132: val_loss improved from 0.01685 to 0.01677, saving model to model rombak preprocessing augmentasi/lstm_best.keras\n",
      "30/30 - 0s - 7ms/step - categorical_accuracy: 0.9875 - loss: 0.0272 - val_categorical_accuracy: 1.0000 - val_loss: 0.0168 - learning_rate: 5.0000e-05\n",
      "Epoch 133/200\n",
      "\n",
      "Epoch 133: val_loss improved from 0.01677 to 0.01636, saving model to model rombak preprocessing augmentasi/lstm_best.keras\n",
      "30/30 - 0s - 9ms/step - categorical_accuracy: 0.9917 - loss: 0.0241 - val_categorical_accuracy: 1.0000 - val_loss: 0.0164 - learning_rate: 5.0000e-05\n",
      "Epoch 134/200\n",
      "\n",
      "Epoch 134: val_loss improved from 0.01636 to 0.01628, saving model to model rombak preprocessing augmentasi/lstm_best.keras\n",
      "30/30 - 0s - 7ms/step - categorical_accuracy: 0.9875 - loss: 0.0295 - val_categorical_accuracy: 1.0000 - val_loss: 0.0163 - learning_rate: 5.0000e-05\n",
      "Epoch 135/200\n",
      "\n",
      "Epoch 135: val_loss did not improve from 0.01628\n",
      "30/30 - 0s - 6ms/step - categorical_accuracy: 0.9792 - loss: 0.0364 - val_categorical_accuracy: 1.0000 - val_loss: 0.0165 - learning_rate: 5.0000e-05\n",
      "Epoch 136/200\n",
      "\n",
      "Epoch 136: val_loss improved from 0.01628 to 0.01627, saving model to model rombak preprocessing augmentasi/lstm_best.keras\n",
      "30/30 - 0s - 7ms/step - categorical_accuracy: 0.9958 - loss: 0.0244 - val_categorical_accuracy: 1.0000 - val_loss: 0.0163 - learning_rate: 5.0000e-05\n",
      "Epoch 137/200\n",
      "\n",
      "Epoch 137: val_loss improved from 0.01627 to 0.01625, saving model to model rombak preprocessing augmentasi/lstm_best.keras\n",
      "30/30 - 0s - 7ms/step - categorical_accuracy: 0.9917 - loss: 0.0285 - val_categorical_accuracy: 1.0000 - val_loss: 0.0163 - learning_rate: 5.0000e-05\n",
      "Epoch 138/200\n",
      "\n",
      "Epoch 138: val_loss improved from 0.01625 to 0.01611, saving model to model rombak preprocessing augmentasi/lstm_best.keras\n",
      "30/30 - 0s - 9ms/step - categorical_accuracy: 0.9875 - loss: 0.0245 - val_categorical_accuracy: 1.0000 - val_loss: 0.0161 - learning_rate: 5.0000e-05\n",
      "Epoch 139/200\n",
      "\n",
      "Epoch 139: val_loss improved from 0.01611 to 0.01576, saving model to model rombak preprocessing augmentasi/lstm_best.keras\n",
      "30/30 - 0s - 7ms/step - categorical_accuracy: 0.9917 - loss: 0.0229 - val_categorical_accuracy: 1.0000 - val_loss: 0.0158 - learning_rate: 5.0000e-05\n",
      "Epoch 140/200\n",
      "\n",
      "Epoch 140: val_loss improved from 0.01576 to 0.01559, saving model to model rombak preprocessing augmentasi/lstm_best.keras\n",
      "30/30 - 0s - 8ms/step - categorical_accuracy: 0.9917 - loss: 0.0233 - val_categorical_accuracy: 1.0000 - val_loss: 0.0156 - learning_rate: 5.0000e-05\n",
      "Epoch 141/200\n",
      "\n",
      "Epoch 141: val_loss improved from 0.01559 to 0.01518, saving model to model rombak preprocessing augmentasi/lstm_best.keras\n",
      "30/30 - 0s - 7ms/step - categorical_accuracy: 0.9875 - loss: 0.0252 - val_categorical_accuracy: 1.0000 - val_loss: 0.0152 - learning_rate: 5.0000e-05\n",
      "Epoch 142/200\n",
      "\n",
      "Epoch 142: val_loss improved from 0.01518 to 0.01513, saving model to model rombak preprocessing augmentasi/lstm_best.keras\n",
      "30/30 - 0s - 7ms/step - categorical_accuracy: 0.9917 - loss: 0.0254 - val_categorical_accuracy: 1.0000 - val_loss: 0.0151 - learning_rate: 5.0000e-05\n",
      "Epoch 143/200\n",
      "\n",
      "Epoch 143: val_loss improved from 0.01513 to 0.01465, saving model to model rombak preprocessing augmentasi/lstm_best.keras\n",
      "30/30 - 0s - 7ms/step - categorical_accuracy: 0.9917 - loss: 0.0245 - val_categorical_accuracy: 1.0000 - val_loss: 0.0146 - learning_rate: 5.0000e-05\n",
      "Epoch 144/200\n",
      "\n",
      "Epoch 144: val_loss improved from 0.01465 to 0.01446, saving model to model rombak preprocessing augmentasi/lstm_best.keras\n",
      "30/30 - 0s - 8ms/step - categorical_accuracy: 0.9792 - loss: 0.0309 - val_categorical_accuracy: 1.0000 - val_loss: 0.0145 - learning_rate: 5.0000e-05\n",
      "Epoch 145/200\n",
      "\n",
      "Epoch 145: val_loss improved from 0.01446 to 0.01441, saving model to model rombak preprocessing augmentasi/lstm_best.keras\n",
      "30/30 - 0s - 7ms/step - categorical_accuracy: 0.9917 - loss: 0.0220 - val_categorical_accuracy: 1.0000 - val_loss: 0.0144 - learning_rate: 5.0000e-05\n",
      "Epoch 146/200\n",
      "\n",
      "Epoch 146: val_loss did not improve from 0.01441\n",
      "30/30 - 0s - 6ms/step - categorical_accuracy: 0.9917 - loss: 0.0327 - val_categorical_accuracy: 1.0000 - val_loss: 0.0145 - learning_rate: 5.0000e-05\n",
      "Epoch 147/200\n",
      "\n",
      "Epoch 147: val_loss improved from 0.01441 to 0.01410, saving model to model rombak preprocessing augmentasi/lstm_best.keras\n",
      "30/30 - 0s - 7ms/step - categorical_accuracy: 0.9917 - loss: 0.0255 - val_categorical_accuracy: 1.0000 - val_loss: 0.0141 - learning_rate: 5.0000e-05\n",
      "Epoch 148/200\n",
      "\n",
      "Epoch 148: val_loss improved from 0.01410 to 0.01389, saving model to model rombak preprocessing augmentasi/lstm_best.keras\n",
      "30/30 - 0s - 7ms/step - categorical_accuracy: 0.9917 - loss: 0.0228 - val_categorical_accuracy: 1.0000 - val_loss: 0.0139 - learning_rate: 5.0000e-05\n",
      "Epoch 149/200\n",
      "\n",
      "Epoch 149: val_loss improved from 0.01389 to 0.01361, saving model to model rombak preprocessing augmentasi/lstm_best.keras\n",
      "30/30 - 0s - 7ms/step - categorical_accuracy: 0.9833 - loss: 0.0432 - val_categorical_accuracy: 1.0000 - val_loss: 0.0136 - learning_rate: 5.0000e-05\n",
      "Epoch 150/200\n",
      "\n",
      "Epoch 150: val_loss did not improve from 0.01361\n",
      "30/30 - 0s - 6ms/step - categorical_accuracy: 0.9833 - loss: 0.0291 - val_categorical_accuracy: 1.0000 - val_loss: 0.0141 - learning_rate: 5.0000e-05\n",
      "Epoch 151/200\n",
      "\n",
      "Epoch 151: val_loss did not improve from 0.01361\n",
      "30/30 - 0s - 6ms/step - categorical_accuracy: 0.9875 - loss: 0.0223 - val_categorical_accuracy: 1.0000 - val_loss: 0.0138 - learning_rate: 5.0000e-05\n",
      "Epoch 152/200\n",
      "\n",
      "Epoch 152: val_loss did not improve from 0.01361\n",
      "30/30 - 0s - 6ms/step - categorical_accuracy: 0.9875 - loss: 0.0521 - val_categorical_accuracy: 1.0000 - val_loss: 0.0140 - learning_rate: 5.0000e-05\n",
      "Epoch 153/200\n",
      "\n",
      "Epoch 153: val_loss did not improve from 0.01361\n",
      "30/30 - 0s - 6ms/step - categorical_accuracy: 0.9958 - loss: 0.0167 - val_categorical_accuracy: 1.0000 - val_loss: 0.0144 - learning_rate: 5.0000e-05\n",
      "Epoch 154/200\n",
      "\n",
      "Epoch 154: val_loss did not improve from 0.01361\n",
      "30/30 - 0s - 6ms/step - categorical_accuracy: 0.9917 - loss: 0.0294 - val_categorical_accuracy: 1.0000 - val_loss: 0.0143 - learning_rate: 5.0000e-05\n",
      "Epoch 155/200\n",
      "\n",
      "Epoch 155: val_loss did not improve from 0.01361\n",
      "30/30 - 0s - 6ms/step - categorical_accuracy: 0.9958 - loss: 0.0236 - val_categorical_accuracy: 1.0000 - val_loss: 0.0141 - learning_rate: 5.0000e-05\n",
      "Epoch 156/200\n",
      "\n",
      "Epoch 156: val_loss did not improve from 0.01361\n",
      "30/30 - 0s - 6ms/step - categorical_accuracy: 0.9792 - loss: 0.0462 - val_categorical_accuracy: 1.0000 - val_loss: 0.0159 - learning_rate: 5.0000e-05\n",
      "Epoch 157/200\n",
      "\n",
      "Epoch 157: val_loss did not improve from 0.01361\n",
      "30/30 - 0s - 6ms/step - categorical_accuracy: 0.9958 - loss: 0.0195 - val_categorical_accuracy: 1.0000 - val_loss: 0.0150 - learning_rate: 5.0000e-05\n",
      "Epoch 158/200\n",
      "\n",
      "Epoch 158: val_loss did not improve from 0.01361\n",
      "30/30 - 0s - 6ms/step - categorical_accuracy: 0.9958 - loss: 0.0219 - val_categorical_accuracy: 1.0000 - val_loss: 0.0162 - learning_rate: 5.0000e-05\n",
      "Epoch 159/200\n",
      "\n",
      "Epoch 159: val_loss did not improve from 0.01361\n",
      "\n",
      "Epoch 159: ReduceLROnPlateau reducing learning rate to 2.499999936844688e-05.\n",
      "30/30 - 0s - 6ms/step - categorical_accuracy: 0.9917 - loss: 0.0173 - val_categorical_accuracy: 1.0000 - val_loss: 0.0151 - learning_rate: 5.0000e-05\n",
      "Epoch 160/200\n",
      "\n",
      "Epoch 160: val_loss did not improve from 0.01361\n",
      "30/30 - 0s - 6ms/step - categorical_accuracy: 0.9875 - loss: 0.0338 - val_categorical_accuracy: 1.0000 - val_loss: 0.0146 - learning_rate: 2.5000e-05\n",
      "Epoch 161/200\n",
      "\n",
      "Epoch 161: val_loss did not improve from 0.01361\n",
      "30/30 - 0s - 6ms/step - categorical_accuracy: 0.9875 - loss: 0.0326 - val_categorical_accuracy: 1.0000 - val_loss: 0.0149 - learning_rate: 2.5000e-05\n",
      "Epoch 162/200\n",
      "\n",
      "Epoch 162: val_loss did not improve from 0.01361\n",
      "30/30 - 0s - 6ms/step - categorical_accuracy: 0.9875 - loss: 0.0285 - val_categorical_accuracy: 1.0000 - val_loss: 0.0150 - learning_rate: 2.5000e-05\n",
      "Epoch 163/200\n",
      "\n",
      "Epoch 163: val_loss did not improve from 0.01361\n",
      "30/30 - 0s - 6ms/step - categorical_accuracy: 0.9875 - loss: 0.0271 - val_categorical_accuracy: 1.0000 - val_loss: 0.0151 - learning_rate: 2.5000e-05\n",
      "Epoch 164/200\n",
      "\n",
      "Epoch 164: val_loss did not improve from 0.01361\n",
      "30/30 - 0s - 6ms/step - categorical_accuracy: 0.9917 - loss: 0.0289 - val_categorical_accuracy: 1.0000 - val_loss: 0.0148 - learning_rate: 2.5000e-05\n",
      "Epoch 165/200\n",
      "\n",
      "Epoch 165: val_loss did not improve from 0.01361\n",
      "30/30 - 0s - 6ms/step - categorical_accuracy: 0.9958 - loss: 0.0234 - val_categorical_accuracy: 1.0000 - val_loss: 0.0152 - learning_rate: 2.5000e-05\n",
      "Epoch 166/200\n",
      "\n",
      "Epoch 166: val_loss did not improve from 0.01361\n",
      "30/30 - 0s - 6ms/step - categorical_accuracy: 0.9875 - loss: 0.0269 - val_categorical_accuracy: 1.0000 - val_loss: 0.0152 - learning_rate: 2.5000e-05\n",
      "Epoch 167/200\n",
      "\n",
      "Epoch 167: val_loss did not improve from 0.01361\n",
      "30/30 - 0s - 6ms/step - categorical_accuracy: 0.9917 - loss: 0.0296 - val_categorical_accuracy: 1.0000 - val_loss: 0.0150 - learning_rate: 2.5000e-05\n",
      "Epoch 168/200\n",
      "\n",
      "Epoch 168: val_loss did not improve from 0.01361\n",
      "30/30 - 0s - 6ms/step - categorical_accuracy: 0.9875 - loss: 0.0188 - val_categorical_accuracy: 1.0000 - val_loss: 0.0157 - learning_rate: 2.5000e-05\n",
      "Epoch 169/200\n",
      "\n",
      "Epoch 169: val_loss did not improve from 0.01361\n",
      "\n",
      "Epoch 169: ReduceLROnPlateau reducing learning rate to 1.249999968422344e-05.\n",
      "30/30 - 0s - 6ms/step - categorical_accuracy: 0.9833 - loss: 0.0365 - val_categorical_accuracy: 1.0000 - val_loss: 0.0159 - learning_rate: 2.5000e-05\n",
      "Epoch 169: early stopping\n",
      "Restoring model weights from the end of the best epoch: 149.\n"
     ]
    }
   ],
   "source": [
    "# --- Model LSTM ---\n",
    "print(\"\\n--- Melatih Model LSTM ---\")\n",
    "model_lstm = Sequential([\n",
    "    LSTM(64, return_sequences=False, input_shape=(sequence_length, num_features)),\n",
    "    Dropout(0.4),\n",
    "    Dense(64, activation='relu'),\n",
    "    Dropout(0.4),\n",
    "    Dense(num_classes, activation='softmax')\n",
    "])\n",
    "\n",
    "model_lstm.compile(\n",
    "    optimizer=Adam(learning_rate=1e-4),\n",
    "    loss='categorical_crossentropy',\n",
    "    metrics=['categorical_accuracy']\n",
    ")\n",
    "\n",
    "callbacks_lstm = [\n",
    "    EarlyStopping(monitor='val_loss', patience=20, restore_best_weights=True, verbose=1),\n",
    "    ModelCheckpoint('model rombak preprocessing augmentasi/lstm_best.keras', monitor='val_loss', save_best_only=True, verbose=1),\n",
    "    ReduceLROnPlateau(monitor='val_loss', factor=0.5, patience=10, verbose=1, min_lr=1e-6)\n",
    "]\n",
    "\n",
    "history_lstm = model_lstm.fit(\n",
    "    X_train_scaled, y_train_one_hot,\n",
    "    validation_data=(X_val_scaled, y_val_one_hot),\n",
    "    epochs=200,\n",
    "    batch_size=8, \n",
    "    shuffle=True,\n",
    "    callbacks=callbacks_lstm,\n",
    "    verbose=2\n",
    ")"
   ]
  },
  {
   "cell_type": "markdown",
   "metadata": {},
   "source": [
    "## GRU"
   ]
  },
  {
   "cell_type": "code",
   "execution_count": 41,
   "metadata": {
    "execution": {
     "iopub.execute_input": "2025-05-26T04:15:58.585392Z",
     "iopub.status.busy": "2025-05-26T04:15:58.584768Z",
     "iopub.status.idle": "2025-05-26T04:16:51.855439Z",
     "shell.execute_reply": "2025-05-26T04:16:51.854422Z",
     "shell.execute_reply.started": "2025-05-26T04:15:58.585365Z"
    },
    "trusted": true
   },
   "outputs": [
    {
     "name": "stdout",
     "output_type": "stream",
     "text": [
      "\n",
      "--- Melatih Model GRU ---\n",
      "Epoch 1/150\n",
      "\n",
      "Epoch 1: val_loss improved from inf to 1.51706, saving model to model rombak preprocessing augmentasi/gru_best.keras\n",
      "15/15 - 4s - 290ms/step - categorical_accuracy: 0.2792 - loss: 2.2732 - val_categorical_accuracy: 0.4500 - val_loss: 1.5171 - learning_rate: 1.0000e-04\n",
      "Epoch 2/150\n",
      "\n",
      "Epoch 2: val_loss improved from 1.51706 to 1.38629, saving model to model rombak preprocessing augmentasi/gru_best.keras\n",
      "15/15 - 0s - 24ms/step - categorical_accuracy: 0.4125 - loss: 1.6683 - val_categorical_accuracy: 0.5500 - val_loss: 1.3863 - learning_rate: 1.0000e-04\n",
      "Epoch 3/150\n",
      "\n",
      "Epoch 3: val_loss improved from 1.38629 to 1.25256, saving model to model rombak preprocessing augmentasi/gru_best.keras\n",
      "15/15 - 0s - 24ms/step - categorical_accuracy: 0.5417 - loss: 1.2254 - val_categorical_accuracy: 0.4500 - val_loss: 1.2526 - learning_rate: 1.0000e-04\n",
      "Epoch 4/150\n",
      "\n",
      "Epoch 4: val_loss improved from 1.25256 to 1.13133, saving model to model rombak preprocessing augmentasi/gru_best.keras\n",
      "15/15 - 0s - 26ms/step - categorical_accuracy: 0.6375 - loss: 1.0047 - val_categorical_accuracy: 0.5000 - val_loss: 1.1313 - learning_rate: 1.0000e-04\n",
      "Epoch 5/150\n",
      "\n",
      "Epoch 5: val_loss improved from 1.13133 to 1.01474, saving model to model rombak preprocessing augmentasi/gru_best.keras\n",
      "15/15 - 0s - 24ms/step - categorical_accuracy: 0.6917 - loss: 0.8264 - val_categorical_accuracy: 0.6000 - val_loss: 1.0147 - learning_rate: 1.0000e-04\n",
      "Epoch 6/150\n",
      "\n",
      "Epoch 6: val_loss improved from 1.01474 to 0.90320, saving model to model rombak preprocessing augmentasi/gru_best.keras\n",
      "15/15 - 0s - 29ms/step - categorical_accuracy: 0.6417 - loss: 0.9074 - val_categorical_accuracy: 0.6500 - val_loss: 0.9032 - learning_rate: 1.0000e-04\n",
      "Epoch 7/150\n",
      "\n",
      "Epoch 7: val_loss improved from 0.90320 to 0.80683, saving model to model rombak preprocessing augmentasi/gru_best.keras\n",
      "15/15 - 0s - 33ms/step - categorical_accuracy: 0.7042 - loss: 0.7169 - val_categorical_accuracy: 0.7000 - val_loss: 0.8068 - learning_rate: 1.0000e-04\n",
      "Epoch 8/150\n",
      "\n",
      "Epoch 8: val_loss improved from 0.80683 to 0.72409, saving model to model rombak preprocessing augmentasi/gru_best.keras\n",
      "15/15 - 0s - 26ms/step - categorical_accuracy: 0.7542 - loss: 0.7086 - val_categorical_accuracy: 0.7000 - val_loss: 0.7241 - learning_rate: 1.0000e-04\n",
      "Epoch 9/150\n",
      "\n",
      "Epoch 9: val_loss improved from 0.72409 to 0.65299, saving model to model rombak preprocessing augmentasi/gru_best.keras\n",
      "15/15 - 0s - 27ms/step - categorical_accuracy: 0.7250 - loss: 0.7608 - val_categorical_accuracy: 0.6500 - val_loss: 0.6530 - learning_rate: 1.0000e-04\n",
      "Epoch 10/150\n",
      "\n",
      "Epoch 10: val_loss improved from 0.65299 to 0.58848, saving model to model rombak preprocessing augmentasi/gru_best.keras\n",
      "15/15 - 0s - 30ms/step - categorical_accuracy: 0.6917 - loss: 0.7999 - val_categorical_accuracy: 0.7000 - val_loss: 0.5885 - learning_rate: 1.0000e-04\n",
      "Epoch 11/150\n",
      "\n",
      "Epoch 11: val_loss improved from 0.58848 to 0.54247, saving model to model rombak preprocessing augmentasi/gru_best.keras\n",
      "15/15 - 0s - 26ms/step - categorical_accuracy: 0.7875 - loss: 0.6201 - val_categorical_accuracy: 0.7500 - val_loss: 0.5425 - learning_rate: 1.0000e-04\n",
      "Epoch 12/150\n",
      "\n",
      "Epoch 12: val_loss improved from 0.54247 to 0.50682, saving model to model rombak preprocessing augmentasi/gru_best.keras\n",
      "15/15 - 0s - 24ms/step - categorical_accuracy: 0.7500 - loss: 0.7056 - val_categorical_accuracy: 0.7500 - val_loss: 0.5068 - learning_rate: 1.0000e-04\n",
      "Epoch 13/150\n",
      "\n",
      "Epoch 13: val_loss improved from 0.50682 to 0.47939, saving model to model rombak preprocessing augmentasi/gru_best.keras\n",
      "15/15 - 0s - 24ms/step - categorical_accuracy: 0.7500 - loss: 0.6338 - val_categorical_accuracy: 0.8000 - val_loss: 0.4794 - learning_rate: 1.0000e-04\n",
      "Epoch 14/150\n",
      "\n",
      "Epoch 14: val_loss improved from 0.47939 to 0.45209, saving model to model rombak preprocessing augmentasi/gru_best.keras\n",
      "15/15 - 0s - 25ms/step - categorical_accuracy: 0.8208 - loss: 0.4941 - val_categorical_accuracy: 0.8000 - val_loss: 0.4521 - learning_rate: 1.0000e-04\n",
      "Epoch 15/150\n",
      "\n",
      "Epoch 15: val_loss improved from 0.45209 to 0.44492, saving model to model rombak preprocessing augmentasi/gru_best.keras\n",
      "15/15 - 0s - 26ms/step - categorical_accuracy: 0.7917 - loss: 0.5367 - val_categorical_accuracy: 0.8000 - val_loss: 0.4449 - learning_rate: 1.0000e-04\n",
      "Epoch 16/150\n",
      "\n",
      "Epoch 16: val_loss improved from 0.44492 to 0.43117, saving model to model rombak preprocessing augmentasi/gru_best.keras\n",
      "15/15 - 0s - 24ms/step - categorical_accuracy: 0.7917 - loss: 0.5444 - val_categorical_accuracy: 0.8000 - val_loss: 0.4312 - learning_rate: 1.0000e-04\n",
      "Epoch 17/150\n",
      "\n",
      "Epoch 17: val_loss improved from 0.43117 to 0.42098, saving model to model rombak preprocessing augmentasi/gru_best.keras\n",
      "15/15 - 0s - 30ms/step - categorical_accuracy: 0.8083 - loss: 0.4693 - val_categorical_accuracy: 0.8000 - val_loss: 0.4210 - learning_rate: 1.0000e-04\n",
      "Epoch 18/150\n",
      "\n",
      "Epoch 18: val_loss improved from 0.42098 to 0.41484, saving model to model rombak preprocessing augmentasi/gru_best.keras\n",
      "15/15 - 0s - 24ms/step - categorical_accuracy: 0.8333 - loss: 0.4013 - val_categorical_accuracy: 0.8000 - val_loss: 0.4148 - learning_rate: 1.0000e-04\n",
      "Epoch 19/150\n",
      "\n",
      "Epoch 19: val_loss improved from 0.41484 to 0.39903, saving model to model rombak preprocessing augmentasi/gru_best.keras\n",
      "15/15 - 0s - 24ms/step - categorical_accuracy: 0.8500 - loss: 0.3640 - val_categorical_accuracy: 0.8000 - val_loss: 0.3990 - learning_rate: 1.0000e-04\n",
      "Epoch 20/150\n",
      "\n",
      "Epoch 20: val_loss improved from 0.39903 to 0.39311, saving model to model rombak preprocessing augmentasi/gru_best.keras\n",
      "15/15 - 0s - 24ms/step - categorical_accuracy: 0.8583 - loss: 0.3804 - val_categorical_accuracy: 0.8000 - val_loss: 0.3931 - learning_rate: 1.0000e-04\n",
      "Epoch 21/150\n",
      "\n",
      "Epoch 21: val_loss improved from 0.39311 to 0.34795, saving model to model rombak preprocessing augmentasi/gru_best.keras\n",
      "15/15 - 0s - 26ms/step - categorical_accuracy: 0.8708 - loss: 0.3913 - val_categorical_accuracy: 0.7500 - val_loss: 0.3479 - learning_rate: 1.0000e-04\n",
      "Epoch 22/150\n",
      "\n",
      "Epoch 22: val_loss improved from 0.34795 to 0.32605, saving model to model rombak preprocessing augmentasi/gru_best.keras\n",
      "15/15 - 0s - 28ms/step - categorical_accuracy: 0.8292 - loss: 0.4340 - val_categorical_accuracy: 0.8500 - val_loss: 0.3260 - learning_rate: 1.0000e-04\n",
      "Epoch 23/150\n",
      "\n",
      "Epoch 23: val_loss improved from 0.32605 to 0.32100, saving model to model rombak preprocessing augmentasi/gru_best.keras\n",
      "15/15 - 0s - 25ms/step - categorical_accuracy: 0.8583 - loss: 0.3788 - val_categorical_accuracy: 0.8500 - val_loss: 0.3210 - learning_rate: 1.0000e-04\n",
      "Epoch 24/150\n",
      "\n",
      "Epoch 24: val_loss did not improve from 0.32100\n",
      "15/15 - 0s - 20ms/step - categorical_accuracy: 0.8708 - loss: 0.3387 - val_categorical_accuracy: 0.8500 - val_loss: 0.3234 - learning_rate: 1.0000e-04\n",
      "Epoch 25/150\n",
      "\n",
      "Epoch 25: val_loss improved from 0.32100 to 0.30059, saving model to model rombak preprocessing augmentasi/gru_best.keras\n",
      "15/15 - 0s - 23ms/step - categorical_accuracy: 0.8958 - loss: 0.3083 - val_categorical_accuracy: 0.8500 - val_loss: 0.3006 - learning_rate: 1.0000e-04\n",
      "Epoch 26/150\n",
      "\n",
      "Epoch 26: val_loss improved from 0.30059 to 0.26930, saving model to model rombak preprocessing augmentasi/gru_best.keras\n",
      "15/15 - 0s - 24ms/step - categorical_accuracy: 0.8917 - loss: 0.2832 - val_categorical_accuracy: 0.8500 - val_loss: 0.2693 - learning_rate: 1.0000e-04\n",
      "Epoch 27/150\n",
      "\n",
      "Epoch 27: val_loss improved from 0.26930 to 0.23962, saving model to model rombak preprocessing augmentasi/gru_best.keras\n",
      "15/15 - 0s - 23ms/step - categorical_accuracy: 0.9000 - loss: 0.3014 - val_categorical_accuracy: 0.8500 - val_loss: 0.2396 - learning_rate: 1.0000e-04\n",
      "Epoch 28/150\n",
      "\n",
      "Epoch 28: val_loss improved from 0.23962 to 0.23523, saving model to model rombak preprocessing augmentasi/gru_best.keras\n",
      "15/15 - 0s - 25ms/step - categorical_accuracy: 0.8958 - loss: 0.2802 - val_categorical_accuracy: 0.8500 - val_loss: 0.2352 - learning_rate: 1.0000e-04\n",
      "Epoch 29/150\n",
      "\n",
      "Epoch 29: val_loss did not improve from 0.23523\n",
      "15/15 - 0s - 19ms/step - categorical_accuracy: 0.9042 - loss: 0.2417 - val_categorical_accuracy: 0.8500 - val_loss: 0.2383 - learning_rate: 1.0000e-04\n",
      "Epoch 30/150\n",
      "\n",
      "Epoch 30: val_loss improved from 0.23523 to 0.23317, saving model to model rombak preprocessing augmentasi/gru_best.keras\n",
      "15/15 - 0s - 23ms/step - categorical_accuracy: 0.9208 - loss: 0.2215 - val_categorical_accuracy: 0.8500 - val_loss: 0.2332 - learning_rate: 1.0000e-04\n",
      "Epoch 31/150\n",
      "\n",
      "Epoch 31: val_loss improved from 0.23317 to 0.20796, saving model to model rombak preprocessing augmentasi/gru_best.keras\n",
      "15/15 - 0s - 24ms/step - categorical_accuracy: 0.9167 - loss: 0.2538 - val_categorical_accuracy: 0.8500 - val_loss: 0.2080 - learning_rate: 1.0000e-04\n",
      "Epoch 32/150\n",
      "\n",
      "Epoch 32: val_loss improved from 0.20796 to 0.17982, saving model to model rombak preprocessing augmentasi/gru_best.keras\n",
      "15/15 - 0s - 27ms/step - categorical_accuracy: 0.9375 - loss: 0.2093 - val_categorical_accuracy: 0.9500 - val_loss: 0.1798 - learning_rate: 1.0000e-04\n",
      "Epoch 33/150\n",
      "\n",
      "Epoch 33: val_loss improved from 0.17982 to 0.16480, saving model to model rombak preprocessing augmentasi/gru_best.keras\n",
      "15/15 - 0s - 24ms/step - categorical_accuracy: 0.8875 - loss: 0.2591 - val_categorical_accuracy: 0.9500 - val_loss: 0.1648 - learning_rate: 1.0000e-04\n",
      "Epoch 34/150\n",
      "\n",
      "Epoch 34: val_loss improved from 0.16480 to 0.14427, saving model to model rombak preprocessing augmentasi/gru_best.keras\n",
      "15/15 - 0s - 23ms/step - categorical_accuracy: 0.9000 - loss: 0.2174 - val_categorical_accuracy: 0.9500 - val_loss: 0.1443 - learning_rate: 1.0000e-04\n",
      "Epoch 35/150\n",
      "\n",
      "Epoch 35: val_loss improved from 0.14427 to 0.12585, saving model to model rombak preprocessing augmentasi/gru_best.keras\n",
      "15/15 - 0s - 23ms/step - categorical_accuracy: 0.9042 - loss: 0.2347 - val_categorical_accuracy: 0.9500 - val_loss: 0.1258 - learning_rate: 1.0000e-04\n",
      "Epoch 36/150\n",
      "\n",
      "Epoch 36: val_loss did not improve from 0.12585\n",
      "15/15 - 0s - 20ms/step - categorical_accuracy: 0.9250 - loss: 0.1957 - val_categorical_accuracy: 0.9500 - val_loss: 0.1411 - learning_rate: 1.0000e-04\n",
      "Epoch 37/150\n",
      "\n",
      "Epoch 37: val_loss did not improve from 0.12585\n",
      "15/15 - 0s - 20ms/step - categorical_accuracy: 0.9458 - loss: 0.2146 - val_categorical_accuracy: 0.9500 - val_loss: 0.1433 - learning_rate: 1.0000e-04\n",
      "Epoch 38/150\n",
      "\n",
      "Epoch 38: val_loss improved from 0.12585 to 0.12035, saving model to model rombak preprocessing augmentasi/gru_best.keras\n",
      "15/15 - 0s - 24ms/step - categorical_accuracy: 0.8958 - loss: 0.2508 - val_categorical_accuracy: 0.9500 - val_loss: 0.1204 - learning_rate: 1.0000e-04\n",
      "Epoch 39/150\n",
      "\n",
      "Epoch 39: val_loss improved from 0.12035 to 0.11481, saving model to model rombak preprocessing augmentasi/gru_best.keras\n",
      "15/15 - 0s - 24ms/step - categorical_accuracy: 0.9250 - loss: 0.2053 - val_categorical_accuracy: 0.9500 - val_loss: 0.1148 - learning_rate: 1.0000e-04\n",
      "Epoch 40/150\n",
      "\n",
      "Epoch 40: val_loss improved from 0.11481 to 0.10921, saving model to model rombak preprocessing augmentasi/gru_best.keras\n",
      "15/15 - 0s - 25ms/step - categorical_accuracy: 0.9458 - loss: 0.1565 - val_categorical_accuracy: 0.9500 - val_loss: 0.1092 - learning_rate: 1.0000e-04\n",
      "Epoch 41/150\n",
      "\n",
      "Epoch 41: val_loss did not improve from 0.10921\n",
      "15/15 - 0s - 20ms/step - categorical_accuracy: 0.9375 - loss: 0.1640 - val_categorical_accuracy: 0.9500 - val_loss: 0.1106 - learning_rate: 1.0000e-04\n",
      "Epoch 42/150\n",
      "\n",
      "Epoch 42: val_loss improved from 0.10921 to 0.10588, saving model to model rombak preprocessing augmentasi/gru_best.keras\n",
      "15/15 - 0s - 24ms/step - categorical_accuracy: 0.9625 - loss: 0.1430 - val_categorical_accuracy: 0.9500 - val_loss: 0.1059 - learning_rate: 1.0000e-04\n",
      "Epoch 43/150\n",
      "\n",
      "Epoch 43: val_loss improved from 0.10588 to 0.09933, saving model to model rombak preprocessing augmentasi/gru_best.keras\n",
      "15/15 - 0s - 29ms/step - categorical_accuracy: 0.9458 - loss: 0.1708 - val_categorical_accuracy: 0.9500 - val_loss: 0.0993 - learning_rate: 1.0000e-04\n",
      "Epoch 44/150\n",
      "\n",
      "Epoch 44: val_loss improved from 0.09933 to 0.09101, saving model to model rombak preprocessing augmentasi/gru_best.keras\n",
      "15/15 - 0s - 23ms/step - categorical_accuracy: 0.9417 - loss: 0.2052 - val_categorical_accuracy: 0.9500 - val_loss: 0.0910 - learning_rate: 1.0000e-04\n",
      "Epoch 45/150\n",
      "\n",
      "Epoch 45: val_loss did not improve from 0.09101\n",
      "15/15 - 0s - 20ms/step - categorical_accuracy: 0.9667 - loss: 0.1446 - val_categorical_accuracy: 0.9500 - val_loss: 0.0973 - learning_rate: 1.0000e-04\n",
      "Epoch 46/150\n",
      "\n",
      "Epoch 46: val_loss did not improve from 0.09101\n",
      "15/15 - 0s - 20ms/step - categorical_accuracy: 0.9458 - loss: 0.1418 - val_categorical_accuracy: 0.9500 - val_loss: 0.0924 - learning_rate: 1.0000e-04\n",
      "Epoch 47/150\n",
      "\n",
      "Epoch 47: val_loss improved from 0.09101 to 0.08694, saving model to model rombak preprocessing augmentasi/gru_best.keras\n",
      "15/15 - 0s - 23ms/step - categorical_accuracy: 0.9417 - loss: 0.1783 - val_categorical_accuracy: 0.9500 - val_loss: 0.0869 - learning_rate: 1.0000e-04\n",
      "Epoch 48/150\n",
      "\n",
      "Epoch 48: val_loss did not improve from 0.08694\n",
      "15/15 - 0s - 20ms/step - categorical_accuracy: 0.9583 - loss: 0.1442 - val_categorical_accuracy: 0.9500 - val_loss: 0.0894 - learning_rate: 1.0000e-04\n",
      "Epoch 49/150\n",
      "\n",
      "Epoch 49: val_loss did not improve from 0.08694\n",
      "15/15 - 0s - 20ms/step - categorical_accuracy: 0.9375 - loss: 0.1840 - val_categorical_accuracy: 0.9500 - val_loss: 0.0886 - learning_rate: 1.0000e-04\n",
      "Epoch 50/150\n",
      "\n",
      "Epoch 50: val_loss did not improve from 0.08694\n",
      "15/15 - 0s - 20ms/step - categorical_accuracy: 0.9542 - loss: 0.1552 - val_categorical_accuracy: 0.9500 - val_loss: 0.0964 - learning_rate: 1.0000e-04\n",
      "Epoch 51/150\n",
      "\n",
      "Epoch 51: val_loss did not improve from 0.08694\n",
      "15/15 - 0s - 20ms/step - categorical_accuracy: 0.9583 - loss: 0.1699 - val_categorical_accuracy: 0.9500 - val_loss: 0.0886 - learning_rate: 1.0000e-04\n",
      "Epoch 52/150\n",
      "\n",
      "Epoch 52: val_loss improved from 0.08694 to 0.08284, saving model to model rombak preprocessing augmentasi/gru_best.keras\n",
      "15/15 - 0s - 23ms/step - categorical_accuracy: 0.9583 - loss: 0.1643 - val_categorical_accuracy: 0.9500 - val_loss: 0.0828 - learning_rate: 1.0000e-04\n",
      "Epoch 53/150\n",
      "\n",
      "Epoch 53: val_loss did not improve from 0.08284\n",
      "15/15 - 0s - 20ms/step - categorical_accuracy: 0.9708 - loss: 0.1389 - val_categorical_accuracy: 0.9500 - val_loss: 0.0846 - learning_rate: 1.0000e-04\n",
      "Epoch 54/150\n",
      "\n",
      "Epoch 54: val_loss did not improve from 0.08284\n",
      "15/15 - 0s - 20ms/step - categorical_accuracy: 0.9625 - loss: 0.1150 - val_categorical_accuracy: 0.9500 - val_loss: 0.0930 - learning_rate: 1.0000e-04\n",
      "Epoch 55/150\n",
      "\n",
      "Epoch 55: val_loss improved from 0.08284 to 0.08170, saving model to model rombak preprocessing augmentasi/gru_best.keras\n",
      "15/15 - 0s - 24ms/step - categorical_accuracy: 0.9625 - loss: 0.1057 - val_categorical_accuracy: 0.9500 - val_loss: 0.0817 - learning_rate: 1.0000e-04\n",
      "Epoch 56/150\n",
      "\n",
      "Epoch 56: val_loss improved from 0.08170 to 0.08030, saving model to model rombak preprocessing augmentasi/gru_best.keras\n",
      "15/15 - 0s - 24ms/step - categorical_accuracy: 0.9375 - loss: 0.1501 - val_categorical_accuracy: 0.9500 - val_loss: 0.0803 - learning_rate: 1.0000e-04\n",
      "Epoch 57/150\n",
      "\n",
      "Epoch 57: val_loss improved from 0.08030 to 0.07893, saving model to model rombak preprocessing augmentasi/gru_best.keras\n",
      "15/15 - 0s - 23ms/step - categorical_accuracy: 0.9667 - loss: 0.1182 - val_categorical_accuracy: 0.9500 - val_loss: 0.0789 - learning_rate: 1.0000e-04\n",
      "Epoch 58/150\n",
      "\n",
      "Epoch 58: val_loss did not improve from 0.07893\n",
      "15/15 - 0s - 20ms/step - categorical_accuracy: 0.9583 - loss: 0.1102 - val_categorical_accuracy: 0.9500 - val_loss: 0.0817 - learning_rate: 1.0000e-04\n",
      "Epoch 59/150\n",
      "\n",
      "Epoch 59: val_loss did not improve from 0.07893\n",
      "15/15 - 0s - 20ms/step - categorical_accuracy: 0.9708 - loss: 0.0909 - val_categorical_accuracy: 0.9500 - val_loss: 0.0813 - learning_rate: 1.0000e-04\n",
      "Epoch 60/150\n",
      "\n",
      "Epoch 60: val_loss did not improve from 0.07893\n",
      "15/15 - 0s - 19ms/step - categorical_accuracy: 0.9667 - loss: 0.1140 - val_categorical_accuracy: 0.9500 - val_loss: 0.0811 - learning_rate: 1.0000e-04\n",
      "Epoch 61/150\n",
      "\n",
      "Epoch 61: val_loss improved from 0.07893 to 0.07468, saving model to model rombak preprocessing augmentasi/gru_best.keras\n",
      "15/15 - 0s - 29ms/step - categorical_accuracy: 0.9750 - loss: 0.0872 - val_categorical_accuracy: 0.9500 - val_loss: 0.0747 - learning_rate: 1.0000e-04\n",
      "Epoch 62/150\n",
      "\n",
      "Epoch 62: val_loss improved from 0.07468 to 0.07353, saving model to model rombak preprocessing augmentasi/gru_best.keras\n",
      "15/15 - 0s - 24ms/step - categorical_accuracy: 0.9708 - loss: 0.0960 - val_categorical_accuracy: 0.9500 - val_loss: 0.0735 - learning_rate: 1.0000e-04\n",
      "Epoch 63/150\n",
      "\n",
      "Epoch 63: val_loss improved from 0.07353 to 0.06929, saving model to model rombak preprocessing augmentasi/gru_best.keras\n",
      "15/15 - 0s - 23ms/step - categorical_accuracy: 0.9708 - loss: 0.0816 - val_categorical_accuracy: 0.9500 - val_loss: 0.0693 - learning_rate: 1.0000e-04\n",
      "Epoch 64/150\n",
      "\n",
      "Epoch 64: val_loss improved from 0.06929 to 0.06480, saving model to model rombak preprocessing augmentasi/gru_best.keras\n",
      "15/15 - 1s - 39ms/step - categorical_accuracy: 0.9792 - loss: 0.0996 - val_categorical_accuracy: 0.9500 - val_loss: 0.0648 - learning_rate: 1.0000e-04\n",
      "Epoch 65/150\n",
      "\n",
      "Epoch 65: val_loss improved from 0.06480 to 0.05934, saving model to model rombak preprocessing augmentasi/gru_best.keras\n",
      "15/15 - 0s - 24ms/step - categorical_accuracy: 0.9792 - loss: 0.1025 - val_categorical_accuracy: 0.9500 - val_loss: 0.0593 - learning_rate: 1.0000e-04\n",
      "Epoch 66/150\n",
      "\n",
      "Epoch 66: val_loss did not improve from 0.05934\n",
      "15/15 - 0s - 20ms/step - categorical_accuracy: 0.9708 - loss: 0.0863 - val_categorical_accuracy: 0.9500 - val_loss: 0.0657 - learning_rate: 1.0000e-04\n",
      "Epoch 67/150\n",
      "\n",
      "Epoch 67: val_loss did not improve from 0.05934\n",
      "15/15 - 0s - 21ms/step - categorical_accuracy: 0.9667 - loss: 0.0936 - val_categorical_accuracy: 0.9500 - val_loss: 0.0609 - learning_rate: 1.0000e-04\n",
      "Epoch 68/150\n",
      "\n",
      "Epoch 68: val_loss did not improve from 0.05934\n",
      "15/15 - 0s - 20ms/step - categorical_accuracy: 0.9583 - loss: 0.1027 - val_categorical_accuracy: 0.9500 - val_loss: 0.0620 - learning_rate: 1.0000e-04\n",
      "Epoch 69/150\n",
      "\n",
      "Epoch 69: val_loss improved from 0.05934 to 0.05864, saving model to model rombak preprocessing augmentasi/gru_best.keras\n",
      "15/15 - 0s - 24ms/step - categorical_accuracy: 0.9583 - loss: 0.1345 - val_categorical_accuracy: 0.9500 - val_loss: 0.0586 - learning_rate: 1.0000e-04\n",
      "Epoch 70/150\n",
      "\n",
      "Epoch 70: val_loss improved from 0.05864 to 0.05745, saving model to model rombak preprocessing augmentasi/gru_best.keras\n",
      "15/15 - 0s - 24ms/step - categorical_accuracy: 0.9792 - loss: 0.0688 - val_categorical_accuracy: 0.9500 - val_loss: 0.0575 - learning_rate: 1.0000e-04\n",
      "Epoch 71/150\n",
      "\n",
      "Epoch 71: val_loss did not improve from 0.05745\n",
      "15/15 - 0s - 20ms/step - categorical_accuracy: 0.9917 - loss: 0.0632 - val_categorical_accuracy: 0.9500 - val_loss: 0.0618 - learning_rate: 1.0000e-04\n",
      "Epoch 72/150\n",
      "\n",
      "Epoch 72: val_loss did not improve from 0.05745\n",
      "15/15 - 0s - 20ms/step - categorical_accuracy: 0.9625 - loss: 0.0876 - val_categorical_accuracy: 0.9500 - val_loss: 0.0611 - learning_rate: 1.0000e-04\n",
      "Epoch 73/150\n",
      "\n",
      "Epoch 73: val_loss did not improve from 0.05745\n",
      "15/15 - 0s - 20ms/step - categorical_accuracy: 0.9708 - loss: 0.0973 - val_categorical_accuracy: 0.9500 - val_loss: 0.0646 - learning_rate: 1.0000e-04\n",
      "Epoch 74/150\n",
      "\n",
      "Epoch 74: val_loss did not improve from 0.05745\n",
      "15/15 - 0s - 20ms/step - categorical_accuracy: 0.9917 - loss: 0.0553 - val_categorical_accuracy: 0.9500 - val_loss: 0.0654 - learning_rate: 1.0000e-04\n",
      "Epoch 75/150\n",
      "\n",
      "Epoch 75: val_loss did not improve from 0.05745\n",
      "15/15 - 0s - 20ms/step - categorical_accuracy: 0.9708 - loss: 0.1064 - val_categorical_accuracy: 0.9500 - val_loss: 0.0579 - learning_rate: 1.0000e-04\n",
      "Epoch 76/150\n",
      "\n",
      "Epoch 76: val_loss improved from 0.05745 to 0.05278, saving model to model rombak preprocessing augmentasi/gru_best.keras\n",
      "15/15 - 0s - 24ms/step - categorical_accuracy: 0.9792 - loss: 0.0825 - val_categorical_accuracy: 0.9500 - val_loss: 0.0528 - learning_rate: 1.0000e-04\n",
      "Epoch 77/150\n",
      "\n",
      "Epoch 77: val_loss did not improve from 0.05278\n",
      "15/15 - 0s - 20ms/step - categorical_accuracy: 0.9792 - loss: 0.0714 - val_categorical_accuracy: 0.9500 - val_loss: 0.0594 - learning_rate: 1.0000e-04\n",
      "Epoch 78/150\n",
      "\n",
      "Epoch 78: val_loss did not improve from 0.05278\n",
      "15/15 - 0s - 20ms/step - categorical_accuracy: 0.9875 - loss: 0.0508 - val_categorical_accuracy: 0.9500 - val_loss: 0.0615 - learning_rate: 1.0000e-04\n",
      "Epoch 79/150\n",
      "\n",
      "Epoch 79: val_loss did not improve from 0.05278\n",
      "15/15 - 0s - 20ms/step - categorical_accuracy: 0.9750 - loss: 0.0710 - val_categorical_accuracy: 0.9500 - val_loss: 0.0617 - learning_rate: 1.0000e-04\n",
      "Epoch 80/150\n",
      "\n",
      "Epoch 80: val_loss did not improve from 0.05278\n",
      "15/15 - 0s - 20ms/step - categorical_accuracy: 0.9750 - loss: 0.0985 - val_categorical_accuracy: 0.9500 - val_loss: 0.0621 - learning_rate: 1.0000e-04\n",
      "Epoch 81/150\n",
      "\n",
      "Epoch 81: val_loss did not improve from 0.05278\n",
      "15/15 - 0s - 20ms/step - categorical_accuracy: 0.9750 - loss: 0.0994 - val_categorical_accuracy: 0.9500 - val_loss: 0.0626 - learning_rate: 1.0000e-04\n",
      "Epoch 82/150\n",
      "\n",
      "Epoch 82: val_loss did not improve from 0.05278\n",
      "15/15 - 0s - 20ms/step - categorical_accuracy: 0.9792 - loss: 0.0706 - val_categorical_accuracy: 0.9500 - val_loss: 0.0583 - learning_rate: 1.0000e-04\n",
      "Epoch 83/150\n",
      "\n",
      "Epoch 83: val_loss did not improve from 0.05278\n",
      "15/15 - 0s - 21ms/step - categorical_accuracy: 0.9708 - loss: 0.0765 - val_categorical_accuracy: 0.9500 - val_loss: 0.0558 - learning_rate: 1.0000e-04\n",
      "Epoch 84/150\n",
      "\n",
      "Epoch 84: val_loss improved from 0.05278 to 0.04775, saving model to model rombak preprocessing augmentasi/gru_best.keras\n",
      "15/15 - 0s - 23ms/step - categorical_accuracy: 0.9833 - loss: 0.0781 - val_categorical_accuracy: 0.9500 - val_loss: 0.0477 - learning_rate: 1.0000e-04\n",
      "Epoch 85/150\n",
      "\n",
      "Epoch 85: val_loss did not improve from 0.04775\n",
      "15/15 - 0s - 20ms/step - categorical_accuracy: 0.9792 - loss: 0.0548 - val_categorical_accuracy: 0.9500 - val_loss: 0.0539 - learning_rate: 1.0000e-04\n",
      "Epoch 86/150\n",
      "\n",
      "Epoch 86: val_loss did not improve from 0.04775\n",
      "15/15 - 0s - 20ms/step - categorical_accuracy: 0.9958 - loss: 0.0331 - val_categorical_accuracy: 0.9500 - val_loss: 0.0485 - learning_rate: 1.0000e-04\n",
      "Epoch 87/150\n",
      "\n",
      "Epoch 87: val_loss did not improve from 0.04775\n",
      "15/15 - 0s - 20ms/step - categorical_accuracy: 0.9792 - loss: 0.0808 - val_categorical_accuracy: 0.9500 - val_loss: 0.0499 - learning_rate: 1.0000e-04\n",
      "Epoch 88/150\n",
      "\n",
      "Epoch 88: val_loss did not improve from 0.04775\n",
      "15/15 - 0s - 19ms/step - categorical_accuracy: 0.9708 - loss: 0.0700 - val_categorical_accuracy: 0.9500 - val_loss: 0.0502 - learning_rate: 1.0000e-04\n",
      "Epoch 89/150\n",
      "\n",
      "Epoch 89: val_loss improved from 0.04775 to 0.04582, saving model to model rombak preprocessing augmentasi/gru_best.keras\n",
      "15/15 - 0s - 28ms/step - categorical_accuracy: 0.9833 - loss: 0.0553 - val_categorical_accuracy: 0.9500 - val_loss: 0.0458 - learning_rate: 1.0000e-04\n",
      "Epoch 90/150\n",
      "\n",
      "Epoch 90: val_loss improved from 0.04582 to 0.04332, saving model to model rombak preprocessing augmentasi/gru_best.keras\n",
      "15/15 - 0s - 23ms/step - categorical_accuracy: 0.9708 - loss: 0.0834 - val_categorical_accuracy: 0.9500 - val_loss: 0.0433 - learning_rate: 1.0000e-04\n",
      "Epoch 91/150\n",
      "\n",
      "Epoch 91: val_loss improved from 0.04332 to 0.04246, saving model to model rombak preprocessing augmentasi/gru_best.keras\n",
      "15/15 - 0s - 26ms/step - categorical_accuracy: 0.9833 - loss: 0.0783 - val_categorical_accuracy: 0.9500 - val_loss: 0.0425 - learning_rate: 1.0000e-04\n",
      "Epoch 92/150\n",
      "\n",
      "Epoch 92: val_loss improved from 0.04246 to 0.03967, saving model to model rombak preprocessing augmentasi/gru_best.keras\n",
      "15/15 - 0s - 26ms/step - categorical_accuracy: 0.9750 - loss: 0.0741 - val_categorical_accuracy: 0.9500 - val_loss: 0.0397 - learning_rate: 1.0000e-04\n",
      "Epoch 93/150\n",
      "\n",
      "Epoch 93: val_loss did not improve from 0.03967\n",
      "15/15 - 0s - 21ms/step - categorical_accuracy: 0.9875 - loss: 0.0410 - val_categorical_accuracy: 0.9500 - val_loss: 0.0452 - learning_rate: 1.0000e-04\n",
      "Epoch 94/150\n",
      "\n",
      "Epoch 94: val_loss did not improve from 0.03967\n",
      "15/15 - 0s - 21ms/step - categorical_accuracy: 0.9875 - loss: 0.0339 - val_categorical_accuracy: 0.9500 - val_loss: 0.0499 - learning_rate: 1.0000e-04\n",
      "Epoch 95/150\n",
      "\n",
      "Epoch 95: val_loss did not improve from 0.03967\n",
      "15/15 - 0s - 20ms/step - categorical_accuracy: 0.9833 - loss: 0.0747 - val_categorical_accuracy: 0.9500 - val_loss: 0.0477 - learning_rate: 1.0000e-04\n",
      "Epoch 96/150\n",
      "\n",
      "Epoch 96: val_loss did not improve from 0.03967\n",
      "15/15 - 0s - 20ms/step - categorical_accuracy: 0.9833 - loss: 0.0645 - val_categorical_accuracy: 0.9500 - val_loss: 0.0464 - learning_rate: 1.0000e-04\n",
      "Epoch 97/150\n",
      "\n",
      "Epoch 97: val_loss did not improve from 0.03967\n",
      "15/15 - 0s - 20ms/step - categorical_accuracy: 0.9833 - loss: 0.0368 - val_categorical_accuracy: 0.9500 - val_loss: 0.0434 - learning_rate: 1.0000e-04\n",
      "Epoch 98/150\n",
      "\n",
      "Epoch 98: val_loss did not improve from 0.03967\n",
      "15/15 - 0s - 21ms/step - categorical_accuracy: 0.9833 - loss: 0.0574 - val_categorical_accuracy: 0.9500 - val_loss: 0.0439 - learning_rate: 1.0000e-04\n",
      "Epoch 99/150\n",
      "\n",
      "Epoch 99: val_loss did not improve from 0.03967\n",
      "15/15 - 0s - 20ms/step - categorical_accuracy: 0.9792 - loss: 0.0904 - val_categorical_accuracy: 0.9500 - val_loss: 0.0536 - learning_rate: 1.0000e-04\n",
      "Epoch 100/150\n",
      "\n",
      "Epoch 100: val_loss did not improve from 0.03967\n",
      "15/15 - 0s - 21ms/step - categorical_accuracy: 0.9917 - loss: 0.0476 - val_categorical_accuracy: 0.9500 - val_loss: 0.0465 - learning_rate: 1.0000e-04\n",
      "Epoch 101/150\n",
      "\n",
      "Epoch 101: val_loss did not improve from 0.03967\n",
      "15/15 - 0s - 21ms/step - categorical_accuracy: 0.9792 - loss: 0.0920 - val_categorical_accuracy: 0.9500 - val_loss: 0.0400 - learning_rate: 1.0000e-04\n",
      "Epoch 102/150\n",
      "\n",
      "Epoch 102: val_loss improved from 0.03967 to 0.03614, saving model to model rombak preprocessing augmentasi/gru_best.keras\n",
      "15/15 - 0s - 23ms/step - categorical_accuracy: 0.9958 - loss: 0.0381 - val_categorical_accuracy: 1.0000 - val_loss: 0.0361 - learning_rate: 1.0000e-04\n",
      "Epoch 103/150\n",
      "\n",
      "Epoch 103: val_loss improved from 0.03614 to 0.02453, saving model to model rombak preprocessing augmentasi/gru_best.keras\n",
      "15/15 - 0s - 23ms/step - categorical_accuracy: 0.9625 - loss: 0.1185 - val_categorical_accuracy: 1.0000 - val_loss: 0.0245 - learning_rate: 1.0000e-04\n",
      "Epoch 104/150\n",
      "\n",
      "Epoch 104: val_loss did not improve from 0.02453\n",
      "15/15 - 0s - 22ms/step - categorical_accuracy: 0.9792 - loss: 0.0581 - val_categorical_accuracy: 1.0000 - val_loss: 0.0285 - learning_rate: 1.0000e-04\n",
      "Epoch 105/150\n",
      "\n",
      "Epoch 105: val_loss did not improve from 0.02453\n",
      "15/15 - 0s - 21ms/step - categorical_accuracy: 0.9833 - loss: 0.0735 - val_categorical_accuracy: 0.9500 - val_loss: 0.0399 - learning_rate: 1.0000e-04\n",
      "Epoch 106/150\n",
      "\n",
      "Epoch 106: val_loss did not improve from 0.02453\n",
      "15/15 - 0s - 20ms/step - categorical_accuracy: 0.9750 - loss: 0.0694 - val_categorical_accuracy: 0.9500 - val_loss: 0.0440 - learning_rate: 1.0000e-04\n",
      "Epoch 107/150\n",
      "\n",
      "Epoch 107: val_loss did not improve from 0.02453\n",
      "15/15 - 0s - 21ms/step - categorical_accuracy: 0.9833 - loss: 0.0582 - val_categorical_accuracy: 0.9500 - val_loss: 0.0426 - learning_rate: 1.0000e-04\n",
      "Epoch 108/150\n",
      "\n",
      "Epoch 108: val_loss did not improve from 0.02453\n",
      "15/15 - 0s - 20ms/step - categorical_accuracy: 0.9917 - loss: 0.0590 - val_categorical_accuracy: 0.9500 - val_loss: 0.0383 - learning_rate: 1.0000e-04\n",
      "Epoch 109/150\n",
      "\n",
      "Epoch 109: val_loss did not improve from 0.02453\n",
      "15/15 - 0s - 21ms/step - categorical_accuracy: 0.9958 - loss: 0.0267 - val_categorical_accuracy: 1.0000 - val_loss: 0.0316 - learning_rate: 1.0000e-04\n",
      "Epoch 110/150\n",
      "\n",
      "Epoch 110: val_loss did not improve from 0.02453\n",
      "15/15 - 0s - 21ms/step - categorical_accuracy: 0.9917 - loss: 0.0392 - val_categorical_accuracy: 1.0000 - val_loss: 0.0289 - learning_rate: 1.0000e-04\n",
      "Epoch 111/150\n",
      "\n",
      "Epoch 111: val_loss did not improve from 0.02453\n",
      "15/15 - 0s - 21ms/step - categorical_accuracy: 0.9708 - loss: 0.0743 - val_categorical_accuracy: 1.0000 - val_loss: 0.0339 - learning_rate: 1.0000e-04\n",
      "Epoch 112/150\n",
      "\n",
      "Epoch 112: val_loss did not improve from 0.02453\n",
      "15/15 - 0s - 21ms/step - categorical_accuracy: 0.9958 - loss: 0.0292 - val_categorical_accuracy: 1.0000 - val_loss: 0.0346 - learning_rate: 1.0000e-04\n",
      "Epoch 113/150\n",
      "\n",
      "Epoch 113: val_loss did not improve from 0.02453\n",
      "\n",
      "Epoch 113: ReduceLROnPlateau reducing learning rate to 4.999999873689376e-05.\n",
      "15/15 - 0s - 21ms/step - categorical_accuracy: 0.9875 - loss: 0.0378 - val_categorical_accuracy: 1.0000 - val_loss: 0.0358 - learning_rate: 1.0000e-04\n",
      "Epoch 114/150\n",
      "\n",
      "Epoch 114: val_loss did not improve from 0.02453\n",
      "15/15 - 0s - 20ms/step - categorical_accuracy: 0.9875 - loss: 0.0332 - val_categorical_accuracy: 0.9500 - val_loss: 0.0378 - learning_rate: 5.0000e-05\n",
      "Epoch 115/150\n",
      "\n",
      "Epoch 115: val_loss did not improve from 0.02453\n",
      "15/15 - 0s - 19ms/step - categorical_accuracy: 0.9792 - loss: 0.0570 - val_categorical_accuracy: 0.9500 - val_loss: 0.0367 - learning_rate: 5.0000e-05\n",
      "Epoch 116/150\n",
      "\n",
      "Epoch 116: val_loss did not improve from 0.02453\n",
      "15/15 - 0s - 20ms/step - categorical_accuracy: 0.9792 - loss: 0.0809 - val_categorical_accuracy: 1.0000 - val_loss: 0.0299 - learning_rate: 5.0000e-05\n",
      "Epoch 117/150\n",
      "\n",
      "Epoch 117: val_loss did not improve from 0.02453\n",
      "15/15 - 0s - 21ms/step - categorical_accuracy: 0.9750 - loss: 0.0668 - val_categorical_accuracy: 1.0000 - val_loss: 0.0330 - learning_rate: 5.0000e-05\n",
      "Epoch 118/150\n",
      "\n",
      "Epoch 118: val_loss did not improve from 0.02453\n",
      "15/15 - 0s - 20ms/step - categorical_accuracy: 0.9542 - loss: 0.1332 - val_categorical_accuracy: 1.0000 - val_loss: 0.0318 - learning_rate: 5.0000e-05\n",
      "Epoch 119/150\n",
      "\n",
      "Epoch 119: val_loss did not improve from 0.02453\n",
      "15/15 - 0s - 21ms/step - categorical_accuracy: 0.9833 - loss: 0.0448 - val_categorical_accuracy: 1.0000 - val_loss: 0.0355 - learning_rate: 5.0000e-05\n",
      "Epoch 120/150\n",
      "\n",
      "Epoch 120: val_loss did not improve from 0.02453\n",
      "15/15 - 0s - 21ms/step - categorical_accuracy: 0.9875 - loss: 0.0463 - val_categorical_accuracy: 1.0000 - val_loss: 0.0361 - learning_rate: 5.0000e-05\n",
      "Epoch 121/150\n",
      "\n",
      "Epoch 121: val_loss did not improve from 0.02453\n",
      "15/15 - 0s - 21ms/step - categorical_accuracy: 0.9833 - loss: 0.0556 - val_categorical_accuracy: 1.0000 - val_loss: 0.0337 - learning_rate: 5.0000e-05\n",
      "Epoch 122/150\n",
      "\n",
      "Epoch 122: val_loss did not improve from 0.02453\n",
      "15/15 - 0s - 20ms/step - categorical_accuracy: 0.9792 - loss: 0.0563 - val_categorical_accuracy: 1.0000 - val_loss: 0.0306 - learning_rate: 5.0000e-05\n",
      "Epoch 123/150\n",
      "\n",
      "Epoch 123: val_loss did not improve from 0.02453\n",
      "\n",
      "Epoch 123: ReduceLROnPlateau reducing learning rate to 2.499999936844688e-05.\n",
      "15/15 - 0s - 20ms/step - categorical_accuracy: 0.9792 - loss: 0.0639 - val_categorical_accuracy: 1.0000 - val_loss: 0.0297 - learning_rate: 5.0000e-05\n",
      "Epoch 123: early stopping\n",
      "Restoring model weights from the end of the best epoch: 103.\n"
     ]
    }
   ],
   "source": [
    "# --- Model GRU ---\n",
    "print(\"\\n--- Melatih Model GRU ---\")\n",
    "model_gru = Sequential([\n",
    "    GRU(128, return_sequences=True, input_shape=(sequence_length, num_features)),\n",
    "    BatchNormalization(),\n",
    "    Dropout(0.4),\n",
    "    GRU(128, return_sequences=True),\n",
    "    BatchNormalization(),\n",
    "    Dropout(0.4),\n",
    "    GRU(64),\n",
    "    Dense(128, activation='relu'),\n",
    "    BatchNormalization(),\n",
    "    Dropout(0.5),\n",
    "    Dense(num_classes, activation='softmax')\n",
    "])\n",
    "\n",
    "model_gru.compile(\n",
    "    optimizer=Adam(1e-4),\n",
    "    loss='categorical_crossentropy',\n",
    "    metrics=['categorical_accuracy']\n",
    ")\n",
    "\n",
    "callbacks_gru = [\n",
    "    EarlyStopping(patience=20, restore_best_weights=True, monitor='val_loss', verbose=1),\n",
    "    ModelCheckpoint('model rombak preprocessing augmentasi/gru_best.keras', monitor='val_loss', save_best_only=True, verbose=1),\n",
    "    ReduceLROnPlateau(patience=10, factor=0.5, verbose=1, min_lr=1e-6)\n",
    "]\n",
    "\n",
    "history_gru = model_gru.fit(\n",
    "    X_train_scaled, y_train_one_hot,\n",
    "    epochs=150,\n",
    "    batch_size=16,\n",
    "    validation_data=(X_val_scaled, y_val_one_hot),\n",
    "    callbacks=callbacks_gru,\n",
    "    verbose=2\n",
    ")"
   ]
  },
  {
   "cell_type": "code",
   "execution_count": 42,
   "metadata": {
    "execution": {
     "iopub.execute_input": "2025-05-26T04:16:51.857719Z",
     "iopub.status.busy": "2025-05-26T04:16:51.857325Z",
     "iopub.status.idle": "2025-05-26T04:17:25.392478Z",
     "shell.execute_reply": "2025-05-26T04:17:25.391568Z",
     "shell.execute_reply.started": "2025-05-26T04:16:51.857694Z"
    },
    "trusted": true
   },
   "outputs": [
    {
     "name": "stdout",
     "output_type": "stream",
     "text": [
      "\n",
      "--- Melatih Model 1D CNN ---\n",
      "Epoch 1/150\n"
     ]
    },
    {
     "name": "stderr",
     "output_type": "stream",
     "text": [
      "c:\\Users\\M Fathurrahman\\Videos\\LASKAR AI\\ActionDetection-Yolo--2-\\coba\\lib\\site-packages\\keras\\src\\layers\\convolutional\\base_conv.py:113: UserWarning: Do not pass an `input_shape`/`input_dim` argument to a layer. When using Sequential models, prefer using an `Input(shape)` object as the first layer in the model instead.\n",
      "  super().__init__(activity_regularizer=activity_regularizer, **kwargs)\n"
     ]
    },
    {
     "name": "stdout",
     "output_type": "stream",
     "text": [
      "\n",
      "Epoch 1: val_loss improved from inf to 1.41999, saving model to model rombak preprocessing augmentasi/cnn_best.keras\n",
      "15/15 - 2s - 117ms/step - categorical_accuracy: 0.4708 - loss: 1.5343 - val_categorical_accuracy: 0.4000 - val_loss: 1.4200 - learning_rate: 1.0000e-04\n",
      "Epoch 2/150\n",
      "\n",
      "Epoch 2: val_loss improved from 1.41999 to 1.26081, saving model to model rombak preprocessing augmentasi/cnn_best.keras\n",
      "15/15 - 0s - 11ms/step - categorical_accuracy: 0.7375 - loss: 0.7375 - val_categorical_accuracy: 0.7000 - val_loss: 1.2608 - learning_rate: 1.0000e-04\n",
      "Epoch 3/150\n",
      "\n",
      "Epoch 3: val_loss improved from 1.26081 to 1.14067, saving model to model rombak preprocessing augmentasi/cnn_best.keras\n",
      "15/15 - 0s - 11ms/step - categorical_accuracy: 0.8208 - loss: 0.4830 - val_categorical_accuracy: 0.7500 - val_loss: 1.1407 - learning_rate: 1.0000e-04\n",
      "Epoch 4/150\n",
      "\n",
      "Epoch 4: val_loss improved from 1.14067 to 1.02801, saving model to model rombak preprocessing augmentasi/cnn_best.keras\n",
      "15/15 - 0s - 11ms/step - categorical_accuracy: 0.8917 - loss: 0.3580 - val_categorical_accuracy: 0.7500 - val_loss: 1.0280 - learning_rate: 1.0000e-04\n",
      "Epoch 5/150\n",
      "\n",
      "Epoch 5: val_loss improved from 1.02801 to 0.92424, saving model to model rombak preprocessing augmentasi/cnn_best.keras\n",
      "15/15 - 0s - 11ms/step - categorical_accuracy: 0.9250 - loss: 0.2472 - val_categorical_accuracy: 0.8000 - val_loss: 0.9242 - learning_rate: 1.0000e-04\n",
      "Epoch 6/150\n",
      "\n",
      "Epoch 6: val_loss improved from 0.92424 to 0.83393, saving model to model rombak preprocessing augmentasi/cnn_best.keras\n",
      "15/15 - 0s - 11ms/step - categorical_accuracy: 0.9417 - loss: 0.2074 - val_categorical_accuracy: 0.8000 - val_loss: 0.8339 - learning_rate: 1.0000e-04\n",
      "Epoch 7/150\n",
      "\n",
      "Epoch 7: val_loss improved from 0.83393 to 0.76397, saving model to model rombak preprocessing augmentasi/cnn_best.keras\n",
      "15/15 - 0s - 12ms/step - categorical_accuracy: 0.9458 - loss: 0.2017 - val_categorical_accuracy: 0.7000 - val_loss: 0.7640 - learning_rate: 1.0000e-04\n",
      "Epoch 8/150\n",
      "\n",
      "Epoch 8: val_loss improved from 0.76397 to 0.69546, saving model to model rombak preprocessing augmentasi/cnn_best.keras\n",
      "15/15 - 0s - 12ms/step - categorical_accuracy: 0.9333 - loss: 0.1931 - val_categorical_accuracy: 0.7000 - val_loss: 0.6955 - learning_rate: 1.0000e-04\n",
      "Epoch 9/150\n",
      "\n",
      "Epoch 9: val_loss improved from 0.69546 to 0.62019, saving model to model rombak preprocessing augmentasi/cnn_best.keras\n",
      "15/15 - 0s - 11ms/step - categorical_accuracy: 0.9625 - loss: 0.1433 - val_categorical_accuracy: 0.7000 - val_loss: 0.6202 - learning_rate: 1.0000e-04\n",
      "Epoch 10/150\n",
      "\n",
      "Epoch 10: val_loss improved from 0.62019 to 0.53928, saving model to model rombak preprocessing augmentasi/cnn_best.keras\n",
      "15/15 - 0s - 10ms/step - categorical_accuracy: 0.9792 - loss: 0.1505 - val_categorical_accuracy: 0.8000 - val_loss: 0.5393 - learning_rate: 1.0000e-04\n",
      "Epoch 11/150\n",
      "\n",
      "Epoch 11: val_loss improved from 0.53928 to 0.49513, saving model to model rombak preprocessing augmentasi/cnn_best.keras\n",
      "15/15 - 0s - 11ms/step - categorical_accuracy: 0.9792 - loss: 0.1320 - val_categorical_accuracy: 0.8000 - val_loss: 0.4951 - learning_rate: 1.0000e-04\n",
      "Epoch 12/150\n",
      "\n",
      "Epoch 12: val_loss improved from 0.49513 to 0.45697, saving model to model rombak preprocessing augmentasi/cnn_best.keras\n",
      "15/15 - 0s - 11ms/step - categorical_accuracy: 0.9625 - loss: 0.1295 - val_categorical_accuracy: 0.7000 - val_loss: 0.4570 - learning_rate: 1.0000e-04\n",
      "Epoch 13/150\n",
      "\n",
      "Epoch 13: val_loss improved from 0.45697 to 0.37810, saving model to model rombak preprocessing augmentasi/cnn_best.keras\n",
      "15/15 - 0s - 11ms/step - categorical_accuracy: 0.9833 - loss: 0.1011 - val_categorical_accuracy: 0.8000 - val_loss: 0.3781 - learning_rate: 1.0000e-04\n",
      "Epoch 14/150\n",
      "\n",
      "Epoch 14: val_loss improved from 0.37810 to 0.30147, saving model to model rombak preprocessing augmentasi/cnn_best.keras\n",
      "15/15 - 0s - 11ms/step - categorical_accuracy: 0.9500 - loss: 0.1304 - val_categorical_accuracy: 0.9500 - val_loss: 0.3015 - learning_rate: 1.0000e-04\n",
      "Epoch 15/150\n",
      "\n",
      "Epoch 15: val_loss improved from 0.30147 to 0.25697, saving model to model rombak preprocessing augmentasi/cnn_best.keras\n",
      "15/15 - 0s - 11ms/step - categorical_accuracy: 0.9917 - loss: 0.0747 - val_categorical_accuracy: 0.9500 - val_loss: 0.2570 - learning_rate: 1.0000e-04\n",
      "Epoch 16/150\n",
      "\n",
      "Epoch 16: val_loss improved from 0.25697 to 0.23398, saving model to model rombak preprocessing augmentasi/cnn_best.keras\n",
      "15/15 - 0s - 11ms/step - categorical_accuracy: 0.9792 - loss: 0.0842 - val_categorical_accuracy: 0.9500 - val_loss: 0.2340 - learning_rate: 1.0000e-04\n",
      "Epoch 17/150\n",
      "\n",
      "Epoch 17: val_loss improved from 0.23398 to 0.19266, saving model to model rombak preprocessing augmentasi/cnn_best.keras\n",
      "15/15 - 0s - 11ms/step - categorical_accuracy: 0.9708 - loss: 0.1208 - val_categorical_accuracy: 0.9500 - val_loss: 0.1927 - learning_rate: 1.0000e-04\n",
      "Epoch 18/150\n",
      "\n",
      "Epoch 18: val_loss improved from 0.19266 to 0.18448, saving model to model rombak preprocessing augmentasi/cnn_best.keras\n",
      "15/15 - 0s - 11ms/step - categorical_accuracy: 0.9875 - loss: 0.0807 - val_categorical_accuracy: 0.9500 - val_loss: 0.1845 - learning_rate: 1.0000e-04\n",
      "Epoch 19/150\n",
      "\n",
      "Epoch 19: val_loss improved from 0.18448 to 0.14891, saving model to model rombak preprocessing augmentasi/cnn_best.keras\n",
      "15/15 - 0s - 11ms/step - categorical_accuracy: 0.9792 - loss: 0.0927 - val_categorical_accuracy: 0.9500 - val_loss: 0.1489 - learning_rate: 1.0000e-04\n",
      "Epoch 20/150\n",
      "\n",
      "Epoch 20: val_loss improved from 0.14891 to 0.14303, saving model to model rombak preprocessing augmentasi/cnn_best.keras\n",
      "15/15 - 0s - 11ms/step - categorical_accuracy: 0.9833 - loss: 0.0775 - val_categorical_accuracy: 0.9500 - val_loss: 0.1430 - learning_rate: 1.0000e-04\n",
      "Epoch 21/150\n",
      "\n",
      "Epoch 21: val_loss improved from 0.14303 to 0.12660, saving model to model rombak preprocessing augmentasi/cnn_best.keras\n",
      "15/15 - 0s - 11ms/step - categorical_accuracy: 0.9917 - loss: 0.0531 - val_categorical_accuracy: 0.9500 - val_loss: 0.1266 - learning_rate: 1.0000e-04\n",
      "Epoch 22/150\n",
      "\n",
      "Epoch 22: val_loss improved from 0.12660 to 0.12166, saving model to model rombak preprocessing augmentasi/cnn_best.keras\n",
      "15/15 - 0s - 11ms/step - categorical_accuracy: 0.9833 - loss: 0.0730 - val_categorical_accuracy: 0.9500 - val_loss: 0.1217 - learning_rate: 1.0000e-04\n",
      "Epoch 23/150\n",
      "\n",
      "Epoch 23: val_loss improved from 0.12166 to 0.11131, saving model to model rombak preprocessing augmentasi/cnn_best.keras\n",
      "15/15 - 0s - 11ms/step - categorical_accuracy: 0.9833 - loss: 0.0703 - val_categorical_accuracy: 0.9500 - val_loss: 0.1113 - learning_rate: 1.0000e-04\n",
      "Epoch 24/150\n",
      "\n",
      "Epoch 24: val_loss improved from 0.11131 to 0.09753, saving model to model rombak preprocessing augmentasi/cnn_best.keras\n",
      "15/15 - 0s - 11ms/step - categorical_accuracy: 0.9792 - loss: 0.0699 - val_categorical_accuracy: 0.9500 - val_loss: 0.0975 - learning_rate: 1.0000e-04\n",
      "Epoch 25/150\n",
      "\n",
      "Epoch 25: val_loss improved from 0.09753 to 0.09565, saving model to model rombak preprocessing augmentasi/cnn_best.keras\n",
      "15/15 - 0s - 11ms/step - categorical_accuracy: 0.9833 - loss: 0.0693 - val_categorical_accuracy: 0.9500 - val_loss: 0.0956 - learning_rate: 1.0000e-04\n",
      "Epoch 26/150\n",
      "\n",
      "Epoch 26: val_loss improved from 0.09565 to 0.09197, saving model to model rombak preprocessing augmentasi/cnn_best.keras\n",
      "15/15 - 0s - 11ms/step - categorical_accuracy: 0.9875 - loss: 0.0624 - val_categorical_accuracy: 0.9500 - val_loss: 0.0920 - learning_rate: 1.0000e-04\n",
      "Epoch 27/150\n",
      "\n",
      "Epoch 27: val_loss improved from 0.09197 to 0.08719, saving model to model rombak preprocessing augmentasi/cnn_best.keras\n",
      "15/15 - 0s - 11ms/step - categorical_accuracy: 0.9792 - loss: 0.1014 - val_categorical_accuracy: 0.9500 - val_loss: 0.0872 - learning_rate: 1.0000e-04\n",
      "Epoch 28/150\n",
      "\n",
      "Epoch 28: val_loss improved from 0.08719 to 0.08451, saving model to model rombak preprocessing augmentasi/cnn_best.keras\n",
      "15/15 - 0s - 11ms/step - categorical_accuracy: 0.9833 - loss: 0.0510 - val_categorical_accuracy: 0.9500 - val_loss: 0.0845 - learning_rate: 1.0000e-04\n",
      "Epoch 29/150\n",
      "\n",
      "Epoch 29: val_loss did not improve from 0.08451\n",
      "15/15 - 0s - 9ms/step - categorical_accuracy: 0.9917 - loss: 0.0518 - val_categorical_accuracy: 0.9500 - val_loss: 0.0848 - learning_rate: 1.0000e-04\n",
      "Epoch 30/150\n",
      "\n",
      "Epoch 30: val_loss did not improve from 0.08451\n",
      "15/15 - 0s - 8ms/step - categorical_accuracy: 0.9792 - loss: 0.1076 - val_categorical_accuracy: 0.9500 - val_loss: 0.0858 - learning_rate: 1.0000e-04\n",
      "Epoch 31/150\n",
      "\n",
      "Epoch 31: val_loss did not improve from 0.08451\n",
      "15/15 - 0s - 8ms/step - categorical_accuracy: 0.9875 - loss: 0.0622 - val_categorical_accuracy: 0.9500 - val_loss: 0.0895 - learning_rate: 1.0000e-04\n",
      "Epoch 32/150\n",
      "\n",
      "Epoch 32: val_loss did not improve from 0.08451\n",
      "15/15 - 0s - 8ms/step - categorical_accuracy: 0.9833 - loss: 0.0577 - val_categorical_accuracy: 0.9500 - val_loss: 0.0895 - learning_rate: 1.0000e-04\n",
      "Epoch 33/150\n",
      "\n",
      "Epoch 33: val_loss did not improve from 0.08451\n",
      "15/15 - 0s - 8ms/step - categorical_accuracy: 0.9708 - loss: 0.0930 - val_categorical_accuracy: 0.9500 - val_loss: 0.0882 - learning_rate: 1.0000e-04\n",
      "Epoch 34/150\n",
      "\n",
      "Epoch 34: val_loss did not improve from 0.08451\n",
      "15/15 - 0s - 8ms/step - categorical_accuracy: 0.9792 - loss: 0.0786 - val_categorical_accuracy: 0.9500 - val_loss: 0.0874 - learning_rate: 1.0000e-04\n",
      "Epoch 35/150\n",
      "\n",
      "Epoch 35: val_loss did not improve from 0.08451\n",
      "15/15 - 0s - 8ms/step - categorical_accuracy: 0.9875 - loss: 0.0553 - val_categorical_accuracy: 0.9500 - val_loss: 0.0884 - learning_rate: 1.0000e-04\n",
      "Epoch 36/150\n",
      "\n",
      "Epoch 36: val_loss did not improve from 0.08451\n",
      "15/15 - 0s - 8ms/step - categorical_accuracy: 0.9792 - loss: 0.0742 - val_categorical_accuracy: 0.9500 - val_loss: 0.1008 - learning_rate: 1.0000e-04\n",
      "Epoch 37/150\n",
      "\n",
      "Epoch 37: val_loss did not improve from 0.08451\n",
      "15/15 - 0s - 8ms/step - categorical_accuracy: 0.9875 - loss: 0.0525 - val_categorical_accuracy: 0.9500 - val_loss: 0.0932 - learning_rate: 1.0000e-04\n",
      "Epoch 38/150\n",
      "\n",
      "Epoch 38: val_loss did not improve from 0.08451\n",
      "\n",
      "Epoch 38: ReduceLROnPlateau reducing learning rate to 4.999999873689376e-05.\n",
      "15/15 - 0s - 9ms/step - categorical_accuracy: 0.9875 - loss: 0.0533 - val_categorical_accuracy: 0.9500 - val_loss: 0.0988 - learning_rate: 1.0000e-04\n",
      "Epoch 39/150\n",
      "\n",
      "Epoch 39: val_loss did not improve from 0.08451\n",
      "15/15 - 0s - 9ms/step - categorical_accuracy: 0.9875 - loss: 0.0445 - val_categorical_accuracy: 0.9500 - val_loss: 0.0986 - learning_rate: 5.0000e-05\n",
      "Epoch 40/150\n",
      "\n",
      "Epoch 40: val_loss did not improve from 0.08451\n",
      "15/15 - 0s - 9ms/step - categorical_accuracy: 0.9917 - loss: 0.0538 - val_categorical_accuracy: 0.9500 - val_loss: 0.0976 - learning_rate: 5.0000e-05\n",
      "Epoch 41/150\n",
      "\n",
      "Epoch 41: val_loss did not improve from 0.08451\n",
      "15/15 - 0s - 9ms/step - categorical_accuracy: 0.9917 - loss: 0.0398 - val_categorical_accuracy: 0.9500 - val_loss: 0.0937 - learning_rate: 5.0000e-05\n",
      "Epoch 42/150\n",
      "\n",
      "Epoch 42: val_loss did not improve from 0.08451\n",
      "15/15 - 0s - 8ms/step - categorical_accuracy: 0.9917 - loss: 0.0336 - val_categorical_accuracy: 0.9500 - val_loss: 0.0930 - learning_rate: 5.0000e-05\n",
      "Epoch 43/150\n",
      "\n",
      "Epoch 43: val_loss did not improve from 0.08451\n",
      "15/15 - 0s - 8ms/step - categorical_accuracy: 0.9833 - loss: 0.0539 - val_categorical_accuracy: 0.9500 - val_loss: 0.0888 - learning_rate: 5.0000e-05\n",
      "Epoch 44/150\n",
      "\n",
      "Epoch 44: val_loss did not improve from 0.08451\n",
      "15/15 - 0s - 9ms/step - categorical_accuracy: 0.9917 - loss: 0.0562 - val_categorical_accuracy: 0.9500 - val_loss: 0.0883 - learning_rate: 5.0000e-05\n",
      "Epoch 45/150\n",
      "\n",
      "Epoch 45: val_loss did not improve from 0.08451\n",
      "15/15 - 0s - 9ms/step - categorical_accuracy: 0.9917 - loss: 0.0430 - val_categorical_accuracy: 0.9500 - val_loss: 0.0869 - learning_rate: 5.0000e-05\n",
      "Epoch 46/150\n",
      "\n",
      "Epoch 46: val_loss improved from 0.08451 to 0.08303, saving model to model rombak preprocessing augmentasi/cnn_best.keras\n",
      "15/15 - 0s - 11ms/step - categorical_accuracy: 0.9750 - loss: 0.0759 - val_categorical_accuracy: 0.9500 - val_loss: 0.0830 - learning_rate: 5.0000e-05\n",
      "Epoch 47/150\n",
      "\n",
      "Epoch 47: val_loss improved from 0.08303 to 0.07997, saving model to model rombak preprocessing augmentasi/cnn_best.keras\n",
      "15/15 - 0s - 12ms/step - categorical_accuracy: 0.9833 - loss: 0.0544 - val_categorical_accuracy: 0.9500 - val_loss: 0.0800 - learning_rate: 5.0000e-05\n",
      "Epoch 48/150\n",
      "\n",
      "Epoch 48: val_loss did not improve from 0.07997\n",
      "15/15 - 0s - 8ms/step - categorical_accuracy: 0.9958 - loss: 0.0479 - val_categorical_accuracy: 0.9500 - val_loss: 0.0807 - learning_rate: 5.0000e-05\n",
      "Epoch 49/150\n",
      "\n",
      "Epoch 49: val_loss improved from 0.07997 to 0.07908, saving model to model rombak preprocessing augmentasi/cnn_best.keras\n",
      "15/15 - 0s - 11ms/step - categorical_accuracy: 0.9958 - loss: 0.0416 - val_categorical_accuracy: 0.9500 - val_loss: 0.0791 - learning_rate: 5.0000e-05\n",
      "Epoch 50/150\n",
      "\n",
      "Epoch 50: val_loss improved from 0.07908 to 0.07780, saving model to model rombak preprocessing augmentasi/cnn_best.keras\n",
      "15/15 - 0s - 11ms/step - categorical_accuracy: 0.9875 - loss: 0.0405 - val_categorical_accuracy: 0.9500 - val_loss: 0.0778 - learning_rate: 5.0000e-05\n",
      "Epoch 51/150\n",
      "\n",
      "Epoch 51: val_loss did not improve from 0.07780\n",
      "15/15 - 0s - 10ms/step - categorical_accuracy: 0.9875 - loss: 0.0527 - val_categorical_accuracy: 0.9500 - val_loss: 0.0781 - learning_rate: 5.0000e-05\n",
      "Epoch 52/150\n",
      "\n",
      "Epoch 52: val_loss did not improve from 0.07780\n",
      "15/15 - 0s - 9ms/step - categorical_accuracy: 0.9917 - loss: 0.0394 - val_categorical_accuracy: 0.9500 - val_loss: 0.0797 - learning_rate: 5.0000e-05\n",
      "Epoch 53/150\n",
      "\n",
      "Epoch 53: val_loss did not improve from 0.07780\n",
      "15/15 - 0s - 9ms/step - categorical_accuracy: 0.9917 - loss: 0.0391 - val_categorical_accuracy: 0.9500 - val_loss: 0.0806 - learning_rate: 5.0000e-05\n",
      "Epoch 54/150\n",
      "\n",
      "Epoch 54: val_loss did not improve from 0.07780\n",
      "15/15 - 0s - 9ms/step - categorical_accuracy: 0.9833 - loss: 0.0555 - val_categorical_accuracy: 0.9500 - val_loss: 0.0831 - learning_rate: 5.0000e-05\n",
      "Epoch 55/150\n",
      "\n",
      "Epoch 55: val_loss did not improve from 0.07780\n",
      "15/15 - 0s - 8ms/step - categorical_accuracy: 0.9917 - loss: 0.0376 - val_categorical_accuracy: 0.9500 - val_loss: 0.0834 - learning_rate: 5.0000e-05\n",
      "Epoch 56/150\n",
      "\n",
      "Epoch 56: val_loss did not improve from 0.07780\n",
      "15/15 - 0s - 9ms/step - categorical_accuracy: 0.9833 - loss: 0.0537 - val_categorical_accuracy: 0.9500 - val_loss: 0.0803 - learning_rate: 5.0000e-05\n",
      "Epoch 57/150\n",
      "\n",
      "Epoch 57: val_loss did not improve from 0.07780\n",
      "15/15 - 0s - 9ms/step - categorical_accuracy: 0.9792 - loss: 0.0469 - val_categorical_accuracy: 0.9500 - val_loss: 0.0844 - learning_rate: 5.0000e-05\n",
      "Epoch 58/150\n",
      "\n",
      "Epoch 58: val_loss did not improve from 0.07780\n",
      "15/15 - 0s - 8ms/step - categorical_accuracy: 0.9833 - loss: 0.0390 - val_categorical_accuracy: 0.9500 - val_loss: 0.0885 - learning_rate: 5.0000e-05\n",
      "Epoch 59/150\n",
      "\n",
      "Epoch 59: val_loss did not improve from 0.07780\n",
      "15/15 - 0s - 9ms/step - categorical_accuracy: 0.9917 - loss: 0.0284 - val_categorical_accuracy: 0.9500 - val_loss: 0.0885 - learning_rate: 5.0000e-05\n",
      "Epoch 60/150\n",
      "\n",
      "Epoch 60: val_loss did not improve from 0.07780\n",
      "\n",
      "Epoch 60: ReduceLROnPlateau reducing learning rate to 2.499999936844688e-05.\n",
      "15/15 - 0s - 8ms/step - categorical_accuracy: 0.9875 - loss: 0.0439 - val_categorical_accuracy: 0.9500 - val_loss: 0.0862 - learning_rate: 5.0000e-05\n",
      "Epoch 61/150\n",
      "\n",
      "Epoch 61: val_loss did not improve from 0.07780\n",
      "15/15 - 0s - 8ms/step - categorical_accuracy: 0.9958 - loss: 0.0324 - val_categorical_accuracy: 0.9500 - val_loss: 0.0850 - learning_rate: 2.5000e-05\n",
      "Epoch 62/150\n",
      "\n",
      "Epoch 62: val_loss did not improve from 0.07780\n",
      "15/15 - 0s - 8ms/step - categorical_accuracy: 0.9875 - loss: 0.0366 - val_categorical_accuracy: 0.9500 - val_loss: 0.0820 - learning_rate: 2.5000e-05\n",
      "Epoch 63/150\n",
      "\n",
      "Epoch 63: val_loss did not improve from 0.07780\n",
      "15/15 - 0s - 8ms/step - categorical_accuracy: 0.9917 - loss: 0.0308 - val_categorical_accuracy: 0.9500 - val_loss: 0.0807 - learning_rate: 2.5000e-05\n",
      "Epoch 64/150\n",
      "\n",
      "Epoch 64: val_loss did not improve from 0.07780\n",
      "15/15 - 0s - 8ms/step - categorical_accuracy: 0.9875 - loss: 0.0369 - val_categorical_accuracy: 0.9500 - val_loss: 0.0799 - learning_rate: 2.5000e-05\n",
      "Epoch 65/150\n",
      "\n",
      "Epoch 65: val_loss did not improve from 0.07780\n",
      "15/15 - 0s - 8ms/step - categorical_accuracy: 0.9875 - loss: 0.0584 - val_categorical_accuracy: 0.9500 - val_loss: 0.0810 - learning_rate: 2.5000e-05\n",
      "Epoch 66/150\n",
      "\n",
      "Epoch 66: val_loss did not improve from 0.07780\n",
      "15/15 - 0s - 8ms/step - categorical_accuracy: 0.9875 - loss: 0.0458 - val_categorical_accuracy: 0.9500 - val_loss: 0.0834 - learning_rate: 2.5000e-05\n",
      "Epoch 67/150\n",
      "\n",
      "Epoch 67: val_loss did not improve from 0.07780\n",
      "15/15 - 0s - 8ms/step - categorical_accuracy: 0.9833 - loss: 0.0428 - val_categorical_accuracy: 0.9500 - val_loss: 0.0847 - learning_rate: 2.5000e-05\n",
      "Epoch 68/150\n",
      "\n",
      "Epoch 68: val_loss did not improve from 0.07780\n",
      "15/15 - 0s - 8ms/step - categorical_accuracy: 0.9917 - loss: 0.0397 - val_categorical_accuracy: 0.9500 - val_loss: 0.0847 - learning_rate: 2.5000e-05\n",
      "Epoch 69/150\n",
      "\n",
      "Epoch 69: val_loss did not improve from 0.07780\n",
      "15/15 - 0s - 8ms/step - categorical_accuracy: 0.9958 - loss: 0.0288 - val_categorical_accuracy: 0.9500 - val_loss: 0.0832 - learning_rate: 2.5000e-05\n",
      "Epoch 70/150\n",
      "\n",
      "Epoch 70: val_loss did not improve from 0.07780\n",
      "\n",
      "Epoch 70: ReduceLROnPlateau reducing learning rate to 1.249999968422344e-05.\n",
      "15/15 - 0s - 8ms/step - categorical_accuracy: 0.9917 - loss: 0.0341 - val_categorical_accuracy: 0.9500 - val_loss: 0.0821 - learning_rate: 2.5000e-05\n",
      "Epoch 70: early stopping\n",
      "Restoring model weights from the end of the best epoch: 50.\n"
     ]
    }
   ],
   "source": [
    "# --- Model 1D CNN ---\n",
    "print(\"\\n--- Melatih Model 1D CNN ---\")\n",
    "model_cnn = Sequential([\n",
    "    Conv1D(128, kernel_size=5, activation='relu', input_shape=(sequence_length, num_features), padding='same'),\n",
    "    BatchNormalization(), \n",
    "    Dropout(0.3),\n",
    "    Conv1D(128, kernel_size=3, activation='relu', padding='same'),\n",
    "    BatchNormalization(), \n",
    "    Dropout(0.3),\n",
    "    GlobalAveragePooling1D(),\n",
    "    Dense(64, activation='relu'),\n",
    "    BatchNormalization(), \n",
    "    Dropout(0.4),\n",
    "    Dense(num_classes, activation='softmax')\n",
    "])\n",
    "\n",
    "model_cnn.compile(optimizer=Adam(1e-4),\n",
    "                  loss='categorical_crossentropy',\n",
    "                  metrics=['categorical_accuracy'])\n",
    "\n",
    "callbacks_cnn = [\n",
    "    EarlyStopping(patience=20, restore_best_weights=True, monitor='val_loss', verbose=1),\n",
    "    ModelCheckpoint('model rombak preprocessing augmentasi/cnn_best.keras', monitor='val_loss', save_best_only=True, verbose=1),\n",
    "    ReduceLROnPlateau(patience=10, factor=0.5, verbose=1, min_lr=1e-6)\n",
    "]\n",
    "\n",
    "history_cnn = model_cnn.fit(\n",
    "    X_train_scaled, y_train_one_hot,\n",
    "    epochs=150,\n",
    "    batch_size=16,\n",
    "    validation_data=(X_val_scaled, y_val_one_hot),\n",
    "    callbacks=callbacks_cnn,\n",
    "    verbose=2\n",
    ")"
   ]
  },
  {
   "cell_type": "markdown",
   "metadata": {},
   "source": [
    "# Grafik"
   ]
  },
  {
   "cell_type": "code",
   "execution_count": 43,
   "metadata": {
    "execution": {
     "iopub.execute_input": "2025-05-26T04:17:25.394752Z",
     "iopub.status.busy": "2025-05-26T04:17:25.394189Z",
     "iopub.status.idle": "2025-05-26T04:17:26.252475Z",
     "shell.execute_reply": "2025-05-26T04:17:26.251187Z",
     "shell.execute_reply.started": "2025-05-26T04:17:25.394729Z"
    },
    "trusted": true
   },
   "outputs": [
    {
     "name": "stdout",
     "output_type": "stream",
     "text": [
      "\n",
      "--- Plotting Hasil Pelatihan ---\n"
     ]
    },
    {
     "data": {
      "image/png": "[encoded data removed]",
      "text/plain": [
       "<Figure size 1200x500 with 2 Axes>"
      ]
     },
     "metadata": {},
     "output_type": "display_data"
    }
   ],
   "source": [
    "# --- 5. Pembangunan dan Pelatihan Model - Plot Hasil ---\n",
    "print(\"\\n--- Plotting Hasil Pelatihan ---\")\n",
    "plt.figure(figsize=(12, 5))\n",
    "plt.subplot(1, 2, 1)\n",
    "plt.plot(history_lstm.history['categorical_accuracy'], label='LSTM Train Acc')\n",
    "plt.plot(history_gru.history['categorical_accuracy'], label='GRU Train Acc')\n",
    "plt.plot(history_cnn.history['categorical_accuracy'], label='CNN Train Acc')\n",
    "plt.plot(history_lstm.history['val_categorical_accuracy'], label='LSTM Val Acc', linestyle='--')\n",
    "plt.plot(history_gru.history['val_categorical_accuracy'], label='GRU Val Acc', linestyle='--')\n",
    "plt.plot(history_cnn.history['val_categorical_accuracy'], label='CNN Val Acc', linestyle='--')\n",
    "plt.title(\"Akurasi Pelatihan dan Validasi\")\n",
    "plt.xlabel(\"Epoch\")\n",
    "plt.ylabel(\"Akurasi\")\n",
    "plt.legend()\n",
    "\n",
    "plt.subplot(1, 2, 2)\n",
    "plt.plot(history_lstm.history['loss'], label='LSTM Train Loss')\n",
    "plt.plot(history_gru.history['loss'], label='GRU Train Loss')\n",
    "plt.plot(history_cnn.history['loss'], label='CNN Train Loss')\n",
    "plt.plot(history_lstm.history['val_loss'], label='LSTM Val Loss', linestyle='--')\n",
    "plt.plot(history_gru.history['val_loss'], label='GRU Val Loss', linestyle='--')\n",
    "plt.plot(history_cnn.history['val_loss'], label='CNN Val Loss', linestyle='--')\n",
    "plt.title(\"Loss Pelatihan dan Validasi\")\n",
    "plt.xlabel(\"Epoch\")\n",
    "plt.ylabel(\"Loss\")\n",
    "plt.legend()\n",
    "plt.tight_layout()\n",
    "plt.show()"
   ]
  },
  {
   "cell_type": "markdown",
   "metadata": {},
   "source": [
    "## **b. Evaluasi Model**"
   ]
  },
  {
   "cell_type": "code",
   "execution_count": 44,
   "metadata": {
    "execution": {
     "iopub.execute_input": "2025-05-26T04:17:26.254049Z",
     "iopub.status.busy": "2025-05-26T04:17:26.253767Z",
     "iopub.status.idle": "2025-05-26T04:17:30.191774Z",
     "shell.execute_reply": "2025-05-26T04:17:30.190739Z",
     "shell.execute_reply.started": "2025-05-26T04:17:26.254026Z"
    },
    "trusted": true
   },
   "outputs": [
    {
     "name": "stdout",
     "output_type": "stream",
     "text": [
      "\n",
      "--- Evaluasi Performa Model di Validation Set ---\n",
      "\n",
      "=== Validation Performance ===\n"
     ]
    },
    {
     "data": {
      "text/html": [
       "<div>\n",
       "<style scoped>\n",
       "    .dataframe tbody tr th:only-of-type {\n",
       "        vertical-align: middle;\n",
       "    }\n",
       "\n",
       "    .dataframe tbody tr th {\n",
       "        vertical-align: top;\n",
       "    }\n",
       "\n",
       "    .dataframe thead th {\n",
       "        text-align: right;\n",
       "    }\n",
       "</style>\n",
       "<table border=\"1\" class=\"dataframe\">\n",
       "  <thead>\n",
       "    <tr style=\"text-align: right;\">\n",
       "      <th></th>\n",
       "      <th>acc</th>\n",
       "      <th>prec</th>\n",
       "      <th>f1</th>\n",
       "    </tr>\n",
       "    <tr>\n",
       "      <th>model</th>\n",
       "      <th></th>\n",
       "      <th></th>\n",
       "      <th></th>\n",
       "    </tr>\n",
       "  </thead>\n",
       "  <tbody>\n",
       "    <tr>\n",
       "      <th>LSTM</th>\n",
       "      <td>0.95</td>\n",
       "      <td>0.96</td>\n",
       "      <td>0.949</td>\n",
       "    </tr>\n",
       "    <tr>\n",
       "      <th>GRU</th>\n",
       "      <td>0.95</td>\n",
       "      <td>0.96</td>\n",
       "      <td>0.949</td>\n",
       "    </tr>\n",
       "    <tr>\n",
       "      <th>CNN</th>\n",
       "      <td>1.00</td>\n",
       "      <td>1.00</td>\n",
       "      <td>1.000</td>\n",
       "    </tr>\n",
       "  </tbody>\n",
       "</table>\n",
       "</div>"
      ],
      "text/plain": [
       "        acc  prec     f1\n",
       "model                   \n",
       "LSTM   0.95  0.96  0.949\n",
       "GRU    0.95  0.96  0.949\n",
       "CNN    1.00  1.00  1.000"
      ]
     },
     "metadata": {},
     "output_type": "display_data"
    },
    {
     "name": "stdout",
     "output_type": "stream",
     "text": [
      "\n",
      "--- Classification Report untuk Model Terbaik (CNN) ---\n",
      "                        precision    recall  f1-score   support\n",
      "\n",
      "        Angkat Pinggul       1.00      1.00      1.00         4\n",
      "         Angkat Tangan       1.00      1.00      1.00         4\n",
      "           Lutut Turun       1.00      1.00      1.00         4\n",
      "Naikan Kepalan Kedepan       1.00      1.00      1.00         4\n",
      "            Rentangkan       1.00      1.00      1.00         4\n",
      "\n",
      "              accuracy                           1.00        20\n",
      "             macro avg       1.00      1.00      1.00        20\n",
      "          weighted avg       1.00      1.00      1.00        20\n",
      "\n"
     ]
    },
    {
     "data": {
      "image/png": "[encoded data removed]",
      "text/plain": [
       "<Figure size 800x600 with 2 Axes>"
      ]
     },
     "metadata": {},
     "output_type": "display_data"
    }
   ],
   "source": [
    "# --- 6. Evaluasi Model ---\n",
    "print(\"\\n--- Evaluasi Performa Model di Validation Set ---\")\n",
    "def eval_val(model, X_data_scaled, y_true_one_hot):\n",
    "    y_prob = model.predict(X_data_scaled, verbose=0)\n",
    "    y_pred = np.argmax(y_prob, axis=1)\n",
    "    y_true = np.argmax(y_true_one_hot, axis=1)\n",
    "    acc = accuracy_score(y_true, y_pred)\n",
    "    prec, rec, f1, _ = precision_recall_fscore_support(\n",
    "        y_true, y_pred, average='macro', zero_division=0)\n",
    "    return acc, prec, rec, f1, y_true, y_pred\n",
    "\n",
    "models_to_eval = {\n",
    "    'LSTM': {'path': 'model rombak preprocessing/lstm_best.keras', 'data_scaled': X_val_scaled},\n",
    "    'GRU': {'path': 'model rombak preprocessing/gru_best.keras', 'data_scaled': X_val_scaled},\n",
    "    'CNN': {'path': 'model rombak preprocessing/cnn_best.keras', 'data_scaled': X_val_scaled}\n",
    "}\n",
    "\n",
    "scores = []\n",
    "for name, config in models_to_eval.items():\n",
    "    m = load_model(config['path'])\n",
    "    acc, prec, rec, f1, _, _ = eval_val(m, config['data_scaled'], y_val_one_hot)\n",
    "    scores.append(dict(model=name, acc=acc, prec=prec, f1=f1)) # Perbaikan: gunakan key 'f1'\n",
    "\n",
    "perf = pd.DataFrame(scores).set_index('model').round(3)\n",
    "print('\\n=== Validation Performance ===')\n",
    "display(perf)\n",
    "\n",
    "best_model_name = perf['f1'].idxmax()\n",
    "best_model = load_model(models_to_eval[best_model_name]['path'])\n",
    "acc, prec, rec, f1, y_true_val, y_pred_val = eval_val(best_model, models_to_eval[best_model_name]['data_scaled'], y_val_one_hot)\n",
    "\n",
    "print(f\"\\n--- Classification Report untuk Model Terbaik ({best_model_name}) ---\")\n",
    "print(classification_report(y_true_val, y_pred_val, target_names=actions, zero_division=0))\n",
    "\n",
    "plt.figure(figsize=(8, 6))\n",
    "cm = confusion_matrix(y_true_val, y_pred_val, labels=range(num_classes))\n",
    "sns.heatmap(cm, annot=True, fmt='d', xticklabels=actions, yticklabels=actions, cmap='Blues')\n",
    "plt.title(f'Confusion Matrix – {best_model_name} (Validation)')\n",
    "plt.xlabel('Predicted')\n",
    "plt.ylabel('True')\n",
    "plt.show()\n",
    "\n",
    "import shutil\n",
    "if not os.path.exists('keypoints.zip'):\n",
    "    shutil.make_archive('keypoints', 'zip', 'keypoints')\n",
    "    print(\"\\nFolder keypoints telah dikompres menjadi keypoints.zip\")\n"
   ]
  },
  {
   "cell_type": "code",
   "execution_count": 45,
   "metadata": {
    "execution": {
     "iopub.execute_input": "2025-05-26T04:27:13.441890Z",
     "iopub.status.busy": "2025-05-26T04:27:13.441483Z",
     "iopub.status.idle": "2025-05-26T04:27:13.493763Z",
     "shell.execute_reply": "2025-05-26T04:27:13.492923Z",
     "shell.execute_reply.started": "2025-05-26T04:27:13.441866Z"
    },
    "trusted": true
   },
   "outputs": [
    {
     "data": {
      "text/plain": [
       "'c:\\\\kaggle\\\\working\\\\keypoints.zip'"
      ]
     },
     "execution_count": 45,
     "metadata": {},
     "output_type": "execute_result"
    }
   ],
   "source": [
    "import shutil\n",
    "\n",
    "# Kompres folder 'keypoint' jadi 'keypoint.zip' di direktori kerja\n",
    "shutil.make_archive('/kaggle/working/keypoints', 'zip', '/kaggle/working/keypoints')\n"
   ]
  },
  {
   "cell_type": "markdown",
   "metadata": {},
   "source": [
    "# **6. Inferensi Model**"
   ]
  },
  {
   "cell_type": "markdown",
   "metadata": {},
   "source": [
    "## **a. Inferensi Klasifikasi Gerakan**"
   ]
  },
  {
   "cell_type": "code",
   "execution_count": null,
   "metadata": {
    "execution": {
     "iopub.execute_input": "2025-05-26T04:17:30.193300Z",
     "iopub.status.busy": "2025-05-26T04:17:30.192931Z",
     "iopub.status.idle": "2025-05-26T04:17:30.355644Z",
     "shell.execute_reply": "2025-05-26T04:17:30.354317Z",
     "shell.execute_reply.started": "2025-05-26T04:17:30.193270Z"
    },
    "trusted": true
   },
   "outputs": [
    {
     "name": "stdout",
     "output_type": "stream",
     "text": [
      "\n",
      "--- Inferensi Model - Klasifikasi Gerakan ---\n",
      "Memulai inferensi klasifikasi gerakan. Tekan 'ESC' untuk keluar.\n"
     ]
    },
    {
     "ename": "NameError",
     "evalue": "name 'num_kpts_features' is not defined",
     "output_type": "error",
     "traceback": [
      "\u001b[1;31m---------------------------------------------------------------------------\u001b[0m",
      "\u001b[1;31mNameError\u001b[0m                                 Traceback (most recent call last)",
      "Cell \u001b[1;32mIn[46], line 59\u001b[0m\n\u001b[0;32m     55\u001b[0m last_conf \u001b[38;5;241m=\u001b[39m \u001b[38;5;241m0.0\u001b[39m\n\u001b[0;32m     57\u001b[0m \u001b[38;5;28;01mif\u001b[39;00m \u001b[38;5;28mlen\u001b[39m(buf) \u001b[38;5;241m==\u001b[39m SEQ_LEN:\n\u001b[0;32m     58\u001b[0m     \u001b[38;5;66;03m# Konversi buffer ke numpy array dan reshape untuk input model\u001b[39;00m\n\u001b[1;32m---> 59\u001b[0m     seq_input \u001b[38;5;241m=\u001b[39m np\u001b[38;5;241m.\u001b[39marray(buf)\u001b[38;5;241m.\u001b[39mreshape(\u001b[38;5;241m1\u001b[39m, SEQ_LEN, \u001b[43mnum_kpts_features\u001b[49m)\n\u001b[0;32m     61\u001b[0m     \u001b[38;5;66;03m# --- Terapkan StandardScaler (sama seperti saat training) ---\u001b[39;00m\n\u001b[0;32m     62\u001b[0m     \u001b[38;5;66;03m# scaler_inference = scaler # Gunakan scaler yang sudah di-fit saat training\u001b[39;00m\n\u001b[0;32m     63\u001b[0m     seq_input_flat \u001b[38;5;241m=\u001b[39m seq_input\u001b[38;5;241m.\u001b[39mreshape(\u001b[38;5;241m-\u001b[39m\u001b[38;5;241m1\u001b[39m, num_kpts_features)\n",
      "\u001b[1;31mNameError\u001b[0m: name 'num_kpts_features' is not defined"
     ]
    },
    {
     "ename": "",
     "evalue": "",
     "output_type": "error",
     "traceback": [
      "\u001b[1;31mThe Kernel crashed while executing code in the current cell or a previous cell. \n",
      "\u001b[1;31mPlease review the code in the cell(s) to identify a possible cause of the failure. \n",
      "\u001b[1;31mClick <a href='https://aka.ms/vscodeJupyterKernelCrash'>here</a> for more info. \n",
      "\u001b[1;31mView Jupyter <a href='command:jupyter.viewOutput'>log</a> for further details."
     ]
    }
   ],
   "source": [
    "# --- 7. Inferensi Model - a. Inferensi Klasifikasi Gerakan ---\n",
    "print(\"\\n--- Inferensi Model - Klasifikasi Gerakan ---\")\n",
    "\n",
    "# ------------ Parameter ---------------\\\n",
    "SEQ_LEN       = 30 # Harus sama dengan SEQ_LEN saat training\n",
    "DETECT_THRESH = 0.7 # Ambang batas keyakinan deteksi (bisa disesuaikan)\n",
    "# LABELS = np.array(['Angkat Pinggul', 'Kaki Kebelakang', 'Lutut Turun', 'Naikan Kepalan Kedepan', 'Rentangkan'])\n",
    "# Gunakan array ACTIONS yang sudah didefinisikan di awal notebook\n",
    "LABELS = np.array(actions)\n",
    "\n",
    "# ------------ Load model ---------------\\\n",
    "# Asumsi model terbaik yang akan digunakan untuk inferensi\n",
    "inference_model = load_model(models_to_eval[best_model_name]['path']) \n",
    "pose_model = YOLO('yolov8n-pose.pt') # YOLOv8 pose model\n",
    "\n",
    "# ------------ Buffer sequence -----------\\\n",
    "buf = deque(maxlen=SEQ_LEN)\n",
    "\n",
    "cap = cv2.VideoCapture(0) # Menggunakan webcam (0)\n",
    "\n",
    "# --- Fungsi Ekstraksi Keypoints untuk Inferensi (Konsisten dengan Training) ---\n",
    "def extract_and_normalize_keypoints_inference(results, frame_shape):\n",
    "    num_kpts_features = 17 * 2 # Hanya x,y koordinat\n",
    "    \n",
    "    # Inisialisasi keypoints_flat dengan nol jika tidak ada deteksi\n",
    "    keypoints_flat = np.zeros(num_kpts_features, dtype='float32')\n",
    "\n",
    "    if results is not None and len(results.keypoints.xy) > 0:\n",
    "        # Ambil keypoint orang pertama (xy format)\n",
    "        kps = results.keypoints.xy[0].cpu().numpy()  # (17, 2) array of [x, y]\n",
    "        \n",
    "        if kps.shape[0] == 17: # pastikan 17 keypoints\n",
    "            h, w, _ = frame_shape\n",
    "            # Normalisasi koordinat X dan Y ke rentang 0-1\n",
    "            normalized_kps = kps / np.array([w, h])\n",
    "            keypoints_flat = normalized_kps.flatten()\n",
    "    \n",
    "    return keypoints_flat.astype('float32')\n",
    "\n",
    "print(\"Memulai inferensi klasifikasi gerakan. Tekan 'ESC' untuk keluar.\")\n",
    "while cap.isOpened():\n",
    "    ret, frame = cap.read()\n",
    "    if not ret:\n",
    "        break\n",
    "\n",
    "    # ------------ YOLO Pose Estimation -------------\\\n",
    "    results_yolo = pose_model.predict(frame, verbose=False)\n",
    "    \n",
    "    # Ekstrak dan normalisasi keypoints (34 fitur)\n",
    "    keypoints_current_frame = extract_and_normalize_keypoints_inference(results_yolo[0], frame.shape)\n",
    "    buf.append(keypoints_current_frame)\n",
    "\n",
    "    # Lakukan inferensi hanya jika buffer sudah penuh\n",
    "    pred_label = \"Menunggu Gerakan...\"\n",
    "    last_conf = 0.0\n",
    "\n",
    "    if len(buf) == SEQ_LEN:\n",
    "        # Konversi buffer ke numpy array dan reshape untuk input model\n",
    "        seq_input = np.array(buf).reshape(1, SEQ_LEN, num_kpts_features)\n",
    "        \n",
    "        # --- Terapkan StandardScaler (sama seperti saat training) ---\n",
    "        # scaler_inference = scaler # Gunakan scaler yang sudah di-fit saat training\n",
    "        seq_input_flat = seq_input.reshape(-1, num_kpts_features)\n",
    "        seq_input_scaled = scaler.transform(seq_input_flat).reshape(1, SEQ_LEN, num_kpts_features)\n",
    "        \n",
    "        # Lakukan prediksi menggunakan model klasifikasi\n",
    "        probs = inference_model.predict(seq_input_scaled, verbose=0)[0] \n",
    "        idx_pred = int(np.argmax(probs))\n",
    "        last_conf = float(probs[idx_pred])\n",
    "        pred_label = LABELS[idx_pred]\n",
    "\n",
    "        # Filter prediksi dengan confidence rendah\n",
    "        if last_conf < DETECT_THRESH:\n",
    "            pred_label = \"Tidak Yakin\"\n",
    "\n",
    "    # ---------- Tampilkan Hasil Inferensi di Frame ----------\n",
    "    text = f\"Pose: {pred_label} ({last_conf*100:.1f}%)\"\n",
    "    cv2.putText(frame, text, (10, 30), cv2.FONT_HERSHEY_SIMPLEX,\n",
    "                1, (0, 255, 0) if last_conf > DETECT_THRESH else (0, 0, 255), 2)\n",
    "\n",
    "    # ---------- Gambar Keypoints (untuk visualisasi) ----------\n",
    "    # Gunakan keypoints dari hasil YOLO mentah untuk menggambar\n",
    "    if results_yolo[0].keypoints is not None and len(results_yolo[0].keypoints.xy) > 0:\n",
    "        annotated_frame = results_yolo[0].plot() # YOLOv8 plot() sudah menggambar keypoints\n",
    "        cv2.imshow('YOLOv8 Pose + Model Klasifikasi', annotated_frame)\n",
    "    else:\n",
    "        cv2.imshow('YOLOv8 Pose + Model Klasifikasi', frame) # Tampilkan frame asli jika tidak ada deteksi\n",
    "\n",
    "    if cv2.waitKey(1) & 0xFF == 27: # ESC keluar\n",
    "        break\n",
    "\n",
    "cap.release()\n",
    "cv2.destroyAllWindows()"
   ]
  },
  {
   "cell_type": "markdown",
   "metadata": {},
   "source": [
    "## **b. Inferensi Lanjutan**"
   ]
  },
  {
   "cell_type": "code",
   "execution_count": null,
   "metadata": {
    "execution": {
     "iopub.status.busy": "2025-05-26T04:17:30.356486Z",
     "iopub.status.idle": "2025-05-26T04:17:30.356869Z",
     "shell.execute_reply": "2025-05-26T04:17:30.356740Z",
     "shell.execute_reply.started": "2025-05-26T04:17:30.356724Z"
    },
    "trusted": true
   },
   "outputs": [],
   "source": [
    "# --- 7. Inferensi Model - b. Inferensi Lanjutan (Asisten Rehabilitasi) ---\n",
    "print(\"\\n--- Inferensi Model - Asisten Rehabilitasi ---\")\n",
    "\n",
    "# ---------- LABEL TETAP (sesuai training) ----------\n",
    "# Gunakan array ACTIONS yang sudah didefinisikan di awal notebook\n",
    "LABELS_WORKFLOW = np.array(actions)\n",
    "\n",
    "# ---------- URUTAN LATIHAN (bebas diubah) ----------\n",
    "WORKFLOW = np.array(['Angkat Tangan', 'Naikan Kepalan Kedepan', 'Rentangkan', 'Lutut Turun', 'Angkat Pinggul'])\n",
    "\n",
    "# ---------- PARAMETER LAIN ----------\n",
    "SEQ_LEN = 30 # Harus sama dengan SEQ_LEN saat training\n",
    "DETECT_THRESH_MAIN_MODEL = 0.70 # Ambang batas keyakinan deteksi dari model utama\n",
    "\n",
    "# Ambang batas progres untuk feedback (dalam rentang 0.0 - 1.0)\n",
    "THRESHOLD_PARTIAL = 0.30  # Gerakan tidak sempurna (misal, 30% progres)\n",
    "THRESHOLD_GOOD = 0.70     # Gerakan sempurna (misal, 70% progres)\n",
    "\n",
    "# Durasi konfirmasi state (dalam jumlah frame)\n",
    "CONFIRMATION_FRAMES_COMPLETE = 10 # Jika gerakan 'Sempurna' terdeteksi selama X frame berturut-turut\n",
    "INACTIVITY_FRAMES_RESET = 30 # Jika tidak ada deteksi solid selama X frame, reset state\n",
    "\n",
    "FONT = cv2.FONT_HERSHEY_SIMPLEX\n",
    "\n",
    "# --- Load model (model terbaik dari training) ---\n",
    "inference_model_workflow = load_model(models_to_eval[best_model_name]['path']) \n",
    "pose_model_workflow = YOLO('yolov8n-pose.pt') # YOLOv8 pose model\n",
    "\n",
    "# --- Fungsi untuk Menghitung Progres Gerakan (HARUS DISESUAIKAN) ---\n",
    "def calculate_movement_progress(current_kps_normalized, action_name, calibration_params):\n",
    "    # current_kps_normalized: numpy array (17, 2) keypoint yang sudah dinormalisasi [0,1].\n",
    "    # calibration_params: Dictionary parameter kalibrasi untuk setiap gerakan.\n",
    "    \n",
    "    progress = 0.0\n",
    "\n",
    "    if action_name == \"Angkat Tangan\":\n",
    "        # Keypoints: kp_9 (pergelangan kiri), kp_10 (pergelangan kanan)\n",
    "        wrist_y_avg = (current_kps_normalized[9][1] + current_kps_normalized[10][1]) / 2\n",
    "        min_y = calibration_params.get('min_y_wrist_at_100', 0.1) \n",
    "        max_y = calibration_params.get('max_y_wrist_at_0', 0.7)   \n",
    "        if (max_y - min_y) > 0:\n",
    "            progress = (max_y - wrist_y_avg) / (max_y - min_y)\n",
    "        else:\n",
    "            progress = 0.0\n",
    "\n",
    "    elif action_name == \"Angkat Pinggul\":\n",
    "        # Keypoints: kp_11 (pinggul kiri), kp_12 (pinggul kanan)\n",
    "        hip_y_avg = (current_kps_normalized[11][1] + current_kps_normalized[12][1]) / 2\n",
    "        min_y = calibration_params.get('min_y_hip_at_100', 0.6) \n",
    "        max_y = calibration_params.get('max_y_hip_at_0', 0.8)   \n",
    "        if (max_y - min_y) > 0:\n",
    "            progress = (max_y - hip_y_avg) / (max_y - min_y)\n",
    "        else:\n",
    "            progress = 0.0\n",
    "            \n",
    "    elif action_name == \"Rentangkan\":\n",
    "        # Keypoints: kp_5 (bahu kiri), kp_6 (bahu kanan), kp_9 (pergelangan kiri), kp_10 (pergelangan kanan)\n",
    "        hip_x_avg = (current_kps_normalized[11][0] + current_kps_normalized[12][0]) / 2\n",
    "        dist_right_arm_x = current_kps_normalized[10][0] - hip_x_avg\n",
    "        dist_left_arm_x = hip_x_avg - current_kps_normalized[9][0]\n",
    "        max_abs_dist_x = max(dist_right_arm_x, dist_left_arm_x)\n",
    "\n",
    "        min_x = calibration_params.get('min_x_stretch_observed', 0.05)\n",
    "        max_x = calibration_params.get('max_x_stretch_observed', 0.35)\n",
    "        \n",
    "        if (max_x - min_x) > 0:\n",
    "            progress = (max_abs_dist_x - min_x) / (max_x - min_x)\n",
    "        else:\n",
    "            progress = 0.0\n",
    "\n",
    "    return np.clip(progress, 0.0, 1.0)\n",
    "\n",
    "# --- Parameter Kalibrasi Gerakan (PENTING: Sesuaikan Ini!) ---\n",
    "# Anda harus mengisi nilai-nilai ini berdasarkan analisis data training Anda.\n",
    "# Lakukan EDA untuk setiap gerakan untuk menemukan rentang [0,1] yang sesuai.\n",
    "CALIBRATION_PARAMS = {\n",
    "    \"Angkat Tangan\": {\n",
    "        'min_y_wrist_at_100': 0.1, # Y pergelangan tangan saat 100% terentang ke atas\n",
    "        'max_y_wrist_at_0': 0.7    # Y pergelangan tangan saat 0% terentang (tangan di samping tubuh)\n",
    "    },\n",
    "    \"Angkat Pinggul\": {\n",
    "        'min_y_hip_at_100': 0.6,   # Y pinggul saat 100% terangkat\n",
    "        'max_y_hip_at_0': 0.8      # Y pinggul saat 0% terangkat (posisi awal)\n",
    "    },\n",
    "    \"Rentangkan\": {\n",
    "        'min_x_stretch_observed': 0.05, # Jarak X minimal saat tangan di samping\n",
    "        'max_x_stretch_observed': 0.35  # Jarak X maksimal saat tangan terentang penuh\n",
    "    },\n",
    "    # Tambahkan kalibrasi untuk gerakan lainnya\n",
    "    \"Lutut Turun\": {}, # Placeholder\n",
    "    \"Naikan Kepalan Kedepan\": {} # Placeholder\n",
    "}\n",
    "\n",
    "# --- Inisialisasi State Machine ---\n",
    "current_main_action = \"Idle\" \n",
    "current_progress_stage = \"Menunggu Gerakan...\" \n",
    "main_action_counter = 0 \n",
    "progress_stage_counter = 0 \n",
    "frames_since_last_detection = 0 \n",
    "keypoint_sequence_buffer_workflow = deque(maxlen=SEQ_LEN) # Buffer terpisah untuk workflow\n",
    "\n",
    "idx_workflow_step = 0 # Melacak langkah workflow saat ini\n",
    "t_ex_start = time.time() # Timer untuk durasi latihan\n",
    "popup_phase = None # None | 'result' | 'prep'\n",
    "popup_start = None\n",
    "score_workflow = {w: None for w in WORKFLOW} # Skor untuk setiap langkah workflow\n",
    "\n",
    "print(\"Memulai Asisten Rehabilitasi. Tekan 'ESC' untuk keluar.\")\n",
    "cap = cv2.VideoCapture(0) # Menggunakan webcam (0)\n",
    "\n",
    "while cap.isOpened() and idx_workflow_step < len(WORKFLOW):\n",
    "    ok, frame = cap.read()\n",
    "    if not ok:\n",
    "        break\n",
    "\n",
    "    # ------------ YOLO Pose Estimation -------------\\\n",
    "    results_yolo = pose_model_workflow.predict(frame, verbose=False)\n",
    "    bgr = frame.copy() # Salinan frame untuk menggambar keypoint dan HUD\n",
    "\n",
    "    # Ekstrak dan normalisasi keypoints (34 fitur)\n",
    "    keypoints_current_frame = extract_and_normalize_keypoints_inference(results_yolo[0], frame.shape)\n",
    "    keypoint_sequence_buffer_workflow.append(keypoints_current_frame)\n",
    "\n",
    "    # Lakukan inferensi model utama hanya jika buffer sudah penuh dan tidak ada popup\n",
    "    predicted_action_from_model = \"None\"\n",
    "    prediction_confidence = 0.0\n",
    "    \n",
    "    if len(keypoint_sequence_buffer_workflow) == SEQ_LEN and popup_phase is None:\n",
    "        seq_input = np.array(keypoint_sequence_buffer_workflow).reshape(1, SEQ_LEN, keypoints_current_frame.shape[0])\n",
    "        \n",
    "        # Terapkan StandardScaler (sama seperti saat training)\n",
    "        seq_input_flat = seq_input.reshape(-1, keypoints_current_frame.shape[0])\n",
    "        seq_input_scaled = scaler.transform(seq_input_flat).reshape(1, SEQ_LEN, keypoints_current_frame.shape[0])\n",
    "        \n",
    "        prediction_probs = inference_model_workflow.predict(seq_input_scaled, verbose=0)\n",
    "        predicted_action_idx = np.argmax(prediction_probs)\n",
    "        prediction_confidence = np.max(prediction_probs)\n",
    "        \n",
    "        if prediction_confidence >= DETECT_THRESH_MAIN_MODEL:\n",
    "            predicted_action_from_model = LABELS_WORKFLOW[predicted_action_idx]\n",
    "\n",
    "    # --- Logika State Machine ---\n",
    "    pop_up_message = \"\"\n",
    "    target_action = WORKFLOW[idx_workflow_step] # Gerakan target saat ini\n",
    "\n",
    "    if popup_phase is None: # Hanya proses state machine jika tidak ada popup\n",
    "        \n",
    "        # Cek durasi latihan\n",
    "        remaining_time = EXER_TIME - int(time.time() - t_ex_start)\n",
    "        if remaining_time <= 0:\n",
    "            pop_up_message = f\"*** POP-UP: Gerakan '{target_action}' Gagal (Waktu Habis)! ***\"\n",
    "            score_workflow[target_action] = False\n",
    "            popup_phase = 'result'\n",
    "            remaining_time = 0 # Pastikan tidak negatif\n",
    "\n",
    "        elif predicted_action_from_model == target_action:\n",
    "            frames_since_last_detection = 0 # Reset counter karena ada deteksi solid\n",
    "            \n",
    "            if current_main_action == \"Idle\" or current_main_action != target_action:\n",
    "                current_main_action = target_action\n",
    "                current_progress_stage = \"Tidak Bergerak\" # Default awal\n",
    "                progress_stage_counter = 0\n",
    "                main_action_counter = 0 \n",
    "                pop_up_message = f\"Mendeteksi Gerakan: '{current_main_action}'\"\n",
    "\n",
    "            elif predicted_action_from_model == current_main_action:\n",
    "                main_action_counter += 1 \n",
    "                \n",
    "                # Hitung progres gerakan spesifik\n",
    "                progress_value = calculate_movement_progress(keypoints_current_frame, current_main_action, CALIBRATION_PARAMS.get(current_main_action, {}))\n",
    "\n",
    "                # --- Transisi Tahap Progres ---\n",
    "                if progress_value >= THRESHOLD_GOOD:\n",
    "                    if current_progress_stage != \"Sempurna\":\n",
    "                        current_progress_stage = \"Sempurna\"\n",
    "                        progress_stage_counter = 0 \n",
    "                    progress_stage_counter += 1 \n",
    "                    pop_up_message = f\"'{current_main_action}': Gerakan Sempurna ({int(progress_value*100)}%)\"\n",
    "\n",
    "                elif progress_value >= THRESHOLD_PARTIAL:\n",
    "                    if current_progress_stage != \"Tidak Sempurna\":\n",
    "                        current_progress_stage = \"Tidak Sempurna\"\n",
    "                        progress_stage_counter = 0 \n",
    "                    progress_stage_counter += 1\n",
    "                    pop_up_message = f\"'{current_main_action}': Gerakan Tidak Sempurna ({int(progress_value*100)}%)\"\n",
    "\n",
    "                else: \n",
    "                    if current_progress_stage != \"Tidak Bergerak\":\n",
    "                        current_progress_stage = \"Tidak Bergerak\"\n",
    "                        progress_stage_counter = 0 \n",
    "                    progress_stage_counter += 1\n",
    "                    pop_up_message = f\"'{current_main_action}': Gerakan Tidak Bergerak ({int(progress_value*100)}%)\"\n",
    "\n",
    "                # --- Cek Penyelesaian Gerakan (Sempurna) ---\n",
    "                if current_progress_stage == \"Sempurna\" and progress_stage_counter >= CONFIRMATION_FRAMES_COMPLETE:\n",
    "                    pop_up_message = f\"*** POP-UP: Gerakan '{current_main_action}' Berhasil Diselesaikan dengan Sempurna! ***\"\n",
    "                    score_workflow[current_main_action] = True\n",
    "                    popup_phase = 'result' # Tampilkan popup hasil\n",
    "                    # State akan direset setelah popup\n",
    "\n",
    "        else: # Model mendeteksi aksi lain atau \"None\" saat sudah dalam sebuah aksi utama\n",
    "            frames_since_last_detection += 1\n",
    "            if current_main_action != \"Idle\" and frames_since_last_detection >= INACTIVITY_FRAMES_RESET:\n",
    "                pop_up_message = f\"*** POP-UP: Gerakan '{current_main_action}' Gagal (Tidak Ada Gerakan Terdeteksi)! ***\"\n",
    "                score_workflow[current_main_action] = False\n",
    "                popup_phase = 'result'\n",
    "                frames_since_last_detection = 0\n",
    "                # State akan direset setelah popup\n",
    "\n",
    "        # --- Tampilan HUD (Head-Up Display) ---\n",
    "        cv2.rectangle(bgr, (0, 0), (640, 60), (0, 0, 0), -1)\n",
    "        cv2.putText(bgr,\n",
    "                    f'Aksi Target: {target_action}   |   Timer: {remaining_time:02d}s',\n",
    "                    (10, 25), FONT, 0.6, (255, 255, 255), 2)\n",
    "\n",
    "        det_txt = f\"Deteksi: '{predicted_action_from_model}' ({prediction_confidence*100:4.1f}%)\"\n",
    "        cv2.putText(bgr, det_txt, (10, 50), FONT, 0.6, (0, 255, 255), 2)\n",
    "\n",
    "        cv2.rectangle(bgr, (0, 440), (640, 480), (0, 0, 0), -1)\n",
    "        cv2.putText(bgr, f'Status: {current_progress_stage}', (10, 470), FONT, 0.7, (0, 255, 255), 2)\n",
    "        \n",
    "        # Gambar keypoints dari hasil YOLO mentah\n",
    "        if results_yolo[0].keypoints is not None and len(results_yolo[0].keypoints.xy) > 0:\n",
    "            annotated_frame = results_yolo[0].plot()\n",
    "            bgr = annotated_frame # Gunakan frame dengan anotasi YOLO\n",
    "        \n",
    "        cv2.imshow('Rehab-Assist', bgr)\n",
    "        key = cv2.waitKey(1) & 0xFF\n",
    "        if key == 27: # ESC\n",
    "            break\n",
    "\n",
    "    # --- Logika POP-UP (Result / Prep) ---\n",
    "    if popup_phase is not None:\n",
    "        key = cv2.waitKey(10) & 0xFF\n",
    "        \n",
    "        if popup_phase == 'result':\n",
    "            cv2.rectangle(bgr, (40, 140), (600, 270), (0, 0, 0), -1)\n",
    "            cv2.putText(bgr,\n",
    "                        f\"Gerakan '{target_action}' : \" + ('BERHASIL' if score_workflow[target_action] else 'GAGAL'),\n",
    "                        (60, 190), FONT, 0.8, (255, 255, 255), 2)\n",
    "\n",
    "            if idx_workflow_step + 1 < len(WORKFLOW):\n",
    "                cv2.putText(bgr, 'Tekan ENTER untuk lanjut',\n",
    "                            (60, 230), FONT, 0.7, (0, 255, 255), 2)\n",
    "            else:\n",
    "                cv2.putText(bgr, 'Sesi selesai, tekan ESC untuk keluar',\n",
    "                            (60, 230), FONT, 0.7, (0, 255, 255), 2)\n",
    "\n",
    "            cv2.imshow('Rehab-Assist', bgr)\n",
    "            if key in (13, 10): # ENTER key\n",
    "                popup_phase = 'prep'\n",
    "                popup_start = time.time()\n",
    "                # Reset state untuk langkah workflow berikutnya\n",
    "                current_main_action = \"Idle\"\n",
    "                current_progress_stage = \"Menunggu Gerakan...\"\n",
    "                main_action_counter = 0\n",
    "                progress_stage_counter = 0\n",
    "                frames_since_last_detection = 0\n",
    "                keypoint_sequence_buffer_workflow.clear()\n",
    "\n",
    "        elif popup_phase == 'prep':\n",
    "            elap = time.time() - popup_start\n",
    "            cnt = POPUP_TIME - int(elap)\n",
    "\n",
    "            cv2.rectangle(bgr, (40, 140), (600, 270), (0, 0, 0), -1)\n",
    "            cv2.putText(bgr, f\"Siapkan gerakan : '{WORKFLOW[idx_workflow_step+1]}'\",\n",
    "                        (60, 190), FONT, 0.7, (255, 255, 255), 2)\n",
    "            cv2.putText(bgr, f\"Mulai dalam {cnt:02d} dtk\",\n",
    "                        (60, 230), FONT, 0.9, (0, 255, 255), 2)\n",
    "\n",
    "            cv2.imshow('Rehab-Assist', bgr)\n",
    "            if elap >= POPUP_TIME:\n",
    "                idx_workflow_step += 1\n",
    "                t_ex_start = time.time() # Reset timer latihan\n",
    "                popup_phase = None\n",
    "                # State sudah direset saat transisi dari 'result' ke 'prep'\n",
    "\n",
    "        if key == 27: # ESC\n",
    "            break\n",
    "\n",
    "cap.release()\n",
    "cv2.destroyAllWindows()"
   ]
  },
  {
   "cell_type": "code",
   "execution_count": null,
   "metadata": {},
   "outputs": [
    {
     "name": "stdout",
     "output_type": "stream",
     "text": [
      "Skor akhir:\n",
      "Angkat Tangan            : ✗\n"
     ]
    }
   ],
   "source": [
    "# --- 7. Inferensi Model - b. Inferensi Lanjutan (Skor Akhir) ---\n",
    "print('\\n--- Skor Akhir Sesi Rehabilitasi ---')\n",
    "for act in WORKFLOW:\n",
    "    status = \"✓\" if score_workflow.get(act) else \"✗\" # Gunakan .get() untuk keamanan\n",
    "    print(f'{act:<25}: {status}')"
   ]
  }
 ],
 "metadata": {
  "kaggle": {
   "accelerator": "none",
   "dataSources": [
    {
     "datasetId": 7513841,
     "sourceId": 11951552,
     "sourceType": "datasetVersion"
    },
    {
     "modelId": 355971,
     "modelInstanceId": 334950,
     "sourceId": 410154,
     "sourceType": "modelInstanceVersion"
    }
   ],
   "dockerImageVersionId": 31040,
   "isGpuEnabled": false,
   "isInternetEnabled": true,
   "language": "python",
   "sourceType": "notebook"
  },
  "kernelspec": {
   "display_name": "coba",
   "language": "python",
   "name": "python3"
  },
  "language_info": {
   "codemirror_mode": {
    "name": "ipython",
    "version": 3
   },
   "file_extension": ".py",
   "mimetype": "text/x-python",
   "name": "python",
   "nbconvert_exporter": "python",
   "pygments_lexer": "ipython3",
   "version": "3.10.9"
  }
 },
 "nbformat": 4,
 "nbformat_minor": 4
}
