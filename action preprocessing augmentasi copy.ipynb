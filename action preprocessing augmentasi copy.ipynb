{
 "cells": [
  {
   "cell_type": "markdown",
   "metadata": {},
   "source": [
    "# **Klasifikasi Gerakan untuk Rehabilitasi Stroke Menggunakan LSTM**\n",
    "Dataset yang akan digunakan adalah 10 video gerakan rehabilitasi untuk pasien stroke yang ditemukan di Internet.\n",
    "\n",
    "Proyek ini bertujuan untuk mendeteksi gerakan ...."
   ]
  },
  {
   "cell_type": "markdown",
   "metadata": {},
   "source": [
    "# **1. Import Library**"
   ]
  },
  {
   "cell_type": "code",
   "execution_count": 12,
   "metadata": {
    "execution": {
     "iopub.execute_input": "2025-05-26T03:57:37.200913Z",
     "iopub.status.busy": "2025-05-26T03:57:37.200648Z",
     "iopub.status.idle": "2025-05-26T03:57:59.976232Z",
     "shell.execute_reply": "2025-05-26T03:57:59.975179Z",
     "shell.execute_reply.started": "2025-05-26T03:57:37.200891Z"
    },
    "trusted": true
   },
   "outputs": [],
   "source": [
    "import os\n",
    "import cv2\n",
    "import pandas as pd\n",
    "import numpy as np\n",
    "import time\n",
    "import seaborn as sns\n",
    "import tensorflow as tf\n",
    "from matplotlib import pyplot as plt\n",
    "from tqdm import tqdm\n",
    "from collections import defaultdict, deque\n",
    "from sklearn.model_selection import GroupShuffleSplit\n",
    "from sklearn.metrics import classification_report, confusion_matrix, accuracy_score, precision_recall_fscore_support\n",
    "from tensorflow.keras.utils import to_categorical\n",
    "from tensorflow.keras.models import Sequential, load_model\n",
    "from tensorflow.keras.layers import LSTM, Dense, Dropout, BatchNormalization, GRU, Conv1D, GlobalAveragePooling1D\n",
    "from tensorflow.keras.callbacks import EarlyStopping, ModelCheckpoint, ReduceLROnPlateau\n",
    "from tensorflow.keras.optimizers import Adam\n",
    "from ultralytics import YOLO\n",
    "from sklearn.preprocessing import StandardScaler"
   ]
  },
  {
   "cell_type": "markdown",
   "metadata": {},
   "source": [
    "# **2. Memuat Dataset**"
   ]
  },
  {
   "cell_type": "code",
   "execution_count": 13,
   "metadata": {
    "execution": {
     "iopub.execute_input": "2025-05-26T03:57:59.978413Z",
     "iopub.status.busy": "2025-05-26T03:57:59.977463Z",
     "iopub.status.idle": "2025-05-26T03:58:00.012291Z",
     "shell.execute_reply": "2025-05-26T03:58:00.011037Z",
     "shell.execute_reply.started": "2025-05-26T03:57:59.978374Z"
    },
    "trusted": true
   },
   "outputs": [
    {
     "name": "stdout",
     "output_type": "stream",
     "text": [
      "Kelas Utama Terdeteksi: ['Angkat Pinggul', 'Angkat Tangan', 'Lutut Turun', 'Naikan Kepalan Kedepan', 'Rentangkan']\n",
      "Sub-label Gerakan: ['Tidak Bergerak', 'Tidak Sempurna', 'Sempurna']\n",
      "Total Kelas Model (Gabungan): ['Angkat Pinggul - Tidak Bergerak', 'Angkat Pinggul - Tidak Sempurna', 'Angkat Pinggul - Sempurna', 'Angkat Tangan - Tidak Bergerak', 'Angkat Tangan - Tidak Sempurna', 'Angkat Tangan - Sempurna', 'Lutut Turun - Tidak Bergerak', 'Lutut Turun - Tidak Sempurna', 'Lutut Turun - Sempurna', 'Naikan Kepalan Kedepan - Tidak Bergerak', 'Naikan Kepalan Kedepan - Tidak Sempurna', 'Naikan Kepalan Kedepan - Sempurna', 'Rentangkan - Tidak Bergerak', 'Rentangkan - Tidak Sempurna', 'Rentangkan - Sempurna'] \n",
      "\n"
     ]
    }
   ],
   "source": [
    "# --- 2. Memuat Dataset ---\n",
    "# Setup Folders for Collection\n",
    "ORIGINAL_VIDEO_DIR = 'dataset_video' # Direktori video asli\n",
    "AUGMENTED_VIDEO_DIR = 'dataset_video_augmented' # Direktori untuk menyimpan video yang diaugmentasi\n",
    "sequence_length = 60         # frame per sequence (akan di-resample ke sini) - DIUBAH DARI 30 MENJADI 60\n",
    "RANDOM_SEED     = 42\n",
    "\n",
    "# Definisi Aksi Utama dan Sub-label\n",
    "BASE_ACTIONS = sorted([d for d in os.listdir(ORIGINAL_VIDEO_DIR)\n",
    "                  if os.path.isdir(os.path.join(ORIGINAL_VIDEO_DIR,d))])\n",
    "SUB_LABELS = [\"Tidak Bergerak\", \"Tidak Sempurna\", \"Sempurna\"]\n",
    "\n",
    "# Buat daftar lengkap label untuk model (misal: \"Angkat Tangan - Tidak Bergerak\")\n",
    "FULL_ACTIONS = []\n",
    "for base_action in BASE_ACTIONS:\n",
    "    for sub_label in SUB_LABELS:\n",
    "        FULL_ACTIONS.append(f\"{base_action} - {sub_label}\")\n",
    "\n",
    "print('Kelas Utama Terdeteksi:', BASE_ACTIONS)\n",
    "print('Sub-label Gerakan:', SUB_LABELS)\n",
    "print('Total Kelas Model (Gabungan):', FULL_ACTIONS, '\\n')\n",
    "\n",
    "\n",
    "vid_dict = defaultdict(list)   # {action: [video_path, …]}\n",
    "for act in BASE_ACTIONS: # Menggunakan BASE_ACTIONS untuk memuat video\n",
    "    for f in sorted(os.listdir(os.path.join(ORIGINAL_VIDEO_DIR,act))):\n",
    "        if f.lower().endswith(('.mp4','.mov','.avi','.mkv')):\\\n",
    "            vid_dict[act].append(os.path.join(ORIGINAL_VIDEO_DIR,act,f))"
   ]
  },
  {
   "cell_type": "markdown",
   "metadata": {},
   "source": [
    "# **3. Exploratory Data Analysis (EDA)**"
   ]
  },
  {
   "cell_type": "code",
   "execution_count": 14,
   "metadata": {
    "execution": {
     "iopub.execute_input": "2025-05-26T03:58:00.054401Z",
     "iopub.status.busy": "2025-05-26T03:58:00.053438Z",
     "iopub.status.idle": "2025-05-26T03:58:01.937362Z",
     "shell.execute_reply": "2025-05-26T03:58:01.936181Z",
     "shell.execute_reply.started": "2025-05-26T03:58:00.054365Z"
    },
    "trusted": true
   },
   "outputs": [
    {
     "data": {
      "text/html": [
       "<div>\n",
       "<style scoped>\n",
       "    .dataframe tbody tr th:only-of-type {\n",
       "        vertical-align: middle;\n",
       "    }\n",
       "\n",
       "    .dataframe tbody tr th {\n",
       "        vertical-align: top;\n",
       "    }\n",
       "\n",
       "    .dataframe thead th {\n",
       "        text-align: right;\n",
       "    }\n",
       "</style>\n",
       "<table border=\"1\" class=\"dataframe\">\n",
       "  <thead>\n",
       "    <tr style=\"text-align: right;\">\n",
       "      <th></th>\n",
       "      <th>action</th>\n",
       "      <th>video</th>\n",
       "      <th>fps</th>\n",
       "      <th>frames</th>\n",
       "      <th>duration</th>\n",
       "    </tr>\n",
       "  </thead>\n",
       "  <tbody>\n",
       "    <tr>\n",
       "      <th>0</th>\n",
       "      <td>Angkat Pinggul</td>\n",
       "      <td>1.MOV</td>\n",
       "      <td>59.953704</td>\n",
       "      <td>259</td>\n",
       "      <td>4.320000</td>\n",
       "    </tr>\n",
       "    <tr>\n",
       "      <th>1</th>\n",
       "      <td>Angkat Pinggul</td>\n",
       "      <td>10.mp4</td>\n",
       "      <td>30.000000</td>\n",
       "      <td>104</td>\n",
       "      <td>3.466667</td>\n",
       "    </tr>\n",
       "    <tr>\n",
       "      <th>2</th>\n",
       "      <td>Angkat Pinggul</td>\n",
       "      <td>11.mp4</td>\n",
       "      <td>29.836711</td>\n",
       "      <td>153</td>\n",
       "      <td>5.127911</td>\n",
       "    </tr>\n",
       "    <tr>\n",
       "      <th>3</th>\n",
       "      <td>Angkat Pinggul</td>\n",
       "      <td>12.mp4</td>\n",
       "      <td>30.031600</td>\n",
       "      <td>134</td>\n",
       "      <td>4.461967</td>\n",
       "    </tr>\n",
       "    <tr>\n",
       "      <th>4</th>\n",
       "      <td>Angkat Pinggul</td>\n",
       "      <td>13.mp4</td>\n",
       "      <td>30.031612</td>\n",
       "      <td>114</td>\n",
       "      <td>3.796000</td>\n",
       "    </tr>\n",
       "    <tr>\n",
       "      <th>...</th>\n",
       "      <td>...</td>\n",
       "      <td>...</td>\n",
       "      <td>...</td>\n",
       "      <td>...</td>\n",
       "      <td>...</td>\n",
       "    </tr>\n",
       "    <tr>\n",
       "      <th>95</th>\n",
       "      <td>Rentangkan</td>\n",
       "      <td>5.MOV</td>\n",
       "      <td>29.971182</td>\n",
       "      <td>156</td>\n",
       "      <td>5.205000</td>\n",
       "    </tr>\n",
       "    <tr>\n",
       "      <th>96</th>\n",
       "      <td>Rentangkan</td>\n",
       "      <td>6.MOV</td>\n",
       "      <td>59.970312</td>\n",
       "      <td>202</td>\n",
       "      <td>3.368333</td>\n",
       "    </tr>\n",
       "    <tr>\n",
       "      <th>97</th>\n",
       "      <td>Rentangkan</td>\n",
       "      <td>7.mp4</td>\n",
       "      <td>30.000000</td>\n",
       "      <td>142</td>\n",
       "      <td>4.733333</td>\n",
       "    </tr>\n",
       "    <tr>\n",
       "      <th>98</th>\n",
       "      <td>Rentangkan</td>\n",
       "      <td>8.mp4</td>\n",
       "      <td>30.000000</td>\n",
       "      <td>155</td>\n",
       "      <td>5.166667</td>\n",
       "    </tr>\n",
       "    <tr>\n",
       "      <th>99</th>\n",
       "      <td>Rentangkan</td>\n",
       "      <td>9.mp4</td>\n",
       "      <td>30.000000</td>\n",
       "      <td>103</td>\n",
       "      <td>3.433333</td>\n",
       "    </tr>\n",
       "  </tbody>\n",
       "</table>\n",
       "<p>100 rows × 5 columns</p>\n",
       "</div>"
      ],
      "text/plain": [
       "            action   video        fps  frames  duration\n",
       "0   Angkat Pinggul   1.MOV  59.953704     259  4.320000\n",
       "1   Angkat Pinggul  10.mp4  30.000000     104  3.466667\n",
       "2   Angkat Pinggul  11.mp4  29.836711     153  5.127911\n",
       "3   Angkat Pinggul  12.mp4  30.031600     134  4.461967\n",
       "4   Angkat Pinggul  13.mp4  30.031612     114  3.796000\n",
       "..             ...     ...        ...     ...       ...\n",
       "95      Rentangkan   5.MOV  29.971182     156  5.205000\n",
       "96      Rentangkan   6.MOV  59.970312     202  3.368333\n",
       "97      Rentangkan   7.mp4  30.000000     142  4.733333\n",
       "98      Rentangkan   8.mp4  30.000000     155  5.166667\n",
       "99      Rentangkan   9.mp4  30.000000     103  3.433333\n",
       "\n",
       "[100 rows x 5 columns]"
      ]
     },
     "metadata": {},
     "output_type": "display_data"
    },
    {
     "data": {
      "image/png": "[encoded data removed]",
      "text/plain": [
       "<Figure size 640x480 with 1 Axes>"
      ]
     },
     "metadata": {},
     "output_type": "display_data"
    }
   ],
   "source": [
    "# --- 3. Exploratory Data Analysis (EDA) ---\n",
    "rows=[]\n",
    "for act in BASE_ACTIONS: # Menggunakan BASE_ACTIONS\n",
    "    for vp in vid_dict[act]:\n",
    "        cap=cv2.VideoCapture(vp)\n",
    "        fps  = cap.get(cv2.CAP_PROP_FPS) or 30\n",
    "        nfrm = int(cap.get(cv2.CAP_PROP_FRAME_COUNT))\n",
    "        dur  = nfrm/fps\n",
    "        rows.append(dict(action=act, video=os.path.basename(vp),\\\n",
    "                         fps=fps, frames=nfrm, duration=dur))\n",
    "        cap.release()\n",
    "df=pd.DataFrame(rows)\n",
    "display(df)\n",
    "sns.barplot(data=df,x='action',y='duration')\n",
    "plt.xticks(rotation=45); plt.title('Durasi per Video'); plt.show()\n"
   ]
  },
  {
   "cell_type": "markdown",
   "metadata": {},
   "source": [
    "# **4. Preprocessing**"
   ]
  },
  {
   "cell_type": "markdown",
   "metadata": {},
   "source": [
    "### Ekstraksi Keypoints\n"
   ]
  },
  {
   "cell_type": "code",
   "execution_count": 15,
   "metadata": {
    "execution": {
     "iopub.execute_input": "2025-05-26T03:58:01.938922Z",
     "iopub.status.busy": "2025-05-26T03:58:01.938575Z",
     "iopub.status.idle": "2025-05-26T04:14:40.154106Z",
     "shell.execute_reply": "2025-05-26T04:14:40.153295Z",
     "shell.execute_reply.started": "2025-05-26T03:58:01.938898Z"
    },
    "trusted": true
   },
   "outputs": [
    {
     "name": "stdout",
     "output_type": "stream",
     "text": [
      "\n",
      "--- Augmentasi Video (Memperlambat/Mempercepat) ---\n"
     ]
    },
    {
     "name": "stderr",
     "output_type": "stream",
     "text": [
      "Augmentasi Angkat Pinggul Videos:   0%|          | 0/20 [00:00<?, ?it/s]"
     ]
    },
    {
     "name": "stdout",
     "output_type": "stream",
     "text": [
      "✅ Video augmented disimpan: dataset_video_augmented\\Angkat Pinggul\\1_speed05.mp4\n",
      "✅ Video augmented disimpan: dataset_video_augmented\\Angkat Pinggul\\1_speed10.mp4\n"
     ]
    },
    {
     "name": "stderr",
     "output_type": "stream",
     "text": [
      "Augmentasi Angkat Pinggul Videos:   5%|▌         | 1/20 [00:14<04:39, 14.70s/it]"
     ]
    },
    {
     "name": "stdout",
     "output_type": "stream",
     "text": [
      "✅ Video augmented disimpan: dataset_video_augmented\\Angkat Pinggul\\1_speed15.mp4\n",
      "✅ Video augmented disimpan: dataset_video_augmented\\Angkat Pinggul\\10_speed05.mp4\n",
      "✅ Video augmented disimpan: dataset_video_augmented\\Angkat Pinggul\\10_speed10.mp4\n"
     ]
    },
    {
     "name": "stderr",
     "output_type": "stream",
     "text": [
      "Augmentasi Angkat Pinggul Videos:  10%|█         | 2/20 [00:19<02:38,  8.80s/it]"
     ]
    },
    {
     "name": "stdout",
     "output_type": "stream",
     "text": [
      "✅ Video augmented disimpan: dataset_video_augmented\\Angkat Pinggul\\10_speed15.mp4\n",
      "✅ Video augmented disimpan: dataset_video_augmented\\Angkat Pinggul\\11_speed05.mp4\n",
      "✅ Video augmented disimpan: dataset_video_augmented\\Angkat Pinggul\\11_speed10.mp4\n"
     ]
    },
    {
     "name": "stderr",
     "output_type": "stream",
     "text": [
      "Augmentasi Angkat Pinggul Videos:  15%|█▌        | 3/20 [00:25<02:08,  7.57s/it]"
     ]
    },
    {
     "name": "stdout",
     "output_type": "stream",
     "text": [
      "✅ Video augmented disimpan: dataset_video_augmented\\Angkat Pinggul\\11_speed15.mp4\n",
      "✅ Video augmented disimpan: dataset_video_augmented\\Angkat Pinggul\\12_speed05.mp4\n",
      "✅ Video augmented disimpan: dataset_video_augmented\\Angkat Pinggul\\12_speed10.mp4\n"
     ]
    },
    {
     "name": "stderr",
     "output_type": "stream",
     "text": [
      "Augmentasi Angkat Pinggul Videos:  20%|██        | 4/20 [00:30<01:47,  6.72s/it]"
     ]
    },
    {
     "name": "stdout",
     "output_type": "stream",
     "text": [
      "✅ Video augmented disimpan: dataset_video_augmented\\Angkat Pinggul\\12_speed15.mp4\n",
      "✅ Video augmented disimpan: dataset_video_augmented\\Angkat Pinggul\\13_speed05.mp4\n",
      "✅ Video augmented disimpan: dataset_video_augmented\\Angkat Pinggul\\13_speed10.mp4\n"
     ]
    },
    {
     "name": "stderr",
     "output_type": "stream",
     "text": [
      "Augmentasi Angkat Pinggul Videos:  25%|██▌       | 5/20 [00:35<01:29,  5.96s/it]"
     ]
    },
    {
     "name": "stdout",
     "output_type": "stream",
     "text": [
      "✅ Video augmented disimpan: dataset_video_augmented\\Angkat Pinggul\\13_speed15.mp4\n",
      "✅ Video augmented disimpan: dataset_video_augmented\\Angkat Pinggul\\14_speed05.mp4\n",
      "✅ Video augmented disimpan: dataset_video_augmented\\Angkat Pinggul\\14_speed10.mp4\n"
     ]
    },
    {
     "name": "stderr",
     "output_type": "stream",
     "text": [
      "Augmentasi Angkat Pinggul Videos:  30%|███       | 6/20 [00:41<01:24,  6.02s/it]"
     ]
    },
    {
     "name": "stdout",
     "output_type": "stream",
     "text": [
      "✅ Video augmented disimpan: dataset_video_augmented\\Angkat Pinggul\\14_speed15.mp4\n",
      "✅ Video augmented disimpan: dataset_video_augmented\\Angkat Pinggul\\15_speed05.mp4\n",
      "✅ Video augmented disimpan: dataset_video_augmented\\Angkat Pinggul\\15_speed10.mp4\n"
     ]
    },
    {
     "name": "stderr",
     "output_type": "stream",
     "text": [
      "Augmentasi Angkat Pinggul Videos:  35%|███▌      | 7/20 [00:47<01:18,  6.06s/it]"
     ]
    },
    {
     "name": "stdout",
     "output_type": "stream",
     "text": [
      "✅ Video augmented disimpan: dataset_video_augmented\\Angkat Pinggul\\15_speed15.mp4\n",
      "✅ Video augmented disimpan: dataset_video_augmented\\Angkat Pinggul\\16_speed05.mp4\n",
      "✅ Video augmented disimpan: dataset_video_augmented\\Angkat Pinggul\\16_speed10.mp4\n"
     ]
    },
    {
     "name": "stderr",
     "output_type": "stream",
     "text": [
      "Augmentasi Angkat Pinggul Videos:  40%|████      | 8/20 [00:54<01:14,  6.19s/it]"
     ]
    },
    {
     "name": "stdout",
     "output_type": "stream",
     "text": [
      "✅ Video augmented disimpan: dataset_video_augmented\\Angkat Pinggul\\16_speed15.mp4\n",
      "✅ Video augmented disimpan: dataset_video_augmented\\Angkat Pinggul\\17_speed05.mp4\n",
      "✅ Video augmented disimpan: dataset_video_augmented\\Angkat Pinggul\\17_speed10.mp4\n"
     ]
    },
    {
     "name": "stderr",
     "output_type": "stream",
     "text": [
      "Augmentasi Angkat Pinggul Videos:  45%|████▌     | 9/20 [00:58<01:03,  5.74s/it]"
     ]
    },
    {
     "name": "stdout",
     "output_type": "stream",
     "text": [
      "✅ Video augmented disimpan: dataset_video_augmented\\Angkat Pinggul\\17_speed15.mp4\n",
      "✅ Video augmented disimpan: dataset_video_augmented\\Angkat Pinggul\\18_speed05.mp4\n",
      "✅ Video augmented disimpan: dataset_video_augmented\\Angkat Pinggul\\18_speed10.mp4\n"
     ]
    },
    {
     "name": "stderr",
     "output_type": "stream",
     "text": [
      "Augmentasi Angkat Pinggul Videos:  50%|█████     | 10/20 [01:03<00:54,  5.48s/it]"
     ]
    },
    {
     "name": "stdout",
     "output_type": "stream",
     "text": [
      "✅ Video augmented disimpan: dataset_video_augmented\\Angkat Pinggul\\18_speed15.mp4\n",
      "✅ Video augmented disimpan: dataset_video_augmented\\Angkat Pinggul\\19_speed05.mp4\n",
      "✅ Video augmented disimpan: dataset_video_augmented\\Angkat Pinggul\\19_speed10.mp4\n"
     ]
    },
    {
     "name": "stderr",
     "output_type": "stream",
     "text": [
      "Augmentasi Angkat Pinggul Videos:  55%|█████▌    | 11/20 [01:09<00:51,  5.67s/it]"
     ]
    },
    {
     "name": "stdout",
     "output_type": "stream",
     "text": [
      "✅ Video augmented disimpan: dataset_video_augmented\\Angkat Pinggul\\19_speed15.mp4\n",
      "✅ Video augmented disimpan: dataset_video_augmented\\Angkat Pinggul\\2_speed05.mp4\n",
      "✅ Video augmented disimpan: dataset_video_augmented\\Angkat Pinggul\\2_speed10.mp4\n"
     ]
    },
    {
     "name": "stderr",
     "output_type": "stream",
     "text": [
      "Augmentasi Angkat Pinggul Videos:  60%|██████    | 12/20 [01:22<01:01,  7.70s/it]"
     ]
    },
    {
     "name": "stdout",
     "output_type": "stream",
     "text": [
      "✅ Video augmented disimpan: dataset_video_augmented\\Angkat Pinggul\\2_speed15.mp4\n",
      "✅ Video augmented disimpan: dataset_video_augmented\\Angkat Pinggul\\20_speed05.mp4\n",
      "✅ Video augmented disimpan: dataset_video_augmented\\Angkat Pinggul\\20_speed10.mp4\n"
     ]
    },
    {
     "name": "stderr",
     "output_type": "stream",
     "text": [
      "Augmentasi Angkat Pinggul Videos:  65%|██████▌   | 13/20 [01:28<00:50,  7.24s/it]"
     ]
    },
    {
     "name": "stdout",
     "output_type": "stream",
     "text": [
      "✅ Video augmented disimpan: dataset_video_augmented\\Angkat Pinggul\\20_speed15.mp4\n",
      "✅ Video augmented disimpan: dataset_video_augmented\\Angkat Pinggul\\3_speed05.mp4\n",
      "✅ Video augmented disimpan: dataset_video_augmented\\Angkat Pinggul\\3_speed10.mp4\n"
     ]
    },
    {
     "name": "stderr",
     "output_type": "stream",
     "text": [
      "Augmentasi Angkat Pinggul Videos:  70%|███████   | 14/20 [01:29<00:32,  5.37s/it]"
     ]
    },
    {
     "name": "stdout",
     "output_type": "stream",
     "text": [
      "✅ Video augmented disimpan: dataset_video_augmented\\Angkat Pinggul\\3_speed15.mp4\n",
      "✅ Video augmented disimpan: dataset_video_augmented\\Angkat Pinggul\\4_speed05.mp4\n",
      "✅ Video augmented disimpan: dataset_video_augmented\\Angkat Pinggul\\4_speed10.mp4\n"
     ]
    },
    {
     "name": "stderr",
     "output_type": "stream",
     "text": [
      "Augmentasi Angkat Pinggul Videos:  75%|███████▌  | 15/20 [01:30<00:20,  4.04s/it]"
     ]
    },
    {
     "name": "stdout",
     "output_type": "stream",
     "text": [
      "✅ Video augmented disimpan: dataset_video_augmented\\Angkat Pinggul\\4_speed15.mp4\n",
      "✅ Video augmented disimpan: dataset_video_augmented\\Angkat Pinggul\\5_speed05.mp4\n",
      "✅ Video augmented disimpan: dataset_video_augmented\\Angkat Pinggul\\5_speed10.mp4\n"
     ]
    },
    {
     "name": "stderr",
     "output_type": "stream",
     "text": [
      "Augmentasi Angkat Pinggul Videos:  80%|████████  | 16/20 [01:31<00:12,  3.19s/it]"
     ]
    },
    {
     "name": "stdout",
     "output_type": "stream",
     "text": [
      "✅ Video augmented disimpan: dataset_video_augmented\\Angkat Pinggul\\5_speed15.mp4\n",
      "✅ Video augmented disimpan: dataset_video_augmented\\Angkat Pinggul\\6_speed05.mp4\n",
      "✅ Video augmented disimpan: dataset_video_augmented\\Angkat Pinggul\\6_speed10.mp4\n"
     ]
    },
    {
     "name": "stderr",
     "output_type": "stream",
     "text": [
      "Augmentasi Angkat Pinggul Videos:  85%|████████▌ | 17/20 [01:32<00:07,  2.51s/it]"
     ]
    },
    {
     "name": "stdout",
     "output_type": "stream",
     "text": [
      "✅ Video augmented disimpan: dataset_video_augmented\\Angkat Pinggul\\6_speed15.mp4\n",
      "✅ Video augmented disimpan: dataset_video_augmented\\Angkat Pinggul\\7_speed05.mp4\n",
      "✅ Video augmented disimpan: dataset_video_augmented\\Angkat Pinggul\\7_speed10.mp4\n"
     ]
    },
    {
     "name": "stderr",
     "output_type": "stream",
     "text": [
      "Augmentasi Angkat Pinggul Videos:  90%|█████████ | 18/20 [01:38<00:06,  3.45s/it]"
     ]
    },
    {
     "name": "stdout",
     "output_type": "stream",
     "text": [
      "✅ Video augmented disimpan: dataset_video_augmented\\Angkat Pinggul\\7_speed15.mp4\n",
      "✅ Video augmented disimpan: dataset_video_augmented\\Angkat Pinggul\\8_speed05.mp4\n",
      "✅ Video augmented disimpan: dataset_video_augmented\\Angkat Pinggul\\8_speed10.mp4\n"
     ]
    },
    {
     "name": "stderr",
     "output_type": "stream",
     "text": [
      "Augmentasi Angkat Pinggul Videos:  95%|█████████▌| 19/20 [01:44<00:04,  4.26s/it]"
     ]
    },
    {
     "name": "stdout",
     "output_type": "stream",
     "text": [
      "✅ Video augmented disimpan: dataset_video_augmented\\Angkat Pinggul\\8_speed15.mp4\n",
      "✅ Video augmented disimpan: dataset_video_augmented\\Angkat Pinggul\\9_speed05.mp4\n",
      "✅ Video augmented disimpan: dataset_video_augmented\\Angkat Pinggul\\9_speed10.mp4\n"
     ]
    },
    {
     "name": "stderr",
     "output_type": "stream",
     "text": [
      "Augmentasi Angkat Pinggul Videos: 100%|██████████| 20/20 [01:50<00:00,  5.51s/it]\n"
     ]
    },
    {
     "name": "stdout",
     "output_type": "stream",
     "text": [
      "✅ Video augmented disimpan: dataset_video_augmented\\Angkat Pinggul\\9_speed15.mp4\n"
     ]
    },
    {
     "name": "stderr",
     "output_type": "stream",
     "text": [
      "Augmentasi Angkat Tangan Videos:   0%|          | 0/20 [00:00<?, ?it/s]"
     ]
    },
    {
     "name": "stdout",
     "output_type": "stream",
     "text": [
      "✅ Video augmented disimpan: dataset_video_augmented\\Angkat Tangan\\1_speed05.mp4\n",
      "✅ Video augmented disimpan: dataset_video_augmented\\Angkat Tangan\\1_speed10.mp4\n"
     ]
    },
    {
     "name": "stderr",
     "output_type": "stream",
     "text": [
      "Augmentasi Angkat Tangan Videos:   5%|▌         | 1/20 [00:00<00:15,  1.26it/s]"
     ]
    },
    {
     "name": "stdout",
     "output_type": "stream",
     "text": [
      "✅ Video augmented disimpan: dataset_video_augmented\\Angkat Tangan\\1_speed15.mp4\n",
      "✅ Video augmented disimpan: dataset_video_augmented\\Angkat Tangan\\10_speed05.mp4\n",
      "✅ Video augmented disimpan: dataset_video_augmented\\Angkat Tangan\\10_speed10.mp4\n"
     ]
    },
    {
     "name": "stderr",
     "output_type": "stream",
     "text": [
      "Augmentasi Angkat Tangan Videos:  10%|█         | 2/20 [00:04<00:46,  2.57s/it]"
     ]
    },
    {
     "name": "stdout",
     "output_type": "stream",
     "text": [
      "✅ Video augmented disimpan: dataset_video_augmented\\Angkat Tangan\\10_speed15.mp4\n",
      "✅ Video augmented disimpan: dataset_video_augmented\\Angkat Tangan\\11_speed05.mp4\n",
      "✅ Video augmented disimpan: dataset_video_augmented\\Angkat Tangan\\11_speed10.mp4\n"
     ]
    },
    {
     "name": "stderr",
     "output_type": "stream",
     "text": [
      "Augmentasi Angkat Tangan Videos:  15%|█▌        | 3/20 [00:08<00:55,  3.29s/it]"
     ]
    },
    {
     "name": "stdout",
     "output_type": "stream",
     "text": [
      "✅ Video augmented disimpan: dataset_video_augmented\\Angkat Tangan\\11_speed15.mp4\n",
      "✅ Video augmented disimpan: dataset_video_augmented\\Angkat Tangan\\12_speed05.mp4\n",
      "✅ Video augmented disimpan: dataset_video_augmented\\Angkat Tangan\\12_speed10.mp4\n"
     ]
    },
    {
     "name": "stderr",
     "output_type": "stream",
     "text": [
      "Augmentasi Angkat Tangan Videos:  20%|██        | 4/20 [00:13<01:03,  3.95s/it]"
     ]
    },
    {
     "name": "stdout",
     "output_type": "stream",
     "text": [
      "✅ Video augmented disimpan: dataset_video_augmented\\Angkat Tangan\\12_speed15.mp4\n",
      "✅ Video augmented disimpan: dataset_video_augmented\\Angkat Tangan\\13_speed05.mp4\n",
      "✅ Video augmented disimpan: dataset_video_augmented\\Angkat Tangan\\13_speed10.mp4\n"
     ]
    },
    {
     "name": "stderr",
     "output_type": "stream",
     "text": [
      "Augmentasi Angkat Tangan Videos:  25%|██▌       | 5/20 [00:17<00:57,  3.82s/it]"
     ]
    },
    {
     "name": "stdout",
     "output_type": "stream",
     "text": [
      "✅ Video augmented disimpan: dataset_video_augmented\\Angkat Tangan\\13_speed15.mp4\n",
      "✅ Video augmented disimpan: dataset_video_augmented\\Angkat Tangan\\14_speed05.mp4\n",
      "✅ Video augmented disimpan: dataset_video_augmented\\Angkat Tangan\\14_speed10.mp4\n"
     ]
    },
    {
     "name": "stderr",
     "output_type": "stream",
     "text": [
      "Augmentasi Angkat Tangan Videos:  30%|███       | 6/20 [00:21<00:56,  4.01s/it]"
     ]
    },
    {
     "name": "stdout",
     "output_type": "stream",
     "text": [
      "✅ Video augmented disimpan: dataset_video_augmented\\Angkat Tangan\\14_speed15.mp4\n",
      "✅ Video augmented disimpan: dataset_video_augmented\\Angkat Tangan\\15_speed05.mp4\n",
      "✅ Video augmented disimpan: dataset_video_augmented\\Angkat Tangan\\15_speed10.mp4\n"
     ]
    },
    {
     "name": "stderr",
     "output_type": "stream",
     "text": [
      "Augmentasi Angkat Tangan Videos:  35%|███▌      | 7/20 [00:26<00:56,  4.37s/it]"
     ]
    },
    {
     "name": "stdout",
     "output_type": "stream",
     "text": [
      "✅ Video augmented disimpan: dataset_video_augmented\\Angkat Tangan\\15_speed15.mp4\n",
      "✅ Video augmented disimpan: dataset_video_augmented\\Angkat Tangan\\16_speed05.mp4\n",
      "✅ Video augmented disimpan: dataset_video_augmented\\Angkat Tangan\\16_speed10.mp4\n"
     ]
    },
    {
     "name": "stderr",
     "output_type": "stream",
     "text": [
      "Augmentasi Angkat Tangan Videos:  40%|████      | 8/20 [00:31<00:53,  4.50s/it]"
     ]
    },
    {
     "name": "stdout",
     "output_type": "stream",
     "text": [
      "✅ Video augmented disimpan: dataset_video_augmented\\Angkat Tangan\\16_speed15.mp4\n",
      "✅ Video augmented disimpan: dataset_video_augmented\\Angkat Tangan\\17_speed05.mp4\n",
      "✅ Video augmented disimpan: dataset_video_augmented\\Angkat Tangan\\17_speed10.mp4\n"
     ]
    },
    {
     "name": "stderr",
     "output_type": "stream",
     "text": [
      "Augmentasi Angkat Tangan Videos:  45%|████▌     | 9/20 [00:36<00:50,  4.55s/it]"
     ]
    },
    {
     "name": "stdout",
     "output_type": "stream",
     "text": [
      "✅ Video augmented disimpan: dataset_video_augmented\\Angkat Tangan\\17_speed15.mp4\n",
      "✅ Video augmented disimpan: dataset_video_augmented\\Angkat Tangan\\18_speed05.mp4\n",
      "✅ Video augmented disimpan: dataset_video_augmented\\Angkat Tangan\\18_speed10.mp4\n"
     ]
    },
    {
     "name": "stderr",
     "output_type": "stream",
     "text": [
      "Augmentasi Angkat Tangan Videos:  50%|█████     | 10/20 [00:39<00:42,  4.24s/it]"
     ]
    },
    {
     "name": "stdout",
     "output_type": "stream",
     "text": [
      "✅ Video augmented disimpan: dataset_video_augmented\\Angkat Tangan\\18_speed15.mp4\n",
      "✅ Video augmented disimpan: dataset_video_augmented\\Angkat Tangan\\19_speed05.mp4\n",
      "✅ Video augmented disimpan: dataset_video_augmented\\Angkat Tangan\\19_speed10.mp4\n"
     ]
    },
    {
     "name": "stderr",
     "output_type": "stream",
     "text": [
      "Augmentasi Angkat Tangan Videos:  55%|█████▌    | 11/20 [00:44<00:39,  4.42s/it]"
     ]
    },
    {
     "name": "stdout",
     "output_type": "stream",
     "text": [
      "✅ Video augmented disimpan: dataset_video_augmented\\Angkat Tangan\\19_speed15.mp4\n",
      "✅ Video augmented disimpan: dataset_video_augmented\\Angkat Tangan\\2_speed05.mp4\n",
      "✅ Video augmented disimpan: dataset_video_augmented\\Angkat Tangan\\2_speed10.mp4\n"
     ]
    },
    {
     "name": "stderr",
     "output_type": "stream",
     "text": [
      "Augmentasi Angkat Tangan Videos:  60%|██████    | 12/20 [00:45<00:26,  3.29s/it]"
     ]
    },
    {
     "name": "stdout",
     "output_type": "stream",
     "text": [
      "✅ Video augmented disimpan: dataset_video_augmented\\Angkat Tangan\\2_speed15.mp4\n",
      "✅ Video augmented disimpan: dataset_video_augmented\\Angkat Tangan\\20_speed05.mp4\n",
      "✅ Video augmented disimpan: dataset_video_augmented\\Angkat Tangan\\20_speed10.mp4\n"
     ]
    },
    {
     "name": "stderr",
     "output_type": "stream",
     "text": [
      "Augmentasi Angkat Tangan Videos:  65%|██████▌   | 13/20 [00:49<00:25,  3.58s/it]"
     ]
    },
    {
     "name": "stdout",
     "output_type": "stream",
     "text": [
      "✅ Video augmented disimpan: dataset_video_augmented\\Angkat Tangan\\20_speed15.mp4\n",
      "✅ Video augmented disimpan: dataset_video_augmented\\Angkat Tangan\\3_speed05.mp4\n",
      "✅ Video augmented disimpan: dataset_video_augmented\\Angkat Tangan\\3_speed10.mp4\n"
     ]
    },
    {
     "name": "stderr",
     "output_type": "stream",
     "text": [
      "Augmentasi Angkat Tangan Videos:  70%|███████   | 14/20 [00:54<00:24,  4.04s/it]"
     ]
    },
    {
     "name": "stdout",
     "output_type": "stream",
     "text": [
      "✅ Video augmented disimpan: dataset_video_augmented\\Angkat Tangan\\3_speed15.mp4\n",
      "✅ Video augmented disimpan: dataset_video_augmented\\Angkat Tangan\\4_speed05.mp4\n",
      "✅ Video augmented disimpan: dataset_video_augmented\\Angkat Tangan\\4_speed10.mp4\n"
     ]
    },
    {
     "name": "stderr",
     "output_type": "stream",
     "text": [
      "Augmentasi Angkat Tangan Videos:  75%|███████▌  | 15/20 [00:57<00:18,  3.78s/it]"
     ]
    },
    {
     "name": "stdout",
     "output_type": "stream",
     "text": [
      "✅ Video augmented disimpan: dataset_video_augmented\\Angkat Tangan\\4_speed15.mp4\n",
      "✅ Video augmented disimpan: dataset_video_augmented\\Angkat Tangan\\5_speed05.mp4\n",
      "✅ Video augmented disimpan: dataset_video_augmented\\Angkat Tangan\\5_speed10.mp4\n"
     ]
    },
    {
     "name": "stderr",
     "output_type": "stream",
     "text": [
      "Augmentasi Angkat Tangan Videos:  80%|████████  | 16/20 [01:01<00:15,  3.82s/it]"
     ]
    },
    {
     "name": "stdout",
     "output_type": "stream",
     "text": [
      "✅ Video augmented disimpan: dataset_video_augmented\\Angkat Tangan\\5_speed15.mp4\n",
      "✅ Video augmented disimpan: dataset_video_augmented\\Angkat Tangan\\6_speed05.mp4\n",
      "✅ Video augmented disimpan: dataset_video_augmented\\Angkat Tangan\\6_speed10.mp4\n"
     ]
    },
    {
     "name": "stderr",
     "output_type": "stream",
     "text": [
      "Augmentasi Angkat Tangan Videos:  85%|████████▌ | 17/20 [01:06<00:12,  4.11s/it]"
     ]
    },
    {
     "name": "stdout",
     "output_type": "stream",
     "text": [
      "✅ Video augmented disimpan: dataset_video_augmented\\Angkat Tangan\\6_speed15.mp4\n",
      "✅ Video augmented disimpan: dataset_video_augmented\\Angkat Tangan\\7_speed05.mp4\n",
      "✅ Video augmented disimpan: dataset_video_augmented\\Angkat Tangan\\7_speed10.mp4\n"
     ]
    },
    {
     "name": "stderr",
     "output_type": "stream",
     "text": [
      "Augmentasi Angkat Tangan Videos:  90%|█████████ | 18/20 [01:11<00:08,  4.22s/it]"
     ]
    },
    {
     "name": "stdout",
     "output_type": "stream",
     "text": [
      "✅ Video augmented disimpan: dataset_video_augmented\\Angkat Tangan\\7_speed15.mp4\n",
      "✅ Video augmented disimpan: dataset_video_augmented\\Angkat Tangan\\8_speed05.mp4\n",
      "✅ Video augmented disimpan: dataset_video_augmented\\Angkat Tangan\\8_speed10.mp4\n"
     ]
    },
    {
     "name": "stderr",
     "output_type": "stream",
     "text": [
      "Augmentasi Angkat Tangan Videos:  95%|█████████▌| 19/20 [01:14<00:04,  4.02s/it]"
     ]
    },
    {
     "name": "stdout",
     "output_type": "stream",
     "text": [
      "✅ Video augmented disimpan: dataset_video_augmented\\Angkat Tangan\\8_speed15.mp4\n",
      "✅ Video augmented disimpan: dataset_video_augmented\\Angkat Tangan\\9_speed05.mp4\n",
      "✅ Video augmented disimpan: dataset_video_augmented\\Angkat Tangan\\9_speed10.mp4\n"
     ]
    },
    {
     "name": "stderr",
     "output_type": "stream",
     "text": [
      "Augmentasi Angkat Tangan Videos: 100%|██████████| 20/20 [01:18<00:00,  3.94s/it]\n"
     ]
    },
    {
     "name": "stdout",
     "output_type": "stream",
     "text": [
      "✅ Video augmented disimpan: dataset_video_augmented\\Angkat Tangan\\9_speed15.mp4\n"
     ]
    },
    {
     "name": "stderr",
     "output_type": "stream",
     "text": [
      "Augmentasi Lutut Turun Videos:   0%|          | 0/20 [00:00<?, ?it/s]"
     ]
    },
    {
     "name": "stdout",
     "output_type": "stream",
     "text": [
      "✅ Video augmented disimpan: dataset_video_augmented\\Lutut Turun\\1_speed05.mp4\n",
      "✅ Video augmented disimpan: dataset_video_augmented\\Lutut Turun\\1_speed10.mp4\n"
     ]
    },
    {
     "name": "stderr",
     "output_type": "stream",
     "text": [
      "Augmentasi Lutut Turun Videos:   5%|▌         | 1/20 [00:13<04:13, 13.34s/it]"
     ]
    },
    {
     "name": "stdout",
     "output_type": "stream",
     "text": [
      "✅ Video augmented disimpan: dataset_video_augmented\\Lutut Turun\\1_speed15.mp4\n",
      "✅ Video augmented disimpan: dataset_video_augmented\\Lutut Turun\\10_speed05.mp4\n",
      "✅ Video augmented disimpan: dataset_video_augmented\\Lutut Turun\\10_speed10.mp4\n"
     ]
    },
    {
     "name": "stderr",
     "output_type": "stream",
     "text": [
      "Augmentasi Lutut Turun Videos:  10%|█         | 2/20 [00:17<02:24,  8.03s/it]"
     ]
    },
    {
     "name": "stdout",
     "output_type": "stream",
     "text": [
      "✅ Video augmented disimpan: dataset_video_augmented\\Lutut Turun\\10_speed15.mp4\n",
      "✅ Video augmented disimpan: dataset_video_augmented\\Lutut Turun\\11_speed05.mp4\n",
      "✅ Video augmented disimpan: dataset_video_augmented\\Lutut Turun\\11_speed10.mp4\n"
     ]
    },
    {
     "name": "stderr",
     "output_type": "stream",
     "text": [
      "Augmentasi Lutut Turun Videos:  15%|█▌        | 3/20 [00:25<02:17,  8.06s/it]"
     ]
    },
    {
     "name": "stdout",
     "output_type": "stream",
     "text": [
      "✅ Video augmented disimpan: dataset_video_augmented\\Lutut Turun\\11_speed15.mp4\n",
      "✅ Video augmented disimpan: dataset_video_augmented\\Lutut Turun\\12_speed05.mp4\n",
      "✅ Video augmented disimpan: dataset_video_augmented\\Lutut Turun\\12_speed10.mp4\n"
     ]
    },
    {
     "name": "stderr",
     "output_type": "stream",
     "text": [
      "Augmentasi Lutut Turun Videos:  20%|██        | 4/20 [00:34<02:13,  8.32s/it]"
     ]
    },
    {
     "name": "stdout",
     "output_type": "stream",
     "text": [
      "✅ Video augmented disimpan: dataset_video_augmented\\Lutut Turun\\12_speed15.mp4\n",
      "✅ Video augmented disimpan: dataset_video_augmented\\Lutut Turun\\13_speed05.mp4\n",
      "✅ Video augmented disimpan: dataset_video_augmented\\Lutut Turun\\13_speed10.mp4\n"
     ]
    },
    {
     "name": "stderr",
     "output_type": "stream",
     "text": [
      "Augmentasi Lutut Turun Videos:  25%|██▌       | 5/20 [00:43<02:06,  8.41s/it]"
     ]
    },
    {
     "name": "stdout",
     "output_type": "stream",
     "text": [
      "✅ Video augmented disimpan: dataset_video_augmented\\Lutut Turun\\13_speed15.mp4\n",
      "✅ Video augmented disimpan: dataset_video_augmented\\Lutut Turun\\14_speed05.mp4\n",
      "✅ Video augmented disimpan: dataset_video_augmented\\Lutut Turun\\14_speed10.mp4\n"
     ]
    },
    {
     "name": "stderr",
     "output_type": "stream",
     "text": [
      "Augmentasi Lutut Turun Videos:  30%|███       | 6/20 [00:49<01:49,  7.81s/it]"
     ]
    },
    {
     "name": "stdout",
     "output_type": "stream",
     "text": [
      "✅ Video augmented disimpan: dataset_video_augmented\\Lutut Turun\\14_speed15.mp4\n",
      "✅ Video augmented disimpan: dataset_video_augmented\\Lutut Turun\\15_speed05.mp4\n",
      "✅ Video augmented disimpan: dataset_video_augmented\\Lutut Turun\\15_speed10.mp4\n"
     ]
    },
    {
     "name": "stderr",
     "output_type": "stream",
     "text": [
      "Augmentasi Lutut Turun Videos:  35%|███▌      | 7/20 [00:55<01:33,  7.17s/it]"
     ]
    },
    {
     "name": "stdout",
     "output_type": "stream",
     "text": [
      "✅ Video augmented disimpan: dataset_video_augmented\\Lutut Turun\\15_speed15.mp4\n",
      "✅ Video augmented disimpan: dataset_video_augmented\\Lutut Turun\\16_speed05.mp4\n",
      "✅ Video augmented disimpan: dataset_video_augmented\\Lutut Turun\\16_speed10.mp4\n"
     ]
    },
    {
     "name": "stderr",
     "output_type": "stream",
     "text": [
      "Augmentasi Lutut Turun Videos:  40%|████      | 8/20 [01:01<01:22,  6.90s/it]"
     ]
    },
    {
     "name": "stdout",
     "output_type": "stream",
     "text": [
      "✅ Video augmented disimpan: dataset_video_augmented\\Lutut Turun\\16_speed15.mp4\n",
      "✅ Video augmented disimpan: dataset_video_augmented\\Lutut Turun\\17_speed05.mp4\n",
      "✅ Video augmented disimpan: dataset_video_augmented\\Lutut Turun\\17_speed10.mp4\n"
     ]
    },
    {
     "name": "stderr",
     "output_type": "stream",
     "text": [
      "Augmentasi Lutut Turun Videos:  45%|████▌     | 9/20 [01:08<01:14,  6.81s/it]"
     ]
    },
    {
     "name": "stdout",
     "output_type": "stream",
     "text": [
      "✅ Video augmented disimpan: dataset_video_augmented\\Lutut Turun\\17_speed15.mp4\n",
      "✅ Video augmented disimpan: dataset_video_augmented\\Lutut Turun\\18_speed05.mp4\n",
      "✅ Video augmented disimpan: dataset_video_augmented\\Lutut Turun\\18_speed10.mp4\n"
     ]
    },
    {
     "name": "stderr",
     "output_type": "stream",
     "text": [
      "Augmentasi Lutut Turun Videos:  50%|█████     | 10/20 [01:14<01:04,  6.46s/it]"
     ]
    },
    {
     "name": "stdout",
     "output_type": "stream",
     "text": [
      "✅ Video augmented disimpan: dataset_video_augmented\\Lutut Turun\\18_speed15.mp4\n",
      "✅ Video augmented disimpan: dataset_video_augmented\\Lutut Turun\\19_speed05.mp4\n",
      "✅ Video augmented disimpan: dataset_video_augmented\\Lutut Turun\\19_speed10.mp4\n"
     ]
    },
    {
     "name": "stderr",
     "output_type": "stream",
     "text": [
      "Augmentasi Lutut Turun Videos:  55%|█████▌    | 11/20 [01:20<00:57,  6.39s/it]"
     ]
    },
    {
     "name": "stdout",
     "output_type": "stream",
     "text": [
      "✅ Video augmented disimpan: dataset_video_augmented\\Lutut Turun\\19_speed15.mp4\n",
      "✅ Video augmented disimpan: dataset_video_augmented\\Lutut Turun\\2_speed05.mp4\n",
      "✅ Video augmented disimpan: dataset_video_augmented\\Lutut Turun\\2_speed10.mp4\n"
     ]
    },
    {
     "name": "stderr",
     "output_type": "stream",
     "text": [
      "Augmentasi Lutut Turun Videos:  60%|██████    | 12/20 [01:32<01:05,  8.15s/it]"
     ]
    },
    {
     "name": "stdout",
     "output_type": "stream",
     "text": [
      "✅ Video augmented disimpan: dataset_video_augmented\\Lutut Turun\\2_speed15.mp4\n",
      "✅ Video augmented disimpan: dataset_video_augmented\\Lutut Turun\\20_speed05.mp4\n",
      "✅ Video augmented disimpan: dataset_video_augmented\\Lutut Turun\\20_speed10.mp4\n"
     ]
    },
    {
     "name": "stderr",
     "output_type": "stream",
     "text": [
      "Augmentasi Lutut Turun Videos:  65%|██████▌   | 13/20 [01:39<00:54,  7.72s/it]"
     ]
    },
    {
     "name": "stdout",
     "output_type": "stream",
     "text": [
      "✅ Video augmented disimpan: dataset_video_augmented\\Lutut Turun\\20_speed15.mp4\n",
      "✅ Video augmented disimpan: dataset_video_augmented\\Lutut Turun\\3_speed05.mp4\n",
      "✅ Video augmented disimpan: dataset_video_augmented\\Lutut Turun\\3_speed10.mp4\n"
     ]
    },
    {
     "name": "stderr",
     "output_type": "stream",
     "text": [
      "Augmentasi Lutut Turun Videos:  70%|███████   | 14/20 [01:40<00:34,  5.68s/it]"
     ]
    },
    {
     "name": "stdout",
     "output_type": "stream",
     "text": [
      "✅ Video augmented disimpan: dataset_video_augmented\\Lutut Turun\\3_speed15.mp4\n",
      "✅ Video augmented disimpan: dataset_video_augmented\\Lutut Turun\\4_speed05.mp4\n",
      "✅ Video augmented disimpan: dataset_video_augmented\\Lutut Turun\\4_speed10.mp4\n"
     ]
    },
    {
     "name": "stderr",
     "output_type": "stream",
     "text": [
      "Augmentasi Lutut Turun Videos:  75%|███████▌  | 15/20 [01:41<00:21,  4.22s/it]"
     ]
    },
    {
     "name": "stdout",
     "output_type": "stream",
     "text": [
      "✅ Video augmented disimpan: dataset_video_augmented\\Lutut Turun\\4_speed15.mp4\n",
      "✅ Video augmented disimpan: dataset_video_augmented\\Lutut Turun\\5_speed05.mp4\n",
      "✅ Video augmented disimpan: dataset_video_augmented\\Lutut Turun\\5_speed10.mp4\n"
     ]
    },
    {
     "name": "stderr",
     "output_type": "stream",
     "text": [
      "Augmentasi Lutut Turun Videos:  80%|████████  | 16/20 [01:41<00:12,  3.21s/it]"
     ]
    },
    {
     "name": "stdout",
     "output_type": "stream",
     "text": [
      "✅ Video augmented disimpan: dataset_video_augmented\\Lutut Turun\\5_speed15.mp4\n",
      "✅ Video augmented disimpan: dataset_video_augmented\\Lutut Turun\\6_speed05.mp4\n",
      "✅ Video augmented disimpan: dataset_video_augmented\\Lutut Turun\\6_speed10.mp4\n"
     ]
    },
    {
     "name": "stderr",
     "output_type": "stream",
     "text": [
      "Augmentasi Lutut Turun Videos:  85%|████████▌ | 17/20 [01:42<00:07,  2.45s/it]"
     ]
    },
    {
     "name": "stdout",
     "output_type": "stream",
     "text": [
      "✅ Video augmented disimpan: dataset_video_augmented\\Lutut Turun\\6_speed15.mp4\n",
      "✅ Video augmented disimpan: dataset_video_augmented\\Lutut Turun\\7_speed05.mp4\n",
      "✅ Video augmented disimpan: dataset_video_augmented\\Lutut Turun\\7_speed10.mp4\n"
     ]
    },
    {
     "name": "stderr",
     "output_type": "stream",
     "text": [
      "Augmentasi Lutut Turun Videos:  90%|█████████ | 18/20 [01:48<00:07,  3.59s/it]"
     ]
    },
    {
     "name": "stdout",
     "output_type": "stream",
     "text": [
      "✅ Video augmented disimpan: dataset_video_augmented\\Lutut Turun\\7_speed15.mp4\n",
      "✅ Video augmented disimpan: dataset_video_augmented\\Lutut Turun\\8_speed05.mp4\n",
      "✅ Video augmented disimpan: dataset_video_augmented\\Lutut Turun\\8_speed10.mp4\n"
     ]
    },
    {
     "name": "stderr",
     "output_type": "stream",
     "text": [
      "Augmentasi Lutut Turun Videos:  95%|█████████▌| 19/20 [01:54<00:04,  4.28s/it]"
     ]
    },
    {
     "name": "stdout",
     "output_type": "stream",
     "text": [
      "✅ Video augmented disimpan: dataset_video_augmented\\Lutut Turun\\8_speed15.mp4\n",
      "✅ Video augmented disimpan: dataset_video_augmented\\Lutut Turun\\9_speed05.mp4\n",
      "✅ Video augmented disimpan: dataset_video_augmented\\Lutut Turun\\9_speed10.mp4\n"
     ]
    },
    {
     "name": "stderr",
     "output_type": "stream",
     "text": [
      "Augmentasi Lutut Turun Videos: 100%|██████████| 20/20 [01:59<00:00,  5.99s/it]\n"
     ]
    },
    {
     "name": "stdout",
     "output_type": "stream",
     "text": [
      "✅ Video augmented disimpan: dataset_video_augmented\\Lutut Turun\\9_speed15.mp4\n"
     ]
    },
    {
     "name": "stderr",
     "output_type": "stream",
     "text": [
      "Augmentasi Naikan Kepalan Kedepan Videos:   0%|          | 0/20 [00:00<?, ?it/s]"
     ]
    },
    {
     "name": "stdout",
     "output_type": "stream",
     "text": [
      "✅ Video augmented disimpan: dataset_video_augmented\\Naikan Kepalan Kedepan\\1_speed05.mp4\n",
      "✅ Video augmented disimpan: dataset_video_augmented\\Naikan Kepalan Kedepan\\1_speed10.mp4\n"
     ]
    },
    {
     "name": "stderr",
     "output_type": "stream",
     "text": [
      "Augmentasi Naikan Kepalan Kedepan Videos:   5%|▌         | 1/20 [00:00<00:13,  1.41it/s]"
     ]
    },
    {
     "name": "stdout",
     "output_type": "stream",
     "text": [
      "✅ Video augmented disimpan: dataset_video_augmented\\Naikan Kepalan Kedepan\\1_speed15.mp4\n",
      "✅ Video augmented disimpan: dataset_video_augmented\\Naikan Kepalan Kedepan\\10_speed05.mp4\n",
      "✅ Video augmented disimpan: dataset_video_augmented\\Naikan Kepalan Kedepan\\10_speed10.mp4\n"
     ]
    },
    {
     "name": "stderr",
     "output_type": "stream",
     "text": [
      "Augmentasi Naikan Kepalan Kedepan Videos:  10%|█         | 2/20 [00:07<01:12,  4.03s/it]"
     ]
    },
    {
     "name": "stdout",
     "output_type": "stream",
     "text": [
      "✅ Video augmented disimpan: dataset_video_augmented\\Naikan Kepalan Kedepan\\10_speed15.mp4\n",
      "✅ Video augmented disimpan: dataset_video_augmented\\Naikan Kepalan Kedepan\\11_speed05.mp4\n",
      "✅ Video augmented disimpan: dataset_video_augmented\\Naikan Kepalan Kedepan\\11_speed10.mp4\n"
     ]
    },
    {
     "name": "stderr",
     "output_type": "stream",
     "text": [
      "Augmentasi Naikan Kepalan Kedepan Videos:  15%|█▌        | 3/20 [00:12<01:15,  4.45s/it]"
     ]
    },
    {
     "name": "stdout",
     "output_type": "stream",
     "text": [
      "✅ Video augmented disimpan: dataset_video_augmented\\Naikan Kepalan Kedepan\\11_speed15.mp4\n",
      "✅ Video augmented disimpan: dataset_video_augmented\\Naikan Kepalan Kedepan\\12_speed05.mp4\n",
      "✅ Video augmented disimpan: dataset_video_augmented\\Naikan Kepalan Kedepan\\12_speed10.mp4\n"
     ]
    },
    {
     "name": "stderr",
     "output_type": "stream",
     "text": [
      "Augmentasi Naikan Kepalan Kedepan Videos:  20%|██        | 4/20 [00:16<01:13,  4.60s/it]"
     ]
    },
    {
     "name": "stdout",
     "output_type": "stream",
     "text": [
      "✅ Video augmented disimpan: dataset_video_augmented\\Naikan Kepalan Kedepan\\12_speed15.mp4\n",
      "✅ Video augmented disimpan: dataset_video_augmented\\Naikan Kepalan Kedepan\\13_speed05.mp4\n",
      "✅ Video augmented disimpan: dataset_video_augmented\\Naikan Kepalan Kedepan\\13_speed10.mp4\n"
     ]
    },
    {
     "name": "stderr",
     "output_type": "stream",
     "text": [
      "Augmentasi Naikan Kepalan Kedepan Videos:  25%|██▌       | 5/20 [00:23<01:17,  5.18s/it]"
     ]
    },
    {
     "name": "stdout",
     "output_type": "stream",
     "text": [
      "✅ Video augmented disimpan: dataset_video_augmented\\Naikan Kepalan Kedepan\\13_speed15.mp4\n",
      "✅ Video augmented disimpan: dataset_video_augmented\\Naikan Kepalan Kedepan\\14_speed05.mp4\n",
      "✅ Video augmented disimpan: dataset_video_augmented\\Naikan Kepalan Kedepan\\14_speed10.mp4\n"
     ]
    },
    {
     "name": "stderr",
     "output_type": "stream",
     "text": [
      "Augmentasi Naikan Kepalan Kedepan Videos:  30%|███       | 6/20 [00:28<01:11,  5.14s/it]"
     ]
    },
    {
     "name": "stdout",
     "output_type": "stream",
     "text": [
      "✅ Video augmented disimpan: dataset_video_augmented\\Naikan Kepalan Kedepan\\14_speed15.mp4\n",
      "✅ Video augmented disimpan: dataset_video_augmented\\Naikan Kepalan Kedepan\\15_speed05.mp4\n",
      "✅ Video augmented disimpan: dataset_video_augmented\\Naikan Kepalan Kedepan\\15_speed10.mp4\n"
     ]
    },
    {
     "name": "stderr",
     "output_type": "stream",
     "text": [
      "Augmentasi Naikan Kepalan Kedepan Videos:  35%|███▌      | 7/20 [00:34<01:11,  5.47s/it]"
     ]
    },
    {
     "name": "stdout",
     "output_type": "stream",
     "text": [
      "✅ Video augmented disimpan: dataset_video_augmented\\Naikan Kepalan Kedepan\\15_speed15.mp4\n",
      "✅ Video augmented disimpan: dataset_video_augmented\\Naikan Kepalan Kedepan\\16_speed05.mp4\n",
      "✅ Video augmented disimpan: dataset_video_augmented\\Naikan Kepalan Kedepan\\16_speed10.mp4\n"
     ]
    },
    {
     "name": "stderr",
     "output_type": "stream",
     "text": [
      "Augmentasi Naikan Kepalan Kedepan Videos:  40%|████      | 8/20 [00:39<01:06,  5.52s/it]"
     ]
    },
    {
     "name": "stdout",
     "output_type": "stream",
     "text": [
      "✅ Video augmented disimpan: dataset_video_augmented\\Naikan Kepalan Kedepan\\16_speed15.mp4\n",
      "✅ Video augmented disimpan: dataset_video_augmented\\Naikan Kepalan Kedepan\\17_speed05.mp4\n",
      "✅ Video augmented disimpan: dataset_video_augmented\\Naikan Kepalan Kedepan\\17_speed10.mp4\n"
     ]
    },
    {
     "name": "stderr",
     "output_type": "stream",
     "text": [
      "Augmentasi Naikan Kepalan Kedepan Videos:  45%|████▌     | 9/20 [00:45<01:01,  5.62s/it]"
     ]
    },
    {
     "name": "stdout",
     "output_type": "stream",
     "text": [
      "✅ Video augmented disimpan: dataset_video_augmented\\Naikan Kepalan Kedepan\\17_speed15.mp4\n",
      "✅ Video augmented disimpan: dataset_video_augmented\\Naikan Kepalan Kedepan\\18_speed05.mp4\n",
      "✅ Video augmented disimpan: dataset_video_augmented\\Naikan Kepalan Kedepan\\18_speed10.mp4\n"
     ]
    },
    {
     "name": "stderr",
     "output_type": "stream",
     "text": [
      "Augmentasi Naikan Kepalan Kedepan Videos:  50%|█████     | 10/20 [00:51<00:55,  5.53s/it]"
     ]
    },
    {
     "name": "stdout",
     "output_type": "stream",
     "text": [
      "✅ Video augmented disimpan: dataset_video_augmented\\Naikan Kepalan Kedepan\\18_speed15.mp4\n",
      "✅ Video augmented disimpan: dataset_video_augmented\\Naikan Kepalan Kedepan\\19_speed05.mp4\n",
      "✅ Video augmented disimpan: dataset_video_augmented\\Naikan Kepalan Kedepan\\19_speed10.mp4\n"
     ]
    },
    {
     "name": "stderr",
     "output_type": "stream",
     "text": [
      "Augmentasi Naikan Kepalan Kedepan Videos:  55%|█████▌    | 11/20 [00:57<00:52,  5.80s/it]"
     ]
    },
    {
     "name": "stdout",
     "output_type": "stream",
     "text": [
      "✅ Video augmented disimpan: dataset_video_augmented\\Naikan Kepalan Kedepan\\19_speed15.mp4\n",
      "✅ Video augmented disimpan: dataset_video_augmented\\Naikan Kepalan Kedepan\\2_speed05.mp4\n",
      "✅ Video augmented disimpan: dataset_video_augmented\\Naikan Kepalan Kedepan\\2_speed10.mp4\n"
     ]
    },
    {
     "name": "stderr",
     "output_type": "stream",
     "text": [
      "Augmentasi Naikan Kepalan Kedepan Videos:  60%|██████    | 12/20 [00:58<00:34,  4.33s/it]"
     ]
    },
    {
     "name": "stdout",
     "output_type": "stream",
     "text": [
      "✅ Video augmented disimpan: dataset_video_augmented\\Naikan Kepalan Kedepan\\2_speed15.mp4\n",
      "✅ Video augmented disimpan: dataset_video_augmented\\Naikan Kepalan Kedepan\\20_speed05.mp4\n",
      "✅ Video augmented disimpan: dataset_video_augmented\\Naikan Kepalan Kedepan\\20_speed10.mp4\n"
     ]
    },
    {
     "name": "stderr",
     "output_type": "stream",
     "text": [
      "Augmentasi Naikan Kepalan Kedepan Videos:  65%|██████▌   | 13/20 [01:04<00:33,  4.79s/it]"
     ]
    },
    {
     "name": "stdout",
     "output_type": "stream",
     "text": [
      "✅ Video augmented disimpan: dataset_video_augmented\\Naikan Kepalan Kedepan\\20_speed15.mp4\n",
      "✅ Video augmented disimpan: dataset_video_augmented\\Naikan Kepalan Kedepan\\3_speed05.mp4\n",
      "✅ Video augmented disimpan: dataset_video_augmented\\Naikan Kepalan Kedepan\\3_speed10.mp4\n"
     ]
    },
    {
     "name": "stderr",
     "output_type": "stream",
     "text": [
      "Augmentasi Naikan Kepalan Kedepan Videos:  70%|███████   | 14/20 [01:05<00:21,  3.64s/it]"
     ]
    },
    {
     "name": "stdout",
     "output_type": "stream",
     "text": [
      "✅ Video augmented disimpan: dataset_video_augmented\\Naikan Kepalan Kedepan\\3_speed15.mp4\n",
      "✅ Video augmented disimpan: dataset_video_augmented\\Naikan Kepalan Kedepan\\4_speed05.mp4\n",
      "✅ Video augmented disimpan: dataset_video_augmented\\Naikan Kepalan Kedepan\\4_speed10.mp4\n"
     ]
    },
    {
     "name": "stderr",
     "output_type": "stream",
     "text": [
      "Augmentasi Naikan Kepalan Kedepan Videos:  75%|███████▌  | 15/20 [01:06<00:14,  2.82s/it]"
     ]
    },
    {
     "name": "stdout",
     "output_type": "stream",
     "text": [
      "✅ Video augmented disimpan: dataset_video_augmented\\Naikan Kepalan Kedepan\\4_speed15.mp4\n",
      "✅ Video augmented disimpan: dataset_video_augmented\\Naikan Kepalan Kedepan\\5_speed05.mp4\n",
      "✅ Video augmented disimpan: dataset_video_augmented\\Naikan Kepalan Kedepan\\5_speed10.mp4\n"
     ]
    },
    {
     "name": "stderr",
     "output_type": "stream",
     "text": [
      "Augmentasi Naikan Kepalan Kedepan Videos:  80%|████████  | 16/20 [01:18<00:23,  5.82s/it]"
     ]
    },
    {
     "name": "stdout",
     "output_type": "stream",
     "text": [
      "✅ Video augmented disimpan: dataset_video_augmented\\Naikan Kepalan Kedepan\\5_speed15.mp4\n",
      "✅ Video augmented disimpan: dataset_video_augmented\\Naikan Kepalan Kedepan\\6_speed05.mp4\n",
      "✅ Video augmented disimpan: dataset_video_augmented\\Naikan Kepalan Kedepan\\6_speed10.mp4\n"
     ]
    },
    {
     "name": "stderr",
     "output_type": "stream",
     "text": [
      "Augmentasi Naikan Kepalan Kedepan Videos:  85%|████████▌ | 17/20 [01:31<00:23,  7.97s/it]"
     ]
    },
    {
     "name": "stdout",
     "output_type": "stream",
     "text": [
      "✅ Video augmented disimpan: dataset_video_augmented\\Naikan Kepalan Kedepan\\6_speed15.mp4\n",
      "✅ Video augmented disimpan: dataset_video_augmented\\Naikan Kepalan Kedepan\\7_speed05.mp4\n",
      "✅ Video augmented disimpan: dataset_video_augmented\\Naikan Kepalan Kedepan\\7_speed10.mp4\n"
     ]
    },
    {
     "name": "stderr",
     "output_type": "stream",
     "text": [
      "Augmentasi Naikan Kepalan Kedepan Videos:  90%|█████████ | 18/20 [01:39<00:15,  7.95s/it]"
     ]
    },
    {
     "name": "stdout",
     "output_type": "stream",
     "text": [
      "✅ Video augmented disimpan: dataset_video_augmented\\Naikan Kepalan Kedepan\\7_speed15.mp4\n",
      "✅ Video augmented disimpan: dataset_video_augmented\\Naikan Kepalan Kedepan\\8_speed05.mp4\n",
      "✅ Video augmented disimpan: dataset_video_augmented\\Naikan Kepalan Kedepan\\8_speed10.mp4\n"
     ]
    },
    {
     "name": "stderr",
     "output_type": "stream",
     "text": [
      "Augmentasi Naikan Kepalan Kedepan Videos:  95%|█████████▌| 19/20 [01:45<00:07,  7.22s/it]"
     ]
    },
    {
     "name": "stdout",
     "output_type": "stream",
     "text": [
      "✅ Video augmented disimpan: dataset_video_augmented\\Naikan Kepalan Kedepan\\8_speed15.mp4\n",
      "✅ Video augmented disimpan: dataset_video_augmented\\Naikan Kepalan Kedepan\\9_speed05.mp4\n",
      "✅ Video augmented disimpan: dataset_video_augmented\\Naikan Kepalan Kedepan\\9_speed10.mp4\n"
     ]
    },
    {
     "name": "stderr",
     "output_type": "stream",
     "text": [
      "Augmentasi Naikan Kepalan Kedepan Videos: 100%|██████████| 20/20 [01:52<00:00,  5.61s/it]\n"
     ]
    },
    {
     "name": "stdout",
     "output_type": "stream",
     "text": [
      "✅ Video augmented disimpan: dataset_video_augmented\\Naikan Kepalan Kedepan\\9_speed15.mp4\n"
     ]
    },
    {
     "name": "stderr",
     "output_type": "stream",
     "text": [
      "Augmentasi Rentangkan Videos:   0%|          | 0/20 [00:00<?, ?it/s]"
     ]
    },
    {
     "name": "stdout",
     "output_type": "stream",
     "text": [
      "✅ Video augmented disimpan: dataset_video_augmented\\Rentangkan\\1_speed05.mp4\n",
      "✅ Video augmented disimpan: dataset_video_augmented\\Rentangkan\\1_speed10.mp4\n"
     ]
    },
    {
     "name": "stderr",
     "output_type": "stream",
     "text": [
      "Augmentasi Rentangkan Videos:   5%|▌         | 1/20 [00:00<00:12,  1.57it/s]"
     ]
    },
    {
     "name": "stdout",
     "output_type": "stream",
     "text": [
      "✅ Video augmented disimpan: dataset_video_augmented\\Rentangkan\\1_speed15.mp4\n",
      "✅ Video augmented disimpan: dataset_video_augmented\\Rentangkan\\10_speed05.mp4\n",
      "✅ Video augmented disimpan: dataset_video_augmented\\Rentangkan\\10_speed10.mp4\n"
     ]
    },
    {
     "name": "stderr",
     "output_type": "stream",
     "text": [
      "Augmentasi Rentangkan Videos:  10%|█         | 2/20 [00:05<01:01,  3.41s/it]"
     ]
    },
    {
     "name": "stdout",
     "output_type": "stream",
     "text": [
      "✅ Video augmented disimpan: dataset_video_augmented\\Rentangkan\\10_speed15.mp4\n",
      "✅ Video augmented disimpan: dataset_video_augmented\\Rentangkan\\11_speed05.mp4\n",
      "✅ Video augmented disimpan: dataset_video_augmented\\Rentangkan\\11_speed10.mp4\n"
     ]
    },
    {
     "name": "stderr",
     "output_type": "stream",
     "text": [
      "Augmentasi Rentangkan Videos:  15%|█▌        | 3/20 [00:09<00:58,  3.46s/it]"
     ]
    },
    {
     "name": "stdout",
     "output_type": "stream",
     "text": [
      "✅ Video augmented disimpan: dataset_video_augmented\\Rentangkan\\11_speed15.mp4\n",
      "✅ Video augmented disimpan: dataset_video_augmented\\Rentangkan\\12_speed05.mp4\n",
      "✅ Video augmented disimpan: dataset_video_augmented\\Rentangkan\\12_speed10.mp4\n"
     ]
    },
    {
     "name": "stderr",
     "output_type": "stream",
     "text": [
      "Augmentasi Rentangkan Videos:  20%|██        | 4/20 [00:14<01:02,  3.93s/it]"
     ]
    },
    {
     "name": "stdout",
     "output_type": "stream",
     "text": [
      "✅ Video augmented disimpan: dataset_video_augmented\\Rentangkan\\12_speed15.mp4\n",
      "✅ Video augmented disimpan: dataset_video_augmented\\Rentangkan\\13_speed05.mp4\n",
      "✅ Video augmented disimpan: dataset_video_augmented\\Rentangkan\\13_speed10.mp4\n"
     ]
    },
    {
     "name": "stderr",
     "output_type": "stream",
     "text": [
      "Augmentasi Rentangkan Videos:  25%|██▌       | 5/20 [00:18<01:03,  4.22s/it]"
     ]
    },
    {
     "name": "stdout",
     "output_type": "stream",
     "text": [
      "✅ Video augmented disimpan: dataset_video_augmented\\Rentangkan\\13_speed15.mp4\n",
      "✅ Video augmented disimpan: dataset_video_augmented\\Rentangkan\\14_speed05.mp4\n",
      "✅ Video augmented disimpan: dataset_video_augmented\\Rentangkan\\14_speed10.mp4\n"
     ]
    },
    {
     "name": "stderr",
     "output_type": "stream",
     "text": [
      "Augmentasi Rentangkan Videos:  30%|███       | 6/20 [00:23<01:00,  4.34s/it]"
     ]
    },
    {
     "name": "stdout",
     "output_type": "stream",
     "text": [
      "✅ Video augmented disimpan: dataset_video_augmented\\Rentangkan\\14_speed15.mp4\n",
      "✅ Video augmented disimpan: dataset_video_augmented\\Rentangkan\\15_speed05.mp4\n",
      "✅ Video augmented disimpan: dataset_video_augmented\\Rentangkan\\15_speed10.mp4\n"
     ]
    },
    {
     "name": "stderr",
     "output_type": "stream",
     "text": [
      "Augmentasi Rentangkan Videos:  35%|███▌      | 7/20 [00:28<00:58,  4.53s/it]"
     ]
    },
    {
     "name": "stdout",
     "output_type": "stream",
     "text": [
      "✅ Video augmented disimpan: dataset_video_augmented\\Rentangkan\\15_speed15.mp4\n",
      "✅ Video augmented disimpan: dataset_video_augmented\\Rentangkan\\16_speed05.mp4\n",
      "✅ Video augmented disimpan: dataset_video_augmented\\Rentangkan\\16_speed10.mp4\n"
     ]
    },
    {
     "name": "stderr",
     "output_type": "stream",
     "text": [
      "Augmentasi Rentangkan Videos:  40%|████      | 8/20 [00:33<00:55,  4.62s/it]"
     ]
    },
    {
     "name": "stdout",
     "output_type": "stream",
     "text": [
      "✅ Video augmented disimpan: dataset_video_augmented\\Rentangkan\\16_speed15.mp4\n",
      "✅ Video augmented disimpan: dataset_video_augmented\\Rentangkan\\17_speed05.mp4\n",
      "✅ Video augmented disimpan: dataset_video_augmented\\Rentangkan\\17_speed10.mp4\n"
     ]
    },
    {
     "name": "stderr",
     "output_type": "stream",
     "text": [
      "Augmentasi Rentangkan Videos:  45%|████▌     | 9/20 [00:39<00:55,  5.02s/it]"
     ]
    },
    {
     "name": "stdout",
     "output_type": "stream",
     "text": [
      "✅ Video augmented disimpan: dataset_video_augmented\\Rentangkan\\17_speed15.mp4\n",
      "✅ Video augmented disimpan: dataset_video_augmented\\Rentangkan\\18_speed05.mp4\n",
      "✅ Video augmented disimpan: dataset_video_augmented\\Rentangkan\\18_speed10.mp4\n"
     ]
    },
    {
     "name": "stderr",
     "output_type": "stream",
     "text": [
      "Augmentasi Rentangkan Videos:  50%|█████     | 10/20 [00:43<00:49,  4.90s/it]"
     ]
    },
    {
     "name": "stdout",
     "output_type": "stream",
     "text": [
      "✅ Video augmented disimpan: dataset_video_augmented\\Rentangkan\\18_speed15.mp4\n",
      "✅ Video augmented disimpan: dataset_video_augmented\\Rentangkan\\19_speed05.mp4\n",
      "✅ Video augmented disimpan: dataset_video_augmented\\Rentangkan\\19_speed10.mp4\n"
     ]
    },
    {
     "name": "stderr",
     "output_type": "stream",
     "text": [
      "Augmentasi Rentangkan Videos:  55%|█████▌    | 11/20 [00:47<00:42,  4.70s/it]"
     ]
    },
    {
     "name": "stdout",
     "output_type": "stream",
     "text": [
      "✅ Video augmented disimpan: dataset_video_augmented\\Rentangkan\\19_speed15.mp4\n",
      "✅ Video augmented disimpan: dataset_video_augmented\\Rentangkan\\2_speed05.mp4\n",
      "✅ Video augmented disimpan: dataset_video_augmented\\Rentangkan\\2_speed10.mp4\n"
     ]
    },
    {
     "name": "stderr",
     "output_type": "stream",
     "text": [
      "Augmentasi Rentangkan Videos:  60%|██████    | 12/20 [00:48<00:27,  3.50s/it]"
     ]
    },
    {
     "name": "stdout",
     "output_type": "stream",
     "text": [
      "✅ Video augmented disimpan: dataset_video_augmented\\Rentangkan\\2_speed15.mp4\n",
      "✅ Video augmented disimpan: dataset_video_augmented\\Rentangkan\\20_speed05.mp4\n",
      "✅ Video augmented disimpan: dataset_video_augmented\\Rentangkan\\20_speed10.mp4\n"
     ]
    },
    {
     "name": "stderr",
     "output_type": "stream",
     "text": [
      "Augmentasi Rentangkan Videos:  65%|██████▌   | 13/20 [00:53<00:27,  3.88s/it]"
     ]
    },
    {
     "name": "stdout",
     "output_type": "stream",
     "text": [
      "✅ Video augmented disimpan: dataset_video_augmented\\Rentangkan\\20_speed15.mp4\n",
      "✅ Video augmented disimpan: dataset_video_augmented\\Rentangkan\\3_speed05.mp4\n",
      "✅ Video augmented disimpan: dataset_video_augmented\\Rentangkan\\3_speed10.mp4\n"
     ]
    },
    {
     "name": "stderr",
     "output_type": "stream",
     "text": [
      "Augmentasi Rentangkan Videos:  70%|███████   | 14/20 [00:54<00:17,  2.91s/it]"
     ]
    },
    {
     "name": "stdout",
     "output_type": "stream",
     "text": [
      "✅ Video augmented disimpan: dataset_video_augmented\\Rentangkan\\3_speed15.mp4\n",
      "✅ Video augmented disimpan: dataset_video_augmented\\Rentangkan\\4_speed05.mp4\n",
      "✅ Video augmented disimpan: dataset_video_augmented\\Rentangkan\\4_speed10.mp4\n"
     ]
    },
    {
     "name": "stderr",
     "output_type": "stream",
     "text": [
      "Augmentasi Rentangkan Videos:  75%|███████▌  | 15/20 [00:54<00:11,  2.26s/it]"
     ]
    },
    {
     "name": "stdout",
     "output_type": "stream",
     "text": [
      "✅ Video augmented disimpan: dataset_video_augmented\\Rentangkan\\4_speed15.mp4\n",
      "✅ Video augmented disimpan: dataset_video_augmented\\Rentangkan\\5_speed05.mp4\n",
      "✅ Video augmented disimpan: dataset_video_augmented\\Rentangkan\\5_speed10.mp4\n"
     ]
    },
    {
     "name": "stderr",
     "output_type": "stream",
     "text": [
      "Augmentasi Rentangkan Videos:  80%|████████  | 16/20 [01:01<00:14,  3.68s/it]"
     ]
    },
    {
     "name": "stdout",
     "output_type": "stream",
     "text": [
      "✅ Video augmented disimpan: dataset_video_augmented\\Rentangkan\\5_speed15.mp4\n",
      "✅ Video augmented disimpan: dataset_video_augmented\\Rentangkan\\6_speed05.mp4\n",
      "✅ Video augmented disimpan: dataset_video_augmented\\Rentangkan\\6_speed10.mp4\n"
     ]
    },
    {
     "name": "stderr",
     "output_type": "stream",
     "text": [
      "Augmentasi Rentangkan Videos:  85%|████████▌ | 17/20 [01:10<00:15,  5.20s/it]"
     ]
    },
    {
     "name": "stdout",
     "output_type": "stream",
     "text": [
      "✅ Video augmented disimpan: dataset_video_augmented\\Rentangkan\\6_speed15.mp4\n",
      "✅ Video augmented disimpan: dataset_video_augmented\\Rentangkan\\7_speed05.mp4\n",
      "✅ Video augmented disimpan: dataset_video_augmented\\Rentangkan\\7_speed10.mp4\n"
     ]
    },
    {
     "name": "stderr",
     "output_type": "stream",
     "text": [
      "Augmentasi Rentangkan Videos:  90%|█████████ | 18/20 [01:15<00:10,  5.24s/it]"
     ]
    },
    {
     "name": "stdout",
     "output_type": "stream",
     "text": [
      "✅ Video augmented disimpan: dataset_video_augmented\\Rentangkan\\7_speed15.mp4\n",
      "✅ Video augmented disimpan: dataset_video_augmented\\Rentangkan\\8_speed05.mp4\n",
      "✅ Video augmented disimpan: dataset_video_augmented\\Rentangkan\\8_speed10.mp4\n"
     ]
    },
    {
     "name": "stderr",
     "output_type": "stream",
     "text": [
      "Augmentasi Rentangkan Videos:  95%|█████████▌| 19/20 [01:22<00:05,  5.50s/it]"
     ]
    },
    {
     "name": "stdout",
     "output_type": "stream",
     "text": [
      "✅ Video augmented disimpan: dataset_video_augmented\\Rentangkan\\8_speed15.mp4\n",
      "✅ Video augmented disimpan: dataset_video_augmented\\Rentangkan\\9_speed05.mp4\n",
      "✅ Video augmented disimpan: dataset_video_augmented\\Rentangkan\\9_speed10.mp4\n"
     ]
    },
    {
     "name": "stderr",
     "output_type": "stream",
     "text": [
      "Augmentasi Rentangkan Videos: 100%|██████████| 20/20 [01:26<00:00,  4.31s/it]"
     ]
    },
    {
     "name": "stdout",
     "output_type": "stream",
     "text": [
      "✅ Video augmented disimpan: dataset_video_augmented\\Rentangkan\\9_speed15.mp4\n",
      "\n",
      "VIDEO_DIR diubah menjadi: dataset_video_augmented\n"
     ]
    },
    {
     "name": "stderr",
     "output_type": "stream",
     "text": [
      "\n"
     ]
    }
   ],
   "source": [
    "# --- 4. Preprocessing - a. Augmentasi Video (Memperlambat/Mempercepat) ---\n",
    "print(\"\\n--- Augmentasi Video (Memperlambat/Mempercepat) ---\")\n",
    "\n",
    "# Faktor kecepatan: 0.5x (setengah), 1.0x (asli), 1.5x (satu setengah)\n",
    "VIDEO_SPEED_FACTORS = [0.5, 1.0, 1.5] \n",
    "\n",
    "os.makedirs(AUGMENTED_VIDEO_DIR, exist_ok=True)\n",
    "\n",
    "for action in BASE_ACTIONS:\n",
    "    original_action_dir = os.path.join(ORIGINAL_VIDEO_DIR, action)\n",
    "    augmented_action_dir = os.path.join(AUGMENTED_VIDEO_DIR, action)\n",
    "    os.makedirs(augmented_action_dir, exist_ok=True)\n",
    "\n",
    "    for video_name in tqdm(os.listdir(original_action_dir), desc=f\"Augmentasi {action} Videos\"):\n",
    "        video_path = os.path.join(original_action_dir, video_name)\n",
    "        \n",
    "        cap = cv2.VideoCapture(video_path)\n",
    "        if not cap.isOpened():\n",
    "            print(f\"Gagal membuka video: {video_path}\")\n",
    "            continue\n",
    "\n",
    "        original_fps = cap.get(cv2.CAP_PROP_FPS)\n",
    "        width = int(cap.get(cv2.CAP_PROP_FRAME_WIDTH))\n",
    "        height = int(cap.get(cv2.CAP_PROP_FRAME_HEIGHT))\n",
    "        \n",
    "        # Simpan semua frame ke memori untuk resampling yang lebih akurat\n",
    "        frames_list = []\n",
    "        while True:\n",
    "            ret, frame = cap.read()\n",
    "            if not ret:\n",
    "                break\n",
    "            frames_list.append(frame)\n",
    "        cap.release()\n",
    "\n",
    "        if not frames_list:\n",
    "            print(f\"Video kosong atau tidak ada frame: {video_path}\")\n",
    "            continue\n",
    "\n",
    "        for speed_factor in VIDEO_SPEED_FACTORS:\n",
    "            # Nama file augmented: original_name_speedX.mp4\n",
    "            augmented_video_name = video_name.replace(\".MOV\", \"\").replace(\".mp4\", \"\") + f\"_speed{str(speed_factor).replace('.', '')}.mp4\"\n",
    "            output_video_path = os.path.join(augmented_action_dir, augmented_video_name)\n",
    "\n",
    "            # Hitung jumlah frame yang akan diambil untuk kecepatan baru\n",
    "            # new_num_frames = int(len(frames_list) / speed_factor)\n",
    "            # indices_for_resampling = np.linspace(0, len(frames_list) - 1, num=new_num_frames, dtype=int)\n",
    "            \n",
    "            # Gunakan FPS asli untuk VideoWriter, tetapi lewati/duplikasi frame\n",
    "            # Ini adalah cara sederhana untuk mengubah kecepatan playback\n",
    "            # Atau, bisa juga dengan mengubah FPS VideoWriter: new_fps = original_fps * speed_factor\n",
    "            # Namun, mengubah FPS VideoWriter bisa menyebabkan masalah kompatibilitas atau kualitas.\n",
    "            # Pendekatan yang lebih baik adalah mengontrol frame yang ditulis.\n",
    "\n",
    "            # Menggunakan original_fps untuk VideoWriter, dan mengontrol frame skipping/duplication\n",
    "            out = cv2.VideoWriter(output_video_path, cv2.VideoWriter_fourcc(*'mp4v'), original_fps, (width, height))\n",
    "            \n",
    "            if out.isOpened():\n",
    "                for i in range(len(frames_list)):\n",
    "                    # Jika speed_factor > 1 (mempercepat), lewati frame\n",
    "                    if speed_factor > 1 and i % int(speed_factor) != 0:\n",
    "                        continue\n",
    "                    # Jika speed_factor < 1 (memperlambat), duplikasi frame\n",
    "                    if speed_factor < 1:\n",
    "                        for _ in range(int(1/speed_factor)):\n",
    "                            out.write(frames_list[i])\n",
    "                    else: # speed_factor >= 1\n",
    "                        out.write(frames_list[i])\n",
    "                out.release()\n",
    "                print(f\"✅ Video augmented disimpan: {output_video_path}\")\n",
    "            else:\n",
    "                print(f\"❌ Gagal membuka VideoWriter untuk: {output_video_path}\")\n",
    "\n",
    "# Setelah augmentasi video, ubah VIDEO_DIR ke direktori augmented\n",
    "VIDEO_DIR = AUGMENTED_VIDEO_DIR \n",
    "print(f\"\\nVIDEO_DIR diubah menjadi: {VIDEO_DIR}\")\n"
   ]
  },
  {
   "cell_type": "code",
   "execution_count": 16,
   "metadata": {},
   "outputs": [
    {
     "name": "stdout",
     "output_type": "stream",
     "text": [
      "\n",
      "--- Ekstraksi Keypoints dari Video Augmented ---\n"
     ]
    },
    {
     "name": "stderr",
     "output_type": "stream",
     "text": [
      "Proses Keypoints Angkat Pinggul:   2%|▏         | 1/60 [00:09<09:04,  9.22s/it]"
     ]
    },
    {
     "name": "stdout",
     "output_type": "stream",
     "text": [
      "✅ Keypoint disimpan: keypoints_sublabeling_augmented\\Angkat Pinggul\\10_speed05.npy\n"
     ]
    },
    {
     "name": "stderr",
     "output_type": "stream",
     "text": [
      "Proses Keypoints Angkat Pinggul:   3%|▎         | 2/60 [00:13<06:15,  6.47s/it]"
     ]
    },
    {
     "name": "stdout",
     "output_type": "stream",
     "text": [
      "✅ Keypoint disimpan: keypoints_sublabeling_augmented\\Angkat Pinggul\\10_speed10.npy\n"
     ]
    },
    {
     "name": "stderr",
     "output_type": "stream",
     "text": [
      "Proses Keypoints Angkat Pinggul:   5%|▌         | 3/60 [00:18<05:16,  5.56s/it]"
     ]
    },
    {
     "name": "stdout",
     "output_type": "stream",
     "text": [
      "✅ Keypoint disimpan: keypoints_sublabeling_augmented\\Angkat Pinggul\\10_speed15.npy\n"
     ]
    },
    {
     "name": "stderr",
     "output_type": "stream",
     "text": [
      "Proses Keypoints Angkat Pinggul:   7%|▋         | 4/60 [00:31<07:52,  8.44s/it]"
     ]
    },
    {
     "name": "stdout",
     "output_type": "stream",
     "text": [
      "✅ Keypoint disimpan: keypoints_sublabeling_augmented\\Angkat Pinggul\\11_speed05.npy\n"
     ]
    },
    {
     "name": "stderr",
     "output_type": "stream",
     "text": [
      "Proses Keypoints Angkat Pinggul:   8%|▊         | 5/60 [00:37<07:08,  7.79s/it]"
     ]
    },
    {
     "name": "stdout",
     "output_type": "stream",
     "text": [
      "✅ Keypoint disimpan: keypoints_sublabeling_augmented\\Angkat Pinggul\\11_speed10.npy\n"
     ]
    },
    {
     "name": "stderr",
     "output_type": "stream",
     "text": [
      "Proses Keypoints Angkat Pinggul:  10%|█         | 6/60 [00:44<06:36,  7.35s/it]"
     ]
    },
    {
     "name": "stdout",
     "output_type": "stream",
     "text": [
      "✅ Keypoint disimpan: keypoints_sublabeling_augmented\\Angkat Pinggul\\11_speed15.npy\n"
     ]
    },
    {
     "name": "stderr",
     "output_type": "stream",
     "text": [
      "Proses Keypoints Angkat Pinggul:  12%|█▏        | 7/60 [00:55<07:39,  8.68s/it]"
     ]
    },
    {
     "name": "stdout",
     "output_type": "stream",
     "text": [
      "✅ Keypoint disimpan: keypoints_sublabeling_augmented\\Angkat Pinggul\\12_speed05.npy\n"
     ]
    },
    {
     "name": "stderr",
     "output_type": "stream",
     "text": [
      "Proses Keypoints Angkat Pinggul:  13%|█▎        | 8/60 [01:01<06:42,  7.73s/it]"
     ]
    },
    {
     "name": "stdout",
     "output_type": "stream",
     "text": [
      "✅ Keypoint disimpan: keypoints_sublabeling_augmented\\Angkat Pinggul\\12_speed10.npy\n"
     ]
    },
    {
     "name": "stderr",
     "output_type": "stream",
     "text": [
      "Proses Keypoints Angkat Pinggul:  15%|█▌        | 9/60 [01:07<06:02,  7.10s/it]"
     ]
    },
    {
     "name": "stdout",
     "output_type": "stream",
     "text": [
      "✅ Keypoint disimpan: keypoints_sublabeling_augmented\\Angkat Pinggul\\12_speed15.npy\n"
     ]
    },
    {
     "name": "stderr",
     "output_type": "stream",
     "text": [
      "Proses Keypoints Angkat Pinggul:  17%|█▋        | 10/60 [01:16<06:34,  7.89s/it]"
     ]
    },
    {
     "name": "stdout",
     "output_type": "stream",
     "text": [
      "✅ Keypoint disimpan: keypoints_sublabeling_augmented\\Angkat Pinggul\\13_speed05.npy\n"
     ]
    },
    {
     "name": "stderr",
     "output_type": "stream",
     "text": [
      "Proses Keypoints Angkat Pinggul:  18%|█▊        | 11/60 [01:21<05:42,  6.98s/it]"
     ]
    },
    {
     "name": "stdout",
     "output_type": "stream",
     "text": [
      "✅ Keypoint disimpan: keypoints_sublabeling_augmented\\Angkat Pinggul\\13_speed10.npy\n"
     ]
    },
    {
     "name": "stderr",
     "output_type": "stream",
     "text": [
      "Proses Keypoints Angkat Pinggul:  20%|██        | 12/60 [01:26<05:03,  6.33s/it]"
     ]
    },
    {
     "name": "stdout",
     "output_type": "stream",
     "text": [
      "✅ Keypoint disimpan: keypoints_sublabeling_augmented\\Angkat Pinggul\\13_speed15.npy\n"
     ]
    },
    {
     "name": "stderr",
     "output_type": "stream",
     "text": [
      "Proses Keypoints Angkat Pinggul:  22%|██▏       | 13/60 [01:39<06:29,  8.29s/it]"
     ]
    },
    {
     "name": "stdout",
     "output_type": "stream",
     "text": [
      "✅ Keypoint disimpan: keypoints_sublabeling_augmented\\Angkat Pinggul\\14_speed05.npy\n"
     ]
    },
    {
     "name": "stderr",
     "output_type": "stream",
     "text": [
      "Proses Keypoints Angkat Pinggul:  23%|██▎       | 14/60 [01:45<05:55,  7.74s/it]"
     ]
    },
    {
     "name": "stdout",
     "output_type": "stream",
     "text": [
      "✅ Keypoint disimpan: keypoints_sublabeling_augmented\\Angkat Pinggul\\14_speed10.npy\n"
     ]
    },
    {
     "name": "stderr",
     "output_type": "stream",
     "text": [
      "Proses Keypoints Angkat Pinggul:  25%|██▌       | 15/60 [01:52<05:31,  7.36s/it]"
     ]
    },
    {
     "name": "stdout",
     "output_type": "stream",
     "text": [
      "✅ Keypoint disimpan: keypoints_sublabeling_augmented\\Angkat Pinggul\\14_speed15.npy\n"
     ]
    },
    {
     "name": "stderr",
     "output_type": "stream",
     "text": [
      "Proses Keypoints Angkat Pinggul:  27%|██▋       | 16/60 [02:05<06:36,  9.00s/it]"
     ]
    },
    {
     "name": "stdout",
     "output_type": "stream",
     "text": [
      "✅ Keypoint disimpan: keypoints_sublabeling_augmented\\Angkat Pinggul\\15_speed05.npy\n"
     ]
    },
    {
     "name": "stderr",
     "output_type": "stream",
     "text": [
      "Proses Keypoints Angkat Pinggul:  28%|██▊       | 17/60 [02:11<05:53,  8.23s/it]"
     ]
    },
    {
     "name": "stdout",
     "output_type": "stream",
     "text": [
      "✅ Keypoint disimpan: keypoints_sublabeling_augmented\\Angkat Pinggul\\15_speed10.npy\n"
     ]
    },
    {
     "name": "stderr",
     "output_type": "stream",
     "text": [
      "Proses Keypoints Angkat Pinggul:  30%|███       | 18/60 [02:17<05:22,  7.69s/it]"
     ]
    },
    {
     "name": "stdout",
     "output_type": "stream",
     "text": [
      "✅ Keypoint disimpan: keypoints_sublabeling_augmented\\Angkat Pinggul\\15_speed15.npy\n"
     ]
    },
    {
     "name": "stderr",
     "output_type": "stream",
     "text": [
      "Proses Keypoints Angkat Pinggul:  32%|███▏      | 19/60 [02:31<06:29,  9.51s/it]"
     ]
    },
    {
     "name": "stdout",
     "output_type": "stream",
     "text": [
      "✅ Keypoint disimpan: keypoints_sublabeling_augmented\\Angkat Pinggul\\16_speed05.npy\n"
     ]
    },
    {
     "name": "stderr",
     "output_type": "stream",
     "text": [
      "Proses Keypoints Angkat Pinggul:  33%|███▎      | 20/60 [02:38<05:50,  8.75s/it]"
     ]
    },
    {
     "name": "stdout",
     "output_type": "stream",
     "text": [
      "✅ Keypoint disimpan: keypoints_sublabeling_augmented\\Angkat Pinggul\\16_speed10.npy\n"
     ]
    },
    {
     "name": "stderr",
     "output_type": "stream",
     "text": [
      "Proses Keypoints Angkat Pinggul:  35%|███▌      | 21/60 [02:45<05:23,  8.28s/it]"
     ]
    },
    {
     "name": "stdout",
     "output_type": "stream",
     "text": [
      "✅ Keypoint disimpan: keypoints_sublabeling_augmented\\Angkat Pinggul\\16_speed15.npy\n"
     ]
    },
    {
     "name": "stderr",
     "output_type": "stream",
     "text": [
      "Proses Keypoints Angkat Pinggul:  37%|███▋      | 22/60 [02:56<05:44,  9.06s/it]"
     ]
    },
    {
     "name": "stdout",
     "output_type": "stream",
     "text": [
      "✅ Keypoint disimpan: keypoints_sublabeling_augmented\\Angkat Pinggul\\17_speed05.npy\n"
     ]
    },
    {
     "name": "stderr",
     "output_type": "stream",
     "text": [
      "Proses Keypoints Angkat Pinggul:  38%|███▊      | 23/60 [03:02<04:54,  7.97s/it]"
     ]
    },
    {
     "name": "stdout",
     "output_type": "stream",
     "text": [
      "✅ Keypoint disimpan: keypoints_sublabeling_augmented\\Angkat Pinggul\\17_speed10.npy\n"
     ]
    },
    {
     "name": "stderr",
     "output_type": "stream",
     "text": [
      "Proses Keypoints Angkat Pinggul:  40%|████      | 24/60 [03:07<04:20,  7.24s/it]"
     ]
    },
    {
     "name": "stdout",
     "output_type": "stream",
     "text": [
      "✅ Keypoint disimpan: keypoints_sublabeling_augmented\\Angkat Pinggul\\17_speed15.npy\n"
     ]
    },
    {
     "name": "stderr",
     "output_type": "stream",
     "text": [
      "Proses Keypoints Angkat Pinggul:  42%|████▏     | 25/60 [03:18<04:47,  8.22s/it]"
     ]
    },
    {
     "name": "stdout",
     "output_type": "stream",
     "text": [
      "✅ Keypoint disimpan: keypoints_sublabeling_augmented\\Angkat Pinggul\\18_speed05.npy\n"
     ]
    },
    {
     "name": "stderr",
     "output_type": "stream",
     "text": [
      "Proses Keypoints Angkat Pinggul:  43%|████▎     | 26/60 [03:23<04:08,  7.32s/it]"
     ]
    },
    {
     "name": "stdout",
     "output_type": "stream",
     "text": [
      "✅ Keypoint disimpan: keypoints_sublabeling_augmented\\Angkat Pinggul\\18_speed10.npy\n"
     ]
    },
    {
     "name": "stderr",
     "output_type": "stream",
     "text": [
      "Proses Keypoints Angkat Pinggul:  45%|████▌     | 27/60 [03:28<03:40,  6.69s/it]"
     ]
    },
    {
     "name": "stdout",
     "output_type": "stream",
     "text": [
      "✅ Keypoint disimpan: keypoints_sublabeling_augmented\\Angkat Pinggul\\18_speed15.npy\n"
     ]
    },
    {
     "name": "stderr",
     "output_type": "stream",
     "text": [
      "Proses Keypoints Angkat Pinggul:  47%|████▋     | 28/60 [03:42<04:42,  8.83s/it]"
     ]
    },
    {
     "name": "stdout",
     "output_type": "stream",
     "text": [
      "✅ Keypoint disimpan: keypoints_sublabeling_augmented\\Angkat Pinggul\\19_speed05.npy\n"
     ]
    },
    {
     "name": "stderr",
     "output_type": "stream",
     "text": [
      "Proses Keypoints Angkat Pinggul:  48%|████▊     | 29/60 [03:49<04:16,  8.28s/it]"
     ]
    },
    {
     "name": "stdout",
     "output_type": "stream",
     "text": [
      "✅ Keypoint disimpan: keypoints_sublabeling_augmented\\Angkat Pinggul\\19_speed10.npy\n"
     ]
    },
    {
     "name": "stderr",
     "output_type": "stream",
     "text": [
      "Proses Keypoints Angkat Pinggul:  50%|█████     | 30/60 [03:56<03:57,  7.90s/it]"
     ]
    },
    {
     "name": "stdout",
     "output_type": "stream",
     "text": [
      "✅ Keypoint disimpan: keypoints_sublabeling_augmented\\Angkat Pinggul\\19_speed15.npy\n"
     ]
    },
    {
     "name": "stderr",
     "output_type": "stream",
     "text": [
      "Proses Keypoints Angkat Pinggul:  52%|█████▏    | 31/60 [04:19<05:57, 12.32s/it]"
     ]
    },
    {
     "name": "stdout",
     "output_type": "stream",
     "text": [
      "✅ Keypoint disimpan: keypoints_sublabeling_augmented\\Angkat Pinggul\\1_speed05.npy\n"
     ]
    },
    {
     "name": "stderr",
     "output_type": "stream",
     "text": [
      "Proses Keypoints Angkat Pinggul:  53%|█████▎    | 32/60 [04:30<05:37, 12.06s/it]"
     ]
    },
    {
     "name": "stdout",
     "output_type": "stream",
     "text": [
      "✅ Keypoint disimpan: keypoints_sublabeling_augmented\\Angkat Pinggul\\1_speed10.npy\n"
     ]
    },
    {
     "name": "stderr",
     "output_type": "stream",
     "text": [
      "Proses Keypoints Angkat Pinggul:  55%|█████▌    | 33/60 [04:41<05:16, 11.72s/it]"
     ]
    },
    {
     "name": "stdout",
     "output_type": "stream",
     "text": [
      "✅ Keypoint disimpan: keypoints_sublabeling_augmented\\Angkat Pinggul\\1_speed15.npy\n"
     ]
    },
    {
     "name": "stderr",
     "output_type": "stream",
     "text": [
      "Proses Keypoints Angkat Pinggul:  57%|█████▋    | 34/60 [04:54<05:16, 12.15s/it]"
     ]
    },
    {
     "name": "stdout",
     "output_type": "stream",
     "text": [
      "✅ Keypoint disimpan: keypoints_sublabeling_augmented\\Angkat Pinggul\\20_speed05.npy\n"
     ]
    },
    {
     "name": "stderr",
     "output_type": "stream",
     "text": [
      "Proses Keypoints Angkat Pinggul:  58%|█████▊    | 35/60 [05:01<04:22, 10.49s/it]"
     ]
    },
    {
     "name": "stdout",
     "output_type": "stream",
     "text": [
      "✅ Keypoint disimpan: keypoints_sublabeling_augmented\\Angkat Pinggul\\20_speed10.npy\n"
     ]
    },
    {
     "name": "stderr",
     "output_type": "stream",
     "text": [
      "Proses Keypoints Angkat Pinggul:  60%|██████    | 36/60 [05:07<03:43,  9.33s/it]"
     ]
    },
    {
     "name": "stdout",
     "output_type": "stream",
     "text": [
      "✅ Keypoint disimpan: keypoints_sublabeling_augmented\\Angkat Pinggul\\20_speed15.npy\n"
     ]
    },
    {
     "name": "stderr",
     "output_type": "stream",
     "text": [
      "Proses Keypoints Angkat Pinggul:  62%|██████▏   | 37/60 [05:32<05:18, 13.86s/it]"
     ]
    },
    {
     "name": "stdout",
     "output_type": "stream",
     "text": [
      "✅ Keypoint disimpan: keypoints_sublabeling_augmented\\Angkat Pinggul\\2_speed05.npy\n"
     ]
    },
    {
     "name": "stderr",
     "output_type": "stream",
     "text": [
      "Proses Keypoints Angkat Pinggul:  63%|██████▎   | 38/60 [05:44<04:55, 13.42s/it]"
     ]
    },
    {
     "name": "stdout",
     "output_type": "stream",
     "text": [
      "✅ Keypoint disimpan: keypoints_sublabeling_augmented\\Angkat Pinggul\\2_speed10.npy\n"
     ]
    },
    {
     "name": "stderr",
     "output_type": "stream",
     "text": [
      "Proses Keypoints Angkat Pinggul:  65%|██████▌   | 39/60 [05:57<04:34, 13.09s/it]"
     ]
    },
    {
     "name": "stdout",
     "output_type": "stream",
     "text": [
      "✅ Keypoint disimpan: keypoints_sublabeling_augmented\\Angkat Pinggul\\2_speed15.npy\n"
     ]
    },
    {
     "name": "stderr",
     "output_type": "stream",
     "text": [
      "Proses Keypoints Angkat Pinggul:  67%|██████▋   | 40/60 [06:08<04:14, 12.72s/it]"
     ]
    },
    {
     "name": "stdout",
     "output_type": "stream",
     "text": [
      "✅ Keypoint disimpan: keypoints_sublabeling_augmented\\Angkat Pinggul\\3_speed05.npy\n"
     ]
    },
    {
     "name": "stderr",
     "output_type": "stream",
     "text": [
      "Proses Keypoints Angkat Pinggul:  68%|██████▊   | 41/60 [06:14<03:22, 10.64s/it]"
     ]
    },
    {
     "name": "stdout",
     "output_type": "stream",
     "text": [
      "✅ Keypoint disimpan: keypoints_sublabeling_augmented\\Angkat Pinggul\\3_speed10.npy\n"
     ]
    },
    {
     "name": "stderr",
     "output_type": "stream",
     "text": [
      "Proses Keypoints Angkat Pinggul:  70%|███████   | 42/60 [06:20<02:45,  9.18s/it]"
     ]
    },
    {
     "name": "stdout",
     "output_type": "stream",
     "text": [
      "✅ Keypoint disimpan: keypoints_sublabeling_augmented\\Angkat Pinggul\\3_speed15.npy\n"
     ]
    },
    {
     "name": "stderr",
     "output_type": "stream",
     "text": [
      "Proses Keypoints Angkat Pinggul:  72%|███████▏  | 43/60 [06:32<02:48,  9.93s/it]"
     ]
    },
    {
     "name": "stdout",
     "output_type": "stream",
     "text": [
      "✅ Keypoint disimpan: keypoints_sublabeling_augmented\\Angkat Pinggul\\4_speed05.npy\n"
     ]
    },
    {
     "name": "stderr",
     "output_type": "stream",
     "text": [
      "Proses Keypoints Angkat Pinggul:  73%|███████▎  | 44/60 [06:38<02:19,  8.74s/it]"
     ]
    },
    {
     "name": "stdout",
     "output_type": "stream",
     "text": [
      "✅ Keypoint disimpan: keypoints_sublabeling_augmented\\Angkat Pinggul\\4_speed10.npy\n"
     ]
    },
    {
     "name": "stderr",
     "output_type": "stream",
     "text": [
      "Proses Keypoints Angkat Pinggul:  75%|███████▌  | 45/60 [06:43<01:58,  7.87s/it]"
     ]
    },
    {
     "name": "stdout",
     "output_type": "stream",
     "text": [
      "✅ Keypoint disimpan: keypoints_sublabeling_augmented\\Angkat Pinggul\\4_speed15.npy\n"
     ]
    },
    {
     "name": "stderr",
     "output_type": "stream",
     "text": [
      "Proses Keypoints Angkat Pinggul:  77%|███████▋  | 46/60 [06:59<02:23, 10.24s/it]"
     ]
    },
    {
     "name": "stdout",
     "output_type": "stream",
     "text": [
      "✅ Keypoint disimpan: keypoints_sublabeling_augmented\\Angkat Pinggul\\5_speed05.npy\n"
     ]
    },
    {
     "name": "stderr",
     "output_type": "stream",
     "text": [
      "Proses Keypoints Angkat Pinggul:  78%|███████▊  | 47/60 [07:07<02:04,  9.55s/it]"
     ]
    },
    {
     "name": "stdout",
     "output_type": "stream",
     "text": [
      "✅ Keypoint disimpan: keypoints_sublabeling_augmented\\Angkat Pinggul\\5_speed10.npy\n"
     ]
    },
    {
     "name": "stderr",
     "output_type": "stream",
     "text": [
      "Proses Keypoints Angkat Pinggul:  80%|████████  | 48/60 [07:15<01:48,  9.05s/it]"
     ]
    },
    {
     "name": "stdout",
     "output_type": "stream",
     "text": [
      "✅ Keypoint disimpan: keypoints_sublabeling_augmented\\Angkat Pinggul\\5_speed15.npy\n"
     ]
    },
    {
     "name": "stderr",
     "output_type": "stream",
     "text": [
      "Proses Keypoints Angkat Pinggul:  82%|████████▏ | 49/60 [07:24<01:38,  9.00s/it]"
     ]
    },
    {
     "name": "stdout",
     "output_type": "stream",
     "text": [
      "✅ Keypoint disimpan: keypoints_sublabeling_augmented\\Angkat Pinggul\\6_speed05.npy\n"
     ]
    },
    {
     "name": "stderr",
     "output_type": "stream",
     "text": [
      "Proses Keypoints Angkat Pinggul:  83%|████████▎ | 50/60 [07:28<01:16,  7.64s/it]"
     ]
    },
    {
     "name": "stdout",
     "output_type": "stream",
     "text": [
      "✅ Keypoint disimpan: keypoints_sublabeling_augmented\\Angkat Pinggul\\6_speed10.npy\n"
     ]
    },
    {
     "name": "stderr",
     "output_type": "stream",
     "text": [
      "Proses Keypoints Angkat Pinggul:  85%|████████▌ | 51/60 [07:33<01:00,  6.71s/it]"
     ]
    },
    {
     "name": "stdout",
     "output_type": "stream",
     "text": [
      "✅ Keypoint disimpan: keypoints_sublabeling_augmented\\Angkat Pinggul\\6_speed15.npy\n"
     ]
    },
    {
     "name": "stderr",
     "output_type": "stream",
     "text": [
      "Proses Keypoints Angkat Pinggul:  87%|████████▋ | 52/60 [07:45<01:07,  8.40s/it]"
     ]
    },
    {
     "name": "stdout",
     "output_type": "stream",
     "text": [
      "✅ Keypoint disimpan: keypoints_sublabeling_augmented\\Angkat Pinggul\\7_speed05.npy\n"
     ]
    },
    {
     "name": "stderr",
     "output_type": "stream",
     "text": [
      "Proses Keypoints Angkat Pinggul:  88%|████████▊ | 53/60 [07:52<00:54,  7.79s/it]"
     ]
    },
    {
     "name": "stdout",
     "output_type": "stream",
     "text": [
      "✅ Keypoint disimpan: keypoints_sublabeling_augmented\\Angkat Pinggul\\7_speed10.npy\n"
     ]
    },
    {
     "name": "stderr",
     "output_type": "stream",
     "text": [
      "Proses Keypoints Angkat Pinggul:  90%|█████████ | 54/60 [07:58<00:44,  7.34s/it]"
     ]
    },
    {
     "name": "stdout",
     "output_type": "stream",
     "text": [
      "✅ Keypoint disimpan: keypoints_sublabeling_augmented\\Angkat Pinggul\\7_speed15.npy\n"
     ]
    },
    {
     "name": "stderr",
     "output_type": "stream",
     "text": [
      "Proses Keypoints Angkat Pinggul:  92%|█████████▏| 55/60 [08:12<00:46,  9.34s/it]"
     ]
    },
    {
     "name": "stdout",
     "output_type": "stream",
     "text": [
      "✅ Keypoint disimpan: keypoints_sublabeling_augmented\\Angkat Pinggul\\8_speed05.npy\n"
     ]
    },
    {
     "name": "stderr",
     "output_type": "stream",
     "text": [
      "Proses Keypoints Angkat Pinggul:  93%|█████████▎| 56/60 [08:19<00:34,  8.60s/it]"
     ]
    },
    {
     "name": "stdout",
     "output_type": "stream",
     "text": [
      "✅ Keypoint disimpan: keypoints_sublabeling_augmented\\Angkat Pinggul\\8_speed10.npy\n"
     ]
    },
    {
     "name": "stderr",
     "output_type": "stream",
     "text": [
      "Proses Keypoints Angkat Pinggul:  95%|█████████▌| 57/60 [08:26<00:24,  8.12s/it]"
     ]
    },
    {
     "name": "stdout",
     "output_type": "stream",
     "text": [
      "✅ Keypoint disimpan: keypoints_sublabeling_augmented\\Angkat Pinggul\\8_speed15.npy\n"
     ]
    },
    {
     "name": "stderr",
     "output_type": "stream",
     "text": [
      "Proses Keypoints Angkat Pinggul:  97%|█████████▋| 58/60 [08:39<00:19,  9.53s/it]"
     ]
    },
    {
     "name": "stdout",
     "output_type": "stream",
     "text": [
      "✅ Keypoint disimpan: keypoints_sublabeling_augmented\\Angkat Pinggul\\9_speed05.npy\n"
     ]
    },
    {
     "name": "stderr",
     "output_type": "stream",
     "text": [
      "Proses Keypoints Angkat Pinggul:  98%|█████████▊| 59/60 [08:45<00:08,  8.61s/it]"
     ]
    },
    {
     "name": "stdout",
     "output_type": "stream",
     "text": [
      "✅ Keypoint disimpan: keypoints_sublabeling_augmented\\Angkat Pinggul\\9_speed10.npy\n"
     ]
    },
    {
     "name": "stderr",
     "output_type": "stream",
     "text": [
      "Proses Keypoints Angkat Pinggul: 100%|██████████| 60/60 [08:52<00:00,  8.87s/it]\n"
     ]
    },
    {
     "name": "stdout",
     "output_type": "stream",
     "text": [
      "✅ Keypoint disimpan: keypoints_sublabeling_augmented\\Angkat Pinggul\\9_speed15.npy\n"
     ]
    },
    {
     "name": "stderr",
     "output_type": "stream",
     "text": [
      "Proses Keypoints Angkat Tangan:   2%|▏         | 1/60 [00:09<09:33,  9.71s/it]"
     ]
    },
    {
     "name": "stdout",
     "output_type": "stream",
     "text": [
      "✅ Keypoint disimpan: keypoints_sublabeling_augmented\\Angkat Tangan\\10_speed05.npy\n"
     ]
    },
    {
     "name": "stderr",
     "output_type": "stream",
     "text": [
      "Proses Keypoints Angkat Tangan:   3%|▎         | 2/60 [00:14<06:35,  6.82s/it]"
     ]
    },
    {
     "name": "stdout",
     "output_type": "stream",
     "text": [
      "✅ Keypoint disimpan: keypoints_sublabeling_augmented\\Angkat Tangan\\10_speed10.npy\n"
     ]
    },
    {
     "name": "stderr",
     "output_type": "stream",
     "text": [
      "Proses Keypoints Angkat Tangan:   5%|▌         | 3/60 [00:19<05:35,  5.89s/it]"
     ]
    },
    {
     "name": "stdout",
     "output_type": "stream",
     "text": [
      "✅ Keypoint disimpan: keypoints_sublabeling_augmented\\Angkat Tangan\\10_speed15.npy\n"
     ]
    },
    {
     "name": "stderr",
     "output_type": "stream",
     "text": [
      "Proses Keypoints Angkat Tangan:   7%|▋         | 4/60 [00:28<06:52,  7.37s/it]"
     ]
    },
    {
     "name": "stdout",
     "output_type": "stream",
     "text": [
      "✅ Keypoint disimpan: keypoints_sublabeling_augmented\\Angkat Tangan\\11_speed05.npy\n"
     ]
    },
    {
     "name": "stderr",
     "output_type": "stream",
     "text": [
      "Proses Keypoints Angkat Tangan:   8%|▊         | 5/60 [00:33<05:56,  6.49s/it]"
     ]
    },
    {
     "name": "stdout",
     "output_type": "stream",
     "text": [
      "✅ Keypoint disimpan: keypoints_sublabeling_augmented\\Angkat Tangan\\11_speed10.npy\n"
     ]
    },
    {
     "name": "stderr",
     "output_type": "stream",
     "text": [
      "Proses Keypoints Angkat Tangan:  10%|█         | 6/60 [00:38<05:20,  5.94s/it]"
     ]
    },
    {
     "name": "stdout",
     "output_type": "stream",
     "text": [
      "✅ Keypoint disimpan: keypoints_sublabeling_augmented\\Angkat Tangan\\11_speed15.npy\n"
     ]
    },
    {
     "name": "stderr",
     "output_type": "stream",
     "text": [
      "Proses Keypoints Angkat Tangan:  12%|█▏        | 7/60 [00:49<06:35,  7.47s/it]"
     ]
    },
    {
     "name": "stdout",
     "output_type": "stream",
     "text": [
      "✅ Keypoint disimpan: keypoints_sublabeling_augmented\\Angkat Tangan\\12_speed05.npy\n"
     ]
    },
    {
     "name": "stderr",
     "output_type": "stream",
     "text": [
      "Proses Keypoints Angkat Tangan:  13%|█▎        | 8/60 [00:54<05:53,  6.81s/it]"
     ]
    },
    {
     "name": "stdout",
     "output_type": "stream",
     "text": [
      "✅ Keypoint disimpan: keypoints_sublabeling_augmented\\Angkat Tangan\\12_speed10.npy\n"
     ]
    },
    {
     "name": "stderr",
     "output_type": "stream",
     "text": [
      "Proses Keypoints Angkat Tangan:  15%|█▌        | 9/60 [01:00<05:24,  6.37s/it]"
     ]
    },
    {
     "name": "stdout",
     "output_type": "stream",
     "text": [
      "✅ Keypoint disimpan: keypoints_sublabeling_augmented\\Angkat Tangan\\12_speed15.npy\n"
     ]
    },
    {
     "name": "stderr",
     "output_type": "stream",
     "text": [
      "Proses Keypoints Angkat Tangan:  17%|█▋        | 10/60 [01:05<05:10,  6.21s/it]"
     ]
    },
    {
     "name": "stdout",
     "output_type": "stream",
     "text": [
      "✅ Keypoint disimpan: keypoints_sublabeling_augmented\\Angkat Tangan\\13_speed05.npy\n"
     ]
    },
    {
     "name": "stderr",
     "output_type": "stream",
     "text": [
      "Proses Keypoints Angkat Tangan:  18%|█▊        | 11/60 [01:08<04:15,  5.22s/it]"
     ]
    },
    {
     "name": "stdout",
     "output_type": "stream",
     "text": [
      "✅ Keypoint disimpan: keypoints_sublabeling_augmented\\Angkat Tangan\\13_speed10.npy\n"
     ]
    },
    {
     "name": "stderr",
     "output_type": "stream",
     "text": [
      "Proses Keypoints Angkat Tangan:  20%|██        | 12/60 [01:11<03:38,  4.54s/it]"
     ]
    },
    {
     "name": "stdout",
     "output_type": "stream",
     "text": [
      "✅ Keypoint disimpan: keypoints_sublabeling_augmented\\Angkat Tangan\\13_speed15.npy\n"
     ]
    },
    {
     "name": "stderr",
     "output_type": "stream",
     "text": [
      "Proses Keypoints Angkat Tangan:  22%|██▏       | 13/60 [01:23<05:13,  6.67s/it]"
     ]
    },
    {
     "name": "stdout",
     "output_type": "stream",
     "text": [
      "✅ Keypoint disimpan: keypoints_sublabeling_augmented\\Angkat Tangan\\14_speed05.npy\n"
     ]
    },
    {
     "name": "stderr",
     "output_type": "stream",
     "text": [
      "Proses Keypoints Angkat Tangan:  23%|██▎       | 14/60 [01:29<04:53,  6.39s/it]"
     ]
    },
    {
     "name": "stdout",
     "output_type": "stream",
     "text": [
      "✅ Keypoint disimpan: keypoints_sublabeling_augmented\\Angkat Tangan\\14_speed10.npy\n"
     ]
    },
    {
     "name": "stderr",
     "output_type": "stream",
     "text": [
      "Proses Keypoints Angkat Tangan:  25%|██▌       | 15/60 [01:35<04:39,  6.22s/it]"
     ]
    },
    {
     "name": "stdout",
     "output_type": "stream",
     "text": [
      "✅ Keypoint disimpan: keypoints_sublabeling_augmented\\Angkat Tangan\\14_speed15.npy\n"
     ]
    },
    {
     "name": "stderr",
     "output_type": "stream",
     "text": [
      "Proses Keypoints Angkat Tangan:  27%|██▋       | 16/60 [01:47<05:52,  8.02s/it]"
     ]
    },
    {
     "name": "stdout",
     "output_type": "stream",
     "text": [
      "✅ Keypoint disimpan: keypoints_sublabeling_augmented\\Angkat Tangan\\15_speed05.npy\n"
     ]
    },
    {
     "name": "stderr",
     "output_type": "stream",
     "text": [
      "Proses Keypoints Angkat Tangan:  28%|██▊       | 17/60 [01:53<05:20,  7.46s/it]"
     ]
    },
    {
     "name": "stdout",
     "output_type": "stream",
     "text": [
      "✅ Keypoint disimpan: keypoints_sublabeling_augmented\\Angkat Tangan\\15_speed10.npy\n"
     ]
    },
    {
     "name": "stderr",
     "output_type": "stream",
     "text": [
      "Proses Keypoints Angkat Tangan:  30%|███       | 18/60 [01:59<04:55,  7.04s/it]"
     ]
    },
    {
     "name": "stdout",
     "output_type": "stream",
     "text": [
      "✅ Keypoint disimpan: keypoints_sublabeling_augmented\\Angkat Tangan\\15_speed15.npy\n"
     ]
    },
    {
     "name": "stderr",
     "output_type": "stream",
     "text": [
      "Proses Keypoints Angkat Tangan:  32%|███▏      | 19/60 [02:10<05:39,  8.29s/it]"
     ]
    },
    {
     "name": "stdout",
     "output_type": "stream",
     "text": [
      "✅ Keypoint disimpan: keypoints_sublabeling_augmented\\Angkat Tangan\\16_speed05.npy\n"
     ]
    },
    {
     "name": "stderr",
     "output_type": "stream",
     "text": [
      "Proses Keypoints Angkat Tangan:  33%|███▎      | 20/60 [02:16<05:00,  7.51s/it]"
     ]
    },
    {
     "name": "stdout",
     "output_type": "stream",
     "text": [
      "✅ Keypoint disimpan: keypoints_sublabeling_augmented\\Angkat Tangan\\16_speed10.npy\n"
     ]
    },
    {
     "name": "stderr",
     "output_type": "stream",
     "text": [
      "Proses Keypoints Angkat Tangan:  35%|███▌      | 21/60 [02:22<04:30,  6.94s/it]"
     ]
    },
    {
     "name": "stdout",
     "output_type": "stream",
     "text": [
      "✅ Keypoint disimpan: keypoints_sublabeling_augmented\\Angkat Tangan\\16_speed15.npy\n"
     ]
    },
    {
     "name": "stderr",
     "output_type": "stream",
     "text": [
      "Proses Keypoints Angkat Tangan:  37%|███▋      | 22/60 [02:32<05:04,  8.02s/it]"
     ]
    },
    {
     "name": "stdout",
     "output_type": "stream",
     "text": [
      "✅ Keypoint disimpan: keypoints_sublabeling_augmented\\Angkat Tangan\\17_speed05.npy\n"
     ]
    },
    {
     "name": "stderr",
     "output_type": "stream",
     "text": [
      "Proses Keypoints Angkat Tangan:  38%|███▊      | 23/60 [02:37<04:27,  7.24s/it]"
     ]
    },
    {
     "name": "stdout",
     "output_type": "stream",
     "text": [
      "✅ Keypoint disimpan: keypoints_sublabeling_augmented\\Angkat Tangan\\17_speed10.npy\n"
     ]
    },
    {
     "name": "stderr",
     "output_type": "stream",
     "text": [
      "Proses Keypoints Angkat Tangan:  40%|████      | 24/60 [02:43<03:58,  6.62s/it]"
     ]
    },
    {
     "name": "stdout",
     "output_type": "stream",
     "text": [
      "✅ Keypoint disimpan: keypoints_sublabeling_augmented\\Angkat Tangan\\17_speed15.npy\n"
     ]
    },
    {
     "name": "stderr",
     "output_type": "stream",
     "text": [
      "Proses Keypoints Angkat Tangan:  42%|████▏     | 25/60 [02:50<04:01,  6.90s/it]"
     ]
    },
    {
     "name": "stdout",
     "output_type": "stream",
     "text": [
      "✅ Keypoint disimpan: keypoints_sublabeling_augmented\\Angkat Tangan\\18_speed05.npy\n"
     ]
    },
    {
     "name": "stderr",
     "output_type": "stream",
     "text": [
      "Proses Keypoints Angkat Tangan:  43%|████▎     | 26/60 [02:54<03:23,  5.98s/it]"
     ]
    },
    {
     "name": "stdout",
     "output_type": "stream",
     "text": [
      "✅ Keypoint disimpan: keypoints_sublabeling_augmented\\Angkat Tangan\\18_speed10.npy\n"
     ]
    },
    {
     "name": "stderr",
     "output_type": "stream",
     "text": [
      "Proses Keypoints Angkat Tangan:  45%|████▌     | 27/60 [02:58<02:55,  5.33s/it]"
     ]
    },
    {
     "name": "stdout",
     "output_type": "stream",
     "text": [
      "✅ Keypoint disimpan: keypoints_sublabeling_augmented\\Angkat Tangan\\18_speed15.npy\n"
     ]
    },
    {
     "name": "stderr",
     "output_type": "stream",
     "text": [
      "Proses Keypoints Angkat Tangan:  47%|████▋     | 28/60 [03:09<03:44,  7.01s/it]"
     ]
    },
    {
     "name": "stdout",
     "output_type": "stream",
     "text": [
      "✅ Keypoint disimpan: keypoints_sublabeling_augmented\\Angkat Tangan\\19_speed05.npy\n"
     ]
    },
    {
     "name": "stderr",
     "output_type": "stream",
     "text": [
      "Proses Keypoints Angkat Tangan:  48%|████▊     | 29/60 [03:14<03:23,  6.56s/it]"
     ]
    },
    {
     "name": "stdout",
     "output_type": "stream",
     "text": [
      "✅ Keypoint disimpan: keypoints_sublabeling_augmented\\Angkat Tangan\\19_speed10.npy\n"
     ]
    },
    {
     "name": "stderr",
     "output_type": "stream",
     "text": [
      "Proses Keypoints Angkat Tangan:  50%|█████     | 30/60 [03:20<03:06,  6.23s/it]"
     ]
    },
    {
     "name": "stdout",
     "output_type": "stream",
     "text": [
      "✅ Keypoint disimpan: keypoints_sublabeling_augmented\\Angkat Tangan\\19_speed15.npy\n"
     ]
    },
    {
     "name": "stderr",
     "output_type": "stream",
     "text": [
      "Proses Keypoints Angkat Tangan:  52%|█████▏    | 31/60 [03:29<03:29,  7.21s/it]"
     ]
    },
    {
     "name": "stdout",
     "output_type": "stream",
     "text": [
      "✅ Keypoint disimpan: keypoints_sublabeling_augmented\\Angkat Tangan\\1_speed05.npy\n"
     ]
    },
    {
     "name": "stderr",
     "output_type": "stream",
     "text": [
      "Proses Keypoints Angkat Tangan:  53%|█████▎    | 32/60 [03:34<03:01,  6.49s/it]"
     ]
    },
    {
     "name": "stdout",
     "output_type": "stream",
     "text": [
      "✅ Keypoint disimpan: keypoints_sublabeling_augmented\\Angkat Tangan\\1_speed10.npy\n"
     ]
    },
    {
     "name": "stderr",
     "output_type": "stream",
     "text": [
      "Proses Keypoints Angkat Tangan:  55%|█████▌    | 33/60 [03:39<02:41,  5.97s/it]"
     ]
    },
    {
     "name": "stdout",
     "output_type": "stream",
     "text": [
      "✅ Keypoint disimpan: keypoints_sublabeling_augmented\\Angkat Tangan\\1_speed15.npy\n"
     ]
    },
    {
     "name": "stderr",
     "output_type": "stream",
     "text": [
      "Proses Keypoints Angkat Tangan:  57%|█████▋    | 34/60 [03:48<03:04,  7.08s/it]"
     ]
    },
    {
     "name": "stdout",
     "output_type": "stream",
     "text": [
      "✅ Keypoint disimpan: keypoints_sublabeling_augmented\\Angkat Tangan\\20_speed05.npy\n"
     ]
    },
    {
     "name": "stderr",
     "output_type": "stream",
     "text": [
      "Proses Keypoints Angkat Tangan:  58%|█████▊    | 35/60 [03:53<02:40,  6.41s/it]"
     ]
    },
    {
     "name": "stdout",
     "output_type": "stream",
     "text": [
      "✅ Keypoint disimpan: keypoints_sublabeling_augmented\\Angkat Tangan\\20_speed10.npy\n"
     ]
    },
    {
     "name": "stderr",
     "output_type": "stream",
     "text": [
      "Proses Keypoints Angkat Tangan:  60%|██████    | 36/60 [03:58<02:22,  5.94s/it]"
     ]
    },
    {
     "name": "stdout",
     "output_type": "stream",
     "text": [
      "✅ Keypoint disimpan: keypoints_sublabeling_augmented\\Angkat Tangan\\20_speed15.npy\n"
     ]
    },
    {
     "name": "stderr",
     "output_type": "stream",
     "text": [
      "Proses Keypoints Angkat Tangan:  62%|██████▏   | 37/60 [04:05<02:26,  6.35s/it]"
     ]
    },
    {
     "name": "stdout",
     "output_type": "stream",
     "text": [
      "✅ Keypoint disimpan: keypoints_sublabeling_augmented\\Angkat Tangan\\2_speed05.npy\n"
     ]
    },
    {
     "name": "stderr",
     "output_type": "stream",
     "text": [
      "Proses Keypoints Angkat Tangan:  63%|██████▎   | 38/60 [04:09<02:02,  5.56s/it]"
     ]
    },
    {
     "name": "stdout",
     "output_type": "stream",
     "text": [
      "✅ Keypoint disimpan: keypoints_sublabeling_augmented\\Angkat Tangan\\2_speed10.npy\n"
     ]
    },
    {
     "name": "stderr",
     "output_type": "stream",
     "text": [
      "Proses Keypoints Angkat Tangan:  65%|██████▌   | 39/60 [04:13<01:44,  5.00s/it]"
     ]
    },
    {
     "name": "stdout",
     "output_type": "stream",
     "text": [
      "✅ Keypoint disimpan: keypoints_sublabeling_augmented\\Angkat Tangan\\2_speed15.npy\n"
     ]
    },
    {
     "name": "stderr",
     "output_type": "stream",
     "text": [
      "Proses Keypoints Angkat Tangan:  67%|██████▋   | 40/60 [04:24<02:18,  6.90s/it]"
     ]
    },
    {
     "name": "stdout",
     "output_type": "stream",
     "text": [
      "✅ Keypoint disimpan: keypoints_sublabeling_augmented\\Angkat Tangan\\3_speed05.npy\n"
     ]
    },
    {
     "name": "stderr",
     "output_type": "stream",
     "text": [
      "Proses Keypoints Angkat Tangan:  68%|██████▊   | 41/60 [04:30<02:04,  6.54s/it]"
     ]
    },
    {
     "name": "stdout",
     "output_type": "stream",
     "text": [
      "✅ Keypoint disimpan: keypoints_sublabeling_augmented\\Angkat Tangan\\3_speed10.npy\n"
     ]
    },
    {
     "name": "stderr",
     "output_type": "stream",
     "text": [
      "Proses Keypoints Angkat Tangan:  70%|███████   | 42/60 [04:36<01:53,  6.28s/it]"
     ]
    },
    {
     "name": "stdout",
     "output_type": "stream",
     "text": [
      "✅ Keypoint disimpan: keypoints_sublabeling_augmented\\Angkat Tangan\\3_speed15.npy\n"
     ]
    },
    {
     "name": "stderr",
     "output_type": "stream",
     "text": [
      "Proses Keypoints Angkat Tangan:  72%|███████▏  | 43/60 [04:44<01:56,  6.83s/it]"
     ]
    },
    {
     "name": "stdout",
     "output_type": "stream",
     "text": [
      "✅ Keypoint disimpan: keypoints_sublabeling_augmented\\Angkat Tangan\\4_speed05.npy\n"
     ]
    },
    {
     "name": "stderr",
     "output_type": "stream",
     "text": [
      "Proses Keypoints Angkat Tangan:  73%|███████▎  | 44/60 [04:48<01:35,  5.98s/it]"
     ]
    },
    {
     "name": "stdout",
     "output_type": "stream",
     "text": [
      "✅ Keypoint disimpan: keypoints_sublabeling_augmented\\Angkat Tangan\\4_speed10.npy\n"
     ]
    },
    {
     "name": "stderr",
     "output_type": "stream",
     "text": [
      "Proses Keypoints Angkat Tangan:  75%|███████▌  | 45/60 [04:52<01:20,  5.37s/it]"
     ]
    },
    {
     "name": "stdout",
     "output_type": "stream",
     "text": [
      "✅ Keypoint disimpan: keypoints_sublabeling_augmented\\Angkat Tangan\\4_speed15.npy\n"
     ]
    },
    {
     "name": "stderr",
     "output_type": "stream",
     "text": [
      "Proses Keypoints Angkat Tangan:  77%|███████▋  | 46/60 [05:02<01:34,  6.73s/it]"
     ]
    },
    {
     "name": "stdout",
     "output_type": "stream",
     "text": [
      "✅ Keypoint disimpan: keypoints_sublabeling_augmented\\Angkat Tangan\\5_speed05.npy\n"
     ]
    },
    {
     "name": "stderr",
     "output_type": "stream",
     "text": [
      "Proses Keypoints Angkat Tangan:  78%|███████▊  | 47/60 [05:07<01:20,  6.22s/it]"
     ]
    },
    {
     "name": "stdout",
     "output_type": "stream",
     "text": [
      "✅ Keypoint disimpan: keypoints_sublabeling_augmented\\Angkat Tangan\\5_speed10.npy\n"
     ]
    },
    {
     "name": "stderr",
     "output_type": "stream",
     "text": [
      "Proses Keypoints Angkat Tangan:  80%|████████  | 48/60 [05:12<01:10,  5.86s/it]"
     ]
    },
    {
     "name": "stdout",
     "output_type": "stream",
     "text": [
      "✅ Keypoint disimpan: keypoints_sublabeling_augmented\\Angkat Tangan\\5_speed15.npy\n"
     ]
    },
    {
     "name": "stderr",
     "output_type": "stream",
     "text": [
      "Proses Keypoints Angkat Tangan:  82%|████████▏ | 49/60 [05:23<01:21,  7.44s/it]"
     ]
    },
    {
     "name": "stdout",
     "output_type": "stream",
     "text": [
      "✅ Keypoint disimpan: keypoints_sublabeling_augmented\\Angkat Tangan\\6_speed05.npy\n"
     ]
    },
    {
     "name": "stderr",
     "output_type": "stream",
     "text": [
      "Proses Keypoints Angkat Tangan:  83%|████████▎ | 50/60 [05:28<01:08,  6.90s/it]"
     ]
    },
    {
     "name": "stdout",
     "output_type": "stream",
     "text": [
      "✅ Keypoint disimpan: keypoints_sublabeling_augmented\\Angkat Tangan\\6_speed10.npy\n"
     ]
    },
    {
     "name": "stderr",
     "output_type": "stream",
     "text": [
      "Proses Keypoints Angkat Tangan:  85%|████████▌ | 51/60 [05:34<00:58,  6.51s/it]"
     ]
    },
    {
     "name": "stdout",
     "output_type": "stream",
     "text": [
      "✅ Keypoint disimpan: keypoints_sublabeling_augmented\\Angkat Tangan\\6_speed15.npy\n"
     ]
    },
    {
     "name": "stderr",
     "output_type": "stream",
     "text": [
      "Proses Keypoints Angkat Tangan:  87%|████████▋ | 52/60 [05:44<01:00,  7.54s/it]"
     ]
    },
    {
     "name": "stdout",
     "output_type": "stream",
     "text": [
      "✅ Keypoint disimpan: keypoints_sublabeling_augmented\\Angkat Tangan\\7_speed05.npy\n"
     ]
    },
    {
     "name": "stderr",
     "output_type": "stream",
     "text": [
      "Proses Keypoints Angkat Tangan:  88%|████████▊ | 53/60 [05:49<00:47,  6.78s/it]"
     ]
    },
    {
     "name": "stdout",
     "output_type": "stream",
     "text": [
      "✅ Keypoint disimpan: keypoints_sublabeling_augmented\\Angkat Tangan\\7_speed10.npy\n"
     ]
    },
    {
     "name": "stderr",
     "output_type": "stream",
     "text": [
      "Proses Keypoints Angkat Tangan:  90%|█████████ | 54/60 [05:54<00:37,  6.26s/it]"
     ]
    },
    {
     "name": "stdout",
     "output_type": "stream",
     "text": [
      "✅ Keypoint disimpan: keypoints_sublabeling_augmented\\Angkat Tangan\\7_speed15.npy\n"
     ]
    },
    {
     "name": "stderr",
     "output_type": "stream",
     "text": [
      "Proses Keypoints Angkat Tangan:  92%|█████████▏| 55/60 [06:03<00:35,  7.15s/it]"
     ]
    },
    {
     "name": "stdout",
     "output_type": "stream",
     "text": [
      "✅ Keypoint disimpan: keypoints_sublabeling_augmented\\Angkat Tangan\\8_speed05.npy\n"
     ]
    },
    {
     "name": "stderr",
     "output_type": "stream",
     "text": [
      "Proses Keypoints Angkat Tangan:  93%|█████████▎| 56/60 [06:08<00:25,  6.39s/it]"
     ]
    },
    {
     "name": "stdout",
     "output_type": "stream",
     "text": [
      "✅ Keypoint disimpan: keypoints_sublabeling_augmented\\Angkat Tangan\\8_speed10.npy\n"
     ]
    },
    {
     "name": "stderr",
     "output_type": "stream",
     "text": [
      "Proses Keypoints Angkat Tangan:  95%|█████████▌| 57/60 [06:12<00:17,  5.86s/it]"
     ]
    },
    {
     "name": "stdout",
     "output_type": "stream",
     "text": [
      "✅ Keypoint disimpan: keypoints_sublabeling_augmented\\Angkat Tangan\\8_speed15.npy\n"
     ]
    },
    {
     "name": "stderr",
     "output_type": "stream",
     "text": [
      "Proses Keypoints Angkat Tangan:  97%|█████████▋| 58/60 [06:22<00:14,  7.03s/it]"
     ]
    },
    {
     "name": "stdout",
     "output_type": "stream",
     "text": [
      "✅ Keypoint disimpan: keypoints_sublabeling_augmented\\Angkat Tangan\\9_speed05.npy\n"
     ]
    },
    {
     "name": "stderr",
     "output_type": "stream",
     "text": [
      "Proses Keypoints Angkat Tangan:  98%|█████████▊| 59/60 [06:27<00:06,  6.42s/it]"
     ]
    },
    {
     "name": "stdout",
     "output_type": "stream",
     "text": [
      "✅ Keypoint disimpan: keypoints_sublabeling_augmented\\Angkat Tangan\\9_speed10.npy\n"
     ]
    },
    {
     "name": "stderr",
     "output_type": "stream",
     "text": [
      "Proses Keypoints Angkat Tangan: 100%|██████████| 60/60 [06:32<00:00,  6.54s/it]\n"
     ]
    },
    {
     "name": "stdout",
     "output_type": "stream",
     "text": [
      "✅ Keypoint disimpan: keypoints_sublabeling_augmented\\Angkat Tangan\\9_speed15.npy\n"
     ]
    },
    {
     "name": "stderr",
     "output_type": "stream",
     "text": [
      "Proses Keypoints Lutut Turun:   2%|▏         | 1/60 [00:07<07:23,  7.53s/it]"
     ]
    },
    {
     "name": "stdout",
     "output_type": "stream",
     "text": [
      "✅ Keypoint disimpan: keypoints_sublabeling_augmented\\Lutut Turun\\10_speed05.npy\n"
     ]
    },
    {
     "name": "stderr",
     "output_type": "stream",
     "text": [
      "Proses Keypoints Lutut Turun:   3%|▎         | 2/60 [00:11<05:10,  5.36s/it]"
     ]
    },
    {
     "name": "stdout",
     "output_type": "stream",
     "text": [
      "✅ Keypoint disimpan: keypoints_sublabeling_augmented\\Lutut Turun\\10_speed10.npy\n"
     ]
    },
    {
     "name": "stderr",
     "output_type": "stream",
     "text": [
      "Proses Keypoints Lutut Turun:   5%|▌         | 3/60 [00:15<04:26,  4.67s/it]"
     ]
    },
    {
     "name": "stdout",
     "output_type": "stream",
     "text": [
      "✅ Keypoint disimpan: keypoints_sublabeling_augmented\\Lutut Turun\\10_speed15.npy\n"
     ]
    },
    {
     "name": "stderr",
     "output_type": "stream",
     "text": [
      "Proses Keypoints Lutut Turun:   7%|▋         | 4/60 [00:30<08:06,  8.69s/it]"
     ]
    },
    {
     "name": "stdout",
     "output_type": "stream",
     "text": [
      "✅ Keypoint disimpan: keypoints_sublabeling_augmented\\Lutut Turun\\11_speed05.npy\n"
     ]
    },
    {
     "name": "stderr",
     "output_type": "stream",
     "text": [
      "Proses Keypoints Lutut Turun:   8%|▊         | 5/60 [00:37<07:32,  8.23s/it]"
     ]
    },
    {
     "name": "stdout",
     "output_type": "stream",
     "text": [
      "✅ Keypoint disimpan: keypoints_sublabeling_augmented\\Lutut Turun\\11_speed10.npy\n"
     ]
    },
    {
     "name": "stderr",
     "output_type": "stream",
     "text": [
      "Proses Keypoints Lutut Turun:  10%|█         | 6/60 [00:44<07:09,  7.94s/it]"
     ]
    },
    {
     "name": "stdout",
     "output_type": "stream",
     "text": [
      "✅ Keypoint disimpan: keypoints_sublabeling_augmented\\Lutut Turun\\11_speed15.npy\n"
     ]
    },
    {
     "name": "stderr",
     "output_type": "stream",
     "text": [
      "Proses Keypoints Lutut Turun:  12%|█▏        | 7/60 [01:00<09:18, 10.54s/it]"
     ]
    },
    {
     "name": "stdout",
     "output_type": "stream",
     "text": [
      "✅ Keypoint disimpan: keypoints_sublabeling_augmented\\Lutut Turun\\12_speed05.npy\n"
     ]
    },
    {
     "name": "stderr",
     "output_type": "stream",
     "text": [
      "Proses Keypoints Lutut Turun:  13%|█▎        | 8/60 [01:08<08:26,  9.74s/it]"
     ]
    },
    {
     "name": "stdout",
     "output_type": "stream",
     "text": [
      "✅ Keypoint disimpan: keypoints_sublabeling_augmented\\Lutut Turun\\12_speed10.npy\n"
     ]
    },
    {
     "name": "stderr",
     "output_type": "stream",
     "text": [
      "Proses Keypoints Lutut Turun:  15%|█▌        | 9/60 [01:16<07:49,  9.20s/it]"
     ]
    },
    {
     "name": "stdout",
     "output_type": "stream",
     "text": [
      "✅ Keypoint disimpan: keypoints_sublabeling_augmented\\Lutut Turun\\12_speed15.npy\n"
     ]
    },
    {
     "name": "stderr",
     "output_type": "stream",
     "text": [
      "Proses Keypoints Lutut Turun:  17%|█▋        | 10/60 [01:33<09:29, 11.39s/it]"
     ]
    },
    {
     "name": "stdout",
     "output_type": "stream",
     "text": [
      "✅ Keypoint disimpan: keypoints_sublabeling_augmented\\Lutut Turun\\13_speed05.npy\n"
     ]
    },
    {
     "name": "stderr",
     "output_type": "stream",
     "text": [
      "Proses Keypoints Lutut Turun:  18%|█▊        | 11/60 [01:41<08:27, 10.37s/it]"
     ]
    },
    {
     "name": "stdout",
     "output_type": "stream",
     "text": [
      "✅ Keypoint disimpan: keypoints_sublabeling_augmented\\Lutut Turun\\13_speed10.npy\n"
     ]
    },
    {
     "name": "stderr",
     "output_type": "stream",
     "text": [
      "Proses Keypoints Lutut Turun:  20%|██        | 12/60 [01:49<07:44,  9.67s/it]"
     ]
    },
    {
     "name": "stdout",
     "output_type": "stream",
     "text": [
      "✅ Keypoint disimpan: keypoints_sublabeling_augmented\\Lutut Turun\\13_speed15.npy\n"
     ]
    },
    {
     "name": "stderr",
     "output_type": "stream",
     "text": [
      "Proses Keypoints Lutut Turun:  22%|██▏       | 13/60 [02:01<08:14, 10.52s/it]"
     ]
    },
    {
     "name": "stdout",
     "output_type": "stream",
     "text": [
      "✅ Keypoint disimpan: keypoints_sublabeling_augmented\\Lutut Turun\\14_speed05.npy\n"
     ]
    },
    {
     "name": "stderr",
     "output_type": "stream",
     "text": [
      "Proses Keypoints Lutut Turun:  23%|██▎       | 14/60 [02:08<07:05,  9.26s/it]"
     ]
    },
    {
     "name": "stdout",
     "output_type": "stream",
     "text": [
      "✅ Keypoint disimpan: keypoints_sublabeling_augmented\\Lutut Turun\\14_speed10.npy\n"
     ]
    },
    {
     "name": "stderr",
     "output_type": "stream",
     "text": [
      "Proses Keypoints Lutut Turun:  25%|██▌       | 15/60 [02:14<06:17,  8.38s/it]"
     ]
    },
    {
     "name": "stdout",
     "output_type": "stream",
     "text": [
      "✅ Keypoint disimpan: keypoints_sublabeling_augmented\\Lutut Turun\\14_speed15.npy\n"
     ]
    },
    {
     "name": "stderr",
     "output_type": "stream",
     "text": [
      "Proses Keypoints Lutut Turun:  27%|██▋       | 16/60 [02:24<06:35,  8.98s/it]"
     ]
    },
    {
     "name": "stdout",
     "output_type": "stream",
     "text": [
      "✅ Keypoint disimpan: keypoints_sublabeling_augmented\\Lutut Turun\\15_speed05.npy\n"
     ]
    },
    {
     "name": "stderr",
     "output_type": "stream",
     "text": [
      "Proses Keypoints Lutut Turun:  28%|██▊       | 17/60 [02:30<05:38,  7.87s/it]"
     ]
    },
    {
     "name": "stdout",
     "output_type": "stream",
     "text": [
      "✅ Keypoint disimpan: keypoints_sublabeling_augmented\\Lutut Turun\\15_speed10.npy\n"
     ]
    },
    {
     "name": "stderr",
     "output_type": "stream",
     "text": [
      "Proses Keypoints Lutut Turun:  30%|███       | 18/60 [02:35<04:57,  7.09s/it]"
     ]
    },
    {
     "name": "stdout",
     "output_type": "stream",
     "text": [
      "✅ Keypoint disimpan: keypoints_sublabeling_augmented\\Lutut Turun\\15_speed15.npy\n"
     ]
    },
    {
     "name": "stderr",
     "output_type": "stream",
     "text": [
      "Proses Keypoints Lutut Turun:  32%|███▏      | 19/60 [02:46<05:43,  8.39s/it]"
     ]
    },
    {
     "name": "stdout",
     "output_type": "stream",
     "text": [
      "✅ Keypoint disimpan: keypoints_sublabeling_augmented\\Lutut Turun\\16_speed05.npy\n"
     ]
    },
    {
     "name": "stderr",
     "output_type": "stream",
     "text": [
      "Proses Keypoints Lutut Turun:  33%|███▎      | 20/60 [02:52<05:03,  7.59s/it]"
     ]
    },
    {
     "name": "stdout",
     "output_type": "stream",
     "text": [
      "✅ Keypoint disimpan: keypoints_sublabeling_augmented\\Lutut Turun\\16_speed10.npy\n"
     ]
    },
    {
     "name": "stderr",
     "output_type": "stream",
     "text": [
      "Proses Keypoints Lutut Turun:  35%|███▌      | 21/60 [02:58<04:35,  7.07s/it]"
     ]
    },
    {
     "name": "stdout",
     "output_type": "stream",
     "text": [
      "✅ Keypoint disimpan: keypoints_sublabeling_augmented\\Lutut Turun\\16_speed15.npy\n"
     ]
    },
    {
     "name": "stderr",
     "output_type": "stream",
     "text": [
      "Proses Keypoints Lutut Turun:  37%|███▋      | 22/60 [03:10<05:31,  8.72s/it]"
     ]
    },
    {
     "name": "stdout",
     "output_type": "stream",
     "text": [
      "✅ Keypoint disimpan: keypoints_sublabeling_augmented\\Lutut Turun\\17_speed05.npy\n"
     ]
    },
    {
     "name": "stderr",
     "output_type": "stream",
     "text": [
      "Proses Keypoints Lutut Turun:  38%|███▊      | 23/60 [03:17<04:55,  7.99s/it]"
     ]
    },
    {
     "name": "stdout",
     "output_type": "stream",
     "text": [
      "✅ Keypoint disimpan: keypoints_sublabeling_augmented\\Lutut Turun\\17_speed10.npy\n"
     ]
    },
    {
     "name": "stderr",
     "output_type": "stream",
     "text": [
      "Proses Keypoints Lutut Turun:  40%|████      | 24/60 [03:23<04:28,  7.47s/it]"
     ]
    },
    {
     "name": "stdout",
     "output_type": "stream",
     "text": [
      "✅ Keypoint disimpan: keypoints_sublabeling_augmented\\Lutut Turun\\17_speed15.npy\n"
     ]
    },
    {
     "name": "stderr",
     "output_type": "stream",
     "text": [
      "Proses Keypoints Lutut Turun:  42%|████▏     | 25/60 [03:34<05:00,  8.57s/it]"
     ]
    },
    {
     "name": "stdout",
     "output_type": "stream",
     "text": [
      "✅ Keypoint disimpan: keypoints_sublabeling_augmented\\Lutut Turun\\18_speed05.npy\n"
     ]
    },
    {
     "name": "stderr",
     "output_type": "stream",
     "text": [
      "Proses Keypoints Lutut Turun:  43%|████▎     | 26/60 [03:40<04:20,  7.67s/it]"
     ]
    },
    {
     "name": "stdout",
     "output_type": "stream",
     "text": [
      "✅ Keypoint disimpan: keypoints_sublabeling_augmented\\Lutut Turun\\18_speed10.npy\n"
     ]
    },
    {
     "name": "stderr",
     "output_type": "stream",
     "text": [
      "Proses Keypoints Lutut Turun:  45%|████▌     | 27/60 [03:45<03:53,  7.09s/it]"
     ]
    },
    {
     "name": "stdout",
     "output_type": "stream",
     "text": [
      "✅ Keypoint disimpan: keypoints_sublabeling_augmented\\Lutut Turun\\18_speed15.npy\n"
     ]
    },
    {
     "name": "stderr",
     "output_type": "stream",
     "text": [
      "Proses Keypoints Lutut Turun:  47%|████▋     | 28/60 [03:57<04:35,  8.60s/it]"
     ]
    },
    {
     "name": "stdout",
     "output_type": "stream",
     "text": [
      "✅ Keypoint disimpan: keypoints_sublabeling_augmented\\Lutut Turun\\19_speed05.npy\n"
     ]
    },
    {
     "name": "stderr",
     "output_type": "stream",
     "text": [
      "Proses Keypoints Lutut Turun:  48%|████▊     | 29/60 [04:04<04:04,  7.89s/it]"
     ]
    },
    {
     "name": "stdout",
     "output_type": "stream",
     "text": [
      "✅ Keypoint disimpan: keypoints_sublabeling_augmented\\Lutut Turun\\19_speed10.npy\n"
     ]
    },
    {
     "name": "stderr",
     "output_type": "stream",
     "text": [
      "Proses Keypoints Lutut Turun:  50%|█████     | 30/60 [04:11<03:50,  7.69s/it]"
     ]
    },
    {
     "name": "stdout",
     "output_type": "stream",
     "text": [
      "✅ Keypoint disimpan: keypoints_sublabeling_augmented\\Lutut Turun\\19_speed15.npy\n"
     ]
    },
    {
     "name": "stderr",
     "output_type": "stream",
     "text": [
      "Proses Keypoints Lutut Turun:  52%|█████▏    | 31/60 [04:36<06:17, 13.00s/it]"
     ]
    },
    {
     "name": "stdout",
     "output_type": "stream",
     "text": [
      "✅ Keypoint disimpan: keypoints_sublabeling_augmented\\Lutut Turun\\1_speed05.npy\n"
     ]
    },
    {
     "name": "stderr",
     "output_type": "stream",
     "text": [
      "Proses Keypoints Lutut Turun:  53%|█████▎    | 32/60 [04:49<06:00, 12.86s/it]"
     ]
    },
    {
     "name": "stdout",
     "output_type": "stream",
     "text": [
      "✅ Keypoint disimpan: keypoints_sublabeling_augmented\\Lutut Turun\\1_speed10.npy\n"
     ]
    },
    {
     "name": "stderr",
     "output_type": "stream",
     "text": [
      "Proses Keypoints Lutut Turun:  55%|█████▌    | 33/60 [05:01<05:44, 12.76s/it]"
     ]
    },
    {
     "name": "stdout",
     "output_type": "stream",
     "text": [
      "✅ Keypoint disimpan: keypoints_sublabeling_augmented\\Lutut Turun\\1_speed15.npy\n"
     ]
    },
    {
     "name": "stderr",
     "output_type": "stream",
     "text": [
      "Proses Keypoints Lutut Turun:  57%|█████▋    | 34/60 [05:14<05:34, 12.85s/it]"
     ]
    },
    {
     "name": "stdout",
     "output_type": "stream",
     "text": [
      "✅ Keypoint disimpan: keypoints_sublabeling_augmented\\Lutut Turun\\20_speed05.npy\n"
     ]
    },
    {
     "name": "stderr",
     "output_type": "stream",
     "text": [
      "Proses Keypoints Lutut Turun:  58%|█████▊    | 35/60 [05:21<04:34, 10.97s/it]"
     ]
    },
    {
     "name": "stdout",
     "output_type": "stream",
     "text": [
      "✅ Keypoint disimpan: keypoints_sublabeling_augmented\\Lutut Turun\\20_speed10.npy\n"
     ]
    },
    {
     "name": "stderr",
     "output_type": "stream",
     "text": [
      "Proses Keypoints Lutut Turun:  60%|██████    | 36/60 [05:28<03:51,  9.66s/it]"
     ]
    },
    {
     "name": "stdout",
     "output_type": "stream",
     "text": [
      "✅ Keypoint disimpan: keypoints_sublabeling_augmented\\Lutut Turun\\20_speed15.npy\n"
     ]
    },
    {
     "name": "stderr",
     "output_type": "stream",
     "text": [
      "Proses Keypoints Lutut Turun:  62%|██████▏   | 37/60 [05:52<05:24, 14.11s/it]"
     ]
    },
    {
     "name": "stdout",
     "output_type": "stream",
     "text": [
      "✅ Keypoint disimpan: keypoints_sublabeling_augmented\\Lutut Turun\\2_speed05.npy\n"
     ]
    },
    {
     "name": "stderr",
     "output_type": "stream",
     "text": [
      "Proses Keypoints Lutut Turun:  63%|██████▎   | 38/60 [06:04<04:57, 13.52s/it]"
     ]
    },
    {
     "name": "stdout",
     "output_type": "stream",
     "text": [
      "✅ Keypoint disimpan: keypoints_sublabeling_augmented\\Lutut Turun\\2_speed10.npy\n"
     ]
    },
    {
     "name": "stderr",
     "output_type": "stream",
     "text": [
      "Proses Keypoints Lutut Turun:  65%|██████▌   | 39/60 [06:16<04:33, 13.04s/it]"
     ]
    },
    {
     "name": "stdout",
     "output_type": "stream",
     "text": [
      "✅ Keypoint disimpan: keypoints_sublabeling_augmented\\Lutut Turun\\2_speed15.npy\n"
     ]
    },
    {
     "name": "stderr",
     "output_type": "stream",
     "text": [
      "Proses Keypoints Lutut Turun:  67%|██████▋   | 40/60 [06:27<04:05, 12.29s/it]"
     ]
    },
    {
     "name": "stdout",
     "output_type": "stream",
     "text": [
      "✅ Keypoint disimpan: keypoints_sublabeling_augmented\\Lutut Turun\\3_speed05.npy\n"
     ]
    },
    {
     "name": "stderr",
     "output_type": "stream",
     "text": [
      "Proses Keypoints Lutut Turun:  68%|██████▊   | 41/60 [06:32<03:13, 10.19s/it]"
     ]
    },
    {
     "name": "stdout",
     "output_type": "stream",
     "text": [
      "✅ Keypoint disimpan: keypoints_sublabeling_augmented\\Lutut Turun\\3_speed10.npy\n"
     ]
    },
    {
     "name": "stderr",
     "output_type": "stream",
     "text": [
      "Proses Keypoints Lutut Turun:  70%|███████   | 42/60 [06:37<02:37,  8.72s/it]"
     ]
    },
    {
     "name": "stdout",
     "output_type": "stream",
     "text": [
      "✅ Keypoint disimpan: keypoints_sublabeling_augmented\\Lutut Turun\\3_speed15.npy\n"
     ]
    },
    {
     "name": "stderr",
     "output_type": "stream",
     "text": [
      "Proses Keypoints Lutut Turun:  72%|███████▏  | 43/60 [06:47<02:35,  9.13s/it]"
     ]
    },
    {
     "name": "stdout",
     "output_type": "stream",
     "text": [
      "✅ Keypoint disimpan: keypoints_sublabeling_augmented\\Lutut Turun\\4_speed05.npy\n"
     ]
    },
    {
     "name": "stderr",
     "output_type": "stream",
     "text": [
      "Proses Keypoints Lutut Turun:  73%|███████▎  | 44/60 [06:53<02:06,  7.92s/it]"
     ]
    },
    {
     "name": "stdout",
     "output_type": "stream",
     "text": [
      "✅ Keypoint disimpan: keypoints_sublabeling_augmented\\Lutut Turun\\4_speed10.npy\n"
     ]
    },
    {
     "name": "stderr",
     "output_type": "stream",
     "text": [
      "Proses Keypoints Lutut Turun:  75%|███████▌  | 45/60 [06:58<01:46,  7.07s/it]"
     ]
    },
    {
     "name": "stdout",
     "output_type": "stream",
     "text": [
      "✅ Keypoint disimpan: keypoints_sublabeling_augmented\\Lutut Turun\\4_speed15.npy\n"
     ]
    },
    {
     "name": "stderr",
     "output_type": "stream",
     "text": [
      "Proses Keypoints Lutut Turun:  77%|███████▋  | 46/60 [07:08<01:53,  8.10s/it]"
     ]
    },
    {
     "name": "stdout",
     "output_type": "stream",
     "text": [
      "✅ Keypoint disimpan: keypoints_sublabeling_augmented\\Lutut Turun\\5_speed05.npy\n"
     ]
    },
    {
     "name": "stderr",
     "output_type": "stream",
     "text": [
      "Proses Keypoints Lutut Turun:  78%|███████▊  | 47/60 [07:13<01:34,  7.27s/it]"
     ]
    },
    {
     "name": "stdout",
     "output_type": "stream",
     "text": [
      "✅ Keypoint disimpan: keypoints_sublabeling_augmented\\Lutut Turun\\5_speed10.npy\n"
     ]
    },
    {
     "name": "stderr",
     "output_type": "stream",
     "text": [
      "Proses Keypoints Lutut Turun:  80%|████████  | 48/60 [07:19<01:20,  6.67s/it]"
     ]
    },
    {
     "name": "stdout",
     "output_type": "stream",
     "text": [
      "✅ Keypoint disimpan: keypoints_sublabeling_augmented\\Lutut Turun\\5_speed15.npy\n"
     ]
    },
    {
     "name": "stderr",
     "output_type": "stream",
     "text": [
      "Proses Keypoints Lutut Turun:  82%|████████▏ | 49/60 [07:27<01:19,  7.22s/it]"
     ]
    },
    {
     "name": "stdout",
     "output_type": "stream",
     "text": [
      "✅ Keypoint disimpan: keypoints_sublabeling_augmented\\Lutut Turun\\6_speed05.npy\n"
     ]
    },
    {
     "name": "stderr",
     "output_type": "stream",
     "text": [
      "Proses Keypoints Lutut Turun:  83%|████████▎ | 50/60 [07:31<01:03,  6.32s/it]"
     ]
    },
    {
     "name": "stdout",
     "output_type": "stream",
     "text": [
      "✅ Keypoint disimpan: keypoints_sublabeling_augmented\\Lutut Turun\\6_speed10.npy\n"
     ]
    },
    {
     "name": "stderr",
     "output_type": "stream",
     "text": [
      "Proses Keypoints Lutut Turun:  85%|████████▌ | 51/60 [07:36<00:51,  5.70s/it]"
     ]
    },
    {
     "name": "stdout",
     "output_type": "stream",
     "text": [
      "✅ Keypoint disimpan: keypoints_sublabeling_augmented\\Lutut Turun\\6_speed15.npy\n"
     ]
    },
    {
     "name": "stderr",
     "output_type": "stream",
     "text": [
      "Proses Keypoints Lutut Turun:  87%|████████▋ | 52/60 [07:50<01:05,  8.15s/it]"
     ]
    },
    {
     "name": "stdout",
     "output_type": "stream",
     "text": [
      "✅ Keypoint disimpan: keypoints_sublabeling_augmented\\Lutut Turun\\7_speed05.npy\n"
     ]
    },
    {
     "name": "stderr",
     "output_type": "stream",
     "text": [
      "Proses Keypoints Lutut Turun:  88%|████████▊ | 53/60 [07:56<00:53,  7.70s/it]"
     ]
    },
    {
     "name": "stdout",
     "output_type": "stream",
     "text": [
      "✅ Keypoint disimpan: keypoints_sublabeling_augmented\\Lutut Turun\\7_speed10.npy\n"
     ]
    },
    {
     "name": "stderr",
     "output_type": "stream",
     "text": [
      "Proses Keypoints Lutut Turun:  90%|█████████ | 54/60 [08:03<00:44,  7.34s/it]"
     ]
    },
    {
     "name": "stdout",
     "output_type": "stream",
     "text": [
      "✅ Keypoint disimpan: keypoints_sublabeling_augmented\\Lutut Turun\\7_speed15.npy\n"
     ]
    },
    {
     "name": "stderr",
     "output_type": "stream",
     "text": [
      "Proses Keypoints Lutut Turun:  92%|█████████▏| 55/60 [08:15<00:44,  8.94s/it]"
     ]
    },
    {
     "name": "stdout",
     "output_type": "stream",
     "text": [
      "✅ Keypoint disimpan: keypoints_sublabeling_augmented\\Lutut Turun\\8_speed05.npy\n"
     ]
    },
    {
     "name": "stderr",
     "output_type": "stream",
     "text": [
      "Proses Keypoints Lutut Turun:  93%|█████████▎| 56/60 [08:22<00:32,  8.15s/it]"
     ]
    },
    {
     "name": "stdout",
     "output_type": "stream",
     "text": [
      "✅ Keypoint disimpan: keypoints_sublabeling_augmented\\Lutut Turun\\8_speed10.npy\n"
     ]
    },
    {
     "name": "stderr",
     "output_type": "stream",
     "text": [
      "Proses Keypoints Lutut Turun:  95%|█████████▌| 57/60 [08:28<00:22,  7.62s/it]"
     ]
    },
    {
     "name": "stdout",
     "output_type": "stream",
     "text": [
      "✅ Keypoint disimpan: keypoints_sublabeling_augmented\\Lutut Turun\\8_speed15.npy\n"
     ]
    },
    {
     "name": "stderr",
     "output_type": "stream",
     "text": [
      "Proses Keypoints Lutut Turun:  97%|█████████▋| 58/60 [08:39<00:17,  8.52s/it]"
     ]
    },
    {
     "name": "stdout",
     "output_type": "stream",
     "text": [
      "✅ Keypoint disimpan: keypoints_sublabeling_augmented\\Lutut Turun\\9_speed05.npy\n"
     ]
    },
    {
     "name": "stderr",
     "output_type": "stream",
     "text": [
      "Proses Keypoints Lutut Turun:  98%|█████████▊| 59/60 [08:44<00:07,  7.58s/it]"
     ]
    },
    {
     "name": "stdout",
     "output_type": "stream",
     "text": [
      "✅ Keypoint disimpan: keypoints_sublabeling_augmented\\Lutut Turun\\9_speed10.npy\n"
     ]
    },
    {
     "name": "stderr",
     "output_type": "stream",
     "text": [
      "Proses Keypoints Lutut Turun: 100%|██████████| 60/60 [08:49<00:00,  8.83s/it]\n"
     ]
    },
    {
     "name": "stdout",
     "output_type": "stream",
     "text": [
      "✅ Keypoint disimpan: keypoints_sublabeling_augmented\\Lutut Turun\\9_speed15.npy\n"
     ]
    },
    {
     "name": "stderr",
     "output_type": "stream",
     "text": [
      "Proses Keypoints Naikan Kepalan Kedepan:   2%|▏         | 1/60 [00:13<12:49, 13.05s/it]"
     ]
    },
    {
     "name": "stdout",
     "output_type": "stream",
     "text": [
      "✅ Keypoint disimpan: keypoints_sublabeling_augmented\\Naikan Kepalan Kedepan\\10_speed05.npy\n"
     ]
    },
    {
     "name": "stderr",
     "output_type": "stream",
     "text": [
      "Proses Keypoints Naikan Kepalan Kedepan:   3%|▎         | 2/60 [00:19<08:55,  9.23s/it]"
     ]
    },
    {
     "name": "stdout",
     "output_type": "stream",
     "text": [
      "✅ Keypoint disimpan: keypoints_sublabeling_augmented\\Naikan Kepalan Kedepan\\10_speed10.npy\n"
     ]
    },
    {
     "name": "stderr",
     "output_type": "stream",
     "text": [
      "Proses Keypoints Naikan Kepalan Kedepan:   5%|▌         | 3/60 [00:26<07:36,  8.01s/it]"
     ]
    },
    {
     "name": "stdout",
     "output_type": "stream",
     "text": [
      "✅ Keypoint disimpan: keypoints_sublabeling_augmented\\Naikan Kepalan Kedepan\\10_speed15.npy\n"
     ]
    },
    {
     "name": "stderr",
     "output_type": "stream",
     "text": [
      "Proses Keypoints Naikan Kepalan Kedepan:   7%|▋         | 4/60 [00:35<07:53,  8.46s/it]"
     ]
    },
    {
     "name": "stdout",
     "output_type": "stream",
     "text": [
      "✅ Keypoint disimpan: keypoints_sublabeling_augmented\\Naikan Kepalan Kedepan\\11_speed05.npy\n"
     ]
    },
    {
     "name": "stderr",
     "output_type": "stream",
     "text": [
      "Proses Keypoints Naikan Kepalan Kedepan:   8%|▊         | 5/60 [00:39<06:28,  7.07s/it]"
     ]
    },
    {
     "name": "stdout",
     "output_type": "stream",
     "text": [
      "✅ Keypoint disimpan: keypoints_sublabeling_augmented\\Naikan Kepalan Kedepan\\11_speed10.npy\n"
     ]
    },
    {
     "name": "stderr",
     "output_type": "stream",
     "text": [
      "Proses Keypoints Naikan Kepalan Kedepan:  10%|█         | 6/60 [00:44<05:35,  6.21s/it]"
     ]
    },
    {
     "name": "stdout",
     "output_type": "stream",
     "text": [
      "✅ Keypoint disimpan: keypoints_sublabeling_augmented\\Naikan Kepalan Kedepan\\11_speed15.npy\n"
     ]
    },
    {
     "name": "stderr",
     "output_type": "stream",
     "text": [
      "Proses Keypoints Naikan Kepalan Kedepan:  12%|█▏        | 7/60 [00:57<07:24,  8.39s/it]"
     ]
    },
    {
     "name": "stdout",
     "output_type": "stream",
     "text": [
      "✅ Keypoint disimpan: keypoints_sublabeling_augmented\\Naikan Kepalan Kedepan\\12_speed05.npy\n"
     ]
    },
    {
     "name": "stderr",
     "output_type": "stream",
     "text": [
      "Proses Keypoints Naikan Kepalan Kedepan:  13%|█▎        | 8/60 [01:04<06:49,  7.88s/it]"
     ]
    },
    {
     "name": "stdout",
     "output_type": "stream",
     "text": [
      "✅ Keypoint disimpan: keypoints_sublabeling_augmented\\Naikan Kepalan Kedepan\\12_speed10.npy\n"
     ]
    },
    {
     "name": "stderr",
     "output_type": "stream",
     "text": [
      "Proses Keypoints Naikan Kepalan Kedepan:  15%|█▌        | 9/60 [01:10<06:22,  7.51s/it]"
     ]
    },
    {
     "name": "stdout",
     "output_type": "stream",
     "text": [
      "✅ Keypoint disimpan: keypoints_sublabeling_augmented\\Naikan Kepalan Kedepan\\12_speed15.npy\n"
     ]
    },
    {
     "name": "stderr",
     "output_type": "stream",
     "text": [
      "Proses Keypoints Naikan Kepalan Kedepan:  17%|█▋        | 10/60 [01:25<08:01,  9.64s/it]"
     ]
    },
    {
     "name": "stdout",
     "output_type": "stream",
     "text": [
      "✅ Keypoint disimpan: keypoints_sublabeling_augmented\\Naikan Kepalan Kedepan\\13_speed05.npy\n"
     ]
    },
    {
     "name": "stderr",
     "output_type": "stream",
     "text": [
      "Proses Keypoints Naikan Kepalan Kedepan:  18%|█▊        | 11/60 [01:32<07:14,  8.88s/it]"
     ]
    },
    {
     "name": "stdout",
     "output_type": "stream",
     "text": [
      "✅ Keypoint disimpan: keypoints_sublabeling_augmented\\Naikan Kepalan Kedepan\\13_speed10.npy\n"
     ]
    },
    {
     "name": "stderr",
     "output_type": "stream",
     "text": [
      "Proses Keypoints Naikan Kepalan Kedepan:  20%|██        | 12/60 [01:39<06:41,  8.36s/it]"
     ]
    },
    {
     "name": "stdout",
     "output_type": "stream",
     "text": [
      "✅ Keypoint disimpan: keypoints_sublabeling_augmented\\Naikan Kepalan Kedepan\\13_speed15.npy\n"
     ]
    },
    {
     "name": "stderr",
     "output_type": "stream",
     "text": [
      "Proses Keypoints Naikan Kepalan Kedepan:  22%|██▏       | 13/60 [01:53<07:47,  9.95s/it]"
     ]
    },
    {
     "name": "stdout",
     "output_type": "stream",
     "text": [
      "✅ Keypoint disimpan: keypoints_sublabeling_augmented\\Naikan Kepalan Kedepan\\14_speed05.npy\n"
     ]
    },
    {
     "name": "stderr",
     "output_type": "stream",
     "text": [
      "Proses Keypoints Naikan Kepalan Kedepan:  23%|██▎       | 14/60 [01:59<06:53,  8.99s/it]"
     ]
    },
    {
     "name": "stdout",
     "output_type": "stream",
     "text": [
      "✅ Keypoint disimpan: keypoints_sublabeling_augmented\\Naikan Kepalan Kedepan\\14_speed10.npy\n"
     ]
    },
    {
     "name": "stderr",
     "output_type": "stream",
     "text": [
      "Proses Keypoints Naikan Kepalan Kedepan:  25%|██▌       | 15/60 [02:06<06:14,  8.32s/it]"
     ]
    },
    {
     "name": "stdout",
     "output_type": "stream",
     "text": [
      "✅ Keypoint disimpan: keypoints_sublabeling_augmented\\Naikan Kepalan Kedepan\\14_speed15.npy\n"
     ]
    },
    {
     "name": "stderr",
     "output_type": "stream",
     "text": [
      "Proses Keypoints Naikan Kepalan Kedepan:  27%|██▋       | 16/60 [02:20<07:14,  9.87s/it]"
     ]
    },
    {
     "name": "stdout",
     "output_type": "stream",
     "text": [
      "✅ Keypoint disimpan: keypoints_sublabeling_augmented\\Naikan Kepalan Kedepan\\15_speed05.npy\n"
     ]
    },
    {
     "name": "stderr",
     "output_type": "stream",
     "text": [
      "Proses Keypoints Naikan Kepalan Kedepan:  28%|██▊       | 17/60 [02:26<06:24,  8.94s/it]"
     ]
    },
    {
     "name": "stdout",
     "output_type": "stream",
     "text": [
      "✅ Keypoint disimpan: keypoints_sublabeling_augmented\\Naikan Kepalan Kedepan\\15_speed10.npy\n"
     ]
    },
    {
     "name": "stderr",
     "output_type": "stream",
     "text": [
      "Proses Keypoints Naikan Kepalan Kedepan:  30%|███       | 18/60 [02:33<05:47,  8.27s/it]"
     ]
    },
    {
     "name": "stdout",
     "output_type": "stream",
     "text": [
      "✅ Keypoint disimpan: keypoints_sublabeling_augmented\\Naikan Kepalan Kedepan\\15_speed15.npy\n"
     ]
    },
    {
     "name": "stderr",
     "output_type": "stream",
     "text": [
      "Proses Keypoints Naikan Kepalan Kedepan:  32%|███▏      | 19/60 [02:47<06:43,  9.85s/it]"
     ]
    },
    {
     "name": "stdout",
     "output_type": "stream",
     "text": [
      "✅ Keypoint disimpan: keypoints_sublabeling_augmented\\Naikan Kepalan Kedepan\\16_speed05.npy\n"
     ]
    },
    {
     "name": "stderr",
     "output_type": "stream",
     "text": [
      "Proses Keypoints Naikan Kepalan Kedepan:  33%|███▎      | 20/60 [02:54<05:58,  8.95s/it]"
     ]
    },
    {
     "name": "stdout",
     "output_type": "stream",
     "text": [
      "✅ Keypoint disimpan: keypoints_sublabeling_augmented\\Naikan Kepalan Kedepan\\16_speed10.npy\n"
     ]
    },
    {
     "name": "stderr",
     "output_type": "stream",
     "text": [
      "Proses Keypoints Naikan Kepalan Kedepan:  35%|███▌      | 21/60 [03:00<05:23,  8.28s/it]"
     ]
    },
    {
     "name": "stdout",
     "output_type": "stream",
     "text": [
      "✅ Keypoint disimpan: keypoints_sublabeling_augmented\\Naikan Kepalan Kedepan\\16_speed15.npy\n"
     ]
    },
    {
     "name": "stderr",
     "output_type": "stream",
     "text": [
      "Proses Keypoints Naikan Kepalan Kedepan:  37%|███▋      | 22/60 [03:14<06:21, 10.04s/it]"
     ]
    },
    {
     "name": "stdout",
     "output_type": "stream",
     "text": [
      "✅ Keypoint disimpan: keypoints_sublabeling_augmented\\Naikan Kepalan Kedepan\\17_speed05.npy\n"
     ]
    },
    {
     "name": "stderr",
     "output_type": "stream",
     "text": [
      "Proses Keypoints Naikan Kepalan Kedepan:  38%|███▊      | 23/60 [03:21<05:38,  9.14s/it]"
     ]
    },
    {
     "name": "stdout",
     "output_type": "stream",
     "text": [
      "✅ Keypoint disimpan: keypoints_sublabeling_augmented\\Naikan Kepalan Kedepan\\17_speed10.npy\n"
     ]
    },
    {
     "name": "stderr",
     "output_type": "stream",
     "text": [
      "Proses Keypoints Naikan Kepalan Kedepan:  40%|████      | 24/60 [03:29<05:06,  8.52s/it]"
     ]
    },
    {
     "name": "stdout",
     "output_type": "stream",
     "text": [
      "✅ Keypoint disimpan: keypoints_sublabeling_augmented\\Naikan Kepalan Kedepan\\17_speed15.npy\n"
     ]
    },
    {
     "name": "stderr",
     "output_type": "stream",
     "text": [
      "Proses Keypoints Naikan Kepalan Kedepan:  42%|████▏     | 25/60 [03:41<05:43,  9.82s/it]"
     ]
    },
    {
     "name": "stdout",
     "output_type": "stream",
     "text": [
      "✅ Keypoint disimpan: keypoints_sublabeling_augmented\\Naikan Kepalan Kedepan\\18_speed05.npy\n"
     ]
    },
    {
     "name": "stderr",
     "output_type": "stream",
     "text": [
      "Proses Keypoints Naikan Kepalan Kedepan:  43%|████▎     | 26/60 [03:48<04:59,  8.82s/it]"
     ]
    },
    {
     "name": "stdout",
     "output_type": "stream",
     "text": [
      "✅ Keypoint disimpan: keypoints_sublabeling_augmented\\Naikan Kepalan Kedepan\\18_speed10.npy\n"
     ]
    },
    {
     "name": "stderr",
     "output_type": "stream",
     "text": [
      "Proses Keypoints Naikan Kepalan Kedepan:  45%|████▌     | 27/60 [03:54<04:27,  8.11s/it]"
     ]
    },
    {
     "name": "stdout",
     "output_type": "stream",
     "text": [
      "✅ Keypoint disimpan: keypoints_sublabeling_augmented\\Naikan Kepalan Kedepan\\18_speed15.npy\n"
     ]
    },
    {
     "name": "stderr",
     "output_type": "stream",
     "text": [
      "Proses Keypoints Naikan Kepalan Kedepan:  47%|████▋     | 28/60 [04:10<05:32, 10.38s/it]"
     ]
    },
    {
     "name": "stdout",
     "output_type": "stream",
     "text": [
      "✅ Keypoint disimpan: keypoints_sublabeling_augmented\\Naikan Kepalan Kedepan\\19_speed05.npy\n"
     ]
    },
    {
     "name": "stderr",
     "output_type": "stream",
     "text": [
      "Proses Keypoints Naikan Kepalan Kedepan:  48%|████▊     | 29/60 [04:18<04:58,  9.62s/it]"
     ]
    },
    {
     "name": "stdout",
     "output_type": "stream",
     "text": [
      "✅ Keypoint disimpan: keypoints_sublabeling_augmented\\Naikan Kepalan Kedepan\\19_speed10.npy\n"
     ]
    },
    {
     "name": "stderr",
     "output_type": "stream",
     "text": [
      "Proses Keypoints Naikan Kepalan Kedepan:  50%|█████     | 30/60 [04:26<04:34,  9.14s/it]"
     ]
    },
    {
     "name": "stdout",
     "output_type": "stream",
     "text": [
      "✅ Keypoint disimpan: keypoints_sublabeling_augmented\\Naikan Kepalan Kedepan\\19_speed15.npy\n"
     ]
    },
    {
     "name": "stderr",
     "output_type": "stream",
     "text": [
      "Proses Keypoints Naikan Kepalan Kedepan:  52%|█████▏    | 31/60 [04:35<04:22,  9.05s/it]"
     ]
    },
    {
     "name": "stdout",
     "output_type": "stream",
     "text": [
      "✅ Keypoint disimpan: keypoints_sublabeling_augmented\\Naikan Kepalan Kedepan\\1_speed05.npy\n"
     ]
    },
    {
     "name": "stderr",
     "output_type": "stream",
     "text": [
      "Proses Keypoints Naikan Kepalan Kedepan:  53%|█████▎    | 32/60 [04:39<03:35,  7.68s/it]"
     ]
    },
    {
     "name": "stdout",
     "output_type": "stream",
     "text": [
      "✅ Keypoint disimpan: keypoints_sublabeling_augmented\\Naikan Kepalan Kedepan\\1_speed10.npy\n"
     ]
    },
    {
     "name": "stderr",
     "output_type": "stream",
     "text": [
      "Proses Keypoints Naikan Kepalan Kedepan:  55%|█████▌    | 33/60 [04:44<03:01,  6.72s/it]"
     ]
    },
    {
     "name": "stdout",
     "output_type": "stream",
     "text": [
      "✅ Keypoint disimpan: keypoints_sublabeling_augmented\\Naikan Kepalan Kedepan\\1_speed15.npy\n"
     ]
    },
    {
     "name": "stderr",
     "output_type": "stream",
     "text": [
      "Proses Keypoints Naikan Kepalan Kedepan:  57%|█████▋    | 34/60 [04:59<03:58,  9.19s/it]"
     ]
    },
    {
     "name": "stdout",
     "output_type": "stream",
     "text": [
      "✅ Keypoint disimpan: keypoints_sublabeling_augmented\\Naikan Kepalan Kedepan\\20_speed05.npy\n"
     ]
    },
    {
     "name": "stderr",
     "output_type": "stream",
     "text": [
      "Proses Keypoints Naikan Kepalan Kedepan:  58%|█████▊    | 35/60 [05:06<03:34,  8.59s/it]"
     ]
    },
    {
     "name": "stdout",
     "output_type": "stream",
     "text": [
      "✅ Keypoint disimpan: keypoints_sublabeling_augmented\\Naikan Kepalan Kedepan\\20_speed10.npy\n"
     ]
    },
    {
     "name": "stderr",
     "output_type": "stream",
     "text": [
      "Proses Keypoints Naikan Kepalan Kedepan:  60%|██████    | 36/60 [05:13<03:16,  8.19s/it]"
     ]
    },
    {
     "name": "stdout",
     "output_type": "stream",
     "text": [
      "✅ Keypoint disimpan: keypoints_sublabeling_augmented\\Naikan Kepalan Kedepan\\20_speed15.npy\n"
     ]
    },
    {
     "name": "stderr",
     "output_type": "stream",
     "text": [
      "Proses Keypoints Naikan Kepalan Kedepan:  62%|██████▏   | 37/60 [05:25<03:35,  9.39s/it]"
     ]
    },
    {
     "name": "stdout",
     "output_type": "stream",
     "text": [
      "✅ Keypoint disimpan: keypoints_sublabeling_augmented\\Naikan Kepalan Kedepan\\2_speed05.npy\n"
     ]
    },
    {
     "name": "stderr",
     "output_type": "stream",
     "text": [
      "Proses Keypoints Naikan Kepalan Kedepan:  63%|██████▎   | 38/60 [05:31<03:04,  8.38s/it]"
     ]
    },
    {
     "name": "stdout",
     "output_type": "stream",
     "text": [
      "✅ Keypoint disimpan: keypoints_sublabeling_augmented\\Naikan Kepalan Kedepan\\2_speed10.npy\n"
     ]
    },
    {
     "name": "stderr",
     "output_type": "stream",
     "text": [
      "Proses Keypoints Naikan Kepalan Kedepan:  65%|██████▌   | 39/60 [05:37<02:41,  7.68s/it]"
     ]
    },
    {
     "name": "stdout",
     "output_type": "stream",
     "text": [
      "✅ Keypoint disimpan: keypoints_sublabeling_augmented\\Naikan Kepalan Kedepan\\2_speed15.npy\n"
     ]
    },
    {
     "name": "stderr",
     "output_type": "stream",
     "text": [
      "Proses Keypoints Naikan Kepalan Kedepan:  67%|██████▋   | 40/60 [05:47<02:46,  8.35s/it]"
     ]
    },
    {
     "name": "stdout",
     "output_type": "stream",
     "text": [
      "✅ Keypoint disimpan: keypoints_sublabeling_augmented\\Naikan Kepalan Kedepan\\3_speed05.npy\n"
     ]
    },
    {
     "name": "stderr",
     "output_type": "stream",
     "text": [
      "Proses Keypoints Naikan Kepalan Kedepan:  68%|██████▊   | 41/60 [05:52<02:20,  7.38s/it]"
     ]
    },
    {
     "name": "stdout",
     "output_type": "stream",
     "text": [
      "✅ Keypoint disimpan: keypoints_sublabeling_augmented\\Naikan Kepalan Kedepan\\3_speed10.npy\n"
     ]
    },
    {
     "name": "stderr",
     "output_type": "stream",
     "text": [
      "Proses Keypoints Naikan Kepalan Kedepan:  70%|███████   | 42/60 [05:57<01:59,  6.66s/it]"
     ]
    },
    {
     "name": "stdout",
     "output_type": "stream",
     "text": [
      "✅ Keypoint disimpan: keypoints_sublabeling_augmented\\Naikan Kepalan Kedepan\\3_speed15.npy\n"
     ]
    },
    {
     "name": "stderr",
     "output_type": "stream",
     "text": [
      "Proses Keypoints Naikan Kepalan Kedepan:  72%|███████▏  | 43/60 [06:10<02:23,  8.44s/it]"
     ]
    },
    {
     "name": "stdout",
     "output_type": "stream",
     "text": [
      "✅ Keypoint disimpan: keypoints_sublabeling_augmented\\Naikan Kepalan Kedepan\\4_speed05.npy\n"
     ]
    },
    {
     "name": "stderr",
     "output_type": "stream",
     "text": [
      "Proses Keypoints Naikan Kepalan Kedepan:  73%|███████▎  | 44/60 [06:16<02:04,  7.77s/it]"
     ]
    },
    {
     "name": "stdout",
     "output_type": "stream",
     "text": [
      "✅ Keypoint disimpan: keypoints_sublabeling_augmented\\Naikan Kepalan Kedepan\\4_speed10.npy\n"
     ]
    },
    {
     "name": "stderr",
     "output_type": "stream",
     "text": [
      "Proses Keypoints Naikan Kepalan Kedepan:  75%|███████▌  | 45/60 [06:22<01:49,  7.33s/it]"
     ]
    },
    {
     "name": "stdout",
     "output_type": "stream",
     "text": [
      "✅ Keypoint disimpan: keypoints_sublabeling_augmented\\Naikan Kepalan Kedepan\\4_speed15.npy\n"
     ]
    },
    {
     "name": "stderr",
     "output_type": "stream",
     "text": [
      "Proses Keypoints Naikan Kepalan Kedepan:  77%|███████▋  | 46/60 [06:46<02:48, 12.06s/it]"
     ]
    },
    {
     "name": "stdout",
     "output_type": "stream",
     "text": [
      "✅ Keypoint disimpan: keypoints_sublabeling_augmented\\Naikan Kepalan Kedepan\\5_speed05.npy\n"
     ]
    },
    {
     "name": "stderr",
     "output_type": "stream",
     "text": [
      "Proses Keypoints Naikan Kepalan Kedepan:  78%|███████▊  | 47/60 [06:57<02:34, 11.91s/it]"
     ]
    },
    {
     "name": "stdout",
     "output_type": "stream",
     "text": [
      "✅ Keypoint disimpan: keypoints_sublabeling_augmented\\Naikan Kepalan Kedepan\\5_speed10.npy\n"
     ]
    },
    {
     "name": "stderr",
     "output_type": "stream",
     "text": [
      "Proses Keypoints Naikan Kepalan Kedepan:  80%|████████  | 48/60 [07:09<02:21, 11.83s/it]"
     ]
    },
    {
     "name": "stdout",
     "output_type": "stream",
     "text": [
      "✅ Keypoint disimpan: keypoints_sublabeling_augmented\\Naikan Kepalan Kedepan\\5_speed15.npy\n"
     ]
    },
    {
     "name": "stderr",
     "output_type": "stream",
     "text": [
      "Proses Keypoints Naikan Kepalan Kedepan:  82%|████████▏ | 49/60 [07:32<02:47, 15.21s/it]"
     ]
    },
    {
     "name": "stdout",
     "output_type": "stream",
     "text": [
      "✅ Keypoint disimpan: keypoints_sublabeling_augmented\\Naikan Kepalan Kedepan\\6_speed05.npy\n"
     ]
    },
    {
     "name": "stderr",
     "output_type": "stream",
     "text": [
      "Proses Keypoints Naikan Kepalan Kedepan:  83%|████████▎ | 50/60 [07:43<02:21, 14.14s/it]"
     ]
    },
    {
     "name": "stdout",
     "output_type": "stream",
     "text": [
      "✅ Keypoint disimpan: keypoints_sublabeling_augmented\\Naikan Kepalan Kedepan\\6_speed10.npy\n"
     ]
    },
    {
     "name": "stderr",
     "output_type": "stream",
     "text": [
      "Proses Keypoints Naikan Kepalan Kedepan:  85%|████████▌ | 51/60 [07:55<02:00, 13.43s/it]"
     ]
    },
    {
     "name": "stdout",
     "output_type": "stream",
     "text": [
      "✅ Keypoint disimpan: keypoints_sublabeling_augmented\\Naikan Kepalan Kedepan\\6_speed15.npy\n"
     ]
    },
    {
     "name": "stderr",
     "output_type": "stream",
     "text": [
      "Proses Keypoints Naikan Kepalan Kedepan:  87%|████████▋ | 52/60 [08:13<01:58, 14.83s/it]"
     ]
    },
    {
     "name": "stdout",
     "output_type": "stream",
     "text": [
      "✅ Keypoint disimpan: keypoints_sublabeling_augmented\\Naikan Kepalan Kedepan\\7_speed05.npy\n"
     ]
    },
    {
     "name": "stderr",
     "output_type": "stream",
     "text": [
      "Proses Keypoints Naikan Kepalan Kedepan:  88%|████████▊ | 53/60 [08:22<01:31, 13.10s/it]"
     ]
    },
    {
     "name": "stdout",
     "output_type": "stream",
     "text": [
      "✅ Keypoint disimpan: keypoints_sublabeling_augmented\\Naikan Kepalan Kedepan\\7_speed10.npy\n"
     ]
    },
    {
     "name": "stderr",
     "output_type": "stream",
     "text": [
      "Proses Keypoints Naikan Kepalan Kedepan:  90%|█████████ | 54/60 [08:32<01:12, 12.00s/it]"
     ]
    },
    {
     "name": "stdout",
     "output_type": "stream",
     "text": [
      "✅ Keypoint disimpan: keypoints_sublabeling_augmented\\Naikan Kepalan Kedepan\\7_speed15.npy\n"
     ]
    },
    {
     "name": "stderr",
     "output_type": "stream",
     "text": [
      "Proses Keypoints Naikan Kepalan Kedepan:  92%|█████████▏| 55/60 [08:44<00:59, 11.95s/it]"
     ]
    },
    {
     "name": "stdout",
     "output_type": "stream",
     "text": [
      "✅ Keypoint disimpan: keypoints_sublabeling_augmented\\Naikan Kepalan Kedepan\\8_speed05.npy\n"
     ]
    },
    {
     "name": "stderr",
     "output_type": "stream",
     "text": [
      "Proses Keypoints Naikan Kepalan Kedepan:  93%|█████████▎| 56/60 [08:50<00:40, 10.18s/it]"
     ]
    },
    {
     "name": "stdout",
     "output_type": "stream",
     "text": [
      "✅ Keypoint disimpan: keypoints_sublabeling_augmented\\Naikan Kepalan Kedepan\\8_speed10.npy\n"
     ]
    },
    {
     "name": "stderr",
     "output_type": "stream",
     "text": [
      "Proses Keypoints Naikan Kepalan Kedepan:  95%|█████████▌| 57/60 [08:56<00:26,  8.92s/it]"
     ]
    },
    {
     "name": "stdout",
     "output_type": "stream",
     "text": [
      "✅ Keypoint disimpan: keypoints_sublabeling_augmented\\Naikan Kepalan Kedepan\\8_speed15.npy\n"
     ]
    },
    {
     "name": "stderr",
     "output_type": "stream",
     "text": [
      "Proses Keypoints Naikan Kepalan Kedepan:  97%|█████████▋| 58/60 [09:10<00:21, 10.58s/it]"
     ]
    },
    {
     "name": "stdout",
     "output_type": "stream",
     "text": [
      "✅ Keypoint disimpan: keypoints_sublabeling_augmented\\Naikan Kepalan Kedepan\\9_speed05.npy\n"
     ]
    },
    {
     "name": "stderr",
     "output_type": "stream",
     "text": [
      "Proses Keypoints Naikan Kepalan Kedepan:  98%|█████████▊| 59/60 [09:18<00:09,  9.60s/it]"
     ]
    },
    {
     "name": "stdout",
     "output_type": "stream",
     "text": [
      "✅ Keypoint disimpan: keypoints_sublabeling_augmented\\Naikan Kepalan Kedepan\\9_speed10.npy\n"
     ]
    },
    {
     "name": "stderr",
     "output_type": "stream",
     "text": [
      "Proses Keypoints Naikan Kepalan Kedepan: 100%|██████████| 60/60 [09:25<00:00,  9.42s/it]\n"
     ]
    },
    {
     "name": "stdout",
     "output_type": "stream",
     "text": [
      "✅ Keypoint disimpan: keypoints_sublabeling_augmented\\Naikan Kepalan Kedepan\\9_speed15.npy\n"
     ]
    },
    {
     "name": "stderr",
     "output_type": "stream",
     "text": [
      "Proses Keypoints Rentangkan:   2%|▏         | 1/60 [00:12<12:28, 12.69s/it]"
     ]
    },
    {
     "name": "stdout",
     "output_type": "stream",
     "text": [
      "✅ Keypoint disimpan: keypoints_sublabeling_augmented\\Rentangkan\\10_speed05.npy\n"
     ]
    },
    {
     "name": "stderr",
     "output_type": "stream",
     "text": [
      "Proses Keypoints Rentangkan:   3%|▎         | 2/60 [00:19<08:42,  9.01s/it]"
     ]
    },
    {
     "name": "stdout",
     "output_type": "stream",
     "text": [
      "✅ Keypoint disimpan: keypoints_sublabeling_augmented\\Rentangkan\\10_speed10.npy\n"
     ]
    },
    {
     "name": "stderr",
     "output_type": "stream",
     "text": [
      "Proses Keypoints Rentangkan:   5%|▌         | 3/60 [00:25<07:26,  7.84s/it]"
     ]
    },
    {
     "name": "stdout",
     "output_type": "stream",
     "text": [
      "✅ Keypoint disimpan: keypoints_sublabeling_augmented\\Rentangkan\\10_speed15.npy\n"
     ]
    },
    {
     "name": "stderr",
     "output_type": "stream",
     "text": [
      "Proses Keypoints Rentangkan:   7%|▋         | 4/60 [00:31<06:46,  7.26s/it]"
     ]
    },
    {
     "name": "stdout",
     "output_type": "stream",
     "text": [
      "✅ Keypoint disimpan: keypoints_sublabeling_augmented\\Rentangkan\\11_speed05.npy\n"
     ]
    },
    {
     "name": "stderr",
     "output_type": "stream",
     "text": [
      "Proses Keypoints Rentangkan:   8%|▊         | 5/60 [00:35<05:17,  5.78s/it]"
     ]
    },
    {
     "name": "stdout",
     "output_type": "stream",
     "text": [
      "✅ Keypoint disimpan: keypoints_sublabeling_augmented\\Rentangkan\\11_speed10.npy\n"
     ]
    },
    {
     "name": "stderr",
     "output_type": "stream",
     "text": [
      "Proses Keypoints Rentangkan:  10%|█         | 6/60 [00:38<04:24,  4.90s/it]"
     ]
    },
    {
     "name": "stdout",
     "output_type": "stream",
     "text": [
      "✅ Keypoint disimpan: keypoints_sublabeling_augmented\\Rentangkan\\11_speed15.npy\n"
     ]
    },
    {
     "name": "stderr",
     "output_type": "stream",
     "text": [
      "Proses Keypoints Rentangkan:  12%|█▏        | 7/60 [00:48<05:51,  6.64s/it]"
     ]
    },
    {
     "name": "stdout",
     "output_type": "stream",
     "text": [
      "✅ Keypoint disimpan: keypoints_sublabeling_augmented\\Rentangkan\\12_speed05.npy\n"
     ]
    },
    {
     "name": "stderr",
     "output_type": "stream",
     "text": [
      "Proses Keypoints Rentangkan:  13%|█▎        | 8/60 [00:53<05:19,  6.15s/it]"
     ]
    },
    {
     "name": "stdout",
     "output_type": "stream",
     "text": [
      "✅ Keypoint disimpan: keypoints_sublabeling_augmented\\Rentangkan\\12_speed10.npy\n"
     ]
    },
    {
     "name": "stderr",
     "output_type": "stream",
     "text": [
      "Proses Keypoints Rentangkan:  15%|█▌        | 9/60 [00:58<04:58,  5.85s/it]"
     ]
    },
    {
     "name": "stdout",
     "output_type": "stream",
     "text": [
      "✅ Keypoint disimpan: keypoints_sublabeling_augmented\\Rentangkan\\12_speed15.npy\n"
     ]
    },
    {
     "name": "stderr",
     "output_type": "stream",
     "text": [
      "Proses Keypoints Rentangkan:  17%|█▋        | 10/60 [01:11<06:30,  7.82s/it]"
     ]
    },
    {
     "name": "stdout",
     "output_type": "stream",
     "text": [
      "✅ Keypoint disimpan: keypoints_sublabeling_augmented\\Rentangkan\\13_speed05.npy\n"
     ]
    },
    {
     "name": "stderr",
     "output_type": "stream",
     "text": [
      "Proses Keypoints Rentangkan:  18%|█▊        | 11/60 [01:17<05:58,  7.31s/it]"
     ]
    },
    {
     "name": "stdout",
     "output_type": "stream",
     "text": [
      "✅ Keypoint disimpan: keypoints_sublabeling_augmented\\Rentangkan\\13_speed10.npy\n"
     ]
    },
    {
     "name": "stderr",
     "output_type": "stream",
     "text": [
      "Proses Keypoints Rentangkan:  20%|██        | 12/60 [01:23<05:33,  6.94s/it]"
     ]
    },
    {
     "name": "stdout",
     "output_type": "stream",
     "text": [
      "✅ Keypoint disimpan: keypoints_sublabeling_augmented\\Rentangkan\\13_speed15.npy\n"
     ]
    },
    {
     "name": "stderr",
     "output_type": "stream",
     "text": [
      "Proses Keypoints Rentangkan:  22%|██▏       | 13/60 [01:35<06:34,  8.39s/it]"
     ]
    },
    {
     "name": "stdout",
     "output_type": "stream",
     "text": [
      "✅ Keypoint disimpan: keypoints_sublabeling_augmented\\Rentangkan\\14_speed05.npy\n"
     ]
    },
    {
     "name": "stderr",
     "output_type": "stream",
     "text": [
      "Proses Keypoints Rentangkan:  23%|██▎       | 14/60 [01:40<05:50,  7.63s/it]"
     ]
    },
    {
     "name": "stdout",
     "output_type": "stream",
     "text": [
      "✅ Keypoint disimpan: keypoints_sublabeling_augmented\\Rentangkan\\14_speed10.npy\n"
     ]
    },
    {
     "name": "stderr",
     "output_type": "stream",
     "text": [
      "Proses Keypoints Rentangkan:  25%|██▌       | 15/60 [01:46<05:20,  7.11s/it]"
     ]
    },
    {
     "name": "stdout",
     "output_type": "stream",
     "text": [
      "✅ Keypoint disimpan: keypoints_sublabeling_augmented\\Rentangkan\\14_speed15.npy\n"
     ]
    },
    {
     "name": "stderr",
     "output_type": "stream",
     "text": [
      "Proses Keypoints Rentangkan:  27%|██▋       | 16/60 [01:58<06:15,  8.54s/it]"
     ]
    },
    {
     "name": "stdout",
     "output_type": "stream",
     "text": [
      "✅ Keypoint disimpan: keypoints_sublabeling_augmented\\Rentangkan\\15_speed05.npy\n"
     ]
    },
    {
     "name": "stderr",
     "output_type": "stream",
     "text": [
      "Proses Keypoints Rentangkan:  28%|██▊       | 17/60 [02:04<05:33,  7.75s/it]"
     ]
    },
    {
     "name": "stdout",
     "output_type": "stream",
     "text": [
      "✅ Keypoint disimpan: keypoints_sublabeling_augmented\\Rentangkan\\15_speed10.npy\n"
     ]
    },
    {
     "name": "stderr",
     "output_type": "stream",
     "text": [
      "Proses Keypoints Rentangkan:  30%|███       | 18/60 [02:10<05:02,  7.20s/it]"
     ]
    },
    {
     "name": "stdout",
     "output_type": "stream",
     "text": [
      "✅ Keypoint disimpan: keypoints_sublabeling_augmented\\Rentangkan\\15_speed15.npy\n"
     ]
    },
    {
     "name": "stderr",
     "output_type": "stream",
     "text": [
      "Proses Keypoints Rentangkan:  32%|███▏      | 19/60 [02:21<05:44,  8.41s/it]"
     ]
    },
    {
     "name": "stdout",
     "output_type": "stream",
     "text": [
      "✅ Keypoint disimpan: keypoints_sublabeling_augmented\\Rentangkan\\16_speed05.npy\n"
     ]
    },
    {
     "name": "stderr",
     "output_type": "stream",
     "text": [
      "Proses Keypoints Rentangkan:  33%|███▎      | 20/60 [02:27<05:03,  7.59s/it]"
     ]
    },
    {
     "name": "stdout",
     "output_type": "stream",
     "text": [
      "✅ Keypoint disimpan: keypoints_sublabeling_augmented\\Rentangkan\\16_speed10.npy\n"
     ]
    },
    {
     "name": "stderr",
     "output_type": "stream",
     "text": [
      "Proses Keypoints Rentangkan:  35%|███▌      | 21/60 [02:32<04:32,  6.99s/it]"
     ]
    },
    {
     "name": "stdout",
     "output_type": "stream",
     "text": [
      "✅ Keypoint disimpan: keypoints_sublabeling_augmented\\Rentangkan\\16_speed15.npy\n"
     ]
    },
    {
     "name": "stderr",
     "output_type": "stream",
     "text": [
      "Proses Keypoints Rentangkan:  37%|███▋      | 22/60 [02:45<05:33,  8.78s/it]"
     ]
    },
    {
     "name": "stdout",
     "output_type": "stream",
     "text": [
      "✅ Keypoint disimpan: keypoints_sublabeling_augmented\\Rentangkan\\17_speed05.npy\n"
     ]
    },
    {
     "name": "stderr",
     "output_type": "stream",
     "text": [
      "Proses Keypoints Rentangkan:  38%|███▊      | 23/60 [02:52<05:00,  8.12s/it]"
     ]
    },
    {
     "name": "stdout",
     "output_type": "stream",
     "text": [
      "✅ Keypoint disimpan: keypoints_sublabeling_augmented\\Rentangkan\\17_speed10.npy\n"
     ]
    },
    {
     "name": "stderr",
     "output_type": "stream",
     "text": [
      "Proses Keypoints Rentangkan:  40%|████      | 24/60 [02:59<04:35,  7.65s/it]"
     ]
    },
    {
     "name": "stdout",
     "output_type": "stream",
     "text": [
      "✅ Keypoint disimpan: keypoints_sublabeling_augmented\\Rentangkan\\17_speed15.npy\n"
     ]
    },
    {
     "name": "stderr",
     "output_type": "stream",
     "text": [
      "Proses Keypoints Rentangkan:  42%|████▏     | 25/60 [03:09<04:56,  8.47s/it]"
     ]
    },
    {
     "name": "stdout",
     "output_type": "stream",
     "text": [
      "✅ Keypoint disimpan: keypoints_sublabeling_augmented\\Rentangkan\\18_speed05.npy\n"
     ]
    },
    {
     "name": "stderr",
     "output_type": "stream",
     "text": [
      "Proses Keypoints Rentangkan:  43%|████▎     | 26/60 [03:14<04:14,  7.48s/it]"
     ]
    },
    {
     "name": "stdout",
     "output_type": "stream",
     "text": [
      "✅ Keypoint disimpan: keypoints_sublabeling_augmented\\Rentangkan\\18_speed10.npy\n"
     ]
    },
    {
     "name": "stderr",
     "output_type": "stream",
     "text": [
      "Proses Keypoints Rentangkan:  45%|████▌     | 27/60 [03:19<03:44,  6.80s/it]"
     ]
    },
    {
     "name": "stdout",
     "output_type": "stream",
     "text": [
      "✅ Keypoint disimpan: keypoints_sublabeling_augmented\\Rentangkan\\18_speed15.npy\n"
     ]
    },
    {
     "name": "stderr",
     "output_type": "stream",
     "text": [
      "Proses Keypoints Rentangkan:  47%|████▋     | 28/60 [03:29<04:04,  7.63s/it]"
     ]
    },
    {
     "name": "stdout",
     "output_type": "stream",
     "text": [
      "✅ Keypoint disimpan: keypoints_sublabeling_augmented\\Rentangkan\\19_speed05.npy\n"
     ]
    },
    {
     "name": "stderr",
     "output_type": "stream",
     "text": [
      "Proses Keypoints Rentangkan:  48%|████▊     | 29/60 [03:34<03:29,  6.77s/it]"
     ]
    },
    {
     "name": "stdout",
     "output_type": "stream",
     "text": [
      "✅ Keypoint disimpan: keypoints_sublabeling_augmented\\Rentangkan\\19_speed10.npy\n"
     ]
    },
    {
     "name": "stderr",
     "output_type": "stream",
     "text": [
      "Proses Keypoints Rentangkan:  50%|█████     | 30/60 [03:38<03:05,  6.17s/it]"
     ]
    },
    {
     "name": "stdout",
     "output_type": "stream",
     "text": [
      "✅ Keypoint disimpan: keypoints_sublabeling_augmented\\Rentangkan\\19_speed15.npy\n"
     ]
    },
    {
     "name": "stderr",
     "output_type": "stream",
     "text": [
      "Proses Keypoints Rentangkan:  52%|█████▏    | 31/60 [03:46<03:12,  6.63s/it]"
     ]
    },
    {
     "name": "stdout",
     "output_type": "stream",
     "text": [
      "✅ Keypoint disimpan: keypoints_sublabeling_augmented\\Rentangkan\\1_speed05.npy\n"
     ]
    },
    {
     "name": "stderr",
     "output_type": "stream",
     "text": [
      "Proses Keypoints Rentangkan:  53%|█████▎    | 32/60 [03:50<02:42,  5.80s/it]"
     ]
    },
    {
     "name": "stdout",
     "output_type": "stream",
     "text": [
      "✅ Keypoint disimpan: keypoints_sublabeling_augmented\\Rentangkan\\1_speed10.npy\n"
     ]
    },
    {
     "name": "stderr",
     "output_type": "stream",
     "text": [
      "Proses Keypoints Rentangkan:  55%|█████▌    | 33/60 [03:54<02:20,  5.21s/it]"
     ]
    },
    {
     "name": "stdout",
     "output_type": "stream",
     "text": [
      "✅ Keypoint disimpan: keypoints_sublabeling_augmented\\Rentangkan\\1_speed15.npy\n"
     ]
    },
    {
     "name": "stderr",
     "output_type": "stream",
     "text": [
      "Proses Keypoints Rentangkan:  57%|█████▋    | 34/60 [04:05<02:59,  6.90s/it]"
     ]
    },
    {
     "name": "stdout",
     "output_type": "stream",
     "text": [
      "✅ Keypoint disimpan: keypoints_sublabeling_augmented\\Rentangkan\\20_speed05.npy\n"
     ]
    },
    {
     "name": "stderr",
     "output_type": "stream",
     "text": [
      "Proses Keypoints Rentangkan:  58%|█████▊    | 35/60 [04:10<02:42,  6.52s/it]"
     ]
    },
    {
     "name": "stdout",
     "output_type": "stream",
     "text": [
      "✅ Keypoint disimpan: keypoints_sublabeling_augmented\\Rentangkan\\20_speed10.npy\n"
     ]
    },
    {
     "name": "stderr",
     "output_type": "stream",
     "text": [
      "Proses Keypoints Rentangkan:  60%|██████    | 36/60 [04:16<02:29,  6.21s/it]"
     ]
    },
    {
     "name": "stdout",
     "output_type": "stream",
     "text": [
      "✅ Keypoint disimpan: keypoints_sublabeling_augmented\\Rentangkan\\20_speed15.npy\n"
     ]
    },
    {
     "name": "stderr",
     "output_type": "stream",
     "text": [
      "Proses Keypoints Rentangkan:  62%|██████▏   | 37/60 [04:25<02:44,  7.16s/it]"
     ]
    },
    {
     "name": "stdout",
     "output_type": "stream",
     "text": [
      "✅ Keypoint disimpan: keypoints_sublabeling_augmented\\Rentangkan\\2_speed05.npy\n"
     ]
    },
    {
     "name": "stderr",
     "output_type": "stream",
     "text": [
      "Proses Keypoints Rentangkan:  63%|██████▎   | 38/60 [04:30<02:21,  6.42s/it]"
     ]
    },
    {
     "name": "stdout",
     "output_type": "stream",
     "text": [
      "✅ Keypoint disimpan: keypoints_sublabeling_augmented\\Rentangkan\\2_speed10.npy\n"
     ]
    },
    {
     "name": "stderr",
     "output_type": "stream",
     "text": [
      "Proses Keypoints Rentangkan:  65%|██████▌   | 39/60 [04:35<02:04,  5.91s/it]"
     ]
    },
    {
     "name": "stdout",
     "output_type": "stream",
     "text": [
      "✅ Keypoint disimpan: keypoints_sublabeling_augmented\\Rentangkan\\2_speed15.npy\n"
     ]
    },
    {
     "name": "stderr",
     "output_type": "stream",
     "text": [
      "Proses Keypoints Rentangkan:  67%|██████▋   | 40/60 [04:42<02:07,  6.35s/it]"
     ]
    },
    {
     "name": "stdout",
     "output_type": "stream",
     "text": [
      "✅ Keypoint disimpan: keypoints_sublabeling_augmented\\Rentangkan\\3_speed05.npy\n"
     ]
    },
    {
     "name": "stderr",
     "output_type": "stream",
     "text": [
      "Proses Keypoints Rentangkan:  68%|██████▊   | 41/60 [04:46<01:45,  5.56s/it]"
     ]
    },
    {
     "name": "stdout",
     "output_type": "stream",
     "text": [
      "✅ Keypoint disimpan: keypoints_sublabeling_augmented\\Rentangkan\\3_speed10.npy\n"
     ]
    },
    {
     "name": "stderr",
     "output_type": "stream",
     "text": [
      "Proses Keypoints Rentangkan:  70%|███████   | 42/60 [04:49<01:30,  5.00s/it]"
     ]
    },
    {
     "name": "stdout",
     "output_type": "stream",
     "text": [
      "✅ Keypoint disimpan: keypoints_sublabeling_augmented\\Rentangkan\\3_speed15.npy\n"
     ]
    },
    {
     "name": "stderr",
     "output_type": "stream",
     "text": [
      "Proses Keypoints Rentangkan:  72%|███████▏  | 43/60 [05:00<01:51,  6.54s/it]"
     ]
    },
    {
     "name": "stdout",
     "output_type": "stream",
     "text": [
      "✅ Keypoint disimpan: keypoints_sublabeling_augmented\\Rentangkan\\4_speed05.npy\n"
     ]
    },
    {
     "name": "stderr",
     "output_type": "stream",
     "text": [
      "Proses Keypoints Rentangkan:  73%|███████▎  | 44/60 [05:05<01:37,  6.10s/it]"
     ]
    },
    {
     "name": "stdout",
     "output_type": "stream",
     "text": [
      "✅ Keypoint disimpan: keypoints_sublabeling_augmented\\Rentangkan\\4_speed10.npy\n"
     ]
    },
    {
     "name": "stderr",
     "output_type": "stream",
     "text": [
      "Proses Keypoints Rentangkan:  75%|███████▌  | 45/60 [05:10<01:26,  5.79s/it]"
     ]
    },
    {
     "name": "stdout",
     "output_type": "stream",
     "text": [
      "✅ Keypoint disimpan: keypoints_sublabeling_augmented\\Rentangkan\\4_speed15.npy\n"
     ]
    },
    {
     "name": "stderr",
     "output_type": "stream",
     "text": [
      "Proses Keypoints Rentangkan:  77%|███████▋  | 46/60 [05:23<01:53,  8.11s/it]"
     ]
    },
    {
     "name": "stdout",
     "output_type": "stream",
     "text": [
      "✅ Keypoint disimpan: keypoints_sublabeling_augmented\\Rentangkan\\5_speed05.npy\n"
     ]
    },
    {
     "name": "stderr",
     "output_type": "stream",
     "text": [
      "Proses Keypoints Rentangkan:  78%|███████▊  | 47/60 [05:30<01:39,  7.68s/it]"
     ]
    },
    {
     "name": "stdout",
     "output_type": "stream",
     "text": [
      "✅ Keypoint disimpan: keypoints_sublabeling_augmented\\Rentangkan\\5_speed10.npy\n"
     ]
    },
    {
     "name": "stderr",
     "output_type": "stream",
     "text": [
      "Proses Keypoints Rentangkan:  80%|████████  | 48/60 [05:37<01:28,  7.40s/it]"
     ]
    },
    {
     "name": "stdout",
     "output_type": "stream",
     "text": [
      "✅ Keypoint disimpan: keypoints_sublabeling_augmented\\Rentangkan\\5_speed15.npy\n"
     ]
    },
    {
     "name": "stderr",
     "output_type": "stream",
     "text": [
      "Proses Keypoints Rentangkan:  82%|████████▏ | 49/60 [05:54<01:54, 10.42s/it]"
     ]
    },
    {
     "name": "stdout",
     "output_type": "stream",
     "text": [
      "✅ Keypoint disimpan: keypoints_sublabeling_augmented\\Rentangkan\\6_speed05.npy\n"
     ]
    },
    {
     "name": "stderr",
     "output_type": "stream",
     "text": [
      "Proses Keypoints Rentangkan:  83%|████████▎ | 50/60 [06:03<01:39,  9.93s/it]"
     ]
    },
    {
     "name": "stdout",
     "output_type": "stream",
     "text": [
      "✅ Keypoint disimpan: keypoints_sublabeling_augmented\\Rentangkan\\6_speed10.npy\n"
     ]
    },
    {
     "name": "stderr",
     "output_type": "stream",
     "text": [
      "Proses Keypoints Rentangkan:  85%|████████▌ | 51/60 [06:12<01:26,  9.59s/it]"
     ]
    },
    {
     "name": "stdout",
     "output_type": "stream",
     "text": [
      "✅ Keypoint disimpan: keypoints_sublabeling_augmented\\Rentangkan\\6_speed15.npy\n"
     ]
    },
    {
     "name": "stderr",
     "output_type": "stream",
     "text": [
      "Proses Keypoints Rentangkan:  87%|████████▋ | 52/60 [06:24<01:23, 10.45s/it]"
     ]
    },
    {
     "name": "stdout",
     "output_type": "stream",
     "text": [
      "✅ Keypoint disimpan: keypoints_sublabeling_augmented\\Rentangkan\\7_speed05.npy\n"
     ]
    },
    {
     "name": "stderr",
     "output_type": "stream",
     "text": [
      "Proses Keypoints Rentangkan:  88%|████████▊ | 53/60 [06:30<01:04,  9.19s/it]"
     ]
    },
    {
     "name": "stdout",
     "output_type": "stream",
     "text": [
      "✅ Keypoint disimpan: keypoints_sublabeling_augmented\\Rentangkan\\7_speed10.npy\n"
     ]
    },
    {
     "name": "stderr",
     "output_type": "stream",
     "text": [
      "Proses Keypoints Rentangkan:  90%|█████████ | 54/60 [06:37<00:49,  8.30s/it]"
     ]
    },
    {
     "name": "stdout",
     "output_type": "stream",
     "text": [
      "✅ Keypoint disimpan: keypoints_sublabeling_augmented\\Rentangkan\\7_speed15.npy\n"
     ]
    },
    {
     "name": "stderr",
     "output_type": "stream",
     "text": [
      "Proses Keypoints Rentangkan:  92%|█████████▏| 55/60 [06:50<00:49,  9.88s/it]"
     ]
    },
    {
     "name": "stdout",
     "output_type": "stream",
     "text": [
      "✅ Keypoint disimpan: keypoints_sublabeling_augmented\\Rentangkan\\8_speed05.npy\n"
     ]
    },
    {
     "name": "stderr",
     "output_type": "stream",
     "text": [
      "Proses Keypoints Rentangkan:  93%|█████████▎| 56/60 [06:57<00:35,  8.96s/it]"
     ]
    },
    {
     "name": "stdout",
     "output_type": "stream",
     "text": [
      "✅ Keypoint disimpan: keypoints_sublabeling_augmented\\Rentangkan\\8_speed10.npy\n"
     ]
    },
    {
     "name": "stderr",
     "output_type": "stream",
     "text": [
      "Proses Keypoints Rentangkan:  95%|█████████▌| 57/60 [07:04<00:24,  8.32s/it]"
     ]
    },
    {
     "name": "stdout",
     "output_type": "stream",
     "text": [
      "✅ Keypoint disimpan: keypoints_sublabeling_augmented\\Rentangkan\\8_speed15.npy\n"
     ]
    },
    {
     "name": "stderr",
     "output_type": "stream",
     "text": [
      "Proses Keypoints Rentangkan:  97%|█████████▋| 58/60 [07:13<00:17,  8.53s/it]"
     ]
    },
    {
     "name": "stdout",
     "output_type": "stream",
     "text": [
      "✅ Keypoint disimpan: keypoints_sublabeling_augmented\\Rentangkan\\9_speed05.npy\n"
     ]
    },
    {
     "name": "stderr",
     "output_type": "stream",
     "text": [
      "Proses Keypoints Rentangkan:  98%|█████████▊| 59/60 [07:17<00:07,  7.34s/it]"
     ]
    },
    {
     "name": "stdout",
     "output_type": "stream",
     "text": [
      "✅ Keypoint disimpan: keypoints_sublabeling_augmented\\Rentangkan\\9_speed10.npy\n"
     ]
    },
    {
     "name": "stderr",
     "output_type": "stream",
     "text": [
      "Proses Keypoints Rentangkan: 100%|██████████| 60/60 [07:22<00:00,  7.37s/it]"
     ]
    },
    {
     "name": "stdout",
     "output_type": "stream",
     "text": [
      "✅ Keypoint disimpan: keypoints_sublabeling_augmented\\Rentangkan\\9_speed15.npy\n"
     ]
    },
    {
     "name": "stderr",
     "output_type": "stream",
     "text": [
      "\n"
     ]
    }
   ],
   "source": [
    "# --- 4. Preprocessing - b. Ekstraksi Keypoints (dari Video yang Sudah Diaugmentasi) ---\n",
    "print(\"\\n--- Ekstraksi Keypoints dari Video Augmented ---\")\n",
    "pose_model = YOLO(\"yolov8n-pose.pt\")  \n",
    "keypoint_root = \"keypoints_sublabeling_augmented\" # Ubah nama folder keypoint\n",
    "\n",
    "if not os.path.exists(keypoint_root):\n",
    "    os.makedirs(keypoint_root)\n",
    "\n",
    "# Vid_dict perlu di-update untuk menunjuk ke video yang sudah diaugmentasi\n",
    "vid_dict_augmented = defaultdict(list)\n",
    "for act in BASE_ACTIONS:\n",
    "    for f in sorted(os.listdir(os.path.join(VIDEO_DIR,act))): # VIDEO_DIR sudah AUGMENTED_VIDEO_DIR\n",
    "        if f.lower().endswith(('.mp4','.mov','.avi','.mkv')):\\\n",
    "            vid_dict_augmented[act].append(os.path.join(VIDEO_DIR,act,f))\n",
    "\n",
    "for action in BASE_ACTIONS:\n",
    "    video_dir = os.path.join(VIDEO_DIR, action) # Menggunakan VIDEO_DIR yang sudah diubah\n",
    "    save_dir_base = os.path.join(keypoint_root, action)\n",
    "    os.makedirs(save_dir_base, exist_ok=True)\n",
    "\n",
    "    for video_name in tqdm(os.listdir(video_dir), desc=f\"Proses Keypoints {action}\"):\n",
    "        video_path = os.path.join(video_dir, video_name)\n",
    "        cap = cv2.VideoCapture(video_path)\n",
    "        sequence = []\n",
    "\n",
    "        while True:\n",
    "            ret, frame = cap.read()\n",
    "            if not ret:\n",
    "                break\n",
    "\n",
    "            results = pose_model.predict(source=frame, conf=0.5, save=False, verbose=False)\n",
    "            \n",
    "            if results and len(results[0].keypoints.xy) > 0:\n",
    "                kps = results[0].keypoints.xy[0].cpu().numpy()  \n",
    "                \n",
    "                if kps.shape[0] == 17:  \n",
    "                    h, w, _ = frame.shape\n",
    "                    normalized_kps = kps / np.array([w, h])\n",
    "                    sequence.append(normalized_kps.flatten())  \n",
    "                else:\n",
    "                    sequence.append(np.zeros(17 * 2)) \n",
    "            else:\n",
    "                sequence.append(np.zeros(17 * 2))\n",
    "\n",
    "        cap.release()\n",
    "\n",
    "        if len(sequence) > 0:\n",
    "            try:\n",
    "                sequence = np.array(sequence)\n",
    "                save_path = os.path.join(save_dir_base, video_name.replace(\".MOV\", \".npy\").replace(\".mp4\", \".npy\"))\n",
    "                # Ensure the directory exists before saving\n",
    "                os.makedirs(os.path.dirname(save_path), exist_ok=True)\n",
    "                np.save(save_path, sequence)\n",
    "                print(f\"✅ Keypoint disimpan: {save_path}\")\n",
    "            except Exception as e:\n",
    "                print(f\"❌ Gagal menyimpan {video_name}: {e}\")\n",
    "        else:\n",
    "            print(f\"⚠️ Tidak ada keypoint valid di {video_name}\")\n"
   ]
  },
  {
   "cell_type": "markdown",
   "metadata": {},
   "source": [
    "### Persiapan Dataset untuk Training\n"
   ]
  },
  {
   "cell_type": "code",
   "execution_count": 17,
   "metadata": {
    "execution": {
     "iopub.execute_input": "2025-05-26T04:15:07.205837Z",
     "iopub.status.busy": "2025-05-26T04:15:07.205573Z",
     "iopub.status.idle": "2025-05-26T04:15:07.228506Z",
     "shell.execute_reply": "2025-05-26T04:15:07.227368Z",
     "shell.execute_reply.started": "2025-05-26T04:15:07.205817Z"
    },
    "trusted": true
   },
   "outputs": [
    {
     "name": "stdout",
     "output_type": "stream",
     "text": [
      "\n",
      "--- Persiapan Dataset untuk Training (dengan Sub-labeling) ---\n",
      "Data shape (setelah sub-labeling): (900, 60, 34)\n",
      "Labels shape (setelah sub-labeling): (900,)\n",
      "Groups shape: (900,)\n"
     ]
    }
   ],
   "source": [
    "# --- 4. Preprocessing - c. Persiapan Dataset untuk Training (dengan Sub-labeling) ---\n",
    "print(\"\\n--- Persiapan Dataset untuk Training (dengan Sub-labeling) ---\")\n",
    "X, y, groups = [], [], []\n",
    "\n",
    "# Tentukan persentase pembagian frame\n",
    "P_TIDAK_BERGERAK = 0.2\n",
    "P_SEMPURNA = 0.2\n",
    "P_TIDAK_SEMPURNA = 1.0 - P_TIDAK_BERGERAK - P_SEMPURNA\n",
    "\n",
    "for base_action_idx, base_action_name in enumerate(BASE_ACTIONS):\n",
    "    action_dir = os.path.join(keypoint_root, base_action_name) # keypoint_root sudah yang augmented\n",
    "    if not os.path.exists(action_dir):\n",
    "        print(f\"Direktori '{action_dir}' tidak ditemukan. Melewati aksi ini.\")\n",
    "        continue\n",
    "\n",
    "    for file in os.listdir(action_dir):\n",
    "        if file.endswith('.npy'):\n",
    "            filepath = os.path.join(action_dir, file)\n",
    "            full_seq = np.load(filepath) # Ini adalah sequence keypoint LENGKAP dari video asli\n",
    "            \n",
    "            desired_frames = 60 # Panjang sequence untuk input model - DIUBAH DARI 30 MENJADI 60\n",
    "            n_features = 17 * 2 # 34 fitur (x,y)\n",
    "\n",
    "            original_n_frames = full_seq.shape[0]\n",
    "            if original_n_frames == 0:\n",
    "                # Jika video kosong, tambahkan 3 sampel nol untuk setiap sub-label\n",
    "                for sub_label_idx in range(len(SUB_LABELS)):\n",
    "                    full_label = f\"{base_action_name} - {SUB_LABELS[sub_label_idx]}\"\n",
    "                    full_label_idx = FULL_ACTIONS.index(full_label)\n",
    "                    X.append(np.zeros((desired_frames, n_features)))\n",
    "                    y.append(full_label_idx)\n",
    "                    groups.append(os.path.basename(file).split('.')[0])\n",
    "                continue\n",
    "\n",
    "            # --- Ambil Segmen dan Resample untuk Setiap Sub-label ---\n",
    "\n",
    "            # 1. Segmen \"Tidak Bergerak\" (20% awal)\n",
    "            end_frame_tb = int(original_n_frames * P_TIDAK_BERGERAK)\n",
    "            segment_tb = full_seq[0:end_frame_tb] # Mulai dari 0\n",
    "            \n",
    "            if segment_tb.shape[0] == 0:\n",
    "                resampled_seq_tb = np.zeros((desired_frames, n_features))\n",
    "            else:\n",
    "                indices_tb = np.linspace(0, segment_tb.shape[0] - 1, num=desired_frames, dtype=int)\n",
    "                resampled_seq_tb = segment_tb[indices_tb]\n",
    "            \n",
    "            full_label_tb = f\"{base_action_name} - Tidak Bergerak\"\n",
    "            full_label_idx_tb = FULL_ACTIONS.index(full_label_tb)\n",
    "            X.append(resampled_seq_tb)\n",
    "            y.append(full_label_idx_tb)\n",
    "            groups.append(os.path.basename(file).split('.')[0])\n",
    "\n",
    "            # 2. Segmen \"Sempurna\" (20% akhir)\n",
    "            start_frame_s = int(original_n_frames * (1.0 - P_SEMPURNA))\n",
    "            segment_s = full_seq[start_frame_s:original_n_frames] # Berakhir di original_n_frames\n",
    "\n",
    "            if segment_s.shape[0] == 0:\n",
    "                resampled_seq_s = np.zeros((desired_frames, n_features))\n",
    "            else:\n",
    "                indices_s = np.linspace(0, segment_s.shape[0] - 1, num=desired_frames, dtype=int)\n",
    "                resampled_seq_s = segment_s[indices_s]\n",
    "            \n",
    "            full_label_s = f\"{base_action_name} - Sempurna\"\n",
    "            full_label_idx_s = FULL_ACTIONS.index(full_label_s)\n",
    "            X.append(resampled_seq_s)\n",
    "            y.append(full_label_idx_s)\n",
    "            groups.append(os.path.basename(file).split('.')[0])\n",
    "\n",
    "            # 3. Segmen \"Tidak Sempurna\" (60% tengah)\n",
    "            start_frame_ts = end_frame_tb\n",
    "            end_frame_ts = start_frame_s\n",
    "            segment_ts = full_seq[start_frame_ts:end_frame_ts]\n",
    "\n",
    "            if segment_ts.shape[0] == 0:\n",
    "                resampled_seq_ts = np.zeros((desired_frames, n_features))\n",
    "            else:\n",
    "                indices_ts = np.linspace(0, segment_ts.shape[0] - 1, num=desired_frames, dtype=int)\n",
    "                resampled_seq_ts = segment_ts[indices_ts]\n",
    "            \n",
    "            full_label_ts = f\"{base_action_name} - Tidak Sempurna\"\n",
    "            full_label_idx_ts = FULL_ACTIONS.index(full_label_ts)\n",
    "            X.append(resampled_seq_ts)\n",
    "            y.append(full_label_idx_ts)\n",
    "            groups.append(os.path.basename(file).split('.')[0])\n",
    "\n",
    "\n",
    "X = np.array(X)\n",
    "y = np.array(y)\n",
    "groups = np.array(groups)\n",
    "\n",
    "print(\"Data shape (setelah sub-labeling):\", X.shape)\n",
    "print(\"Labels shape (setelah sub-labeling):\", y.shape)\n",
    "print(\"Groups shape:\", groups.shape)"
   ]
  },
  {
   "cell_type": "markdown",
   "metadata": {},
   "source": [
    "### Split Data"
   ]
  },
  {
   "cell_type": "code",
   "execution_count": 18,
   "metadata": {
    "execution": {
     "iopub.execute_input": "2025-05-26T04:15:07.297820Z",
     "iopub.status.busy": "2025-05-26T04:15:07.297401Z",
     "iopub.status.idle": "2025-05-26T04:15:07.321511Z",
     "shell.execute_reply": "2025-05-26T04:15:07.319960Z",
     "shell.execute_reply.started": "2025-05-26T04:15:07.297795Z"
    },
    "trusted": true
   },
   "outputs": [
    {
     "name": "stdout",
     "output_type": "stream",
     "text": [
      "\n",
      "--- Split Data dan Augmentasi Data (Keypoint Level) ---\n",
      "Train shape (sebelum augmentasi noise): (720, 60, 34)\n",
      "Validation shape: (180, 60, 34)\n",
      "X_train_aug_final shape: (720, 60, 34)\n",
      "y_train_one_hot shape: (720, 15)\n"
     ]
    }
   ],
   "source": [
    "# --- 4. Preprocessing - d. Split Data dan Augmentasi Data (Keypoint Level) ---\n",
    "print(\"\\n--- Split Data dan Augmentasi Data (Keypoint Level) ---\")\n",
    "\n",
    "def augment_data_noise(X_data, noise_level=0.01):\n",
    "    noise = np.random.normal(loc=0.0, scale=noise_level, size=X_data.shape)\n",
    "    X_aug = X_data + noise\n",
    "    return X_aug\n",
    "\n",
    "# Fungsi augmentasi kecepatan di level keypoint sekarang tidak terlalu diperlukan\n",
    "# karena sudah ada augmentasi video di awal.\n",
    "# Namun, jika ingin menambah variasi lebih lanjut, bisa diaktifkan.\n",
    "# Untuk saat ini, kita tidak akan menggunakannya untuk menghindari double-augmentation.\n",
    "# def augment_data_speed_keypoint_level(sequence, target_len, speed_factor_range=(0.7, 1.3)):\n",
    "#     original_len = sequence.shape[0]\n",
    "#     num_features = sequence.shape[1]\n",
    "\n",
    "#     speed_factor = np.random.uniform(speed_factor_range[0], speed_factor_range[1])\n",
    "\n",
    "#     new_len_float = original_len / speed_factor\n",
    "#     new_len = max(1, int(new_len_float))\n",
    "    \n",
    "#     indices = np.linspace(0, original_len - 1, num=new_len, dtype=int)\n",
    "#     resampled_sequence = sequence[indices]\n",
    "\n",
    "#     if resampled_sequence.shape[0] > target_len:\n",
    "#         return resampled_sequence[:target_len, :]\n",
    "#     elif resampled_sequence.shape[0] < target_len:\n",
    "#         pad_width = target_len - resampled_sequence.shape[0]\n",
    "#         return np.pad(resampled_sequence, ((0, pad_width), (0, 0)), mode='constant')\n",
    "#     else:\n",
    "#         return resampled_sequence\n",
    "\n",
    "RANDOM_SEED = 42\n",
    "gss = GroupShuffleSplit(n_splits=1, test_size=0.2, random_state=RANDOM_SEED)\n",
    "\n",
    "train_idx, val_idx = next(gss.split(X, y, groups))\n",
    "\n",
    "X_train, y_train = X[train_idx], y[train_idx]\n",
    "X_val, y_val = X[val_idx], y[val_idx]\n",
    "\n",
    "print(\"Train shape (sebelum augmentasi noise):\", X_train.shape)\n",
    "print(\"Validation shape:\", X_val.shape)\n",
    "\n",
    "# --- Terapkan Augmentasi Noise Saja (Augmentasi Kecepatan sudah di level video) ---\n",
    "X_train_aug_final = augment_data_noise(X_train, noise_level=0.005) # Level noise bisa disesuaikan\n",
    "\n",
    "# One-hot encode label\n",
    "num_classes = len(FULL_ACTIONS)\n",
    "y_train_one_hot = to_categorical(y_train, num_classes=num_classes) # y_train sudah berisi label sub-tahap\n",
    "y_val_one_hot = to_categorical(y_val, num_classes=num_classes)\n",
    "\n",
    "print(\"X_train_aug_final shape:\", X_train_aug_final.shape)\n",
    "print(\"y_train_one_hot shape:\", y_train_one_hot.shape)"
   ]
  },
  {
   "cell_type": "markdown",
   "metadata": {},
   "source": [
    "# **5. Pembangunan Model**"
   ]
  },
  {
   "cell_type": "markdown",
   "metadata": {},
   "source": [
    "## **a. Pelatihan Model**"
   ]
  },
  {
   "cell_type": "code",
   "execution_count": 19,
   "metadata": {},
   "outputs": [
    {
     "name": "stdout",
     "output_type": "stream",
     "text": [
      "\n",
      "--- Pembangunan dan Pelatihan Model ---\n",
      "X_train_scaled shape: (720, 60, 34)\n",
      "X_val_scaled shape: (180, 60, 34)\n"
     ]
    }
   ],
   "source": [
    "# --- 5. Pembangunan dan Pelatihan Model ---\n",
    "print(\"\\n--- Pembangunan dan Pelatihan Model ---\")\n",
    "\n",
    "scaler = StandardScaler()\n",
    "\n",
    "sequence_length = X_train_aug_final.shape[1] # Ini akan menjadi 60\n",
    "num_features = X_train_aug_final.shape[2]    # Ini akan menjadi 34\n",
    "\n",
    "X_train_flat = X_train_aug_final.reshape(-1, num_features)\n",
    "X_train_scaled = scaler.fit_transform(X_train_flat).reshape(-1, sequence_length, num_features)\n",
    "\n",
    "X_val_flat = X_val.reshape(-1, num_features)\n",
    "X_val_scaled = scaler.transform(X_val_flat).reshape(-1, sequence_length, num_features)\n",
    "\n",
    "print(\"X_train_scaled shape:\", X_train_scaled.shape)\n",
    "print(\"X_val_scaled shape:\", X_val_scaled.shape)\n"
   ]
  },
  {
   "cell_type": "code",
   "execution_count": 20,
   "metadata": {},
   "outputs": [
    {
     "name": "stdout",
     "output_type": "stream",
     "text": [
      "\n",
      "--- Melatih Model LSTM ---\n"
     ]
    },
    {
     "name": "stderr",
     "output_type": "stream",
     "text": [
      "c:\\Users\\M Fathurrahman\\Videos\\LASKAR AI\\ActionDetection-Yolo--2-\\coba\\lib\\site-packages\\keras\\src\\layers\\rnn\\rnn.py:199: UserWarning: Do not pass an `input_shape`/`input_dim` argument to a layer. When using Sequential models, prefer using an `Input(shape)` object as the first layer in the model instead.\n",
      "  super().__init__(**kwargs)\n"
     ]
    },
    {
     "name": "stdout",
     "output_type": "stream",
     "text": [
      "Epoch 1/200\n",
      "\n",
      "Epoch 1: val_loss improved from inf to 2.51253, saving model to model_sublabeling/lstm_best.keras\n",
      "90/90 - 4s - 43ms/step - categorical_accuracy: 0.1319 - loss: 2.6716 - val_categorical_accuracy: 0.2778 - val_loss: 2.5125 - learning_rate: 1.0000e-04\n",
      "Epoch 2/200\n",
      "\n",
      "Epoch 2: val_loss improved from 2.51253 to 2.38018, saving model to model_sublabeling/lstm_best.keras\n",
      "90/90 - 1s - 8ms/step - categorical_accuracy: 0.1889 - loss: 2.5022 - val_categorical_accuracy: 0.3278 - val_loss: 2.3802 - learning_rate: 1.0000e-04\n",
      "Epoch 3/200\n",
      "\n",
      "Epoch 3: val_loss improved from 2.38018 to 2.27047, saving model to model_sublabeling/lstm_best.keras\n",
      "90/90 - 1s - 8ms/step - categorical_accuracy: 0.2292 - loss: 2.3774 - val_categorical_accuracy: 0.3056 - val_loss: 2.2705 - learning_rate: 1.0000e-04\n",
      "Epoch 4/200\n",
      "\n",
      "Epoch 4: val_loss improved from 2.27047 to 2.16913, saving model to model_sublabeling/lstm_best.keras\n",
      "90/90 - 1s - 8ms/step - categorical_accuracy: 0.2736 - loss: 2.2767 - val_categorical_accuracy: 0.3667 - val_loss: 2.1691 - learning_rate: 1.0000e-04\n",
      "Epoch 5/200\n",
      "\n",
      "Epoch 5: val_loss improved from 2.16913 to 2.07332, saving model to model_sublabeling/lstm_best.keras\n",
      "90/90 - 1s - 8ms/step - categorical_accuracy: 0.2708 - loss: 2.2030 - val_categorical_accuracy: 0.3833 - val_loss: 2.0733 - learning_rate: 1.0000e-04\n",
      "Epoch 6/200\n",
      "\n",
      "Epoch 6: val_loss improved from 2.07332 to 1.97184, saving model to model_sublabeling/lstm_best.keras\n",
      "90/90 - 1s - 8ms/step - categorical_accuracy: 0.3125 - loss: 2.0748 - val_categorical_accuracy: 0.4000 - val_loss: 1.9718 - learning_rate: 1.0000e-04\n",
      "Epoch 7/200\n",
      "\n",
      "Epoch 7: val_loss improved from 1.97184 to 1.87053, saving model to model_sublabeling/lstm_best.keras\n",
      "90/90 - 1s - 8ms/step - categorical_accuracy: 0.3333 - loss: 1.9679 - val_categorical_accuracy: 0.3889 - val_loss: 1.8705 - learning_rate: 1.0000e-04\n",
      "Epoch 8/200\n",
      "\n",
      "Epoch 8: val_loss improved from 1.87053 to 1.77367, saving model to model_sublabeling/lstm_best.keras\n",
      "90/90 - 1s - 8ms/step - categorical_accuracy: 0.3264 - loss: 1.8930 - val_categorical_accuracy: 0.4167 - val_loss: 1.7737 - learning_rate: 1.0000e-04\n",
      "Epoch 9/200\n",
      "\n",
      "Epoch 9: val_loss improved from 1.77367 to 1.68257, saving model to model_sublabeling/lstm_best.keras\n",
      "90/90 - 1s - 8ms/step - categorical_accuracy: 0.3458 - loss: 1.8260 - val_categorical_accuracy: 0.4556 - val_loss: 1.6826 - learning_rate: 1.0000e-04\n",
      "Epoch 10/200\n",
      "\n",
      "Epoch 10: val_loss improved from 1.68257 to 1.59775, saving model to model_sublabeling/lstm_best.keras\n",
      "90/90 - 1s - 8ms/step - categorical_accuracy: 0.3792 - loss: 1.7079 - val_categorical_accuracy: 0.4611 - val_loss: 1.5977 - learning_rate: 1.0000e-04\n",
      "Epoch 11/200\n",
      "\n",
      "Epoch 11: val_loss improved from 1.59775 to 1.51977, saving model to model_sublabeling/lstm_best.keras\n",
      "90/90 - 1s - 8ms/step - categorical_accuracy: 0.3958 - loss: 1.6496 - val_categorical_accuracy: 0.4889 - val_loss: 1.5198 - learning_rate: 1.0000e-04\n",
      "Epoch 12/200\n",
      "\n",
      "Epoch 12: val_loss improved from 1.51977 to 1.44442, saving model to model_sublabeling/lstm_best.keras\n",
      "90/90 - 1s - 8ms/step - categorical_accuracy: 0.3944 - loss: 1.5966 - val_categorical_accuracy: 0.4833 - val_loss: 1.4444 - learning_rate: 1.0000e-04\n",
      "Epoch 13/200\n",
      "\n",
      "Epoch 13: val_loss improved from 1.44442 to 1.38303, saving model to model_sublabeling/lstm_best.keras\n",
      "90/90 - 1s - 8ms/step - categorical_accuracy: 0.4236 - loss: 1.4974 - val_categorical_accuracy: 0.4944 - val_loss: 1.3830 - learning_rate: 1.0000e-04\n",
      "Epoch 14/200\n",
      "\n",
      "Epoch 14: val_loss improved from 1.38303 to 1.32456, saving model to model_sublabeling/lstm_best.keras\n",
      "90/90 - 1s - 8ms/step - categorical_accuracy: 0.3736 - loss: 1.5228 - val_categorical_accuracy: 0.5278 - val_loss: 1.3246 - learning_rate: 1.0000e-04\n",
      "Epoch 15/200\n",
      "\n",
      "Epoch 15: val_loss improved from 1.32456 to 1.27620, saving model to model_sublabeling/lstm_best.keras\n",
      "90/90 - 1s - 7ms/step - categorical_accuracy: 0.4528 - loss: 1.3958 - val_categorical_accuracy: 0.5278 - val_loss: 1.2762 - learning_rate: 1.0000e-04\n",
      "Epoch 16/200\n",
      "\n",
      "Epoch 16: val_loss improved from 1.27620 to 1.23617, saving model to model_sublabeling/lstm_best.keras\n",
      "90/90 - 1s - 8ms/step - categorical_accuracy: 0.4528 - loss: 1.3923 - val_categorical_accuracy: 0.5556 - val_loss: 1.2362 - learning_rate: 1.0000e-04\n",
      "Epoch 17/200\n",
      "\n",
      "Epoch 17: val_loss improved from 1.23617 to 1.20230, saving model to model_sublabeling/lstm_best.keras\n",
      "90/90 - 1s - 8ms/step - categorical_accuracy: 0.4944 - loss: 1.3024 - val_categorical_accuracy: 0.5722 - val_loss: 1.2023 - learning_rate: 1.0000e-04\n",
      "Epoch 18/200\n",
      "\n",
      "Epoch 18: val_loss improved from 1.20230 to 1.16801, saving model to model_sublabeling/lstm_best.keras\n",
      "90/90 - 1s - 8ms/step - categorical_accuracy: 0.4792 - loss: 1.2948 - val_categorical_accuracy: 0.5389 - val_loss: 1.1680 - learning_rate: 1.0000e-04\n",
      "Epoch 19/200\n",
      "\n",
      "Epoch 19: val_loss improved from 1.16801 to 1.13593, saving model to model_sublabeling/lstm_best.keras\n",
      "90/90 - 1s - 8ms/step - categorical_accuracy: 0.5250 - loss: 1.2694 - val_categorical_accuracy: 0.6167 - val_loss: 1.1359 - learning_rate: 1.0000e-04\n",
      "Epoch 20/200\n",
      "\n",
      "Epoch 20: val_loss improved from 1.13593 to 1.05569, saving model to model_sublabeling/lstm_best.keras\n",
      "90/90 - 1s - 8ms/step - categorical_accuracy: 0.5069 - loss: 1.2365 - val_categorical_accuracy: 0.6333 - val_loss: 1.0557 - learning_rate: 1.0000e-04\n",
      "Epoch 21/200\n",
      "\n",
      "Epoch 21: val_loss improved from 1.05569 to 1.02713, saving model to model_sublabeling/lstm_best.keras\n",
      "90/90 - 1s - 8ms/step - categorical_accuracy: 0.4931 - loss: 1.2221 - val_categorical_accuracy: 0.6333 - val_loss: 1.0271 - learning_rate: 1.0000e-04\n",
      "Epoch 22/200\n",
      "\n",
      "Epoch 22: val_loss improved from 1.02713 to 1.00148, saving model to model_sublabeling/lstm_best.keras\n",
      "90/90 - 1s - 8ms/step - categorical_accuracy: 0.5153 - loss: 1.1677 - val_categorical_accuracy: 0.6222 - val_loss: 1.0015 - learning_rate: 1.0000e-04\n",
      "Epoch 23/200\n",
      "\n",
      "Epoch 23: val_loss improved from 1.00148 to 0.98882, saving model to model_sublabeling/lstm_best.keras\n",
      "90/90 - 1s - 8ms/step - categorical_accuracy: 0.5444 - loss: 1.1595 - val_categorical_accuracy: 0.6056 - val_loss: 0.9888 - learning_rate: 1.0000e-04\n",
      "Epoch 24/200\n",
      "\n",
      "Epoch 24: val_loss improved from 0.98882 to 0.95497, saving model to model_sublabeling/lstm_best.keras\n",
      "90/90 - 1s - 8ms/step - categorical_accuracy: 0.5319 - loss: 1.1331 - val_categorical_accuracy: 0.6333 - val_loss: 0.9550 - learning_rate: 1.0000e-04\n",
      "Epoch 25/200\n",
      "\n",
      "Epoch 25: val_loss improved from 0.95497 to 0.93689, saving model to model_sublabeling/lstm_best.keras\n",
      "90/90 - 1s - 8ms/step - categorical_accuracy: 0.5417 - loss: 1.0998 - val_categorical_accuracy: 0.6111 - val_loss: 0.9369 - learning_rate: 1.0000e-04\n",
      "Epoch 26/200\n",
      "\n",
      "Epoch 26: val_loss improved from 0.93689 to 0.91385, saving model to model_sublabeling/lstm_best.keras\n",
      "90/90 - 1s - 8ms/step - categorical_accuracy: 0.5306 - loss: 1.0874 - val_categorical_accuracy: 0.6389 - val_loss: 0.9139 - learning_rate: 1.0000e-04\n",
      "Epoch 27/200\n",
      "\n",
      "Epoch 27: val_loss improved from 0.91385 to 0.89465, saving model to model_sublabeling/lstm_best.keras\n",
      "90/90 - 1s - 8ms/step - categorical_accuracy: 0.5514 - loss: 1.0944 - val_categorical_accuracy: 0.6611 - val_loss: 0.8947 - learning_rate: 1.0000e-04\n",
      "Epoch 28/200\n",
      "\n",
      "Epoch 28: val_loss improved from 0.89465 to 0.89167, saving model to model_sublabeling/lstm_best.keras\n",
      "90/90 - 1s - 8ms/step - categorical_accuracy: 0.5542 - loss: 1.0335 - val_categorical_accuracy: 0.6389 - val_loss: 0.8917 - learning_rate: 1.0000e-04\n",
      "Epoch 29/200\n",
      "\n",
      "Epoch 29: val_loss improved from 0.89167 to 0.86383, saving model to model_sublabeling/lstm_best.keras\n",
      "90/90 - 1s - 8ms/step - categorical_accuracy: 0.5278 - loss: 1.0509 - val_categorical_accuracy: 0.6778 - val_loss: 0.8638 - learning_rate: 1.0000e-04\n",
      "Epoch 30/200\n",
      "\n",
      "Epoch 30: val_loss improved from 0.86383 to 0.85176, saving model to model_sublabeling/lstm_best.keras\n",
      "90/90 - 1s - 8ms/step - categorical_accuracy: 0.5972 - loss: 0.9741 - val_categorical_accuracy: 0.6778 - val_loss: 0.8518 - learning_rate: 1.0000e-04\n",
      "Epoch 31/200\n",
      "\n",
      "Epoch 31: val_loss improved from 0.85176 to 0.85093, saving model to model_sublabeling/lstm_best.keras\n",
      "90/90 - 1s - 8ms/step - categorical_accuracy: 0.5819 - loss: 0.9862 - val_categorical_accuracy: 0.6611 - val_loss: 0.8509 - learning_rate: 1.0000e-04\n",
      "Epoch 32/200\n",
      "\n",
      "Epoch 32: val_loss improved from 0.85093 to 0.82027, saving model to model_sublabeling/lstm_best.keras\n",
      "90/90 - 1s - 8ms/step - categorical_accuracy: 0.5861 - loss: 0.9928 - val_categorical_accuracy: 0.6500 - val_loss: 0.8203 - learning_rate: 1.0000e-04\n",
      "Epoch 33/200\n",
      "\n",
      "Epoch 33: val_loss improved from 0.82027 to 0.80973, saving model to model_sublabeling/lstm_best.keras\n",
      "90/90 - 1s - 8ms/step - categorical_accuracy: 0.5750 - loss: 0.9679 - val_categorical_accuracy: 0.6778 - val_loss: 0.8097 - learning_rate: 1.0000e-04\n",
      "Epoch 34/200\n",
      "\n",
      "Epoch 34: val_loss improved from 0.80973 to 0.79297, saving model to model_sublabeling/lstm_best.keras\n",
      "90/90 - 1s - 8ms/step - categorical_accuracy: 0.5931 - loss: 0.9541 - val_categorical_accuracy: 0.6722 - val_loss: 0.7930 - learning_rate: 1.0000e-04\n",
      "Epoch 35/200\n",
      "\n",
      "Epoch 35: val_loss improved from 0.79297 to 0.77868, saving model to model_sublabeling/lstm_best.keras\n",
      "90/90 - 1s - 8ms/step - categorical_accuracy: 0.6000 - loss: 0.9280 - val_categorical_accuracy: 0.6833 - val_loss: 0.7787 - learning_rate: 1.0000e-04\n",
      "Epoch 36/200\n",
      "\n",
      "Epoch 36: val_loss improved from 0.77868 to 0.76168, saving model to model_sublabeling/lstm_best.keras\n",
      "90/90 - 1s - 8ms/step - categorical_accuracy: 0.6097 - loss: 0.9227 - val_categorical_accuracy: 0.7167 - val_loss: 0.7617 - learning_rate: 1.0000e-04\n",
      "Epoch 37/200\n",
      "\n",
      "Epoch 37: val_loss improved from 0.76168 to 0.75802, saving model to model_sublabeling/lstm_best.keras\n",
      "90/90 - 1s - 8ms/step - categorical_accuracy: 0.5903 - loss: 0.9400 - val_categorical_accuracy: 0.7278 - val_loss: 0.7580 - learning_rate: 1.0000e-04\n",
      "Epoch 38/200\n",
      "\n",
      "Epoch 38: val_loss improved from 0.75802 to 0.73827, saving model to model_sublabeling/lstm_best.keras\n",
      "90/90 - 1s - 8ms/step - categorical_accuracy: 0.5861 - loss: 0.9516 - val_categorical_accuracy: 0.7444 - val_loss: 0.7383 - learning_rate: 1.0000e-04\n",
      "Epoch 39/200\n",
      "\n",
      "Epoch 39: val_loss improved from 0.73827 to 0.73669, saving model to model_sublabeling/lstm_best.keras\n",
      "90/90 - 1s - 8ms/step - categorical_accuracy: 0.5972 - loss: 0.9049 - val_categorical_accuracy: 0.7389 - val_loss: 0.7367 - learning_rate: 1.0000e-04\n",
      "Epoch 40/200\n",
      "\n",
      "Epoch 40: val_loss improved from 0.73669 to 0.73312, saving model to model_sublabeling/lstm_best.keras\n",
      "90/90 - 1s - 8ms/step - categorical_accuracy: 0.5986 - loss: 0.8894 - val_categorical_accuracy: 0.7111 - val_loss: 0.7331 - learning_rate: 1.0000e-04\n",
      "Epoch 41/200\n",
      "\n",
      "Epoch 41: val_loss improved from 0.73312 to 0.70937, saving model to model_sublabeling/lstm_best.keras\n",
      "90/90 - 1s - 8ms/step - categorical_accuracy: 0.6222 - loss: 0.8845 - val_categorical_accuracy: 0.7500 - val_loss: 0.7094 - learning_rate: 1.0000e-04\n",
      "Epoch 42/200\n",
      "\n",
      "Epoch 42: val_loss improved from 0.70937 to 0.69713, saving model to model_sublabeling/lstm_best.keras\n",
      "90/90 - 1s - 8ms/step - categorical_accuracy: 0.6431 - loss: 0.8423 - val_categorical_accuracy: 0.7611 - val_loss: 0.6971 - learning_rate: 1.0000e-04\n",
      "Epoch 43/200\n",
      "\n",
      "Epoch 43: val_loss improved from 0.69713 to 0.69251, saving model to model_sublabeling/lstm_best.keras\n",
      "90/90 - 1s - 8ms/step - categorical_accuracy: 0.6056 - loss: 0.8767 - val_categorical_accuracy: 0.7389 - val_loss: 0.6925 - learning_rate: 1.0000e-04\n",
      "Epoch 44/200\n",
      "\n",
      "Epoch 44: val_loss improved from 0.69251 to 0.68835, saving model to model_sublabeling/lstm_best.keras\n",
      "90/90 - 1s - 8ms/step - categorical_accuracy: 0.6444 - loss: 0.8459 - val_categorical_accuracy: 0.7611 - val_loss: 0.6884 - learning_rate: 1.0000e-04\n",
      "Epoch 45/200\n",
      "\n",
      "Epoch 45: val_loss improved from 0.68835 to 0.67782, saving model to model_sublabeling/lstm_best.keras\n",
      "90/90 - 1s - 8ms/step - categorical_accuracy: 0.6500 - loss: 0.8178 - val_categorical_accuracy: 0.7556 - val_loss: 0.6778 - learning_rate: 1.0000e-04\n",
      "Epoch 46/200\n",
      "\n",
      "Epoch 46: val_loss improved from 0.67782 to 0.66660, saving model to model_sublabeling/lstm_best.keras\n",
      "90/90 - 1s - 8ms/step - categorical_accuracy: 0.6306 - loss: 0.8442 - val_categorical_accuracy: 0.7611 - val_loss: 0.6666 - learning_rate: 1.0000e-04\n",
      "Epoch 47/200\n",
      "\n",
      "Epoch 47: val_loss improved from 0.66660 to 0.65219, saving model to model_sublabeling/lstm_best.keras\n",
      "90/90 - 1s - 8ms/step - categorical_accuracy: 0.6806 - loss: 0.8001 - val_categorical_accuracy: 0.7667 - val_loss: 0.6522 - learning_rate: 1.0000e-04\n",
      "Epoch 48/200\n",
      "\n",
      "Epoch 48: val_loss did not improve from 0.65219\n",
      "90/90 - 1s - 7ms/step - categorical_accuracy: 0.6819 - loss: 0.7845 - val_categorical_accuracy: 0.7722 - val_loss: 0.6634 - learning_rate: 1.0000e-04\n",
      "Epoch 49/200\n",
      "\n",
      "Epoch 49: val_loss improved from 0.65219 to 0.63032, saving model to model_sublabeling/lstm_best.keras\n",
      "90/90 - 1s - 8ms/step - categorical_accuracy: 0.6500 - loss: 0.8051 - val_categorical_accuracy: 0.8000 - val_loss: 0.6303 - learning_rate: 1.0000e-04\n",
      "Epoch 50/200\n",
      "\n",
      "Epoch 50: val_loss improved from 0.63032 to 0.62914, saving model to model_sublabeling/lstm_best.keras\n",
      "90/90 - 1s - 8ms/step - categorical_accuracy: 0.6569 - loss: 0.7932 - val_categorical_accuracy: 0.7833 - val_loss: 0.6291 - learning_rate: 1.0000e-04\n",
      "Epoch 51/200\n",
      "\n",
      "Epoch 51: val_loss improved from 0.62914 to 0.62910, saving model to model_sublabeling/lstm_best.keras\n",
      "90/90 - 1s - 8ms/step - categorical_accuracy: 0.6583 - loss: 0.7709 - val_categorical_accuracy: 0.7778 - val_loss: 0.6291 - learning_rate: 1.0000e-04\n",
      "Epoch 52/200\n",
      "\n",
      "Epoch 52: val_loss improved from 0.62910 to 0.62814, saving model to model_sublabeling/lstm_best.keras\n",
      "90/90 - 1s - 8ms/step - categorical_accuracy: 0.6556 - loss: 0.7990 - val_categorical_accuracy: 0.7722 - val_loss: 0.6281 - learning_rate: 1.0000e-04\n",
      "Epoch 53/200\n",
      "\n",
      "Epoch 53: val_loss improved from 0.62814 to 0.59863, saving model to model_sublabeling/lstm_best.keras\n",
      "90/90 - 1s - 8ms/step - categorical_accuracy: 0.6778 - loss: 0.7831 - val_categorical_accuracy: 0.7833 - val_loss: 0.5986 - learning_rate: 1.0000e-04\n",
      "Epoch 54/200\n",
      "\n",
      "Epoch 54: val_loss improved from 0.59863 to 0.58507, saving model to model_sublabeling/lstm_best.keras\n",
      "90/90 - 1s - 8ms/step - categorical_accuracy: 0.6514 - loss: 0.7577 - val_categorical_accuracy: 0.8056 - val_loss: 0.5851 - learning_rate: 1.0000e-04\n",
      "Epoch 55/200\n",
      "\n",
      "Epoch 55: val_loss did not improve from 0.58507\n",
      "90/90 - 1s - 7ms/step - categorical_accuracy: 0.7181 - loss: 0.7333 - val_categorical_accuracy: 0.7833 - val_loss: 0.5875 - learning_rate: 1.0000e-04\n",
      "Epoch 56/200\n",
      "\n",
      "Epoch 56: val_loss improved from 0.58507 to 0.57334, saving model to model_sublabeling/lstm_best.keras\n",
      "90/90 - 1s - 8ms/step - categorical_accuracy: 0.6917 - loss: 0.7360 - val_categorical_accuracy: 0.7944 - val_loss: 0.5733 - learning_rate: 1.0000e-04\n",
      "Epoch 57/200\n",
      "\n",
      "Epoch 57: val_loss improved from 0.57334 to 0.56542, saving model to model_sublabeling/lstm_best.keras\n",
      "90/90 - 1s - 8ms/step - categorical_accuracy: 0.7028 - loss: 0.6975 - val_categorical_accuracy: 0.8056 - val_loss: 0.5654 - learning_rate: 1.0000e-04\n",
      "Epoch 58/200\n",
      "\n",
      "Epoch 58: val_loss did not improve from 0.56542\n",
      "90/90 - 1s - 7ms/step - categorical_accuracy: 0.7028 - loss: 0.7209 - val_categorical_accuracy: 0.8000 - val_loss: 0.5671 - learning_rate: 1.0000e-04\n",
      "Epoch 59/200\n",
      "\n",
      "Epoch 59: val_loss did not improve from 0.56542\n",
      "90/90 - 1s - 7ms/step - categorical_accuracy: 0.7028 - loss: 0.7302 - val_categorical_accuracy: 0.7889 - val_loss: 0.5803 - learning_rate: 1.0000e-04\n",
      "Epoch 60/200\n",
      "\n",
      "Epoch 60: val_loss improved from 0.56542 to 0.54960, saving model to model_sublabeling/lstm_best.keras\n",
      "90/90 - 1s - 8ms/step - categorical_accuracy: 0.7069 - loss: 0.7198 - val_categorical_accuracy: 0.8222 - val_loss: 0.5496 - learning_rate: 1.0000e-04\n",
      "Epoch 61/200\n",
      "\n",
      "Epoch 61: val_loss improved from 0.54960 to 0.54163, saving model to model_sublabeling/lstm_best.keras\n",
      "90/90 - 1s - 8ms/step - categorical_accuracy: 0.6903 - loss: 0.7215 - val_categorical_accuracy: 0.8056 - val_loss: 0.5416 - learning_rate: 1.0000e-04\n",
      "Epoch 62/200\n",
      "\n",
      "Epoch 62: val_loss improved from 0.54163 to 0.53635, saving model to model_sublabeling/lstm_best.keras\n",
      "90/90 - 1s - 8ms/step - categorical_accuracy: 0.6972 - loss: 0.6880 - val_categorical_accuracy: 0.8056 - val_loss: 0.5363 - learning_rate: 1.0000e-04\n",
      "Epoch 63/200\n",
      "\n",
      "Epoch 63: val_loss improved from 0.53635 to 0.52894, saving model to model_sublabeling/lstm_best.keras\n",
      "90/90 - 1s - 8ms/step - categorical_accuracy: 0.7125 - loss: 0.6912 - val_categorical_accuracy: 0.8000 - val_loss: 0.5289 - learning_rate: 1.0000e-04\n",
      "Epoch 64/200\n",
      "\n",
      "Epoch 64: val_loss did not improve from 0.52894\n",
      "90/90 - 1s - 7ms/step - categorical_accuracy: 0.6847 - loss: 0.6976 - val_categorical_accuracy: 0.8167 - val_loss: 0.5512 - learning_rate: 1.0000e-04\n",
      "Epoch 65/200\n",
      "\n",
      "Epoch 65: val_loss improved from 0.52894 to 0.52214, saving model to model_sublabeling/lstm_best.keras\n",
      "90/90 - 1s - 8ms/step - categorical_accuracy: 0.7153 - loss: 0.6612 - val_categorical_accuracy: 0.7944 - val_loss: 0.5221 - learning_rate: 1.0000e-04\n",
      "Epoch 66/200\n",
      "\n",
      "Epoch 66: val_loss improved from 0.52214 to 0.50529, saving model to model_sublabeling/lstm_best.keras\n",
      "90/90 - 1s - 8ms/step - categorical_accuracy: 0.6903 - loss: 0.6894 - val_categorical_accuracy: 0.8111 - val_loss: 0.5053 - learning_rate: 1.0000e-04\n",
      "Epoch 67/200\n",
      "\n",
      "Epoch 67: val_loss improved from 0.50529 to 0.50237, saving model to model_sublabeling/lstm_best.keras\n",
      "90/90 - 1s - 8ms/step - categorical_accuracy: 0.7319 - loss: 0.6610 - val_categorical_accuracy: 0.8111 - val_loss: 0.5024 - learning_rate: 1.0000e-04\n",
      "Epoch 68/200\n",
      "\n",
      "Epoch 68: val_loss did not improve from 0.50237\n",
      "90/90 - 1s - 7ms/step - categorical_accuracy: 0.7167 - loss: 0.6564 - val_categorical_accuracy: 0.7944 - val_loss: 0.5248 - learning_rate: 1.0000e-04\n",
      "Epoch 69/200\n",
      "\n",
      "Epoch 69: val_loss did not improve from 0.50237\n",
      "90/90 - 1s - 7ms/step - categorical_accuracy: 0.7097 - loss: 0.6444 - val_categorical_accuracy: 0.7778 - val_loss: 0.5346 - learning_rate: 1.0000e-04\n",
      "Epoch 70/200\n",
      "\n",
      "Epoch 70: val_loss did not improve from 0.50237\n",
      "90/90 - 1s - 7ms/step - categorical_accuracy: 0.7250 - loss: 0.6570 - val_categorical_accuracy: 0.8222 - val_loss: 0.5112 - learning_rate: 1.0000e-04\n",
      "Epoch 71/200\n",
      "\n",
      "Epoch 71: val_loss improved from 0.50237 to 0.48467, saving model to model_sublabeling/lstm_best.keras\n",
      "90/90 - 1s - 8ms/step - categorical_accuracy: 0.7389 - loss: 0.6184 - val_categorical_accuracy: 0.8278 - val_loss: 0.4847 - learning_rate: 1.0000e-04\n",
      "Epoch 72/200\n",
      "\n",
      "Epoch 72: val_loss improved from 0.48467 to 0.48137, saving model to model_sublabeling/lstm_best.keras\n",
      "90/90 - 1s - 8ms/step - categorical_accuracy: 0.7278 - loss: 0.6355 - val_categorical_accuracy: 0.8222 - val_loss: 0.4814 - learning_rate: 1.0000e-04\n",
      "Epoch 73/200\n",
      "\n",
      "Epoch 73: val_loss improved from 0.48137 to 0.47913, saving model to model_sublabeling/lstm_best.keras\n",
      "90/90 - 1s - 8ms/step - categorical_accuracy: 0.7167 - loss: 0.6195 - val_categorical_accuracy: 0.8222 - val_loss: 0.4791 - learning_rate: 1.0000e-04\n",
      "Epoch 74/200\n",
      "\n",
      "Epoch 74: val_loss did not improve from 0.47913\n",
      "90/90 - 1s - 7ms/step - categorical_accuracy: 0.7347 - loss: 0.6126 - val_categorical_accuracy: 0.8167 - val_loss: 0.4903 - learning_rate: 1.0000e-04\n",
      "Epoch 75/200\n",
      "\n",
      "Epoch 75: val_loss improved from 0.47913 to 0.47327, saving model to model_sublabeling/lstm_best.keras\n",
      "90/90 - 1s - 8ms/step - categorical_accuracy: 0.7583 - loss: 0.5852 - val_categorical_accuracy: 0.8333 - val_loss: 0.4733 - learning_rate: 1.0000e-04\n",
      "Epoch 76/200\n",
      "\n",
      "Epoch 76: val_loss improved from 0.47327 to 0.45829, saving model to model_sublabeling/lstm_best.keras\n",
      "90/90 - 1s - 8ms/step - categorical_accuracy: 0.7778 - loss: 0.5779 - val_categorical_accuracy: 0.8333 - val_loss: 0.4583 - learning_rate: 1.0000e-04\n",
      "Epoch 77/200\n",
      "\n",
      "Epoch 77: val_loss did not improve from 0.45829\n",
      "90/90 - 1s - 7ms/step - categorical_accuracy: 0.7417 - loss: 0.6297 - val_categorical_accuracy: 0.8222 - val_loss: 0.4884 - learning_rate: 1.0000e-04\n",
      "Epoch 78/200\n",
      "\n",
      "Epoch 78: val_loss did not improve from 0.45829\n",
      "90/90 - 1s - 7ms/step - categorical_accuracy: 0.7542 - loss: 0.6114 - val_categorical_accuracy: 0.8167 - val_loss: 0.4646 - learning_rate: 1.0000e-04\n",
      "Epoch 79/200\n",
      "\n",
      "Epoch 79: val_loss improved from 0.45829 to 0.45383, saving model to model_sublabeling/lstm_best.keras\n",
      "90/90 - 1s - 8ms/step - categorical_accuracy: 0.7611 - loss: 0.5892 - val_categorical_accuracy: 0.8222 - val_loss: 0.4538 - learning_rate: 1.0000e-04\n",
      "Epoch 80/200\n",
      "\n",
      "Epoch 80: val_loss did not improve from 0.45383\n",
      "90/90 - 1s - 7ms/step - categorical_accuracy: 0.7514 - loss: 0.6157 - val_categorical_accuracy: 0.8167 - val_loss: 0.4626 - learning_rate: 1.0000e-04\n",
      "Epoch 81/200\n",
      "\n",
      "Epoch 81: val_loss improved from 0.45383 to 0.45256, saving model to model_sublabeling/lstm_best.keras\n",
      "90/90 - 1s - 8ms/step - categorical_accuracy: 0.7639 - loss: 0.5618 - val_categorical_accuracy: 0.8278 - val_loss: 0.4526 - learning_rate: 1.0000e-04\n",
      "Epoch 82/200\n",
      "\n",
      "Epoch 82: val_loss improved from 0.45256 to 0.44361, saving model to model_sublabeling/lstm_best.keras\n",
      "90/90 - 1s - 8ms/step - categorical_accuracy: 0.7486 - loss: 0.5998 - val_categorical_accuracy: 0.8000 - val_loss: 0.4436 - learning_rate: 1.0000e-04\n",
      "Epoch 83/200\n",
      "\n",
      "Epoch 83: val_loss did not improve from 0.44361\n",
      "90/90 - 1s - 7ms/step - categorical_accuracy: 0.7375 - loss: 0.6272 - val_categorical_accuracy: 0.8000 - val_loss: 0.4504 - learning_rate: 1.0000e-04\n",
      "Epoch 84/200\n",
      "\n",
      "Epoch 84: val_loss improved from 0.44361 to 0.43694, saving model to model_sublabeling/lstm_best.keras\n",
      "90/90 - 1s - 8ms/step - categorical_accuracy: 0.7611 - loss: 0.5850 - val_categorical_accuracy: 0.8222 - val_loss: 0.4369 - learning_rate: 1.0000e-04\n",
      "Epoch 85/200\n",
      "\n",
      "Epoch 85: val_loss improved from 0.43694 to 0.42455, saving model to model_sublabeling/lstm_best.keras\n",
      "90/90 - 1s - 8ms/step - categorical_accuracy: 0.7806 - loss: 0.5390 - val_categorical_accuracy: 0.8167 - val_loss: 0.4245 - learning_rate: 1.0000e-04\n",
      "Epoch 86/200\n",
      "\n",
      "Epoch 86: val_loss improved from 0.42455 to 0.40324, saving model to model_sublabeling/lstm_best.keras\n",
      "90/90 - 1s - 8ms/step - categorical_accuracy: 0.7667 - loss: 0.5501 - val_categorical_accuracy: 0.8500 - val_loss: 0.4032 - learning_rate: 1.0000e-04\n",
      "Epoch 87/200\n",
      "\n",
      "Epoch 87: val_loss did not improve from 0.40324\n",
      "90/90 - 1s - 7ms/step - categorical_accuracy: 0.7639 - loss: 0.5755 - val_categorical_accuracy: 0.8222 - val_loss: 0.4322 - learning_rate: 1.0000e-04\n",
      "Epoch 88/200\n",
      "\n",
      "Epoch 88: val_loss did not improve from 0.40324\n",
      "90/90 - 1s - 7ms/step - categorical_accuracy: 0.7569 - loss: 0.5898 - val_categorical_accuracy: 0.8389 - val_loss: 0.4270 - learning_rate: 1.0000e-04\n",
      "Epoch 89/200\n",
      "\n",
      "Epoch 89: val_loss did not improve from 0.40324\n",
      "90/90 - 1s - 7ms/step - categorical_accuracy: 0.7653 - loss: 0.5643 - val_categorical_accuracy: 0.8278 - val_loss: 0.4387 - learning_rate: 1.0000e-04\n",
      "Epoch 90/200\n",
      "\n",
      "Epoch 90: val_loss did not improve from 0.40324\n",
      "90/90 - 1s - 7ms/step - categorical_accuracy: 0.8014 - loss: 0.5332 - val_categorical_accuracy: 0.8278 - val_loss: 0.4493 - learning_rate: 1.0000e-04\n",
      "Epoch 91/200\n",
      "\n",
      "Epoch 91: val_loss did not improve from 0.40324\n",
      "90/90 - 1s - 7ms/step - categorical_accuracy: 0.7736 - loss: 0.5496 - val_categorical_accuracy: 0.8222 - val_loss: 0.4334 - learning_rate: 1.0000e-04\n",
      "Epoch 92/200\n",
      "\n",
      "Epoch 92: val_loss did not improve from 0.40324\n",
      "90/90 - 1s - 7ms/step - categorical_accuracy: 0.7931 - loss: 0.5356 - val_categorical_accuracy: 0.8278 - val_loss: 0.4091 - learning_rate: 1.0000e-04\n",
      "Epoch 93/200\n",
      "\n",
      "Epoch 93: val_loss did not improve from 0.40324\n",
      "90/90 - 1s - 7ms/step - categorical_accuracy: 0.7833 - loss: 0.5357 - val_categorical_accuracy: 0.8167 - val_loss: 0.4312 - learning_rate: 1.0000e-04\n",
      "Epoch 94/200\n",
      "\n",
      "Epoch 94: val_loss did not improve from 0.40324\n",
      "90/90 - 1s - 7ms/step - categorical_accuracy: 0.7944 - loss: 0.5208 - val_categorical_accuracy: 0.8278 - val_loss: 0.4376 - learning_rate: 1.0000e-04\n",
      "Epoch 95/200\n",
      "\n",
      "Epoch 95: val_loss improved from 0.40324 to 0.39058, saving model to model_sublabeling/lstm_best.keras\n",
      "90/90 - 1s - 8ms/step - categorical_accuracy: 0.7847 - loss: 0.5462 - val_categorical_accuracy: 0.8500 - val_loss: 0.3906 - learning_rate: 1.0000e-04\n",
      "Epoch 96/200\n",
      "\n",
      "Epoch 96: val_loss did not improve from 0.39058\n",
      "90/90 - 1s - 7ms/step - categorical_accuracy: 0.7681 - loss: 0.5383 - val_categorical_accuracy: 0.8444 - val_loss: 0.4009 - learning_rate: 1.0000e-04\n",
      "Epoch 97/200\n",
      "\n",
      "Epoch 97: val_loss did not improve from 0.39058\n",
      "90/90 - 1s - 7ms/step - categorical_accuracy: 0.8097 - loss: 0.4973 - val_categorical_accuracy: 0.8444 - val_loss: 0.4003 - learning_rate: 1.0000e-04\n",
      "Epoch 98/200\n",
      "\n",
      "Epoch 98: val_loss did not improve from 0.39058\n",
      "90/90 - 1s - 7ms/step - categorical_accuracy: 0.8042 - loss: 0.5177 - val_categorical_accuracy: 0.8389 - val_loss: 0.4017 - learning_rate: 1.0000e-04\n",
      "Epoch 99/200\n",
      "\n",
      "Epoch 99: val_loss improved from 0.39058 to 0.37205, saving model to model_sublabeling/lstm_best.keras\n",
      "90/90 - 1s - 8ms/step - categorical_accuracy: 0.8111 - loss: 0.4713 - val_categorical_accuracy: 0.8556 - val_loss: 0.3720 - learning_rate: 1.0000e-04\n",
      "Epoch 100/200\n",
      "\n",
      "Epoch 100: val_loss improved from 0.37205 to 0.36108, saving model to model_sublabeling/lstm_best.keras\n",
      "90/90 - 1s - 8ms/step - categorical_accuracy: 0.8042 - loss: 0.4734 - val_categorical_accuracy: 0.8611 - val_loss: 0.3611 - learning_rate: 1.0000e-04\n",
      "Epoch 101/200\n",
      "\n",
      "Epoch 101: val_loss did not improve from 0.36108\n",
      "90/90 - 1s - 7ms/step - categorical_accuracy: 0.8097 - loss: 0.4907 - val_categorical_accuracy: 0.8500 - val_loss: 0.3919 - learning_rate: 1.0000e-04\n",
      "Epoch 102/200\n",
      "\n",
      "Epoch 102: val_loss did not improve from 0.36108\n",
      "90/90 - 1s - 7ms/step - categorical_accuracy: 0.8083 - loss: 0.4658 - val_categorical_accuracy: 0.8611 - val_loss: 0.3703 - learning_rate: 1.0000e-04\n",
      "Epoch 103/200\n",
      "\n",
      "Epoch 103: val_loss did not improve from 0.36108\n",
      "90/90 - 1s - 7ms/step - categorical_accuracy: 0.8056 - loss: 0.4823 - val_categorical_accuracy: 0.8667 - val_loss: 0.3632 - learning_rate: 1.0000e-04\n",
      "Epoch 104/200\n",
      "\n",
      "Epoch 104: val_loss improved from 0.36108 to 0.35208, saving model to model_sublabeling/lstm_best.keras\n",
      "90/90 - 1s - 8ms/step - categorical_accuracy: 0.8042 - loss: 0.4933 - val_categorical_accuracy: 0.8611 - val_loss: 0.3521 - learning_rate: 1.0000e-04\n",
      "Epoch 105/200\n",
      "\n",
      "Epoch 105: val_loss did not improve from 0.35208\n",
      "90/90 - 1s - 7ms/step - categorical_accuracy: 0.7903 - loss: 0.4703 - val_categorical_accuracy: 0.8611 - val_loss: 0.3621 - learning_rate: 1.0000e-04\n",
      "Epoch 106/200\n",
      "\n",
      "Epoch 106: val_loss did not improve from 0.35208\n",
      "90/90 - 1s - 8ms/step - categorical_accuracy: 0.8042 - loss: 0.4907 - val_categorical_accuracy: 0.8667 - val_loss: 0.3766 - learning_rate: 1.0000e-04\n",
      "Epoch 107/200\n",
      "\n",
      "Epoch 107: val_loss did not improve from 0.35208\n",
      "90/90 - 1s - 8ms/step - categorical_accuracy: 0.7972 - loss: 0.4942 - val_categorical_accuracy: 0.8278 - val_loss: 0.4030 - learning_rate: 1.0000e-04\n",
      "Epoch 108/200\n",
      "\n",
      "Epoch 108: val_loss did not improve from 0.35208\n",
      "90/90 - 1s - 7ms/step - categorical_accuracy: 0.8125 - loss: 0.4676 - val_categorical_accuracy: 0.8611 - val_loss: 0.3617 - learning_rate: 1.0000e-04\n",
      "Epoch 109/200\n",
      "\n",
      "Epoch 109: val_loss did not improve from 0.35208\n",
      "90/90 - 1s - 7ms/step - categorical_accuracy: 0.8472 - loss: 0.4528 - val_categorical_accuracy: 0.8389 - val_loss: 0.3748 - learning_rate: 1.0000e-04\n",
      "Epoch 110/200\n",
      "\n",
      "Epoch 110: val_loss improved from 0.35208 to 0.34495, saving model to model_sublabeling/lstm_best.keras\n",
      "90/90 - 1s - 8ms/step - categorical_accuracy: 0.8486 - loss: 0.4254 - val_categorical_accuracy: 0.8444 - val_loss: 0.3450 - learning_rate: 1.0000e-04\n",
      "Epoch 111/200\n",
      "\n",
      "Epoch 111: val_loss did not improve from 0.34495\n",
      "90/90 - 1s - 7ms/step - categorical_accuracy: 0.8139 - loss: 0.4505 - val_categorical_accuracy: 0.8556 - val_loss: 0.3511 - learning_rate: 1.0000e-04\n",
      "Epoch 112/200\n",
      "\n",
      "Epoch 112: val_loss improved from 0.34495 to 0.33209, saving model to model_sublabeling/lstm_best.keras\n",
      "90/90 - 1s - 8ms/step - categorical_accuracy: 0.8306 - loss: 0.4158 - val_categorical_accuracy: 0.8722 - val_loss: 0.3321 - learning_rate: 1.0000e-04\n",
      "Epoch 113/200\n",
      "\n",
      "Epoch 113: val_loss did not improve from 0.33209\n",
      "90/90 - 1s - 7ms/step - categorical_accuracy: 0.8472 - loss: 0.4206 - val_categorical_accuracy: 0.8222 - val_loss: 0.3791 - learning_rate: 1.0000e-04\n",
      "Epoch 114/200\n",
      "\n",
      "Epoch 114: val_loss improved from 0.33209 to 0.32396, saving model to model_sublabeling/lstm_best.keras\n",
      "90/90 - 1s - 8ms/step - categorical_accuracy: 0.8208 - loss: 0.4572 - val_categorical_accuracy: 0.8611 - val_loss: 0.3240 - learning_rate: 1.0000e-04\n",
      "Epoch 115/200\n",
      "\n",
      "Epoch 115: val_loss did not improve from 0.32396\n",
      "90/90 - 1s - 7ms/step - categorical_accuracy: 0.8375 - loss: 0.4347 - val_categorical_accuracy: 0.8500 - val_loss: 0.3279 - learning_rate: 1.0000e-04\n",
      "Epoch 116/200\n",
      "\n",
      "Epoch 116: val_loss did not improve from 0.32396\n",
      "90/90 - 1s - 7ms/step - categorical_accuracy: 0.8375 - loss: 0.4301 - val_categorical_accuracy: 0.8500 - val_loss: 0.3418 - learning_rate: 1.0000e-04\n",
      "Epoch 117/200\n",
      "\n",
      "Epoch 117: val_loss did not improve from 0.32396\n",
      "90/90 - 1s - 7ms/step - categorical_accuracy: 0.8542 - loss: 0.3892 - val_categorical_accuracy: 0.8500 - val_loss: 0.3449 - learning_rate: 1.0000e-04\n",
      "Epoch 118/200\n",
      "\n",
      "Epoch 118: val_loss improved from 0.32396 to 0.32269, saving model to model_sublabeling/lstm_best.keras\n",
      "90/90 - 1s - 8ms/step - categorical_accuracy: 0.8347 - loss: 0.4584 - val_categorical_accuracy: 0.8611 - val_loss: 0.3227 - learning_rate: 1.0000e-04\n",
      "Epoch 119/200\n",
      "\n",
      "Epoch 119: val_loss did not improve from 0.32269\n",
      "90/90 - 1s - 7ms/step - categorical_accuracy: 0.8181 - loss: 0.4477 - val_categorical_accuracy: 0.8556 - val_loss: 0.3450 - learning_rate: 1.0000e-04\n",
      "Epoch 120/200\n",
      "\n",
      "Epoch 120: val_loss did not improve from 0.32269\n",
      "90/90 - 1s - 7ms/step - categorical_accuracy: 0.8306 - loss: 0.4403 - val_categorical_accuracy: 0.8333 - val_loss: 0.3639 - learning_rate: 1.0000e-04\n",
      "Epoch 121/200\n",
      "\n",
      "Epoch 121: val_loss did not improve from 0.32269\n",
      "90/90 - 1s - 7ms/step - categorical_accuracy: 0.8458 - loss: 0.4280 - val_categorical_accuracy: 0.8611 - val_loss: 0.3566 - learning_rate: 1.0000e-04\n",
      "Epoch 122/200\n",
      "\n",
      "Epoch 122: val_loss improved from 0.32269 to 0.32197, saving model to model_sublabeling/lstm_best.keras\n",
      "90/90 - 1s - 8ms/step - categorical_accuracy: 0.8611 - loss: 0.3794 - val_categorical_accuracy: 0.8722 - val_loss: 0.3220 - learning_rate: 1.0000e-04\n",
      "Epoch 123/200\n",
      "\n",
      "Epoch 123: val_loss improved from 0.32197 to 0.32089, saving model to model_sublabeling/lstm_best.keras\n",
      "90/90 - 1s - 8ms/step - categorical_accuracy: 0.8264 - loss: 0.4364 - val_categorical_accuracy: 0.8722 - val_loss: 0.3209 - learning_rate: 1.0000e-04\n",
      "Epoch 124/200\n",
      "\n",
      "Epoch 124: val_loss improved from 0.32089 to 0.30837, saving model to model_sublabeling/lstm_best.keras\n",
      "90/90 - 1s - 7ms/step - categorical_accuracy: 0.8417 - loss: 0.4043 - val_categorical_accuracy: 0.8778 - val_loss: 0.3084 - learning_rate: 1.0000e-04\n",
      "Epoch 125/200\n",
      "\n",
      "Epoch 125: val_loss did not improve from 0.30837\n",
      "90/90 - 1s - 7ms/step - categorical_accuracy: 0.8444 - loss: 0.4247 - val_categorical_accuracy: 0.8500 - val_loss: 0.3453 - learning_rate: 1.0000e-04\n",
      "Epoch 126/200\n",
      "\n",
      "Epoch 126: val_loss did not improve from 0.30837\n",
      "90/90 - 1s - 7ms/step - categorical_accuracy: 0.8167 - loss: 0.4545 - val_categorical_accuracy: 0.8944 - val_loss: 0.3240 - learning_rate: 1.0000e-04\n",
      "Epoch 127/200\n",
      "\n",
      "Epoch 127: val_loss did not improve from 0.30837\n",
      "90/90 - 1s - 7ms/step - categorical_accuracy: 0.8583 - loss: 0.3795 - val_categorical_accuracy: 0.8556 - val_loss: 0.3320 - learning_rate: 1.0000e-04\n",
      "Epoch 128/200\n",
      "\n",
      "Epoch 128: val_loss did not improve from 0.30837\n",
      "90/90 - 1s - 7ms/step - categorical_accuracy: 0.8667 - loss: 0.3821 - val_categorical_accuracy: 0.8444 - val_loss: 0.4093 - learning_rate: 1.0000e-04\n",
      "Epoch 129/200\n",
      "\n",
      "Epoch 129: val_loss did not improve from 0.30837\n",
      "90/90 - 1s - 7ms/step - categorical_accuracy: 0.8389 - loss: 0.4044 - val_categorical_accuracy: 0.8667 - val_loss: 0.3102 - learning_rate: 1.0000e-04\n",
      "Epoch 130/200\n",
      "\n",
      "Epoch 130: val_loss did not improve from 0.30837\n",
      "90/90 - 1s - 7ms/step - categorical_accuracy: 0.8667 - loss: 0.3745 - val_categorical_accuracy: 0.8500 - val_loss: 0.3576 - learning_rate: 1.0000e-04\n",
      "Epoch 131/200\n",
      "\n",
      "Epoch 131: val_loss did not improve from 0.30837\n",
      "90/90 - 1s - 7ms/step - categorical_accuracy: 0.8500 - loss: 0.4088 - val_categorical_accuracy: 0.8889 - val_loss: 0.3159 - learning_rate: 1.0000e-04\n",
      "Epoch 132/200\n",
      "\n",
      "Epoch 132: val_loss did not improve from 0.30837\n",
      "90/90 - 1s - 7ms/step - categorical_accuracy: 0.8611 - loss: 0.3723 - val_categorical_accuracy: 0.8611 - val_loss: 0.3391 - learning_rate: 1.0000e-04\n",
      "Epoch 133/200\n",
      "\n",
      "Epoch 133: val_loss improved from 0.30837 to 0.28265, saving model to model_sublabeling/lstm_best.keras\n",
      "90/90 - 1s - 8ms/step - categorical_accuracy: 0.8528 - loss: 0.3743 - val_categorical_accuracy: 0.8889 - val_loss: 0.2826 - learning_rate: 1.0000e-04\n",
      "Epoch 134/200\n",
      "\n",
      "Epoch 134: val_loss did not improve from 0.28265\n",
      "90/90 - 1s - 7ms/step - categorical_accuracy: 0.8833 - loss: 0.3425 - val_categorical_accuracy: 0.8444 - val_loss: 0.3837 - learning_rate: 1.0000e-04\n",
      "Epoch 135/200\n",
      "\n",
      "Epoch 135: val_loss improved from 0.28265 to 0.27373, saving model to model_sublabeling/lstm_best.keras\n",
      "90/90 - 1s - 7ms/step - categorical_accuracy: 0.8500 - loss: 0.3761 - val_categorical_accuracy: 0.8889 - val_loss: 0.2737 - learning_rate: 1.0000e-04\n",
      "Epoch 136/200\n",
      "\n",
      "Epoch 136: val_loss did not improve from 0.27373\n",
      "90/90 - 1s - 7ms/step - categorical_accuracy: 0.8708 - loss: 0.3618 - val_categorical_accuracy: 0.8556 - val_loss: 0.3428 - learning_rate: 1.0000e-04\n",
      "Epoch 137/200\n",
      "\n",
      "Epoch 137: val_loss did not improve from 0.27373\n",
      "90/90 - 1s - 7ms/step - categorical_accuracy: 0.8792 - loss: 0.3353 - val_categorical_accuracy: 0.8833 - val_loss: 0.2963 - learning_rate: 1.0000e-04\n",
      "Epoch 138/200\n",
      "\n",
      "Epoch 138: val_loss improved from 0.27373 to 0.27042, saving model to model_sublabeling/lstm_best.keras\n",
      "90/90 - 1s - 8ms/step - categorical_accuracy: 0.8792 - loss: 0.3459 - val_categorical_accuracy: 0.8833 - val_loss: 0.2704 - learning_rate: 1.0000e-04\n",
      "Epoch 139/200\n",
      "\n",
      "Epoch 139: val_loss improved from 0.27042 to 0.26738, saving model to model_sublabeling/lstm_best.keras\n",
      "90/90 - 1s - 8ms/step - categorical_accuracy: 0.8722 - loss: 0.3452 - val_categorical_accuracy: 0.8889 - val_loss: 0.2674 - learning_rate: 1.0000e-04\n",
      "Epoch 140/200\n",
      "\n",
      "Epoch 140: val_loss did not improve from 0.26738\n",
      "90/90 - 1s - 7ms/step - categorical_accuracy: 0.8958 - loss: 0.3116 - val_categorical_accuracy: 0.8889 - val_loss: 0.2714 - learning_rate: 1.0000e-04\n",
      "Epoch 141/200\n",
      "\n",
      "Epoch 141: val_loss did not improve from 0.26738\n",
      "90/90 - 1s - 7ms/step - categorical_accuracy: 0.8722 - loss: 0.3827 - val_categorical_accuracy: 0.8667 - val_loss: 0.3299 - learning_rate: 1.0000e-04\n",
      "Epoch 142/200\n",
      "\n",
      "Epoch 142: val_loss did not improve from 0.26738\n",
      "90/90 - 1s - 7ms/step - categorical_accuracy: 0.8694 - loss: 0.3427 - val_categorical_accuracy: 0.8833 - val_loss: 0.2685 - learning_rate: 1.0000e-04\n",
      "Epoch 143/200\n",
      "\n",
      "Epoch 143: val_loss improved from 0.26738 to 0.25242, saving model to model_sublabeling/lstm_best.keras\n",
      "90/90 - 1s - 8ms/step - categorical_accuracy: 0.8875 - loss: 0.3191 - val_categorical_accuracy: 0.8889 - val_loss: 0.2524 - learning_rate: 1.0000e-04\n",
      "Epoch 144/200\n",
      "\n",
      "Epoch 144: val_loss did not improve from 0.25242\n",
      "90/90 - 1s - 7ms/step - categorical_accuracy: 0.8722 - loss: 0.3400 - val_categorical_accuracy: 0.8889 - val_loss: 0.2573 - learning_rate: 1.0000e-04\n",
      "Epoch 145/200\n",
      "\n",
      "Epoch 145: val_loss did not improve from 0.25242\n",
      "90/90 - 1s - 7ms/step - categorical_accuracy: 0.8681 - loss: 0.3334 - val_categorical_accuracy: 0.8833 - val_loss: 0.2633 - learning_rate: 1.0000e-04\n",
      "Epoch 146/200\n",
      "\n",
      "Epoch 146: val_loss did not improve from 0.25242\n",
      "90/90 - 1s - 7ms/step - categorical_accuracy: 0.8847 - loss: 0.3448 - val_categorical_accuracy: 0.8833 - val_loss: 0.2795 - learning_rate: 1.0000e-04\n",
      "Epoch 147/200\n",
      "\n",
      "Epoch 147: val_loss did not improve from 0.25242\n",
      "90/90 - 1s - 7ms/step - categorical_accuracy: 0.8750 - loss: 0.3444 - val_categorical_accuracy: 0.8667 - val_loss: 0.2938 - learning_rate: 1.0000e-04\n",
      "Epoch 148/200\n",
      "\n",
      "Epoch 148: val_loss did not improve from 0.25242\n",
      "90/90 - 1s - 7ms/step - categorical_accuracy: 0.8750 - loss: 0.3390 - val_categorical_accuracy: 0.8722 - val_loss: 0.2898 - learning_rate: 1.0000e-04\n",
      "Epoch 149/200\n",
      "\n",
      "Epoch 149: val_loss did not improve from 0.25242\n",
      "90/90 - 1s - 7ms/step - categorical_accuracy: 0.8792 - loss: 0.3235 - val_categorical_accuracy: 0.8722 - val_loss: 0.2806 - learning_rate: 1.0000e-04\n",
      "Epoch 150/200\n",
      "\n",
      "Epoch 150: val_loss did not improve from 0.25242\n",
      "90/90 - 1s - 7ms/step - categorical_accuracy: 0.8764 - loss: 0.3379 - val_categorical_accuracy: 0.8778 - val_loss: 0.2841 - learning_rate: 1.0000e-04\n",
      "Epoch 151/200\n",
      "\n",
      "Epoch 151: val_loss did not improve from 0.25242\n",
      "90/90 - 1s - 7ms/step - categorical_accuracy: 0.8792 - loss: 0.3146 - val_categorical_accuracy: 0.8500 - val_loss: 0.3232 - learning_rate: 1.0000e-04\n",
      "Epoch 152/200\n",
      "\n",
      "Epoch 152: val_loss did not improve from 0.25242\n",
      "90/90 - 1s - 7ms/step - categorical_accuracy: 0.8903 - loss: 0.3100 - val_categorical_accuracy: 0.8722 - val_loss: 0.2795 - learning_rate: 1.0000e-04\n",
      "Epoch 153/200\n",
      "\n",
      "Epoch 153: val_loss did not improve from 0.25242\n",
      "\n",
      "Epoch 153: ReduceLROnPlateau reducing learning rate to 4.999999873689376e-05.\n",
      "90/90 - 1s - 7ms/step - categorical_accuracy: 0.8833 - loss: 0.3129 - val_categorical_accuracy: 0.8722 - val_loss: 0.2688 - learning_rate: 1.0000e-04\n",
      "Epoch 154/200\n",
      "\n",
      "Epoch 154: val_loss did not improve from 0.25242\n",
      "90/90 - 1s - 7ms/step - categorical_accuracy: 0.8833 - loss: 0.3073 - val_categorical_accuracy: 0.8722 - val_loss: 0.2685 - learning_rate: 5.0000e-05\n",
      "Epoch 155/200\n",
      "\n",
      "Epoch 155: val_loss did not improve from 0.25242\n",
      "90/90 - 1s - 7ms/step - categorical_accuracy: 0.8944 - loss: 0.2794 - val_categorical_accuracy: 0.8778 - val_loss: 0.2669 - learning_rate: 5.0000e-05\n",
      "Epoch 156/200\n",
      "\n",
      "Epoch 156: val_loss did not improve from 0.25242\n",
      "90/90 - 1s - 7ms/step - categorical_accuracy: 0.8972 - loss: 0.3007 - val_categorical_accuracy: 0.8833 - val_loss: 0.2641 - learning_rate: 5.0000e-05\n",
      "Epoch 157/200\n",
      "\n",
      "Epoch 157: val_loss did not improve from 0.25242\n",
      "90/90 - 1s - 7ms/step - categorical_accuracy: 0.8972 - loss: 0.2833 - val_categorical_accuracy: 0.8778 - val_loss: 0.2665 - learning_rate: 5.0000e-05\n",
      "Epoch 158/200\n",
      "\n",
      "Epoch 158: val_loss improved from 0.25242 to 0.24827, saving model to model_sublabeling/lstm_best.keras\n",
      "90/90 - 1s - 8ms/step - categorical_accuracy: 0.9042 - loss: 0.2740 - val_categorical_accuracy: 0.8889 - val_loss: 0.2483 - learning_rate: 5.0000e-05\n",
      "Epoch 159/200\n",
      "\n",
      "Epoch 159: val_loss did not improve from 0.24827\n",
      "90/90 - 1s - 7ms/step - categorical_accuracy: 0.9069 - loss: 0.2675 - val_categorical_accuracy: 0.8944 - val_loss: 0.2503 - learning_rate: 5.0000e-05\n",
      "Epoch 160/200\n",
      "\n",
      "Epoch 160: val_loss improved from 0.24827 to 0.24793, saving model to model_sublabeling/lstm_best.keras\n",
      "90/90 - 1s - 7ms/step - categorical_accuracy: 0.9097 - loss: 0.2540 - val_categorical_accuracy: 0.8889 - val_loss: 0.2479 - learning_rate: 5.0000e-05\n",
      "Epoch 161/200\n",
      "\n",
      "Epoch 161: val_loss did not improve from 0.24793\n",
      "90/90 - 1s - 7ms/step - categorical_accuracy: 0.8986 - loss: 0.2803 - val_categorical_accuracy: 0.8889 - val_loss: 0.2573 - learning_rate: 5.0000e-05\n",
      "Epoch 162/200\n",
      "\n",
      "Epoch 162: val_loss did not improve from 0.24793\n",
      "90/90 - 1s - 7ms/step - categorical_accuracy: 0.9056 - loss: 0.2619 - val_categorical_accuracy: 0.8889 - val_loss: 0.2493 - learning_rate: 5.0000e-05\n",
      "Epoch 163/200\n",
      "\n",
      "Epoch 163: val_loss improved from 0.24793 to 0.23887, saving model to model_sublabeling/lstm_best.keras\n",
      "90/90 - 1s - 8ms/step - categorical_accuracy: 0.8986 - loss: 0.2880 - val_categorical_accuracy: 0.8889 - val_loss: 0.2389 - learning_rate: 5.0000e-05\n",
      "Epoch 164/200\n",
      "\n",
      "Epoch 164: val_loss did not improve from 0.23887\n",
      "90/90 - 1s - 7ms/step - categorical_accuracy: 0.9028 - loss: 0.2555 - val_categorical_accuracy: 0.8833 - val_loss: 0.2424 - learning_rate: 5.0000e-05\n",
      "Epoch 165/200\n",
      "\n",
      "Epoch 165: val_loss did not improve from 0.23887\n",
      "90/90 - 1s - 7ms/step - categorical_accuracy: 0.9056 - loss: 0.2815 - val_categorical_accuracy: 0.8833 - val_loss: 0.2428 - learning_rate: 5.0000e-05\n",
      "Epoch 166/200\n",
      "\n",
      "Epoch 166: val_loss improved from 0.23887 to 0.23864, saving model to model_sublabeling/lstm_best.keras\n",
      "90/90 - 1s - 8ms/step - categorical_accuracy: 0.9014 - loss: 0.2666 - val_categorical_accuracy: 0.8889 - val_loss: 0.2386 - learning_rate: 5.0000e-05\n",
      "Epoch 167/200\n",
      "\n",
      "Epoch 167: val_loss did not improve from 0.23864\n",
      "90/90 - 1s - 7ms/step - categorical_accuracy: 0.9000 - loss: 0.2757 - val_categorical_accuracy: 0.8944 - val_loss: 0.2415 - learning_rate: 5.0000e-05\n",
      "Epoch 168/200\n",
      "\n",
      "Epoch 168: val_loss did not improve from 0.23864\n",
      "90/90 - 1s - 7ms/step - categorical_accuracy: 0.9028 - loss: 0.2652 - val_categorical_accuracy: 0.8667 - val_loss: 0.3143 - learning_rate: 5.0000e-05\n",
      "Epoch 169/200\n",
      "\n",
      "Epoch 169: val_loss did not improve from 0.23864\n",
      "90/90 - 1s - 7ms/step - categorical_accuracy: 0.9083 - loss: 0.2877 - val_categorical_accuracy: 0.8889 - val_loss: 0.2413 - learning_rate: 5.0000e-05\n",
      "Epoch 170/200\n",
      "\n",
      "Epoch 170: val_loss did not improve from 0.23864\n",
      "90/90 - 1s - 7ms/step - categorical_accuracy: 0.9028 - loss: 0.2566 - val_categorical_accuracy: 0.8833 - val_loss: 0.2413 - learning_rate: 5.0000e-05\n",
      "Epoch 171/200\n",
      "\n",
      "Epoch 171: val_loss did not improve from 0.23864\n",
      "90/90 - 1s - 7ms/step - categorical_accuracy: 0.9125 - loss: 0.2465 - val_categorical_accuracy: 0.8889 - val_loss: 0.2409 - learning_rate: 5.0000e-05\n",
      "Epoch 172/200\n",
      "\n",
      "Epoch 172: val_loss did not improve from 0.23864\n",
      "90/90 - 1s - 7ms/step - categorical_accuracy: 0.9097 - loss: 0.2601 - val_categorical_accuracy: 0.8778 - val_loss: 0.2536 - learning_rate: 5.0000e-05\n",
      "Epoch 173/200\n",
      "\n",
      "Epoch 173: val_loss did not improve from 0.23864\n",
      "90/90 - 1s - 7ms/step - categorical_accuracy: 0.9319 - loss: 0.2286 - val_categorical_accuracy: 0.8833 - val_loss: 0.2552 - learning_rate: 5.0000e-05\n",
      "Epoch 174/200\n",
      "\n",
      "Epoch 174: val_loss did not improve from 0.23864\n",
      "90/90 - 1s - 7ms/step - categorical_accuracy: 0.9194 - loss: 0.2285 - val_categorical_accuracy: 0.8833 - val_loss: 0.2568 - learning_rate: 5.0000e-05\n",
      "Epoch 175/200\n",
      "\n",
      "Epoch 175: val_loss did not improve from 0.23864\n",
      "90/90 - 1s - 7ms/step - categorical_accuracy: 0.9028 - loss: 0.2720 - val_categorical_accuracy: 0.8889 - val_loss: 0.2387 - learning_rate: 5.0000e-05\n",
      "Epoch 176/200\n",
      "\n",
      "Epoch 176: val_loss did not improve from 0.23864\n",
      "\n",
      "Epoch 176: ReduceLROnPlateau reducing learning rate to 2.499999936844688e-05.\n",
      "90/90 - 1s - 7ms/step - categorical_accuracy: 0.9083 - loss: 0.2463 - val_categorical_accuracy: 0.8889 - val_loss: 0.2465 - learning_rate: 5.0000e-05\n",
      "Epoch 177/200\n",
      "\n",
      "Epoch 177: val_loss did not improve from 0.23864\n",
      "90/90 - 1s - 7ms/step - categorical_accuracy: 0.9056 - loss: 0.2584 - val_categorical_accuracy: 0.8889 - val_loss: 0.2443 - learning_rate: 2.5000e-05\n",
      "Epoch 178/200\n",
      "\n",
      "Epoch 178: val_loss did not improve from 0.23864\n",
      "90/90 - 1s - 7ms/step - categorical_accuracy: 0.9139 - loss: 0.2482 - val_categorical_accuracy: 0.8889 - val_loss: 0.2398 - learning_rate: 2.5000e-05\n",
      "Epoch 179/200\n",
      "\n",
      "Epoch 179: val_loss did not improve from 0.23864\n",
      "90/90 - 1s - 7ms/step - categorical_accuracy: 0.9194 - loss: 0.2434 - val_categorical_accuracy: 0.8833 - val_loss: 0.2478 - learning_rate: 2.5000e-05\n",
      "Epoch 180/200\n",
      "\n",
      "Epoch 180: val_loss did not improve from 0.23864\n",
      "90/90 - 1s - 7ms/step - categorical_accuracy: 0.9111 - loss: 0.2470 - val_categorical_accuracy: 0.8833 - val_loss: 0.2466 - learning_rate: 2.5000e-05\n",
      "Epoch 181/200\n",
      "\n",
      "Epoch 181: val_loss did not improve from 0.23864\n",
      "90/90 - 1s - 7ms/step - categorical_accuracy: 0.9208 - loss: 0.2456 - val_categorical_accuracy: 0.8833 - val_loss: 0.2503 - learning_rate: 2.5000e-05\n",
      "Epoch 182/200\n",
      "\n",
      "Epoch 182: val_loss did not improve from 0.23864\n",
      "90/90 - 1s - 7ms/step - categorical_accuracy: 0.9194 - loss: 0.2345 - val_categorical_accuracy: 0.8833 - val_loss: 0.2435 - learning_rate: 2.5000e-05\n",
      "Epoch 183/200\n",
      "\n",
      "Epoch 183: val_loss did not improve from 0.23864\n",
      "90/90 - 1s - 7ms/step - categorical_accuracy: 0.9028 - loss: 0.2480 - val_categorical_accuracy: 0.8833 - val_loss: 0.2486 - learning_rate: 2.5000e-05\n",
      "Epoch 184/200\n",
      "\n",
      "Epoch 184: val_loss did not improve from 0.23864\n",
      "90/90 - 1s - 7ms/step - categorical_accuracy: 0.9222 - loss: 0.2312 - val_categorical_accuracy: 0.8833 - val_loss: 0.2506 - learning_rate: 2.5000e-05\n",
      "Epoch 185/200\n",
      "\n",
      "Epoch 185: val_loss did not improve from 0.23864\n",
      "90/90 - 1s - 7ms/step - categorical_accuracy: 0.9236 - loss: 0.2199 - val_categorical_accuracy: 0.8833 - val_loss: 0.2424 - learning_rate: 2.5000e-05\n",
      "Epoch 186/200\n",
      "\n",
      "Epoch 186: val_loss did not improve from 0.23864\n",
      "\n",
      "Epoch 186: ReduceLROnPlateau reducing learning rate to 1.249999968422344e-05.\n",
      "90/90 - 1s - 7ms/step - categorical_accuracy: 0.9181 - loss: 0.2297 - val_categorical_accuracy: 0.8833 - val_loss: 0.2490 - learning_rate: 2.5000e-05\n",
      "Epoch 186: early stopping\n",
      "Restoring model weights from the end of the best epoch: 166.\n"
     ]
    }
   ],
   "source": [
    "# --- Model LSTM ---\n",
    "print(\"\\n--- Melatih Model LSTM ---\")\n",
    "model_lstm = Sequential([\n",
    "    LSTM(64, return_sequences=False, input_shape=(sequence_length, num_features)),\n",
    "    Dropout(0.4),\n",
    "    Dense(64, activation='relu'),\n",
    "    Dropout(0.4),\n",
    "    Dense(num_classes, activation='softmax') # num_classes sekarang 15\n",
    "])\n",
    "\n",
    "model_lstm.compile(\n",
    "    optimizer=Adam(learning_rate=1e-4),\n",
    "    loss='categorical_crossentropy',\n",
    "    metrics=['categorical_accuracy']\n",
    ")\n",
    "\n",
    "callbacks_lstm = [\n",
    "    EarlyStopping(monitor='val_loss', patience=20, restore_best_weights=True, verbose=1),\n",
    "    ModelCheckpoint('model_sublabeling/lstm_best.keras', monitor='val_loss', save_best_only=True, verbose=1),\n",
    "    ReduceLROnPlateau(monitor='val_loss', factor=0.5, patience=10, verbose=1, min_lr=1e-6)\n",
    "]\n",
    "\n",
    "history_lstm = model_lstm.fit(\n",
    "    X_train_scaled, y_train_one_hot,\n",
    "    validation_data=(X_val_scaled, y_val_one_hot),\n",
    "    epochs=200,\n",
    "    batch_size=8, \n",
    "    shuffle=True,\n",
    "    callbacks=callbacks_lstm,\n",
    "    verbose=2\n",
    ")"
   ]
  },
  {
   "cell_type": "markdown",
   "metadata": {},
   "source": [
    "## GRU"
   ]
  },
  {
   "cell_type": "code",
   "execution_count": 21,
   "metadata": {
    "execution": {
     "iopub.execute_input": "2025-05-26T04:15:58.585392Z",
     "iopub.status.busy": "2025-05-26T04:15:58.584768Z",
     "iopub.status.idle": "2025-05-26T04:16:51.855439Z",
     "shell.execute_reply": "2025-05-26T04:16:51.854422Z",
     "shell.execute_reply.started": "2025-05-26T04:15:58.585365Z"
    },
    "trusted": true
   },
   "outputs": [
    {
     "name": "stdout",
     "output_type": "stream",
     "text": [
      "\n",
      "--- Melatih Model GRU ---\n",
      "Epoch 1/150\n",
      "\n",
      "Epoch 1: val_loss improved from inf to 2.58274, saving model to model_sublabeling/gru_best.keras\n",
      "45/45 - 5s - 107ms/step - categorical_accuracy: 0.1083 - loss: 3.6693 - val_categorical_accuracy: 0.2111 - val_loss: 2.5827 - learning_rate: 1.0000e-04\n",
      "Epoch 2/150\n",
      "\n",
      "Epoch 2: val_loss improved from 2.58274 to 2.36982, saving model to model_sublabeling/gru_best.keras\n",
      "45/45 - 1s - 31ms/step - categorical_accuracy: 0.1875 - loss: 2.9748 - val_categorical_accuracy: 0.3000 - val_loss: 2.3698 - learning_rate: 1.0000e-04\n",
      "Epoch 3/150\n",
      "\n",
      "Epoch 3: val_loss improved from 2.36982 to 2.09639, saving model to model_sublabeling/gru_best.keras\n",
      "45/45 - 1s - 31ms/step - categorical_accuracy: 0.2222 - loss: 2.7160 - val_categorical_accuracy: 0.3222 - val_loss: 2.0964 - learning_rate: 1.0000e-04\n",
      "Epoch 4/150\n",
      "\n",
      "Epoch 4: val_loss improved from 2.09639 to 1.84512, saving model to model_sublabeling/gru_best.keras\n",
      "45/45 - 1s - 31ms/step - categorical_accuracy: 0.2597 - loss: 2.4317 - val_categorical_accuracy: 0.3389 - val_loss: 1.8451 - learning_rate: 1.0000e-04\n",
      "Epoch 5/150\n",
      "\n",
      "Epoch 5: val_loss improved from 1.84512 to 1.65073, saving model to model_sublabeling/gru_best.keras\n",
      "45/45 - 1s - 32ms/step - categorical_accuracy: 0.2639 - loss: 2.3759 - val_categorical_accuracy: 0.3667 - val_loss: 1.6507 - learning_rate: 1.0000e-04\n",
      "Epoch 6/150\n",
      "\n",
      "Epoch 6: val_loss improved from 1.65073 to 1.49306, saving model to model_sublabeling/gru_best.keras\n",
      "45/45 - 1s - 31ms/step - categorical_accuracy: 0.2889 - loss: 2.2982 - val_categorical_accuracy: 0.4611 - val_loss: 1.4931 - learning_rate: 1.0000e-04\n",
      "Epoch 7/150\n",
      "\n",
      "Epoch 7: val_loss improved from 1.49306 to 1.39493, saving model to model_sublabeling/gru_best.keras\n",
      "45/45 - 1s - 31ms/step - categorical_accuracy: 0.2847 - loss: 2.2666 - val_categorical_accuracy: 0.4944 - val_loss: 1.3949 - learning_rate: 1.0000e-04\n",
      "Epoch 8/150\n",
      "\n",
      "Epoch 8: val_loss improved from 1.39493 to 1.31490, saving model to model_sublabeling/gru_best.keras\n",
      "45/45 - 1s - 31ms/step - categorical_accuracy: 0.2972 - loss: 2.0677 - val_categorical_accuracy: 0.4889 - val_loss: 1.3149 - learning_rate: 1.0000e-04\n",
      "Epoch 9/150\n",
      "\n",
      "Epoch 9: val_loss improved from 1.31490 to 1.25315, saving model to model_sublabeling/gru_best.keras\n",
      "45/45 - 1s - 31ms/step - categorical_accuracy: 0.3236 - loss: 1.9934 - val_categorical_accuracy: 0.4944 - val_loss: 1.2531 - learning_rate: 1.0000e-04\n",
      "Epoch 10/150\n",
      "\n",
      "Epoch 10: val_loss improved from 1.25315 to 1.20881, saving model to model_sublabeling/gru_best.keras\n",
      "45/45 - 1s - 31ms/step - categorical_accuracy: 0.3236 - loss: 2.0075 - val_categorical_accuracy: 0.5278 - val_loss: 1.2088 - learning_rate: 1.0000e-04\n",
      "Epoch 11/150\n",
      "\n",
      "Epoch 11: val_loss improved from 1.20881 to 1.17486, saving model to model_sublabeling/gru_best.keras\n",
      "45/45 - 1s - 31ms/step - categorical_accuracy: 0.3597 - loss: 1.8911 - val_categorical_accuracy: 0.5556 - val_loss: 1.1749 - learning_rate: 1.0000e-04\n",
      "Epoch 12/150\n",
      "\n",
      "Epoch 12: val_loss improved from 1.17486 to 1.15036, saving model to model_sublabeling/gru_best.keras\n",
      "45/45 - 1s - 31ms/step - categorical_accuracy: 0.3597 - loss: 1.8552 - val_categorical_accuracy: 0.5444 - val_loss: 1.1504 - learning_rate: 1.0000e-04\n",
      "Epoch 13/150\n",
      "\n",
      "Epoch 13: val_loss improved from 1.15036 to 1.13096, saving model to model_sublabeling/gru_best.keras\n",
      "45/45 - 1s - 31ms/step - categorical_accuracy: 0.3944 - loss: 1.7291 - val_categorical_accuracy: 0.5556 - val_loss: 1.1310 - learning_rate: 1.0000e-04\n",
      "Epoch 14/150\n",
      "\n",
      "Epoch 14: val_loss improved from 1.13096 to 1.09782, saving model to model_sublabeling/gru_best.keras\n",
      "45/45 - 1s - 32ms/step - categorical_accuracy: 0.3694 - loss: 1.8038 - val_categorical_accuracy: 0.5389 - val_loss: 1.0978 - learning_rate: 1.0000e-04\n",
      "Epoch 15/150\n",
      "\n",
      "Epoch 15: val_loss improved from 1.09782 to 1.07415, saving model to model_sublabeling/gru_best.keras\n",
      "45/45 - 1s - 31ms/step - categorical_accuracy: 0.3875 - loss: 1.7805 - val_categorical_accuracy: 0.5667 - val_loss: 1.0741 - learning_rate: 1.0000e-04\n",
      "Epoch 16/150\n",
      "\n",
      "Epoch 16: val_loss improved from 1.07415 to 1.05949, saving model to model_sublabeling/gru_best.keras\n",
      "45/45 - 1s - 31ms/step - categorical_accuracy: 0.4208 - loss: 1.6611 - val_categorical_accuracy: 0.6167 - val_loss: 1.0595 - learning_rate: 1.0000e-04\n",
      "Epoch 17/150\n",
      "\n",
      "Epoch 17: val_loss improved from 1.05949 to 1.02074, saving model to model_sublabeling/gru_best.keras\n",
      "45/45 - 1s - 31ms/step - categorical_accuracy: 0.4208 - loss: 1.6470 - val_categorical_accuracy: 0.6000 - val_loss: 1.0207 - learning_rate: 1.0000e-04\n",
      "Epoch 18/150\n",
      "\n",
      "Epoch 18: val_loss improved from 1.02074 to 0.98916, saving model to model_sublabeling/gru_best.keras\n",
      "45/45 - 1s - 31ms/step - categorical_accuracy: 0.4181 - loss: 1.5939 - val_categorical_accuracy: 0.5889 - val_loss: 0.9892 - learning_rate: 1.0000e-04\n",
      "Epoch 19/150\n",
      "\n",
      "Epoch 19: val_loss improved from 0.98916 to 0.96558, saving model to model_sublabeling/gru_best.keras\n",
      "45/45 - 1s - 33ms/step - categorical_accuracy: 0.4222 - loss: 1.5583 - val_categorical_accuracy: 0.6222 - val_loss: 0.9656 - learning_rate: 1.0000e-04\n",
      "Epoch 20/150\n",
      "\n",
      "Epoch 20: val_loss improved from 0.96558 to 0.94601, saving model to model_sublabeling/gru_best.keras\n",
      "45/45 - 1s - 31ms/step - categorical_accuracy: 0.4319 - loss: 1.5628 - val_categorical_accuracy: 0.6111 - val_loss: 0.9460 - learning_rate: 1.0000e-04\n",
      "Epoch 21/150\n",
      "\n",
      "Epoch 21: val_loss improved from 0.94601 to 0.92804, saving model to model_sublabeling/gru_best.keras\n",
      "45/45 - 1s - 31ms/step - categorical_accuracy: 0.4556 - loss: 1.4953 - val_categorical_accuracy: 0.6000 - val_loss: 0.9280 - learning_rate: 1.0000e-04\n",
      "Epoch 22/150\n",
      "\n",
      "Epoch 22: val_loss improved from 0.92804 to 0.88387, saving model to model_sublabeling/gru_best.keras\n",
      "45/45 - 1s - 31ms/step - categorical_accuracy: 0.4736 - loss: 1.4308 - val_categorical_accuracy: 0.6389 - val_loss: 0.8839 - learning_rate: 1.0000e-04\n",
      "Epoch 23/150\n",
      "\n",
      "Epoch 23: val_loss improved from 0.88387 to 0.88256, saving model to model_sublabeling/gru_best.keras\n",
      "45/45 - 1s - 31ms/step - categorical_accuracy: 0.4708 - loss: 1.4461 - val_categorical_accuracy: 0.6500 - val_loss: 0.8826 - learning_rate: 1.0000e-04\n",
      "Epoch 24/150\n",
      "\n",
      "Epoch 24: val_loss improved from 0.88256 to 0.85595, saving model to model_sublabeling/gru_best.keras\n",
      "45/45 - 1s - 31ms/step - categorical_accuracy: 0.4903 - loss: 1.3796 - val_categorical_accuracy: 0.6556 - val_loss: 0.8560 - learning_rate: 1.0000e-04\n",
      "Epoch 25/150\n",
      "\n",
      "Epoch 25: val_loss improved from 0.85595 to 0.84959, saving model to model_sublabeling/gru_best.keras\n",
      "45/45 - 1s - 31ms/step - categorical_accuracy: 0.4806 - loss: 1.3642 - val_categorical_accuracy: 0.6500 - val_loss: 0.8496 - learning_rate: 1.0000e-04\n",
      "Epoch 26/150\n",
      "\n",
      "Epoch 26: val_loss improved from 0.84959 to 0.83343, saving model to model_sublabeling/gru_best.keras\n",
      "45/45 - 1s - 31ms/step - categorical_accuracy: 0.5042 - loss: 1.2795 - val_categorical_accuracy: 0.6556 - val_loss: 0.8334 - learning_rate: 1.0000e-04\n",
      "Epoch 27/150\n",
      "\n",
      "Epoch 27: val_loss improved from 0.83343 to 0.82143, saving model to model_sublabeling/gru_best.keras\n",
      "45/45 - 1s - 31ms/step - categorical_accuracy: 0.5514 - loss: 1.2189 - val_categorical_accuracy: 0.6722 - val_loss: 0.8214 - learning_rate: 1.0000e-04\n",
      "Epoch 28/150\n",
      "\n",
      "Epoch 28: val_loss improved from 0.82143 to 0.80386, saving model to model_sublabeling/gru_best.keras\n",
      "45/45 - 1s - 32ms/step - categorical_accuracy: 0.5417 - loss: 1.1810 - val_categorical_accuracy: 0.6722 - val_loss: 0.8039 - learning_rate: 1.0000e-04\n",
      "Epoch 29/150\n",
      "\n",
      "Epoch 29: val_loss improved from 0.80386 to 0.79050, saving model to model_sublabeling/gru_best.keras\n",
      "45/45 - 1s - 31ms/step - categorical_accuracy: 0.5056 - loss: 1.3018 - val_categorical_accuracy: 0.6778 - val_loss: 0.7905 - learning_rate: 1.0000e-04\n",
      "Epoch 30/150\n",
      "\n",
      "Epoch 30: val_loss improved from 0.79050 to 0.77000, saving model to model_sublabeling/gru_best.keras\n",
      "45/45 - 1s - 31ms/step - categorical_accuracy: 0.5264 - loss: 1.2686 - val_categorical_accuracy: 0.7000 - val_loss: 0.7700 - learning_rate: 1.0000e-04\n",
      "Epoch 31/150\n",
      "\n",
      "Epoch 31: val_loss improved from 0.77000 to 0.76741, saving model to model_sublabeling/gru_best.keras\n",
      "45/45 - 1s - 31ms/step - categorical_accuracy: 0.5125 - loss: 1.2182 - val_categorical_accuracy: 0.6778 - val_loss: 0.7674 - learning_rate: 1.0000e-04\n",
      "Epoch 32/150\n",
      "\n",
      "Epoch 32: val_loss improved from 0.76741 to 0.75836, saving model to model_sublabeling/gru_best.keras\n",
      "45/45 - 1s - 31ms/step - categorical_accuracy: 0.5528 - loss: 1.1294 - val_categorical_accuracy: 0.7056 - val_loss: 0.7584 - learning_rate: 1.0000e-04\n",
      "Epoch 33/150\n",
      "\n",
      "Epoch 33: val_loss improved from 0.75836 to 0.74227, saving model to model_sublabeling/gru_best.keras\n",
      "45/45 - 1s - 31ms/step - categorical_accuracy: 0.5597 - loss: 1.1463 - val_categorical_accuracy: 0.6889 - val_loss: 0.7423 - learning_rate: 1.0000e-04\n",
      "Epoch 34/150\n",
      "\n",
      "Epoch 34: val_loss improved from 0.74227 to 0.74040, saving model to model_sublabeling/gru_best.keras\n",
      "45/45 - 1s - 31ms/step - categorical_accuracy: 0.5542 - loss: 1.1898 - val_categorical_accuracy: 0.7111 - val_loss: 0.7404 - learning_rate: 1.0000e-04\n",
      "Epoch 35/150\n",
      "\n",
      "Epoch 35: val_loss improved from 0.74040 to 0.72066, saving model to model_sublabeling/gru_best.keras\n",
      "45/45 - 1s - 31ms/step - categorical_accuracy: 0.5514 - loss: 1.1653 - val_categorical_accuracy: 0.7444 - val_loss: 0.7207 - learning_rate: 1.0000e-04\n",
      "Epoch 36/150\n",
      "\n",
      "Epoch 36: val_loss improved from 0.72066 to 0.71270, saving model to model_sublabeling/gru_best.keras\n",
      "45/45 - 1s - 31ms/step - categorical_accuracy: 0.5750 - loss: 1.1038 - val_categorical_accuracy: 0.7333 - val_loss: 0.7127 - learning_rate: 1.0000e-04\n",
      "Epoch 37/150\n",
      "\n",
      "Epoch 37: val_loss improved from 0.71270 to 0.69313, saving model to model_sublabeling/gru_best.keras\n",
      "45/45 - 1s - 32ms/step - categorical_accuracy: 0.5875 - loss: 1.0420 - val_categorical_accuracy: 0.7611 - val_loss: 0.6931 - learning_rate: 1.0000e-04\n",
      "Epoch 38/150\n",
      "\n",
      "Epoch 38: val_loss improved from 0.69313 to 0.68844, saving model to model_sublabeling/gru_best.keras\n",
      "45/45 - 1s - 32ms/step - categorical_accuracy: 0.5972 - loss: 1.0383 - val_categorical_accuracy: 0.7333 - val_loss: 0.6884 - learning_rate: 1.0000e-04\n",
      "Epoch 39/150\n",
      "\n",
      "Epoch 39: val_loss improved from 0.68844 to 0.68128, saving model to model_sublabeling/gru_best.keras\n",
      "45/45 - 1s - 31ms/step - categorical_accuracy: 0.6014 - loss: 1.0595 - val_categorical_accuracy: 0.7278 - val_loss: 0.6813 - learning_rate: 1.0000e-04\n",
      "Epoch 40/150\n",
      "\n",
      "Epoch 40: val_loss did not improve from 0.68128\n",
      "45/45 - 1s - 30ms/step - categorical_accuracy: 0.5778 - loss: 1.0958 - val_categorical_accuracy: 0.7278 - val_loss: 0.6879 - learning_rate: 1.0000e-04\n",
      "Epoch 41/150\n",
      "\n",
      "Epoch 41: val_loss improved from 0.68128 to 0.67348, saving model to model_sublabeling/gru_best.keras\n",
      "45/45 - 1s - 32ms/step - categorical_accuracy: 0.5861 - loss: 1.0771 - val_categorical_accuracy: 0.7556 - val_loss: 0.6735 - learning_rate: 1.0000e-04\n",
      "Epoch 42/150\n",
      "\n",
      "Epoch 42: val_loss improved from 0.67348 to 0.66260, saving model to model_sublabeling/gru_best.keras\n",
      "45/45 - 1s - 32ms/step - categorical_accuracy: 0.5736 - loss: 1.0610 - val_categorical_accuracy: 0.7444 - val_loss: 0.6626 - learning_rate: 1.0000e-04\n",
      "Epoch 43/150\n",
      "\n",
      "Epoch 43: val_loss improved from 0.66260 to 0.65890, saving model to model_sublabeling/gru_best.keras\n",
      "45/45 - 1s - 32ms/step - categorical_accuracy: 0.6375 - loss: 0.9755 - val_categorical_accuracy: 0.7444 - val_loss: 0.6589 - learning_rate: 1.0000e-04\n",
      "Epoch 44/150\n",
      "\n",
      "Epoch 44: val_loss did not improve from 0.65890\n",
      "45/45 - 1s - 30ms/step - categorical_accuracy: 0.6111 - loss: 1.0133 - val_categorical_accuracy: 0.7278 - val_loss: 0.6627 - learning_rate: 1.0000e-04\n",
      "Epoch 45/150\n",
      "\n",
      "Epoch 45: val_loss improved from 0.65890 to 0.65302, saving model to model_sublabeling/gru_best.keras\n",
      "45/45 - 1s - 32ms/step - categorical_accuracy: 0.6125 - loss: 0.9787 - val_categorical_accuracy: 0.7389 - val_loss: 0.6530 - learning_rate: 1.0000e-04\n",
      "Epoch 46/150\n",
      "\n",
      "Epoch 46: val_loss improved from 0.65302 to 0.62644, saving model to model_sublabeling/gru_best.keras\n",
      "45/45 - 1s - 32ms/step - categorical_accuracy: 0.6444 - loss: 0.9117 - val_categorical_accuracy: 0.7389 - val_loss: 0.6264 - learning_rate: 1.0000e-04\n",
      "Epoch 47/150\n",
      "\n",
      "Epoch 47: val_loss improved from 0.62644 to 0.62090, saving model to model_sublabeling/gru_best.keras\n",
      "45/45 - 1s - 32ms/step - categorical_accuracy: 0.6264 - loss: 0.9738 - val_categorical_accuracy: 0.7389 - val_loss: 0.6209 - learning_rate: 1.0000e-04\n",
      "Epoch 48/150\n",
      "\n",
      "Epoch 48: val_loss improved from 0.62090 to 0.60056, saving model to model_sublabeling/gru_best.keras\n",
      "45/45 - 1s - 32ms/step - categorical_accuracy: 0.6431 - loss: 0.9501 - val_categorical_accuracy: 0.7944 - val_loss: 0.6006 - learning_rate: 1.0000e-04\n",
      "Epoch 49/150\n",
      "\n",
      "Epoch 49: val_loss improved from 0.60056 to 0.59892, saving model to model_sublabeling/gru_best.keras\n",
      "45/45 - 1s - 32ms/step - categorical_accuracy: 0.6389 - loss: 0.9343 - val_categorical_accuracy: 0.7556 - val_loss: 0.5989 - learning_rate: 1.0000e-04\n",
      "Epoch 50/150\n",
      "\n",
      "Epoch 50: val_loss did not improve from 0.59892\n",
      "45/45 - 1s - 30ms/step - categorical_accuracy: 0.6417 - loss: 0.9270 - val_categorical_accuracy: 0.7556 - val_loss: 0.6063 - learning_rate: 1.0000e-04\n",
      "Epoch 51/150\n",
      "\n",
      "Epoch 51: val_loss improved from 0.59892 to 0.57377, saving model to model_sublabeling/gru_best.keras\n",
      "45/45 - 1s - 31ms/step - categorical_accuracy: 0.6347 - loss: 0.9105 - val_categorical_accuracy: 0.7944 - val_loss: 0.5738 - learning_rate: 1.0000e-04\n",
      "Epoch 52/150\n",
      "\n",
      "Epoch 52: val_loss did not improve from 0.57377\n",
      "45/45 - 1s - 30ms/step - categorical_accuracy: 0.6306 - loss: 0.9649 - val_categorical_accuracy: 0.7556 - val_loss: 0.6044 - learning_rate: 1.0000e-04\n",
      "Epoch 53/150\n",
      "\n",
      "Epoch 53: val_loss did not improve from 0.57377\n",
      "45/45 - 1s - 30ms/step - categorical_accuracy: 0.6500 - loss: 0.9004 - val_categorical_accuracy: 0.7667 - val_loss: 0.5938 - learning_rate: 1.0000e-04\n",
      "Epoch 54/150\n",
      "\n",
      "Epoch 54: val_loss did not improve from 0.57377\n",
      "45/45 - 1s - 30ms/step - categorical_accuracy: 0.6583 - loss: 0.8667 - val_categorical_accuracy: 0.7556 - val_loss: 0.6135 - learning_rate: 1.0000e-04\n",
      "Epoch 55/150\n",
      "\n",
      "Epoch 55: val_loss did not improve from 0.57377\n",
      "45/45 - 1s - 30ms/step - categorical_accuracy: 0.6819 - loss: 0.8511 - val_categorical_accuracy: 0.7833 - val_loss: 0.5889 - learning_rate: 1.0000e-04\n",
      "Epoch 56/150\n",
      "\n",
      "Epoch 56: val_loss improved from 0.57377 to 0.55966, saving model to model_sublabeling/gru_best.keras\n",
      "45/45 - 1s - 32ms/step - categorical_accuracy: 0.6528 - loss: 0.9266 - val_categorical_accuracy: 0.7833 - val_loss: 0.5597 - learning_rate: 1.0000e-04\n",
      "Epoch 57/150\n",
      "\n",
      "Epoch 57: val_loss did not improve from 0.55966\n",
      "45/45 - 1s - 30ms/step - categorical_accuracy: 0.6583 - loss: 0.9052 - val_categorical_accuracy: 0.7722 - val_loss: 0.5691 - learning_rate: 1.0000e-04\n",
      "Epoch 58/150\n",
      "\n",
      "Epoch 58: val_loss improved from 0.55966 to 0.54707, saving model to model_sublabeling/gru_best.keras\n",
      "45/45 - 1s - 31ms/step - categorical_accuracy: 0.6736 - loss: 0.7981 - val_categorical_accuracy: 0.7722 - val_loss: 0.5471 - learning_rate: 1.0000e-04\n",
      "Epoch 59/150\n",
      "\n",
      "Epoch 59: val_loss did not improve from 0.54707\n",
      "45/45 - 1s - 30ms/step - categorical_accuracy: 0.6778 - loss: 0.8121 - val_categorical_accuracy: 0.7667 - val_loss: 0.5541 - learning_rate: 1.0000e-04\n",
      "Epoch 60/150\n",
      "\n",
      "Epoch 60: val_loss improved from 0.54707 to 0.54563, saving model to model_sublabeling/gru_best.keras\n",
      "45/45 - 1s - 31ms/step - categorical_accuracy: 0.6847 - loss: 0.7773 - val_categorical_accuracy: 0.7778 - val_loss: 0.5456 - learning_rate: 1.0000e-04\n",
      "Epoch 61/150\n",
      "\n",
      "Epoch 61: val_loss improved from 0.54563 to 0.54419, saving model to model_sublabeling/gru_best.keras\n",
      "45/45 - 1s - 31ms/step - categorical_accuracy: 0.6917 - loss: 0.7760 - val_categorical_accuracy: 0.7833 - val_loss: 0.5442 - learning_rate: 1.0000e-04\n",
      "Epoch 62/150\n",
      "\n",
      "Epoch 62: val_loss did not improve from 0.54419\n",
      "45/45 - 1s - 30ms/step - categorical_accuracy: 0.6639 - loss: 0.8233 - val_categorical_accuracy: 0.8111 - val_loss: 0.5516 - learning_rate: 1.0000e-04\n",
      "Epoch 63/150\n",
      "\n",
      "Epoch 63: val_loss improved from 0.54419 to 0.51714, saving model to model_sublabeling/gru_best.keras\n",
      "45/45 - 1s - 31ms/step - categorical_accuracy: 0.6778 - loss: 0.8022 - val_categorical_accuracy: 0.8056 - val_loss: 0.5171 - learning_rate: 1.0000e-04\n",
      "Epoch 64/150\n",
      "\n",
      "Epoch 64: val_loss improved from 0.51714 to 0.51530, saving model to model_sublabeling/gru_best.keras\n",
      "45/45 - 1s - 31ms/step - categorical_accuracy: 0.6806 - loss: 0.8058 - val_categorical_accuracy: 0.8056 - val_loss: 0.5153 - learning_rate: 1.0000e-04\n",
      "Epoch 65/150\n",
      "\n",
      "Epoch 65: val_loss did not improve from 0.51530\n",
      "45/45 - 1s - 30ms/step - categorical_accuracy: 0.7014 - loss: 0.8003 - val_categorical_accuracy: 0.7944 - val_loss: 0.5544 - learning_rate: 1.0000e-04\n",
      "Epoch 66/150\n",
      "\n",
      "Epoch 66: val_loss did not improve from 0.51530\n",
      "45/45 - 1s - 30ms/step - categorical_accuracy: 0.6875 - loss: 0.7731 - val_categorical_accuracy: 0.8056 - val_loss: 0.5203 - learning_rate: 1.0000e-04\n",
      "Epoch 67/150\n",
      "\n",
      "Epoch 67: val_loss improved from 0.51530 to 0.49685, saving model to model_sublabeling/gru_best.keras\n",
      "45/45 - 1s - 31ms/step - categorical_accuracy: 0.6722 - loss: 0.7830 - val_categorical_accuracy: 0.8389 - val_loss: 0.4968 - learning_rate: 1.0000e-04\n",
      "Epoch 68/150\n",
      "\n",
      "Epoch 68: val_loss did not improve from 0.49685\n",
      "45/45 - 1s - 30ms/step - categorical_accuracy: 0.6861 - loss: 0.7934 - val_categorical_accuracy: 0.7944 - val_loss: 0.5375 - learning_rate: 1.0000e-04\n",
      "Epoch 69/150\n",
      "\n",
      "Epoch 69: val_loss did not improve from 0.49685\n",
      "45/45 - 1s - 30ms/step - categorical_accuracy: 0.7069 - loss: 0.7477 - val_categorical_accuracy: 0.8222 - val_loss: 0.5010 - learning_rate: 1.0000e-04\n",
      "Epoch 70/150\n",
      "\n",
      "Epoch 70: val_loss did not improve from 0.49685\n",
      "45/45 - 1s - 30ms/step - categorical_accuracy: 0.6889 - loss: 0.7626 - val_categorical_accuracy: 0.8000 - val_loss: 0.5045 - learning_rate: 1.0000e-04\n",
      "Epoch 71/150\n",
      "\n",
      "Epoch 71: val_loss improved from 0.49685 to 0.48802, saving model to model_sublabeling/gru_best.keras\n",
      "45/45 - 1s - 31ms/step - categorical_accuracy: 0.7139 - loss: 0.7394 - val_categorical_accuracy: 0.8056 - val_loss: 0.4880 - learning_rate: 1.0000e-04\n",
      "Epoch 72/150\n",
      "\n",
      "Epoch 72: val_loss did not improve from 0.48802\n",
      "45/45 - 1s - 31ms/step - categorical_accuracy: 0.6986 - loss: 0.7608 - val_categorical_accuracy: 0.8056 - val_loss: 0.4981 - learning_rate: 1.0000e-04\n",
      "Epoch 73/150\n",
      "\n",
      "Epoch 73: val_loss did not improve from 0.48802\n",
      "45/45 - 1s - 30ms/step - categorical_accuracy: 0.7069 - loss: 0.7193 - val_categorical_accuracy: 0.7889 - val_loss: 0.5113 - learning_rate: 1.0000e-04\n",
      "Epoch 74/150\n",
      "\n",
      "Epoch 74: val_loss improved from 0.48802 to 0.48226, saving model to model_sublabeling/gru_best.keras\n",
      "45/45 - 1s - 32ms/step - categorical_accuracy: 0.7208 - loss: 0.7061 - val_categorical_accuracy: 0.8222 - val_loss: 0.4823 - learning_rate: 1.0000e-04\n",
      "Epoch 75/150\n",
      "\n",
      "Epoch 75: val_loss improved from 0.48226 to 0.44872, saving model to model_sublabeling/gru_best.keras\n",
      "45/45 - 1s - 32ms/step - categorical_accuracy: 0.7486 - loss: 0.6731 - val_categorical_accuracy: 0.8389 - val_loss: 0.4487 - learning_rate: 1.0000e-04\n",
      "Epoch 76/150\n",
      "\n",
      "Epoch 76: val_loss did not improve from 0.44872\n",
      "45/45 - 1s - 30ms/step - categorical_accuracy: 0.7222 - loss: 0.6805 - val_categorical_accuracy: 0.8333 - val_loss: 0.4497 - learning_rate: 1.0000e-04\n",
      "Epoch 77/150\n",
      "\n",
      "Epoch 77: val_loss did not improve from 0.44872\n",
      "45/45 - 1s - 31ms/step - categorical_accuracy: 0.7417 - loss: 0.6695 - val_categorical_accuracy: 0.8056 - val_loss: 0.4813 - learning_rate: 1.0000e-04\n",
      "Epoch 78/150\n",
      "\n",
      "Epoch 78: val_loss improved from 0.44872 to 0.44302, saving model to model_sublabeling/gru_best.keras\n",
      "45/45 - 1s - 32ms/step - categorical_accuracy: 0.7444 - loss: 0.6784 - val_categorical_accuracy: 0.8444 - val_loss: 0.4430 - learning_rate: 1.0000e-04\n",
      "Epoch 79/150\n",
      "\n",
      "Epoch 79: val_loss did not improve from 0.44302\n",
      "45/45 - 1s - 30ms/step - categorical_accuracy: 0.7167 - loss: 0.7297 - val_categorical_accuracy: 0.7944 - val_loss: 0.4745 - learning_rate: 1.0000e-04\n",
      "Epoch 80/150\n",
      "\n",
      "Epoch 80: val_loss did not improve from 0.44302\n",
      "45/45 - 1s - 31ms/step - categorical_accuracy: 0.7333 - loss: 0.6856 - val_categorical_accuracy: 0.8167 - val_loss: 0.4840 - learning_rate: 1.0000e-04\n",
      "Epoch 81/150\n",
      "\n",
      "Epoch 81: val_loss did not improve from 0.44302\n",
      "45/45 - 1s - 30ms/step - categorical_accuracy: 0.7028 - loss: 0.7283 - val_categorical_accuracy: 0.8389 - val_loss: 0.5006 - learning_rate: 1.0000e-04\n",
      "Epoch 82/150\n",
      "\n",
      "Epoch 82: val_loss did not improve from 0.44302\n",
      "45/45 - 1s - 31ms/step - categorical_accuracy: 0.7222 - loss: 0.6958 - val_categorical_accuracy: 0.8167 - val_loss: 0.4571 - learning_rate: 1.0000e-04\n",
      "Epoch 83/150\n",
      "\n",
      "Epoch 83: val_loss did not improve from 0.44302\n",
      "45/45 - 1s - 30ms/step - categorical_accuracy: 0.7250 - loss: 0.6890 - val_categorical_accuracy: 0.8167 - val_loss: 0.4889 - learning_rate: 1.0000e-04\n",
      "Epoch 84/150\n",
      "\n",
      "Epoch 84: val_loss did not improve from 0.44302\n",
      "45/45 - 1s - 30ms/step - categorical_accuracy: 0.7347 - loss: 0.6648 - val_categorical_accuracy: 0.8500 - val_loss: 0.4527 - learning_rate: 1.0000e-04\n",
      "Epoch 85/150\n",
      "\n",
      "Epoch 85: val_loss improved from 0.44302 to 0.41524, saving model to model_sublabeling/gru_best.keras\n",
      "45/45 - 1s - 31ms/step - categorical_accuracy: 0.7597 - loss: 0.6322 - val_categorical_accuracy: 0.8444 - val_loss: 0.4152 - learning_rate: 1.0000e-04\n",
      "Epoch 86/150\n",
      "\n",
      "Epoch 86: val_loss did not improve from 0.41524\n",
      "45/45 - 1s - 30ms/step - categorical_accuracy: 0.7417 - loss: 0.6404 - val_categorical_accuracy: 0.8556 - val_loss: 0.4319 - learning_rate: 1.0000e-04\n",
      "Epoch 87/150\n",
      "\n",
      "Epoch 87: val_loss did not improve from 0.41524\n",
      "45/45 - 1s - 30ms/step - categorical_accuracy: 0.7514 - loss: 0.6506 - val_categorical_accuracy: 0.8111 - val_loss: 0.4558 - learning_rate: 1.0000e-04\n",
      "Epoch 88/150\n",
      "\n",
      "Epoch 88: val_loss did not improve from 0.41524\n",
      "45/45 - 1s - 30ms/step - categorical_accuracy: 0.7569 - loss: 0.6242 - val_categorical_accuracy: 0.8278 - val_loss: 0.4496 - learning_rate: 1.0000e-04\n",
      "Epoch 89/150\n",
      "\n",
      "Epoch 89: val_loss did not improve from 0.41524\n",
      "45/45 - 1s - 30ms/step - categorical_accuracy: 0.7556 - loss: 0.5897 - val_categorical_accuracy: 0.8056 - val_loss: 0.4595 - learning_rate: 1.0000e-04\n",
      "Epoch 90/150\n",
      "\n",
      "Epoch 90: val_loss did not improve from 0.41524\n",
      "45/45 - 1s - 31ms/step - categorical_accuracy: 0.7486 - loss: 0.6255 - val_categorical_accuracy: 0.8167 - val_loss: 0.4596 - learning_rate: 1.0000e-04\n",
      "Epoch 91/150\n",
      "\n",
      "Epoch 91: val_loss did not improve from 0.41524\n",
      "45/45 - 1s - 32ms/step - categorical_accuracy: 0.7611 - loss: 0.6237 - val_categorical_accuracy: 0.8389 - val_loss: 0.4579 - learning_rate: 1.0000e-04\n",
      "Epoch 92/150\n",
      "\n",
      "Epoch 92: val_loss did not improve from 0.41524\n",
      "45/45 - 1s - 31ms/step - categorical_accuracy: 0.7347 - loss: 0.6598 - val_categorical_accuracy: 0.8389 - val_loss: 0.4418 - learning_rate: 1.0000e-04\n",
      "Epoch 93/150\n",
      "\n",
      "Epoch 93: val_loss did not improve from 0.41524\n",
      "45/45 - 1s - 30ms/step - categorical_accuracy: 0.7528 - loss: 0.6024 - val_categorical_accuracy: 0.8389 - val_loss: 0.4272 - learning_rate: 1.0000e-04\n",
      "Epoch 94/150\n",
      "\n",
      "Epoch 94: val_loss did not improve from 0.41524\n",
      "45/45 - 1s - 30ms/step - categorical_accuracy: 0.7847 - loss: 0.5596 - val_categorical_accuracy: 0.8444 - val_loss: 0.4305 - learning_rate: 1.0000e-04\n",
      "Epoch 95/150\n",
      "\n",
      "Epoch 95: val_loss did not improve from 0.41524\n",
      "\n",
      "Epoch 95: ReduceLROnPlateau reducing learning rate to 4.999999873689376e-05.\n",
      "45/45 - 1s - 30ms/step - categorical_accuracy: 0.7764 - loss: 0.5813 - val_categorical_accuracy: 0.8444 - val_loss: 0.4444 - learning_rate: 1.0000e-04\n",
      "Epoch 96/150\n",
      "\n",
      "Epoch 96: val_loss did not improve from 0.41524\n",
      "45/45 - 1s - 30ms/step - categorical_accuracy: 0.7847 - loss: 0.5634 - val_categorical_accuracy: 0.8389 - val_loss: 0.4420 - learning_rate: 5.0000e-05\n",
      "Epoch 97/150\n",
      "\n",
      "Epoch 97: val_loss did not improve from 0.41524\n",
      "45/45 - 1s - 30ms/step - categorical_accuracy: 0.7861 - loss: 0.5387 - val_categorical_accuracy: 0.8389 - val_loss: 0.4272 - learning_rate: 5.0000e-05\n",
      "Epoch 98/150\n",
      "\n",
      "Epoch 98: val_loss improved from 0.41524 to 0.39796, saving model to model_sublabeling/gru_best.keras\n",
      "45/45 - 1s - 32ms/step - categorical_accuracy: 0.7722 - loss: 0.5600 - val_categorical_accuracy: 0.8444 - val_loss: 0.3980 - learning_rate: 5.0000e-05\n",
      "Epoch 99/150\n",
      "\n",
      "Epoch 99: val_loss did not improve from 0.39796\n",
      "45/45 - 1s - 30ms/step - categorical_accuracy: 0.7833 - loss: 0.5751 - val_categorical_accuracy: 0.8389 - val_loss: 0.4074 - learning_rate: 5.0000e-05\n",
      "Epoch 100/150\n",
      "\n",
      "Epoch 100: val_loss did not improve from 0.39796\n",
      "45/45 - 1s - 30ms/step - categorical_accuracy: 0.8028 - loss: 0.5462 - val_categorical_accuracy: 0.8389 - val_loss: 0.4110 - learning_rate: 5.0000e-05\n",
      "Epoch 101/150\n",
      "\n",
      "Epoch 101: val_loss did not improve from 0.39796\n",
      "45/45 - 1s - 30ms/step - categorical_accuracy: 0.7806 - loss: 0.5502 - val_categorical_accuracy: 0.8444 - val_loss: 0.4129 - learning_rate: 5.0000e-05\n",
      "Epoch 102/150\n",
      "\n",
      "Epoch 102: val_loss improved from 0.39796 to 0.38286, saving model to model_sublabeling/gru_best.keras\n",
      "45/45 - 1s - 31ms/step - categorical_accuracy: 0.7819 - loss: 0.5395 - val_categorical_accuracy: 0.8556 - val_loss: 0.3829 - learning_rate: 5.0000e-05\n",
      "Epoch 103/150\n",
      "\n",
      "Epoch 103: val_loss improved from 0.38286 to 0.37739, saving model to model_sublabeling/gru_best.keras\n",
      "45/45 - 1s - 31ms/step - categorical_accuracy: 0.7681 - loss: 0.5885 - val_categorical_accuracy: 0.8500 - val_loss: 0.3774 - learning_rate: 5.0000e-05\n",
      "Epoch 104/150\n",
      "\n",
      "Epoch 104: val_loss did not improve from 0.37739\n",
      "45/45 - 1s - 30ms/step - categorical_accuracy: 0.7903 - loss: 0.5640 - val_categorical_accuracy: 0.8389 - val_loss: 0.4096 - learning_rate: 5.0000e-05\n",
      "Epoch 105/150\n",
      "\n",
      "Epoch 105: val_loss did not improve from 0.37739\n",
      "45/45 - 1s - 30ms/step - categorical_accuracy: 0.7889 - loss: 0.5589 - val_categorical_accuracy: 0.8556 - val_loss: 0.3977 - learning_rate: 5.0000e-05\n",
      "Epoch 106/150\n",
      "\n",
      "Epoch 106: val_loss did not improve from 0.37739\n",
      "45/45 - 1s - 30ms/step - categorical_accuracy: 0.7889 - loss: 0.5380 - val_categorical_accuracy: 0.8333 - val_loss: 0.4068 - learning_rate: 5.0000e-05\n",
      "Epoch 107/150\n",
      "\n",
      "Epoch 107: val_loss did not improve from 0.37739\n",
      "45/45 - 1s - 30ms/step - categorical_accuracy: 0.7667 - loss: 0.5786 - val_categorical_accuracy: 0.8500 - val_loss: 0.3823 - learning_rate: 5.0000e-05\n",
      "Epoch 108/150\n",
      "\n",
      "Epoch 108: val_loss did not improve from 0.37739\n",
      "45/45 - 1s - 30ms/step - categorical_accuracy: 0.8028 - loss: 0.5370 - val_categorical_accuracy: 0.8444 - val_loss: 0.3863 - learning_rate: 5.0000e-05\n",
      "Epoch 109/150\n",
      "\n",
      "Epoch 109: val_loss did not improve from 0.37739\n",
      "45/45 - 1s - 30ms/step - categorical_accuracy: 0.7639 - loss: 0.5437 - val_categorical_accuracy: 0.8389 - val_loss: 0.3876 - learning_rate: 5.0000e-05\n",
      "Epoch 110/150\n",
      "\n",
      "Epoch 110: val_loss did not improve from 0.37739\n",
      "45/45 - 1s - 30ms/step - categorical_accuracy: 0.8153 - loss: 0.4917 - val_categorical_accuracy: 0.8444 - val_loss: 0.3852 - learning_rate: 5.0000e-05\n",
      "Epoch 111/150\n",
      "\n",
      "Epoch 111: val_loss did not improve from 0.37739\n",
      "45/45 - 1s - 30ms/step - categorical_accuracy: 0.8000 - loss: 0.5155 - val_categorical_accuracy: 0.8389 - val_loss: 0.3858 - learning_rate: 5.0000e-05\n",
      "Epoch 112/150\n",
      "\n",
      "Epoch 112: val_loss did not improve from 0.37739\n",
      "45/45 - 1s - 30ms/step - categorical_accuracy: 0.7958 - loss: 0.5339 - val_categorical_accuracy: 0.8389 - val_loss: 0.3957 - learning_rate: 5.0000e-05\n",
      "Epoch 113/150\n",
      "\n",
      "Epoch 113: val_loss did not improve from 0.37739\n",
      "\n",
      "Epoch 113: ReduceLROnPlateau reducing learning rate to 2.499999936844688e-05.\n",
      "45/45 - 1s - 30ms/step - categorical_accuracy: 0.7806 - loss: 0.5279 - val_categorical_accuracy: 0.8389 - val_loss: 0.3868 - learning_rate: 5.0000e-05\n",
      "Epoch 114/150\n",
      "\n",
      "Epoch 114: val_loss improved from 0.37739 to 0.37091, saving model to model_sublabeling/gru_best.keras\n",
      "45/45 - 1s - 32ms/step - categorical_accuracy: 0.7944 - loss: 0.5457 - val_categorical_accuracy: 0.8611 - val_loss: 0.3709 - learning_rate: 2.5000e-05\n",
      "Epoch 115/150\n",
      "\n",
      "Epoch 115: val_loss improved from 0.37091 to 0.36876, saving model to model_sublabeling/gru_best.keras\n",
      "45/45 - 1s - 32ms/step - categorical_accuracy: 0.7931 - loss: 0.5036 - val_categorical_accuracy: 0.8667 - val_loss: 0.3688 - learning_rate: 2.5000e-05\n",
      "Epoch 116/150\n",
      "\n",
      "Epoch 116: val_loss improved from 0.36876 to 0.36855, saving model to model_sublabeling/gru_best.keras\n",
      "45/45 - 1s - 31ms/step - categorical_accuracy: 0.7944 - loss: 0.5260 - val_categorical_accuracy: 0.8667 - val_loss: 0.3685 - learning_rate: 2.5000e-05\n",
      "Epoch 117/150\n",
      "\n",
      "Epoch 117: val_loss did not improve from 0.36855\n",
      "45/45 - 1s - 30ms/step - categorical_accuracy: 0.7806 - loss: 0.5356 - val_categorical_accuracy: 0.8444 - val_loss: 0.3845 - learning_rate: 2.5000e-05\n",
      "Epoch 118/150\n",
      "\n",
      "Epoch 118: val_loss did not improve from 0.36855\n",
      "45/45 - 1s - 30ms/step - categorical_accuracy: 0.8014 - loss: 0.5214 - val_categorical_accuracy: 0.8389 - val_loss: 0.3931 - learning_rate: 2.5000e-05\n",
      "Epoch 119/150\n",
      "\n",
      "Epoch 119: val_loss improved from 0.36855 to 0.36066, saving model to model_sublabeling/gru_best.keras\n",
      "45/45 - 1s - 31ms/step - categorical_accuracy: 0.8056 - loss: 0.5201 - val_categorical_accuracy: 0.8667 - val_loss: 0.3607 - learning_rate: 2.5000e-05\n",
      "Epoch 120/150\n",
      "\n",
      "Epoch 120: val_loss did not improve from 0.36066\n",
      "45/45 - 1s - 30ms/step - categorical_accuracy: 0.8139 - loss: 0.5018 - val_categorical_accuracy: 0.8667 - val_loss: 0.3649 - learning_rate: 2.5000e-05\n",
      "Epoch 121/150\n",
      "\n",
      "Epoch 121: val_loss did not improve from 0.36066\n",
      "45/45 - 1s - 30ms/step - categorical_accuracy: 0.8042 - loss: 0.5151 - val_categorical_accuracy: 0.8667 - val_loss: 0.3665 - learning_rate: 2.5000e-05\n",
      "Epoch 122/150\n",
      "\n",
      "Epoch 122: val_loss did not improve from 0.36066\n",
      "45/45 - 1s - 30ms/step - categorical_accuracy: 0.7972 - loss: 0.4860 - val_categorical_accuracy: 0.8611 - val_loss: 0.3668 - learning_rate: 2.5000e-05\n",
      "Epoch 123/150\n",
      "\n",
      "Epoch 123: val_loss did not improve from 0.36066\n",
      "45/45 - 1s - 30ms/step - categorical_accuracy: 0.8014 - loss: 0.5348 - val_categorical_accuracy: 0.8667 - val_loss: 0.3712 - learning_rate: 2.5000e-05\n",
      "Epoch 124/150\n",
      "\n",
      "Epoch 124: val_loss did not improve from 0.36066\n",
      "45/45 - 1s - 31ms/step - categorical_accuracy: 0.7903 - loss: 0.5130 - val_categorical_accuracy: 0.8444 - val_loss: 0.3731 - learning_rate: 2.5000e-05\n",
      "Epoch 125/150\n",
      "\n",
      "Epoch 125: val_loss did not improve from 0.36066\n",
      "45/45 - 1s - 30ms/step - categorical_accuracy: 0.8083 - loss: 0.4770 - val_categorical_accuracy: 0.8611 - val_loss: 0.3749 - learning_rate: 2.5000e-05\n",
      "Epoch 126/150\n",
      "\n",
      "Epoch 126: val_loss did not improve from 0.36066\n",
      "45/45 - 1s - 30ms/step - categorical_accuracy: 0.7861 - loss: 0.5110 - val_categorical_accuracy: 0.8556 - val_loss: 0.3713 - learning_rate: 2.5000e-05\n",
      "Epoch 127/150\n",
      "\n",
      "Epoch 127: val_loss did not improve from 0.36066\n",
      "45/45 - 1s - 30ms/step - categorical_accuracy: 0.7806 - loss: 0.5016 - val_categorical_accuracy: 0.8556 - val_loss: 0.3653 - learning_rate: 2.5000e-05\n",
      "Epoch 128/150\n",
      "\n",
      "Epoch 128: val_loss did not improve from 0.36066\n",
      "45/45 - 1s - 30ms/step - categorical_accuracy: 0.8181 - loss: 0.4843 - val_categorical_accuracy: 0.8611 - val_loss: 0.3624 - learning_rate: 2.5000e-05\n",
      "Epoch 129/150\n",
      "\n",
      "Epoch 129: val_loss improved from 0.36066 to 0.35277, saving model to model_sublabeling/gru_best.keras\n",
      "45/45 - 1s - 31ms/step - categorical_accuracy: 0.7889 - loss: 0.5574 - val_categorical_accuracy: 0.8667 - val_loss: 0.3528 - learning_rate: 2.5000e-05\n",
      "Epoch 130/150\n",
      "\n",
      "Epoch 130: val_loss did not improve from 0.35277\n",
      "45/45 - 1s - 30ms/step - categorical_accuracy: 0.7944 - loss: 0.5120 - val_categorical_accuracy: 0.8556 - val_loss: 0.3642 - learning_rate: 2.5000e-05\n",
      "Epoch 131/150\n",
      "\n",
      "Epoch 131: val_loss improved from 0.35277 to 0.35207, saving model to model_sublabeling/gru_best.keras\n",
      "45/45 - 1s - 32ms/step - categorical_accuracy: 0.7847 - loss: 0.5349 - val_categorical_accuracy: 0.8667 - val_loss: 0.3521 - learning_rate: 2.5000e-05\n",
      "Epoch 132/150\n",
      "\n",
      "Epoch 132: val_loss improved from 0.35207 to 0.34802, saving model to model_sublabeling/gru_best.keras\n",
      "45/45 - 1s - 32ms/step - categorical_accuracy: 0.8014 - loss: 0.5182 - val_categorical_accuracy: 0.8778 - val_loss: 0.3480 - learning_rate: 2.5000e-05\n",
      "Epoch 133/150\n",
      "\n",
      "Epoch 133: val_loss improved from 0.34802 to 0.34277, saving model to model_sublabeling/gru_best.keras\n",
      "45/45 - 1s - 31ms/step - categorical_accuracy: 0.7986 - loss: 0.4976 - val_categorical_accuracy: 0.8722 - val_loss: 0.3428 - learning_rate: 2.5000e-05\n",
      "Epoch 134/150\n",
      "\n",
      "Epoch 134: val_loss did not improve from 0.34277\n",
      "45/45 - 1s - 30ms/step - categorical_accuracy: 0.7847 - loss: 0.5202 - val_categorical_accuracy: 0.8667 - val_loss: 0.3523 - learning_rate: 2.5000e-05\n",
      "Epoch 135/150\n",
      "\n",
      "Epoch 135: val_loss did not improve from 0.34277\n",
      "45/45 - 1s - 30ms/step - categorical_accuracy: 0.8056 - loss: 0.4918 - val_categorical_accuracy: 0.8667 - val_loss: 0.3463 - learning_rate: 2.5000e-05\n",
      "Epoch 136/150\n",
      "\n",
      "Epoch 136: val_loss did not improve from 0.34277\n",
      "45/45 - 1s - 30ms/step - categorical_accuracy: 0.8056 - loss: 0.4852 - val_categorical_accuracy: 0.8611 - val_loss: 0.3577 - learning_rate: 2.5000e-05\n",
      "Epoch 137/150\n",
      "\n",
      "Epoch 137: val_loss improved from 0.34277 to 0.33424, saving model to model_sublabeling/gru_best.keras\n",
      "45/45 - 1s - 31ms/step - categorical_accuracy: 0.8125 - loss: 0.4743 - val_categorical_accuracy: 0.8667 - val_loss: 0.3342 - learning_rate: 2.5000e-05\n",
      "Epoch 138/150\n",
      "\n",
      "Epoch 138: val_loss did not improve from 0.33424\n",
      "45/45 - 1s - 30ms/step - categorical_accuracy: 0.7903 - loss: 0.5544 - val_categorical_accuracy: 0.8500 - val_loss: 0.3479 - learning_rate: 2.5000e-05\n",
      "Epoch 139/150\n",
      "\n",
      "Epoch 139: val_loss did not improve from 0.33424\n",
      "45/45 - 1s - 31ms/step - categorical_accuracy: 0.7847 - loss: 0.5375 - val_categorical_accuracy: 0.8611 - val_loss: 0.3413 - learning_rate: 2.5000e-05\n",
      "Epoch 140/150\n",
      "\n",
      "Epoch 140: val_loss did not improve from 0.33424\n",
      "45/45 - 1s - 30ms/step - categorical_accuracy: 0.7875 - loss: 0.5164 - val_categorical_accuracy: 0.8667 - val_loss: 0.3429 - learning_rate: 2.5000e-05\n",
      "Epoch 141/150\n",
      "\n",
      "Epoch 141: val_loss did not improve from 0.33424\n",
      "45/45 - 1s - 30ms/step - categorical_accuracy: 0.8014 - loss: 0.4954 - val_categorical_accuracy: 0.8556 - val_loss: 0.3511 - learning_rate: 2.5000e-05\n",
      "Epoch 142/150\n",
      "\n",
      "Epoch 142: val_loss did not improve from 0.33424\n",
      "45/45 - 1s - 30ms/step - categorical_accuracy: 0.7958 - loss: 0.5194 - val_categorical_accuracy: 0.8500 - val_loss: 0.3604 - learning_rate: 2.5000e-05\n",
      "Epoch 143/150\n",
      "\n",
      "Epoch 143: val_loss did not improve from 0.33424\n",
      "45/45 - 1s - 31ms/step - categorical_accuracy: 0.8083 - loss: 0.4908 - val_categorical_accuracy: 0.8611 - val_loss: 0.3553 - learning_rate: 2.5000e-05\n",
      "Epoch 144/150\n",
      "\n",
      "Epoch 144: val_loss did not improve from 0.33424\n",
      "45/45 - 1s - 30ms/step - categorical_accuracy: 0.8125 - loss: 0.5056 - val_categorical_accuracy: 0.8556 - val_loss: 0.3576 - learning_rate: 2.5000e-05\n",
      "Epoch 145/150\n",
      "\n",
      "Epoch 145: val_loss did not improve from 0.33424\n",
      "45/45 - 1s - 30ms/step - categorical_accuracy: 0.7833 - loss: 0.5136 - val_categorical_accuracy: 0.8556 - val_loss: 0.3619 - learning_rate: 2.5000e-05\n",
      "Epoch 146/150\n",
      "\n",
      "Epoch 146: val_loss improved from 0.33424 to 0.33304, saving model to model_sublabeling/gru_best.keras\n",
      "45/45 - 1s - 31ms/step - categorical_accuracy: 0.8042 - loss: 0.4940 - val_categorical_accuracy: 0.8722 - val_loss: 0.3330 - learning_rate: 2.5000e-05\n",
      "Epoch 147/150\n",
      "\n",
      "Epoch 147: val_loss did not improve from 0.33304\n",
      "45/45 - 1s - 30ms/step - categorical_accuracy: 0.7972 - loss: 0.5156 - val_categorical_accuracy: 0.8722 - val_loss: 0.3448 - learning_rate: 2.5000e-05\n",
      "Epoch 148/150\n",
      "\n",
      "Epoch 148: val_loss did not improve from 0.33304\n",
      "45/45 - 1s - 30ms/step - categorical_accuracy: 0.8042 - loss: 0.4888 - val_categorical_accuracy: 0.8611 - val_loss: 0.3449 - learning_rate: 2.5000e-05\n",
      "Epoch 149/150\n",
      "\n",
      "Epoch 149: val_loss did not improve from 0.33304\n",
      "45/45 - 1s - 30ms/step - categorical_accuracy: 0.8097 - loss: 0.5010 - val_categorical_accuracy: 0.8778 - val_loss: 0.3415 - learning_rate: 2.5000e-05\n",
      "Epoch 150/150\n",
      "\n",
      "Epoch 150: val_loss did not improve from 0.33304\n",
      "45/45 - 1s - 30ms/step - categorical_accuracy: 0.8181 - loss: 0.4867 - val_categorical_accuracy: 0.8722 - val_loss: 0.3362 - learning_rate: 2.5000e-05\n",
      "Restoring model weights from the end of the best epoch: 146.\n"
     ]
    }
   ],
   "source": [
    "# --- Model GRU ---\n",
    "print(\"\\n--- Melatih Model GRU ---\")\n",
    "model_gru = Sequential([\n",
    "    GRU(128, return_sequences=True, input_shape=(sequence_length, num_features)),\n",
    "    BatchNormalization(),\n",
    "    Dropout(0.4),\n",
    "    GRU(128, return_sequences=True),\n",
    "    BatchNormalization(),\n",
    "    Dropout(0.4),\n",
    "    GRU(64),\n",
    "    Dense(128, activation='relu'),\n",
    "    BatchNormalization(),\n",
    "    Dropout(0.5),\n",
    "    Dense(num_classes, activation='softmax') # num_classes sekarang 15\n",
    "])\n",
    "\n",
    "model_gru.compile(\n",
    "    optimizer=Adam(1e-4),\n",
    "    loss='categorical_crossentropy',\n",
    "    metrics=['categorical_accuracy']\n",
    ")\n",
    "\n",
    "callbacks_gru = [\n",
    "    EarlyStopping(patience=20, restore_best_weights=True, monitor='val_loss', verbose=1),\n",
    "    ModelCheckpoint('model_sublabeling/gru_best.keras', monitor='val_loss', save_best_only=True, verbose=1),\n",
    "    ReduceLROnPlateau(patience=10, factor=0.5, verbose=1, min_lr=1e-6)\n",
    "]\n",
    "\n",
    "history_gru = model_gru.fit(\n",
    "    X_train_scaled, y_train_one_hot,\n",
    "    epochs=150,\n",
    "    batch_size=16,\n",
    "    validation_data=(X_val_scaled, y_val_one_hot),\n",
    "    callbacks=callbacks_gru,\n",
    "    verbose=2\n",
    ")"
   ]
  },
  {
   "cell_type": "code",
   "execution_count": 22,
   "metadata": {
    "execution": {
     "iopub.execute_input": "2025-05-26T04:16:51.857719Z",
     "iopub.status.busy": "2025-05-26T04:16:51.857325Z",
     "iopub.status.idle": "2025-05-26T04:17:25.392478Z",
     "shell.execute_reply": "2025-05-26T04:17:25.391568Z",
     "shell.execute_reply.started": "2025-05-26T04:16:51.857694Z"
    },
    "trusted": true
   },
   "outputs": [
    {
     "name": "stdout",
     "output_type": "stream",
     "text": [
      "\n",
      "--- Melatih Model 1D CNN ---\n",
      "Epoch 1/150\n"
     ]
    },
    {
     "name": "stderr",
     "output_type": "stream",
     "text": [
      "c:\\Users\\M Fathurrahman\\Videos\\LASKAR AI\\ActionDetection-Yolo--2-\\coba\\lib\\site-packages\\keras\\src\\layers\\convolutional\\base_conv.py:113: UserWarning: Do not pass an `input_shape`/`input_dim` argument to a layer. When using Sequential models, prefer using an `Input(shape)` object as the first layer in the model instead.\n",
      "  super().__init__(activity_regularizer=activity_regularizer, **kwargs)\n"
     ]
    },
    {
     "name": "stdout",
     "output_type": "stream",
     "text": [
      "\n",
      "Epoch 1: val_loss improved from inf to 2.42521, saving model to model_sublabeling/cnn_best.keras\n",
      "45/45 - 2s - 41ms/step - categorical_accuracy: 0.1514 - loss: 3.0541 - val_categorical_accuracy: 0.2833 - val_loss: 2.4252 - learning_rate: 1.0000e-04\n",
      "Epoch 2/150\n",
      "\n",
      "Epoch 2: val_loss improved from 2.42521 to 2.12706, saving model to model_sublabeling/cnn_best.keras\n",
      "45/45 - 0s - 7ms/step - categorical_accuracy: 0.3514 - loss: 2.0328 - val_categorical_accuracy: 0.4278 - val_loss: 2.1271 - learning_rate: 1.0000e-04\n",
      "Epoch 3/150\n",
      "\n",
      "Epoch 3: val_loss improved from 2.12706 to 1.81540, saving model to model_sublabeling/cnn_best.keras\n",
      "45/45 - 0s - 8ms/step - categorical_accuracy: 0.4514 - loss: 1.6282 - val_categorical_accuracy: 0.4722 - val_loss: 1.8154 - learning_rate: 1.0000e-04\n",
      "Epoch 4/150\n",
      "\n",
      "Epoch 4: val_loss improved from 1.81540 to 1.53677, saving model to model_sublabeling/cnn_best.keras\n",
      "45/45 - 0s - 7ms/step - categorical_accuracy: 0.4514 - loss: 1.4968 - val_categorical_accuracy: 0.5333 - val_loss: 1.5368 - learning_rate: 1.0000e-04\n",
      "Epoch 5/150\n",
      "\n",
      "Epoch 5: val_loss improved from 1.53677 to 1.32637, saving model to model_sublabeling/cnn_best.keras\n",
      "45/45 - 0s - 7ms/step - categorical_accuracy: 0.5194 - loss: 1.3548 - val_categorical_accuracy: 0.5444 - val_loss: 1.3264 - learning_rate: 1.0000e-04\n",
      "Epoch 6/150\n",
      "\n",
      "Epoch 6: val_loss improved from 1.32637 to 1.15041, saving model to model_sublabeling/cnn_best.keras\n",
      "45/45 - 0s - 7ms/step - categorical_accuracy: 0.4778 - loss: 1.4098 - val_categorical_accuracy: 0.6056 - val_loss: 1.1504 - learning_rate: 1.0000e-04\n",
      "Epoch 7/150\n",
      "\n",
      "Epoch 7: val_loss improved from 1.15041 to 1.03528, saving model to model_sublabeling/cnn_best.keras\n",
      "45/45 - 0s - 7ms/step - categorical_accuracy: 0.5236 - loss: 1.3352 - val_categorical_accuracy: 0.5944 - val_loss: 1.0353 - learning_rate: 1.0000e-04\n",
      "Epoch 8/150\n",
      "\n",
      "Epoch 8: val_loss improved from 1.03528 to 0.97450, saving model to model_sublabeling/cnn_best.keras\n",
      "45/45 - 0s - 7ms/step - categorical_accuracy: 0.5458 - loss: 1.2118 - val_categorical_accuracy: 0.6056 - val_loss: 0.9745 - learning_rate: 1.0000e-04\n",
      "Epoch 9/150\n",
      "\n",
      "Epoch 9: val_loss improved from 0.97450 to 0.92481, saving model to model_sublabeling/cnn_best.keras\n",
      "45/45 - 0s - 7ms/step - categorical_accuracy: 0.5458 - loss: 1.2263 - val_categorical_accuracy: 0.5833 - val_loss: 0.9248 - learning_rate: 1.0000e-04\n",
      "Epoch 10/150\n",
      "\n",
      "Epoch 10: val_loss improved from 0.92481 to 0.89385, saving model to model_sublabeling/cnn_best.keras\n",
      "45/45 - 0s - 7ms/step - categorical_accuracy: 0.5708 - loss: 1.1569 - val_categorical_accuracy: 0.5556 - val_loss: 0.8939 - learning_rate: 1.0000e-04\n",
      "Epoch 11/150\n",
      "\n",
      "Epoch 11: val_loss improved from 0.89385 to 0.85595, saving model to model_sublabeling/cnn_best.keras\n",
      "45/45 - 0s - 7ms/step - categorical_accuracy: 0.5847 - loss: 1.1249 - val_categorical_accuracy: 0.6278 - val_loss: 0.8560 - learning_rate: 1.0000e-04\n",
      "Epoch 12/150\n",
      "\n",
      "Epoch 12: val_loss improved from 0.85595 to 0.85475, saving model to model_sublabeling/cnn_best.keras\n",
      "45/45 - 0s - 7ms/step - categorical_accuracy: 0.5764 - loss: 1.1030 - val_categorical_accuracy: 0.6389 - val_loss: 0.8548 - learning_rate: 1.0000e-04\n",
      "Epoch 13/150\n",
      "\n",
      "Epoch 13: val_loss did not improve from 0.85475\n",
      "45/45 - 0s - 6ms/step - categorical_accuracy: 0.5931 - loss: 1.0727 - val_categorical_accuracy: 0.5833 - val_loss: 0.8630 - learning_rate: 1.0000e-04\n",
      "Epoch 14/150\n",
      "\n",
      "Epoch 14: val_loss improved from 0.85475 to 0.83448, saving model to model_sublabeling/cnn_best.keras\n",
      "45/45 - 0s - 7ms/step - categorical_accuracy: 0.5736 - loss: 1.1230 - val_categorical_accuracy: 0.6111 - val_loss: 0.8345 - learning_rate: 1.0000e-04\n",
      "Epoch 15/150\n",
      "\n",
      "Epoch 15: val_loss improved from 0.83448 to 0.82577, saving model to model_sublabeling/cnn_best.keras\n",
      "45/45 - 0s - 7ms/step - categorical_accuracy: 0.5736 - loss: 1.0445 - val_categorical_accuracy: 0.6056 - val_loss: 0.8258 - learning_rate: 1.0000e-04\n",
      "Epoch 16/150\n",
      "\n",
      "Epoch 16: val_loss improved from 0.82577 to 0.80920, saving model to model_sublabeling/cnn_best.keras\n",
      "45/45 - 0s - 7ms/step - categorical_accuracy: 0.5861 - loss: 1.0325 - val_categorical_accuracy: 0.6500 - val_loss: 0.8092 - learning_rate: 1.0000e-04\n",
      "Epoch 17/150\n",
      "\n",
      "Epoch 17: val_loss did not improve from 0.80920\n",
      "45/45 - 0s - 6ms/step - categorical_accuracy: 0.5861 - loss: 1.0874 - val_categorical_accuracy: 0.6278 - val_loss: 0.8209 - learning_rate: 1.0000e-04\n",
      "Epoch 18/150\n",
      "\n",
      "Epoch 18: val_loss improved from 0.80920 to 0.77331, saving model to model_sublabeling/cnn_best.keras\n",
      "45/45 - 0s - 7ms/step - categorical_accuracy: 0.5931 - loss: 1.0166 - val_categorical_accuracy: 0.6389 - val_loss: 0.7733 - learning_rate: 1.0000e-04\n",
      "Epoch 19/150\n",
      "\n",
      "Epoch 19: val_loss improved from 0.77331 to 0.76484, saving model to model_sublabeling/cnn_best.keras\n",
      "45/45 - 0s - 7ms/step - categorical_accuracy: 0.5653 - loss: 1.0610 - val_categorical_accuracy: 0.6111 - val_loss: 0.7648 - learning_rate: 1.0000e-04\n",
      "Epoch 20/150\n",
      "\n",
      "Epoch 20: val_loss improved from 0.76484 to 0.72820, saving model to model_sublabeling/cnn_best.keras\n",
      "45/45 - 0s - 7ms/step - categorical_accuracy: 0.6083 - loss: 1.0185 - val_categorical_accuracy: 0.6944 - val_loss: 0.7282 - learning_rate: 1.0000e-04\n",
      "Epoch 21/150\n",
      "\n",
      "Epoch 21: val_loss did not improve from 0.72820\n",
      "45/45 - 0s - 6ms/step - categorical_accuracy: 0.5931 - loss: 0.9718 - val_categorical_accuracy: 0.6667 - val_loss: 0.7371 - learning_rate: 1.0000e-04\n",
      "Epoch 22/150\n",
      "\n",
      "Epoch 22: val_loss did not improve from 0.72820\n",
      "45/45 - 0s - 6ms/step - categorical_accuracy: 0.6042 - loss: 0.9552 - val_categorical_accuracy: 0.6833 - val_loss: 0.7393 - learning_rate: 1.0000e-04\n",
      "Epoch 23/150\n",
      "\n",
      "Epoch 23: val_loss improved from 0.72820 to 0.69841, saving model to model_sublabeling/cnn_best.keras\n",
      "45/45 - 0s - 7ms/step - categorical_accuracy: 0.6333 - loss: 0.9210 - val_categorical_accuracy: 0.6833 - val_loss: 0.6984 - learning_rate: 1.0000e-04\n",
      "Epoch 24/150\n",
      "\n",
      "Epoch 24: val_loss did not improve from 0.69841\n",
      "45/45 - 0s - 6ms/step - categorical_accuracy: 0.6278 - loss: 0.9219 - val_categorical_accuracy: 0.6333 - val_loss: 0.7453 - learning_rate: 1.0000e-04\n",
      "Epoch 25/150\n",
      "\n",
      "Epoch 25: val_loss did not improve from 0.69841\n",
      "45/45 - 0s - 6ms/step - categorical_accuracy: 0.6333 - loss: 0.9648 - val_categorical_accuracy: 0.7222 - val_loss: 0.7148 - learning_rate: 1.0000e-04\n",
      "Epoch 26/150\n",
      "\n",
      "Epoch 26: val_loss improved from 0.69841 to 0.68763, saving model to model_sublabeling/cnn_best.keras\n",
      "45/45 - 0s - 7ms/step - categorical_accuracy: 0.6167 - loss: 0.9431 - val_categorical_accuracy: 0.7333 - val_loss: 0.6876 - learning_rate: 1.0000e-04\n",
      "Epoch 27/150\n",
      "\n",
      "Epoch 27: val_loss improved from 0.68763 to 0.68005, saving model to model_sublabeling/cnn_best.keras\n",
      "45/45 - 0s - 7ms/step - categorical_accuracy: 0.6264 - loss: 0.9363 - val_categorical_accuracy: 0.6944 - val_loss: 0.6800 - learning_rate: 1.0000e-04\n",
      "Epoch 28/150\n",
      "\n",
      "Epoch 28: val_loss did not improve from 0.68005\n",
      "45/45 - 0s - 6ms/step - categorical_accuracy: 0.6306 - loss: 0.8707 - val_categorical_accuracy: 0.7389 - val_loss: 0.7073 - learning_rate: 1.0000e-04\n",
      "Epoch 29/150\n",
      "\n",
      "Epoch 29: val_loss did not improve from 0.68005\n",
      "45/45 - 0s - 6ms/step - categorical_accuracy: 0.6278 - loss: 0.9134 - val_categorical_accuracy: 0.7167 - val_loss: 0.6882 - learning_rate: 1.0000e-04\n",
      "Epoch 30/150\n",
      "\n",
      "Epoch 30: val_loss improved from 0.68005 to 0.65740, saving model to model_sublabeling/cnn_best.keras\n",
      "45/45 - 0s - 7ms/step - categorical_accuracy: 0.6764 - loss: 0.8326 - val_categorical_accuracy: 0.6667 - val_loss: 0.6574 - learning_rate: 1.0000e-04\n",
      "Epoch 31/150\n",
      "\n",
      "Epoch 31: val_loss improved from 0.65740 to 0.62387, saving model to model_sublabeling/cnn_best.keras\n",
      "45/45 - 0s - 7ms/step - categorical_accuracy: 0.6097 - loss: 0.9209 - val_categorical_accuracy: 0.8056 - val_loss: 0.6239 - learning_rate: 1.0000e-04\n",
      "Epoch 32/150\n",
      "\n",
      "Epoch 32: val_loss did not improve from 0.62387\n",
      "45/45 - 0s - 6ms/step - categorical_accuracy: 0.6417 - loss: 0.8711 - val_categorical_accuracy: 0.7333 - val_loss: 0.6290 - learning_rate: 1.0000e-04\n",
      "Epoch 33/150\n",
      "\n",
      "Epoch 33: val_loss did not improve from 0.62387\n",
      "45/45 - 0s - 6ms/step - categorical_accuracy: 0.6597 - loss: 0.8299 - val_categorical_accuracy: 0.7111 - val_loss: 0.6382 - learning_rate: 1.0000e-04\n",
      "Epoch 34/150\n",
      "\n",
      "Epoch 34: val_loss improved from 0.62387 to 0.61761, saving model to model_sublabeling/cnn_best.keras\n",
      "45/45 - 0s - 7ms/step - categorical_accuracy: 0.6569 - loss: 0.8451 - val_categorical_accuracy: 0.7444 - val_loss: 0.6176 - learning_rate: 1.0000e-04\n",
      "Epoch 35/150\n",
      "\n",
      "Epoch 35: val_loss did not improve from 0.61761\n",
      "45/45 - 0s - 6ms/step - categorical_accuracy: 0.6500 - loss: 0.8294 - val_categorical_accuracy: 0.6889 - val_loss: 0.6322 - learning_rate: 1.0000e-04\n",
      "Epoch 36/150\n",
      "\n",
      "Epoch 36: val_loss improved from 0.61761 to 0.60734, saving model to model_sublabeling/cnn_best.keras\n",
      "45/45 - 0s - 7ms/step - categorical_accuracy: 0.6167 - loss: 0.8749 - val_categorical_accuracy: 0.7389 - val_loss: 0.6073 - learning_rate: 1.0000e-04\n",
      "Epoch 37/150\n",
      "\n",
      "Epoch 37: val_loss did not improve from 0.60734\n",
      "45/45 - 0s - 6ms/step - categorical_accuracy: 0.6611 - loss: 0.8133 - val_categorical_accuracy: 0.7222 - val_loss: 0.6216 - learning_rate: 1.0000e-04\n",
      "Epoch 38/150\n",
      "\n",
      "Epoch 38: val_loss improved from 0.60734 to 0.59956, saving model to model_sublabeling/cnn_best.keras\n",
      "45/45 - 0s - 7ms/step - categorical_accuracy: 0.6639 - loss: 0.8233 - val_categorical_accuracy: 0.7556 - val_loss: 0.5996 - learning_rate: 1.0000e-04\n",
      "Epoch 39/150\n",
      "\n",
      "Epoch 39: val_loss improved from 0.59956 to 0.57552, saving model to model_sublabeling/cnn_best.keras\n",
      "45/45 - 0s - 7ms/step - categorical_accuracy: 0.6625 - loss: 0.8155 - val_categorical_accuracy: 0.7500 - val_loss: 0.5755 - learning_rate: 1.0000e-04\n",
      "Epoch 40/150\n",
      "\n",
      "Epoch 40: val_loss did not improve from 0.57552\n",
      "45/45 - 0s - 6ms/step - categorical_accuracy: 0.6722 - loss: 0.7989 - val_categorical_accuracy: 0.7389 - val_loss: 0.5772 - learning_rate: 1.0000e-04\n",
      "Epoch 41/150\n",
      "\n",
      "Epoch 41: val_loss did not improve from 0.57552\n",
      "45/45 - 0s - 6ms/step - categorical_accuracy: 0.6792 - loss: 0.7756 - val_categorical_accuracy: 0.7111 - val_loss: 0.5798 - learning_rate: 1.0000e-04\n",
      "Epoch 42/150\n",
      "\n",
      "Epoch 42: val_loss did not improve from 0.57552\n",
      "45/45 - 0s - 6ms/step - categorical_accuracy: 0.6681 - loss: 0.7989 - val_categorical_accuracy: 0.7444 - val_loss: 0.5977 - learning_rate: 1.0000e-04\n",
      "Epoch 43/150\n",
      "\n",
      "Epoch 43: val_loss did not improve from 0.57552\n",
      "45/45 - 0s - 6ms/step - categorical_accuracy: 0.7125 - loss: 0.7467 - val_categorical_accuracy: 0.7278 - val_loss: 0.5770 - learning_rate: 1.0000e-04\n",
      "Epoch 44/150\n",
      "\n",
      "Epoch 44: val_loss did not improve from 0.57552\n",
      "45/45 - 0s - 6ms/step - categorical_accuracy: 0.6722 - loss: 0.7695 - val_categorical_accuracy: 0.7000 - val_loss: 0.6424 - learning_rate: 1.0000e-04\n",
      "Epoch 45/150\n",
      "\n",
      "Epoch 45: val_loss improved from 0.57552 to 0.57459, saving model to model_sublabeling/cnn_best.keras\n",
      "45/45 - 0s - 7ms/step - categorical_accuracy: 0.6903 - loss: 0.7667 - val_categorical_accuracy: 0.7444 - val_loss: 0.5746 - learning_rate: 1.0000e-04\n",
      "Epoch 46/150\n",
      "\n",
      "Epoch 46: val_loss improved from 0.57459 to 0.55802, saving model to model_sublabeling/cnn_best.keras\n",
      "45/45 - 0s - 8ms/step - categorical_accuracy: 0.6653 - loss: 0.7802 - val_categorical_accuracy: 0.7500 - val_loss: 0.5580 - learning_rate: 1.0000e-04\n",
      "Epoch 47/150\n",
      "\n",
      "Epoch 47: val_loss did not improve from 0.55802\n",
      "45/45 - 0s - 7ms/step - categorical_accuracy: 0.7139 - loss: 0.7189 - val_categorical_accuracy: 0.7556 - val_loss: 0.5721 - learning_rate: 1.0000e-04\n",
      "Epoch 48/150\n",
      "\n",
      "Epoch 48: val_loss did not improve from 0.55802\n",
      "45/45 - 0s - 6ms/step - categorical_accuracy: 0.6986 - loss: 0.7373 - val_categorical_accuracy: 0.7222 - val_loss: 0.5687 - learning_rate: 1.0000e-04\n",
      "Epoch 49/150\n",
      "\n",
      "Epoch 49: val_loss did not improve from 0.55802\n",
      "45/45 - 0s - 6ms/step - categorical_accuracy: 0.6931 - loss: 0.7578 - val_categorical_accuracy: 0.7278 - val_loss: 0.5606 - learning_rate: 1.0000e-04\n",
      "Epoch 50/150\n",
      "\n",
      "Epoch 50: val_loss did not improve from 0.55802\n",
      "45/45 - 0s - 6ms/step - categorical_accuracy: 0.6875 - loss: 0.7674 - val_categorical_accuracy: 0.7389 - val_loss: 0.5658 - learning_rate: 1.0000e-04\n",
      "Epoch 51/150\n",
      "\n",
      "Epoch 51: val_loss improved from 0.55802 to 0.55664, saving model to model_sublabeling/cnn_best.keras\n",
      "45/45 - 0s - 7ms/step - categorical_accuracy: 0.6903 - loss: 0.7397 - val_categorical_accuracy: 0.7444 - val_loss: 0.5566 - learning_rate: 1.0000e-04\n",
      "Epoch 52/150\n",
      "\n",
      "Epoch 52: val_loss did not improve from 0.55664\n",
      "45/45 - 0s - 6ms/step - categorical_accuracy: 0.7014 - loss: 0.7122 - val_categorical_accuracy: 0.7389 - val_loss: 0.5699 - learning_rate: 1.0000e-04\n",
      "Epoch 53/150\n",
      "\n",
      "Epoch 53: val_loss improved from 0.55664 to 0.52835, saving model to model_sublabeling/cnn_best.keras\n",
      "45/45 - 0s - 7ms/step - categorical_accuracy: 0.7139 - loss: 0.7307 - val_categorical_accuracy: 0.7611 - val_loss: 0.5283 - learning_rate: 1.0000e-04\n",
      "Epoch 54/150\n",
      "\n",
      "Epoch 54: val_loss did not improve from 0.52835\n",
      "45/45 - 0s - 6ms/step - categorical_accuracy: 0.6861 - loss: 0.7567 - val_categorical_accuracy: 0.7167 - val_loss: 0.5296 - learning_rate: 1.0000e-04\n",
      "Epoch 55/150\n",
      "\n",
      "Epoch 55: val_loss improved from 0.52835 to 0.51087, saving model to model_sublabeling/cnn_best.keras\n",
      "45/45 - 0s - 7ms/step - categorical_accuracy: 0.7042 - loss: 0.7078 - val_categorical_accuracy: 0.8167 - val_loss: 0.5109 - learning_rate: 1.0000e-04\n",
      "Epoch 56/150\n",
      "\n",
      "Epoch 56: val_loss did not improve from 0.51087\n",
      "45/45 - 0s - 6ms/step - categorical_accuracy: 0.7083 - loss: 0.7243 - val_categorical_accuracy: 0.8167 - val_loss: 0.5221 - learning_rate: 1.0000e-04\n",
      "Epoch 57/150\n",
      "\n",
      "Epoch 57: val_loss did not improve from 0.51087\n",
      "45/45 - 0s - 6ms/step - categorical_accuracy: 0.6944 - loss: 0.7561 - val_categorical_accuracy: 0.7778 - val_loss: 0.5158 - learning_rate: 1.0000e-04\n",
      "Epoch 58/150\n",
      "\n",
      "Epoch 58: val_loss did not improve from 0.51087\n",
      "45/45 - 0s - 6ms/step - categorical_accuracy: 0.7111 - loss: 0.7110 - val_categorical_accuracy: 0.7722 - val_loss: 0.5140 - learning_rate: 1.0000e-04\n",
      "Epoch 59/150\n",
      "\n",
      "Epoch 59: val_loss did not improve from 0.51087\n",
      "45/45 - 0s - 6ms/step - categorical_accuracy: 0.7028 - loss: 0.6772 - val_categorical_accuracy: 0.7333 - val_loss: 0.5515 - learning_rate: 1.0000e-04\n",
      "Epoch 60/150\n",
      "\n",
      "Epoch 60: val_loss improved from 0.51087 to 0.49410, saving model to model_sublabeling/cnn_best.keras\n",
      "45/45 - 0s - 8ms/step - categorical_accuracy: 0.7444 - loss: 0.6596 - val_categorical_accuracy: 0.7444 - val_loss: 0.4941 - learning_rate: 1.0000e-04\n",
      "Epoch 61/150\n",
      "\n",
      "Epoch 61: val_loss improved from 0.49410 to 0.49080, saving model to model_sublabeling/cnn_best.keras\n",
      "45/45 - 0s - 7ms/step - categorical_accuracy: 0.7167 - loss: 0.7038 - val_categorical_accuracy: 0.8000 - val_loss: 0.4908 - learning_rate: 1.0000e-04\n",
      "Epoch 62/150\n",
      "\n",
      "Epoch 62: val_loss did not improve from 0.49080\n",
      "45/45 - 0s - 6ms/step - categorical_accuracy: 0.7333 - loss: 0.6721 - val_categorical_accuracy: 0.7722 - val_loss: 0.5070 - learning_rate: 1.0000e-04\n",
      "Epoch 63/150\n",
      "\n",
      "Epoch 63: val_loss improved from 0.49080 to 0.47923, saving model to model_sublabeling/cnn_best.keras\n",
      "45/45 - 0s - 7ms/step - categorical_accuracy: 0.7278 - loss: 0.6487 - val_categorical_accuracy: 0.8000 - val_loss: 0.4792 - learning_rate: 1.0000e-04\n",
      "Epoch 64/150\n",
      "\n",
      "Epoch 64: val_loss did not improve from 0.47923\n",
      "45/45 - 0s - 6ms/step - categorical_accuracy: 0.7208 - loss: 0.6827 - val_categorical_accuracy: 0.8056 - val_loss: 0.4811 - learning_rate: 1.0000e-04\n",
      "Epoch 65/150\n",
      "\n",
      "Epoch 65: val_loss improved from 0.47923 to 0.45151, saving model to model_sublabeling/cnn_best.keras\n",
      "45/45 - 0s - 7ms/step - categorical_accuracy: 0.7014 - loss: 0.6868 - val_categorical_accuracy: 0.7833 - val_loss: 0.4515 - learning_rate: 1.0000e-04\n",
      "Epoch 66/150\n",
      "\n",
      "Epoch 66: val_loss did not improve from 0.45151\n",
      "45/45 - 0s - 6ms/step - categorical_accuracy: 0.7389 - loss: 0.6469 - val_categorical_accuracy: 0.7833 - val_loss: 0.4650 - learning_rate: 1.0000e-04\n",
      "Epoch 67/150\n",
      "\n",
      "Epoch 67: val_loss did not improve from 0.45151\n",
      "45/45 - 0s - 6ms/step - categorical_accuracy: 0.7292 - loss: 0.6360 - val_categorical_accuracy: 0.7889 - val_loss: 0.4727 - learning_rate: 1.0000e-04\n",
      "Epoch 68/150\n",
      "\n",
      "Epoch 68: val_loss did not improve from 0.45151\n",
      "45/45 - 0s - 6ms/step - categorical_accuracy: 0.7319 - loss: 0.6611 - val_categorical_accuracy: 0.7611 - val_loss: 0.5874 - learning_rate: 1.0000e-04\n",
      "Epoch 69/150\n",
      "\n",
      "Epoch 69: val_loss improved from 0.45151 to 0.44248, saving model to model_sublabeling/cnn_best.keras\n",
      "45/45 - 0s - 7ms/step - categorical_accuracy: 0.7111 - loss: 0.6909 - val_categorical_accuracy: 0.8278 - val_loss: 0.4425 - learning_rate: 1.0000e-04\n",
      "Epoch 70/150\n",
      "\n",
      "Epoch 70: val_loss improved from 0.44248 to 0.42310, saving model to model_sublabeling/cnn_best.keras\n",
      "45/45 - 0s - 7ms/step - categorical_accuracy: 0.7333 - loss: 0.6566 - val_categorical_accuracy: 0.8278 - val_loss: 0.4231 - learning_rate: 1.0000e-04\n",
      "Epoch 71/150\n",
      "\n",
      "Epoch 71: val_loss did not improve from 0.42310\n",
      "45/45 - 0s - 6ms/step - categorical_accuracy: 0.7222 - loss: 0.6484 - val_categorical_accuracy: 0.8167 - val_loss: 0.4467 - learning_rate: 1.0000e-04\n",
      "Epoch 72/150\n",
      "\n",
      "Epoch 72: val_loss did not improve from 0.42310\n",
      "45/45 - 0s - 6ms/step - categorical_accuracy: 0.7472 - loss: 0.6478 - val_categorical_accuracy: 0.8500 - val_loss: 0.4402 - learning_rate: 1.0000e-04\n",
      "Epoch 73/150\n",
      "\n",
      "Epoch 73: val_loss did not improve from 0.42310\n",
      "45/45 - 0s - 7ms/step - categorical_accuracy: 0.7528 - loss: 0.6320 - val_categorical_accuracy: 0.7778 - val_loss: 0.4567 - learning_rate: 1.0000e-04\n",
      "Epoch 74/150\n",
      "\n",
      "Epoch 74: val_loss did not improve from 0.42310\n",
      "45/45 - 0s - 6ms/step - categorical_accuracy: 0.7264 - loss: 0.6513 - val_categorical_accuracy: 0.8056 - val_loss: 0.4560 - learning_rate: 1.0000e-04\n",
      "Epoch 75/150\n",
      "\n",
      "Epoch 75: val_loss improved from 0.42310 to 0.41048, saving model to model_sublabeling/cnn_best.keras\n",
      "45/45 - 0s - 7ms/step - categorical_accuracy: 0.7486 - loss: 0.6191 - val_categorical_accuracy: 0.8556 - val_loss: 0.4105 - learning_rate: 1.0000e-04\n",
      "Epoch 76/150\n",
      "\n",
      "Epoch 76: val_loss improved from 0.41048 to 0.39494, saving model to model_sublabeling/cnn_best.keras\n",
      "45/45 - 0s - 7ms/step - categorical_accuracy: 0.7208 - loss: 0.6626 - val_categorical_accuracy: 0.8833 - val_loss: 0.3949 - learning_rate: 1.0000e-04\n",
      "Epoch 77/150\n",
      "\n",
      "Epoch 77: val_loss did not improve from 0.39494\n",
      "45/45 - 0s - 6ms/step - categorical_accuracy: 0.7528 - loss: 0.6009 - val_categorical_accuracy: 0.8167 - val_loss: 0.4232 - learning_rate: 1.0000e-04\n",
      "Epoch 78/150\n",
      "\n",
      "Epoch 78: val_loss did not improve from 0.39494\n",
      "45/45 - 0s - 6ms/step - categorical_accuracy: 0.7347 - loss: 0.6200 - val_categorical_accuracy: 0.8000 - val_loss: 0.4218 - learning_rate: 1.0000e-04\n",
      "Epoch 79/150\n",
      "\n",
      "Epoch 79: val_loss did not improve from 0.39494\n",
      "45/45 - 0s - 6ms/step - categorical_accuracy: 0.7361 - loss: 0.6340 - val_categorical_accuracy: 0.8056 - val_loss: 0.4212 - learning_rate: 1.0000e-04\n",
      "Epoch 80/150\n",
      "\n",
      "Epoch 80: val_loss did not improve from 0.39494\n",
      "45/45 - 0s - 6ms/step - categorical_accuracy: 0.7319 - loss: 0.6230 - val_categorical_accuracy: 0.8111 - val_loss: 0.4418 - learning_rate: 1.0000e-04\n",
      "Epoch 81/150\n",
      "\n",
      "Epoch 81: val_loss did not improve from 0.39494\n",
      "45/45 - 0s - 6ms/step - categorical_accuracy: 0.7292 - loss: 0.6354 - val_categorical_accuracy: 0.8389 - val_loss: 0.3977 - learning_rate: 1.0000e-04\n",
      "Epoch 82/150\n",
      "\n",
      "Epoch 82: val_loss did not improve from 0.39494\n",
      "45/45 - 0s - 6ms/step - categorical_accuracy: 0.7319 - loss: 0.6083 - val_categorical_accuracy: 0.8333 - val_loss: 0.4195 - learning_rate: 1.0000e-04\n",
      "Epoch 83/150\n",
      "\n",
      "Epoch 83: val_loss did not improve from 0.39494\n",
      "45/45 - 0s - 6ms/step - categorical_accuracy: 0.7444 - loss: 0.5982 - val_categorical_accuracy: 0.7833 - val_loss: 0.4454 - learning_rate: 1.0000e-04\n",
      "Epoch 84/150\n",
      "\n",
      "Epoch 84: val_loss did not improve from 0.39494\n",
      "45/45 - 0s - 6ms/step - categorical_accuracy: 0.7472 - loss: 0.6378 - val_categorical_accuracy: 0.8056 - val_loss: 0.4096 - learning_rate: 1.0000e-04\n",
      "Epoch 85/150\n",
      "\n",
      "Epoch 85: val_loss did not improve from 0.39494\n",
      "45/45 - 0s - 6ms/step - categorical_accuracy: 0.7569 - loss: 0.6006 - val_categorical_accuracy: 0.8056 - val_loss: 0.4042 - learning_rate: 1.0000e-04\n",
      "Epoch 86/150\n",
      "\n",
      "Epoch 86: val_loss did not improve from 0.39494\n",
      "\n",
      "Epoch 86: ReduceLROnPlateau reducing learning rate to 4.999999873689376e-05.\n",
      "45/45 - 0s - 6ms/step - categorical_accuracy: 0.7472 - loss: 0.5827 - val_categorical_accuracy: 0.8056 - val_loss: 0.4213 - learning_rate: 1.0000e-04\n",
      "Epoch 87/150\n",
      "\n",
      "Epoch 87: val_loss improved from 0.39494 to 0.37849, saving model to model_sublabeling/cnn_best.keras\n",
      "45/45 - 0s - 7ms/step - categorical_accuracy: 0.7556 - loss: 0.5953 - val_categorical_accuracy: 0.8667 - val_loss: 0.3785 - learning_rate: 5.0000e-05\n",
      "Epoch 88/150\n",
      "\n",
      "Epoch 88: val_loss did not improve from 0.37849\n",
      "45/45 - 0s - 6ms/step - categorical_accuracy: 0.7542 - loss: 0.5943 - val_categorical_accuracy: 0.8389 - val_loss: 0.3820 - learning_rate: 5.0000e-05\n",
      "Epoch 89/150\n",
      "\n",
      "Epoch 89: val_loss improved from 0.37849 to 0.37467, saving model to model_sublabeling/cnn_best.keras\n",
      "45/45 - 0s - 7ms/step - categorical_accuracy: 0.7681 - loss: 0.5524 - val_categorical_accuracy: 0.8611 - val_loss: 0.3747 - learning_rate: 5.0000e-05\n",
      "Epoch 90/150\n",
      "\n",
      "Epoch 90: val_loss improved from 0.37467 to 0.36839, saving model to model_sublabeling/cnn_best.keras\n",
      "45/45 - 0s - 7ms/step - categorical_accuracy: 0.7556 - loss: 0.5536 - val_categorical_accuracy: 0.8556 - val_loss: 0.3684 - learning_rate: 5.0000e-05\n",
      "Epoch 91/150\n",
      "\n",
      "Epoch 91: val_loss did not improve from 0.36839\n",
      "45/45 - 0s - 6ms/step - categorical_accuracy: 0.7722 - loss: 0.5420 - val_categorical_accuracy: 0.8389 - val_loss: 0.3889 - learning_rate: 5.0000e-05\n",
      "Epoch 92/150\n",
      "\n",
      "Epoch 92: val_loss did not improve from 0.36839\n",
      "45/45 - 0s - 6ms/step - categorical_accuracy: 0.7681 - loss: 0.5487 - val_categorical_accuracy: 0.8444 - val_loss: 0.3713 - learning_rate: 5.0000e-05\n",
      "Epoch 93/150\n",
      "\n",
      "Epoch 93: val_loss did not improve from 0.36839\n",
      "45/45 - 0s - 6ms/step - categorical_accuracy: 0.7750 - loss: 0.5328 - val_categorical_accuracy: 0.8278 - val_loss: 0.3706 - learning_rate: 5.0000e-05\n",
      "Epoch 94/150\n",
      "\n",
      "Epoch 94: val_loss improved from 0.36839 to 0.34849, saving model to model_sublabeling/cnn_best.keras\n",
      "45/45 - 0s - 7ms/step - categorical_accuracy: 0.7847 - loss: 0.5592 - val_categorical_accuracy: 0.8722 - val_loss: 0.3485 - learning_rate: 5.0000e-05\n",
      "Epoch 95/150\n",
      "\n",
      "Epoch 95: val_loss did not improve from 0.34849\n",
      "45/45 - 0s - 6ms/step - categorical_accuracy: 0.7750 - loss: 0.5514 - val_categorical_accuracy: 0.8278 - val_loss: 0.3913 - learning_rate: 5.0000e-05\n",
      "Epoch 96/150\n",
      "\n",
      "Epoch 96: val_loss did not improve from 0.34849\n",
      "45/45 - 0s - 6ms/step - categorical_accuracy: 0.7722 - loss: 0.5685 - val_categorical_accuracy: 0.8444 - val_loss: 0.3626 - learning_rate: 5.0000e-05\n",
      "Epoch 97/150\n",
      "\n",
      "Epoch 97: val_loss did not improve from 0.34849\n",
      "45/45 - 0s - 6ms/step - categorical_accuracy: 0.7833 - loss: 0.5177 - val_categorical_accuracy: 0.8278 - val_loss: 0.3862 - learning_rate: 5.0000e-05\n",
      "Epoch 98/150\n",
      "\n",
      "Epoch 98: val_loss did not improve from 0.34849\n",
      "45/45 - 0s - 6ms/step - categorical_accuracy: 0.8056 - loss: 0.5037 - val_categorical_accuracy: 0.8556 - val_loss: 0.3639 - learning_rate: 5.0000e-05\n",
      "Epoch 99/150\n",
      "\n",
      "Epoch 99: val_loss did not improve from 0.34849\n",
      "45/45 - 0s - 6ms/step - categorical_accuracy: 0.7806 - loss: 0.5324 - val_categorical_accuracy: 0.8611 - val_loss: 0.3690 - learning_rate: 5.0000e-05\n",
      "Epoch 100/150\n",
      "\n",
      "Epoch 100: val_loss did not improve from 0.34849\n",
      "45/45 - 0s - 6ms/step - categorical_accuracy: 0.7708 - loss: 0.5586 - val_categorical_accuracy: 0.8444 - val_loss: 0.3608 - learning_rate: 5.0000e-05\n",
      "Epoch 101/150\n",
      "\n",
      "Epoch 101: val_loss did not improve from 0.34849\n",
      "45/45 - 0s - 6ms/step - categorical_accuracy: 0.8042 - loss: 0.5010 - val_categorical_accuracy: 0.8333 - val_loss: 0.3688 - learning_rate: 5.0000e-05\n",
      "Epoch 102/150\n",
      "\n",
      "Epoch 102: val_loss did not improve from 0.34849\n",
      "45/45 - 0s - 6ms/step - categorical_accuracy: 0.7917 - loss: 0.4996 - val_categorical_accuracy: 0.8667 - val_loss: 0.3553 - learning_rate: 5.0000e-05\n",
      "Epoch 103/150\n",
      "\n",
      "Epoch 103: val_loss did not improve from 0.34849\n",
      "45/45 - 0s - 6ms/step - categorical_accuracy: 0.7847 - loss: 0.5168 - val_categorical_accuracy: 0.8444 - val_loss: 0.3576 - learning_rate: 5.0000e-05\n",
      "Epoch 104/150\n",
      "\n",
      "Epoch 104: val_loss improved from 0.34849 to 0.34669, saving model to model_sublabeling/cnn_best.keras\n",
      "45/45 - 0s - 7ms/step - categorical_accuracy: 0.8097 - loss: 0.4949 - val_categorical_accuracy: 0.8722 - val_loss: 0.3467 - learning_rate: 5.0000e-05\n",
      "Epoch 105/150\n",
      "\n",
      "Epoch 105: val_loss improved from 0.34669 to 0.33809, saving model to model_sublabeling/cnn_best.keras\n",
      "45/45 - 0s - 7ms/step - categorical_accuracy: 0.8014 - loss: 0.5138 - val_categorical_accuracy: 0.8778 - val_loss: 0.3381 - learning_rate: 5.0000e-05\n",
      "Epoch 106/150\n",
      "\n",
      "Epoch 106: val_loss did not improve from 0.33809\n",
      "45/45 - 0s - 6ms/step - categorical_accuracy: 0.7556 - loss: 0.5783 - val_categorical_accuracy: 0.8278 - val_loss: 0.4053 - learning_rate: 5.0000e-05\n",
      "Epoch 107/150\n",
      "\n",
      "Epoch 107: val_loss did not improve from 0.33809\n",
      "45/45 - 0s - 6ms/step - categorical_accuracy: 0.7972 - loss: 0.5261 - val_categorical_accuracy: 0.8333 - val_loss: 0.3598 - learning_rate: 5.0000e-05\n",
      "Epoch 108/150\n",
      "\n",
      "Epoch 108: val_loss did not improve from 0.33809\n",
      "45/45 - 0s - 6ms/step - categorical_accuracy: 0.7764 - loss: 0.5351 - val_categorical_accuracy: 0.8556 - val_loss: 0.3477 - learning_rate: 5.0000e-05\n",
      "Epoch 109/150\n",
      "\n",
      "Epoch 109: val_loss did not improve from 0.33809\n",
      "45/45 - 0s - 6ms/step - categorical_accuracy: 0.7903 - loss: 0.5108 - val_categorical_accuracy: 0.8944 - val_loss: 0.3453 - learning_rate: 5.0000e-05\n",
      "Epoch 110/150\n",
      "\n",
      "Epoch 110: val_loss did not improve from 0.33809\n",
      "45/45 - 0s - 6ms/step - categorical_accuracy: 0.7778 - loss: 0.5278 - val_categorical_accuracy: 0.8222 - val_loss: 0.3631 - learning_rate: 5.0000e-05\n",
      "Epoch 111/150\n",
      "\n",
      "Epoch 111: val_loss did not improve from 0.33809\n",
      "45/45 - 0s - 6ms/step - categorical_accuracy: 0.7986 - loss: 0.5105 - val_categorical_accuracy: 0.8444 - val_loss: 0.3572 - learning_rate: 5.0000e-05\n",
      "Epoch 112/150\n",
      "\n",
      "Epoch 112: val_loss did not improve from 0.33809\n",
      "45/45 - 0s - 6ms/step - categorical_accuracy: 0.7903 - loss: 0.5408 - val_categorical_accuracy: 0.8111 - val_loss: 0.3758 - learning_rate: 5.0000e-05\n",
      "Epoch 113/150\n",
      "\n",
      "Epoch 113: val_loss improved from 0.33809 to 0.33023, saving model to model_sublabeling/cnn_best.keras\n",
      "45/45 - 0s - 7ms/step - categorical_accuracy: 0.8083 - loss: 0.5044 - val_categorical_accuracy: 0.8611 - val_loss: 0.3302 - learning_rate: 5.0000e-05\n",
      "Epoch 114/150\n",
      "\n",
      "Epoch 114: val_loss improved from 0.33023 to 0.32534, saving model to model_sublabeling/cnn_best.keras\n",
      "45/45 - 0s - 7ms/step - categorical_accuracy: 0.8125 - loss: 0.4844 - val_categorical_accuracy: 0.9111 - val_loss: 0.3253 - learning_rate: 5.0000e-05\n",
      "Epoch 115/150\n",
      "\n",
      "Epoch 115: val_loss did not improve from 0.32534\n",
      "45/45 - 0s - 6ms/step - categorical_accuracy: 0.7944 - loss: 0.4847 - val_categorical_accuracy: 0.8556 - val_loss: 0.3487 - learning_rate: 5.0000e-05\n",
      "Epoch 116/150\n",
      "\n",
      "Epoch 116: val_loss did not improve from 0.32534\n",
      "45/45 - 0s - 6ms/step - categorical_accuracy: 0.8028 - loss: 0.4990 - val_categorical_accuracy: 0.8722 - val_loss: 0.3417 - learning_rate: 5.0000e-05\n",
      "Epoch 117/150\n",
      "\n",
      "Epoch 117: val_loss did not improve from 0.32534\n",
      "45/45 - 0s - 6ms/step - categorical_accuracy: 0.7806 - loss: 0.5115 - val_categorical_accuracy: 0.8667 - val_loss: 0.3668 - learning_rate: 5.0000e-05\n",
      "Epoch 118/150\n",
      "\n",
      "Epoch 118: val_loss did not improve from 0.32534\n",
      "45/45 - 0s - 6ms/step - categorical_accuracy: 0.7847 - loss: 0.5194 - val_categorical_accuracy: 0.8889 - val_loss: 0.3341 - learning_rate: 5.0000e-05\n",
      "Epoch 119/150\n",
      "\n",
      "Epoch 119: val_loss did not improve from 0.32534\n",
      "45/45 - 0s - 6ms/step - categorical_accuracy: 0.7917 - loss: 0.4828 - val_categorical_accuracy: 0.8333 - val_loss: 0.3701 - learning_rate: 5.0000e-05\n",
      "Epoch 120/150\n",
      "\n",
      "Epoch 120: val_loss did not improve from 0.32534\n",
      "45/45 - 0s - 6ms/step - categorical_accuracy: 0.7903 - loss: 0.5153 - val_categorical_accuracy: 0.8722 - val_loss: 0.3324 - learning_rate: 5.0000e-05\n",
      "Epoch 121/150\n",
      "\n",
      "Epoch 121: val_loss did not improve from 0.32534\n",
      "45/45 - 0s - 6ms/step - categorical_accuracy: 0.7750 - loss: 0.5220 - val_categorical_accuracy: 0.8611 - val_loss: 0.3407 - learning_rate: 5.0000e-05\n",
      "Epoch 122/150\n",
      "\n",
      "Epoch 122: val_loss did not improve from 0.32534\n",
      "45/45 - 0s - 6ms/step - categorical_accuracy: 0.7736 - loss: 0.5466 - val_categorical_accuracy: 0.8611 - val_loss: 0.3337 - learning_rate: 5.0000e-05\n",
      "Epoch 123/150\n",
      "\n",
      "Epoch 123: val_loss did not improve from 0.32534\n",
      "45/45 - 0s - 6ms/step - categorical_accuracy: 0.8097 - loss: 0.4680 - val_categorical_accuracy: 0.8611 - val_loss: 0.3446 - learning_rate: 5.0000e-05\n",
      "Epoch 124/150\n",
      "\n",
      "Epoch 124: val_loss did not improve from 0.32534\n",
      "\n",
      "Epoch 124: ReduceLROnPlateau reducing learning rate to 2.499999936844688e-05.\n",
      "45/45 - 0s - 6ms/step - categorical_accuracy: 0.8014 - loss: 0.5056 - val_categorical_accuracy: 0.8278 - val_loss: 0.3746 - learning_rate: 5.0000e-05\n",
      "Epoch 125/150\n",
      "\n",
      "Epoch 125: val_loss improved from 0.32534 to 0.32075, saving model to model_sublabeling/cnn_best.keras\n",
      "45/45 - 0s - 7ms/step - categorical_accuracy: 0.7861 - loss: 0.5286 - val_categorical_accuracy: 0.9000 - val_loss: 0.3207 - learning_rate: 2.5000e-05\n",
      "Epoch 126/150\n",
      "\n",
      "Epoch 126: val_loss improved from 0.32075 to 0.31817, saving model to model_sublabeling/cnn_best.keras\n",
      "45/45 - 0s - 7ms/step - categorical_accuracy: 0.8153 - loss: 0.4738 - val_categorical_accuracy: 0.8833 - val_loss: 0.3182 - learning_rate: 2.5000e-05\n",
      "Epoch 127/150\n",
      "\n",
      "Epoch 127: val_loss did not improve from 0.31817\n",
      "45/45 - 0s - 6ms/step - categorical_accuracy: 0.8139 - loss: 0.4835 - val_categorical_accuracy: 0.8500 - val_loss: 0.3436 - learning_rate: 2.5000e-05\n",
      "Epoch 128/150\n",
      "\n",
      "Epoch 128: val_loss did not improve from 0.31817\n",
      "45/45 - 0s - 6ms/step - categorical_accuracy: 0.8069 - loss: 0.4757 - val_categorical_accuracy: 0.8778 - val_loss: 0.3278 - learning_rate: 2.5000e-05\n",
      "Epoch 129/150\n",
      "\n",
      "Epoch 129: val_loss improved from 0.31817 to 0.31549, saving model to model_sublabeling/cnn_best.keras\n",
      "45/45 - 0s - 7ms/step - categorical_accuracy: 0.7875 - loss: 0.5147 - val_categorical_accuracy: 0.8944 - val_loss: 0.3155 - learning_rate: 2.5000e-05\n",
      "Epoch 130/150\n",
      "\n",
      "Epoch 130: val_loss did not improve from 0.31549\n",
      "45/45 - 0s - 6ms/step - categorical_accuracy: 0.8028 - loss: 0.4680 - val_categorical_accuracy: 0.8889 - val_loss: 0.3350 - learning_rate: 2.5000e-05\n",
      "Epoch 131/150\n",
      "\n",
      "Epoch 131: val_loss did not improve from 0.31549\n",
      "45/45 - 0s - 6ms/step - categorical_accuracy: 0.7986 - loss: 0.5023 - val_categorical_accuracy: 0.8556 - val_loss: 0.3270 - learning_rate: 2.5000e-05\n",
      "Epoch 132/150\n",
      "\n",
      "Epoch 132: val_loss did not improve from 0.31549\n",
      "45/45 - 0s - 6ms/step - categorical_accuracy: 0.8042 - loss: 0.4627 - val_categorical_accuracy: 0.8333 - val_loss: 0.3253 - learning_rate: 2.5000e-05\n",
      "Epoch 133/150\n",
      "\n",
      "Epoch 133: val_loss improved from 0.31549 to 0.30626, saving model to model_sublabeling/cnn_best.keras\n",
      "45/45 - 0s - 7ms/step - categorical_accuracy: 0.8097 - loss: 0.4572 - val_categorical_accuracy: 0.8778 - val_loss: 0.3063 - learning_rate: 2.5000e-05\n",
      "Epoch 134/150\n",
      "\n",
      "Epoch 134: val_loss improved from 0.30626 to 0.30561, saving model to model_sublabeling/cnn_best.keras\n",
      "45/45 - 0s - 7ms/step - categorical_accuracy: 0.7972 - loss: 0.4767 - val_categorical_accuracy: 0.8833 - val_loss: 0.3056 - learning_rate: 2.5000e-05\n",
      "Epoch 135/150\n",
      "\n",
      "Epoch 135: val_loss did not improve from 0.30561\n",
      "45/45 - 0s - 6ms/step - categorical_accuracy: 0.8125 - loss: 0.4729 - val_categorical_accuracy: 0.8556 - val_loss: 0.3057 - learning_rate: 2.5000e-05\n",
      "Epoch 136/150\n",
      "\n",
      "Epoch 136: val_loss did not improve from 0.30561\n",
      "45/45 - 0s - 6ms/step - categorical_accuracy: 0.8333 - loss: 0.4532 - val_categorical_accuracy: 0.8778 - val_loss: 0.3088 - learning_rate: 2.5000e-05\n",
      "Epoch 137/150\n",
      "\n",
      "Epoch 137: val_loss did not improve from 0.30561\n",
      "45/45 - 0s - 6ms/step - categorical_accuracy: 0.8125 - loss: 0.5033 - val_categorical_accuracy: 0.8667 - val_loss: 0.3128 - learning_rate: 2.5000e-05\n",
      "Epoch 138/150\n",
      "\n",
      "Epoch 138: val_loss did not improve from 0.30561\n",
      "45/45 - 0s - 6ms/step - categorical_accuracy: 0.8333 - loss: 0.4278 - val_categorical_accuracy: 0.8833 - val_loss: 0.3225 - learning_rate: 2.5000e-05\n",
      "Epoch 139/150\n",
      "\n",
      "Epoch 139: val_loss improved from 0.30561 to 0.30100, saving model to model_sublabeling/cnn_best.keras\n",
      "45/45 - 0s - 7ms/step - categorical_accuracy: 0.8097 - loss: 0.4659 - val_categorical_accuracy: 0.8944 - val_loss: 0.3010 - learning_rate: 2.5000e-05\n",
      "Epoch 140/150\n",
      "\n",
      "Epoch 140: val_loss did not improve from 0.30100\n",
      "45/45 - 0s - 6ms/step - categorical_accuracy: 0.8139 - loss: 0.4889 - val_categorical_accuracy: 0.9000 - val_loss: 0.3032 - learning_rate: 2.5000e-05\n",
      "Epoch 141/150\n",
      "\n",
      "Epoch 141: val_loss did not improve from 0.30100\n",
      "45/45 - 0s - 6ms/step - categorical_accuracy: 0.8167 - loss: 0.4762 - val_categorical_accuracy: 0.8611 - val_loss: 0.3178 - learning_rate: 2.5000e-05\n",
      "Epoch 142/150\n",
      "\n",
      "Epoch 142: val_loss did not improve from 0.30100\n",
      "45/45 - 0s - 6ms/step - categorical_accuracy: 0.7986 - loss: 0.4992 - val_categorical_accuracy: 0.8778 - val_loss: 0.3104 - learning_rate: 2.5000e-05\n",
      "Epoch 143/150\n",
      "\n",
      "Epoch 143: val_loss did not improve from 0.30100\n",
      "45/45 - 0s - 6ms/step - categorical_accuracy: 0.7972 - loss: 0.4783 - val_categorical_accuracy: 0.8611 - val_loss: 0.3239 - learning_rate: 2.5000e-05\n",
      "Epoch 144/150\n",
      "\n",
      "Epoch 144: val_loss did not improve from 0.30100\n",
      "45/45 - 0s - 6ms/step - categorical_accuracy: 0.8167 - loss: 0.4603 - val_categorical_accuracy: 0.8944 - val_loss: 0.3094 - learning_rate: 2.5000e-05\n",
      "Epoch 145/150\n",
      "\n",
      "Epoch 145: val_loss improved from 0.30100 to 0.29832, saving model to model_sublabeling/cnn_best.keras\n",
      "45/45 - 0s - 7ms/step - categorical_accuracy: 0.8069 - loss: 0.4987 - val_categorical_accuracy: 0.9056 - val_loss: 0.2983 - learning_rate: 2.5000e-05\n",
      "Epoch 146/150\n",
      "\n",
      "Epoch 146: val_loss did not improve from 0.29832\n",
      "45/45 - 0s - 6ms/step - categorical_accuracy: 0.7972 - loss: 0.4827 - val_categorical_accuracy: 0.9000 - val_loss: 0.2987 - learning_rate: 2.5000e-05\n",
      "Epoch 147/150\n",
      "\n",
      "Epoch 147: val_loss improved from 0.29832 to 0.29524, saving model to model_sublabeling/cnn_best.keras\n",
      "45/45 - 0s - 7ms/step - categorical_accuracy: 0.8250 - loss: 0.4412 - val_categorical_accuracy: 0.9056 - val_loss: 0.2952 - learning_rate: 2.5000e-05\n",
      "Epoch 148/150\n",
      "\n",
      "Epoch 148: val_loss did not improve from 0.29524\n",
      "45/45 - 0s - 6ms/step - categorical_accuracy: 0.8236 - loss: 0.4405 - val_categorical_accuracy: 0.8722 - val_loss: 0.2986 - learning_rate: 2.5000e-05\n",
      "Epoch 149/150\n",
      "\n",
      "Epoch 149: val_loss did not improve from 0.29524\n",
      "45/45 - 0s - 6ms/step - categorical_accuracy: 0.8125 - loss: 0.4610 - val_categorical_accuracy: 0.8833 - val_loss: 0.2960 - learning_rate: 2.5000e-05\n",
      "Epoch 150/150\n",
      "\n",
      "Epoch 150: val_loss did not improve from 0.29524\n",
      "45/45 - 0s - 7ms/step - categorical_accuracy: 0.8167 - loss: 0.4697 - val_categorical_accuracy: 0.8722 - val_loss: 0.3108 - learning_rate: 2.5000e-05\n",
      "Restoring model weights from the end of the best epoch: 147.\n"
     ]
    }
   ],
   "source": [
    "# --- Model 1D CNN ---\n",
    "print(\"\\n--- Melatih Model 1D CNN ---\")\n",
    "model_cnn = Sequential([\n",
    "    Conv1D(128, kernel_size=5, activation='relu', input_shape=(sequence_length, num_features), padding='same'),\n",
    "    BatchNormalization(), \n",
    "    Dropout(0.3),\n",
    "    Conv1D(128, kernel_size=3, activation='relu', padding='same'),\n",
    "    BatchNormalization(), \n",
    "    Dropout(0.3),\n",
    "    GlobalAveragePooling1D(),\n",
    "    Dense(64, activation='relu'),\n",
    "    BatchNormalization(), \n",
    "    Dropout(0.4),\n",
    "    Dense(num_classes, activation='softmax') # num_classes sekarang 15\n",
    "])\n",
    "\n",
    "model_cnn.compile(optimizer=Adam(1e-4),\n",
    "                  loss='categorical_crossentropy',\n",
    "                  metrics=['categorical_accuracy'])\n",
    "\n",
    "callbacks_cnn = [\n",
    "    EarlyStopping(patience=20, restore_best_weights=True, monitor='val_loss', verbose=1),\n",
    "    ModelCheckpoint('model_sublabeling/cnn_best.keras', monitor='val_loss', save_best_only=True, verbose=1),\n",
    "    ReduceLROnPlateau(patience=10, factor=0.5, verbose=1, min_lr=1e-6)\n",
    "]\n",
    "\n",
    "history_cnn = model_cnn.fit(\n",
    "    X_train_scaled, y_train_one_hot,\n",
    "    epochs=150,\n",
    "    batch_size=16,\n",
    "    validation_data=(X_val_scaled, y_val_one_hot),\n",
    "    callbacks=callbacks_cnn,\n",
    "    verbose=2\n",
    ")\n"
   ]
  },
  {
   "cell_type": "markdown",
   "metadata": {},
   "source": [
    "# Grafik"
   ]
  },
  {
   "cell_type": "code",
   "execution_count": 23,
   "metadata": {
    "execution": {
     "iopub.execute_input": "2025-05-26T04:17:25.394752Z",
     "iopub.status.busy": "2025-05-26T04:17:25.394189Z",
     "iopub.status.idle": "2025-05-26T04:17:26.252475Z",
     "shell.execute_reply": "2025-05-26T04:17:26.251187Z",
     "shell.execute_reply.started": "2025-05-26T04:17:25.394729Z"
    },
    "trusted": true
   },
   "outputs": [
    {
     "name": "stdout",
     "output_type": "stream",
     "text": [
      "\n",
      "--- Plotting Hasil Pelatihan ---\n"
     ]
    },
    {
     "data": {
      "image/png": "[encoded data removed]",
      "text/plain": [
       "<Figure size 1200x500 with 2 Axes>"
      ]
     },
     "metadata": {},
     "output_type": "display_data"
    }
   ],
   "source": [
    "# --- 5. Pembangunan dan Pelatihan Model - Plot Hasil ---\n",
    "print(\"\\n--- Plotting Hasil Pelatihan ---\")\n",
    "plt.figure(figsize=(12, 5))\n",
    "plt.subplot(1, 2, 1)\n",
    "plt.plot(history_lstm.history['categorical_accuracy'], label='LSTM Train Acc')\n",
    "plt.plot(history_gru.history['categorical_accuracy'], label='GRU Train Acc')\n",
    "plt.plot(history_cnn.history['categorical_accuracy'], label='CNN Train Acc')\n",
    "plt.plot(history_lstm.history['val_categorical_accuracy'], label='LSTM Val Acc', linestyle='--')\n",
    "plt.plot(history_gru.history['val_categorical_accuracy'], label='GRU Val Acc', linestyle='--')\n",
    "plt.plot(history_cnn.history['val_categorical_accuracy'], label='CNN Val Acc', linestyle='--')\n",
    "plt.title(\"Akurasi Pelatihan dan Validasi\")\n",
    "plt.xlabel(\"Epoch\")\n",
    "plt.ylabel(\"Akurasi\")\n",
    "plt.legend()\n",
    "\n",
    "plt.subplot(1, 2, 2)\n",
    "plt.plot(history_lstm.history['loss'], label='LSTM Train Loss')\n",
    "plt.plot(history_gru.history['loss'], label='GRU Train Loss')\n",
    "plt.plot(history_cnn.history['loss'], label='CNN Train Loss')\n",
    "plt.plot(history_lstm.history['val_loss'], label='LSTM Val Loss', linestyle='--')\n",
    "plt.plot(history_gru.history['val_loss'], label='GRU Val Loss', linestyle='--')\n",
    "plt.plot(history_cnn.history['val_loss'], label='CNN Val Loss', linestyle='--')\n",
    "plt.title(\"Loss Pelatihan dan Validasi\")\n",
    "plt.xlabel(\"Epoch\")\n",
    "plt.ylabel(\"Loss\")\n",
    "plt.legend()\n",
    "plt.tight_layout()\n",
    "plt.show()"
   ]
  },
  {
   "cell_type": "markdown",
   "metadata": {},
   "source": [
    "## **b. Evaluasi Model**"
   ]
  },
  {
   "cell_type": "code",
   "execution_count": 24,
   "metadata": {
    "execution": {
     "iopub.execute_input": "2025-05-26T04:17:26.254049Z",
     "iopub.status.busy": "2025-05-26T04:17:26.253767Z",
     "iopub.status.idle": "2025-05-26T04:17:30.191774Z",
     "shell.execute_reply": "2025-05-26T04:17:30.190739Z",
     "shell.execute_reply.started": "2025-05-26T04:17:26.254026Z"
    },
    "trusted": true
   },
   "outputs": [
    {
     "name": "stdout",
     "output_type": "stream",
     "text": [
      "\n",
      "--- Evaluasi Performa Model di Validation Set ---\n",
      "WARNING:tensorflow:5 out of the last 13 calls to <function TensorFlowTrainer.make_predict_function.<locals>.one_step_on_data_distributed at 0x000001D9966320E0> triggered tf.function retracing. Tracing is expensive and the excessive number of tracings could be due to (1) creating @tf.function repeatedly in a loop, (2) passing tensors with different shapes, (3) passing Python objects instead of tensors. For (1), please define your @tf.function outside of the loop. For (2), @tf.function has reduce_retracing=True option that can avoid unnecessary retracing. For (3), please refer to https://www.tensorflow.org/guide/function#controlling_retracing and https://www.tensorflow.org/api_docs/python/tf/function for  more details.\n",
      "\n",
      "=== Validation Performance ===\n"
     ]
    },
    {
     "data": {
      "text/html": [
       "<div>\n",
       "<style scoped>\n",
       "    .dataframe tbody tr th:only-of-type {\n",
       "        vertical-align: middle;\n",
       "    }\n",
       "\n",
       "    .dataframe tbody tr th {\n",
       "        vertical-align: top;\n",
       "    }\n",
       "\n",
       "    .dataframe thead th {\n",
       "        text-align: right;\n",
       "    }\n",
       "</style>\n",
       "<table border=\"1\" class=\"dataframe\">\n",
       "  <thead>\n",
       "    <tr style=\"text-align: right;\">\n",
       "      <th></th>\n",
       "      <th>acc</th>\n",
       "      <th>prec</th>\n",
       "      <th>f1</th>\n",
       "    </tr>\n",
       "    <tr>\n",
       "      <th>model</th>\n",
       "      <th></th>\n",
       "      <th></th>\n",
       "      <th></th>\n",
       "    </tr>\n",
       "  </thead>\n",
       "  <tbody>\n",
       "    <tr>\n",
       "      <th>LSTM</th>\n",
       "      <td>0.889</td>\n",
       "      <td>0.900</td>\n",
       "      <td>0.886</td>\n",
       "    </tr>\n",
       "    <tr>\n",
       "      <th>GRU</th>\n",
       "      <td>0.872</td>\n",
       "      <td>0.879</td>\n",
       "      <td>0.873</td>\n",
       "    </tr>\n",
       "    <tr>\n",
       "      <th>CNN</th>\n",
       "      <td>0.906</td>\n",
       "      <td>0.917</td>\n",
       "      <td>0.905</td>\n",
       "    </tr>\n",
       "  </tbody>\n",
       "</table>\n",
       "</div>"
      ],
      "text/plain": [
       "         acc   prec     f1\n",
       "model                     \n",
       "LSTM   0.889  0.900  0.886\n",
       "GRU    0.872  0.879  0.873\n",
       "CNN    0.906  0.917  0.905"
      ]
     },
     "metadata": {},
     "output_type": "display_data"
    },
    {
     "name": "stdout",
     "output_type": "stream",
     "text": [
      "WARNING:tensorflow:5 out of the last 13 calls to <function TensorFlowTrainer.make_predict_function.<locals>.one_step_on_data_distributed at 0x000001D996717760> triggered tf.function retracing. Tracing is expensive and the excessive number of tracings could be due to (1) creating @tf.function repeatedly in a loop, (2) passing tensors with different shapes, (3) passing Python objects instead of tensors. For (1), please define your @tf.function outside of the loop. For (2), @tf.function has reduce_retracing=True option that can avoid unnecessary retracing. For (3), please refer to https://www.tensorflow.org/guide/function#controlling_retracing and https://www.tensorflow.org/api_docs/python/tf/function for  more details.\n",
      "\n",
      "--- Classification Report untuk Model Terbaik (CNN) ---\n",
      "                                         precision    recall  f1-score   support\n",
      "\n",
      "        Angkat Pinggul - Tidak Bergerak       0.80      1.00      0.89        12\n",
      "        Angkat Pinggul - Tidak Sempurna       1.00      1.00      1.00        12\n",
      "              Angkat Pinggul - Sempurna       1.00      0.75      0.86        12\n",
      "         Angkat Tangan - Tidak Bergerak       1.00      0.92      0.96        12\n",
      "         Angkat Tangan - Tidak Sempurna       1.00      0.92      0.96        12\n",
      "               Angkat Tangan - Sempurna       0.80      1.00      0.89        12\n",
      "           Lutut Turun - Tidak Bergerak       1.00      0.67      0.80        12\n",
      "           Lutut Turun - Tidak Sempurna       1.00      1.00      1.00        12\n",
      "                 Lutut Turun - Sempurna       0.75      1.00      0.86        12\n",
      "Naikan Kepalan Kedepan - Tidak Bergerak       0.83      0.83      0.83        12\n",
      "Naikan Kepalan Kedepan - Tidak Sempurna       1.00      1.00      1.00        12\n",
      "      Naikan Kepalan Kedepan - Sempurna       0.83      0.83      0.83        12\n",
      "            Rentangkan - Tidak Bergerak       0.91      0.83      0.87        12\n",
      "            Rentangkan - Tidak Sempurna       0.92      1.00      0.96        12\n",
      "                  Rentangkan - Sempurna       0.91      0.83      0.87        12\n",
      "\n",
      "                               accuracy                           0.91       180\n",
      "                              macro avg       0.92      0.91      0.90       180\n",
      "                           weighted avg       0.92      0.91      0.90       180\n",
      "\n"
     ]
    },
    {
     "data": {
      "image/png": "[encoded data removed]",
      "text/plain": [
       "<Figure size 1000x800 with 2 Axes>"
      ]
     },
     "metadata": {},
     "output_type": "display_data"
    },
    {
     "name": "stdout",
     "output_type": "stream",
     "text": [
      "\n",
      "Folder keypoints_sublabeling_augmented telah dikompres menjadi keypoints_sublabeling_augmented.zip\n"
     ]
    }
   ],
   "source": [
    "# --- 6. Evaluasi Model ---\n",
    "print(\"\\n--- Evaluasi Performa Model di Validation Set ---\")\n",
    "def eval_val(model, X_data_scaled, y_true_one_hot):\n",
    "    y_prob = model.predict(X_data_scaled, verbose=0)\n",
    "    y_pred = np.argmax(y_prob, axis=1)\n",
    "    y_true = np.argmax(y_true_one_hot, axis=1)\n",
    "    acc = accuracy_score(y_true, y_pred)\n",
    "    prec, rec, f1, _ = precision_recall_fscore_support(\n",
    "        y_true, y_pred, average='macro', zero_division=0)\n",
    "    return acc, prec, rec, f1, y_true, y_pred\n",
    "\n",
    "models_to_eval = {\n",
    "    'LSTM': {'path': 'model_sublabeling/lstm_best.keras', 'data_scaled': X_val_scaled},\n",
    "    'GRU': {'path': 'model_sublabeling/gru_best.keras', 'data_scaled': X_val_scaled},\n",
    "    'CNN': {'path': 'model_sublabeling/cnn_best.keras', 'data_scaled': X_val_scaled}\n",
    "}\n",
    "\n",
    "scores = []\n",
    "for name, config in models_to_eval.items():\n",
    "    m = load_model(config['path'])\n",
    "    acc, prec, rec, f1, _, _ = eval_val(m, config['data_scaled'], y_val_one_hot)\n",
    "    scores.append(dict(model=name, acc=acc, prec=prec, f1=f1)) \n",
    "\n",
    "perf = pd.DataFrame(scores).set_index('model').round(3)\n",
    "print('\\n=== Validation Performance ===')\n",
    "display(perf)\n",
    "\n",
    "best_model_name = perf['f1'].idxmax()\n",
    "best_model = load_model(models_to_eval[best_model_name]['path'])\n",
    "acc, prec, rec, f1, y_true_val, y_pred_val = eval_val(best_model, models_to_eval[best_model_name]['data_scaled'], y_val_one_hot)\n",
    "\n",
    "# Gunakan FULL_ACTIONS untuk target_names\n",
    "print(f\"\\n--- Classification Report untuk Model Terbaik ({best_model_name}) ---\")\n",
    "print(classification_report(y_true_val, y_pred_val, target_names=FULL_ACTIONS, zero_division=0))\n",
    "\n",
    "plt.figure(figsize=(10, 8)) # Ukuran plot disesuaikan karena lebih banyak kelas\n",
    "cm = confusion_matrix(y_true_val, y_pred_val, labels=range(num_classes))\n",
    "sns.heatmap(cm, annot=True, fmt='d', xticklabels=FULL_ACTIONS, yticklabels=FULL_ACTIONS, cmap='Blues')\n",
    "plt.title(f'Confusion Matrix – {best_model_name} (Validation)')\n",
    "plt.xlabel('Predicted')\n",
    "plt.ylabel('True')\n",
    "plt.xticks(rotation=90) # Rotasi label X agar tidak tumpang tindih\n",
    "plt.yticks(rotation=0)  # Rotasi label Y\n",
    "plt.tight_layout()\n",
    "plt.show()\n",
    "\n",
    "import shutil\n",
    "# Buat folder untuk menyimpan model jika belum ada\n",
    "os.makedirs('model_sublabeling', exist_ok=True)\n",
    "# Kompres folder 'keypoints_sublabeling_augmented' menjadi 'keypoints_sublabeling_augmented.zip' jika belum ada\n",
    "if not os.path.exists('keypoints_sublabeling_augmented.zip'):\n",
    "    shutil.make_archive('keypoints_sublabeling_augmented', 'zip', 'keypoints_sublabeling_augmented')\n",
    "    print(\"\\nFolder keypoints_sublabeling_augmented telah dikompres menjadi keypoints_sublabeling_augmented.zip\")"
   ]
  },
  {
   "cell_type": "markdown",
   "metadata": {},
   "source": [
    "# **6. Inferensi Model**"
   ]
  },
  {
   "cell_type": "markdown",
   "metadata": {},
   "source": [
    "## **a. Inferensi Klasifikasi Gerakan**"
   ]
  },
  {
   "cell_type": "code",
   "execution_count": null,
   "metadata": {
    "execution": {
     "iopub.execute_input": "2025-05-26T04:17:30.193300Z",
     "iopub.status.busy": "2025-05-26T04:17:30.192931Z",
     "iopub.status.idle": "2025-05-26T04:17:30.355644Z",
     "shell.execute_reply": "2025-05-26T04:17:30.354317Z",
     "shell.execute_reply.started": "2025-05-26T04:17:30.193270Z"
    },
    "trusted": true
   },
   "outputs": [
    {
     "name": "stdout",
     "output_type": "stream",
     "text": [
      "\n",
      "--- Inferensi Model - Klasifikasi Gerakan (dengan Sub-label) ---\n",
      "Memulai inferensi klasifikasi gerakan. Tekan 'ESC' untuk keluar.\n"
     ]
    },
    {
     "ename": "NameError",
     "evalue": "name 'probs' is not defined",
     "output_type": "error",
     "traceback": [
      "\u001b[1;31m---------------------------------------------------------------------------\u001b[0m",
      "\u001b[1;31mNameError\u001b[0m                                 Traceback (most recent call last)",
      "Cell \u001b[1;32mIn[25], line 51\u001b[0m\n\u001b[0;32m     49\u001b[0m prediction_probs \u001b[38;5;241m=\u001b[39m inference_model\u001b[38;5;241m.\u001b[39mpredict(seq_input_scaled, verbose\u001b[38;5;241m=\u001b[39m\u001b[38;5;241m0\u001b[39m)[\u001b[38;5;241m0\u001b[39m] \n\u001b[0;32m     50\u001b[0m idx_pred \u001b[38;5;241m=\u001b[39m \u001b[38;5;28mint\u001b[39m(np\u001b[38;5;241m.\u001b[39margmax(prediction_probs))\n\u001b[1;32m---> 51\u001b[0m last_conf \u001b[38;5;241m=\u001b[39m \u001b[38;5;28mfloat\u001b[39m(\u001b[43mprobs\u001b[49m[idx_pred])\n\u001b[0;32m     52\u001b[0m pred_label \u001b[38;5;241m=\u001b[39m LABELS[idx_pred] \u001b[38;5;66;03m# Prediksi langsung sub-label\u001b[39;00m\n\u001b[0;32m     54\u001b[0m \u001b[38;5;28;01mif\u001b[39;00m last_conf \u001b[38;5;241m<\u001b[39m DETECT_THRESH:\n",
      "\u001b[1;31mNameError\u001b[0m: name 'probs' is not defined"
     ]
    },
    {
     "ename": "",
     "evalue": "",
     "output_type": "error",
     "traceback": [
      "\u001b[1;31mThe Kernel crashed while executing code in the current cell or a previous cell. \n",
      "\u001b[1;31mPlease review the code in the cell(s) to identify a possible cause of the failure. \n",
      "\u001b[1;31mClick <a href='https://aka.ms/vscodeJupyterKernelCrash'>here</a> for more info. \n",
      "\u001b[1;31mView Jupyter <a href='command:jupyter.viewOutput'>log</a> for further details."
     ]
    }
   ],
   "source": [
    "# --- 7. Inferensi Model - a. Inferensi Klasifikasi Gerakan ---\n",
    "print(\"\\n--- Inferensi Model - Klasifikasi Gerakan (dengan Sub-label) ---\")\n",
    "\n",
    "SEQ_LEN       = 60 # DIUBAH DARI 30 MENJADI 60\n",
    "DETECT_THRESH = 0.7\n",
    "LABELS = np.array(FULL_ACTIONS) # Gunakan FULL_ACTIONS sebagai label inferensi\n",
    "\n",
    "inference_model = load_model(models_to_eval[best_model_name]['path']) \n",
    "pose_model = YOLO('yolov8n-pose.pt')\n",
    "\n",
    "buf = deque(maxlen=SEQ_LEN)\n",
    "\n",
    "def extract_and_normalize_keypoints_inference(results, frame_shape):\n",
    "    num_kpts_features = 17 * 2\n",
    "    keypoints_flat = np.zeros(num_kpts_features, dtype='float32')\n",
    "\n",
    "    if results is not None and len(results.keypoints.xy) > 0:\n",
    "        kps = results.keypoints.xy[0].cpu().numpy()  \n",
    "        \n",
    "        if kps.shape[0] == 17:\n",
    "            h, w, _ = frame_shape\n",
    "            normalized_kps = kps / np.array([w, h])\n",
    "            keypoints_flat = normalized_kps.flatten()\n",
    "    \n",
    "    return keypoints_flat.astype('float32')\n",
    "\n",
    "print(\"Memulai inferensi klasifikasi gerakan. Tekan 'ESC' untuk keluar.\")\n",
    "cap = cv2.VideoCapture(0)\n",
    "\n",
    "while cap.isOpened():\n",
    "    ret, frame = cap.read()\n",
    "    if not ret:\n",
    "        break\n",
    "\n",
    "    results_yolo = pose_model.predict(frame, verbose=False)\n",
    "    \n",
    "    keypoints_current_frame = extract_and_normalize_keypoints_inference(results_yolo[0], frame.shape)\n",
    "    buf.append(keypoints_current_frame)\n",
    "\n",
    "    pred_label = \"Menunggu Gerakan...\"\n",
    "    last_conf = 0.0\n",
    "\n",
    "    if len(buf) == SEQ_LEN:\n",
    "        seq_input = np.array(buf).reshape(1, SEQ_LEN, keypoints_current_frame.shape[0])\n",
    "        \n",
    "        seq_input_flat = seq_input.reshape(-1, keypoints_current_frame.shape[0])\n",
    "        seq_input_scaled = scaler.transform(seq_input_flat).reshape(1, SEQ_LEN, keypoints_current_frame.shape[0])\n",
    "        \n",
    "        prediction_probs = inference_model.predict(seq_input_scaled, verbose=0)[0] \n",
    "        idx_pred = int(np.argmax(prediction_probs))\n",
    "        last_conf = float(probs[idx_pred])\n",
    "        pred_label = LABELS[idx_pred] # Prediksi langsung sub-label\n",
    "\n",
    "        if last_conf < DETECT_THRESH:\n",
    "            pred_label = \"Tidak Yakin\"\n",
    "\n",
    "    text = f\"Pose: {pred_label} ({last_conf*100:.1f}%)\"\n",
    "    cv2.putText(frame, text, (10, 30), cv2.FONT_HERSHEY_SIMPLEX,\n",
    "                1, (0, 255, 0) if last_conf > DETECT_THRESH else (0, 0, 255), 2)\n",
    "\n",
    "    if results_yolo[0].keypoints is not None and len(results_yolo[0].keypoints.xy) > 0:\n",
    "        annotated_frame = results_yolo[0].plot()\n",
    "        cv2.imshow('YOLOv8 Pose + Model Klasifikasi', annotated_frame)\n",
    "    else:\n",
    "        cv2.imshow('YOLOv8 Pose + Model Klasifikasi', frame)\n",
    "\n",
    "    if cv2.waitKey(1) & 0xFF == 27:\n",
    "        break\n",
    "\n",
    "cap.release()\n",
    "cv2.destroyAllWindows()"
   ]
  },
  {
   "cell_type": "markdown",
   "metadata": {},
   "source": [
    "## **b. Inferensi Lanjutan**"
   ]
  },
  {
   "cell_type": "code",
   "execution_count": null,
   "metadata": {
    "execution": {
     "iopub.status.busy": "2025-05-26T04:17:30.356486Z",
     "iopub.status.idle": "2025-05-26T04:17:30.356869Z",
     "shell.execute_reply": "2025-05-26T04:17:30.356740Z",
     "shell.execute_reply.started": "2025-05-26T04:17:30.356724Z"
    },
    "trusted": true
   },
   "outputs": [],
   "source": [
    "# --- 7. Inferensi Model - b. Inferensi Lanjutan (Asisten Rehabilitasi) ---\n",
    "print(\"\\n--- Inferensi Model - Asisten Rehabilitasi (Disesuaikan untuk Sub-label Model) ---\")\n",
    "\n",
    "LABELS_WORKFLOW = np.array(FULL_ACTIONS) # Menggunakan FULL_ACTIONS\n",
    "WORKFLOW = np.array(BASE_ACTIONS) # Workflow tetap berdasarkan aksi utama\n",
    "\n",
    "SEQ_LEN = 60 # DIUBAH DARI 30 MENJADI 60\n",
    "DETECT_THRESH_MAIN_MODEL = 0.70\n",
    "\n",
    "# Ambang batas progres ini mungkin tidak lagi relevan jika model memprediksi stage langsung\n",
    "THRESHOLD_PARTIAL = 0.30\n",
    "THRESHOLD_GOOD = 0.70\n",
    "\n",
    "CONFIRMATION_FRAMES_COMPLETE = 10\n",
    "INACTIVITY_FRAMES_RESET = 30\n",
    "EXER_TIME = 20 # Durasi per latihan dalam detik (contoh)\n",
    "POPUP_TIME = 3 # Durasi popup dalam detik (contoh)\n",
    "\n",
    "FONT = cv2.FONT_HERSHEY_SIMPLEX\n",
    "\n",
    "inference_model_workflow = load_model(models_to_eval[best_model_name]['path']) \n",
    "pose_model_workflow = YOLO('yolov8n-pose.pt')\n",
    "\n",
    "# Fungsi calculate_movement_progress_for_display mungkin masih berguna untuk menampilkan progres kontinu\n",
    "# meskipun model memprediksi stage diskrit.\n",
    "def calculate_movement_progress_for_display(current_kps_normalized, base_action_name, calibration_params):\n",
    "    progress = 0.0\n",
    "    if base_action_name == \"Angkat Tangan\":\n",
    "        wrist_y_avg = (current_kps_normalized[9][1] + current_kps_normalized[10][1]) / 2\n",
    "        min_y = calibration_params.get('min_y_wrist_at_100', 0.1) \n",
    "        max_y = calibration_params.get('max_y_wrist_at_0', 0.7)   \n",
    "        if (max_y - min_y) > 0:\n",
    "            progress = (max_y - wrist_y_avg) / (max_y - min_y)\n",
    "        else:\n",
    "            progress = 0.0\n",
    "    elif base_action_name == \"Angkat Pinggul\":\n",
    "        hip_y_avg = (current_kps_normalized[11][1] + current_kps_normalized[12][1]) / 2\n",
    "        min_y = calibration_params.get('min_y_hip_at_100', 0.6) \n",
    "        max_y = calibration_params.get('max_y_hip_at_0', 0.8)   \n",
    "        if (max_y - min_y) > 0:\n",
    "            progress = (max_y - hip_y_avg) / (max_y - min_y)\n",
    "        else:\n",
    "            progress = 0.0\n",
    "    elif base_action_name == \"Rentangkan\":\n",
    "        hip_x_avg = (current_kps_normalized[11][0] + current_kps_normalized[12][0]) / 2\n",
    "        dist_right_arm_x = current_kps_normalized[10][0] - hip_x_avg\n",
    "        dist_left_arm_x = hip_x_avg - current_kps_normalized[9][0] # Perbaikan: current_kps_normalized[9][0]\n",
    "        max_abs_dist_x = max(dist_right_arm_x, dist_left_arm_x)\n",
    "\n",
    "        min_x = calibration_params.get('min_x_stretch_observed', 0.05)\n",
    "        max_x = calibration_params.get('max_x_stretch_observed', 0.35)\n",
    "        \n",
    "        if (max_x - min_x) > 0:\n",
    "            progress = (max_abs_dist_x - min_x) / (max_x - min_x)\n",
    "        else:\n",
    "            progress = 0.0\n",
    "    return np.clip(progress, 0.0, 1.0)\n",
    "\n",
    "# Parameter Kalibrasi Gerakan (tetap sama)\n",
    "CALIBRATION_PARAMS = {\n",
    "    \"Angkat Tangan\": {\n",
    "        'min_y_wrist_at_100': 0.1, \n",
    "        'max_y_wrist_at_0': 0.7    \n",
    "    },\n",
    "    \"Angkat Pinggul\": {\n",
    "        'min_y_hip_at_100': 0.6,   \n",
    "        'max_y_hip_at_0': 0.8      \n",
    "    },\n",
    "    \"Rentangkan\": {\n",
    "        'min_x_stretch_observed': 0.05,\n",
    "        'max_x_stretch_observed': 0.35  \n",
    "    },\n",
    "    \"Lutut Turun\": {},\n",
    "    \"Naikan Kepalan Kedepan\": {}\n",
    "}\n",
    "\n",
    "# --- Inisialisasi State Machine ---\n",
    "current_base_action = \"Idle\" \n",
    "current_predicted_substage = \"Menunggu Gerakan...\" \n",
    "main_action_counter = 0 \n",
    "substage_confirm_counter = 0 \n",
    "frames_since_last_overall_detection = 0 \n",
    "\n",
    "keypoint_sequence_buffer_workflow = deque(maxlen=SEQ_LEN)\n",
    "\n",
    "idx_workflow_step = 0\n",
    "t_ex_start = time.time()\n",
    "popup_phase = None\n",
    "popup_start = None\n",
    "score_workflow = {w: None for w in WORKFLOW}\n",
    "\n",
    "print(\"Memulai Asisten Rehabilitasi. Tekan 'ESC' untuk keluar.\")\n",
    "cap = cv2.VideoCapture(0)\n",
    "\n",
    "while cap.isOpened() and idx_workflow_step < len(WORKFLOW):\n",
    "    ok, frame = cap.read()\n",
    "    if not ok:\n",
    "        break\n",
    "\n",
    "    results_yolo = pose_model_workflow.predict(frame, verbose=False)\n",
    "    bgr = frame.copy()\n",
    "\n",
    "    keypoints_current_frame = extract_and_normalize_keypoints_inference(results_yolo[0], frame.shape)\n",
    "    keypoint_sequence_buffer_workflow.append(keypoints_current_frame)\n",
    "\n",
    "    predicted_full_label = \"None\"\n",
    "    predicted_base_action = \"None\"\n",
    "    predicted_sub_label = \"None\"\n",
    "    prediction_confidence = 0.0\n",
    "    \n",
    "    if len(keypoint_sequence_buffer_workflow) == SEQ_LEN and popup_phase is None:\n",
    "        seq_input = np.array(keypoint_sequence_buffer_workflow).reshape(1, SEQ_LEN, keypoints_current_frame.shape[0])\n",
    "        \n",
    "        seq_input_flat = seq_input.reshape(-1, keypoints_current_frame.shape[0])\n",
    "        seq_input_scaled = scaler.transform(seq_input_flat).reshape(1, SEQ_LEN, keypoints_current_frame.shape[0])\n",
    "        \n",
    "        prediction_probs = inference_model_workflow.predict(seq_input_scaled, verbose=0)\n",
    "        predicted_full_label_idx = np.argmax(prediction_probs)\n",
    "        prediction_confidence = np.max(prediction_probs)\n",
    "        \n",
    "        if prediction_confidence >= DETECT_THRESH_MAIN_MODEL:\n",
    "            predicted_full_label = LABELS_WORKFLOW[predicted_full_label_idx]\n",
    "            parts = predicted_full_label.split(' - ')\n",
    "            if len(parts) == 2:\n",
    "                predicted_base_action = parts[0]\n",
    "                predicted_sub_label = parts[1]\n",
    "            else:\n",
    "                predicted_base_action = predicted_full_label\n",
    "                predicted_sub_label = \"Tidak Diketahui\"\n",
    "\n",
    "    pop_up_message = \"\"\n",
    "    target_base_action = WORKFLOW[idx_workflow_step]\n",
    "\n",
    "    if popup_phase is None:\n",
    "        \n",
    "        remaining_time = EXER_TIME - int(time.time() - t_ex_start)\n",
    "        if remaining_time <= 0:\n",
    "            pop_up_message = f\"*** POP-UP: Gerakan '{target_base_action}' Gagal (Waktu Habis)! ***\"\n",
    "            score_workflow[target_base_action] = False\n",
    "            popup_phase = 'result'\n",
    "            remaining_time = 0\n",
    "\n",
    "        elif predicted_base_action == target_base_action:\n",
    "            frames_since_last_overall_detection = 0\n",
    "            current_base_action = target_base_action\n",
    "\n",
    "            # Langsung gunakan prediksi sub-label dari model\n",
    "            current_predicted_substage = predicted_sub_label\n",
    "\n",
    "            if current_predicted_substage == \"Sempurna\":\n",
    "                substage_confirm_counter += 1\n",
    "                pop_up_message = f\"'{target_base_action}': Gerakan Sempurna ({int(prediction_confidence*100)}%)\"\n",
    "            else:\n",
    "                substage_confirm_counter = 0\n",
    "                pop_up_message = f\"'{target_base_action}': Gerakan {current_predicted_substage} ({int(prediction_confidence*100)}%)\"\n",
    "\n",
    "            if current_predicted_substage == \"Sempurna\" and substage_confirm_counter >= CONFIRMATION_FRAMES_COMPLETE:\n",
    "                pop_up_message = f\"*** POP-UP: Gerakan '{target_base_action}' Berhasil Diselesaikan dengan Sempurna! ***\"\n",
    "                score_workflow[target_base_action] = True\n",
    "                popup_phase = 'result'\n",
    "\n",
    "        else:\n",
    "            frames_since_last_overall_detection += 1\n",
    "            if current_base_action != \"Idle\" and frames_since_last_overall_detection >= INACTIVITY_FRAMES_RESET:\n",
    "                pop_up_message = f\"*** POP-UP: Gerakan '{target_base_action}' Gagal (Tidak Ada Gerakan Terdeteksi)! ***\"\n",
    "                score_workflow[target_base_action] = False\n",
    "                popup_phase = 'result'\n",
    "                frames_since_last_overall_detection = 0\n",
    "            elif current_base_action == \"Idle\":\n",
    "                pop_up_message = \"Menunggu Gerakan...\"\n",
    "\n",
    "        cv2.rectangle(bgr, (0, 0), (640, 60), (0, 0, 0), -1)\n",
    "        cv2.putText(bgr,\n",
    "                    f'Aksi Target: {target_base_action}   |   Timer: {remaining_time:02d}s',\n",
    "                    (10, 25), FONT, 0.6, (255, 255, 255), 2)\n",
    "\n",
    "        det_txt = f\"Deteksi Model: '{predicted_full_label}' ({prediction_confidence*100:4.1f}%)\"\n",
    "        cv2.putText(bgr, det_txt, (10, 50), FONT, 0.6, (0, 255, 255), 2)\n",
    "\n",
    "        cv2.rectangle(bgr, (0, 440), (640, 480), (0, 0, 0), -1)\n",
    "        cv2.putText(bgr, f'Status Workflow: {current_predicted_substage}', (10, 470), FONT, 0.7, (0, 255, 255), 2)\n",
    "        \n",
    "        if results_yolo[0].keypoints is not None and len(results_yolo[0].keypoints.xy) > 0:\n",
    "            annotated_frame = results_yolo[0].plot()\n",
    "            bgr = annotated_frame\n",
    "        \n",
    "        cv2.imshow('Rehab-Assist', bgr)\n",
    "        key = cv2.waitKey(1) & 0xFF\n",
    "        if key == 27:\n",
    "            break\n",
    "\n",
    "    if popup_phase is not None:\n",
    "        key = cv2.waitKey(10) & 0xFF\n",
    "        \n",
    "        if popup_phase == 'result':\n",
    "            cv2.rectangle(bgr, (40, 140), (600, 270), (0, 0, 0), -1)\n",
    "            cv2.putText(bgr,\n",
    "                        f\"Gerakan '{target_base_action}' : \" + ('BERHASIL' if score_workflow[target_base_action] else 'GAGAL'),\n",
    "                        (60, 190), FONT, 0.8, (255, 255, 255), 2)\n",
    "\n",
    "            if idx_workflow_step + 1 < len(WORKFLOW):\n",
    "                cv2.putText(bgr, 'Tekan ENTER untuk lanjut',\n",
    "                            (60, 230), FONT, 0.7, (0, 255, 255), 2)\n",
    "            else:\n",
    "                cv2.putText(bgr, 'Sesi selesai, tekan ESC untuk keluar',\n",
    "                            (60, 230), FONT, 0.7, (0, 255, 255), 2)\n",
    "\n",
    "            cv2.imshow('Rehab-Assist', bgr)\n",
    "            if key in (13, 10):\n",
    "                popup_phase = 'prep'\n",
    "                popup_start = time.time()\n",
    "                current_base_action = \"Idle\"\n",
    "                current_predicted_substage = \"Menunggu Gerakan...\"\n",
    "                main_action_counter = 0\n",
    "                substage_confirm_counter = 0\n",
    "                frames_since_last_overall_detection = 0\n",
    "                keypoint_sequence_buffer_workflow.clear()\n",
    "\n",
    "        elif popup_phase == 'prep':\n",
    "            elap = time.time() - popup_start\n",
    "            cnt = POPUP_TIME - int(elap)\n",
    "\n",
    "            cv2.rectangle(bgr, (40, 140), (600, 270), (0, 0, 0), -1)\n",
    "            cv2.putText(bgr, f\"Siapkan gerakan : '{WORKFLOW[idx_workflow_step+1]}'\",\n",
    "                        (60, 190), FONT, 0.7, (255, 255, 255), 2)\n",
    "            cv2.putText(bgr, f\"Mulai dalam {cnt:02d} dtk\",\n",
    "                        (60, 230), FONT, 0.9, (0, 255, 255), 2)\n",
    "\n",
    "            cv2.imshow('Rehab-Assist', bgr)\n",
    "            if elap >= POPUP_TIME:\n",
    "                idx_workflow_step += 1\n",
    "                t_ex_start = time.time()\n",
    "                popup_phase = None\n",
    "\n",
    "        if key == 27:\n",
    "            break\n",
    "\n",
    "cap.release()\n",
    "cv2.destroyAllWindows()\n",
    "\n",
    "\n"
   ]
  },
  {
   "cell_type": "code",
   "execution_count": null,
   "metadata": {},
   "outputs": [
    {
     "name": "stdout",
     "output_type": "stream",
     "text": [
      "Skor akhir:\n",
      "Angkat Tangan            : ✗\n"
     ]
    }
   ],
   "source": [
    "# --- 7. Inferensi Model - b. Inferensi Lanjutan (Skor Akhir) ---\n",
    "print('\\n--- Skor Akhir Sesi Rehabilitasi ---')\n",
    "for act in WORKFLOW:\n",
    "    status = \"✓\" if score_workflow.get(act) else \"✗\"\n",
    "    print(f'{act:<25}: {status}')"
   ]
  }
 ],
 "metadata": {
  "kaggle": {
   "accelerator": "none",
   "dataSources": [
    {
     "datasetId": 7513841,
     "sourceId": 11951552,
     "sourceType": "datasetVersion"
    },
    {
     "modelId": 355971,
     "modelInstanceId": 334950,
     "sourceId": 410154,
     "sourceType": "modelInstanceVersion"
    }
   ],
   "dockerImageVersionId": 31040,
   "isGpuEnabled": false,
   "isInternetEnabled": true,
   "language": "python",
   "sourceType": "notebook"
  },
  "kernelspec": {
   "display_name": "coba",
   "language": "python",
   "name": "python3"
  },
  "language_info": {
   "codemirror_mode": {
    "name": "ipython",
    "version": 3
   },
   "file_extension": ".py",
   "mimetype": "text/x-python",
   "name": "python",
   "nbconvert_exporter": "python",
   "pygments_lexer": "ipython3",
   "version": "3.10.9"
  }
 },
 "nbformat": 4,
 "nbformat_minor": 4
}
